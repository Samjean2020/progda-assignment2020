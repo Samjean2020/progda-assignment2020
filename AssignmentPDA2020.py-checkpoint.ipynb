{
 "cells": [
  {
   "cell_type": "markdown",
   "metadata": {},
   "source": [
    "#         Practical Assignment\n",
    "##  Programming for Data Analysis\n",
    "### Due: last commit on or before November 22nd \n"
   ]
  },
  {
   "cell_type": "markdown",
   "metadata": {},
   "source": [
    "These are my solutions to the tasks included in this assignment. The author is Jean Bonsenge (G00387887@gmit.ie)\n"
   ]
  },
  {
   "cell_type": "markdown",
   "metadata": {},
   "source": [
    "## Problem statement\n"
   ]
  },
  {
   "cell_type": "markdown",
   "metadata": {},
   "source": [
    "The following assignment concerns the numpy.random package in Python [2]. You are required to create a Jupyter [5] notebook explaining the use of the package, including detailed explanations of at least five of the distributions provided for in the package. There are four distinct tasks to be carried out in your Jupyter notebook.\n",
    "1. Explain the overall purpose of the package.\n",
    "2. Explain the use of the “Simple random data” and “Permutations” functions.\n",
    "3. Explain the use and purpose of at least five “Distributions” functions.\n",
    "4. Explain the use of seeds in generating pseudorandom numbers.\n"
   ]
  },
  {
   "cell_type": "markdown",
   "metadata": {},
   "source": [
    "## Introduction \n",
    "\n",
    "For the purpose of this assignment, I am required to provide a less robotic version of numpy.random package and its functions as specified in the problem statement. "
   ]
  },
  {
   "cell_type": "markdown",
   "metadata": {},
   "source": [
    "## References "
   ]
  },
  {
   "cell_type": "markdown",
   "metadata": {},
   "source": [
    "Hayes A. (2020) “Simple Random Sample”:  https://www.investopedia.com/terms/s/simple-random-sample.asp\n",
    "\n",
    "Javatpoint (2020) “Numpy.random () in Python”: https://www.javatpoint.com/numpy-random\n",
    "\n",
    "Jupyter.org (2020) “The Jupyter Notebook”: https://jupyter.org/\n",
    "\n",
    "Matplotlib.org(2020) ” matplotlib” :\n",
    "https://matplotlib.org/3.1.1/api/_as_gen/matplotlib.pyplot.html\n",
    "\n",
    "McKinney W. (2018) “Python for Data Analysis: Data Wrangling With Pandas, NumPy, And IPython” 2nd Edition (Sebastopol: O’Reilly) \n",
    "\n",
    "Numpy.org (2020) “numpy”: https://numpy.org/\n",
    "\n",
    "NumPy.org (2020) “Random Generator”:  https://numpy.org/doc/stable/reference/random/generator.html\n",
    "\n",
    "O’Neill M.E (2020) “Melissa O'Neill's Homepage”: https://www.cs.hmc.edu/~oneill/\n",
    "\n",
    "\n",
    "O'Neill M.E (2014) “PCG: A Family of Simple Fast Space-Efficient Statistically Good Algorithms for Random Number Generation” https://www.pcg-random.org/pdf/hmc-cs-2014-0905.pdf\n",
    "\n",
    "Pandas (2020) “ pandas”: https://pandas.pydata.org/\n",
    "\n",
    "Pcg-random.org (2020) “PCG, A Family of Better Random Number Generators”:https://www.pcg-random.org/index.html\n",
    "\n",
    "PYnative (2020)\"Python random.seed() function to initialize the pseudo-random number generator\": https://pynative.com/python-random-seed/\n",
    "\n",
    "Sharp Sight (2019) \"NUMPY RANDOM SEED EXPLAINED\": https://www.sharpsightlabs.com/blog/numpy-random-seed/\n",
    "\n",
    "Seaborn (2020) “seaborn: statistical data visualization”: https://seaborn.pydata.org\n",
    "\n",
    "SciPy.org (2020) “ numpy.random.RandomState” : https://docs.scipy.org/doc/numpy-1.15.0/reference/generated/numpy.random.RandomState.html\n",
    "\n",
    "The Scipy Community (2014)”Random sampling (numpy.random)”: https://het.as.utexas.edu/HET/Software/Numpy/reference/routines.random.html\n",
    "\n"
   ]
  },
  {
   "cell_type": "markdown",
   "metadata": {},
   "source": [
    "## Development "
   ]
  },
  {
   "cell_type": "markdown",
   "metadata": {},
   "source": [
    "### 1. Explain the overall purpose of the package. \n",
    "\n",
    "#### A definition of Random sampling (numpy.random):\n",
    "\n",
    "Random sampling (numpy.random) is a package included in the NumPy library in Python. Numpy.random possesses functions capable of generating random numbers (Javatpoint, 2020). The versions of this module, I consulted (Numpyv.1.19, and Numpyv.1.20) are structured in four compartments: simple random data, permutations, distribution and random generator (het.as.utexa, 2014) (numpy.org, 2020). Each numpy.random structure subfunction and indicative example are set as follows:"
   ]
  },
  {
   "cell_type": "markdown",
   "metadata": {},
   "source": [
    "#### \tSimple random data\n",
    "\n",
    "A simple random data can be defined as a subgroup of a statistical entity in which each element of the subgroup has an equal probability of being selected (Hayes, 2020).\n",
    "\n",
    "##### numpy.random.rand(d0, d1, ..., dn)\n",
    "Random values in a given shape. Create an array of the given shape and propagate it with random samples from a uniform distribution over [0, 1]. https://numpy.org/devdocs/reference/random/generated/numpy.random.rand.html\n"
   ]
  },
  {
   "cell_type": "code",
   "execution_count": 1,
   "metadata": {
    "scrolled": false
   },
   "outputs": [
    {
     "data": {
      "text/plain": [
       "array([[0.88696584, 0.42288513],\n",
       "       [0.38038529, 0.44575811],\n",
       "       [0.72049407, 0.45188104]])"
      ]
     },
     "execution_count": 1,
     "metadata": {},
     "output_type": "execute_result"
    }
   ],
   "source": [
    "import numpy as np\n",
    "np.random.rand (3, 2)"
   ]
  },
  {
   "cell_type": "markdown",
   "metadata": {},
   "source": [
    "#### \tPermutations\n",
    "###### numpy.random.shuffle(x)\n",
    "Modify a sequence in-place by shuffling its contents.\n",
    "This function only shuffles the array along the first index of a multi-dimensional array:\n",
    "https://numpy.org/devdocs/reference/random/generated/numpy.random.shuffle.html"
   ]
  },
  {
   "cell_type": "code",
   "execution_count": 2,
   "metadata": {
    "scrolled": false
   },
   "outputs": [],
   "source": [
    "import numpy as np\n",
    "arr = np.arange(10)\n",
    "np.random.shuffle(arr)"
   ]
  },
  {
   "cell_type": "code",
   "execution_count": 3,
   "metadata": {
    "scrolled": false
   },
   "outputs": [
    {
     "data": {
      "text/plain": [
       "array([8, 3, 7, 9, 5, 1, 0, 4, 6, 2])"
      ]
     },
     "execution_count": 3,
     "metadata": {},
     "output_type": "execute_result"
    }
   ],
   "source": [
    "arr\n"
   ]
  },
  {
   "cell_type": "code",
   "execution_count": 4,
   "metadata": {
    "scrolled": false
   },
   "outputs": [
    {
     "data": {
      "text/plain": [
       "array([ 3,  7,  2,  6, 11,  0,  8, 10,  9,  1,  5,  4])"
      ]
     },
     "execution_count": 4,
     "metadata": {},
     "output_type": "execute_result"
    }
   ],
   "source": [
    "# This function is used for modifying a sequence in-place by shuffling its contents.\n",
    "# Available at: https://www.javatpoint.com/numpy-random\n",
    "\n",
    "import numpy as np  \n",
    "a=np.arange(12)  \n",
    "a  \n",
    "np.random.shuffle(a)  \n",
    "a  \n"
   ]
  },
  {
   "cell_type": "markdown",
   "metadata": {},
   "source": [
    "#### \tDistribution\n",
    "###### numpy.random.dirichlet(alpha, size=None)\n",
    "Draw samples from the Dirichlet distribution.\n",
    "Draw size samples of dimension k from a Dirichlet distribution. A Dirichlet-distributed random variable can be seen as a multivariate generalization of a Beta distribution. Dirichlet pdf is the conjugate prior of a multinomial in Bayesian inference.\n",
    "https://numpy.org/devdocs/reference/random/generated/numpy.random.dirichlet.html"
   ]
  },
  {
   "cell_type": "code",
   "execution_count": 7,
   "metadata": {
    "scrolled": false
   },
   "outputs": [
    {
     "data": {
      "image/png": "[encoded data removed]",
      "text/plain": [
       "<Figure size 432x288 with 1 Axes>"
      ]
     },
     "metadata": {
      "needs_background": "light"
     },
     "output_type": "display_data"
    }
   ],
   "source": [
    "import numpy as np\n",
    "import matplotlib.pyplot as plt\n",
    "s = np.random.dirichlet((10, 5, 3), 20).transpose()\n",
    "\n",
    "plt.barh(range(20), s[0])\n",
    "plt.barh(range(20), s[1], left=s[0], color='g')\n",
    "plt.barh(range(20), s[2], left=s[0]+s[1], color='r')\n",
    "plt.title(\"Lengths of Strings\")\n",
    "plt.style.use(\"ggplot\")\n",
    "plt.show()"
   ]
  },
  {
   "cell_type": "markdown",
   "metadata": {},
   "source": [
    "##### numpy.random.RandomState.pareto \n",
    "##### RandomState.pareto(a, size=None)\n",
    "\n",
    "Draw samples from a Pareto II or Lomax distribution with specified shape.\n",
    "Draw samples from the distribution:\n",
    "https://numpy.org/devdocs/reference/random/generated/numpy.random.RandomState.pareto.html"
   ]
  },
  {
   "cell_type": "code",
   "execution_count": 9,
   "metadata": {
    "scrolled": true
   },
   "outputs": [
    {
     "name": "stdout",
     "output_type": "stream",
     "text": [
      "[1.07105578 1.01562038 1.24078779 1.21500184 1.44642754 4.05389481\n",
      " 1.10263162 1.05591448 1.55221182 1.53093771 1.7713955  1.27199207\n",
      " 1.99868373 1.17503698 1.03467606 1.37358236 1.33479273 1.24202837\n",
      " 1.00092358 1.43459826 1.36346927 1.16242988 1.88531814 1.09987684\n",
      " 1.14424802 1.4028539  1.23993661 1.09784306 1.46492714 1.59199533\n",
      " 1.21934422 1.18759338 1.93551634 1.51058555 1.01719431 1.43457589\n",
      " 1.38954555 1.33513115 1.04001123 1.04386074 1.02176498 1.22795876\n",
      " 1.1370067  1.00291639 2.76295601 2.42637105 1.22161754 1.77603582\n",
      " 1.0376143  1.04766467 1.23148257 1.00042535 1.77388861 1.93659561\n",
      " 1.20170692 1.83935722 1.20311457 1.01417007 1.0958019  1.16969764\n",
      " 1.102242   1.19001046 1.88579139 2.54203986 1.04672821 1.13744091\n",
      " 1.40820266 1.21492713 1.39022536 1.92429235 1.14546246 1.0018716\n",
      " 1.08049586 2.00891233 1.78227341 1.1328844  1.23134806 1.06448763\n",
      " 1.71507438 1.19824162 1.37785244 1.12533224 1.14721321 1.01151962\n",
      " 1.08069903 1.14151241 1.43152217 1.66295242 2.16579628 1.38241903\n",
      " 1.37457742 2.36052792 1.1920751  1.29512631 1.2034995  1.39779216\n",
      " 1.07430721 1.38130065 1.07295868 2.00374307 1.04902343 1.1554178\n",
      " 1.45202651 1.27186582 1.53660165 1.21648107 1.10251612 1.17381559\n",
      " 1.0304028  2.94579008 1.25729107 1.08766337 1.05487144 1.14114792\n",
      " 1.06637927 1.05015442 1.05553658 1.2199168  1.59156189 1.03314297\n",
      " 1.05468307 1.24458513 1.80133557 1.15253285 1.24576568 1.01225657\n",
      " 3.69943804 1.2581089  1.49093664 1.59392834 1.16659331 1.72930257\n",
      " 1.94049885 1.08900225 1.38913694 2.01966031 1.81062831 1.0512104\n",
      " 1.11270125 1.58737229 1.16798313 1.33249192 1.1024582  1.04143558\n",
      " 1.12081017 1.53023534 1.53603849 1.0912524  1.18369932 1.09212342\n",
      " 1.25260031 1.03641836 1.03662417 1.46928853 1.82382228 1.18283386\n",
      " 1.54588422 1.11357661 1.21302273 1.00394409 1.37098924 2.57116035\n",
      " 2.31697077 1.27910175 1.04310866 1.61676875 1.02363551 1.03808\n",
      " 2.11848785 1.0692883  1.74537978 1.07996884 1.36586169 1.38474231\n",
      " 1.64935727 1.33941755 2.7541897  1.01746755 1.03590915 1.04977445\n",
      " 1.2407071  4.79464501 1.03196753 2.51576999 1.42565427 1.50231173\n",
      " 1.16475246 1.56461338 1.40897949 1.00861883 1.63088227 1.04219884\n",
      " 1.0134881  2.51280049 1.23377347 1.12273112 1.0026286  1.62376063\n",
      " 1.01442927 1.34265536 1.10664367 1.09603525 1.44379674 1.3426321\n",
      " 2.30283486 1.24918214 1.35920267 1.32813288 1.49074949 2.69432184\n",
      " 1.86312251 1.02509505 1.18885856 1.07373302 1.34801416 1.47943946\n",
      " 1.34132302 1.05517319 1.0907048  4.141562   1.80758527 1.26672646\n",
      " 1.12468177 1.30547376 1.00349621 1.14789811 1.04834281 1.18319186\n",
      " 1.09354522 1.33144862 1.30863937 1.2765166  1.61864035 1.07628253\n",
      " 1.21247135 1.07913794 1.47820206 1.50582359 1.06774734 1.06601269\n",
      " 1.67475322 1.4825739  1.10634147 1.02828943 1.06980596 1.30079023\n",
      " 1.84141288 1.4959148  1.21080664 1.17619626 1.50347997 1.13454562\n",
      " 1.09902387 1.01179934 1.32398916 1.02077594 2.22847742 1.07724696\n",
      " 1.07372934 1.08849608 1.29180903 1.02938007 1.1805868  1.2045744\n",
      " 1.07265922 1.68712772 1.72563861 1.11178953 1.15130499 1.63564325\n",
      " 1.19076724 1.97108894 2.41136099 1.16543318 1.32544626 1.16073512\n",
      " 1.33331697 2.82106591 1.25184249 1.02654523 1.45190508 1.48420978\n",
      " 1.28987231 2.04419452 1.89482226 1.13972611 1.13225259 1.09564921\n",
      " 1.57091813 3.44605437 1.09460662 1.33393964 1.65053893 2.852079\n",
      " 1.46273906 1.15257177 1.27580436 1.67404471 1.91446297 1.10351978\n",
      " 1.56396207 2.14579083 1.06528624 1.32291064 1.14555718 1.03500316\n",
      " 1.51138436 1.48487863 1.13157546 1.68672939 2.19495699 2.65712262\n",
      " 1.08573424 1.0995447  1.28528377 1.51569135 1.47959311 1.32186217\n",
      " 1.38879444 1.80400316 1.19293834 1.75097683 1.09311289 1.16035684\n",
      " 2.68704469 1.04675231 1.30602167 1.11369766 1.96678047 1.4541554\n",
      " 1.0463188  2.22789886 1.21796243 1.02185323 1.00374079 1.08449138\n",
      " 1.78188832 2.2051948  1.5315264  1.19347804 1.09116913 1.08137993\n",
      " 1.34188759 1.49080892 1.01617939 1.13783632 1.09870651 1.01159758\n",
      " 1.66488669 1.17308538 1.47190816 1.63834109 1.00685214 1.62547651\n",
      " 1.335483   1.16689292 1.06229134 1.30337692 1.04207657 1.26143819\n",
      " 1.07755557 1.45896032 1.13524437 1.02010065 2.05860981 1.45971074\n",
      " 1.49111395 1.07017815 1.81411449 2.50357157 1.06496295 1.84353005\n",
      " 1.33749958 1.15426491 1.78978313 1.42318321 1.01795842 2.35087583\n",
      " 2.07786072 1.11536674 1.87785267 1.38624965 1.00882197 1.48383659\n",
      " 1.02402196 1.25881971 1.26483271 1.17273886 1.00692153 1.16412805\n",
      " 1.34460272 3.91092391 1.64175226 1.3561904  1.11310645 1.22794531\n",
      " 2.0745607  1.21478845 1.16032105 1.03299233 1.06387205 1.04766316\n",
      " 1.83009621 1.07478606 1.04759828 1.26650777 1.19542955 1.09453839\n",
      " 1.40125895 1.03163627 1.29623648 1.06813134 1.04150506 1.29896014\n",
      " 1.01744922 1.53545486 2.04885339 1.09187291 1.12660586 2.5048959\n",
      " 1.56318271 4.89318763 1.29754702 2.04655527 1.3637059  1.2441981\n",
      " 1.1532889  2.44070627 1.27248932 1.41389824 1.06827283 1.36627433\n",
      " 1.24019241 1.24064715 2.16699587 1.08110551 2.26681638 1.32444621\n",
      " 1.18212883 1.27369666 1.40049012 1.01518542 1.13753646 1.19014243\n",
      " 1.28326303 1.03429958 1.05539891 1.12612188 1.71603022 1.22012598\n",
      " 1.59512873 1.13494792 3.11727144 1.51394712 1.57243239 1.11372085\n",
      " 1.91236141 1.22951027 1.01073054 1.03709123 1.1678292  1.79123711\n",
      " 2.90258588 4.07903413 1.41107949 1.34685883 1.02381863 2.79812846\n",
      " 1.14459153 1.01137852 1.27042498 2.63331842 1.33311243 1.02307626\n",
      " 1.76732626 1.29082635 1.63361139 1.09333278 1.30861325 1.20944722\n",
      " 1.88643531 1.02950322 1.09481611 1.38933301 1.06413915 1.06325741\n",
      " 1.31795478 1.19950426 1.25566122 2.05946823 1.40245116 1.20891916\n",
      " 1.54207212 1.03034989 1.85517085 1.23165369 1.0584239  1.11036508\n",
      " 2.17463217 1.04850511 1.13245303 1.50408363 3.5476661  1.15210505\n",
      " 3.22026451 1.30124606 1.03395865 1.12932702 1.51019025 1.07213917\n",
      " 1.11394916 1.05802004 1.5121843  1.06734965 1.22169772 1.50195276\n",
      " 1.12877304 1.17195019 1.3344725  1.57359781 1.87108238 1.21522562\n",
      " 1.55704617 1.14098847 1.48638944 1.05430215 1.1816315  1.1369491\n",
      " 1.27051929 1.61101749 1.18718344 2.12896158 1.85536512 1.06468903\n",
      " 1.11320388 3.88564922 1.14911079 1.16285426 2.07078515 1.19228391\n",
      " 1.57832098 1.04077054 1.14877418 1.67531941 1.13149157 1.10067631\n",
      " 1.33384179 1.14126893 1.09037489 1.03338359 1.29763502 1.01906303\n",
      " 1.33750363 1.03972999 1.0564302  2.1616605  1.40123203 2.07103607\n",
      " 1.3440596  1.1451597  1.55939396 1.64625983 1.32004985 1.03342871\n",
      " 1.13216234 2.19175515 1.47237913 1.02476432 1.55505767 1.32978379\n",
      " 1.60121044 1.43550272 1.14061896 1.26047716 1.26223282 1.85786714\n",
      " 4.6466204  1.02603186 2.02595055 1.20161175 1.32108514 1.09349692\n",
      " 1.15785679 1.43538171 1.64098627 2.38848948 1.01497297 1.15181495\n",
      " 1.38687526 1.22038389 1.41703509 1.12140496 1.76814586 1.14492326\n",
      " 1.10126653 2.16727466 1.46154885 2.10091759 2.18916204 1.03961956\n",
      " 1.27444596 1.38475907 1.83447506 1.3043551  1.39606959 1.54612498\n",
      " 1.15509961 1.10592311 2.01935777 1.27886656 1.54456565 1.00400119\n",
      " 2.41955087 1.31232368 1.3396784  2.33456578 1.90256265 1.01458906\n",
      " 1.65777553 1.3641379  1.86156374 1.86151583 1.01955482 1.40171436\n",
      " 1.0256609  1.14353062 1.52410974 1.07173905 1.37584946 1.01392544\n",
      " 1.13154824 1.1795639  1.09347989 1.39562611 1.31312748 1.3691588\n",
      " 1.17094023 1.74076525 1.12703416 1.33223248 3.32225902 1.40303853\n",
      " 1.13846608 1.51917429 1.5887025  1.17546217 1.05559122 1.7679458\n",
      " 1.18166784 1.51806835 3.30806267 1.01626144 1.17578962 1.26512324\n",
      " 3.65032137 1.71449169 1.16809411 1.15086464 1.01582431 1.0608476\n",
      " 1.34984803 1.03974992 1.5469487  1.1787589  1.22869617 1.02171772\n",
      " 1.37049141 1.23119808 1.03456046 1.73347431 1.16005588 1.05472584\n",
      " 2.22380088 1.12788592 2.95075085 1.18315941 1.52182157 1.07766338\n",
      " 1.17490896 1.27978004 3.630849   1.0410371  4.00203567 1.3754846\n",
      " 2.27949364 1.15388713 1.3362403  1.10899645 1.0359953  1.06518019\n",
      " 1.00623753 6.12304381 1.00372703 1.42136449 1.17819098 1.00257051\n",
      " 1.31895147 2.4561669  2.28405881 1.23180822 1.23680225 1.63403575\n",
      " 4.42495871 1.08940164 1.38132463 1.85264276 1.08854532 1.00587305\n",
      " 1.11098184 1.28428994 1.02153621 1.58970987 1.0890387  1.20681041\n",
      " 1.09606821 1.20244506 1.0024264  1.5746911  1.95626245 1.1666742\n",
      " 1.40642963 1.09969799 1.42809625 1.11459291 1.26179516 1.39725769\n",
      " 1.38012907 1.11173745 2.49459517 1.33432876 1.05756153 1.22886696\n",
      " 1.16526261 2.22821856 1.0815801  1.08993857 1.192294   1.3939692\n",
      " 2.23177508 5.39086608 1.42782673 1.02219622 1.27583809 1.4272545\n",
      " 1.1366627  1.23685908 1.24719903 1.82173235 1.02315175 2.14004151\n",
      " 1.16372646 1.08261511 1.44694742 1.01892425 1.58801162 1.07516297\n",
      " 1.00439796 1.49006391 2.3727789  1.261752   1.05387326 1.03704947\n",
      " 1.21058252 1.07172531 1.34660332 3.79998347 1.11712278 1.02274758\n",
      " 1.200633   1.36876458 1.1346789  1.3795267  1.57939372 2.11163471\n",
      " 1.00412882 2.6022327  3.51017614 1.4967338  1.22232324 1.01044282\n",
      " 1.26488809 1.31656235 1.16830235 1.45222607 1.01409565 1.10915158\n",
      " 1.02248325 1.78588136 1.44870108 1.58140294 1.42125793 1.18743476\n",
      " 1.60629987 1.11272723 1.16262811 1.34462938 1.27439486 1.1731023\n",
      " 1.17304774 1.23249104 1.11493636 1.32821023 1.50630736 1.77679997\n",
      " 3.33586159 1.12441658 1.82634898 1.64674344 1.06539981 1.77590625\n",
      " 3.04006931 2.20805954 1.69283272 1.39579978 1.251259   1.25179637\n",
      " 1.50119144 1.54557984 1.51264458 2.2021353  1.16826923 1.41283849\n",
      " 1.47712638 1.10631596 1.41037406 1.19167394 1.02704341 1.25486146\n",
      " 1.47501585 1.20039391 1.11820137 1.73109994 1.16882858 1.24527721\n",
      " 1.38454848 1.05891747 1.0262766  1.04917068 1.55877228 1.10827238\n",
      " 1.16976515 1.31195411 1.05209296 2.01607569 1.77139633 1.79043084\n",
      " 1.27969971 1.61104035 1.12955887 1.32753859 1.4414437  1.90966053\n",
      " 1.71714082 1.18353761 1.42794211 1.19363197 1.16446346 1.16963744\n",
      " 1.37199959 1.0557552  1.08202462 1.29953722 1.28530683 1.15214173\n",
      " 1.36882525 1.61032882 1.2448178  1.06335294 1.12092481 1.02095557\n",
      " 1.5747245  1.22136969 1.00838571 1.15549222 9.65907567 1.06668994\n",
      " 1.07510083 1.00028035 1.07651859 1.11611075 2.40930789 1.17474134\n",
      " 1.16781571 1.1848636  1.03542165 2.04941603 1.18554963 1.29891301\n",
      " 1.54625723 2.19384202 1.48577252 1.68531623 1.16768547 3.25732078\n",
      " 1.12667318 1.19223404 1.52579535 1.30640506 1.78137887 1.10259703\n",
      " 1.30202104 2.15006626 1.36154721 1.4125429  1.03665485 1.58184492\n",
      " 1.19491345 1.01152346 1.22214679 1.39881607 1.56303739 1.08049192\n",
      " 1.48924137 1.27736918 1.51863443 1.42739638 2.2283279  1.06651366\n",
      " 1.03160838 1.89927667 1.17948459 1.04077091 1.02979871 1.10024554\n",
      " 1.17289832 2.13814226 1.06591444 1.02870278 1.04999213 3.59527031\n",
      " 1.33795521 1.20072093 1.06498478 1.14791646 1.0806362  1.12855476\n",
      " 1.11689992 1.29525775 3.79217178 1.05670005 1.42575326 1.83553483\n",
      " 1.0841087  1.03897626 1.0875004  1.41067391 2.02018551 1.03953103\n",
      " 1.08685012 1.59293285 1.05481039 1.32398062 1.17501249 1.50145075\n",
      " 1.09351602 2.42687292 2.08725472 1.47166329 2.53719007 1.39166136\n",
      " 1.57533765 1.05702435 1.55423797 1.10349951 1.31223121 1.57589392\n",
      " 1.20145539 1.03036499 1.24601973 2.11333903 1.38394257 1.00626863\n",
      " 1.04567656 1.1060471  1.24862048 1.2440832  1.0887012  1.10124176\n",
      " 1.33943436 1.90579305 1.25789255 1.48257396 1.81670737 1.56118777\n",
      " 1.33980717 1.2662323  1.09982085 1.06984309 1.31150546 1.11632821\n",
      " 1.03844972 1.25127799 1.4638977  3.25022379 2.32051703 1.08043092\n",
      " 1.11724757 1.22263841 1.95397379 1.05696149]\n"
     ]
    }
   ],
   "source": [
    "import numpy as np\n",
    "a, m = 3., 1. # shape and mode\n",
    "s = np.random.pareto(a, 1000) + m\n",
    "print(s)"
   ]
  },
  {
   "cell_type": "code",
   "execution_count": null,
   "metadata": {
    "scrolled": false
   },
   "outputs": [],
   "source": [
    "# Display the histogram of the samples, along with the probability density function:"
   ]
  },
  {
   "cell_type": "code",
   "execution_count": 10,
   "metadata": {},
   "outputs": [
    {
     "data": {
      "image/png": "[encoded data removed]",
      "text/plain": [
       "<Figure size 432x288 with 1 Axes>"
      ]
     },
     "metadata": {},
     "output_type": "display_data"
    }
   ],
   "source": [
    "import matplotlib.pyplot as plt\n",
    "import numpy as np\n",
    "a, m = 3., 1. # shape and mode\n",
    "s = np.random.pareto(a, 1000) + m\n",
    "count, bins, ignored = plt.hist(s, 100, density=True, align='left')\n",
    "fit = a*m**a/bins**(a+1)\n",
    "plt.plot(bins, max(count)*fit/max(fit),linewidth=2, color='b')\n",
    "plt.style.use(\"ggplot\")\n",
    "plt.show()\n"
   ]
  },
  {
   "cell_type": "markdown",
   "metadata": {},
   "source": [
    "<cr>"
   ]
  },
  {
   "cell_type": "markdown",
   "metadata": {},
   "source": [
    "### 2. Explain the use of the “Simple random data” and “Permutations” functions. "
   ]
  },
  {
   "cell_type": "markdown",
   "metadata": {},
   "source": [
    "### 2.1 Simple random data functions"
   ]
  },
  {
   "cell_type": "markdown",
   "metadata": {},
   "source": [
    "#### 2.1.1 numpy.random.randint\n",
    "numpy.random.randint(low, high=None, size=None).\n",
    "Return random integers from low (inclusive) to high (exclusive).Return random integers from the “discrete uniform” distribution of the specified dtype in the “half-open” interval [low, high). If high is None (the default), then results are from [0, low).\n",
    "https://numpy.org/devdocs/reference/random/generated/numpy.random.randint.html"
   ]
  },
  {
   "cell_type": "code",
   "execution_count": 11,
   "metadata": {
    "scrolled": false
   },
   "outputs": [
    {
     "data": {
      "text/plain": [
       "array([1, 1, 0, 0, 0, 0, 1, 1, 1, 1])"
      ]
     },
     "execution_count": 11,
     "metadata": {},
     "output_type": "execute_result"
    }
   ],
   "source": [
    "import numpy as np\n",
    "# Generate an array of ten ints betwwen 0 and 2 exclusive:\n",
    "np.random.randint(2, size=10)\n"
   ]
  },
  {
   "cell_type": "code",
   "execution_count": 12,
   "metadata": {
    "scrolled": false
   },
   "outputs": [
    {
     "data": {
      "text/plain": [
       "array([0, 0, 0, 0, 0, 0, 0, 0, 0, 0])"
      ]
     },
     "execution_count": 12,
     "metadata": {},
     "output_type": "execute_result"
    }
   ],
   "source": [
    "# Generate an array of ten ints betwwen 0 and 1 exclusive:\n",
    "np.random.randint(1, size=10)\n"
   ]
  },
  {
   "cell_type": "code",
   "execution_count": 13,
   "metadata": {
    "scrolled": false
   },
   "outputs": [
    {
     "data": {
      "text/plain": [
       "array([[3, 2, 3, 1],\n",
       "       [1, 4, 3, 3]])"
      ]
     },
     "execution_count": 13,
     "metadata": {},
     "output_type": "execute_result"
    }
   ],
   "source": [
    "# Generate a 2 x 4 array of ints between 0 and 4, inclusive:\n",
    "np.random.randint(5, size=(2, 4))"
   ]
  },
  {
   "cell_type": "code",
   "execution_count": 14,
   "metadata": {
    "scrolled": false
   },
   "outputs": [
    {
     "name": "stdout",
     "output_type": "stream",
     "text": [
      "3\n"
     ]
    }
   ],
   "source": [
    "import random\n",
    "print(np.random.randint(1, 5 + 1))"
   ]
  },
  {
   "cell_type": "code",
   "execution_count": null,
   "metadata": {
    "scrolled": false
   },
   "outputs": [],
   "source": [
    "# Roll two six sided dice 1000 times and sum the results:"
   ]
  },
  {
   "cell_type": "code",
   "execution_count": 17,
   "metadata": {
    "scrolled": false
   },
   "outputs": [
    {
     "data": {
      "text/plain": [
       "10"
      ]
     },
     "execution_count": 17,
     "metadata": {},
     "output_type": "execute_result"
    }
   ],
   "source": [
    "import numpy as np\n",
    "\n",
    "d1 = np.random.randint(1, 6 + 1)\n",
    "d2 = np.random.randint(1, 6 + 1)\n",
    "dsums = d1 + d2\n",
    "dsums"
   ]
  },
  {
   "cell_type": "code",
   "execution_count": null,
   "metadata": {
    "scrolled": false
   },
   "outputs": [],
   "source": [
    "# Display results as a histogram:"
   ]
  },
  {
   "cell_type": "code",
   "execution_count": 19,
   "metadata": {
    "scrolled": false
   },
   "outputs": [
    {
     "data": {
      "image/png": "[encoded data removed]",
      "text/plain": [
       "<Figure size 432x288 with 1 Axes>"
      ]
     },
     "metadata": {},
     "output_type": "display_data"
    }
   ],
   "source": [
    "import numpy as np\n",
    "import matplotlib.pyplot as plt\n",
    "import seaborn as sns\n",
    "d1 = np.random.randint(1, 6 + 1)\n",
    "d2 = np.random.randint(1, 6 + 1)\n",
    "dsums = d1 + d2\n",
    "count, bins, ignored = plt.hist(dsums, 10)\n",
    "plt.style.use(\"ggplot\")\n",
    "plt.show()\n"
   ]
  },
  {
   "cell_type": "markdown",
   "metadata": {},
   "source": [
    "#### 2.1.2 random_sample([size]) \n",
    "#### numpy.random.random_sample(size=None)\n",
    "\n",
    "Return random floats in the half-open interval [0.0, 1.0).\n",
    "\n",
    "Results are from the “continuous uniform” distribution over the stated interval.\n",
    "https://numpy.org/devdocs/reference/random/generated/numpy.random.random_sample.html\n"
   ]
  },
  {
   "cell_type": "code",
   "execution_count": 20,
   "metadata": {
    "scrolled": false
   },
   "outputs": [
    {
     "data": {
      "text/plain": [
       "0.6266389714394976"
      ]
     },
     "execution_count": 20,
     "metadata": {},
     "output_type": "execute_result"
    }
   ],
   "source": [
    "np.random.random_sample()"
   ]
  },
  {
   "cell_type": "code",
   "execution_count": 21,
   "metadata": {
    "scrolled": false
   },
   "outputs": [
    {
     "data": {
      "text/plain": [
       "float"
      ]
     },
     "execution_count": 21,
     "metadata": {},
     "output_type": "execute_result"
    }
   ],
   "source": [
    "type(np.random.random_sample())"
   ]
  },
  {
   "cell_type": "code",
   "execution_count": 22,
   "metadata": {
    "scrolled": false
   },
   "outputs": [
    {
     "data": {
      "text/plain": [
       "array([0.6359828 , 0.78129738, 0.01298564, 0.22961619, 0.9019677 ])"
      ]
     },
     "execution_count": 22,
     "metadata": {},
     "output_type": "execute_result"
    }
   ],
   "source": [
    "np.random.random_sample((5,))"
   ]
  },
  {
   "cell_type": "code",
   "execution_count": 23,
   "metadata": {
    "scrolled": false
   },
   "outputs": [
    {
     "data": {
      "text/plain": [
       "array([[-0.31072246, -2.06474255],\n",
       "       [-0.36686453, -0.39096592],\n",
       "       [-0.56300306, -4.13257144]])"
      ]
     },
     "execution_count": 23,
     "metadata": {},
     "output_type": "execute_result"
    }
   ],
   "source": [
    "# Three-by-two array of random numbers from [-5, 0):\n",
    "5 * np.random.random_sample((3, 2)) - 5"
   ]
  },
  {
   "cell_type": "markdown",
   "metadata": {},
   "source": [
    "<cr>"
   ]
  },
  {
   "cell_type": "markdown",
   "metadata": {},
   "source": [
    "#### 2.1.3 numpy.random.bytes ()\n",
    "#### random.bytes(length)\n",
    "Return random bytes.\n",
    "https://numpy.org/devdocs/reference/random/generated/numpy.random.bytes.html"
   ]
  },
  {
   "cell_type": "code",
   "execution_count": 24,
   "metadata": {
    "scrolled": false
   },
   "outputs": [
    {
     "data": {
      "text/plain": [
       "b'\\xe7\\x8f/\\xe0\\xbbp\\xbdW!\\x8b'"
      ]
     },
     "execution_count": 24,
     "metadata": {},
     "output_type": "execute_result"
    }
   ],
   "source": [
    "# return random bytes 10 in length.\n",
    "import numpy as np\n",
    "np.random.bytes(10)"
   ]
  },
  {
   "cell_type": "code",
   "execution_count": 25,
   "metadata": {
    "scrolled": false
   },
   "outputs": [
    {
     "data": {
      "text/plain": [
       "b'\\xc1\\xc5\\xd5v\\x1e\\x02\\xe6\\x04\\xdd\\x18\\xad\\xbdVf\\x94\\xfbs\\xae\\xb0\\x1d'"
      ]
     },
     "execution_count": 25,
     "metadata": {},
     "output_type": "execute_result"
    }
   ],
   "source": [
    "# return random bytes 20 in length.\n",
    "import numpy as np\n",
    "np.random.bytes(20)"
   ]
  },
  {
   "cell_type": "code",
   "execution_count": 26,
   "metadata": {
    "scrolled": false
   },
   "outputs": [
    {
     "data": {
      "text/plain": [
       "b'\\xbe\\xfa;\\xfdwc\\xdf\\xcfH\\xc0\\x1f|\\xed\\xf8\\t'"
      ]
     },
     "execution_count": 26,
     "metadata": {},
     "output_type": "execute_result"
    }
   ],
   "source": [
    "# return random bytes  15 in length.\n",
    "import numpy as np\n",
    "np.random.bytes(15)"
   ]
  },
  {
   "cell_type": "markdown",
   "metadata": {},
   "source": [
    "#### 2.1.4 numpy.random.choice ()\n",
    "##### random.choice(a, size=None, replace=True, p=None)\n",
    "Generates a random sample from a given 1-D array\n",
    "https://numpy.org/devdocs/reference/random/generated/numpy.random.choice.html"
   ]
  },
  {
   "cell_type": "code",
   "execution_count": 27,
   "metadata": {
    "scrolled": false
   },
   "outputs": [
    {
     "data": {
      "text/plain": [
       "array([3, 0, 1])"
      ]
     },
     "execution_count": 27,
     "metadata": {},
     "output_type": "execute_result"
    }
   ],
   "source": [
    "# Generate a uniform random sample from np.arange(5) of size 3:\n",
    "np.random.choice(5, 3)"
   ]
  },
  {
   "cell_type": "code",
   "execution_count": 28,
   "metadata": {
    "scrolled": false
   },
   "outputs": [
    {
     "data": {
      "text/plain": [
       "array([3, 3, 3])"
      ]
     },
     "execution_count": 28,
     "metadata": {},
     "output_type": "execute_result"
    }
   ],
   "source": [
    "#This is equivalent to np.random.randint(0,5,3)\n",
    "# Generate a non-uniform random sample from np.arange(5) of size 3:\n",
    "np.random.choice(5, 3, p=[0.1, 0, 0.3, 0.6, 0])"
   ]
  },
  {
   "cell_type": "code",
   "execution_count": 29,
   "metadata": {
    "scrolled": false
   },
   "outputs": [
    {
     "data": {
      "text/plain": [
       "array([2, 4, 1])"
      ]
     },
     "execution_count": 29,
     "metadata": {},
     "output_type": "execute_result"
    }
   ],
   "source": [
    "# Generate a uniform random sample from np.arange(5) of size 3 without replacement:\n",
    "np.random.choice(5, 3, replace=False)"
   ]
  },
  {
   "cell_type": "code",
   "execution_count": 30,
   "metadata": {
    "scrolled": false
   },
   "outputs": [
    {
     "data": {
      "text/plain": [
       "array([3, 2, 0])"
      ]
     },
     "execution_count": 30,
     "metadata": {},
     "output_type": "execute_result"
    }
   ],
   "source": [
    "# This is equivalent to np.random.permutation(np.arange(5))[:3]\n",
    "# Generate a non-uniform random sample from np.arange(5) of size 3 without replacement:\n",
    "np.random.choice(5, 3, replace=False, p=[0.1, 0, 0.3, 0.6, 0])"
   ]
  },
  {
   "cell_type": "code",
   "execution_count": 33,
   "metadata": {
    "scrolled": false
   },
   "outputs": [
    {
     "data": {
      "text/plain": [
       "array(['Christopher', 'rabbit', 'pooh', 'rabbit', 'rabbit'], dtype='<U11')"
      ]
     },
     "execution_count": 33,
     "metadata": {},
     "output_type": "execute_result"
    }
   ],
   "source": [
    "# Any of the above can be repeated with an arbitrary array-like instead of just integers. For instance:\n",
    "aa_milne_arr = ['pooh', 'rabbit', 'piglet', 'Christopher']\n",
    "np.random.choice(aa_milne_arr, 5, p=[0.5, 0.1, 0.1, 0.3])\n"
   ]
  },
  {
   "cell_type": "markdown",
   "metadata": {
    "scrolled": false
   },
   "source": [
    "<cr>"
   ]
  },
  {
   "cell_type": "code",
   "execution_count": 34,
   "metadata": {},
   "outputs": [
    {
     "data": {
      "text/plain": [
       "array(['lion', 'John', 'lion', 'John', 'lion'], dtype='<U7')"
      ]
     },
     "execution_count": 34,
     "metadata": {},
     "output_type": "execute_result"
    }
   ],
   "source": [
    "# Any of the above can be repeated with an arbitrary array-like instead of just integers. For instance:\n",
    "aa_milne_arr = ['lion', 'leopard', 'parrot', 'John']\n",
    "np.random.choice(aa_milne_arr, 5, p=[0.5, 0.1, 0.1, 0.3])"
   ]
  },
  {
   "cell_type": "markdown",
   "metadata": {},
   "source": [
    "### 2.2 Permutations functions"
   ]
  },
  {
   "cell_type": "markdown",
   "metadata": {},
   "source": [
    "#### 2.2.1numpy.random.shuffle\n",
    "\n",
    "#### numpy.random.shuffle(x)\n",
    "Modify a sequence in-place by shuffling its contents.\n",
    "This function only shuffles the array along the first axis of a multi-dimensional array. The order of sub-arrays is changed but their contents remains the same.\n",
    "https://numpy.org/devdocs/reference/random/generated/numpy.random.shuffle.html"
   ]
  },
  {
   "cell_type": "code",
   "execution_count": null,
   "metadata": {
    "scrolled": false
   },
   "outputs": [],
   "source": [
    "arr = np.arange(10)\n",
    "np.random.shuffle(arr)\n"
   ]
  },
  {
   "cell_type": "code",
   "execution_count": 35,
   "metadata": {
    "scrolled": false
   },
   "outputs": [
    {
     "data": {
      "text/plain": [
       "array([8, 3, 7, 9, 5, 1, 0, 4, 6, 2])"
      ]
     },
     "execution_count": 35,
     "metadata": {},
     "output_type": "execute_result"
    }
   ],
   "source": [
    "arr"
   ]
  },
  {
   "cell_type": "code",
   "execution_count": null,
   "metadata": {
    "scrolled": false
   },
   "outputs": [],
   "source": [
    "# Multi-dimensional arrays are only shuffled along the first axis:\n",
    "arr = np.arange(9).reshape((3, 3))\n",
    "np.random.shuffle(arr)\n"
   ]
  },
  {
   "cell_type": "code",
   "execution_count": 36,
   "metadata": {
    "scrolled": false
   },
   "outputs": [
    {
     "data": {
      "text/plain": [
       "array([8, 3, 7, 9, 5, 1, 0, 4, 6, 2])"
      ]
     },
     "execution_count": 36,
     "metadata": {},
     "output_type": "execute_result"
    }
   ],
   "source": [
    "arr"
   ]
  },
  {
   "cell_type": "markdown",
   "metadata": {},
   "source": [
    "#### 2.2.2 numpy.random.permutation\n",
    "\n",
    "#### numpy.random.permutation(x)\n",
    "\n",
    "Randomly permute a sequence, or return a permuted range.\n",
    "If x is a multi-dimensional array, it is only shuffled along its first index.\n",
    "https://numpy.org/devdocs/reference/random/generated/numpy.random.permutation.html"
   ]
  },
  {
   "cell_type": "code",
   "execution_count": 37,
   "metadata": {
    "scrolled": false
   },
   "outputs": [
    {
     "data": {
      "text/plain": [
       "array([3, 2, 0, 7, 8, 9, 1, 5, 6, 4])"
      ]
     },
     "execution_count": 37,
     "metadata": {},
     "output_type": "execute_result"
    }
   ],
   "source": [
    "np.random.permutation(10)"
   ]
  },
  {
   "cell_type": "code",
   "execution_count": 38,
   "metadata": {
    "scrolled": false
   },
   "outputs": [
    {
     "data": {
      "text/plain": [
       "array([ 9,  1,  4, 15, 12])"
      ]
     },
     "execution_count": 38,
     "metadata": {},
     "output_type": "execute_result"
    }
   ],
   "source": [
    "np.random.permutation([1, 4, 9, 12, 15])"
   ]
  },
  {
   "cell_type": "code",
   "execution_count": 39,
   "metadata": {
    "scrolled": false
   },
   "outputs": [
    {
     "data": {
      "text/plain": [
       "array([[0, 1, 2],\n",
       "       [6, 7, 8],\n",
       "       [3, 4, 5]])"
      ]
     },
     "execution_count": 39,
     "metadata": {},
     "output_type": "execute_result"
    }
   ],
   "source": [
    "arr = np.arange(9).reshape((3, 3))\n",
    "np.random.permutation(arr) "
   ]
  },
  {
   "cell_type": "markdown",
   "metadata": {
    "scrolled": false
   },
   "source": [
    "<cr>"
   ]
  },
  {
   "cell_type": "markdown",
   "metadata": {},
   "source": [
    "### 3. Explain the use and purpose of at least five “Distributions” functions. "
   ]
  },
  {
   "cell_type": "markdown",
   "metadata": {},
   "source": [
    "### 3.1 numpy.random.normal function\n",
    "random.normal(loc=0.0, scale=1.0, size=None)\n",
    "Draw random samples from a normal (Gaussian) distribution.\n",
    "https://numpy.org/devdocs/reference/random/generated/numpy.random.normal.html\n"
   ]
  },
  {
   "cell_type": "code",
   "execution_count": null,
   "metadata": {},
   "outputs": [],
   "source": [
    "# Draw samples from the distribution:\n",
    "import numpy as np\n",
    "mu, sigma = 0, 0.1 # mean and standard deviation.\n",
    "s = np.random.normal(mu, sigma, 1000)\n"
   ]
  },
  {
   "cell_type": "code",
   "execution_count": 40,
   "metadata": {},
   "outputs": [
    {
     "data": {
      "text/plain": [
       "array([1.05554994, 1.05656096, 1.01988015, 1.40743034, 1.30996593,\n",
       "       1.68825639, 2.59891774, 1.06822569, 1.00820581, 1.12392752,\n",
       "       3.65165569, 1.64575763, 1.62811992, 3.70985357, 1.27882817,\n",
       "       1.23128579, 1.21014464, 1.00107463, 2.2044664 , 1.1662335 ,\n",
       "       1.3986166 , 1.18120142, 1.0624808 , 1.0384795 , 1.49965543,\n",
       "       1.16262197, 1.1399603 , 2.68999297, 1.42474357, 1.04549297,\n",
       "       1.7535296 , 1.37086814, 1.37432989, 1.20279691, 1.03397992,\n",
       "       1.03540887, 1.17425078, 1.12161353, 1.02579731, 1.31900406,\n",
       "       1.98433998, 1.13524099, 1.14416031, 1.21133568, 1.28201773,\n",
       "       1.78540966, 1.09802519, 1.38805497, 1.31461655, 1.42743455,\n",
       "       1.25341614, 2.22881435, 1.74840251, 1.09799135, 1.30132868,\n",
       "       1.36063688, 1.1261943 , 2.31785038, 1.07275229, 1.33341379,\n",
       "       1.01859698, 1.1466001 , 1.35858774, 1.33953813, 1.30162491,\n",
       "       1.08808946, 1.36152974, 1.37625193, 1.78953546, 1.2127916 ,\n",
       "       1.07027355, 1.10832651, 1.30059391, 1.04565814, 1.05858452,\n",
       "       1.17075348, 1.1047978 , 1.19832195, 1.02068226, 1.08620927,\n",
       "       1.40476558, 1.23660194, 1.00695052, 1.65507688, 1.29269871,\n",
       "       1.35183553, 2.52669249, 1.01602537, 1.08610839, 3.50708013,\n",
       "       1.3653968 , 1.27355006, 2.40690522, 1.27459344, 1.47083405,\n",
       "       1.29539562, 1.14906   , 1.37122072, 1.17785338, 1.32103038,\n",
       "       1.05912615, 1.26092642, 1.01898454, 1.80330833, 1.24285175,\n",
       "       1.65593616, 1.47368704, 1.0177575 , 1.1355679 , 1.05519033,\n",
       "       1.57202714, 1.27609183, 1.10787259, 1.25204172, 1.24269881,\n",
       "       1.06674195, 1.97951881, 1.14507391, 1.07819469, 1.59947482,\n",
       "       1.58979018, 1.75690495, 1.71093923, 1.07027409, 1.02932987,\n",
       "       1.49434305, 2.06126862, 1.04986679, 1.17448283, 3.35028498,\n",
       "       1.17706938, 1.48506815, 1.21513273, 1.00883468, 3.37398467,\n",
       "       1.58930275, 1.23567419, 1.10198356, 1.00326525, 1.1883586 ,\n",
       "       1.49300007, 1.77385042, 2.33846971, 1.04654809, 1.03412096,\n",
       "       1.19962394, 2.86336986, 1.16767707, 1.03007098, 1.4570089 ,\n",
       "       1.2059544 , 1.03842863, 5.23969445, 1.30198476, 1.97347302,\n",
       "       1.0265405 , 1.33127648, 1.05057929, 1.11174898, 1.24486338,\n",
       "       1.0469048 , 1.49321975, 1.21258693, 1.6463464 , 1.11675792,\n",
       "       1.07111148, 1.55353379, 1.29575699, 2.13524742, 1.36469502,\n",
       "       1.4004861 , 1.05480036, 1.01677816, 1.54998525, 1.45748081,\n",
       "       1.27685335, 1.10867372, 1.41563486, 1.1144429 , 1.07915478,\n",
       "       1.57470463, 1.65618006, 3.05825308, 1.08953178, 1.02402154,\n",
       "       1.05621274, 2.06819927, 1.1280934 , 1.1622599 , 1.03021065,\n",
       "       1.01171464, 1.03714732, 1.84382031, 1.21906114, 1.64448921,\n",
       "       1.72218265, 1.00901639, 1.47431929, 1.45830705, 1.8094705 ,\n",
       "       1.13236617, 2.9294776 , 1.27011837, 1.04886698, 1.26335929,\n",
       "       2.12146859, 1.02735346, 1.94616942, 1.04794622, 1.0389548 ,\n",
       "       1.20719196, 1.88544583, 1.27190306, 1.3825458 , 1.50625315,\n",
       "       2.2809622 , 2.68066051, 1.42059088, 1.72670854, 2.81470549,\n",
       "       1.32227787, 1.03140531, 1.01212428, 2.26217885, 1.08656058,\n",
       "       1.72071109, 1.10633315, 3.1121906 , 2.19839658, 1.14416105,\n",
       "       1.25091862, 2.81856823, 1.00473775, 1.10659777, 1.64553688,\n",
       "       1.09093843, 1.11881101, 1.03555636, 1.1596184 , 1.06655039,\n",
       "       5.79950982, 1.19754063, 1.27236215, 1.10027228, 1.05199721,\n",
       "       1.2497473 , 1.40688743, 1.32143321, 1.19432783, 1.45534695,\n",
       "       2.07610623, 1.21198513, 1.87976991, 1.02040884, 2.17545124,\n",
       "       1.16433409, 1.17414067, 1.37821562, 1.00188042, 1.04031044,\n",
       "       1.47167321, 3.63208141, 1.37972559, 1.69709454, 1.24053918,\n",
       "       2.09390176, 1.57909661, 1.54520729, 1.03129379, 1.42359146,\n",
       "       1.15648659, 1.47788283, 1.23155055, 1.30497692, 1.23188787,\n",
       "       1.25597578, 1.1359876 , 1.0885434 , 1.32563265, 1.25842101,\n",
       "       1.25375115, 1.18348098, 1.10999707, 2.4656931 , 1.12222417,\n",
       "       1.03578693, 1.22865823, 1.4426852 , 1.09464287, 1.03035879,\n",
       "       1.17952157, 1.06916443, 1.1428399 , 4.23204418, 1.22003449,\n",
       "       1.34752397, 2.0065645 , 1.02813898, 1.01418351, 1.11884277,\n",
       "       1.05865282, 1.25685264, 1.2614042 , 1.46165111, 1.17929271,\n",
       "       1.12546797, 1.08534251, 1.27833051, 1.01525817, 1.22286285,\n",
       "       1.10187263, 1.12322451, 1.77957062, 1.01037694, 1.11779864,\n",
       "       1.31991083, 1.07750722, 1.0581107 , 1.12489051, 1.22419282,\n",
       "       1.33298614, 1.10060914, 1.08858856, 1.00675205, 1.31627167,\n",
       "       1.43207087, 1.32421049, 1.16159287, 1.02229127, 1.34182034,\n",
       "       1.12519244, 1.03786231, 1.00161932, 1.07604217, 1.12887227,\n",
       "       1.10485839, 1.04673877, 2.0573455 , 1.11033202, 2.74430495,\n",
       "       1.05337481, 1.76754607, 1.78432105, 1.05997663, 1.40115388,\n",
       "       1.94603558, 1.77323497, 1.01978577, 1.35915694, 1.21348373,\n",
       "       1.3162802 , 1.09150522, 1.04046237, 1.08696335, 1.04536302,\n",
       "       1.56570407, 1.0894157 , 1.10465597, 1.3374928 , 1.00531435,\n",
       "       1.13868493, 1.2402212 , 1.08534291, 1.951055  , 1.33267246,\n",
       "       1.41216226, 1.49993912, 1.28150007, 1.18576289, 1.0523146 ,\n",
       "       1.03043285, 1.07461806, 2.35446393, 1.10004505, 1.01755503,\n",
       "       1.00471391, 1.21789505, 1.08569794, 1.22117294, 1.18023003,\n",
       "       1.11368069, 1.51141028, 2.71715239, 1.04697612, 1.03696666,\n",
       "       1.62559978, 1.23698738, 1.39959795, 3.5631944 , 1.03972431,\n",
       "       1.14456622, 1.02308397, 1.02474857, 1.06947745, 1.35074393,\n",
       "       1.04105229, 1.02811168, 1.02949674, 1.03384283, 1.01237056,\n",
       "       1.54239552, 1.86920416, 1.00815075, 1.1986796 , 2.20432217,\n",
       "       1.70061391, 1.5548801 , 1.03626329, 1.05023086, 1.67032973,\n",
       "       1.14945768, 1.35385439, 1.41131895, 3.4503145 , 1.08250003,\n",
       "       1.12796051, 1.21549236, 1.14051956, 1.3019889 , 1.09191795,\n",
       "       1.16416781, 1.83536483, 1.10998309, 1.07238653, 1.0070522 ,\n",
       "       1.45591255, 1.43983408, 1.85694614, 1.43923621, 1.08912266,\n",
       "       1.39475341, 1.19542526, 1.45213498, 1.10045259, 1.02116687,\n",
       "       1.08108147, 1.67237045, 1.00240131, 1.18210377, 1.2880389 ,\n",
       "       1.41915376, 1.02429359, 1.06524886, 2.0374756 , 1.43289638,\n",
       "       1.10383808, 2.13384805, 2.07481039, 1.3727857 , 1.53510981,\n",
       "       1.15118565, 1.36972961, 1.18665075, 1.13099125, 1.90910284,\n",
       "       1.20568987, 1.17529627, 1.06042437, 1.9518396 , 1.10682036,\n",
       "       1.00328952, 1.11724964, 1.55751856, 1.15652965, 1.09324591,\n",
       "       1.37738203, 1.13484088, 1.09464185, 1.28835038, 1.20830892,\n",
       "       1.17324279, 1.16425826, 1.11682198, 2.62964778, 1.83779917,\n",
       "       1.54235443, 1.10196345, 1.04744648, 1.10334371, 1.58988039,\n",
       "       1.34924418, 1.23608307, 1.26973381, 1.65740757, 1.04430721,\n",
       "       1.43669834, 1.51672898, 1.04996955, 2.00171816, 1.0304578 ,\n",
       "       1.15499457, 3.34562526, 1.20022925, 1.16577999, 1.23307912,\n",
       "       1.17687231, 1.51263788, 1.41739438, 1.33813671, 1.19635025,\n",
       "       1.02399014, 1.08171307, 1.20700058, 1.15702418, 1.52380465,\n",
       "       1.14110499, 1.43023441, 1.36328243, 1.50461539, 1.55553108,\n",
       "       1.56375558, 1.66767483, 1.02152537, 1.45108686, 1.43362656,\n",
       "       1.11286814, 1.5759084 , 1.05629742, 1.04991188, 1.00682658,\n",
       "       1.02154847, 2.35187191, 2.81370762, 1.7418737 , 1.2368283 ,\n",
       "       1.75484145, 1.53375558, 1.06883074, 2.59024272, 1.86544034,\n",
       "       1.10176803, 1.13758566, 1.19157756, 1.11254981, 1.02660502,\n",
       "       1.22535026, 3.46565285, 1.54931937, 1.71383149, 1.2082205 ,\n",
       "       1.65555531, 1.22083787, 1.29488988, 1.18922444, 2.63553272,\n",
       "       1.12589422, 1.21433686, 2.76099631, 1.26275313, 1.0071087 ,\n",
       "       1.07181959, 1.80335789, 1.14108922, 1.00345664, 1.18849094,\n",
       "       1.73415047, 1.21327891, 1.125757  , 1.12748656, 1.1687166 ,\n",
       "       4.84234479, 1.56193527, 1.23922264, 1.23020409, 1.25309716,\n",
       "       1.18604945, 1.06663001, 2.59961122, 1.21198476, 1.51323172,\n",
       "       1.15102896, 2.23333204, 1.85082149, 1.19731784, 1.42294141,\n",
       "       1.62552038, 1.01416048, 1.11583293, 1.31027459, 1.52064088,\n",
       "       1.08774629, 1.01854598, 1.31410686, 1.0982151 , 2.04463449,\n",
       "       1.37343452, 1.98108106, 1.62060001, 2.35335508, 1.60491895,\n",
       "       1.05895223, 2.50034153, 1.07541331, 1.0107758 , 1.69074191,\n",
       "       1.04293535, 1.43325239, 1.084368  , 1.01350195, 1.54436347,\n",
       "       2.90612869, 1.72979917, 1.06846576, 1.00122878, 1.71859925,\n",
       "       1.09559785, 1.87522968, 2.37706376, 1.2018414 , 1.69122225,\n",
       "       1.46771234, 1.23018858, 1.1129256 , 1.37701426, 1.8867482 ,\n",
       "       1.36033459, 1.78786416, 1.93531551, 4.27440253, 1.27102049,\n",
       "       1.12151241, 1.26632612, 1.30927905, 1.0505635 , 1.30957547,\n",
       "       1.49349719, 1.03909594, 1.37650474, 1.02818173, 1.10519457,\n",
       "       1.49879769, 1.28164997, 1.12844353, 1.44691084, 4.08326936,\n",
       "       1.68584438, 1.16134277, 1.33237935, 1.30388393, 1.00472748,\n",
       "       1.14055109, 1.1797628 , 1.19956514, 1.09654498, 1.08683101,\n",
       "       3.40146771, 1.21502735, 1.81332857, 1.34321668, 1.08985816,\n",
       "       1.06100023, 1.04024527, 1.8691243 , 1.04984312, 1.81354786,\n",
       "       1.07179093, 1.14918979, 1.22446194, 1.0576042 , 1.31556088,\n",
       "       1.0876251 , 1.17679758, 1.83662045, 2.48450433, 1.24052722,\n",
       "       1.21961256, 1.28591588, 1.03857066, 3.20327199, 1.52826618,\n",
       "       1.06952156, 1.17514606, 1.50113848, 1.28055533, 1.89246786,\n",
       "       1.42388237, 1.00505808, 1.18665338, 1.8315931 , 2.04451781,\n",
       "       1.19855337, 1.18382899, 1.79367135, 1.14875858, 1.18880867,\n",
       "       1.02897573, 4.56264288, 2.66136015, 1.10772274, 1.10790958,\n",
       "       1.48108122, 1.46825909, 1.02957031, 1.54319312, 1.24299875,\n",
       "       1.8389194 , 1.13714509, 1.25819723, 1.1369406 , 1.56524661,\n",
       "       1.12181963, 1.5554671 , 1.10789712, 1.83956967, 2.21941443,\n",
       "       1.19436872, 1.33506475, 1.98962321, 3.4848852 , 2.19125608,\n",
       "       2.44937373, 1.22747512, 1.22520196, 1.01993984, 1.0166797 ,\n",
       "       1.08377431, 1.08638178, 4.55132867, 1.06875959, 1.09784892,\n",
       "       1.1954722 , 2.5066166 , 1.27231828, 2.75961812, 1.972257  ,\n",
       "       1.05567295, 1.17207546, 3.53557149, 1.25677092, 1.05508864,\n",
       "       1.22878446, 1.06693434, 1.49433374, 1.0222752 , 1.19094898,\n",
       "       1.14835593, 1.35738272, 1.19970335, 1.17524608, 1.13363453,\n",
       "       1.07776255, 1.47895598, 1.27473934, 1.28530041, 1.07432276,\n",
       "       1.18526425, 1.04418432, 1.3089688 , 1.0288828 , 1.83555013,\n",
       "       2.28706345, 1.18108172, 1.01224702, 1.11659519, 1.04016887,\n",
       "       1.30151818, 1.02176444, 2.01450793, 1.47956819, 2.57877761,\n",
       "       1.33786856, 1.4224433 , 1.51506318, 1.05159707, 1.72981821,\n",
       "       1.41915206, 1.15218607, 1.0480454 , 3.21076356, 1.04225765,\n",
       "       1.06477985, 1.22732339, 1.15611556, 1.23931427, 1.12020683,\n",
       "       1.39174771, 2.19041432, 1.31347444, 4.40780884, 2.9924595 ,\n",
       "       1.01065581, 1.62312389, 1.40874236, 1.16364952, 1.17079074,\n",
       "       1.35657396, 1.02036613, 2.23174147, 2.05458067, 1.19314704,\n",
       "       1.03295828, 1.81989097, 1.62214705, 1.26755225, 1.35008434,\n",
       "       1.06199407, 2.3782405 , 2.06223769, 1.12103024, 3.05196496,\n",
       "       1.17508201, 1.09116526, 1.11250593, 1.16185019, 9.35485859,\n",
       "       1.13509068, 1.3605157 , 1.15667818, 1.01070673, 1.31689967,\n",
       "       1.14125569, 1.54514939, 3.17573678, 1.03889709, 1.15832928,\n",
       "       1.04592493, 1.97685596, 1.7083207 , 1.37249924, 1.12062429,\n",
       "       1.57148057, 1.33243511, 1.18178027, 1.05134548, 1.03285701,\n",
       "       1.02132939, 1.11578513, 1.79167895, 1.01803217, 1.16932568,\n",
       "       1.02350613, 1.09883797, 1.09189957, 1.70192801, 1.0148814 ,\n",
       "       1.92997281, 2.62186549, 2.33855295, 1.19926202, 1.01308108,\n",
       "       1.20009288, 1.28198007, 2.05241609, 1.31581586, 1.19241782,\n",
       "       1.0273798 , 1.47048014, 2.85524128, 1.5887274 , 1.1098611 ,\n",
       "       1.04890758, 1.75363917, 1.97887751, 1.33954146, 1.43789071,\n",
       "       1.48686519, 1.16184977, 2.10241186, 1.70030654, 1.0328402 ,\n",
       "       1.15939729, 1.1925775 , 1.82644519, 1.98183433, 1.14895927,\n",
       "       1.37112058, 1.15326684, 1.97363302, 1.20513586, 1.06116979,\n",
       "       1.04260997, 1.40269711, 2.14926072, 1.0279937 , 1.18156236,\n",
       "       1.29876087, 2.00831154, 1.35122355, 1.16136776, 1.43898845,\n",
       "       1.34381414, 1.08651999, 1.10437287, 1.03028008, 1.15800016,\n",
       "       2.04260766, 2.49306567, 1.02696217, 1.97040452, 1.16938283,\n",
       "       1.41770091, 1.33673602, 1.1928291 , 1.09741989, 1.25322022,\n",
       "       1.49698829, 1.69727276, 1.49303319, 2.50166759, 1.08171033,\n",
       "       1.00682739, 1.1330118 , 1.45973641, 1.16536219, 3.16937971,\n",
       "       1.27400717, 1.07991171, 1.02325064, 1.03824002, 1.08145139,\n",
       "       2.68857746, 1.39442905, 1.0156984 , 1.66436228, 1.61709076,\n",
       "       1.03353291, 1.02090859, 2.12769247, 1.20743649, 1.71392116,\n",
       "       1.27824526, 1.29219053, 1.28825693, 1.6106538 , 1.08477482,\n",
       "       1.3166766 , 1.11691412, 1.40991915, 1.36788498, 1.31507396,\n",
       "       1.36962084, 1.08795207, 1.01947847, 1.02231364, 1.03815331,\n",
       "       1.80434757, 1.4628977 , 1.744966  , 1.21207252, 1.13280694,\n",
       "       1.45939113, 1.3737492 , 1.28737023, 1.77420455, 2.37409759,\n",
       "       1.05866703, 1.3951757 , 1.50058222, 1.07903948, 1.02563509,\n",
       "       2.23314757, 1.60073209, 1.47252212, 4.38632415, 1.06987925,\n",
       "       3.52010708, 1.20553322, 5.14151068, 1.85986065, 1.30065883,\n",
       "       1.16863675, 1.8944886 , 2.11986999, 1.00886075, 1.88620294,\n",
       "       1.23885084, 1.04251252, 1.13044035, 1.15652509, 1.05042504,\n",
       "       1.0479422 , 1.47127507, 1.66265469, 1.62260376, 1.84296549,\n",
       "       1.37809987, 1.2186356 , 1.00545279, 1.00766852, 1.43070563,\n",
       "       1.08311226, 1.28231846, 1.14002221, 1.00278312, 1.28239894,\n",
       "       1.13026978, 1.35580025, 1.40253368, 1.08974324, 1.0947394 ,\n",
       "       2.1064045 , 1.55824575, 1.22643712, 1.03636901, 3.01160695,\n",
       "       1.07753195, 1.08317587, 1.72765985, 1.29075446, 1.05032848])"
      ]
     },
     "execution_count": 40,
     "metadata": {},
     "output_type": "execute_result"
    }
   ],
   "source": [
    "s"
   ]
  },
  {
   "cell_type": "code",
   "execution_count": 42,
   "metadata": {
    "scrolled": false
   },
   "outputs": [
    {
     "data": {
      "text/plain": [
       "True"
      ]
     },
     "execution_count": 42,
     "metadata": {},
     "output_type": "execute_result"
    }
   ],
   "source": [
    "# Verify the mean and the variance:\n",
    "import numpy as np\n",
    "mu, sigma = 0, 0.1 # mean and standard deviation.\n",
    "s = np.random.normal(mu, sigma, 1000)\n",
    "abs(mu - np.mean(s)) < 0.01"
   ]
  },
  {
   "cell_type": "code",
   "execution_count": 43,
   "metadata": {
    "scrolled": false
   },
   "outputs": [
    {
     "data": {
      "text/plain": [
       "True"
      ]
     },
     "execution_count": 43,
     "metadata": {},
     "output_type": "execute_result"
    }
   ],
   "source": [
    "abs(sigma - np.std(s, ddof=1)) < 0.01"
   ]
  },
  {
   "cell_type": "code",
   "execution_count": 44,
   "metadata": {
    "scrolled": false
   },
   "outputs": [
    {
     "data": {
      "image/png": "[encoded data removed]",
      "text/plain": [
       "<Figure size 432x288 with 1 Axes>"
      ]
     },
     "metadata": {},
     "output_type": "display_data"
    }
   ],
   "source": [
    "# https://www.javatpoint.com/numpy-random\n",
    "\n",
    "# Display the histogram of the samples, along with the probability density function: \n",
    "import numpy as np  \n",
    "import matplotlib.pyplot as plt \n",
    "import seaborn as sns\n",
    "mu, sigma = 0, 0.2 # mean and standard deviation  \n",
    "s1 = np.random.normal(mu, sigma, 1000)  \n",
    "abs(mu - np.mean(s1)) < 0.01  \n",
    "abs(sigma - np.std(s1, ddof=1)) < 0.01  \n",
    "count, bins, ignored = plt.hist(s1, 30, density=True)  \n",
    "plt.plot(bins, 1/(sigma * np.sqrt(2 * np.pi)) *np.exp( - (bins - mu)**2 / (2 * sigma**2) ), linewidth=2, color='g')  \n",
    "plt.style.use(\"ggplot\")\n",
    "plt.show()  \n"
   ]
  },
  {
   "cell_type": "markdown",
   "metadata": {},
   "source": [
    "### 3.2 numpy.random.uniform function\n",
    "#### numpy.random.uniform(low=0.0, high=1.0, size=None)\n",
    "Draw samples from the distribution:\n",
    "Samples are uniformly distributed over the half-open interval [low, high) (includes low, but excludes high). In other words, any value within the given interval is equally likely to be drawn by uniform.\n",
    "\n",
    "https://numpy.org/devdocs/reference/random/generated/numpy.random.uniform.html"
   ]
  },
  {
   "cell_type": "code",
   "execution_count": 45,
   "metadata": {
    "scrolled": false
   },
   "outputs": [],
   "source": [
    "s = np.random.uniform(-1,0,1000) # randomly generate 1000 numbers between 0 to -1.\n"
   ]
  },
  {
   "cell_type": "code",
   "execution_count": 46,
   "metadata": {},
   "outputs": [
    {
     "data": {
      "text/plain": [
       "array([-4.25393447e-01, -1.25304868e-01, -6.24938605e-01, -6.08204475e-01,\n",
       "       -5.36353028e-01, -9.06190563e-01, -8.98201231e-01, -4.15479123e-01,\n",
       "       -9.53361168e-02, -8.68505126e-01, -9.38875086e-01, -3.63429672e-01,\n",
       "       -1.92392414e-02, -1.90301727e-01, -6.14159031e-01, -7.68139905e-01,\n",
       "       -6.74034932e-01, -4.54328114e-02, -6.20248187e-01, -8.10885282e-01,\n",
       "       -6.21992416e-01, -6.86185637e-01, -3.85652579e-01, -8.18128647e-01,\n",
       "       -3.47099534e-01, -9.44418963e-01, -9.52993227e-01, -9.88501015e-01,\n",
       "       -9.94575631e-01, -1.36225384e-01, -2.40609230e-01, -2.72325296e-01,\n",
       "       -1.33526335e-01, -5.82699997e-01, -1.17326742e-01, -4.52063462e-01,\n",
       "       -2.03957482e-01, -7.27642877e-02, -6.22477852e-01, -2.73349054e-02,\n",
       "       -2.98276458e-01, -4.94708434e-01, -1.47183524e-01, -6.10814491e-01,\n",
       "       -9.50718752e-01, -5.30639182e-01, -5.40862325e-01, -4.46848847e-01,\n",
       "       -7.41077603e-01, -4.24444827e-01, -1.67053675e-01, -1.86474009e-02,\n",
       "       -9.52803026e-01, -3.55967647e-01, -9.69983923e-01, -9.80081333e-01,\n",
       "       -5.72198275e-01, -3.50129330e-01, -7.09962176e-01, -6.43071601e-01,\n",
       "       -5.79978873e-01, -1.95329504e-01, -1.83012478e-01, -4.60000406e-02,\n",
       "       -2.60179786e-01, -1.66990624e-01, -7.17418461e-01, -4.93445912e-01,\n",
       "       -8.07776733e-01, -2.65699571e-01, -1.91839024e-01, -4.29702820e-01,\n",
       "       -4.29329376e-01, -1.52030496e-01, -5.84212396e-01, -8.36761901e-01,\n",
       "       -5.44014731e-01, -7.83157258e-01, -7.31323808e-01, -1.25096354e-01,\n",
       "       -3.58529410e-02, -7.52263899e-01, -2.15454485e-01, -6.31414115e-02,\n",
       "       -2.43552698e-01, -8.33925498e-01, -4.80645581e-01, -1.54734067e-01,\n",
       "       -1.10072050e-01, -8.42036693e-01, -3.16339985e-01, -9.81523561e-01,\n",
       "       -9.37864404e-01, -3.56340509e-02, -5.67738748e-01, -1.55653043e-01,\n",
       "       -5.29276980e-01, -7.73784262e-01, -5.97926913e-01, -4.30265137e-01,\n",
       "       -3.02878027e-01, -1.48760307e-01, -4.60439496e-01, -1.84197405e-01,\n",
       "       -2.56928814e-01, -1.78792249e-01, -1.52569040e-01, -9.59698242e-01,\n",
       "       -9.07934071e-01, -8.69050977e-01, -7.90469819e-01, -4.10550924e-01,\n",
       "       -3.27513553e-01, -1.58427360e-02, -8.61437628e-01, -1.53820213e-01,\n",
       "       -3.70736739e-01, -2.32827055e-01, -7.81268354e-01, -2.11276674e-01,\n",
       "       -4.02285615e-01, -8.08505849e-01, -8.34160613e-01, -5.22847749e-01,\n",
       "       -3.20275163e-02, -5.12366962e-01, -5.21836135e-01, -2.71763021e-01,\n",
       "       -5.74647090e-01, -5.82150509e-01, -4.28336187e-01, -1.42196784e-02,\n",
       "       -8.45649399e-02, -9.31401220e-01, -7.66621958e-01, -6.64291320e-01,\n",
       "       -6.09006678e-01, -1.81498606e-01, -3.61446792e-02, -9.84462895e-01,\n",
       "       -8.86480541e-01, -1.15660488e-01, -4.49894027e-01, -7.34396615e-01,\n",
       "       -5.32900239e-01, -8.90414848e-01, -3.35535098e-01, -2.99086239e-02,\n",
       "       -6.60519533e-01, -1.05330736e-02, -8.14446686e-01, -3.19114186e-02,\n",
       "       -9.70509160e-01, -7.00041009e-01, -7.68525645e-01, -1.89946752e-01,\n",
       "       -3.55098651e-01, -7.87140131e-01, -7.43453718e-01, -8.65269911e-01,\n",
       "       -1.88349587e-01, -6.91206419e-01, -7.43067537e-01, -3.63280505e-01,\n",
       "       -6.68649348e-01, -5.20700447e-01, -9.63647284e-01, -4.23925074e-01,\n",
       "       -5.18471727e-01, -5.66811027e-01, -8.56194135e-01, -4.04937568e-01,\n",
       "       -9.06825614e-01, -1.01687956e-01, -7.80305039e-01, -7.19347272e-01,\n",
       "       -9.32909290e-01, -7.30306904e-01, -1.69754674e-01, -5.42133178e-01,\n",
       "       -3.57332751e-02, -9.14053948e-01, -1.06320885e-01, -2.02701000e-01,\n",
       "       -5.76244611e-01, -2.58173363e-02, -4.76697326e-01, -2.27145870e-01,\n",
       "       -5.89352280e-01, -5.31319826e-01, -5.91845571e-01, -8.48467235e-01,\n",
       "       -2.95558850e-01, -5.43010238e-01, -7.37956412e-01, -6.16683900e-01,\n",
       "       -6.37059648e-01, -9.90472631e-01, -6.76807669e-01, -4.40724527e-01,\n",
       "       -8.54080860e-01, -5.30116134e-01, -3.92580366e-01, -2.88546387e-01,\n",
       "       -8.28910450e-01, -9.86391459e-01, -1.65710418e-01, -8.13977697e-01,\n",
       "       -4.21452882e-01, -4.25125503e-01, -1.57253056e-01, -4.99783484e-01,\n",
       "       -5.52861159e-01, -6.00206344e-01, -7.06247378e-01, -8.27719887e-01,\n",
       "       -4.87515851e-01, -9.93656768e-01, -9.34693295e-01, -4.12362927e-01,\n",
       "       -2.97586330e-01, -2.30553173e-01, -8.12390946e-01, -6.31765935e-01,\n",
       "       -5.07484769e-01, -9.60483570e-01, -3.63922986e-01, -1.60043517e-01,\n",
       "       -9.15531970e-01, -6.44535356e-01, -1.24967795e-01, -7.67210836e-01,\n",
       "       -1.09390963e-02, -6.03462318e-01, -9.10867192e-01, -1.62309959e-01,\n",
       "       -4.76331081e-01, -8.43734223e-01, -1.27311875e-01, -1.93664771e-01,\n",
       "       -9.63209971e-01, -4.85948262e-01, -5.82460979e-01, -4.62861664e-01,\n",
       "       -3.68748878e-01, -5.94779594e-01, -6.05064032e-01, -8.08262996e-01,\n",
       "       -3.35490675e-03, -7.12805243e-01, -9.53389676e-02, -4.13118322e-01,\n",
       "       -5.97219034e-01, -1.21957334e-01, -8.68551940e-01, -6.10464095e-01,\n",
       "       -7.78822205e-01, -8.61179231e-01, -7.65021173e-01, -6.60134075e-01,\n",
       "       -9.75710256e-01, -5.33866277e-01, -2.76464029e-01, -1.08393247e-01,\n",
       "       -8.48735839e-01, -5.29904927e-01, -9.71465869e-01, -2.80273421e-02,\n",
       "       -5.89048413e-01, -4.36455818e-02, -8.00936980e-01, -2.93989627e-01,\n",
       "       -4.59651059e-01, -8.16402576e-01, -3.06258845e-01, -7.21912742e-01,\n",
       "       -2.22350643e-01, -5.22132651e-01, -7.98343709e-01, -4.37963262e-02,\n",
       "       -5.19151946e-02, -3.60735874e-01, -6.56269462e-01, -4.98122835e-01,\n",
       "       -1.32185327e-01, -5.18822073e-01, -3.18865802e-01, -7.05753496e-01,\n",
       "       -1.19948340e-01, -5.75927774e-01, -6.26951074e-01, -5.74695272e-01,\n",
       "       -9.02892818e-01, -7.18125380e-02, -2.62782494e-01, -7.56903100e-01,\n",
       "       -8.73115002e-01, -8.28178944e-01, -4.29673286e-01, -7.75265019e-01,\n",
       "       -3.75631123e-01, -1.35076411e-01, -1.09292436e-02, -3.57410017e-01,\n",
       "       -9.41922620e-01, -9.24053662e-01, -4.61092096e-01, -9.02958905e-01,\n",
       "       -9.48485164e-01, -6.04394742e-01, -4.40406930e-01, -1.02556708e-01,\n",
       "       -5.50219801e-01, -1.63877945e-01, -8.05983300e-01, -3.34892126e-01,\n",
       "       -6.12949308e-01, -6.19585620e-01, -8.84226430e-01, -9.71208187e-01,\n",
       "       -6.81288427e-01, -7.34742531e-01, -9.73665872e-01, -5.13153852e-01,\n",
       "       -1.77671235e-01, -4.36678255e-01, -7.23099538e-01, -7.31093341e-02,\n",
       "       -2.51384792e-02, -2.87710174e-01, -4.29961295e-01, -8.25853902e-01,\n",
       "       -4.42438818e-01, -8.20366251e-01, -6.86128180e-01, -5.24662317e-01,\n",
       "       -4.62208839e-01, -4.76587378e-01, -4.19868608e-01, -1.97230856e-01,\n",
       "       -5.26556059e-01, -6.43210137e-01, -1.68775719e-01, -5.54325654e-01,\n",
       "       -9.39302060e-01, -4.99451621e-01, -4.90039891e-01, -8.50772047e-01,\n",
       "       -9.14629422e-01, -4.15091381e-01, -3.81525385e-01, -1.25927487e-01,\n",
       "       -4.59256781e-01, -7.58101252e-01, -3.36045034e-01, -4.52141944e-01,\n",
       "       -9.13343399e-01, -1.40511498e-01, -4.00638574e-01, -7.71340645e-01,\n",
       "       -6.88155168e-01, -6.86616967e-01, -4.70213085e-01, -9.90362458e-01,\n",
       "       -8.04014503e-01, -2.31774325e-01, -6.10892499e-01, -4.90017588e-01,\n",
       "       -2.12657637e-01, -4.56073008e-01, -9.57100329e-01, -5.18118283e-01,\n",
       "       -6.14954992e-02, -5.03760603e-01, -9.93894300e-01, -6.10119187e-01,\n",
       "       -1.77161262e-01, -1.90667264e-01, -4.99203594e-01, -5.20757403e-01,\n",
       "       -3.42305012e-01, -2.49371542e-01, -1.29254958e-01, -4.19026764e-01,\n",
       "       -9.11222239e-01, -5.38177803e-01, -4.08077714e-01, -7.53036668e-01,\n",
       "       -2.20081600e-01, -9.14361493e-01, -2.88815970e-02, -5.91368903e-01,\n",
       "       -6.07688101e-01, -3.73158734e-01, -1.15625687e-01, -8.66936242e-01,\n",
       "       -7.27091295e-02, -1.57462137e-01, -9.92387243e-01, -4.39443684e-01,\n",
       "       -2.00222485e-01, -7.52456661e-02, -7.49682473e-01, -5.22843624e-01,\n",
       "       -8.89577527e-02, -9.56095307e-01, -2.29197214e-01, -2.75006938e-01,\n",
       "       -4.84990244e-01, -7.21642245e-01, -4.64242096e-01, -3.17916274e-01,\n",
       "       -3.53349475e-01, -9.68672002e-01, -7.84472614e-01, -5.27963897e-01,\n",
       "       -4.92790700e-01, -3.06463320e-01, -3.95638264e-01, -7.08579277e-01,\n",
       "       -8.71856921e-01, -6.67273702e-01, -3.06569319e-01, -2.21698595e-01,\n",
       "       -4.62415747e-01, -9.66270129e-02, -1.81926458e-01, -3.19545632e-01,\n",
       "       -1.12225233e-01, -9.85452252e-01, -2.14422429e-01, -5.57132507e-01,\n",
       "       -3.15093892e-01, -2.50881068e-01, -1.22546642e-01, -9.88156607e-02,\n",
       "       -2.29075778e-01, -4.78257937e-01, -2.56904465e-01, -8.27264387e-01,\n",
       "       -3.81988703e-01, -3.36854969e-01, -2.07737790e-01, -1.96785183e-02,\n",
       "       -8.91579085e-01, -5.37510047e-01, -8.53621577e-01, -8.25943322e-01,\n",
       "       -4.70520605e-01, -7.56295000e-01, -4.79049745e-01, -2.44502021e-01,\n",
       "       -1.12341381e-01, -1.39801196e-01, -9.54336333e-01, -7.24390440e-01,\n",
       "       -3.51877836e-01, -1.18569365e-01, -6.64165511e-01, -7.77510584e-01,\n",
       "       -6.56162567e-01, -1.39613905e-01, -7.68373140e-01, -5.29509793e-01,\n",
       "       -4.12652054e-01, -2.66612260e-01, -8.58985590e-01, -6.79226068e-01,\n",
       "       -5.26965958e-01, -1.19813034e-01, -9.12086684e-01, -5.34600559e-02,\n",
       "       -9.67288386e-01, -9.96876194e-01, -5.95398305e-01, -8.23138682e-01,\n",
       "       -6.49706221e-01, -8.53485999e-01, -8.80060318e-01, -7.40350209e-01,\n",
       "       -9.64159145e-01, -2.47045875e-01, -7.56103398e-02, -4.85489311e-01,\n",
       "       -9.41237809e-01, -8.95906165e-01, -3.65959299e-01, -3.44106819e-01,\n",
       "       -6.45298226e-01, -2.81093029e-01, -6.66434447e-01, -6.64202014e-02,\n",
       "       -6.04619718e-01, -8.84990980e-01, -2.12470654e-01, -5.37613786e-01,\n",
       "       -6.45354724e-01, -6.35141422e-01, -4.71669721e-01, -5.06308457e-01,\n",
       "       -1.13111761e-02, -9.79026470e-01, -3.85387031e-01, -9.16986521e-01,\n",
       "       -3.77374277e-01, -7.55479835e-01, -9.55157363e-01, -6.88058355e-01,\n",
       "       -4.75210651e-01, -7.76280375e-01, -7.10243555e-01, -3.18370623e-01,\n",
       "       -1.19592712e-01, -7.09351613e-01, -8.71757485e-01, -3.22339082e-01,\n",
       "       -4.83112198e-01, -1.43132593e-01, -2.66301951e-01, -8.43428233e-01,\n",
       "       -4.75442836e-01, -8.83104799e-01, -5.85540783e-01, -5.86357138e-01,\n",
       "       -2.49335485e-01, -2.73472619e-01, -3.98480992e-01, -7.95901721e-01,\n",
       "       -6.76452164e-01, -3.03796634e-01, -7.27281480e-01, -7.33549849e-01,\n",
       "       -2.97986916e-03, -6.81853847e-01, -4.28712952e-01, -2.14455219e-01,\n",
       "       -3.39439402e-01, -3.95251605e-01, -7.70710288e-01, -4.71208313e-01,\n",
       "       -3.14580719e-01, -4.58693554e-01, -9.48278735e-02, -7.97122444e-01,\n",
       "       -4.76087879e-01, -9.10422328e-01, -3.42999378e-01, -9.58613966e-01,\n",
       "       -4.88000429e-01, -9.46707910e-01, -6.14021029e-01, -5.11879835e-01,\n",
       "       -6.99938472e-01, -8.46617384e-01, -8.70866906e-01, -7.66780088e-02,\n",
       "       -8.74646390e-01, -1.10306086e-01, -4.11732750e-01, -3.31900018e-01,\n",
       "       -9.59818963e-01, -4.51158953e-01, -8.34887819e-01, -7.40150361e-01,\n",
       "       -7.54310091e-01, -1.14226374e-01, -9.63824167e-02, -3.67565543e-01,\n",
       "       -5.45318131e-01, -6.86735831e-01, -2.97965456e-01, -6.72360029e-01,\n",
       "       -5.68346466e-01, -1.85935018e-01, -3.10248403e-03, -9.67084083e-01,\n",
       "       -4.89331911e-01, -5.44564347e-01, -8.65136646e-01, -7.87275706e-01,\n",
       "       -6.06545746e-01, -6.24374423e-02, -8.75931727e-01, -8.28146981e-01,\n",
       "       -4.79929083e-01, -1.58636480e-01, -9.45661697e-01, -9.95942597e-01,\n",
       "       -7.20204505e-01, -4.63050798e-01, -8.50026013e-01, -8.67875468e-01,\n",
       "       -6.13042564e-01, -1.37903472e-02, -5.06632575e-02, -8.36236099e-01,\n",
       "       -1.80173624e-01, -8.99498311e-01, -7.62567020e-01, -6.58803356e-01,\n",
       "       -5.53152174e-01, -1.54633518e-01, -6.76176995e-01, -9.64110687e-01,\n",
       "       -6.74099606e-02, -2.58150789e-01, -2.19267552e-01, -6.95769509e-01,\n",
       "       -4.84040365e-01, -4.00210329e-01, -2.61658329e-01, -2.30984399e-01,\n",
       "       -9.61870042e-01, -7.78970585e-01, -3.84147566e-01, -1.71288252e-04,\n",
       "       -3.91955148e-01, -3.29236586e-01, -2.79298585e-01, -7.55101332e-01,\n",
       "       -3.90171589e-01, -7.44188297e-01, -4.48243065e-01, -5.08185078e-01,\n",
       "       -4.36190430e-01, -2.79426451e-01, -8.74282177e-01, -8.78243458e-01,\n",
       "       -4.20813003e-01, -4.67621382e-01, -2.94607786e-01, -6.92166062e-01,\n",
       "       -8.92334414e-01, -6.35568791e-01, -5.22780100e-01, -1.10688550e-01,\n",
       "       -3.24362120e-01, -9.21339855e-01, -7.89784816e-01, -2.13067257e-01,\n",
       "       -7.38758357e-01, -5.47930913e-01, -9.24347384e-01, -5.46190169e-02,\n",
       "       -9.99490237e-01, -7.33211885e-01, -9.84043043e-01, -2.93044131e-01,\n",
       "       -8.84803494e-02, -3.68121172e-01, -4.48239413e-01, -8.61232835e-01,\n",
       "       -4.18778012e-01, -7.98104872e-01, -7.21225548e-02, -1.50585878e-01,\n",
       "       -4.58983990e-02, -6.35554068e-01, -9.00663168e-01, -5.26441225e-01,\n",
       "       -6.37833346e-01, -3.82170261e-01, -4.13936715e-01, -9.92620454e-01,\n",
       "       -7.59735434e-01, -5.61006392e-01, -5.75010612e-01, -1.94353189e-01,\n",
       "       -9.60125748e-01, -4.44301824e-01, -1.40738220e-01, -4.74027982e-02,\n",
       "       -1.88592341e-01, -3.22692318e-01, -2.10919443e-02, -4.17417323e-01,\n",
       "       -2.67660179e-01, -9.23414465e-01, -8.10399921e-01, -3.76651013e-01,\n",
       "       -7.70863058e-01, -6.59024376e-01, -5.66964849e-01, -7.22678617e-01,\n",
       "       -8.70361836e-01, -8.79158949e-01, -5.95866835e-01, -1.51562325e-02,\n",
       "       -6.79795565e-01, -6.03600760e-01, -9.62581791e-01, -8.87973787e-03,\n",
       "       -3.07227191e-01, -9.27822688e-01, -3.19700222e-01, -2.16858958e-01,\n",
       "       -5.12519887e-01, -6.70602523e-01, -5.15282737e-01, -9.02601667e-01,\n",
       "       -4.88360052e-01, -2.78091806e-01, -6.40031211e-01, -1.58577412e-01,\n",
       "       -7.09918879e-01, -9.77803798e-01, -1.17016739e-01, -8.95982524e-01,\n",
       "       -2.73358651e-01, -6.61183611e-01, -3.03947923e-01, -3.07441875e-01,\n",
       "       -9.11114768e-01, -2.83039819e-01, -1.19462886e-01, -8.65803513e-01,\n",
       "       -9.28767776e-02, -7.17236363e-01, -6.60923235e-01, -8.23468256e-01,\n",
       "       -6.43760402e-02, -5.02839009e-01, -6.04245287e-01, -7.78507252e-01,\n",
       "       -7.58736982e-01, -6.61580723e-01, -8.14848226e-01, -6.31715765e-01,\n",
       "       -5.31739714e-01, -8.34644344e-01, -4.96575549e-01, -4.04635430e-01,\n",
       "       -7.16786600e-01, -9.39633546e-02, -9.39573149e-01, -6.11192477e-01,\n",
       "       -6.57106476e-01, -2.60323766e-01, -7.45552663e-01, -5.31769682e-01,\n",
       "       -1.50028508e-02, -7.45431545e-01, -8.11863264e-01, -7.78247696e-01,\n",
       "       -5.64255728e-01, -9.02193441e-01, -2.03371330e-01, -3.92725394e-02,\n",
       "       -2.06214548e-01, -3.73760745e-01, -1.38830156e-01, -4.95797347e-01,\n",
       "       -8.92051549e-01, -5.02103033e-01, -5.02128136e-01, -4.85796264e-01,\n",
       "       -7.26613664e-01, -8.65111896e-01, -3.08286293e-01, -1.31626284e-01,\n",
       "       -7.65482389e-01, -3.38423685e-01, -6.68719766e-01, -1.92966352e-01,\n",
       "       -1.76001328e-01, -4.40056790e-01, -6.29150584e-01, -6.67073262e-01,\n",
       "       -5.83881404e-02, -1.77611391e-01, -7.50352389e-01, -6.54179824e-01,\n",
       "       -3.68761469e-01, -8.12164302e-01, -6.93244966e-01, -2.42376952e-01,\n",
       "       -9.94314477e-01, -1.79351409e-01, -8.98483932e-02, -4.84536813e-01,\n",
       "       -5.50782095e-01, -7.69621810e-01, -5.52188362e-02, -2.01002507e-01,\n",
       "       -4.81785236e-01, -9.14290368e-01, -6.12218637e-01, -1.45901956e-01,\n",
       "       -4.46830498e-01, -3.17731612e-01, -7.45984852e-01, -8.46107171e-03,\n",
       "       -8.32783991e-01, -3.92163470e-01, -2.55611889e-01, -2.54941484e-01,\n",
       "       -2.79410872e-01, -8.26377789e-01, -2.27407304e-01, -7.91546397e-01,\n",
       "       -4.21148196e-01, -6.83859935e-02, -8.95128416e-01, -4.10096087e-01,\n",
       "       -1.99952961e-01, -6.96096296e-02, -3.69158767e-01, -3.99084302e-01,\n",
       "       -7.05879632e-01, -4.43266204e-01, -5.50057711e-01, -9.59744201e-01,\n",
       "       -8.98217923e-01, -6.36383226e-01, -1.17257481e-01, -3.81659710e-01,\n",
       "       -7.24239525e-01, -3.81941032e-01, -1.24826559e-01, -1.04367141e-01,\n",
       "       -8.02630509e-01, -8.13577005e-01, -6.59209233e-01, -9.78544188e-01,\n",
       "       -1.43931949e-01, -7.01560297e-01, -7.53626873e-01, -5.96348787e-01,\n",
       "       -1.08070025e-01, -5.36020535e-01, -7.41772619e-02, -1.93938924e-01,\n",
       "       -9.68289267e-02, -3.79180284e-01, -1.06121467e-01, -7.25365789e-01,\n",
       "       -4.29992926e-01, -1.71398188e-01, -2.71980035e-01, -9.47605759e-01,\n",
       "       -1.40178990e-01, -6.98047347e-01, -8.12409772e-01, -2.34739658e-01,\n",
       "       -1.98971888e-01, -7.82335427e-01, -1.98319882e-01, -4.71902491e-01,\n",
       "       -1.27418663e-01, -5.37681892e-01, -3.69347794e-01, -8.48220331e-01,\n",
       "       -1.34995772e-01, -1.53709580e-01, -9.36435911e-01, -8.98827843e-01,\n",
       "       -2.96661730e-01, -5.47927974e-01, -6.88285624e-01, -5.59284828e-01,\n",
       "       -5.21197397e-01, -9.27924483e-01, -2.96225759e-01, -5.30316878e-01,\n",
       "       -3.31103342e-01, -9.31449485e-01, -8.36495387e-01, -8.38363434e-01,\n",
       "       -9.18794017e-01, -6.61451607e-01, -6.34628518e-01, -9.02214282e-01,\n",
       "       -7.34139254e-02, -2.47336925e-01, -4.48724498e-01, -9.20621894e-01,\n",
       "       -8.11219758e-01, -7.47712202e-02, -9.18544320e-01, -6.86611843e-02,\n",
       "       -2.12873071e-01, -7.04812248e-01, -5.83044722e-01, -6.05913283e-01,\n",
       "       -4.90588722e-01, -8.51185599e-02, -7.11338911e-01, -2.22852930e-01,\n",
       "       -9.89217339e-01, -5.32962405e-01, -1.95075525e-01, -7.22046839e-01,\n",
       "       -7.32999829e-01, -4.10490711e-01, -5.52948756e-01, -4.86621339e-01,\n",
       "       -8.69104734e-01, -8.17635725e-01, -4.56499897e-01, -5.55506627e-01,\n",
       "       -3.50990563e-01, -9.08260936e-01, -5.87700306e-01, -9.14740549e-01,\n",
       "       -4.91431913e-02, -7.62895696e-01, -3.22936516e-01, -6.65147405e-01,\n",
       "       -8.72143594e-01, -4.82956797e-01, -6.73420136e-01, -9.04248233e-01,\n",
       "       -6.28989271e-01, -2.40471590e-01, -4.42317402e-01, -9.61796026e-01,\n",
       "       -3.13183476e-01, -8.07629951e-01, -7.86257419e-01, -7.17775426e-01,\n",
       "       -3.60217620e-01, -7.35689745e-02, -8.90390657e-01, -5.76745618e-02,\n",
       "       -9.63333007e-01, -7.64613780e-01, -1.61525310e-01, -6.10611426e-02,\n",
       "       -6.42955044e-01, -5.71762562e-02, -5.65749297e-02, -4.88842693e-01,\n",
       "       -4.11704529e-01, -7.16811241e-01, -3.37121188e-01, -2.79425305e-02,\n",
       "       -1.32128168e-01, -9.20870173e-01, -5.61085691e-01, -2.31160323e-01,\n",
       "       -7.98379823e-01, -5.08890348e-01, -7.70267294e-01, -6.34998251e-01,\n",
       "       -3.52081910e-01, -2.75471973e-01, -7.90687252e-01, -8.23624275e-01,\n",
       "       -7.49191092e-01, -7.97999590e-01, -5.95709605e-01, -7.43987963e-01,\n",
       "       -1.33660921e-01, -4.22576907e-01, -9.30632477e-01, -8.98340150e-01,\n",
       "       -3.17705630e-01, -8.69420109e-01, -4.29314281e-02, -1.70993976e-01,\n",
       "       -3.93473928e-01, -1.95391445e-01, -6.04249618e-01, -8.09204972e-01,\n",
       "       -4.20875428e-01, -6.60622637e-01, -3.47596991e-01, -4.73318096e-01,\n",
       "       -7.90827879e-01, -5.57402715e-01, -2.64697781e-01, -9.71881179e-02,\n",
       "       -9.21590625e-01, -2.48210227e-01, -8.25624514e-01, -3.09442938e-01,\n",
       "       -2.70252825e-01, -9.80569776e-01, -3.23173785e-01, -7.89114480e-01,\n",
       "       -5.23643523e-01, -1.03289019e-01, -7.68888362e-01, -9.54433891e-01,\n",
       "       -4.61524642e-01, -2.56240847e-01, -1.33699817e-01, -1.61515014e-01,\n",
       "       -2.39531126e-01, -8.31914356e-01, -5.99431061e-01, -2.64082634e-01,\n",
       "       -9.93486064e-01, -1.85159764e-02, -9.82841450e-01, -8.47278861e-01,\n",
       "       -7.41760141e-01, -2.48118647e-01, -4.91149812e-01, -3.26534826e-01])"
      ]
     },
     "execution_count": 46,
     "metadata": {},
     "output_type": "execute_result"
    }
   ],
   "source": [
    "s"
   ]
  },
  {
   "cell_type": "code",
   "execution_count": 47,
   "metadata": {
    "scrolled": false
   },
   "outputs": [
    {
     "data": {
      "text/plain": [
       "True"
      ]
     },
     "execution_count": 47,
     "metadata": {},
     "output_type": "execute_result"
    }
   ],
   "source": [
    "# All values are within the given interval:\n",
    "np.all(s >= -1)\n"
   ]
  },
  {
   "cell_type": "code",
   "execution_count": 48,
   "metadata": {
    "scrolled": false
   },
   "outputs": [
    {
     "data": {
      "text/plain": [
       "True"
      ]
     },
     "execution_count": 48,
     "metadata": {},
     "output_type": "execute_result"
    }
   ],
   "source": [
    "np.all(s < 0)"
   ]
  },
  {
   "cell_type": "code",
   "execution_count": 49,
   "metadata": {
    "scrolled": false
   },
   "outputs": [
    {
     "data": {
      "image/png": "[encoded data removed]",
      "text/plain": [
       "<Figure size 432x288 with 1 Axes>"
      ]
     },
     "metadata": {},
     "output_type": "display_data"
    }
   ],
   "source": [
    "# https://www.javatpoint.com/numpy-random\n",
    "# Display the histogram of the samples, along with the probability density function:\n",
    "import matplotlib.pyplot as plt\n",
    "import seaborn as sns\n",
    "import numpy as np\n",
    "s = np.random.normal(mu, sigma, 1000)  \n",
    "count, bins, ignored = plt.hist(s, 15, density=True)\n",
    "plt.plot(bins, np.ones_like(bins), linewidth=2, color='b')\n",
    "plt.style.use(\"ggplot\")\n",
    "plt.show()\n"
   ]
  },
  {
   "cell_type": "markdown",
   "metadata": {
    "scrolled": false
   },
   "source": [
    "<cr>"
   ]
  },
  {
   "cell_type": "markdown",
   "metadata": {},
   "source": [
    "### 3.3 numpy.random.multivariate_normal"
   ]
  },
  {
   "cell_type": "markdown",
   "metadata": {},
   "source": [
    "numpy.random.multivariate_normal(mean, cov[, size]).\n",
    "random.multivariate_normal(mean, cov, size=None, check_valid='warn', tol=1e-8).\n",
    "Draw random samples from a multivariate normal distribution.The multivariate normal, multinormal or Gaussian distribution is a generalization of the one-dimensional normal distribution to higher dimensions.\n",
    "https://numpy.org/devdocs/reference/random/generated/numpy.random.multivariate_normal.html"
   ]
  },
  {
   "cell_type": "code",
   "execution_count": 50,
   "metadata": {
    "scrolled": false
   },
   "outputs": [
    {
     "data": {
      "image/png": "[encoded data removed]",
      "text/plain": [
       "<Figure size 432x288 with 1 Axes>"
      ]
     },
     "metadata": {},
     "output_type": "display_data"
    }
   ],
   "source": [
    "mean = [0,0]\n",
    "cov = [[1,0],[0,100]] # diagonal covariance, points lie on x or y-axis\n",
    "\n",
    "import matplotlib.pyplot as plt\n",
    "# import numpy to avoid an error (np is not defined)\n",
    "import numpy as np\n",
    "x,y = np.random.multivariate_normal(mean,cov,5000).T\n",
    "plt.style.use(\"ggplot\")\n",
    "plt.plot(x,y,'x'); plt.axis('equal'); plt.show()\n"
   ]
  },
  {
   "cell_type": "code",
   "execution_count": 51,
   "metadata": {
    "scrolled": false
   },
   "outputs": [
    {
     "name": "stderr",
     "output_type": "stream",
     "text": [
      "<ipython-input-51-387f2631f520>:3: RuntimeWarning: covariance is not positive-semidefinite.\n",
      "  x = np.random.multivariate_normal(mean,cov,(3,3))\n"
     ]
    },
    {
     "data": {
      "text/plain": [
       "(3, 3, 2)"
      ]
     },
     "execution_count": 51,
     "metadata": {},
     "output_type": "execute_result"
    }
   ],
   "source": [
    "mean = (1,2)\n",
    "cov = [[1,0],[1,0]]\n",
    "x = np.random.multivariate_normal(mean,cov,(3,3))\n",
    "x.shape\n",
    "(3, 3, 2)"
   ]
  },
  {
   "cell_type": "code",
   "execution_count": 52,
   "metadata": {},
   "outputs": [
    {
     "name": "stdout",
     "output_type": "stream",
     "text": [
      "[ True  True]\n"
     ]
    }
   ],
   "source": [
    "# The following is probably true, given that 0.6 is roughly twice the standard deviation:\n",
    "\n",
    "list = (x[0,0,:] - mean) < 0.6\n",
    "print (list) \n"
   ]
  },
  {
   "cell_type": "markdown",
   "metadata": {},
   "source": [
    "### 3.4 numpy.random.la place function"
   ]
  },
  {
   "cell_type": "markdown",
   "metadata": {},
   "source": [
    "numpy.random.laplace\n",
    "numpy.random.laplace(loc=0.0, scale=1.0, size=None)\n",
    "Draw samples from the Laplace or double exponential distribution with specified location (or mean) and scale (decay).\n",
    "\n",
    "The Laplace distribution is similar to the Gaussian/normal distribution, but is sharper at the peak and has fatter tails. It represents the difference between two independent, identically distributed exponential random variables.\n",
    "https://numpy.org/devdocs/reference/random/generated/numpy.random.laplace.html"
   ]
  },
  {
   "cell_type": "code",
   "execution_count": null,
   "metadata": {
    "scrolled": false
   },
   "outputs": [],
   "source": [
    "# Draw samples from the distribution\n",
    "import numpy as np\n",
    "loc, scale = 0., 1.\n",
    "s = np.random.laplace(loc, scale, 1000)\n"
   ]
  },
  {
   "cell_type": "code",
   "execution_count": 53,
   "metadata": {
    "scrolled": true
   },
   "outputs": [
    {
     "data": {
      "text/plain": [
       "array([-1.16441716e-02, -3.63009787e-02, -1.60997361e-02, -2.19294796e-01,\n",
       "        1.14687445e-01,  8.95125639e-02, -3.03405161e-01, -3.06044158e-01,\n",
       "       -4.67266864e-01,  6.84530806e-02, -1.25378558e-01,  1.89263851e-01,\n",
       "        6.75758421e-02, -2.82533020e-01, -3.70763251e-01,  8.02712524e-02,\n",
       "       -1.87445294e-01,  1.71033221e-02,  5.29768449e-01,  7.23001997e-03,\n",
       "       -2.40885791e-02,  1.46062699e-01,  7.51972450e-02, -9.26412404e-03,\n",
       "       -3.70668659e-02,  1.53339354e-01, -8.49298247e-02, -2.34434045e-01,\n",
       "       -6.38675222e-03, -7.04602894e-02,  1.19470575e-01, -5.83355572e-02,\n",
       "        3.07716868e-01, -1.38208177e-01,  1.10286252e-01, -3.85806105e-01,\n",
       "        1.22783084e-02, -3.26221720e-01,  6.04618748e-02,  2.07219680e-02,\n",
       "        1.53761440e-01, -4.71259142e-02,  1.59633514e-01,  1.65060077e-01,\n",
       "       -1.40439355e-01, -1.52160545e-01,  4.63723376e-01,  4.02844466e-01,\n",
       "       -2.11044740e-01,  1.66076024e-02,  1.15428098e-01,  3.38989794e-01,\n",
       "        3.87220739e-01,  2.76685324e-02, -1.24679863e-02,  3.95878598e-01,\n",
       "       -1.05368267e-01,  1.24490129e-01, -1.77354165e-02, -1.07229915e-01,\n",
       "        5.27485133e-02,  7.71864220e-02, -6.15325175e-02,  6.15840495e-02,\n",
       "        2.22289340e-01,  2.42903005e-01,  1.95105189e-01,  8.10963906e-02,\n",
       "        1.47697771e-01,  4.05251768e-01,  1.90476687e-01,  3.92550062e-01,\n",
       "       -4.40626255e-02, -1.52952164e-01,  3.22913803e-01, -9.67856912e-02,\n",
       "       -1.12852448e-01, -1.46230899e-01,  4.26848944e-01,  2.62775092e-01,\n",
       "       -3.96349993e-02,  2.80948954e-01, -3.16960111e-02, -2.26967558e-02,\n",
       "       -2.79224276e-01, -2.09728298e-02,  5.43077175e-02,  9.38648574e-02,\n",
       "        2.05332851e-01, -8.12265759e-03, -2.67522920e-01,  3.35228013e-01,\n",
       "       -2.90202481e-01, -9.96563807e-02, -9.14610550e-02,  2.49776585e-01,\n",
       "        3.07159699e-01,  1.83225611e-01,  1.51741647e-01, -3.86289222e-02,\n",
       "       -1.29509450e-01, -4.35018886e-01,  1.89837401e-01,  1.42229818e-01,\n",
       "       -1.19768063e-01, -3.59206927e-01, -8.43662780e-02,  8.81583869e-02,\n",
       "       -8.83072035e-02,  1.56527620e-01,  2.19057845e-01, -2.46486767e-01,\n",
       "        7.06307561e-02, -1.79675062e-01, -9.30250436e-02, -8.33184627e-02,\n",
       "       -1.07799904e-01, -6.93111849e-02,  1.82530169e-01,  1.00000587e-01,\n",
       "        2.68779097e-01, -2.12258608e-01, -6.05620793e-02, -9.98651110e-02,\n",
       "        2.85369095e-01, -1.01814689e-01,  8.42960298e-02, -6.74092973e-02,\n",
       "       -1.62882848e-03,  2.18907070e-01,  8.73398089e-02, -6.75158140e-01,\n",
       "        3.17308328e-01,  1.04426258e-01,  2.42877939e-02,  7.81978228e-02,\n",
       "        5.85457462e-02, -1.68048177e-01,  3.83575050e-01,  5.74580769e-01,\n",
       "        9.96304496e-02, -3.74635640e-01,  9.07078072e-02,  8.97313577e-02,\n",
       "        2.65930446e-02, -7.12554724e-02, -1.53972003e-01,  8.90438770e-02,\n",
       "        1.30852617e-03,  6.08330981e-03,  4.86905801e-03, -1.98694917e-01,\n",
       "        1.51375503e-01,  3.71143528e-02,  8.74490537e-02,  1.26850706e-01,\n",
       "        2.79429422e-02,  8.94614455e-02, -7.29297472e-02, -3.05876299e-01,\n",
       "       -1.34170336e-01, -1.97348773e-01,  8.62832171e-03, -1.68512831e-01,\n",
       "       -5.85564989e-02, -4.32210068e-02,  3.28619463e-02,  9.49481111e-02,\n",
       "       -2.86887524e-01,  2.64858952e-01, -2.36306492e-01,  2.77652609e-01,\n",
       "        3.11811017e-02, -1.33331432e-01, -2.82215078e-01, -7.11073347e-02,\n",
       "       -9.90572889e-02,  2.59043972e-01,  2.28973939e-01, -5.70161536e-02,\n",
       "       -1.35053377e-01, -1.07544875e-01,  8.84820295e-02,  6.29275562e-02,\n",
       "        1.45444781e-01,  2.87788603e-01,  6.95013649e-02, -5.50192030e-01,\n",
       "        1.27427983e-02, -1.48541160e-01, -2.71355726e-01,  3.55844728e-01,\n",
       "        1.56326872e-01,  2.66998500e-01, -5.79276477e-02, -2.76085782e-01,\n",
       "        1.22358306e-01,  2.65461895e-01, -2.12452519e-01, -1.48235303e-01,\n",
       "        8.91787040e-02,  4.53617050e-01, -2.70905942e-01,  3.59501929e-01,\n",
       "       -1.76039946e-02, -1.12789292e-01,  2.04832365e-01, -2.46868972e-02,\n",
       "        1.43069665e-01,  3.26975835e-01,  5.12654972e-03,  9.16606660e-02,\n",
       "       -1.41336901e-02,  2.07813193e-01,  4.18643404e-01,  1.20500945e-01,\n",
       "        8.75769261e-02, -3.19541168e-01,  1.68847687e-01, -1.12302698e-01,\n",
       "        2.73737623e-01, -9.37522698e-02,  6.65163203e-02, -1.99537424e-01,\n",
       "       -2.64604626e-01,  1.55100164e-03,  1.02739153e-01, -9.21090382e-02,\n",
       "       -3.68629452e-01, -1.14379332e-01,  2.74865834e-01,  4.58508993e-02,\n",
       "       -3.01953262e-02,  3.51612163e-02,  1.93448276e-01,  2.91427574e-01,\n",
       "        2.03456998e-01, -1.65865055e-01, -3.30228583e-01,  1.11910178e-01,\n",
       "       -2.14075619e-02,  1.70247943e-01,  2.11180978e-01, -1.42204383e-01,\n",
       "        2.06688141e-01,  8.12102430e-02, -4.30550182e-04,  2.33404985e-01,\n",
       "        2.10115808e-02,  1.69757858e-01,  1.13315834e-01, -3.33769553e-02,\n",
       "       -7.10596796e-02, -4.41902053e-01,  2.43111944e-01,  2.19782487e-01,\n",
       "        7.22549039e-03, -1.17659685e-01, -8.33920974e-03, -5.75953639e-03,\n",
       "       -3.89855320e-01, -9.71945587e-04, -1.93725270e-01,  2.78096515e-01,\n",
       "        2.99245893e-01,  2.07321813e-01,  2.53345200e-02,  1.49374967e-01,\n",
       "       -6.99921360e-02, -1.42035564e-01,  4.81629685e-01, -5.11876741e-02,\n",
       "       -6.08544846e-02,  1.29238636e-01,  4.28522939e-02, -5.32452323e-02,\n",
       "        2.49595175e-01, -1.53949123e-01, -7.66652219e-02,  8.53846242e-03,\n",
       "        1.65908116e-01, -1.44199245e-01, -4.95879094e-01, -2.41378696e-02,\n",
       "       -2.84863976e-01,  3.64556666e-01,  1.26236474e-01, -2.12238330e-01,\n",
       "        1.33134384e-01,  3.78147931e-01, -3.46496223e-01, -2.28745988e-01,\n",
       "       -3.81484326e-01, -2.46477347e-01, -2.59915206e-01,  6.54740413e-02,\n",
       "        1.68006555e-02,  2.47549051e-02, -3.71921525e-02,  3.29548480e-01,\n",
       "       -2.04703628e-01,  2.25735098e-01,  1.90446150e-01,  3.59661369e-01,\n",
       "        2.06150449e-02,  2.22880532e-02,  9.73116383e-02,  8.06148992e-03,\n",
       "        1.60231160e-01,  2.69231522e-01,  1.92536384e-01, -3.41354352e-01,\n",
       "        6.69305502e-03,  3.00498530e-02,  1.06644190e-02, -1.17437175e-01,\n",
       "        2.36372561e-01,  9.49961676e-02,  5.94185749e-02,  2.42507270e-01,\n",
       "       -7.55090172e-02,  2.68411750e-01, -2.77265436e-01, -3.73599890e-02,\n",
       "       -1.29976389e-01, -1.22511220e-01,  1.50281507e-01,  1.07436383e-01,\n",
       "       -8.40460835e-02,  5.20692715e-03,  2.00818913e-01,  4.51494514e-02,\n",
       "        1.85656457e-01, -1.90240641e-01,  1.50031780e-01, -1.67844015e-01,\n",
       "        9.13237603e-03,  8.71684642e-02,  2.17104781e-01, -2.99327827e-01,\n",
       "        1.45244827e-01,  3.65212553e-01,  1.64254919e-01,  2.61857092e-01,\n",
       "        7.25867647e-02, -2.04896646e-01, -1.04070607e-02, -1.27417900e-01,\n",
       "        2.22491485e-01, -3.00626363e-02,  1.48304033e-01, -1.72178898e-02,\n",
       "       -1.19853384e-01, -1.83973297e-02,  3.50391778e-01,  2.17836864e-01,\n",
       "        1.75578218e-01,  1.93591905e-01, -4.72314860e-01, -1.26185130e-01,\n",
       "       -1.58855054e-01, -4.59396688e-02, -2.20610621e-01, -3.53158815e-02,\n",
       "       -3.30047843e-01, -1.24294409e-01, -1.94067424e-01,  2.09979937e-01,\n",
       "       -1.10326593e-01,  2.58578192e-01, -8.54079095e-02,  1.50560201e-01,\n",
       "        1.58464215e-01,  1.48987534e-01, -5.95467361e-02,  2.98219019e-01,\n",
       "       -8.00658317e-02,  1.46566078e-01, -2.01683412e-01, -5.69679614e-02,\n",
       "       -1.66500724e-01, -2.33879360e-01, -1.67509249e-01,  1.76574387e-01,\n",
       "        1.28628359e-01,  7.01359340e-02,  7.95761687e-02, -2.53750566e-02,\n",
       "        2.10289060e-01,  3.77351625e-02, -1.40767304e-01,  1.65061153e-01,\n",
       "       -1.09194338e-01, -1.42129690e-01,  1.14085021e-02, -2.18648926e-01,\n",
       "       -9.74439167e-02,  1.40924526e-02,  5.02973038e-02,  2.96380853e-01,\n",
       "        8.60732752e-02, -3.23172537e-01,  1.04003014e-01,  9.40319603e-02,\n",
       "        1.69267132e-01,  2.50666715e-02, -7.16942760e-02, -1.72141286e-01,\n",
       "        1.54757277e-02,  2.68480691e-01,  1.84563487e-01, -1.44600381e-01,\n",
       "        2.48352544e-02,  1.58042957e-01, -1.23513906e-01,  1.23973536e-01,\n",
       "        6.16065095e-02, -1.32569459e-01,  1.00656692e-01, -2.71118035e-01,\n",
       "       -1.66989719e-01,  2.92219066e-02,  3.08211815e-01,  2.28806699e-01,\n",
       "       -8.76991350e-02, -3.69381696e-01,  3.31536232e-02,  2.43573615e-01,\n",
       "       -9.09517619e-02,  1.61130576e-03, -2.67960339e-01, -1.83136602e-01,\n",
       "       -1.40784717e-01,  5.93109638e-01, -1.57170953e-01,  1.82494232e-01,\n",
       "       -3.52192348e-01, -1.54777424e-01,  1.87028881e-01,  9.47738881e-02,\n",
       "        1.42022930e-01, -2.01899380e-01, -1.63595837e-01, -3.19855416e-01,\n",
       "       -1.02863914e-02, -1.22556457e-01,  1.24019545e-01,  1.00517178e-01,\n",
       "       -1.90650311e-01, -3.44850676e-01, -2.04277957e-01, -1.74081972e-01,\n",
       "       -3.05974737e-01,  5.35312245e-01, -2.62234909e-01, -7.05552933e-02,\n",
       "        2.79152961e-02,  1.70495586e-01, -2.60185984e-02, -3.69000137e-02,\n",
       "        9.51918579e-02,  3.84240969e-01, -1.19941826e-02, -5.86995388e-02,\n",
       "        6.71901571e-02,  1.35547292e-01, -9.72367190e-02,  7.88041679e-02,\n",
       "        8.81699008e-02, -1.69628429e-02,  1.92914844e-01, -6.71630026e-02,\n",
       "       -7.64726192e-02, -3.25873409e-01,  8.08294854e-02, -1.72119308e-01,\n",
       "       -2.19729612e-01,  2.14037007e-01, -6.57424253e-02,  4.28112877e-01,\n",
       "        2.38286149e-01,  7.59664394e-02, -1.82359179e-01, -1.01735908e-01,\n",
       "        2.03667265e-01,  2.73176101e-01,  7.38605637e-02, -1.48255541e-01,\n",
       "        2.72475700e-01, -1.02241090e-01,  4.89028208e-02, -1.05750569e-02,\n",
       "       -9.81226513e-03, -1.33320927e-01, -4.65079763e-02, -2.51213483e-01,\n",
       "        1.75766681e-01, -4.25076114e-01,  1.12803427e-01,  1.14832056e-01,\n",
       "       -3.09535457e-02, -1.61058993e-01, -9.89228608e-02, -2.04486663e-01,\n",
       "       -2.05765833e-02,  2.45880123e-01, -1.83587204e-01, -2.62722103e-01,\n",
       "        3.01679473e-01, -2.84342696e-02,  1.55914884e-01,  1.22861049e-02,\n",
       "       -1.00000784e-01,  1.23978339e-01, -7.46889911e-02, -1.90717340e-01,\n",
       "        2.21237564e-02, -1.97254336e-01,  1.60165849e-01, -8.44562912e-02,\n",
       "       -1.42842287e-02, -2.78787814e-01, -1.29934384e-01, -1.97861703e-01,\n",
       "        3.04034086e-02, -1.95736984e-01,  1.05203611e-01,  1.67479794e-02,\n",
       "        1.71151743e-01,  2.25679844e-02, -2.45055962e-02, -1.60030199e-01,\n",
       "        2.10925037e-01,  1.85077111e-02,  1.58302590e-01, -8.74512499e-02,\n",
       "       -1.16130269e-02,  1.81387301e-01,  4.22960558e-02,  4.05529831e-01,\n",
       "        1.00287849e-01,  8.98953131e-02,  5.57456375e-01,  9.19651693e-02,\n",
       "        2.85468293e-01,  1.26154432e-01,  2.61704922e-02,  3.23014775e-01,\n",
       "        3.83210785e-02,  1.51991974e-01,  3.13207923e-01, -2.22890769e-02,\n",
       "        7.52259958e-02,  1.07325958e-01,  1.99259304e-01, -3.28507964e-01,\n",
       "        7.95325270e-02, -3.03691352e-01,  3.08489626e-01, -6.30362526e-02,\n",
       "        9.05973264e-02,  5.30710308e-01,  2.41264043e-01, -4.75938827e-02,\n",
       "       -5.69235107e-02, -1.12591786e-01,  8.18038696e-02,  1.12840272e-01,\n",
       "        3.41189947e-01,  9.70131212e-03, -6.06317213e-02, -1.61055374e-01,\n",
       "        3.04226471e-01, -1.69689258e-01, -1.16240161e-01,  3.68627057e-01,\n",
       "       -2.74135163e-01, -2.00683630e-01, -2.38075161e-02,  7.58357560e-02,\n",
       "       -4.61866388e-02,  5.32524353e-02, -4.64586271e-02, -9.08894534e-02,\n",
       "        2.82141792e-02,  5.13272873e-02, -3.30477962e-01, -1.58458545e-01,\n",
       "       -3.02658662e-01,  6.39690582e-02,  2.27712302e-01,  6.10670208e-02,\n",
       "       -3.46075564e-01, -1.81481087e-01, -4.52117864e-01, -1.21266968e-01,\n",
       "        7.25763573e-02,  2.29133258e-03, -8.30982158e-02, -3.71214597e-02,\n",
       "        3.53110874e-01, -4.07825805e-01, -1.10665675e-01, -1.62675825e-01,\n",
       "       -1.79548464e-02,  5.98243588e-02,  2.35337265e-01,  3.91219922e-01,\n",
       "        1.80206317e-01,  1.58887163e-01, -3.61442990e-01,  2.46651149e-01,\n",
       "       -2.66682472e-01,  2.23660305e-02, -5.72537276e-02,  7.80176462e-02,\n",
       "        3.57767628e-01, -2.41637547e-01, -1.20733030e-01,  2.91770525e-01,\n",
       "       -4.55640314e-02, -1.91352089e-01, -1.78810978e-01,  4.56924506e-01,\n",
       "       -2.02974653e-01, -1.92192137e-01,  8.23663323e-02,  9.82086858e-02,\n",
       "        2.47622844e-01,  1.06244373e-01,  2.27262418e-01,  5.54797986e-02,\n",
       "       -1.53976407e-01, -1.89445364e-02,  2.89199768e-01,  1.50099664e-01,\n",
       "        5.92934373e-02,  1.06180660e-01, -2.36957702e-01, -5.00012781e-02,\n",
       "       -2.07325808e-01, -5.06662709e-02,  7.12558908e-02, -1.99523293e-02,\n",
       "        1.77206309e-02,  4.79971353e-01, -2.11699080e-01, -9.44562958e-02,\n",
       "       -2.45438510e-02, -5.25251644e-02,  1.05992725e-01, -7.36679052e-02,\n",
       "       -2.13674767e-01,  2.00322408e-02, -3.01374454e-01, -3.07306694e-01,\n",
       "        7.76027905e-02, -4.97271181e-01, -4.56956369e-02, -3.16492177e-01,\n",
       "        9.07464148e-02,  3.46989863e-02,  1.95518097e-01, -1.28697708e-01,\n",
       "       -5.68118032e-02, -1.98610606e-01, -1.05729915e-01, -2.42199883e-01,\n",
       "        7.50992874e-02, -1.07499170e-01, -2.61075145e-01, -1.21607516e-02,\n",
       "        1.58129190e-01,  2.18540345e-01, -9.67841236e-02, -1.06957130e-01,\n",
       "       -5.50868317e-02, -8.99317308e-02, -3.32606541e-01,  3.62048235e-01,\n",
       "        1.72228195e-01, -3.01725687e-01, -3.03882049e-01, -7.82760111e-02,\n",
       "        1.29125999e-01,  4.01051156e-01,  4.49718445e-01,  1.75509137e-01,\n",
       "        5.42676579e-01, -6.44677109e-02, -1.49158678e-01,  4.71117053e-01,\n",
       "        2.17847248e-01, -2.93771470e-01,  1.29384700e-01, -1.92248934e-01,\n",
       "       -2.91553525e-02, -1.33782161e-01, -1.93960762e-01, -1.69419024e-01,\n",
       "        2.10928478e-01, -1.02661146e-01, -3.95084037e-01, -2.90215144e-01,\n",
       "       -1.48833808e-02, -2.17653728e-01, -4.99698363e-02, -5.22271687e-01,\n",
       "       -3.61699800e-01, -2.09864470e-01, -7.93359804e-02, -1.98887564e-01,\n",
       "        8.63266253e-02,  9.08109075e-02, -1.10936661e-01, -5.84010408e-02,\n",
       "       -5.26204681e-02,  6.10203617e-03, -8.67527648e-02, -1.55428241e-01,\n",
       "        3.33365569e-01, -3.77462165e-02, -1.28858167e-01,  5.68754898e-02,\n",
       "       -2.07080132e-01, -2.56238149e-01,  1.17052693e-01,  1.86967952e-01,\n",
       "        1.88415267e-01,  4.72546846e-02, -2.20458549e-01, -8.37921574e-02,\n",
       "       -4.00192944e-02,  6.10549242e-02, -2.93269754e-01, -2.55397540e-01,\n",
       "       -8.46647390e-02, -9.34470710e-02,  5.82684858e-01, -1.21755702e-01,\n",
       "        8.97302680e-02,  3.44825282e-01,  1.92101260e-01,  1.77210638e-01,\n",
       "       -5.64835445e-02,  3.37279780e-01, -5.09854304e-02, -5.29022533e-02,\n",
       "       -1.11719278e-01,  9.43113584e-02,  1.12639709e-01,  3.00403885e-01,\n",
       "        4.74439279e-02, -1.68695308e-01, -2.16576453e-02,  1.98898374e-02,\n",
       "        4.04209877e-01,  3.47951992e-01, -2.85765804e-01,  2.61943630e-02,\n",
       "        1.36846874e-01, -5.65155235e-02,  3.55606715e-02,  1.08034789e-02,\n",
       "        1.15634836e-02,  1.09540381e-01, -1.42842417e-01, -1.86554423e-01,\n",
       "        1.09648619e-01, -9.97370968e-02,  6.25254032e-02,  3.25484386e-02,\n",
       "       -3.05337739e-02, -1.76988077e-02, -2.25324116e-01, -2.46171899e-01,\n",
       "        2.92055278e-01,  2.13325038e-01,  2.27113286e-02, -7.39453348e-02,\n",
       "        2.08828116e-01, -1.88116347e-01,  1.77232471e-01,  7.88978929e-02,\n",
       "        2.66497271e-01, -1.51114274e-01, -2.55858667e-01,  2.33619305e-01,\n",
       "        1.94738754e-01, -3.72391947e-02,  1.57054988e-01, -3.97371873e-01,\n",
       "        4.55845581e-01, -3.35349540e-01,  6.25607853e-02,  1.01526329e-01,\n",
       "        1.67438186e-01,  2.24472821e-01, -8.78877811e-03, -4.15525687e-02,\n",
       "       -2.11745823e-01,  9.91413159e-03, -3.69736729e-02, -1.12622784e-01,\n",
       "        1.32818831e-01,  1.30590287e-01,  4.72505770e-02,  8.57338252e-02,\n",
       "        1.05852472e-01,  2.87416909e-01,  9.81271676e-02, -7.50736628e-02,\n",
       "        3.67983535e-01,  2.99948867e-01, -1.30677218e-01,  2.44115911e-01,\n",
       "        3.01128022e-01, -1.88370993e-01, -1.38439196e-02,  2.62180898e-02,\n",
       "       -1.42296825e-01, -4.30299090e-01,  3.79145763e-01, -5.80649418e-02,\n",
       "        2.01700417e-01, -1.93287784e-02,  1.04859370e-01,  1.39600976e-01,\n",
       "       -1.12716688e-01, -3.99282952e-02,  3.45937085e-01,  1.03842879e-01,\n",
       "        2.97250250e-02, -1.67075120e-01, -6.79194762e-02, -5.81085966e-02,\n",
       "        2.68886977e-01,  1.64048367e-01,  1.46865480e-01, -1.54031830e-01,\n",
       "       -2.71206672e-01, -1.16061257e-01,  3.55746361e-02, -1.66650484e-01,\n",
       "       -2.26115248e-01, -3.90237883e-01,  3.01032620e-01,  1.07316745e-01,\n",
       "       -1.56590536e-01, -1.43272805e-01,  2.86626229e-01, -3.79642113e-02,\n",
       "        1.70688312e-02,  6.70830037e-02, -1.31525632e-01,  2.40374416e-02,\n",
       "        3.61641322e-01, -1.61485398e-01,  1.54913946e-01, -7.52038284e-02,\n",
       "       -4.32232403e-02,  1.87605546e-01, -1.46764435e-01, -1.64794855e-02,\n",
       "        6.61361826e-02, -6.25566044e-01,  1.56113524e-01,  1.31113334e-01,\n",
       "        2.29135984e-01, -4.96316466e-01,  2.92450783e-01, -1.67368858e-01,\n",
       "        4.13185895e-02, -5.76565384e-02,  2.35165839e-01,  3.70682232e-02,\n",
       "        2.70850824e-01, -1.21549338e-01, -2.99741402e-01,  2.35033146e-01,\n",
       "        4.46012992e-02, -1.95045795e-01, -1.18052836e-01, -1.08532071e-01,\n",
       "        1.33005194e-01, -1.66067049e-01, -1.87433884e-01, -9.46296414e-02,\n",
       "        1.38122606e-01,  1.88405121e-02, -3.25779524e-01,  4.09421278e-02,\n",
       "       -2.26045286e-01, -1.35565028e-01,  4.18471939e-01,  3.10548951e-01,\n",
       "       -5.64387389e-02, -2.43316604e-02, -9.43122039e-02, -1.01008070e-01,\n",
       "        3.07264479e-01, -9.54770091e-02, -1.90576299e-01, -7.20236007e-02,\n",
       "       -2.35400114e-01,  2.30882789e-02, -1.92647141e-01, -1.33715036e-01,\n",
       "        9.01108025e-02,  1.66433895e-02, -1.92599303e-01,  2.69375342e-02,\n",
       "       -2.90728218e-01,  1.55419627e-01, -5.89797110e-02,  1.30254954e-01,\n",
       "       -3.62701450e-02,  1.63847896e-01,  1.81493807e-01, -1.25695684e-01,\n",
       "       -5.34966652e-02,  1.92713345e-01, -1.60034356e-01, -9.34131052e-02,\n",
       "       -1.45499611e-01, -1.00527814e-02, -1.51381367e-01,  1.82593323e-02,\n",
       "       -9.15412429e-02,  2.94165480e-01,  7.28962610e-02, -3.73464544e-01,\n",
       "        5.22894121e-01,  1.97233294e-01, -5.28508318e-02, -1.77159492e-01,\n",
       "        1.91468000e-01, -8.30623861e-02, -3.34615787e-01, -3.38496240e-02,\n",
       "        3.82964784e-01,  2.74613069e-01, -8.05608099e-02,  1.34172409e-01,\n",
       "       -4.23883175e-02,  7.05311493e-02,  1.72116075e-01, -1.32723648e-01,\n",
       "        5.36749412e-02, -1.40086392e-01, -1.09671890e-01, -1.72869676e-01,\n",
       "       -5.24048154e-02,  1.03817642e-01, -6.33384712e-02,  4.50823813e-02,\n",
       "       -2.40200864e-01, -1.30824625e-01, -6.01686867e-02,  1.88420538e-01,\n",
       "        6.79038158e-02,  9.86747271e-02, -1.87155749e-01,  2.24467703e-01,\n",
       "       -8.25274739e-02, -3.82144939e-01,  3.80653678e-01,  4.96482014e-01,\n",
       "        6.42160509e-02, -3.17998168e-01,  3.18809338e-02,  1.08157920e-01,\n",
       "       -6.65574142e-02,  5.17633323e-02,  7.59357657e-02, -1.76981489e-01,\n",
       "       -2.07608701e-01,  3.88589239e-01,  1.24643187e-01, -1.52667165e-02,\n",
       "       -2.70580855e-01,  5.04596275e-01, -8.53377803e-02, -1.01982796e-01,\n",
       "        4.51690316e-02, -2.88084686e-01, -1.23633992e-01, -1.23808512e-02,\n",
       "        8.63447713e-02, -2.06555510e-01,  8.87628165e-02,  1.40640578e-01,\n",
       "       -1.42798140e-02,  3.07857348e-01,  4.42254360e-02,  1.83968699e-01,\n",
       "       -2.27528642e-01, -8.55490955e-02, -1.46218406e-01,  7.91010956e-02])"
      ]
     },
     "execution_count": 53,
     "metadata": {},
     "output_type": "execute_result"
    }
   ],
   "source": [
    "s"
   ]
  },
  {
   "cell_type": "code",
   "execution_count": 65,
   "metadata": {},
   "outputs": [
    {
     "data": {
      "image/png": "[encoded data removed]",
      "text/plain": [
       "<Figure size 432x288 with 1 Axes>"
      ]
     },
     "metadata": {},
     "output_type": "display_data"
    }
   ],
   "source": [
    "# Display the histogram of the samples, along with the probability density function:\n",
    "import numpy as np\n",
    "import matplotlib.pyplot as plt\n",
    "count, bins, ignored = plt.hist(s, 30, density=True)\n",
    "x = np.arange(-8., 8., .01)\n",
    "pdf = np.exp(-abs(x-loc)/scale)/(2.*scale)\n",
    "plt.plot(x, pdf)\n",
    "plt.style.use(\"ggplot\")\n",
    "plt.show()"
   ]
  },
  {
   "cell_type": "code",
   "execution_count": 67,
   "metadata": {
    "scrolled": false
   },
   "outputs": [
    {
     "data": {
      "image/png": "[encoded data removed]",
      "text/plain": [
       "<Figure size 432x288 with 1 Axes>"
      ]
     },
     "metadata": {},
     "output_type": "display_data"
    }
   ],
   "source": [
    "# Plot Gaussian for comparison:\n",
    "import numpy as np\n",
    "import matplotlib.pyplot as plt\n",
    "count, bins, ignored = plt.hist(s, 30, density=True)\n",
    "x = np.arange(-8., 8., .01)\n",
    "pdf = np.exp(-abs(x-loc)/scale)/(2.*scale)\n",
    "plt.plot(x, pdf)\n",
    "plt.style.use(\"ggplot\")\n",
    "g = (1/(scale * np.sqrt(2 * np.pi)) * np.exp(-(x - loc)**2 / (2 * scale**2)))\n",
    "plt.plot(x,g)\n",
    "plt.show()"
   ]
  },
  {
   "cell_type": "code",
   "execution_count": 68,
   "metadata": {},
   "outputs": [
    {
     "data": {
      "image/png": "[encoded data removed]",
      "text/plain": [
       "<Figure size 432x288 with 1 Axes>"
      ]
     },
     "metadata": {},
     "output_type": "display_data"
    }
   ],
   "source": [
    "g = (1/(scale * np.sqrt(2 * np.pi)) * np.exp(-(x - loc)**2 / (2 * scale**2)))\n",
    "plt.plot(x,g)\n",
    "plt.show()"
   ]
  },
  {
   "cell_type": "markdown",
   "metadata": {},
   "source": [
    "### 3.5 numpy.random.poisson function"
   ]
  },
  {
   "cell_type": "markdown",
   "metadata": {},
   "source": [
    "numpy.random.poisson\n",
    "numpy.random.poisson(lam=1.0, size=None)\n",
    "Draw samples from a Poisson distribution.\n",
    "\n",
    "The Poisson distribution is the limit of the binomial distribution for large N.\n",
    "https://numpy.org/devdocs/reference/random/generated/numpy.random.poisson.html"
   ]
  },
  {
   "cell_type": "code",
   "execution_count": null,
   "metadata": {
    "scrolled": false
   },
   "outputs": [],
   "source": [
    "# Draw samples from the distribution:\n",
    "\n",
    "import numpy as np\n",
    "s = np.random.poisson(5, 10000)\n"
   ]
  },
  {
   "cell_type": "code",
   "execution_count": 69,
   "metadata": {
    "scrolled": true
   },
   "outputs": [
    {
     "data": {
      "text/plain": [
       "array([-1.24830172e+00,  1.09500880e-01,  1.38764297e-01, -2.36557532e-01,\n",
       "       -1.12219754e-01,  1.09484619e-01,  2.53293666e-01,  7.42860325e-03,\n",
       "       -1.36392239e+00, -5.96500893e-01,  3.80219223e-01,  3.56619041e+00,\n",
       "        1.92104693e-02,  4.81222686e-01,  4.03498607e-01,  1.09680332e+00,\n",
       "        1.56357598e+00,  1.25738268e+00,  2.86898107e-01,  7.78597420e-02,\n",
       "        5.37595207e-01,  4.43280714e-01, -4.70325122e-01, -5.92835471e-01,\n",
       "        7.41069707e-01, -1.26478647e+00, -1.13485723e+00,  2.34014933e-01,\n",
       "       -5.43998885e-02, -7.65093344e-01,  2.31037603e-01, -1.05688034e-01,\n",
       "        1.58283140e+00,  1.02944285e-01, -1.73731440e+00, -5.24895045e-01,\n",
       "        1.32734236e-01,  7.90347235e-01, -3.49258893e-01, -4.08949573e-01,\n",
       "        3.49038551e-01,  3.10249747e-01, -1.48419982e+00, -2.64644806e-01,\n",
       "       -2.17787287e+00, -6.28510473e+00,  1.14000313e-01, -3.82595576e-01,\n",
       "       -6.65482766e-01, -8.54212330e-02, -7.55523711e-01, -5.56211626e-01,\n",
       "        9.93238967e-01,  2.98043912e-01, -3.23637795e+00,  1.21820241e+00,\n",
       "       -1.74381559e+00, -1.58629383e-01, -8.25281371e-01, -2.57273574e-02,\n",
       "       -1.39280575e+00,  2.07503849e+00, -1.00579457e+00, -2.47878716e-01,\n",
       "        4.66620953e-01,  3.27717589e-01,  1.45032118e+00, -2.55210734e+00,\n",
       "       -8.44848193e-02, -2.21881535e-01,  1.90419032e+00,  1.95131531e+00,\n",
       "       -5.93897778e-01, -3.40232087e+00,  2.29839873e-01,  1.44821606e-01,\n",
       "       -1.30937140e-01,  2.85959612e-01,  2.76043270e-01,  1.50577693e-01,\n",
       "        7.05498935e-01,  3.69534259e+00, -1.23955051e+00,  1.26521253e-01,\n",
       "        8.18960973e-01, -1.08244804e+00, -2.51264235e+00,  6.30089713e-02,\n",
       "        1.29925492e+00, -1.49715170e+00,  3.46323240e+00, -5.96334263e-03,\n",
       "       -5.27504729e-01, -1.02635320e-01,  4.21011821e+00,  1.93749382e+00,\n",
       "        1.36582698e+00, -2.55113646e-01,  1.12492154e+00,  2.63577069e+00,\n",
       "       -4.40923606e-01, -1.53489653e+00, -3.23129874e-01,  1.76665548e-01,\n",
       "        1.53688143e-01, -7.95171959e-01, -5.53288594e-02,  1.37065700e+00,\n",
       "        4.34547751e-01, -8.16004884e-01, -2.82557185e-01, -6.55201499e-01,\n",
       "        9.04916566e-01, -2.64640597e+00,  2.45477722e+00,  9.26438505e-01,\n",
       "        2.38915336e-01, -5.53668247e-02, -1.23029401e+00,  1.22474080e-01,\n",
       "        3.84419729e+00,  3.11593373e+00, -1.12500768e+00,  4.91608369e-01,\n",
       "        3.63389573e+00, -5.90376371e-01, -3.04209665e-02, -3.67561005e-01,\n",
       "        3.60564576e-01, -1.26276389e+00,  5.13081799e-02,  1.02507519e+00,\n",
       "        1.13535785e+00,  1.83436701e+00,  1.20717409e+00,  9.66420033e-03,\n",
       "       -1.24540182e-01, -2.75035158e-01, -1.64843774e+00, -4.88646901e-01,\n",
       "       -4.15498557e-01,  8.57606810e-01,  6.02832157e-01,  9.28844289e-01,\n",
       "        3.23596910e-01, -3.10419345e-01,  4.38256919e-01, -1.52862291e-01,\n",
       "        4.61404057e-01, -5.54158781e-01,  1.32192264e-01, -7.23447424e-01,\n",
       "       -3.19914242e-01, -6.60013848e-01,  8.74501874e-01, -8.32375846e-02,\n",
       "        3.26542439e+00,  2.72551474e+00, -3.79675950e-01,  9.96556376e-01,\n",
       "       -1.14735203e+00, -2.87141207e-01, -9.19861397e-01, -3.61154987e-01,\n",
       "       -7.80954543e-01,  1.19169467e+00,  4.43234030e-01,  9.70875529e-02,\n",
       "        1.06631647e+00,  5.27691934e-01, -6.31712845e-02,  3.88878914e-01,\n",
       "        2.29307783e-01, -5.98643034e-01, -2.23506240e+00,  1.79591098e+00,\n",
       "       -1.62685419e+00,  4.37258785e+00,  3.61275424e-01,  1.32582715e+00,\n",
       "       -2.49678987e-01, -7.17944465e-01,  2.86799338e-02,  9.41172980e-01,\n",
       "       -1.85465643e+00, -1.10040224e+00,  3.99632528e-01, -3.79228217e+00,\n",
       "       -5.09119940e-01, -2.47174523e+00,  5.61256161e-01, -2.74161710e+00,\n",
       "        3.52065693e-01,  2.81899321e-01,  2.10776737e-01, -2.24020714e-01,\n",
       "       -1.58363778e+00, -9.39264475e-01,  2.92376532e+00, -8.93851176e-02,\n",
       "       -1.00097483e-02,  1.28514866e+00,  1.26957918e+00,  1.42960849e+00,\n",
       "        2.01099911e-02, -8.52461746e-01,  1.02252386e-01, -7.60856765e-01,\n",
       "        1.87688550e+00, -1.72528556e-01,  1.93063485e-01, -6.86417099e-01,\n",
       "        2.38544601e+00, -9.10416080e-02,  1.80995956e+00,  1.20942651e+00,\n",
       "        4.78333550e+00,  9.98718630e-01,  1.37083151e+00,  5.93239974e-01,\n",
       "        1.76577899e+00,  7.91821773e-01,  1.38034685e-01,  1.16095279e+00,\n",
       "       -9.60713932e-02,  5.46806444e-01, -4.97578093e-02, -1.79070477e-01,\n",
       "        3.71130219e-01, -1.51423941e-01, -1.61457834e-01,  5.72978734e-01,\n",
       "        6.99592363e-01,  9.29188311e-01, -8.46452534e-01, -7.04144690e-01,\n",
       "        5.64241654e-01,  1.82753147e+00,  5.89663983e-01,  1.59561531e+00,\n",
       "       -5.83506299e-01, -4.24131599e-01, -2.45885148e+00, -6.53529512e-01,\n",
       "       -2.50842702e-01, -2.13635302e-01, -1.26346913e+00,  7.15775137e-01,\n",
       "        7.31463033e-01, -4.50342627e-01,  1.25826899e+00,  9.56315086e-01,\n",
       "        2.68226695e-01,  4.40306112e-01,  2.53690200e-01,  8.20615754e-01,\n",
       "       -6.17799451e-01,  1.95878341e-01, -1.41322332e+00,  2.85367808e+00,\n",
       "       -4.72965721e-01, -1.63949639e-01, -1.80906629e-01,  8.84914710e-01,\n",
       "       -9.05441637e-02, -5.60837867e-01,  5.87966179e-01,  1.32482656e-01,\n",
       "       -2.08274296e+00, -7.20859295e-01, -1.57191814e+00,  2.22954605e-01,\n",
       "       -3.08980721e+00,  2.48901589e+00,  1.25508052e+00, -3.85572940e+00,\n",
       "       -1.53553177e+00,  3.26101820e-01, -9.27330945e-01,  1.69330832e-01,\n",
       "        1.49219053e+00, -2.17337028e+00,  5.29569395e-01, -6.31850152e-01,\n",
       "        6.47183425e-01,  9.54321350e-03,  1.88307759e-01, -1.27448986e+00,\n",
       "       -3.99812326e-01,  3.30086789e-01,  1.12576750e-01,  4.46915438e-02,\n",
       "       -4.27017443e-02,  2.96668075e-01, -2.10002170e-01, -2.48513430e+00,\n",
       "       -7.92792824e-02, -9.74485661e-01, -4.35844000e-01, -1.43890796e+00,\n",
       "        1.22284129e+00,  2.78786456e-01, -4.99906052e-01, -1.07533369e+00,\n",
       "       -7.57158104e-01,  1.92397573e-01,  5.00083667e-01,  1.59182182e-01,\n",
       "       -3.88328309e+00,  1.99839614e-02, -2.73425133e+00,  4.11972710e+00,\n",
       "       -1.78989538e+00, -6.29962715e-01, -1.13954034e-01,  1.60362997e+00,\n",
       "        1.14037381e+00,  1.39066646e+00,  3.14235929e+00,  1.65924379e-01,\n",
       "       -1.28902877e+00,  8.87965202e-01,  3.10019815e-01,  1.05742854e+00,\n",
       "       -1.65616655e+00, -3.58590393e-01,  5.19298734e-01, -2.52738802e+00,\n",
       "        1.38718148e+00,  7.74971642e-01, -1.36718752e+00, -1.92030507e+00,\n",
       "       -5.02342023e+00, -4.56778704e-02, -1.76429475e+00, -1.18400513e+00,\n",
       "       -5.47579962e-01,  6.80358780e-02, -2.72472536e-01, -3.11632052e-01,\n",
       "       -1.41621167e+00, -4.89383268e-01, -7.57640647e-02, -6.00378406e-01,\n",
       "       -8.30897391e-01,  5.83155317e-03,  3.58267557e-01, -2.07144900e+00,\n",
       "        3.86783624e-01,  6.90278798e-01, -1.19149572e-01, -1.97817667e-01,\n",
       "       -7.09010524e-02, -3.05709072e-01, -3.18826082e-01,  3.13673667e-01,\n",
       "       -8.26378880e-01, -1.97489516e-01, -6.40162050e-01,  3.10094112e-01,\n",
       "        8.51742409e-01,  1.58519763e+00, -9.76902963e-01, -2.30680487e-01,\n",
       "        6.07316502e-01, -1.17526857e+00, -6.95234581e-01, -2.88563324e+00,\n",
       "       -5.21542302e-01,  1.24683781e+00, -4.93350705e-01,  1.18415634e+00,\n",
       "       -1.21989343e+00, -3.02225761e-01, -8.56452809e-02, -6.92246459e-01,\n",
       "       -3.18052251e-01, -4.13163385e-01, -2.68319584e+00,  5.48890359e-01,\n",
       "       -5.74963379e-01, -1.12042734e+00,  1.90550194e+00,  1.22905883e+00,\n",
       "        1.31905188e+00,  1.62329273e-01,  5.80472187e-01, -7.47559202e-01,\n",
       "        1.44389001e+00,  4.17829972e-01, -2.63992389e+00, -2.11158581e+00,\n",
       "       -1.72430402e+00,  7.30709135e-01,  1.40449880e-01,  1.19145816e+00,\n",
       "       -7.84524027e-02,  2.11937250e+00,  5.37614747e-01,  4.01746356e-01,\n",
       "        1.50809752e+00,  2.82342608e+00,  6.93558023e-01, -2.28545944e+00,\n",
       "        2.23750301e+00, -1.26235521e+00,  6.61856338e-01,  3.91611354e+00,\n",
       "        7.30577090e-02, -1.04831751e+00, -1.34838450e+00, -8.98039160e-01,\n",
       "       -4.60204607e-01, -1.84317892e+00,  4.72787528e-02, -6.69193465e-01,\n",
       "       -1.14883328e+00, -3.11922734e-02,  5.46802623e-01,  2.11805403e+00,\n",
       "       -4.06856427e-01,  4.95036560e-01,  1.13716924e-01,  1.25731219e+00,\n",
       "       -1.22804512e+00,  2.88660738e+00,  9.28639101e-01, -3.94442949e+00,\n",
       "       -4.50740015e-02,  5.16179676e-01, -4.30213188e-01,  8.74971200e-01,\n",
       "       -1.57330960e+00, -9.07410746e-01,  4.26538360e-01,  8.09860899e-01,\n",
       "       -1.75238709e+00, -5.82862426e-01, -8.11577007e-01,  1.94917672e-01,\n",
       "       -5.53849599e-01, -3.19733824e-01, -1.20032071e+00,  2.18429485e+00,\n",
       "       -8.92881448e-01,  2.88773468e+00,  2.09873348e-01,  9.39772980e-02,\n",
       "       -2.17788041e+00, -5.70805770e+00, -9.90093967e-01,  5.27391743e-01,\n",
       "        8.27568808e-02,  6.29432322e-01, -5.88416545e-01,  2.31665242e-02,\n",
       "        1.95130316e+00,  3.52943803e-01,  1.96954871e+00,  2.87473573e-01,\n",
       "       -5.03442775e+00, -6.20058675e-01,  3.23114240e+00,  3.74385849e-01,\n",
       "        5.63331002e-01, -1.16448653e+00, -8.65247030e-01,  8.97578602e-02,\n",
       "        6.70759292e-01, -8.30851204e-01,  2.02552679e+00, -7.71538683e-01,\n",
       "        5.07781420e-01,  1.06187298e-01, -2.19531250e+00,  4.89172100e-01,\n",
       "       -2.24602694e+00, -5.05266246e-01, -4.71313281e-01,  3.68201804e-01,\n",
       "        9.48326129e-01, -8.32416488e-01, -4.23886189e+00, -8.56483243e-01,\n",
       "        1.25526527e-01,  1.26882601e+00, -5.04515131e+00,  2.36598664e+00,\n",
       "        4.72999411e-01, -1.18254351e-01,  8.06526946e-01, -1.01658924e-01,\n",
       "       -1.44953850e+00,  8.60159001e-01, -3.53591490e-02, -3.20614775e-01,\n",
       "        2.64854537e-01, -2.04744898e+00, -1.94097322e-01, -6.71366191e-01,\n",
       "       -5.86029837e-01,  4.57621350e-01,  1.22081893e-01,  3.40364473e-01,\n",
       "       -7.10482683e-01,  3.18235245e+00,  4.07293208e-03, -4.85467247e-02,\n",
       "       -5.24753008e-01,  4.74203057e-02, -2.73430539e-01, -3.67600000e-01,\n",
       "       -1.27020592e+00,  5.89963416e-02,  6.80697103e-01, -1.96720144e+00,\n",
       "       -1.30943012e-01, -4.25871826e-01, -1.56653992e+00,  3.20829122e+00,\n",
       "        5.18547484e-01,  2.94757989e+00,  1.15713452e+00, -1.46768320e+00,\n",
       "        6.14144797e-01,  1.43060990e+00,  1.07704856e+00,  2.04299087e+00,\n",
       "        1.54464392e-02, -1.37029524e+00,  1.17347618e+00,  6.42141383e-01,\n",
       "        8.72047647e-01, -4.27081783e+00,  3.96103296e+00,  8.55727956e-01,\n",
       "        9.78989813e-01, -3.11606884e+00, -1.64585695e+00,  3.68572086e-01,\n",
       "        5.41639414e-01,  2.09737116e+00,  3.14739653e-01,  5.22257697e-02,\n",
       "        1.51541915e+00, -4.94035075e-01, -2.60048865e-01,  5.14235144e-01,\n",
       "       -6.38898474e-02, -1.40826930e-01,  2.47980589e-01, -1.42340877e-01,\n",
       "       -1.35563305e+00,  1.31535054e+00, -1.95963621e+00,  2.47661601e-01,\n",
       "        1.82889057e+00, -1.08737437e+00,  1.98980518e+00,  3.34772374e-01,\n",
       "        6.71335565e-01,  1.49077224e+00,  6.88482912e-01,  7.47056898e-01,\n",
       "        6.81876014e-01,  1.39376116e-01,  6.05185027e-01,  1.77028275e-01,\n",
       "       -1.05366042e+00, -2.21617383e+00, -4.39161168e-01,  1.95066361e-01,\n",
       "        8.39721457e-01, -3.32452580e-01, -4.86452510e-01, -5.92966807e-01,\n",
       "        1.69610054e+00,  2.76921096e+00,  5.51136221e-01, -6.60259060e-01,\n",
       "       -2.37024164e+00, -1.51261071e-02, -1.04679824e+00, -6.25965090e-02,\n",
       "        1.02060276e+00, -1.96883353e-01, -5.59957952e-01, -1.09405311e+00,\n",
       "       -1.13904392e+00,  3.61545869e-01, -6.38997113e-01,  1.11915835e+00,\n",
       "        1.69279821e+00,  1.93411296e+00, -3.18387625e+00,  4.30380929e-01,\n",
       "        9.03104220e-01,  8.86547644e-01, -1.18611351e+00, -3.48364477e+00,\n",
       "        1.00995569e+00, -9.27325729e-02, -4.48021987e-01, -1.11684813e+00,\n",
       "        6.23020830e-01,  1.21950438e-01,  5.73352892e-01,  3.54037399e-01,\n",
       "        3.68125328e-01,  1.57182733e-02,  2.59768785e+00, -1.40650587e+00,\n",
       "       -1.61936052e+00, -3.68975056e+00,  9.91460462e-01, -1.50547857e+00,\n",
       "       -2.47047040e-01, -2.97212049e+00, -2.46258358e+00,  1.24414290e+00,\n",
       "       -3.04424827e+00,  1.87264170e+00,  1.50281327e-01,  3.03849128e-01,\n",
       "        2.23105297e+00, -1.60813745e+00, -1.21480995e+00, -1.16718793e+00,\n",
       "        1.80052795e-01,  6.92744598e-01, -4.58253550e-01,  1.91778381e+00,\n",
       "        1.73006534e-01, -3.24236879e-01,  9.75047849e-02, -2.20017224e-01,\n",
       "       -1.12002420e+00, -1.63055299e+00,  3.03845970e-01, -6.65190774e-01,\n",
       "        8.52446545e-02,  1.48668974e-01,  1.29250533e+00,  1.69861620e-01,\n",
       "        7.93176832e-01,  1.66763977e-01,  2.69515402e+00, -1.60536523e-01,\n",
       "        3.93323675e-01,  8.14119352e-01,  3.80322527e-01, -8.01522721e-02,\n",
       "        3.73227278e+00, -2.09279886e+00,  1.29717793e-01,  7.50941286e-01,\n",
       "        3.74567486e-01,  1.34815832e+00, -5.42233199e-01,  2.39638031e+00,\n",
       "       -2.85381293e+00,  1.03416058e-01,  1.86687708e-01,  1.81661217e+00,\n",
       "        2.29702184e+00, -1.37012359e+00, -8.65383728e-01,  6.03251280e-01,\n",
       "        4.01991761e-01, -2.09896519e-02,  1.15096459e-01, -2.77005665e-01,\n",
       "       -2.06078405e-01, -2.53463542e-01, -9.15235624e-01, -2.86766264e-02,\n",
       "        1.62771502e-01,  7.99409771e-01, -5.38778456e-01,  1.30482194e+00,\n",
       "        1.57970158e+00, -2.82143707e-01, -8.40470327e-01,  5.05080318e-01,\n",
       "        1.24083055e+00, -1.63056212e+00, -6.24271085e-01,  1.23087361e+00,\n",
       "        5.99427268e-01,  4.79318043e-02,  1.31150602e+00, -2.47173388e+00,\n",
       "       -1.76491240e+00,  1.52709377e+00,  4.80908670e-01, -2.86876058e-01,\n",
       "        9.52085434e-02, -2.84927627e-01, -1.96666648e-02, -1.96652016e+00,\n",
       "       -1.36418381e+00, -1.65377628e+00,  3.54215102e-01,  7.17930599e-01,\n",
       "        2.86557176e-01, -2.92383574e+00, -1.15741040e+00,  1.67577730e-01,\n",
       "        2.09239301e+00,  9.70598851e-01,  8.14700703e-01,  1.89164519e+00,\n",
       "        3.40899614e+00, -4.95144299e+00, -7.83571248e-01,  4.94718997e-01,\n",
       "       -1.46909125e+00,  9.07084581e-01,  3.43325095e-01, -2.19911120e-01,\n",
       "        1.98851256e-01,  9.20501094e-01,  6.37317532e-01,  1.59528226e-01,\n",
       "        2.90521740e+00, -3.51649732e-01, -8.31576183e-02, -1.61471655e-01,\n",
       "       -6.13700258e-01,  2.72136044e+00, -2.40021744e+00,  1.86093569e+00,\n",
       "        2.27673991e+00, -1.76721252e+00, -3.10779085e-01, -6.35370643e-01,\n",
       "       -1.07746114e+00, -9.52670072e-02, -7.52533122e-01,  6.01200119e-02,\n",
       "       -7.14884530e-02, -1.24266093e+00, -1.52124206e+00,  1.58298876e+00,\n",
       "       -1.93397420e+00, -8.65907543e-01,  1.47656910e-01,  6.53226073e-01,\n",
       "       -9.28131373e-01, -4.68954218e-01, -8.64839379e-02,  1.20814862e+00,\n",
       "       -1.54567013e-01, -4.01715990e-02, -4.09762935e-01,  3.05461062e-01,\n",
       "       -6.56427893e-02,  1.03680375e+00,  9.33055788e-01,  9.88567739e-02,\n",
       "       -5.93113740e-01,  2.87270697e+00,  1.76047345e+00, -4.30599592e-01,\n",
       "       -1.60795708e-01,  1.91789459e+00, -1.83244724e+00, -2.73377580e-02,\n",
       "       -5.06817377e-01,  5.06985271e-01, -8.24359113e-01,  3.88059666e-01,\n",
       "        5.41969300e-01, -9.20513934e-01,  2.87816315e-01,  1.00923647e-02,\n",
       "       -9.04369569e-01,  1.12060150e+00, -3.51617763e+00, -1.11578918e+00,\n",
       "       -7.06572800e-02, -2.73416977e-01,  1.43712240e-01,  8.77288075e-01,\n",
       "       -4.60170569e-01, -2.30045975e-01, -1.99573513e-01,  9.55677826e-01,\n",
       "       -8.72322868e-01,  1.15927473e+00,  2.02133319e+00, -8.52034584e-01,\n",
       "       -6.56906089e-01, -1.48463378e+00, -6.19430925e-02,  2.74051681e+00,\n",
       "        1.26616496e-01,  8.39701301e-01,  4.73106199e-01, -1.16531377e+00,\n",
       "        3.55196872e-01, -9.05622478e-01, -6.30950352e-01,  1.57029356e+00,\n",
       "        6.08227172e-01,  6.31532455e-02,  7.09051190e-01,  1.30112513e-01,\n",
       "       -8.70680582e-01,  5.45186904e-01,  3.58631107e-04, -1.23243813e+00,\n",
       "        1.74136797e+00, -1.28407762e+00,  6.05042604e-01, -1.24900254e-01,\n",
       "       -3.49005498e-01, -2.39229236e+00,  7.62212762e-01,  4.19485935e-02,\n",
       "       -1.00347782e+00, -6.92087006e-01, -1.32468982e+00, -7.10162408e-01,\n",
       "        3.02545455e+00,  9.63143552e-02, -7.69634276e-01,  9.62091046e-02,\n",
       "        6.64721039e-01,  2.13935629e+00, -1.32456975e-02, -4.73929867e-01,\n",
       "        7.02305280e-01,  7.33712305e-02, -4.33960381e+00, -5.87728115e-01,\n",
       "        1.91401218e-01, -1.53370192e+00, -7.37381812e-01, -8.99545573e-01,\n",
       "        1.44380533e-01, -2.15402521e+00, -4.42755695e-04, -2.25112725e+00,\n",
       "        6.08145487e-01, -3.93897949e-01,  8.55455633e-01,  2.52667202e-01,\n",
       "       -2.16539277e-01, -1.76523025e+00, -1.26914806e+00, -3.27902798e+00,\n",
       "        5.33057875e-01, -1.54756104e+00,  2.09578647e+00, -5.69540727e-01,\n",
       "        2.18506710e-01,  3.56359638e+00,  2.70072942e-01, -4.09496909e-03,\n",
       "       -4.46101888e-01, -3.83986740e+00, -8.96989139e-02,  3.16404396e-01,\n",
       "        1.15157449e+00, -2.00419788e-02,  1.81594192e+00, -1.50103405e+00,\n",
       "       -1.64139027e-02,  1.29494000e-01, -1.04445786e+00,  5.09322489e-02,\n",
       "       -1.55779613e+00, -1.89450429e-01,  1.59249441e+00,  7.25737981e-01,\n",
       "        2.36982881e-01,  2.79737378e-01,  3.98393240e+00, -1.21151899e+00,\n",
       "        2.14106275e-01, -3.34209249e+00, -3.50950860e-01,  1.45078640e+00,\n",
       "        8.03306940e-01,  1.28617651e-01,  6.70490173e-01,  2.16872022e+00,\n",
       "        1.67660729e-01, -2.96684332e-01,  2.38657184e-02, -4.67817871e-01,\n",
       "       -4.99974559e-01,  6.52001869e-01,  8.27851019e-01, -3.17097418e-01,\n",
       "       -8.57054735e-01,  1.03091404e+00,  3.56062880e+00,  2.15747536e+00,\n",
       "        1.91789934e+00,  2.82722496e+00, -6.96434398e-01,  1.19408671e+00,\n",
       "        9.89659747e-02, -1.01522451e-01,  2.38494292e+00,  4.96526084e-01,\n",
       "        4.07066895e-04,  2.05092251e+00, -7.97192718e-01,  5.77775266e-02,\n",
       "        7.30244943e-01,  5.90253560e-02, -7.19290588e-01, -7.73560458e-01,\n",
       "        3.30866539e-01,  1.13860942e+00, -1.66004601e-01,  8.42644852e-01,\n",
       "       -1.64538106e-01, -1.73382897e+00, -1.68707711e+00,  4.37563991e-01,\n",
       "        6.61821669e-01,  1.61627266e+00, -2.10946641e+00, -4.72074385e-01,\n",
       "        3.84200258e-01,  3.38204772e-01,  6.32969958e-01,  1.57001011e+00,\n",
       "        2.17785815e-02,  3.05284526e-01,  1.55393533e-01,  1.60717805e+00,\n",
       "       -2.96227798e-01,  1.56197985e+00,  2.60984824e-01,  4.45687695e-01,\n",
       "        1.44243964e+00, -1.88922909e+00,  2.16259271e-01, -1.58373865e+00,\n",
       "        5.02118518e-01,  6.95583566e-01, -2.95192778e-01, -3.80949199e-01,\n",
       "        8.46249048e-02, -3.10763181e+00, -3.64534977e+00,  8.08355081e-01,\n",
       "        1.05645927e+00, -3.46438651e-01, -3.71467496e-01,  2.27264809e+00,\n",
       "       -1.24762260e+00, -1.57699059e+00,  2.20259843e+00, -1.15868955e+00,\n",
       "       -1.54206612e+00,  5.65825697e-02,  5.34845347e-01,  6.99653160e-01,\n",
       "       -2.54424660e+00, -5.65712142e-01,  1.34926908e+00,  3.37923006e-01,\n",
       "        2.62331611e-01, -3.11337725e-01, -2.02734049e+00, -1.97925754e-01,\n",
       "        1.84769959e+00,  8.09233862e-01, -1.01181238e-01, -1.04283403e+00,\n",
       "       -5.06653839e-02,  1.26500240e+00,  7.43538514e-01,  6.56284013e-01,\n",
       "       -2.90173381e-01, -3.32696673e-01, -8.55328580e-01, -3.44783105e-01,\n",
       "       -7.48116845e-01,  1.67727699e+00,  2.37816149e+00,  1.21105095e-01,\n",
       "       -1.07769454e+00,  1.05594471e+00, -1.55448673e+00, -1.97558967e+00,\n",
       "       -7.48656223e-02,  1.19308296e+00, -7.73834869e-01, -1.71767644e+00,\n",
       "       -1.32791852e+00,  1.16436197e-01,  1.49120105e-01,  2.74451873e-01])"
      ]
     },
     "execution_count": 69,
     "metadata": {},
     "output_type": "execute_result"
    }
   ],
   "source": [
    "s"
   ]
  },
  {
   "cell_type": "code",
   "execution_count": 70,
   "metadata": {
    "scrolled": false
   },
   "outputs": [
    {
     "data": {
      "image/png": "[encoded data removed]",
      "text/plain": [
       "<Figure size 432x288 with 1 Axes>"
      ]
     },
     "metadata": {},
     "output_type": "display_data"
    }
   ],
   "source": [
    "# Display histogram of the sample:\n",
    "import matplotlib.pyplot as plt\n",
    "count, bins, ignored = plt.hist(s, 14, density=True)\n",
    "plt.style.use(\"ggplot\")\n",
    "plt.show()\n"
   ]
  },
  {
   "cell_type": "code",
   "execution_count": null,
   "metadata": {
    "scrolled": false
   },
   "outputs": [],
   "source": [
    "# Draw each 100 values for lambda 100 and 500:\n",
    "s = np.random.poisson(lam=(100., 500.), size=(100, 2))\n"
   ]
  },
  {
   "cell_type": "code",
   "execution_count": 71,
   "metadata": {
    "scrolled": true
   },
   "outputs": [
    {
     "data": {
      "text/plain": [
       "array([-1.24830172e+00,  1.09500880e-01,  1.38764297e-01, -2.36557532e-01,\n",
       "       -1.12219754e-01,  1.09484619e-01,  2.53293666e-01,  7.42860325e-03,\n",
       "       -1.36392239e+00, -5.96500893e-01,  3.80219223e-01,  3.56619041e+00,\n",
       "        1.92104693e-02,  4.81222686e-01,  4.03498607e-01,  1.09680332e+00,\n",
       "        1.56357598e+00,  1.25738268e+00,  2.86898107e-01,  7.78597420e-02,\n",
       "        5.37595207e-01,  4.43280714e-01, -4.70325122e-01, -5.92835471e-01,\n",
       "        7.41069707e-01, -1.26478647e+00, -1.13485723e+00,  2.34014933e-01,\n",
       "       -5.43998885e-02, -7.65093344e-01,  2.31037603e-01, -1.05688034e-01,\n",
       "        1.58283140e+00,  1.02944285e-01, -1.73731440e+00, -5.24895045e-01,\n",
       "        1.32734236e-01,  7.90347235e-01, -3.49258893e-01, -4.08949573e-01,\n",
       "        3.49038551e-01,  3.10249747e-01, -1.48419982e+00, -2.64644806e-01,\n",
       "       -2.17787287e+00, -6.28510473e+00,  1.14000313e-01, -3.82595576e-01,\n",
       "       -6.65482766e-01, -8.54212330e-02, -7.55523711e-01, -5.56211626e-01,\n",
       "        9.93238967e-01,  2.98043912e-01, -3.23637795e+00,  1.21820241e+00,\n",
       "       -1.74381559e+00, -1.58629383e-01, -8.25281371e-01, -2.57273574e-02,\n",
       "       -1.39280575e+00,  2.07503849e+00, -1.00579457e+00, -2.47878716e-01,\n",
       "        4.66620953e-01,  3.27717589e-01,  1.45032118e+00, -2.55210734e+00,\n",
       "       -8.44848193e-02, -2.21881535e-01,  1.90419032e+00,  1.95131531e+00,\n",
       "       -5.93897778e-01, -3.40232087e+00,  2.29839873e-01,  1.44821606e-01,\n",
       "       -1.30937140e-01,  2.85959612e-01,  2.76043270e-01,  1.50577693e-01,\n",
       "        7.05498935e-01,  3.69534259e+00, -1.23955051e+00,  1.26521253e-01,\n",
       "        8.18960973e-01, -1.08244804e+00, -2.51264235e+00,  6.30089713e-02,\n",
       "        1.29925492e+00, -1.49715170e+00,  3.46323240e+00, -5.96334263e-03,\n",
       "       -5.27504729e-01, -1.02635320e-01,  4.21011821e+00,  1.93749382e+00,\n",
       "        1.36582698e+00, -2.55113646e-01,  1.12492154e+00,  2.63577069e+00,\n",
       "       -4.40923606e-01, -1.53489653e+00, -3.23129874e-01,  1.76665548e-01,\n",
       "        1.53688143e-01, -7.95171959e-01, -5.53288594e-02,  1.37065700e+00,\n",
       "        4.34547751e-01, -8.16004884e-01, -2.82557185e-01, -6.55201499e-01,\n",
       "        9.04916566e-01, -2.64640597e+00,  2.45477722e+00,  9.26438505e-01,\n",
       "        2.38915336e-01, -5.53668247e-02, -1.23029401e+00,  1.22474080e-01,\n",
       "        3.84419729e+00,  3.11593373e+00, -1.12500768e+00,  4.91608369e-01,\n",
       "        3.63389573e+00, -5.90376371e-01, -3.04209665e-02, -3.67561005e-01,\n",
       "        3.60564576e-01, -1.26276389e+00,  5.13081799e-02,  1.02507519e+00,\n",
       "        1.13535785e+00,  1.83436701e+00,  1.20717409e+00,  9.66420033e-03,\n",
       "       -1.24540182e-01, -2.75035158e-01, -1.64843774e+00, -4.88646901e-01,\n",
       "       -4.15498557e-01,  8.57606810e-01,  6.02832157e-01,  9.28844289e-01,\n",
       "        3.23596910e-01, -3.10419345e-01,  4.38256919e-01, -1.52862291e-01,\n",
       "        4.61404057e-01, -5.54158781e-01,  1.32192264e-01, -7.23447424e-01,\n",
       "       -3.19914242e-01, -6.60013848e-01,  8.74501874e-01, -8.32375846e-02,\n",
       "        3.26542439e+00,  2.72551474e+00, -3.79675950e-01,  9.96556376e-01,\n",
       "       -1.14735203e+00, -2.87141207e-01, -9.19861397e-01, -3.61154987e-01,\n",
       "       -7.80954543e-01,  1.19169467e+00,  4.43234030e-01,  9.70875529e-02,\n",
       "        1.06631647e+00,  5.27691934e-01, -6.31712845e-02,  3.88878914e-01,\n",
       "        2.29307783e-01, -5.98643034e-01, -2.23506240e+00,  1.79591098e+00,\n",
       "       -1.62685419e+00,  4.37258785e+00,  3.61275424e-01,  1.32582715e+00,\n",
       "       -2.49678987e-01, -7.17944465e-01,  2.86799338e-02,  9.41172980e-01,\n",
       "       -1.85465643e+00, -1.10040224e+00,  3.99632528e-01, -3.79228217e+00,\n",
       "       -5.09119940e-01, -2.47174523e+00,  5.61256161e-01, -2.74161710e+00,\n",
       "        3.52065693e-01,  2.81899321e-01,  2.10776737e-01, -2.24020714e-01,\n",
       "       -1.58363778e+00, -9.39264475e-01,  2.92376532e+00, -8.93851176e-02,\n",
       "       -1.00097483e-02,  1.28514866e+00,  1.26957918e+00,  1.42960849e+00,\n",
       "        2.01099911e-02, -8.52461746e-01,  1.02252386e-01, -7.60856765e-01,\n",
       "        1.87688550e+00, -1.72528556e-01,  1.93063485e-01, -6.86417099e-01,\n",
       "        2.38544601e+00, -9.10416080e-02,  1.80995956e+00,  1.20942651e+00,\n",
       "        4.78333550e+00,  9.98718630e-01,  1.37083151e+00,  5.93239974e-01,\n",
       "        1.76577899e+00,  7.91821773e-01,  1.38034685e-01,  1.16095279e+00,\n",
       "       -9.60713932e-02,  5.46806444e-01, -4.97578093e-02, -1.79070477e-01,\n",
       "        3.71130219e-01, -1.51423941e-01, -1.61457834e-01,  5.72978734e-01,\n",
       "        6.99592363e-01,  9.29188311e-01, -8.46452534e-01, -7.04144690e-01,\n",
       "        5.64241654e-01,  1.82753147e+00,  5.89663983e-01,  1.59561531e+00,\n",
       "       -5.83506299e-01, -4.24131599e-01, -2.45885148e+00, -6.53529512e-01,\n",
       "       -2.50842702e-01, -2.13635302e-01, -1.26346913e+00,  7.15775137e-01,\n",
       "        7.31463033e-01, -4.50342627e-01,  1.25826899e+00,  9.56315086e-01,\n",
       "        2.68226695e-01,  4.40306112e-01,  2.53690200e-01,  8.20615754e-01,\n",
       "       -6.17799451e-01,  1.95878341e-01, -1.41322332e+00,  2.85367808e+00,\n",
       "       -4.72965721e-01, -1.63949639e-01, -1.80906629e-01,  8.84914710e-01,\n",
       "       -9.05441637e-02, -5.60837867e-01,  5.87966179e-01,  1.32482656e-01,\n",
       "       -2.08274296e+00, -7.20859295e-01, -1.57191814e+00,  2.22954605e-01,\n",
       "       -3.08980721e+00,  2.48901589e+00,  1.25508052e+00, -3.85572940e+00,\n",
       "       -1.53553177e+00,  3.26101820e-01, -9.27330945e-01,  1.69330832e-01,\n",
       "        1.49219053e+00, -2.17337028e+00,  5.29569395e-01, -6.31850152e-01,\n",
       "        6.47183425e-01,  9.54321350e-03,  1.88307759e-01, -1.27448986e+00,\n",
       "       -3.99812326e-01,  3.30086789e-01,  1.12576750e-01,  4.46915438e-02,\n",
       "       -4.27017443e-02,  2.96668075e-01, -2.10002170e-01, -2.48513430e+00,\n",
       "       -7.92792824e-02, -9.74485661e-01, -4.35844000e-01, -1.43890796e+00,\n",
       "        1.22284129e+00,  2.78786456e-01, -4.99906052e-01, -1.07533369e+00,\n",
       "       -7.57158104e-01,  1.92397573e-01,  5.00083667e-01,  1.59182182e-01,\n",
       "       -3.88328309e+00,  1.99839614e-02, -2.73425133e+00,  4.11972710e+00,\n",
       "       -1.78989538e+00, -6.29962715e-01, -1.13954034e-01,  1.60362997e+00,\n",
       "        1.14037381e+00,  1.39066646e+00,  3.14235929e+00,  1.65924379e-01,\n",
       "       -1.28902877e+00,  8.87965202e-01,  3.10019815e-01,  1.05742854e+00,\n",
       "       -1.65616655e+00, -3.58590393e-01,  5.19298734e-01, -2.52738802e+00,\n",
       "        1.38718148e+00,  7.74971642e-01, -1.36718752e+00, -1.92030507e+00,\n",
       "       -5.02342023e+00, -4.56778704e-02, -1.76429475e+00, -1.18400513e+00,\n",
       "       -5.47579962e-01,  6.80358780e-02, -2.72472536e-01, -3.11632052e-01,\n",
       "       -1.41621167e+00, -4.89383268e-01, -7.57640647e-02, -6.00378406e-01,\n",
       "       -8.30897391e-01,  5.83155317e-03,  3.58267557e-01, -2.07144900e+00,\n",
       "        3.86783624e-01,  6.90278798e-01, -1.19149572e-01, -1.97817667e-01,\n",
       "       -7.09010524e-02, -3.05709072e-01, -3.18826082e-01,  3.13673667e-01,\n",
       "       -8.26378880e-01, -1.97489516e-01, -6.40162050e-01,  3.10094112e-01,\n",
       "        8.51742409e-01,  1.58519763e+00, -9.76902963e-01, -2.30680487e-01,\n",
       "        6.07316502e-01, -1.17526857e+00, -6.95234581e-01, -2.88563324e+00,\n",
       "       -5.21542302e-01,  1.24683781e+00, -4.93350705e-01,  1.18415634e+00,\n",
       "       -1.21989343e+00, -3.02225761e-01, -8.56452809e-02, -6.92246459e-01,\n",
       "       -3.18052251e-01, -4.13163385e-01, -2.68319584e+00,  5.48890359e-01,\n",
       "       -5.74963379e-01, -1.12042734e+00,  1.90550194e+00,  1.22905883e+00,\n",
       "        1.31905188e+00,  1.62329273e-01,  5.80472187e-01, -7.47559202e-01,\n",
       "        1.44389001e+00,  4.17829972e-01, -2.63992389e+00, -2.11158581e+00,\n",
       "       -1.72430402e+00,  7.30709135e-01,  1.40449880e-01,  1.19145816e+00,\n",
       "       -7.84524027e-02,  2.11937250e+00,  5.37614747e-01,  4.01746356e-01,\n",
       "        1.50809752e+00,  2.82342608e+00,  6.93558023e-01, -2.28545944e+00,\n",
       "        2.23750301e+00, -1.26235521e+00,  6.61856338e-01,  3.91611354e+00,\n",
       "        7.30577090e-02, -1.04831751e+00, -1.34838450e+00, -8.98039160e-01,\n",
       "       -4.60204607e-01, -1.84317892e+00,  4.72787528e-02, -6.69193465e-01,\n",
       "       -1.14883328e+00, -3.11922734e-02,  5.46802623e-01,  2.11805403e+00,\n",
       "       -4.06856427e-01,  4.95036560e-01,  1.13716924e-01,  1.25731219e+00,\n",
       "       -1.22804512e+00,  2.88660738e+00,  9.28639101e-01, -3.94442949e+00,\n",
       "       -4.50740015e-02,  5.16179676e-01, -4.30213188e-01,  8.74971200e-01,\n",
       "       -1.57330960e+00, -9.07410746e-01,  4.26538360e-01,  8.09860899e-01,\n",
       "       -1.75238709e+00, -5.82862426e-01, -8.11577007e-01,  1.94917672e-01,\n",
       "       -5.53849599e-01, -3.19733824e-01, -1.20032071e+00,  2.18429485e+00,\n",
       "       -8.92881448e-01,  2.88773468e+00,  2.09873348e-01,  9.39772980e-02,\n",
       "       -2.17788041e+00, -5.70805770e+00, -9.90093967e-01,  5.27391743e-01,\n",
       "        8.27568808e-02,  6.29432322e-01, -5.88416545e-01,  2.31665242e-02,\n",
       "        1.95130316e+00,  3.52943803e-01,  1.96954871e+00,  2.87473573e-01,\n",
       "       -5.03442775e+00, -6.20058675e-01,  3.23114240e+00,  3.74385849e-01,\n",
       "        5.63331002e-01, -1.16448653e+00, -8.65247030e-01,  8.97578602e-02,\n",
       "        6.70759292e-01, -8.30851204e-01,  2.02552679e+00, -7.71538683e-01,\n",
       "        5.07781420e-01,  1.06187298e-01, -2.19531250e+00,  4.89172100e-01,\n",
       "       -2.24602694e+00, -5.05266246e-01, -4.71313281e-01,  3.68201804e-01,\n",
       "        9.48326129e-01, -8.32416488e-01, -4.23886189e+00, -8.56483243e-01,\n",
       "        1.25526527e-01,  1.26882601e+00, -5.04515131e+00,  2.36598664e+00,\n",
       "        4.72999411e-01, -1.18254351e-01,  8.06526946e-01, -1.01658924e-01,\n",
       "       -1.44953850e+00,  8.60159001e-01, -3.53591490e-02, -3.20614775e-01,\n",
       "        2.64854537e-01, -2.04744898e+00, -1.94097322e-01, -6.71366191e-01,\n",
       "       -5.86029837e-01,  4.57621350e-01,  1.22081893e-01,  3.40364473e-01,\n",
       "       -7.10482683e-01,  3.18235245e+00,  4.07293208e-03, -4.85467247e-02,\n",
       "       -5.24753008e-01,  4.74203057e-02, -2.73430539e-01, -3.67600000e-01,\n",
       "       -1.27020592e+00,  5.89963416e-02,  6.80697103e-01, -1.96720144e+00,\n",
       "       -1.30943012e-01, -4.25871826e-01, -1.56653992e+00,  3.20829122e+00,\n",
       "        5.18547484e-01,  2.94757989e+00,  1.15713452e+00, -1.46768320e+00,\n",
       "        6.14144797e-01,  1.43060990e+00,  1.07704856e+00,  2.04299087e+00,\n",
       "        1.54464392e-02, -1.37029524e+00,  1.17347618e+00,  6.42141383e-01,\n",
       "        8.72047647e-01, -4.27081783e+00,  3.96103296e+00,  8.55727956e-01,\n",
       "        9.78989813e-01, -3.11606884e+00, -1.64585695e+00,  3.68572086e-01,\n",
       "        5.41639414e-01,  2.09737116e+00,  3.14739653e-01,  5.22257697e-02,\n",
       "        1.51541915e+00, -4.94035075e-01, -2.60048865e-01,  5.14235144e-01,\n",
       "       -6.38898474e-02, -1.40826930e-01,  2.47980589e-01, -1.42340877e-01,\n",
       "       -1.35563305e+00,  1.31535054e+00, -1.95963621e+00,  2.47661601e-01,\n",
       "        1.82889057e+00, -1.08737437e+00,  1.98980518e+00,  3.34772374e-01,\n",
       "        6.71335565e-01,  1.49077224e+00,  6.88482912e-01,  7.47056898e-01,\n",
       "        6.81876014e-01,  1.39376116e-01,  6.05185027e-01,  1.77028275e-01,\n",
       "       -1.05366042e+00, -2.21617383e+00, -4.39161168e-01,  1.95066361e-01,\n",
       "        8.39721457e-01, -3.32452580e-01, -4.86452510e-01, -5.92966807e-01,\n",
       "        1.69610054e+00,  2.76921096e+00,  5.51136221e-01, -6.60259060e-01,\n",
       "       -2.37024164e+00, -1.51261071e-02, -1.04679824e+00, -6.25965090e-02,\n",
       "        1.02060276e+00, -1.96883353e-01, -5.59957952e-01, -1.09405311e+00,\n",
       "       -1.13904392e+00,  3.61545869e-01, -6.38997113e-01,  1.11915835e+00,\n",
       "        1.69279821e+00,  1.93411296e+00, -3.18387625e+00,  4.30380929e-01,\n",
       "        9.03104220e-01,  8.86547644e-01, -1.18611351e+00, -3.48364477e+00,\n",
       "        1.00995569e+00, -9.27325729e-02, -4.48021987e-01, -1.11684813e+00,\n",
       "        6.23020830e-01,  1.21950438e-01,  5.73352892e-01,  3.54037399e-01,\n",
       "        3.68125328e-01,  1.57182733e-02,  2.59768785e+00, -1.40650587e+00,\n",
       "       -1.61936052e+00, -3.68975056e+00,  9.91460462e-01, -1.50547857e+00,\n",
       "       -2.47047040e-01, -2.97212049e+00, -2.46258358e+00,  1.24414290e+00,\n",
       "       -3.04424827e+00,  1.87264170e+00,  1.50281327e-01,  3.03849128e-01,\n",
       "        2.23105297e+00, -1.60813745e+00, -1.21480995e+00, -1.16718793e+00,\n",
       "        1.80052795e-01,  6.92744598e-01, -4.58253550e-01,  1.91778381e+00,\n",
       "        1.73006534e-01, -3.24236879e-01,  9.75047849e-02, -2.20017224e-01,\n",
       "       -1.12002420e+00, -1.63055299e+00,  3.03845970e-01, -6.65190774e-01,\n",
       "        8.52446545e-02,  1.48668974e-01,  1.29250533e+00,  1.69861620e-01,\n",
       "        7.93176832e-01,  1.66763977e-01,  2.69515402e+00, -1.60536523e-01,\n",
       "        3.93323675e-01,  8.14119352e-01,  3.80322527e-01, -8.01522721e-02,\n",
       "        3.73227278e+00, -2.09279886e+00,  1.29717793e-01,  7.50941286e-01,\n",
       "        3.74567486e-01,  1.34815832e+00, -5.42233199e-01,  2.39638031e+00,\n",
       "       -2.85381293e+00,  1.03416058e-01,  1.86687708e-01,  1.81661217e+00,\n",
       "        2.29702184e+00, -1.37012359e+00, -8.65383728e-01,  6.03251280e-01,\n",
       "        4.01991761e-01, -2.09896519e-02,  1.15096459e-01, -2.77005665e-01,\n",
       "       -2.06078405e-01, -2.53463542e-01, -9.15235624e-01, -2.86766264e-02,\n",
       "        1.62771502e-01,  7.99409771e-01, -5.38778456e-01,  1.30482194e+00,\n",
       "        1.57970158e+00, -2.82143707e-01, -8.40470327e-01,  5.05080318e-01,\n",
       "        1.24083055e+00, -1.63056212e+00, -6.24271085e-01,  1.23087361e+00,\n",
       "        5.99427268e-01,  4.79318043e-02,  1.31150602e+00, -2.47173388e+00,\n",
       "       -1.76491240e+00,  1.52709377e+00,  4.80908670e-01, -2.86876058e-01,\n",
       "        9.52085434e-02, -2.84927627e-01, -1.96666648e-02, -1.96652016e+00,\n",
       "       -1.36418381e+00, -1.65377628e+00,  3.54215102e-01,  7.17930599e-01,\n",
       "        2.86557176e-01, -2.92383574e+00, -1.15741040e+00,  1.67577730e-01,\n",
       "        2.09239301e+00,  9.70598851e-01,  8.14700703e-01,  1.89164519e+00,\n",
       "        3.40899614e+00, -4.95144299e+00, -7.83571248e-01,  4.94718997e-01,\n",
       "       -1.46909125e+00,  9.07084581e-01,  3.43325095e-01, -2.19911120e-01,\n",
       "        1.98851256e-01,  9.20501094e-01,  6.37317532e-01,  1.59528226e-01,\n",
       "        2.90521740e+00, -3.51649732e-01, -8.31576183e-02, -1.61471655e-01,\n",
       "       -6.13700258e-01,  2.72136044e+00, -2.40021744e+00,  1.86093569e+00,\n",
       "        2.27673991e+00, -1.76721252e+00, -3.10779085e-01, -6.35370643e-01,\n",
       "       -1.07746114e+00, -9.52670072e-02, -7.52533122e-01,  6.01200119e-02,\n",
       "       -7.14884530e-02, -1.24266093e+00, -1.52124206e+00,  1.58298876e+00,\n",
       "       -1.93397420e+00, -8.65907543e-01,  1.47656910e-01,  6.53226073e-01,\n",
       "       -9.28131373e-01, -4.68954218e-01, -8.64839379e-02,  1.20814862e+00,\n",
       "       -1.54567013e-01, -4.01715990e-02, -4.09762935e-01,  3.05461062e-01,\n",
       "       -6.56427893e-02,  1.03680375e+00,  9.33055788e-01,  9.88567739e-02,\n",
       "       -5.93113740e-01,  2.87270697e+00,  1.76047345e+00, -4.30599592e-01,\n",
       "       -1.60795708e-01,  1.91789459e+00, -1.83244724e+00, -2.73377580e-02,\n",
       "       -5.06817377e-01,  5.06985271e-01, -8.24359113e-01,  3.88059666e-01,\n",
       "        5.41969300e-01, -9.20513934e-01,  2.87816315e-01,  1.00923647e-02,\n",
       "       -9.04369569e-01,  1.12060150e+00, -3.51617763e+00, -1.11578918e+00,\n",
       "       -7.06572800e-02, -2.73416977e-01,  1.43712240e-01,  8.77288075e-01,\n",
       "       -4.60170569e-01, -2.30045975e-01, -1.99573513e-01,  9.55677826e-01,\n",
       "       -8.72322868e-01,  1.15927473e+00,  2.02133319e+00, -8.52034584e-01,\n",
       "       -6.56906089e-01, -1.48463378e+00, -6.19430925e-02,  2.74051681e+00,\n",
       "        1.26616496e-01,  8.39701301e-01,  4.73106199e-01, -1.16531377e+00,\n",
       "        3.55196872e-01, -9.05622478e-01, -6.30950352e-01,  1.57029356e+00,\n",
       "        6.08227172e-01,  6.31532455e-02,  7.09051190e-01,  1.30112513e-01,\n",
       "       -8.70680582e-01,  5.45186904e-01,  3.58631107e-04, -1.23243813e+00,\n",
       "        1.74136797e+00, -1.28407762e+00,  6.05042604e-01, -1.24900254e-01,\n",
       "       -3.49005498e-01, -2.39229236e+00,  7.62212762e-01,  4.19485935e-02,\n",
       "       -1.00347782e+00, -6.92087006e-01, -1.32468982e+00, -7.10162408e-01,\n",
       "        3.02545455e+00,  9.63143552e-02, -7.69634276e-01,  9.62091046e-02,\n",
       "        6.64721039e-01,  2.13935629e+00, -1.32456975e-02, -4.73929867e-01,\n",
       "        7.02305280e-01,  7.33712305e-02, -4.33960381e+00, -5.87728115e-01,\n",
       "        1.91401218e-01, -1.53370192e+00, -7.37381812e-01, -8.99545573e-01,\n",
       "        1.44380533e-01, -2.15402521e+00, -4.42755695e-04, -2.25112725e+00,\n",
       "        6.08145487e-01, -3.93897949e-01,  8.55455633e-01,  2.52667202e-01,\n",
       "       -2.16539277e-01, -1.76523025e+00, -1.26914806e+00, -3.27902798e+00,\n",
       "        5.33057875e-01, -1.54756104e+00,  2.09578647e+00, -5.69540727e-01,\n",
       "        2.18506710e-01,  3.56359638e+00,  2.70072942e-01, -4.09496909e-03,\n",
       "       -4.46101888e-01, -3.83986740e+00, -8.96989139e-02,  3.16404396e-01,\n",
       "        1.15157449e+00, -2.00419788e-02,  1.81594192e+00, -1.50103405e+00,\n",
       "       -1.64139027e-02,  1.29494000e-01, -1.04445786e+00,  5.09322489e-02,\n",
       "       -1.55779613e+00, -1.89450429e-01,  1.59249441e+00,  7.25737981e-01,\n",
       "        2.36982881e-01,  2.79737378e-01,  3.98393240e+00, -1.21151899e+00,\n",
       "        2.14106275e-01, -3.34209249e+00, -3.50950860e-01,  1.45078640e+00,\n",
       "        8.03306940e-01,  1.28617651e-01,  6.70490173e-01,  2.16872022e+00,\n",
       "        1.67660729e-01, -2.96684332e-01,  2.38657184e-02, -4.67817871e-01,\n",
       "       -4.99974559e-01,  6.52001869e-01,  8.27851019e-01, -3.17097418e-01,\n",
       "       -8.57054735e-01,  1.03091404e+00,  3.56062880e+00,  2.15747536e+00,\n",
       "        1.91789934e+00,  2.82722496e+00, -6.96434398e-01,  1.19408671e+00,\n",
       "        9.89659747e-02, -1.01522451e-01,  2.38494292e+00,  4.96526084e-01,\n",
       "        4.07066895e-04,  2.05092251e+00, -7.97192718e-01,  5.77775266e-02,\n",
       "        7.30244943e-01,  5.90253560e-02, -7.19290588e-01, -7.73560458e-01,\n",
       "        3.30866539e-01,  1.13860942e+00, -1.66004601e-01,  8.42644852e-01,\n",
       "       -1.64538106e-01, -1.73382897e+00, -1.68707711e+00,  4.37563991e-01,\n",
       "        6.61821669e-01,  1.61627266e+00, -2.10946641e+00, -4.72074385e-01,\n",
       "        3.84200258e-01,  3.38204772e-01,  6.32969958e-01,  1.57001011e+00,\n",
       "        2.17785815e-02,  3.05284526e-01,  1.55393533e-01,  1.60717805e+00,\n",
       "       -2.96227798e-01,  1.56197985e+00,  2.60984824e-01,  4.45687695e-01,\n",
       "        1.44243964e+00, -1.88922909e+00,  2.16259271e-01, -1.58373865e+00,\n",
       "        5.02118518e-01,  6.95583566e-01, -2.95192778e-01, -3.80949199e-01,\n",
       "        8.46249048e-02, -3.10763181e+00, -3.64534977e+00,  8.08355081e-01,\n",
       "        1.05645927e+00, -3.46438651e-01, -3.71467496e-01,  2.27264809e+00,\n",
       "       -1.24762260e+00, -1.57699059e+00,  2.20259843e+00, -1.15868955e+00,\n",
       "       -1.54206612e+00,  5.65825697e-02,  5.34845347e-01,  6.99653160e-01,\n",
       "       -2.54424660e+00, -5.65712142e-01,  1.34926908e+00,  3.37923006e-01,\n",
       "        2.62331611e-01, -3.11337725e-01, -2.02734049e+00, -1.97925754e-01,\n",
       "        1.84769959e+00,  8.09233862e-01, -1.01181238e-01, -1.04283403e+00,\n",
       "       -5.06653839e-02,  1.26500240e+00,  7.43538514e-01,  6.56284013e-01,\n",
       "       -2.90173381e-01, -3.32696673e-01, -8.55328580e-01, -3.44783105e-01,\n",
       "       -7.48116845e-01,  1.67727699e+00,  2.37816149e+00,  1.21105095e-01,\n",
       "       -1.07769454e+00,  1.05594471e+00, -1.55448673e+00, -1.97558967e+00,\n",
       "       -7.48656223e-02,  1.19308296e+00, -7.73834869e-01, -1.71767644e+00,\n",
       "       -1.32791852e+00,  1.16436197e-01,  1.49120105e-01,  2.74451873e-01])"
      ]
     },
     "execution_count": 71,
     "metadata": {},
     "output_type": "execute_result"
    }
   ],
   "source": [
    "s"
   ]
  },
  {
   "cell_type": "markdown",
   "metadata": {},
   "source": [
    "### 3.6 gamma(shape[, scale, size])\n",
    "\n",
    "This function is used to draw sample from a Gamma distribution.\n",
    "https://www.javatpoint.com/numpy-random\n"
   ]
  },
  {
   "cell_type": "code",
   "execution_count": 72,
   "metadata": {
    "scrolled": false
   },
   "outputs": [
    {
     "data": {
      "image/png": "[encoded data removed]",
      "text/plain": [
       "<Figure size 432x288 with 1 Axes>"
      ]
     },
     "metadata": {},
     "output_type": "display_data"
    }
   ],
   "source": [
    "# https://www.javatpoint.com/numpy-random\n",
    "import numpy as np  \n",
    "shape, scale = 2., 2.  \n",
    "s1 = np.random.gamma(shape, scale, 1000)  \n",
    "import matplotlib.pyplot as plt  \n",
    "import scipy.special as spss  \n",
    "count, bins, ignored = plt.hist(s1, 50, density=True)  \n",
    "a = bins**(shape-1)*(np.exp(-bins/scale) / (spss.gamma(shape)*scale**shape))  \n",
    "plt.plot(bins, a, linewidth=2, color='g')  \n",
    "plt.style.use(\"ggplot\")\n",
    "plt.show()  \n"
   ]
  },
  {
   "cell_type": "code",
   "execution_count": 73,
   "metadata": {
    "scrolled": false
   },
   "outputs": [
    {
     "data": {
      "image/png": "[encoded data removed]",
      "text/plain": [
       "<Figure size 432x288 with 1 Axes>"
      ]
     },
     "metadata": {},
     "output_type": "display_data"
    }
   ],
   "source": [
    "import numpy as np  \n",
    "shape, scale = 5., 5.  \n",
    "s1 = np.random.gamma(shape, scale, 100)  # with size decreased at 100.\n",
    "import matplotlib.pyplot as plt  \n",
    "import scipy.special as spss  \n",
    "count, bins, ignored = plt.hist(s1, 30, density=True) # scale decreased at 30. \n",
    "a = bins**(shape-1)*(np.exp(-bins/scale) / (spss.gamma(shape)*scale**shape))  \n",
    "plt.plot(bins, a, linewidth=2, color='b')  \n",
    "plt.style.use(\"ggplot\")\n",
    "plt.show()  \n"
   ]
  },
  {
   "cell_type": "markdown",
   "metadata": {},
   "source": [
    "### 4. Explain the use of seeds in generating pseudorandom numbers. "
   ]
  },
  {
   "cell_type": "markdown",
   "metadata": {},
   "source": [
    "### 4.1 RandomState and Random Generator  "
   ]
  },
  {
   "cell_type": "markdown",
   "metadata": {},
   "source": [
    "RandomState contains Mersenne Twister pseudo-random number generator and is formulated as class numpy.random.RandomState (seed=None). RandomState provides diverse methods dedicated to generating random numbers sourced from a range of probability distributions (SciPy.org, 2020). Random Generator offers entry to a variety of distributions and is used as a substitute for RandomState (NumPy.org, 2020). The point of demarcation between Generator and RandomState is that the former uses supplementary BitGenerator to deal with state and produce the random bits which are consequently converted into random values from functional distributions; but the latter do not (NumPy.org, 2020).     \n"
   ]
  },
  {
   "cell_type": "markdown",
   "metadata": {},
   "source": [
    "#### 4.1.1 numpy.random.RandomState\n",
    "\n",
    "#### class numpy.random.RandomState\n",
    "Container for the Mersenne Twister pseudo-random number generator.\n",
    "https://het.as.utexas.edu/HET/Software/Numpy/reference/generated/numpy.random.RandomState.html"
   ]
  },
  {
   "cell_type": "markdown",
   "metadata": {},
   "source": [
    "#### numpy.random.seed\n",
    "numpy.random.seed(seed=None)\n",
    "seed : {None, int, array_like}, optional"
   ]
  },
  {
   "cell_type": "code",
   "execution_count": 74,
   "metadata": {
    "scrolled": false
   },
   "outputs": [
    {
     "name": "stdout",
     "output_type": "stream",
     "text": [
      "Random number with seed 30\n",
      "first Number  42\n",
      "Second Number  42\n",
      "Third Number  42\n"
     ]
    }
   ],
   "source": [
    "# https://pynative.com/python-random-seed/\n",
    "\n",
    "import random\n",
    "\n",
    "print (\"Random number with seed 30\")\n",
    "random.seed(30)\n",
    "print (\"first Number \", random.randint(25,50))\n",
    "\n",
    "random.seed(30)\n",
    "print (\"Second Number \", random.randint(25,50))\n",
    "\n",
    "random.seed(30)\n",
    "print (\"Third Number \", random.randint(25,50))"
   ]
  },
  {
   "cell_type": "code",
   "execution_count": 75,
   "metadata": {
    "scrolled": false
   },
   "outputs": [
    {
     "name": "stdout",
     "output_type": "stream",
     "text": [
      "Random number with system time\n",
      "Random Number 44\n"
     ]
    }
   ],
   "source": [
    "# https://pynative.com/python-random-seed/\n",
    "\n",
    "import random\n",
    "from datetime import datetime\n",
    "\n",
    "print(\"Random number with system time\")\n",
    "random.seed(datetime.now())\n",
    "\n",
    "print(\"Random Number\", random.randint(25, 50))"
   ]
  },
  {
   "cell_type": "code",
   "execution_count": 76,
   "metadata": {
    "scrolled": false
   },
   "outputs": [
    {
     "data": {
      "text/plain": [
       "array([6, 9, 6, 1, 1, 2, 8, 7, 3, 5, 6, 3, 5, 3, 5, 8, 8, 2, 8, 1, 7, 8,\n",
       "       7, 2, 1, 2, 9, 9, 4, 9, 8, 4, 7, 6, 2, 4, 5, 9, 2, 5, 1, 4, 3, 1,\n",
       "       5, 3, 8, 8, 9, 7])"
      ]
     },
     "execution_count": 76,
     "metadata": {},
     "output_type": "execute_result"
    }
   ],
   "source": [
    "# https://www.sharpsightlabs.com/blog/numpy-random-seed/\n",
    "# generate pseudo-random numbers with seed at 1.\n",
    "# low(inclusive):1 and high(exclusive):10.\n",
    "# generate 50 integers.\n",
    "import numpy as np\n",
    "np.random.seed(1)\n",
    "np.random.randint(low = 1, high = 10, size = 50)"
   ]
  },
  {
   "cell_type": "code",
   "execution_count": 77,
   "metadata": {
    "scrolled": false
   },
   "outputs": [
    {
     "data": {
      "text/plain": [
       "array([5, 0, 3, 3, 7])"
      ]
     },
     "execution_count": 77,
     "metadata": {},
     "output_type": "execute_result"
    }
   ],
   "source": [
    "# https://www.sharpsightlabs.com/blog/numpy-random-seed/\n",
    "# generate pseudo-random numbers with seed at 0\n",
    "# generate 5 integers between 0 to 10.\n",
    "\n",
    "import numpy as np\n",
    "np.random.seed(0)\n",
    "np.random.randint(10, size = 5)"
   ]
  },
  {
   "cell_type": "code",
   "execution_count": 78,
   "metadata": {
    "scrolled": false
   },
   "outputs": [
    {
     "data": {
      "text/plain": [
       "array([12,  5,  0,  3, 11,  3,  7,  9])"
      ]
     },
     "execution_count": 78,
     "metadata": {},
     "output_type": "execute_result"
    }
   ],
   "source": [
    "# https://www.sharpsightlabs.com/blog/numpy-random-seed/\n",
    "import numpy as np\n",
    "np.random.seed(0) # the value 0 of the seed is the position we are at.\n",
    "np.random.randint(15, size = 8) # produce randomly 8 numbers in a range of 0-15."
   ]
  },
  {
   "cell_type": "markdown",
   "metadata": {},
   "source": [
    "<cr>"
   ]
  },
  {
   "cell_type": "code",
   "execution_count": 79,
   "metadata": {
    "scrolled": false
   },
   "outputs": [],
   "source": [
    "# https://numpy.org/devdocs/reference/random/index.html\n",
    "# new algorithm used by generator to produce random values.\n",
    "from numpy.random import default_rng\n",
    "rng = default_rng()\n",
    "vals = rng.standard_normal(10)\n",
    "more_vals = rng.standard_normal(10)\n"
   ]
  },
  {
   "cell_type": "code",
   "execution_count": 80,
   "metadata": {},
   "outputs": [
    {
     "data": {
      "text/plain": [
       "array([ 1.10613554,  0.61711479,  0.90304595, -0.94245115,  0.7411134 ,\n",
       "        0.32370721, -1.51309295,  1.76750271, -0.29621995,  0.72097726])"
      ]
     },
     "execution_count": 80,
     "metadata": {},
     "output_type": "execute_result"
    }
   ],
   "source": [
    "vals"
   ]
  },
  {
   "cell_type": "code",
   "execution_count": 81,
   "metadata": {},
   "outputs": [
    {
     "data": {
      "text/plain": [
       "array([ 0.53812159,  0.05206459,  1.73789602, -0.24161522, -0.04517609,\n",
       "        1.73808449, -0.36493577,  1.19723512,  1.04091425, -0.38821271])"
      ]
     },
     "execution_count": 81,
     "metadata": {},
     "output_type": "execute_result"
    }
   ],
   "source": [
    "more_vals"
   ]
  },
  {
   "cell_type": "markdown",
   "metadata": {},
   "source": [
    "### 4.2 Bit Generator and PCG 64 algorithm \n",
    "BitGenerator is the source from which Generator produces the random values. The BitGenerators have no attributes for random numbers production; but deliver methods for seeding, setting the state, jumping the state […] (Numpy.org, 2020).  The Permutated Congruential Generator (PCG) 64   is one of the supported BitGenerators, and it is the default BitGenerator used by Generator, as numpy.random.default_rng () (Numpy.org. 2020). \n",
    "PCG is defined as a new uniform pseudorandom number generation system that is fundamentally useful and statistically excellent. It outperforms usual general-purpose generator because of its features: solid mathematical foundations, good time and space performance, minimal code size, various random streams and enhanced cryptographic (O’Neill, 2014)\n"
   ]
  },
  {
   "cell_type": "markdown",
   "metadata": {},
   "source": [
    "### numpy.random.default_rng()\n",
    "Construct a new Generator with the default BitGenerator (PCG64).\n",
    "https://numpy.org/devdocs/reference/random/generator.html"
   ]
  },
  {
   "cell_type": "code",
   "execution_count": 82,
   "metadata": {
    "scrolled": false
   },
   "outputs": [
    {
     "data": {
      "text/plain": [
       "array([1, 1, 1, 0, 0, 0, 0, 1, 0, 0], dtype=int64)"
      ]
     },
     "execution_count": 82,
     "metadata": {},
     "output_type": "execute_result"
    }
   ],
   "source": [
    "# https://numpy.org/devdocs/reference/random/generator.html\n",
    "import numpy as np\n",
    "np.random.bit_generator = np.random._bit_generator\n",
    "rng = np.random.default_rng()\n",
    "rng.integers(2, size=10) # randomly generate 10 integers between 0 to 2.\n"
   ]
  },
  {
   "cell_type": "code",
   "execution_count": 83,
   "metadata": {
    "scrolled": false
   },
   "outputs": [
    {
     "data": {
      "text/plain": [
       "array([[0.77395605, 0.43887844, 0.85859792],\n",
       "       [0.69736803, 0.09417735, 0.97562235],\n",
       "       [0.7611397 , 0.78606431, 0.12811363]])"
      ]
     },
     "execution_count": 83,
     "metadata": {},
     "output_type": "execute_result"
    }
   ],
   "source": [
    "# Random Generator \n",
    "# https://numpy.org/devdocs/reference/random/generator.html\n",
    "import numpy as np\n",
    "rng = np.random.default_rng(seed=42)\n",
    "arr2 = rng.random((3, 3))\n",
    "arr2\n"
   ]
  },
  {
   "cell_type": "code",
   "execution_count": 84,
   "metadata": {
    "scrolled": false
   },
   "outputs": [
    {
     "name": "stdout",
     "output_type": "stream",
     "text": [
      "Generator(PCG64)\n"
     ]
    }
   ],
   "source": [
    "# https://numpy.org/devdocs/reference/random/index.html\n",
    "import numpy as np\n",
    "rng = np.random.default_rng(12345)\n",
    "print(rng)"
   ]
  },
  {
   "cell_type": "code",
   "execution_count": 85,
   "metadata": {},
   "outputs": [
    {
     "name": "stdout",
     "output_type": "stream",
     "text": [
      "SeedSequence(\n",
      "    entropy=1234,\n",
      "    n_children_spawned=10,\n",
      ")\n"
     ]
    }
   ],
   "source": [
    "# https://numpy.org/devdocs/reference/random/bit_generators/pcg64.html\n",
    "import numpy as np\n",
    "np.random.bit_generator = np.random._bit_generator\n",
    "from numpy.random import Generator, PCG64, SeedSequence\n",
    "sg = SeedSequence(1234)\n",
    "rg = [Generator(PCG64(s)) for s in sg.spawn(10)]\n",
    "print(sg)"
   ]
  },
  {
   "cell_type": "code",
   "execution_count": 86,
   "metadata": {},
   "outputs": [
    {
     "name": "stdout",
     "output_type": "stream",
     "text": [
      "[Generator(PCG64) at 0x5164628, Generator(PCG64) at 0x5164268, Generator(PCG64) at 0x51646E8, Generator(PCG64) at 0x51647A8, Generator(PCG64) at 0x5164868, Generator(PCG64) at 0x5164928, Generator(PCG64) at 0x51649E8, Generator(PCG64) at 0x5164AA8, Generator(PCG64) at 0x5164B68, Generator(PCG64) at 0x5164C28]\n"
     ]
    }
   ],
   "source": [
    "print(rg)"
   ]
  },
  {
   "cell_type": "code",
   "execution_count": 136,
   "metadata": {
    "scrolled": false
   },
   "outputs": [],
   "source": [
    "rfloat = rng.random()\n"
   ]
  },
  {
   "cell_type": "code",
   "execution_count": 88,
   "metadata": {
    "scrolled": false
   },
   "outputs": [
    {
     "data": {
      "text/plain": [
       "0.22733602246716966"
      ]
     },
     "execution_count": 88,
     "metadata": {},
     "output_type": "execute_result"
    }
   ],
   "source": [
    "rfloat\n"
   ]
  },
  {
   "cell_type": "code",
   "execution_count": 135,
   "metadata": {
    "scrolled": false
   },
   "outputs": [
    {
     "data": {
      "text/plain": [
       "float"
      ]
     },
     "execution_count": 135,
     "metadata": {},
     "output_type": "execute_result"
    }
   ],
   "source": [
    "type(rfloat) "
   ]
  },
  {
   "cell_type": "code",
   "execution_count": 89,
   "metadata": {
    "scrolled": false
   },
   "outputs": [
    {
     "data": {
      "text/plain": [
       "array([6, 2, 7], dtype=int64)"
      ]
     },
     "execution_count": 89,
     "metadata": {},
     "output_type": "execute_result"
    }
   ],
   "source": [
    "# https://numpy.org/devdocs/reference/random/index.html\n",
    "\n",
    "import numpy as np\n",
    "rng = np.random.default_rng(12345)\n",
    "rints = rng.integers(low=0, high=10, size=3)\n",
    "rints\n"
   ]
  },
  {
   "cell_type": "code",
   "execution_count": 91,
   "metadata": {
    "scrolled": false
   },
   "outputs": [
    {
     "name": "stdout",
     "output_type": "stream",
     "text": [
      "0.7973654573327341\n"
     ]
    }
   ],
   "source": [
    "print(rng.random())"
   ]
  },
  {
   "cell_type": "code",
   "execution_count": 92,
   "metadata": {
    "scrolled": false
   },
   "outputs": [
    {
     "name": "stdout",
     "output_type": "stream",
     "text": [
      "Generator(MT19937)\n"
     ]
    }
   ],
   "source": [
    "# https://numpy.org/devdocs/reference/random/index.html\n",
    "from numpy.random import Generator, MT19937\n",
    "rg = Generator(MT19937(12345))\n",
    "print(rg)"
   ]
  },
  {
   "cell_type": "code",
   "execution_count": 93,
   "metadata": {
    "scrolled": false
   },
   "outputs": [
    {
     "data": {
      "text/plain": [
       "0.4858241291915429"
      ]
     },
     "execution_count": 93,
     "metadata": {},
     "output_type": "execute_result"
    }
   ],
   "source": [
    "from numpy.random import Generator, PCG64\n",
    "rg = Generator(PCG64())\n",
    "rg.standard_normal()"
   ]
  },
  {
   "cell_type": "markdown",
   "metadata": {},
   "source": [
    "<cr>\n",
    "\n",
    "    "
   ]
  },
  {
   "cell_type": "markdown",
   "metadata": {},
   "source": [
    "### 4.3 How to seed with PCG Algorithm"
   ]
  },
  {
   "cell_type": "markdown",
   "metadata": {},
   "source": [
    "### 4.3.1 Simple random data\n",
    "### https://numpy.org/doc/stable/reference/random/generator.html"
   ]
  },
  {
   "cell_type": "markdown",
   "metadata": {},
   "source": [
    "#####  (a) numpy.random.Generator.integers\n",
    "##### https://numpy.org/doc/stable/reference/random/generated/numpy.random.Generator.integers.html#numpy.random.Generator.integers\n"
   ]
  },
  {
   "cell_type": "markdown",
   "metadata": {},
   "source": [
    "##### Generator.integers(low, high=None, size=None, dtype=np.int64, endpoint=False"
   ]
  },
  {
   "cell_type": "code",
   "execution_count": 94,
   "metadata": {
    "scrolled": false
   },
   "outputs": [
    {
     "data": {
      "text/plain": [
       "array([0, 0, 1, 0, 1, 0, 0, 0, 0, 0, 0, 1, 1, 0, 1, 1, 1, 0, 1, 1],\n",
       "      dtype=int64)"
      ]
     },
     "execution_count": 94,
     "metadata": {},
     "output_type": "execute_result"
    }
   ],
   "source": [
    "rng = np.random.default_rng()\n",
    "rng.integers(2, size=20)"
   ]
  },
  {
   "cell_type": "code",
   "execution_count": 95,
   "metadata": {
    "scrolled": false
   },
   "outputs": [
    {
     "data": {
      "text/plain": [
       "array([[6, 6, 6, 6],\n",
       "       [4, 9, 1, 4]], dtype=int64)"
      ]
     },
     "execution_count": 95,
     "metadata": {},
     "output_type": "execute_result"
    }
   ],
   "source": [
    "# Generate a 2 x 4 array of ints between 0 and 9, inclusive.\n",
    "rng.integers(10, size=(2, 4))\n",
    "\n"
   ]
  },
  {
   "cell_type": "code",
   "execution_count": 96,
   "metadata": {
    "scrolled": false
   },
   "outputs": [
    {
     "data": {
      "text/plain": [
       "array([1, 4, 7], dtype=int64)"
      ]
     },
     "execution_count": 96,
     "metadata": {},
     "output_type": "execute_result"
    }
   ],
   "source": [
    "# Generate a 1 x 3 array with 3 different upper bounds\n",
    "\n",
    "rng.integers(1, [3, 5, 10])"
   ]
  },
  {
   "cell_type": "code",
   "execution_count": 97,
   "metadata": {
    "scrolled": false
   },
   "outputs": [
    {
     "data": {
      "text/plain": [
       "array([2, 6, 9], dtype=int64)"
      ]
     },
     "execution_count": 97,
     "metadata": {},
     "output_type": "execute_result"
    }
   ],
   "source": [
    "# Generate a 1 by 3 array with 3 different lower bounds\n",
    "\n",
    "rng.integers([1, 5, 7], 10)"
   ]
  },
  {
   "cell_type": "code",
   "execution_count": 134,
   "metadata": {
    "scrolled": false
   },
   "outputs": [
    {
     "data": {
      "text/plain": [
       "array([[ 8,  3,  6,  8],\n",
       "       [10, 14, 17, 16]], dtype=uint8)"
      ]
     },
     "execution_count": 134,
     "metadata": {},
     "output_type": "execute_result"
    }
   ],
   "source": [
    "# Generate a 2 by 4 array using broadcasting with dtype of uint8\n",
    "rng.integers([1, 3, 5, 7], [[10], [20]], dtype=np.uint8)"
   ]
  },
  {
   "cell_type": "markdown",
   "metadata": {},
   "source": [
    "### (b) numpy.random.Generator.random\n",
    "#### Generator.random(size=None, dtype=np.float64, out=None)\n",
    "##### https://numpy.org/doc/stable/reference/random/generated/numpy.random.Generator.random.html#numpy.random.Generator.random"
   ]
  },
  {
   "cell_type": "code",
   "execution_count": 98,
   "metadata": {
    "scrolled": false
   },
   "outputs": [
    {
     "data": {
      "text/plain": [
       "0.09197209745708967"
      ]
     },
     "execution_count": 98,
     "metadata": {},
     "output_type": "execute_result"
    }
   ],
   "source": [
    "rng = np.random.default_rng()\n",
    "rng.random()"
   ]
  },
  {
   "cell_type": "code",
   "execution_count": 99,
   "metadata": {
    "scrolled": false
   },
   "outputs": [
    {
     "data": {
      "text/plain": [
       "float"
      ]
     },
     "execution_count": 99,
     "metadata": {},
     "output_type": "execute_result"
    }
   ],
   "source": [
    "type(rng.random())"
   ]
  },
  {
   "cell_type": "code",
   "execution_count": 100,
   "metadata": {
    "scrolled": false
   },
   "outputs": [
    {
     "data": {
      "text/plain": [
       "array([0.02141175, 0.32640835, 0.35968399, 0.30432687, 0.1258346 ])"
      ]
     },
     "execution_count": 100,
     "metadata": {},
     "output_type": "execute_result"
    }
   ],
   "source": [
    "rng.random((5,))"
   ]
  },
  {
   "cell_type": "code",
   "execution_count": 101,
   "metadata": {
    "scrolled": false
   },
   "outputs": [
    {
     "data": {
      "text/plain": [
       "array([[-3.91293734, -1.70862227],\n",
       "       [-1.01990168, -0.88597811],\n",
       "       [-4.01492223, -1.63365667]])"
      ]
     },
     "execution_count": 101,
     "metadata": {},
     "output_type": "execute_result"
    }
   ],
   "source": [
    "# Three-by-two array of random numbers from [-5, 0):\n",
    "5 * rng.random((3, 2)) - 5"
   ]
  },
  {
   "cell_type": "markdown",
   "metadata": {},
   "source": [
    "### (c) numpy.random.Generator.choice\n",
    "#### Generator.choice(a, size=None, replace=True, p=None, axis=0, shuffle=True)\n",
    "#### https://numpy.org/doc/stable/reference/random/generated/numpy.random.Generator.choice.html#numpy.random.Generator.choice"
   ]
  },
  {
   "cell_type": "markdown",
   "metadata": {},
   "source": [
    "Generates a random sample from a given 1-D array"
   ]
  },
  {
   "cell_type": "code",
   "execution_count": 102,
   "metadata": {
    "scrolled": false
   },
   "outputs": [
    {
     "data": {
      "text/plain": [
       "array([3, 4, 1], dtype=int64)"
      ]
     },
     "execution_count": 102,
     "metadata": {},
     "output_type": "execute_result"
    }
   ],
   "source": [
    "# Generate a uniform random sample from np.arange(5) of size 3:\n",
    "rng = np.random.default_rng()\n",
    "rng.choice(5, 3)\n",
    "#This is equivalent to rng.integers(0,5,3)"
   ]
  },
  {
   "cell_type": "code",
   "execution_count": 103,
   "metadata": {
    "scrolled": false
   },
   "outputs": [
    {
     "data": {
      "text/plain": [
       "array([3, 2, 3], dtype=int64)"
      ]
     },
     "execution_count": 103,
     "metadata": {},
     "output_type": "execute_result"
    }
   ],
   "source": [
    "# Generate a non-uniform random sample from np.arange(5) of size 3:\n",
    "rng.choice(5, 3, p=[0.1, 0, 0.3, 0.6, 0])"
   ]
  },
  {
   "cell_type": "code",
   "execution_count": 104,
   "metadata": {
    "scrolled": false
   },
   "outputs": [
    {
     "data": {
      "text/plain": [
       "array([4, 2, 1], dtype=int64)"
      ]
     },
     "execution_count": 104,
     "metadata": {},
     "output_type": "execute_result"
    }
   ],
   "source": [
    "# Generate a uniform random sample from np.arange(5) of size 3 without replacement:\n",
    "rng.choice(5, 3, replace=False)\n",
    "#This is equivalent to rng.permutation(np.arange(5))[:3]"
   ]
  },
  {
   "cell_type": "code",
   "execution_count": 133,
   "metadata": {
    "scrolled": false
   },
   "outputs": [
    {
     "data": {
      "text/plain": [
       "array([0, 3, 2], dtype=int64)"
      ]
     },
     "execution_count": 133,
     "metadata": {},
     "output_type": "execute_result"
    }
   ],
   "source": [
    "# Generate a non-uniform random sample from np.arange(5) of size 3 without replacement:\n",
    "rng.choice(5, 3, replace=False, p=[0.1, 0, 0.3, 0.6, 0])\n"
   ]
  },
  {
   "cell_type": "code",
   "execution_count": 105,
   "metadata": {
    "scrolled": false
   },
   "outputs": [
    {
     "data": {
      "text/plain": [
       "array(['pooh', 'Christopher', 'rabbit', 'pooh', 'pooh'], dtype='<U11')"
      ]
     },
     "execution_count": 105,
     "metadata": {},
     "output_type": "execute_result"
    }
   ],
   "source": [
    "# Any of the above can be repeated with an arbitrary array-like instead of just integers. For instance:\n",
    "\n",
    "aa_milne_arr = ['pooh', 'rabbit', 'piglet', 'Christopher']\n",
    "rng.choice(aa_milne_arr, 5, p=[0.5, 0.1, 0.1, 0.3])"
   ]
  },
  {
   "cell_type": "markdown",
   "metadata": {},
   "source": [
    "### (d) numpy.random.Generator.bytes\n",
    "#### Generator.bytes(length)\n",
    "#### https://numpy.org/doc/stable/reference/random/generated/numpy.random.Generator.bytes.html#numpy.random.Generator.bytes"
   ]
  },
  {
   "cell_type": "markdown",
   "metadata": {
    "scrolled": false
   },
   "source": [
    "Return random bytes."
   ]
  },
  {
   "cell_type": "code",
   "execution_count": 106,
   "metadata": {
    "scrolled": false
   },
   "outputs": [
    {
     "data": {
      "text/plain": [
       "b'\\xd9\\x07\\xde\\x04\\x84\\xdcoa8\\xcf'"
      ]
     },
     "execution_count": 106,
     "metadata": {},
     "output_type": "execute_result"
    }
   ],
   "source": [
    "np.random.default_rng().bytes(10)"
   ]
  },
  {
   "cell_type": "markdown",
   "metadata": {},
   "source": [
    "<cr>"
   ]
  },
  {
   "cell_type": "markdown",
   "metadata": {},
   "source": [
    "### 4.3.2. Permutations\n",
    "#### https://numpy.org/doc/stable/reference/random/generator.html#permutations\n"
   ]
  },
  {
   "cell_type": "markdown",
   "metadata": {},
   "source": [
    "#### (a) numpy.random.Generator.shuffle \n",
    "#### https://numpy.org/doc/stable/reference/random/generated/numpy.random.Generator.shuffle.html#numpy.random.Generator.shuffle"
   ]
  },
  {
   "cell_type": "markdown",
   "metadata": {},
   "source": [
    "Generator.shuffle(x, axis=0)\n",
    "Modify a sequence in-place by shuffling its contents."
   ]
  },
  {
   "cell_type": "code",
   "execution_count": 107,
   "metadata": {
    "scrolled": false
   },
   "outputs": [
    {
     "data": {
      "text/plain": [
       "array([9, 5, 2, 6, 1, 0, 8, 3, 4, 7])"
      ]
     },
     "execution_count": 107,
     "metadata": {},
     "output_type": "execute_result"
    }
   ],
   "source": [
    "rng = np.random.default_rng()\n",
    "arr = np.arange(10)\n",
    "rng.shuffle(arr)\n",
    "arr\n"
   ]
  },
  {
   "cell_type": "code",
   "execution_count": 108,
   "metadata": {
    "scrolled": false
   },
   "outputs": [
    {
     "data": {
      "text/plain": [
       "array([[6, 7, 8],\n",
       "       [3, 4, 5],\n",
       "       [0, 1, 2]])"
      ]
     },
     "execution_count": 108,
     "metadata": {},
     "output_type": "execute_result"
    }
   ],
   "source": [
    "arr = np.arange(9).reshape((3, 3))\n",
    "rng.shuffle(arr)\n",
    "arr"
   ]
  },
  {
   "cell_type": "code",
   "execution_count": 109,
   "metadata": {
    "scrolled": false
   },
   "outputs": [
    {
     "data": {
      "text/plain": [
       "array([[2, 0, 1],\n",
       "       [5, 3, 4],\n",
       "       [8, 6, 7]])"
      ]
     },
     "execution_count": 109,
     "metadata": {},
     "output_type": "execute_result"
    }
   ],
   "source": [
    "arr = np.arange(9).reshape((3, 3))\n",
    "rng.shuffle(arr, axis=1)\n",
    "arr"
   ]
  },
  {
   "cell_type": "markdown",
   "metadata": {},
   "source": [
    "<cr>"
   ]
  },
  {
   "cell_type": "markdown",
   "metadata": {},
   "source": [
    "#### (b) numpy.random.Generator. permutation \n",
    "https://numpy.org/doc/stable/reference/random/generated/numpy.random.Generator.permutation.html#numpy.random.Generator.permutation"
   ]
  },
  {
   "cell_type": "markdown",
   "metadata": {},
   "source": [
    "Randomly permute a sequence, or return a permuted range."
   ]
  },
  {
   "cell_type": "code",
   "execution_count": 110,
   "metadata": {
    "scrolled": false
   },
   "outputs": [
    {
     "data": {
      "text/plain": [
       "array([8, 7, 0, 4, 5, 6, 3, 9, 1, 2])"
      ]
     },
     "execution_count": 110,
     "metadata": {},
     "output_type": "execute_result"
    }
   ],
   "source": [
    "rng = np.random.default_rng()\n",
    "rng.permutation(10)"
   ]
  },
  {
   "cell_type": "code",
   "execution_count": 111,
   "metadata": {
    "scrolled": false
   },
   "outputs": [
    {
     "data": {
      "text/plain": [
       "array([ 9,  4, 12,  1, 15])"
      ]
     },
     "execution_count": 111,
     "metadata": {},
     "output_type": "execute_result"
    }
   ],
   "source": [
    "rng.permutation([1, 4, 9, 12, 15])"
   ]
  },
  {
   "cell_type": "code",
   "execution_count": 112,
   "metadata": {
    "scrolled": false
   },
   "outputs": [
    {
     "data": {
      "text/plain": [
       "array([[6, 7, 8],\n",
       "       [0, 1, 2],\n",
       "       [3, 4, 5]])"
      ]
     },
     "execution_count": 112,
     "metadata": {},
     "output_type": "execute_result"
    }
   ],
   "source": [
    "arr = np.arange(9).reshape((3, 3))\n",
    "rng.permutation(arr)"
   ]
  },
  {
   "cell_type": "code",
   "execution_count": 113,
   "metadata": {
    "scrolled": false
   },
   "outputs": [
    {
     "data": {
      "text/plain": [
       "array([[1, 2, 0],\n",
       "       [4, 5, 3],\n",
       "       [7, 8, 6]])"
      ]
     },
     "execution_count": 113,
     "metadata": {},
     "output_type": "execute_result"
    }
   ],
   "source": [
    "arr = np.arange(9).reshape((3, 3))\n",
    "rng.permutation(arr, axis=1)"
   ]
  },
  {
   "cell_type": "markdown",
   "metadata": {},
   "source": [
    "<cr>"
   ]
  },
  {
   "cell_type": "markdown",
   "metadata": {},
   "source": [
    "### 4.3.3 Distributions\n",
    "#### https://numpy.org/doc/stable/reference/random/generator.html#distributions"
   ]
  },
  {
   "cell_type": "markdown",
   "metadata": {},
   "source": [
    "### (a) numpy.random.Generator.logseries\n",
    "#### https://numpy.org/doc/stable/reference/random/generated/numpy.random.Generator.logseries.html#numpy-random-generator-logseries\n",
    "#### Generator.logseries(p, size=None)"
   ]
  },
  {
   "cell_type": "markdown",
   "metadata": {},
   "source": [
    "Draw samples from a logarithmic series distribution.\n",
    "Samples are drawn from a log series distribution with specified shape parameter, 0 < p < 1.\n"
   ]
  },
  {
   "cell_type": "code",
   "execution_count": 114,
   "metadata": {
    "scrolled": true
   },
   "outputs": [
    {
     "data": {
      "image/png": "[encoded data removed]",
      "text/plain": [
       "<Figure size 432x288 with 1 Axes>"
      ]
     },
     "metadata": {},
     "output_type": "display_data"
    }
   ],
   "source": [
    "# Draw samples from the distribution:\n",
    "import matplotlib.pyplot as plt\n",
    "a = .6\n",
    "s = np.random.default_rng().logseries(a, 10000)\n",
    "count, bins, ignored = plt.hist(s)\n",
    "plt.show()"
   ]
  },
  {
   "cell_type": "code",
   "execution_count": 115,
   "metadata": {
    "scrolled": true
   },
   "outputs": [
    {
     "data": {
      "image/png": "[encoded data removed]",
      "text/plain": [
       "<Figure size 432x288 with 1 Axes>"
      ]
     },
     "metadata": {},
     "output_type": "display_data"
    }
   ],
   "source": [
    "# plot against distribution\n",
    "\n",
    "def logseries(k, p):\n",
    "    return -p**k/(k*np.log(1-p))\n",
    "plt.plot(bins, logseries(bins, a) * count.max()/ logseries(bins, a).max(), 'r')\n",
    "plt.show()"
   ]
  },
  {
   "cell_type": "code",
   "execution_count": 116,
   "metadata": {
    "scrolled": true
   },
   "outputs": [
    {
     "data": {
      "image/png": "[encoded data removed]",
      "text/plain": [
       "<Figure size 432x288 with 1 Axes>"
      ]
     },
     "metadata": {},
     "output_type": "display_data"
    }
   ],
   "source": [
    "# Draw combination of samples from the distribution and plot against distribution\n",
    "\n",
    "a = .6\n",
    "s = np.random.default_rng().logseries(a, 10000)\n",
    "import matplotlib.pyplot as plt\n",
    "count, bins, ignored = plt.hist(s)\n",
    "\n",
    "# plot against distribution\n",
    "\n",
    "def logseries(k, p):\n",
    "    return -p**k/(k*np.log(1-p))\n",
    "plt.plot(bins, logseries(bins, a) * count.max()/logseries(bins, a).max(), 'b')\n",
    "plt.show()\n"
   ]
  },
  {
   "cell_type": "markdown",
   "metadata": {},
   "source": [
    "### (b) numpy.random.Generator.laplace\n",
    "#### Generator.laplace(loc=0.0, scale=1.0, size=None\n",
    "#### https://numpy.org/doc/stable/reference/random/generated/numpy.random.Generator.laplace.html#numpy.random.Generator.laplace"
   ]
  },
  {
   "cell_type": "markdown",
   "metadata": {},
   "source": [
    "Draw samples from the Laplace or double exponential distribution with specified location (or mean) and scale (decay).\n",
    "\n",
    "The Laplace distribution is similar to the Gaussian/normal distribution, but is sharper at the peak and has fatter tails. It represents the difference between two independent, identically distributed exponential random variables."
   ]
  },
  {
   "cell_type": "code",
   "execution_count": null,
   "metadata": {
    "scrolled": true
   },
   "outputs": [],
   "source": [
    "# Draw samples from the distribution\n",
    "\n",
    "loc, scale = 0., 1.\n",
    "s = np.random.default_rng().laplace(loc, scale, 1000)\n"
   ]
  },
  {
   "cell_type": "code",
   "execution_count": 117,
   "metadata": {
    "scrolled": true
   },
   "outputs": [
    {
     "data": {
      "text/plain": [
       "array([2, 1, 1, ..., 2, 1, 1], dtype=int64)"
      ]
     },
     "execution_count": 117,
     "metadata": {},
     "output_type": "execute_result"
    }
   ],
   "source": [
    "s"
   ]
  },
  {
   "cell_type": "code",
   "execution_count": 121,
   "metadata": {
    "scrolled": true
   },
   "outputs": [
    {
     "data": {
      "image/png": "[encoded data removed]",
      "text/plain": [
       "<Figure size 432x288 with 1 Axes>"
      ]
     },
     "metadata": {},
     "output_type": "display_data"
    }
   ],
   "source": [
    "# Plot Gaussian for comparison:\n",
    "\n",
    "import matplotlib.pyplot as plt\n",
    "loc, scale = 0., 1.\n",
    "s = np.random.default_rng().laplace(loc, scale, 1000)\n",
    "g = (1/(scale * np.sqrt(2 * np.pi)) * np.exp(-(x - loc)**2 / (2 * scale**2)))\n",
    "plt.plot(x,g)\n",
    "plt.show()"
   ]
  },
  {
   "cell_type": "code",
   "execution_count": 119,
   "metadata": {
    "scrolled": true
   },
   "outputs": [
    {
     "data": {
      "image/png": "[encoded data removed]",
      "text/plain": [
       "<Figure size 432x288 with 1 Axes>"
      ]
     },
     "metadata": {},
     "output_type": "display_data"
    }
   ],
   "source": [
    "# Display the histogram of the samples, along with the probability density function:\n",
    "\n",
    "import matplotlib.pyplot as plt\n",
    "count, bins, ignored = plt.hist(s, 30, density=True)\n",
    "x = np.arange(-8., 8., .01)\n",
    "pdf = np.exp(-abs(x-loc)/scale)/(2.*scale)\n",
    "plt.plot(x, pdf)\n",
    "plt.show()"
   ]
  },
  {
   "cell_type": "code",
   "execution_count": 120,
   "metadata": {
    "scrolled": true
   },
   "outputs": [
    {
     "data": {
      "image/png": "[encoded data removed]",
      "text/plain": [
       "<Figure size 432x288 with 1 Axes>"
      ]
     },
     "metadata": {},
     "output_type": "display_data"
    }
   ],
   "source": [
    "# A combination of la place(), Plot Gaussian and Histogram of the samples\n",
    "\n",
    "loc, scale = 0., 1.\n",
    "s = np.random.default_rng().laplace(loc, scale, 1000)\n",
    "# Plot Gaussian for comparison:\n",
    "g = (1/(scale * np.sqrt(2 * np.pi)) * np.exp(-(x - loc)**2 / (2 * scale**2)))\n",
    "plt.plot(x,g)\n",
    "# Display the histogram of the samples, along with the probability density function:\n",
    "import matplotlib.pyplot as plt\n",
    "count, bins, ignored = plt.hist(s, 30, density=True)\n",
    "x = np.arange(-8., 8., .01)\n",
    "pdf = np.exp(-abs(x-loc)/scale)/(2.*scale)\n",
    "plt.plot(x, pdf)\n",
    "plt.show()\n"
   ]
  },
  {
   "cell_type": "code",
   "execution_count": null,
   "metadata": {
    "scrolled": true
   },
   "outputs": [],
   "source": []
  },
  {
   "cell_type": "markdown",
   "metadata": {},
   "source": [
    "### (c) np.random.weibull\n",
    "https://numpy.org/devdocs/reference/random/generated/numpy.random.weibull.html"
   ]
  },
  {
   "cell_type": "code",
   "execution_count": 122,
   "metadata": {
    "scrolled": true
   },
   "outputs": [
    {
     "data": {
      "image/png": "[encoded data removed]",
      "text/plain": [
       "<Figure size 432x288 with 1 Axes>"
      ]
     },
     "metadata": {},
     "output_type": "display_data"
    }
   ],
   "source": [
    "# Display the histogram of the sample\n",
    "import numpy as np  \n",
    "import matplotlib.pyplot as plt  \n",
    "from scipy import special  \n",
    "x=2.0  \n",
    "s=np.random.weibull(x, 1000)  \n",
    "a = np.arange(1, 100.)/50.  \n",
    "def weib(x, n, a):  \n",
    "    return (a/n)*(x/n)**np.exp(-(x/n)**a)  \n",
    "count, bins, ignored = plt.hist(np.random.weibull(5.,1000))  \n",
    "a= np.arange(1,100.)/50.  \n",
    "scale = count.max()/weib(x, 1., 5.).max()  \n",
    "scale = count.max()/weib(a, 1., 5.).max()  \n",
    "plt.plot(x, weib(x, 1., 5.)*scale)  \n",
    "plt.show()  \n"
   ]
  },
  {
   "cell_type": "code",
   "execution_count": 123,
   "metadata": {},
   "outputs": [
    {
     "name": "stdout",
     "output_type": "stream",
     "text": [
      "[0.57034691 0.75687623 1.13086046 0.70866707 0.78675955 0.85762597\n",
      " 0.9742134  0.86988522 0.79230011 0.92230257 0.94633902 1.26824131\n",
      " 1.02417671 0.73424669 1.07455713 1.31757616 0.69603244 0.70731547\n",
      " 0.65634868 0.80760941 1.03551477 0.83447201 0.63136695 0.99879452\n",
      " 1.08335163 0.87715749 1.01907122 0.97679535 1.0062855  0.88665067\n",
      " 0.91698828 1.11027244 0.97577502 0.62973362 0.49694989 0.93534403\n",
      " 0.95315381 1.11114059 1.05564377 0.76109624 1.09551232 0.99836766\n",
      " 0.76710137 0.93781369 0.77214702 1.05046955 0.8148956  0.92757276\n",
      " 1.17968529 1.34312406 1.25935491 1.08034932 0.68095557 0.91202674\n",
      " 1.28111623 0.84680309 0.70467209 0.73351247 0.95564868 0.46585454\n",
      " 1.08021825 0.87003344 0.75953394 0.80816262 1.10201069 0.51964277\n",
      " 1.08089632 1.07516522 0.61086225 1.12199227 0.71646866 0.68120212\n",
      " 0.71123927 0.30777905 0.94718995 0.85630635 0.68841312 1.15217936\n",
      " 0.93264243 0.84420984 0.94679789 1.10622408 0.71545133 1.14955916\n",
      " 0.97487901 0.99101901 0.97653398 0.75795161 0.72783156 0.91712504\n",
      " 0.84880261 0.77274512 0.97264974 1.14163067 0.95966586 1.18836874\n",
      " 1.04757049 1.18197501 0.7422431  0.97588969 0.84780487 1.06365025\n",
      " 0.9021625  0.88119886 0.68812767 0.84773091 1.01962051 0.93401824\n",
      " 0.93955341 1.00876412 0.79757298 0.75750544 1.27989042 0.68270135\n",
      " 0.61001091 1.03992517 1.0081931  0.85748241 0.60325838 0.80008369\n",
      " 0.5775207  1.35221554 1.03519054 0.89223278 1.20326526 0.96421591\n",
      " 1.04434486 0.93294652 1.11861227 1.32230012 0.88116878 0.69257584\n",
      " 0.87533943 1.09829435 0.179574   1.25328978 1.01668068 0.82055802\n",
      " 0.92385175 0.78944382 0.89447275 1.00332117 1.0231245  0.82824164\n",
      " 0.47122147 0.86112817 0.86006638 0.88111041 1.27529998 1.28545349\n",
      " 0.6940154  1.19597151 1.30863063 0.78420538 1.06201909 0.7195765\n",
      " 0.91420787 0.98653555 0.72328716 0.95449707 1.0606903  1.0194057\n",
      " 0.99925326 0.66322675 1.25654209 0.68597093 0.98924379 0.67364341\n",
      " 0.95051586 1.15106317 0.99900281 1.19059885 1.01448188 0.90518698\n",
      " 0.91143718 0.75031111 1.25198756 0.82073598 0.87425716 0.49673283\n",
      " 0.86740542 0.65879787 0.73360898 1.09279491 0.91432956 1.1270548\n",
      " 0.82828906 0.86462169 1.12281401 0.58756151 1.11419589 0.74526243\n",
      " 1.0124861  0.94687721 1.0926265  1.07782083 0.9695213  0.97234024\n",
      " 1.05799502 0.9883421  0.96078021 0.92808319 1.25862305 0.75788999\n",
      " 0.89511665 0.8849162  0.97547282 1.02858382 0.75907927 0.96230566\n",
      " 1.20405054 0.76791088 0.65157049 0.79988207 0.95745379 0.9035893\n",
      " 0.89693624 1.01208258 1.19946072 0.72881229 0.84412855 0.86576287\n",
      " 0.69868052 1.17206604 1.21928429 1.48166899 0.77005209 0.59481268\n",
      " 0.69367024 1.11451638 1.21563225 0.84853636 1.26841812 1.0977782\n",
      " 0.84709344 1.13739223 1.00484262 0.90029667 0.90328464 1.26764559\n",
      " 0.80910526 1.0206749  1.10274612 0.86588933 0.91003797 1.00553452\n",
      " 0.97612729 1.05731347 1.14119063 0.95160167 1.26226703 0.80116968\n",
      " 0.58597939 0.86529294 1.27176216 1.07619718 0.73823441 1.31266911\n",
      " 1.03921416 1.09933186 0.56061115 1.05102149 0.92051396 1.096408\n",
      " 1.04713834 0.72044696 1.20207    0.97074901 0.86608765 0.76287837\n",
      " 1.08882458 1.28694823 1.05869228 0.98796559 1.24593676 1.04451763\n",
      " 0.90577371 0.82753845 0.73127508 1.15651082 1.0511585  1.30743358\n",
      " 0.60064896 0.82315784 0.87796392 1.2685133  0.97773397 1.02649731\n",
      " 0.79415987 0.78480295 0.84060648 0.61466028 1.22913057 0.87722539\n",
      " 0.74124311 0.84124127 0.73730795 0.78362987 1.07221808 0.77065841\n",
      " 1.03715889 0.97911367 0.69030646 1.07605527 1.13893714 1.25580498\n",
      " 1.26145433 1.04149751 0.80799571 0.52170822 0.86868803 1.05725393\n",
      " 1.23076847 0.6549552  0.95186705 0.9157295  0.54207813 1.010144\n",
      " 1.15553893 0.90871035 0.94175889 0.72167967 0.66403159 0.9901111\n",
      " 1.04734485 0.80544305 0.92902488 1.25965891 0.50818046 0.76901028\n",
      " 0.64164213 1.11533311 1.37187102 0.70489631 1.0686808  0.80536007\n",
      " 0.83197197 1.21585372 1.04507227 1.10823579 0.90483777 0.83104933\n",
      " 0.68320844 0.99634097 1.02635728 1.21657233 0.66869958 1.0596204\n",
      " 0.95415434 0.90624235 1.06931019 0.98657367 0.64124863 0.88512324\n",
      " 1.40331581 1.07849259 1.07534375 1.20624    1.05501612 1.13502587\n",
      " 0.87490581 0.87437056 1.25773025 1.07215421 0.91385526 0.9237308\n",
      " 0.44126428 0.7644241  0.91384807 0.80961706 1.31998377 0.65737\n",
      " 0.93229783 0.39780459 0.79529986 0.76036271 0.98539893 1.16891563\n",
      " 0.9647472  1.00653651 0.80035011 0.81941632 0.92878603 0.96587421\n",
      " 0.95404201 0.78661403 0.69122193 0.85595048 1.08920629 0.98059533\n",
      " 0.72531358 0.76706126 1.18588837 0.87210922 1.13960748 1.30555618\n",
      " 0.84971437 0.41956666 1.05406469 0.92149098 1.16910844 0.71387555\n",
      " 0.77452126 0.91403222 0.68049474 0.85118587 0.43561523 1.10107296\n",
      " 0.6385257  0.98044801 0.78815277 0.49749386 0.65018173 1.03737229\n",
      " 1.17260658 0.56233187 0.80137292 0.87339265 1.30933948 0.89819551\n",
      " 1.11742488 0.80115907 0.91214768 1.11815902 1.07921641 0.77106291\n",
      " 0.78139687 0.95518291 1.22697557 0.6626332  1.08137153 1.0599464\n",
      " 1.13725015 1.1708083  1.16534992 1.18246838 1.31605261 0.83425725\n",
      " 1.21476662 1.24138986 1.00877312 1.01783327 0.85012719 1.06462626\n",
      " 0.98404145 1.09065761 0.69882249 1.11001869 1.05144968 0.95383788\n",
      " 0.78638109 0.63442664 0.92116491 0.68983064 1.07483561 1.2091274\n",
      " 1.11412281 0.83303667 0.69125368 0.38020325 1.01731532 0.73033082\n",
      " 1.04742937 0.96953666 0.91315101 1.07848243 1.31731074 0.672595\n",
      " 0.95627144 0.82220242 0.49036736 0.49522314 0.97070397 0.61299797\n",
      " 0.53764109 0.71723412 0.90762627 0.92973123 1.19805742 0.88541085\n",
      " 0.64775737 0.76532175 1.2379848  0.98007    0.84820355 1.17421586\n",
      " 0.81405572 1.16319516 0.66404943 1.22728111 1.22650858 0.84212637\n",
      " 0.44628989 0.84682223 0.72437367 0.79083624 0.99650605 0.89843269\n",
      " 1.05916949 1.00267653 0.81404465 0.82893339 1.09858974 0.94650093\n",
      " 0.67122942 0.97556189 0.68285895 1.15216172 0.67335177 1.02051496\n",
      " 1.17828562 0.63504035 0.94547231 1.25971856 0.79900676 0.80112399\n",
      " 0.91316997 1.24161971 1.10054713 0.79438271 0.76582874 0.73967645\n",
      " 0.89102771 1.10531131 0.69761908 0.99184324 0.91438395 1.00775189\n",
      " 0.87627313 1.07361061 0.82713193 1.05073199 1.26273163 0.97156792\n",
      " 1.00132747 0.9425777  0.92176707 0.71324226 1.03071573 0.98598051\n",
      " 0.95753096 0.81784723 0.87113706 0.89295502 1.0138964  1.05293824\n",
      " 0.82203069 0.99059012 0.85713002 0.9213689  0.61144969 0.97126699\n",
      " 1.17791576 1.25118654 0.8356192  0.71470556 1.30305453 1.09761101\n",
      " 0.80920665 0.33934815 0.78953583 1.25391731 0.91545496 0.80995654\n",
      " 0.84037543 0.76401565 0.96414065 0.75470121 1.03546747 0.91464021\n",
      " 0.70420188 1.34838625 0.87299145 0.86823239 0.89829778 0.7550192\n",
      " 1.26910261 0.88811401 0.97526286 0.83843701 0.91885757 1.18578095\n",
      " 0.71237313 1.09538086 0.90886502 0.78441423 1.030104   0.77531706\n",
      " 0.69868459 0.83284882 0.8090129  1.05560371 1.077508   0.64526195\n",
      " 1.07869931 0.78414909 0.76199758 1.04113963 1.15657416 0.98655541\n",
      " 1.22857394 1.01829772 1.14037453 0.94034869 1.16749836 0.65691627\n",
      " 0.86647806 0.80671273 0.69454309 0.69472292 0.89830376 0.89806736\n",
      " 1.19293083 1.2314335  0.45387402 0.7859698  0.38521195 1.16348752\n",
      " 0.94647277 0.70624731 1.12157192 0.59479447 1.13954583 0.43892311\n",
      " 0.90490832 0.8473782  1.00922141 0.95611038 0.84728177 1.3370402\n",
      " 0.89081531 0.92109085 0.99820204 0.6364491  1.16349473 0.96451243\n",
      " 1.02402785 1.20676746 1.0055726  0.59478274 0.61401907 0.9656993\n",
      " 0.65874914 0.53500353 0.86489194 1.30753827 0.95584126 1.16664451\n",
      " 0.90379427 1.21691124 0.49715538 1.04913014 1.25466076 0.91290634\n",
      " 0.78221243 1.01059877 0.86391222 0.83802122 0.84942783 0.88091003\n",
      " 0.90271967 0.71152363 1.02435576 1.12894128 1.05795359 0.88536379\n",
      " 0.71099085 1.0446619  0.55799931 0.9303631  1.24503765 0.84589199\n",
      " 1.05758238 1.22235226 0.65815372 0.9875821  0.96299303 0.92587457\n",
      " 0.93523832 0.87359596 0.68040521 0.7490943  0.56587393 1.12204297\n",
      " 0.43357441 0.76247988 1.13069123 1.19892717 0.82868368 1.02800348\n",
      " 0.48505455 1.22791358 0.75040626 0.69540564 0.62611396 1.02022094\n",
      " 0.83413835 0.94369321 1.3234138  0.66861933 0.96625057 0.80801998\n",
      " 0.9616471  1.15303602 1.02274497 1.23125706 1.06341084 0.93482826\n",
      " 0.68365568 0.64256999 0.82625466 0.84840905 1.11441473 0.93124798\n",
      " 0.94045652 1.42475646 1.00099829 0.97364928 1.11993292 0.69737026\n",
      " 1.14547053 0.79058634 0.80822762 1.02484812 0.66408187 0.72314859\n",
      " 1.28548018 0.99712599 0.78229608 1.18126591 0.84472326 0.70001772\n",
      " 1.31474023 0.65776569 0.96823765 1.06755385 1.21788433 0.65060344\n",
      " 0.94417906 0.67694803 1.08136214 0.74436539 0.76211188 1.45252175\n",
      " 1.13282239 1.01006732 1.00457606 0.98163097 1.24893341 1.14374201\n",
      " 0.98842752 0.68141346 0.8561796  1.26649587 0.66452226 0.63645289\n",
      " 0.50064442 0.9947746  0.82345433 1.18434891 1.28808074 0.78985172\n",
      " 1.15022236 0.85376737 0.78203505 0.98099963 1.19511356 0.67977508\n",
      " 0.77997527 0.51925319 0.81513105 1.04488869 0.64122207 0.81313797\n",
      " 0.9575733  1.09385657 1.35267874 0.88904863 0.94096751 1.15584012\n",
      " 0.91237019 0.75208478 1.17106779 1.05500076 0.86098106 0.92266933\n",
      " 0.74234824 0.5413904  0.82856608 1.00106809 0.8022381  1.33355696\n",
      " 0.63934545 1.00705343 0.95397286 0.31710798 1.12908509 0.87853415\n",
      " 0.93693806 1.05262661 1.05144495 1.09798831 0.65593437 1.27454838\n",
      " 1.15344413 1.16694476 1.01039612 0.80668767 1.04015824 1.08212899\n",
      " 0.76405323 1.1409007  0.92428066 0.76676467 1.27683112 1.20670965\n",
      " 1.04741946 0.95089506 0.85519682 1.16427969 1.08228177 1.0782891\n",
      " 0.93298345 0.52998354 0.9603594  1.13499194 0.9332063  1.0625554\n",
      " 0.91463784 0.96116498 0.54307285 0.82038664 1.17967468 0.81934248\n",
      " 0.90418101 0.9664694  1.0771648  0.77808691 0.59639883 1.14456266\n",
      " 1.04604329 1.08093489 0.71534513 0.91446722 0.90549224 0.93112753\n",
      " 1.20156739 1.36794178 0.50287025 0.72747734 1.12921814 0.62004408\n",
      " 1.2997653  1.040365   0.40908875 1.03667572 0.81925805 0.93009767\n",
      " 0.68469538 0.98455195 0.75172244 0.80230885 1.03556268 0.73983756\n",
      " 0.80630011 0.61902362 0.9828777  0.77204659 1.16361292 0.97804458\n",
      " 0.75829158 0.37396379 0.65884132 0.7650295  0.95733211 0.73499117\n",
      " 1.02797394 0.62182282 0.87413504 0.76958924 1.10181581 0.67187456\n",
      " 0.66342438 1.08750055 0.8460672  1.09126805 1.01789051 0.62098875\n",
      " 1.28781519 1.21666389 1.10111895 1.12754001 0.99371209 1.20365368\n",
      " 0.88323071 1.17491616 0.90675813 1.08767102 0.9161767  1.03622598\n",
      " 0.89264672 0.86346083 1.01088765 1.08766827 0.61072736 0.78945593\n",
      " 0.97658887 0.80967552 0.97251532 1.38082056 1.16691698 0.97073038\n",
      " 0.58876113 1.11596512 1.24812434 0.67168443 0.99288549 0.69354296\n",
      " 0.65221362 0.85511042 0.78156885 1.05897236 0.76172296 1.1337046\n",
      " 0.7725371  1.01496511 0.71894476 0.97296319 0.93135745 0.96737696\n",
      " 0.86563179 1.2164521  0.82046838 1.19009854 1.06572547 0.85477916\n",
      " 0.90693449 1.15573047 0.72407157 0.69956861 0.96524518 1.3194811\n",
      " 0.92925206 0.99084311 0.99657745 1.0320928  1.02297067 1.15793347\n",
      " 0.8928453  1.24049892 1.08535463 0.79647007 0.80666717 0.87347603\n",
      " 1.28730945 0.47305093 0.60890111 0.8939214  0.98089008 1.23003941\n",
      " 1.09607397 0.52244183 0.63369226 0.69966283 1.09754026 0.83322648\n",
      " 1.0991258  0.34251878 0.96169203 0.99854358 0.9381388  1.11496602\n",
      " 0.86035827 0.98692919 0.65683063 1.07782267 0.67049769 1.07173465\n",
      " 0.8247074  0.43031168 0.90169672 1.04686532 1.18274722 1.07531808\n",
      " 0.95564    0.8491182  0.96041497 1.16684179 1.14676811 0.39597331\n",
      " 1.02281526 0.69844384 1.10243734 1.13268312 1.14771878 0.80749802\n",
      " 1.00950271 0.63280635 1.29671529 0.87963969]\n"
     ]
    }
   ],
   "source": [
    "# Draw samples from the distribution:\n",
    "\n",
    "a = 5. # shape\n",
    "s = np.random.weibull(a, 1000)\n",
    "print(s)\n"
   ]
  },
  {
   "cell_type": "code",
   "execution_count": 124,
   "metadata": {},
   "outputs": [
    {
     "data": {
      "image/png": "[encoded data removed]",
      "text/plain": [
       "<Figure size 432x288 with 1 Axes>"
      ]
     },
     "metadata": {},
     "output_type": "display_data"
    }
   ],
   "source": [
    "\n",
    "# Display the histogram of the samples, along with the probability density function:\n",
    "\n",
    "import matplotlib.pyplot as plt\n",
    "x = np.arange(1,100.)/50.\n",
    "def weib(x,n,a):\n",
    "    return (a / n) * (x / n)**(a - 1) * np.exp(-(x / n)**a)\n",
    "count, bins, ignored = plt.hist(np.random.weibull(5.,1000))\n",
    "x = np.arange(1,100.)/50.\n",
    "scale = count.max()/weib(x, 1., 5.).max()\n",
    "plt.plot(x, weib(x, 1., 5.)*scale)\n",
    "plt.style.use(\"ggplot\")\n",
    "plt.show()\n"
   ]
  },
  {
   "cell_type": "markdown",
   "metadata": {},
   "source": [
    "### (d)numpy.random.Generator.rayleigh\n",
    "### Generator.rayleigh(scale=1.0, size=None)\n",
    "#### https://numpy.org/doc/stable/reference/random/generated/numpy.random.Generator.rayleigh.html#numpy.random.Generator.rayleigh"
   ]
  },
  {
   "cell_type": "markdown",
   "metadata": {},
   "source": [
    "Draw values from the distribution and plot the histogram"
   ]
  },
  {
   "cell_type": "code",
   "execution_count": 125,
   "metadata": {
    "scrolled": false
   },
   "outputs": [
    {
     "data": {
      "image/png": "[encoded data removed]",
      "text/plain": [
       "<Figure size 432x288 with 1 Axes>"
      ]
     },
     "metadata": {},
     "output_type": "display_data"
    }
   ],
   "source": [
    "from matplotlib.pyplot import hist\n",
    "rng = np.random.default_rng()\n",
    "values = hist(rng.rayleigh(3, 100000), bins=200, density=True)\n",
    "plt.show()"
   ]
  },
  {
   "cell_type": "code",
   "execution_count": null,
   "metadata": {
    "scrolled": true
   },
   "outputs": [],
   "source": [
    "# Wave heights tend to follow a Rayleigh distribution. \n",
    "# If the mean wave height is 1 meter, what fraction of waves are likely to be larger than 3 meters?\n",
    "meanvalue = 1\n",
    "modevalue = np.sqrt(2 / np.pi) * meanvalue\n",
    "s = rng.rayleigh(modevalue, 1000000)\n",
    "\n",
    "# The percentage of waves larger than 3 meters is:\n",
    "100.*sum(s>3)/1000000."
   ]
  },
  {
   "cell_type": "code",
   "execution_count": 126,
   "metadata": {
    "scrolled": true
   },
   "outputs": [
    {
     "data": {
      "text/plain": [
       "array([0.57034691, 0.75687623, 1.13086046, 0.70866707, 0.78675955,\n",
       "       0.85762597, 0.9742134 , 0.86988522, 0.79230011, 0.92230257,\n",
       "       0.94633902, 1.26824131, 1.02417671, 0.73424669, 1.07455713,\n",
       "       1.31757616, 0.69603244, 0.70731547, 0.65634868, 0.80760941,\n",
       "       1.03551477, 0.83447201, 0.63136695, 0.99879452, 1.08335163,\n",
       "       0.87715749, 1.01907122, 0.97679535, 1.0062855 , 0.88665067,\n",
       "       0.91698828, 1.11027244, 0.97577502, 0.62973362, 0.49694989,\n",
       "       0.93534403, 0.95315381, 1.11114059, 1.05564377, 0.76109624,\n",
       "       1.09551232, 0.99836766, 0.76710137, 0.93781369, 0.77214702,\n",
       "       1.05046955, 0.8148956 , 0.92757276, 1.17968529, 1.34312406,\n",
       "       1.25935491, 1.08034932, 0.68095557, 0.91202674, 1.28111623,\n",
       "       0.84680309, 0.70467209, 0.73351247, 0.95564868, 0.46585454,\n",
       "       1.08021825, 0.87003344, 0.75953394, 0.80816262, 1.10201069,\n",
       "       0.51964277, 1.08089632, 1.07516522, 0.61086225, 1.12199227,\n",
       "       0.71646866, 0.68120212, 0.71123927, 0.30777905, 0.94718995,\n",
       "       0.85630635, 0.68841312, 1.15217936, 0.93264243, 0.84420984,\n",
       "       0.94679789, 1.10622408, 0.71545133, 1.14955916, 0.97487901,\n",
       "       0.99101901, 0.97653398, 0.75795161, 0.72783156, 0.91712504,\n",
       "       0.84880261, 0.77274512, 0.97264974, 1.14163067, 0.95966586,\n",
       "       1.18836874, 1.04757049, 1.18197501, 0.7422431 , 0.97588969,\n",
       "       0.84780487, 1.06365025, 0.9021625 , 0.88119886, 0.68812767,\n",
       "       0.84773091, 1.01962051, 0.93401824, 0.93955341, 1.00876412,\n",
       "       0.79757298, 0.75750544, 1.27989042, 0.68270135, 0.61001091,\n",
       "       1.03992517, 1.0081931 , 0.85748241, 0.60325838, 0.80008369,\n",
       "       0.5775207 , 1.35221554, 1.03519054, 0.89223278, 1.20326526,\n",
       "       0.96421591, 1.04434486, 0.93294652, 1.11861227, 1.32230012,\n",
       "       0.88116878, 0.69257584, 0.87533943, 1.09829435, 0.179574  ,\n",
       "       1.25328978, 1.01668068, 0.82055802, 0.92385175, 0.78944382,\n",
       "       0.89447275, 1.00332117, 1.0231245 , 0.82824164, 0.47122147,\n",
       "       0.86112817, 0.86006638, 0.88111041, 1.27529998, 1.28545349,\n",
       "       0.6940154 , 1.19597151, 1.30863063, 0.78420538, 1.06201909,\n",
       "       0.7195765 , 0.91420787, 0.98653555, 0.72328716, 0.95449707,\n",
       "       1.0606903 , 1.0194057 , 0.99925326, 0.66322675, 1.25654209,\n",
       "       0.68597093, 0.98924379, 0.67364341, 0.95051586, 1.15106317,\n",
       "       0.99900281, 1.19059885, 1.01448188, 0.90518698, 0.91143718,\n",
       "       0.75031111, 1.25198756, 0.82073598, 0.87425716, 0.49673283,\n",
       "       0.86740542, 0.65879787, 0.73360898, 1.09279491, 0.91432956,\n",
       "       1.1270548 , 0.82828906, 0.86462169, 1.12281401, 0.58756151,\n",
       "       1.11419589, 0.74526243, 1.0124861 , 0.94687721, 1.0926265 ,\n",
       "       1.07782083, 0.9695213 , 0.97234024, 1.05799502, 0.9883421 ,\n",
       "       0.96078021, 0.92808319, 1.25862305, 0.75788999, 0.89511665,\n",
       "       0.8849162 , 0.97547282, 1.02858382, 0.75907927, 0.96230566,\n",
       "       1.20405054, 0.76791088, 0.65157049, 0.79988207, 0.95745379,\n",
       "       0.9035893 , 0.89693624, 1.01208258, 1.19946072, 0.72881229,\n",
       "       0.84412855, 0.86576287, 0.69868052, 1.17206604, 1.21928429,\n",
       "       1.48166899, 0.77005209, 0.59481268, 0.69367024, 1.11451638,\n",
       "       1.21563225, 0.84853636, 1.26841812, 1.0977782 , 0.84709344,\n",
       "       1.13739223, 1.00484262, 0.90029667, 0.90328464, 1.26764559,\n",
       "       0.80910526, 1.0206749 , 1.10274612, 0.86588933, 0.91003797,\n",
       "       1.00553452, 0.97612729, 1.05731347, 1.14119063, 0.95160167,\n",
       "       1.26226703, 0.80116968, 0.58597939, 0.86529294, 1.27176216,\n",
       "       1.07619718, 0.73823441, 1.31266911, 1.03921416, 1.09933186,\n",
       "       0.56061115, 1.05102149, 0.92051396, 1.096408  , 1.04713834,\n",
       "       0.72044696, 1.20207   , 0.97074901, 0.86608765, 0.76287837,\n",
       "       1.08882458, 1.28694823, 1.05869228, 0.98796559, 1.24593676,\n",
       "       1.04451763, 0.90577371, 0.82753845, 0.73127508, 1.15651082,\n",
       "       1.0511585 , 1.30743358, 0.60064896, 0.82315784, 0.87796392,\n",
       "       1.2685133 , 0.97773397, 1.02649731, 0.79415987, 0.78480295,\n",
       "       0.84060648, 0.61466028, 1.22913057, 0.87722539, 0.74124311,\n",
       "       0.84124127, 0.73730795, 0.78362987, 1.07221808, 0.77065841,\n",
       "       1.03715889, 0.97911367, 0.69030646, 1.07605527, 1.13893714,\n",
       "       1.25580498, 1.26145433, 1.04149751, 0.80799571, 0.52170822,\n",
       "       0.86868803, 1.05725393, 1.23076847, 0.6549552 , 0.95186705,\n",
       "       0.9157295 , 0.54207813, 1.010144  , 1.15553893, 0.90871035,\n",
       "       0.94175889, 0.72167967, 0.66403159, 0.9901111 , 1.04734485,\n",
       "       0.80544305, 0.92902488, 1.25965891, 0.50818046, 0.76901028,\n",
       "       0.64164213, 1.11533311, 1.37187102, 0.70489631, 1.0686808 ,\n",
       "       0.80536007, 0.83197197, 1.21585372, 1.04507227, 1.10823579,\n",
       "       0.90483777, 0.83104933, 0.68320844, 0.99634097, 1.02635728,\n",
       "       1.21657233, 0.66869958, 1.0596204 , 0.95415434, 0.90624235,\n",
       "       1.06931019, 0.98657367, 0.64124863, 0.88512324, 1.40331581,\n",
       "       1.07849259, 1.07534375, 1.20624   , 1.05501612, 1.13502587,\n",
       "       0.87490581, 0.87437056, 1.25773025, 1.07215421, 0.91385526,\n",
       "       0.9237308 , 0.44126428, 0.7644241 , 0.91384807, 0.80961706,\n",
       "       1.31998377, 0.65737   , 0.93229783, 0.39780459, 0.79529986,\n",
       "       0.76036271, 0.98539893, 1.16891563, 0.9647472 , 1.00653651,\n",
       "       0.80035011, 0.81941632, 0.92878603, 0.96587421, 0.95404201,\n",
       "       0.78661403, 0.69122193, 0.85595048, 1.08920629, 0.98059533,\n",
       "       0.72531358, 0.76706126, 1.18588837, 0.87210922, 1.13960748,\n",
       "       1.30555618, 0.84971437, 0.41956666, 1.05406469, 0.92149098,\n",
       "       1.16910844, 0.71387555, 0.77452126, 0.91403222, 0.68049474,\n",
       "       0.85118587, 0.43561523, 1.10107296, 0.6385257 , 0.98044801,\n",
       "       0.78815277, 0.49749386, 0.65018173, 1.03737229, 1.17260658,\n",
       "       0.56233187, 0.80137292, 0.87339265, 1.30933948, 0.89819551,\n",
       "       1.11742488, 0.80115907, 0.91214768, 1.11815902, 1.07921641,\n",
       "       0.77106291, 0.78139687, 0.95518291, 1.22697557, 0.6626332 ,\n",
       "       1.08137153, 1.0599464 , 1.13725015, 1.1708083 , 1.16534992,\n",
       "       1.18246838, 1.31605261, 0.83425725, 1.21476662, 1.24138986,\n",
       "       1.00877312, 1.01783327, 0.85012719, 1.06462626, 0.98404145,\n",
       "       1.09065761, 0.69882249, 1.11001869, 1.05144968, 0.95383788,\n",
       "       0.78638109, 0.63442664, 0.92116491, 0.68983064, 1.07483561,\n",
       "       1.2091274 , 1.11412281, 0.83303667, 0.69125368, 0.38020325,\n",
       "       1.01731532, 0.73033082, 1.04742937, 0.96953666, 0.91315101,\n",
       "       1.07848243, 1.31731074, 0.672595  , 0.95627144, 0.82220242,\n",
       "       0.49036736, 0.49522314, 0.97070397, 0.61299797, 0.53764109,\n",
       "       0.71723412, 0.90762627, 0.92973123, 1.19805742, 0.88541085,\n",
       "       0.64775737, 0.76532175, 1.2379848 , 0.98007   , 0.84820355,\n",
       "       1.17421586, 0.81405572, 1.16319516, 0.66404943, 1.22728111,\n",
       "       1.22650858, 0.84212637, 0.44628989, 0.84682223, 0.72437367,\n",
       "       0.79083624, 0.99650605, 0.89843269, 1.05916949, 1.00267653,\n",
       "       0.81404465, 0.82893339, 1.09858974, 0.94650093, 0.67122942,\n",
       "       0.97556189, 0.68285895, 1.15216172, 0.67335177, 1.02051496,\n",
       "       1.17828562, 0.63504035, 0.94547231, 1.25971856, 0.79900676,\n",
       "       0.80112399, 0.91316997, 1.24161971, 1.10054713, 0.79438271,\n",
       "       0.76582874, 0.73967645, 0.89102771, 1.10531131, 0.69761908,\n",
       "       0.99184324, 0.91438395, 1.00775189, 0.87627313, 1.07361061,\n",
       "       0.82713193, 1.05073199, 1.26273163, 0.97156792, 1.00132747,\n",
       "       0.9425777 , 0.92176707, 0.71324226, 1.03071573, 0.98598051,\n",
       "       0.95753096, 0.81784723, 0.87113706, 0.89295502, 1.0138964 ,\n",
       "       1.05293824, 0.82203069, 0.99059012, 0.85713002, 0.9213689 ,\n",
       "       0.61144969, 0.97126699, 1.17791576, 1.25118654, 0.8356192 ,\n",
       "       0.71470556, 1.30305453, 1.09761101, 0.80920665, 0.33934815,\n",
       "       0.78953583, 1.25391731, 0.91545496, 0.80995654, 0.84037543,\n",
       "       0.76401565, 0.96414065, 0.75470121, 1.03546747, 0.91464021,\n",
       "       0.70420188, 1.34838625, 0.87299145, 0.86823239, 0.89829778,\n",
       "       0.7550192 , 1.26910261, 0.88811401, 0.97526286, 0.83843701,\n",
       "       0.91885757, 1.18578095, 0.71237313, 1.09538086, 0.90886502,\n",
       "       0.78441423, 1.030104  , 0.77531706, 0.69868459, 0.83284882,\n",
       "       0.8090129 , 1.05560371, 1.077508  , 0.64526195, 1.07869931,\n",
       "       0.78414909, 0.76199758, 1.04113963, 1.15657416, 0.98655541,\n",
       "       1.22857394, 1.01829772, 1.14037453, 0.94034869, 1.16749836,\n",
       "       0.65691627, 0.86647806, 0.80671273, 0.69454309, 0.69472292,\n",
       "       0.89830376, 0.89806736, 1.19293083, 1.2314335 , 0.45387402,\n",
       "       0.7859698 , 0.38521195, 1.16348752, 0.94647277, 0.70624731,\n",
       "       1.12157192, 0.59479447, 1.13954583, 0.43892311, 0.90490832,\n",
       "       0.8473782 , 1.00922141, 0.95611038, 0.84728177, 1.3370402 ,\n",
       "       0.89081531, 0.92109085, 0.99820204, 0.6364491 , 1.16349473,\n",
       "       0.96451243, 1.02402785, 1.20676746, 1.0055726 , 0.59478274,\n",
       "       0.61401907, 0.9656993 , 0.65874914, 0.53500353, 0.86489194,\n",
       "       1.30753827, 0.95584126, 1.16664451, 0.90379427, 1.21691124,\n",
       "       0.49715538, 1.04913014, 1.25466076, 0.91290634, 0.78221243,\n",
       "       1.01059877, 0.86391222, 0.83802122, 0.84942783, 0.88091003,\n",
       "       0.90271967, 0.71152363, 1.02435576, 1.12894128, 1.05795359,\n",
       "       0.88536379, 0.71099085, 1.0446619 , 0.55799931, 0.9303631 ,\n",
       "       1.24503765, 0.84589199, 1.05758238, 1.22235226, 0.65815372,\n",
       "       0.9875821 , 0.96299303, 0.92587457, 0.93523832, 0.87359596,\n",
       "       0.68040521, 0.7490943 , 0.56587393, 1.12204297, 0.43357441,\n",
       "       0.76247988, 1.13069123, 1.19892717, 0.82868368, 1.02800348,\n",
       "       0.48505455, 1.22791358, 0.75040626, 0.69540564, 0.62611396,\n",
       "       1.02022094, 0.83413835, 0.94369321, 1.3234138 , 0.66861933,\n",
       "       0.96625057, 0.80801998, 0.9616471 , 1.15303602, 1.02274497,\n",
       "       1.23125706, 1.06341084, 0.93482826, 0.68365568, 0.64256999,\n",
       "       0.82625466, 0.84840905, 1.11441473, 0.93124798, 0.94045652,\n",
       "       1.42475646, 1.00099829, 0.97364928, 1.11993292, 0.69737026,\n",
       "       1.14547053, 0.79058634, 0.80822762, 1.02484812, 0.66408187,\n",
       "       0.72314859, 1.28548018, 0.99712599, 0.78229608, 1.18126591,\n",
       "       0.84472326, 0.70001772, 1.31474023, 0.65776569, 0.96823765,\n",
       "       1.06755385, 1.21788433, 0.65060344, 0.94417906, 0.67694803,\n",
       "       1.08136214, 0.74436539, 0.76211188, 1.45252175, 1.13282239,\n",
       "       1.01006732, 1.00457606, 0.98163097, 1.24893341, 1.14374201,\n",
       "       0.98842752, 0.68141346, 0.8561796 , 1.26649587, 0.66452226,\n",
       "       0.63645289, 0.50064442, 0.9947746 , 0.82345433, 1.18434891,\n",
       "       1.28808074, 0.78985172, 1.15022236, 0.85376737, 0.78203505,\n",
       "       0.98099963, 1.19511356, 0.67977508, 0.77997527, 0.51925319,\n",
       "       0.81513105, 1.04488869, 0.64122207, 0.81313797, 0.9575733 ,\n",
       "       1.09385657, 1.35267874, 0.88904863, 0.94096751, 1.15584012,\n",
       "       0.91237019, 0.75208478, 1.17106779, 1.05500076, 0.86098106,\n",
       "       0.92266933, 0.74234824, 0.5413904 , 0.82856608, 1.00106809,\n",
       "       0.8022381 , 1.33355696, 0.63934545, 1.00705343, 0.95397286,\n",
       "       0.31710798, 1.12908509, 0.87853415, 0.93693806, 1.05262661,\n",
       "       1.05144495, 1.09798831, 0.65593437, 1.27454838, 1.15344413,\n",
       "       1.16694476, 1.01039612, 0.80668767, 1.04015824, 1.08212899,\n",
       "       0.76405323, 1.1409007 , 0.92428066, 0.76676467, 1.27683112,\n",
       "       1.20670965, 1.04741946, 0.95089506, 0.85519682, 1.16427969,\n",
       "       1.08228177, 1.0782891 , 0.93298345, 0.52998354, 0.9603594 ,\n",
       "       1.13499194, 0.9332063 , 1.0625554 , 0.91463784, 0.96116498,\n",
       "       0.54307285, 0.82038664, 1.17967468, 0.81934248, 0.90418101,\n",
       "       0.9664694 , 1.0771648 , 0.77808691, 0.59639883, 1.14456266,\n",
       "       1.04604329, 1.08093489, 0.71534513, 0.91446722, 0.90549224,\n",
       "       0.93112753, 1.20156739, 1.36794178, 0.50287025, 0.72747734,\n",
       "       1.12921814, 0.62004408, 1.2997653 , 1.040365  , 0.40908875,\n",
       "       1.03667572, 0.81925805, 0.93009767, 0.68469538, 0.98455195,\n",
       "       0.75172244, 0.80230885, 1.03556268, 0.73983756, 0.80630011,\n",
       "       0.61902362, 0.9828777 , 0.77204659, 1.16361292, 0.97804458,\n",
       "       0.75829158, 0.37396379, 0.65884132, 0.7650295 , 0.95733211,\n",
       "       0.73499117, 1.02797394, 0.62182282, 0.87413504, 0.76958924,\n",
       "       1.10181581, 0.67187456, 0.66342438, 1.08750055, 0.8460672 ,\n",
       "       1.09126805, 1.01789051, 0.62098875, 1.28781519, 1.21666389,\n",
       "       1.10111895, 1.12754001, 0.99371209, 1.20365368, 0.88323071,\n",
       "       1.17491616, 0.90675813, 1.08767102, 0.9161767 , 1.03622598,\n",
       "       0.89264672, 0.86346083, 1.01088765, 1.08766827, 0.61072736,\n",
       "       0.78945593, 0.97658887, 0.80967552, 0.97251532, 1.38082056,\n",
       "       1.16691698, 0.97073038, 0.58876113, 1.11596512, 1.24812434,\n",
       "       0.67168443, 0.99288549, 0.69354296, 0.65221362, 0.85511042,\n",
       "       0.78156885, 1.05897236, 0.76172296, 1.1337046 , 0.7725371 ,\n",
       "       1.01496511, 0.71894476, 0.97296319, 0.93135745, 0.96737696,\n",
       "       0.86563179, 1.2164521 , 0.82046838, 1.19009854, 1.06572547,\n",
       "       0.85477916, 0.90693449, 1.15573047, 0.72407157, 0.69956861,\n",
       "       0.96524518, 1.3194811 , 0.92925206, 0.99084311, 0.99657745,\n",
       "       1.0320928 , 1.02297067, 1.15793347, 0.8928453 , 1.24049892,\n",
       "       1.08535463, 0.79647007, 0.80666717, 0.87347603, 1.28730945,\n",
       "       0.47305093, 0.60890111, 0.8939214 , 0.98089008, 1.23003941,\n",
       "       1.09607397, 0.52244183, 0.63369226, 0.69966283, 1.09754026,\n",
       "       0.83322648, 1.0991258 , 0.34251878, 0.96169203, 0.99854358,\n",
       "       0.9381388 , 1.11496602, 0.86035827, 0.98692919, 0.65683063,\n",
       "       1.07782267, 0.67049769, 1.07173465, 0.8247074 , 0.43031168,\n",
       "       0.90169672, 1.04686532, 1.18274722, 1.07531808, 0.95564   ,\n",
       "       0.8491182 , 0.96041497, 1.16684179, 1.14676811, 0.39597331,\n",
       "       1.02281526, 0.69844384, 1.10243734, 1.13268312, 1.14771878,\n",
       "       0.80749802, 1.00950271, 0.63280635, 1.29671529, 0.87963969])"
      ]
     },
     "execution_count": 126,
     "metadata": {},
     "output_type": "execute_result"
    }
   ],
   "source": [
    "s"
   ]
  },
  {
   "cell_type": "code",
   "execution_count": 128,
   "metadata": {
    "scrolled": true
   },
   "outputs": [
    {
     "data": {
      "text/plain": [
       "1"
      ]
     },
     "execution_count": 128,
     "metadata": {},
     "output_type": "execute_result"
    }
   ],
   "source": [
    "meanvalue = 1\n",
    "meanvalue"
   ]
  },
  {
   "cell_type": "code",
   "execution_count": 129,
   "metadata": {
    "scrolled": true
   },
   "outputs": [
    {
     "data": {
      "text/plain": [
       "0.7978845608028654"
      ]
     },
     "execution_count": 129,
     "metadata": {},
     "output_type": "execute_result"
    }
   ],
   "source": [
    "modevalue = np.sqrt(2 / np.pi) * meanvalue\n",
    "modevalue"
   ]
  },
  {
   "cell_type": "markdown",
   "metadata": {},
   "source": [
    "### (e)numpy.random.Generator.zipf\n",
    "\n",
    "#### https://numpy.org/doc/stable/reference/random/generated/numpy.random.Generator.zipf.html#numpy-random-generator-zipf\n"
   ]
  },
  {
   "cell_type": "markdown",
   "metadata": {},
   "source": [
    "### Generator.zipf(a, size=None)"
   ]
  },
  {
   "cell_type": "markdown",
   "metadata": {},
   "source": [
    "Draw samples from a Zipf distribution."
   ]
  },
  {
   "cell_type": "code",
   "execution_count": null,
   "metadata": {
    "scrolled": false
   },
   "outputs": [],
   "source": [
    "# Draw samples from the distribution:\n",
    "a = 2. # parameter\n",
    "s = np.random.default_rng().zipf(a, 1000)"
   ]
  },
  {
   "cell_type": "code",
   "execution_count": 130,
   "metadata": {
    "scrolled": true
   },
   "outputs": [
    {
     "data": {
      "text/plain": [
       "array([0.57034691, 0.75687623, 1.13086046, 0.70866707, 0.78675955,\n",
       "       0.85762597, 0.9742134 , 0.86988522, 0.79230011, 0.92230257,\n",
       "       0.94633902, 1.26824131, 1.02417671, 0.73424669, 1.07455713,\n",
       "       1.31757616, 0.69603244, 0.70731547, 0.65634868, 0.80760941,\n",
       "       1.03551477, 0.83447201, 0.63136695, 0.99879452, 1.08335163,\n",
       "       0.87715749, 1.01907122, 0.97679535, 1.0062855 , 0.88665067,\n",
       "       0.91698828, 1.11027244, 0.97577502, 0.62973362, 0.49694989,\n",
       "       0.93534403, 0.95315381, 1.11114059, 1.05564377, 0.76109624,\n",
       "       1.09551232, 0.99836766, 0.76710137, 0.93781369, 0.77214702,\n",
       "       1.05046955, 0.8148956 , 0.92757276, 1.17968529, 1.34312406,\n",
       "       1.25935491, 1.08034932, 0.68095557, 0.91202674, 1.28111623,\n",
       "       0.84680309, 0.70467209, 0.73351247, 0.95564868, 0.46585454,\n",
       "       1.08021825, 0.87003344, 0.75953394, 0.80816262, 1.10201069,\n",
       "       0.51964277, 1.08089632, 1.07516522, 0.61086225, 1.12199227,\n",
       "       0.71646866, 0.68120212, 0.71123927, 0.30777905, 0.94718995,\n",
       "       0.85630635, 0.68841312, 1.15217936, 0.93264243, 0.84420984,\n",
       "       0.94679789, 1.10622408, 0.71545133, 1.14955916, 0.97487901,\n",
       "       0.99101901, 0.97653398, 0.75795161, 0.72783156, 0.91712504,\n",
       "       0.84880261, 0.77274512, 0.97264974, 1.14163067, 0.95966586,\n",
       "       1.18836874, 1.04757049, 1.18197501, 0.7422431 , 0.97588969,\n",
       "       0.84780487, 1.06365025, 0.9021625 , 0.88119886, 0.68812767,\n",
       "       0.84773091, 1.01962051, 0.93401824, 0.93955341, 1.00876412,\n",
       "       0.79757298, 0.75750544, 1.27989042, 0.68270135, 0.61001091,\n",
       "       1.03992517, 1.0081931 , 0.85748241, 0.60325838, 0.80008369,\n",
       "       0.5775207 , 1.35221554, 1.03519054, 0.89223278, 1.20326526,\n",
       "       0.96421591, 1.04434486, 0.93294652, 1.11861227, 1.32230012,\n",
       "       0.88116878, 0.69257584, 0.87533943, 1.09829435, 0.179574  ,\n",
       "       1.25328978, 1.01668068, 0.82055802, 0.92385175, 0.78944382,\n",
       "       0.89447275, 1.00332117, 1.0231245 , 0.82824164, 0.47122147,\n",
       "       0.86112817, 0.86006638, 0.88111041, 1.27529998, 1.28545349,\n",
       "       0.6940154 , 1.19597151, 1.30863063, 0.78420538, 1.06201909,\n",
       "       0.7195765 , 0.91420787, 0.98653555, 0.72328716, 0.95449707,\n",
       "       1.0606903 , 1.0194057 , 0.99925326, 0.66322675, 1.25654209,\n",
       "       0.68597093, 0.98924379, 0.67364341, 0.95051586, 1.15106317,\n",
       "       0.99900281, 1.19059885, 1.01448188, 0.90518698, 0.91143718,\n",
       "       0.75031111, 1.25198756, 0.82073598, 0.87425716, 0.49673283,\n",
       "       0.86740542, 0.65879787, 0.73360898, 1.09279491, 0.91432956,\n",
       "       1.1270548 , 0.82828906, 0.86462169, 1.12281401, 0.58756151,\n",
       "       1.11419589, 0.74526243, 1.0124861 , 0.94687721, 1.0926265 ,\n",
       "       1.07782083, 0.9695213 , 0.97234024, 1.05799502, 0.9883421 ,\n",
       "       0.96078021, 0.92808319, 1.25862305, 0.75788999, 0.89511665,\n",
       "       0.8849162 , 0.97547282, 1.02858382, 0.75907927, 0.96230566,\n",
       "       1.20405054, 0.76791088, 0.65157049, 0.79988207, 0.95745379,\n",
       "       0.9035893 , 0.89693624, 1.01208258, 1.19946072, 0.72881229,\n",
       "       0.84412855, 0.86576287, 0.69868052, 1.17206604, 1.21928429,\n",
       "       1.48166899, 0.77005209, 0.59481268, 0.69367024, 1.11451638,\n",
       "       1.21563225, 0.84853636, 1.26841812, 1.0977782 , 0.84709344,\n",
       "       1.13739223, 1.00484262, 0.90029667, 0.90328464, 1.26764559,\n",
       "       0.80910526, 1.0206749 , 1.10274612, 0.86588933, 0.91003797,\n",
       "       1.00553452, 0.97612729, 1.05731347, 1.14119063, 0.95160167,\n",
       "       1.26226703, 0.80116968, 0.58597939, 0.86529294, 1.27176216,\n",
       "       1.07619718, 0.73823441, 1.31266911, 1.03921416, 1.09933186,\n",
       "       0.56061115, 1.05102149, 0.92051396, 1.096408  , 1.04713834,\n",
       "       0.72044696, 1.20207   , 0.97074901, 0.86608765, 0.76287837,\n",
       "       1.08882458, 1.28694823, 1.05869228, 0.98796559, 1.24593676,\n",
       "       1.04451763, 0.90577371, 0.82753845, 0.73127508, 1.15651082,\n",
       "       1.0511585 , 1.30743358, 0.60064896, 0.82315784, 0.87796392,\n",
       "       1.2685133 , 0.97773397, 1.02649731, 0.79415987, 0.78480295,\n",
       "       0.84060648, 0.61466028, 1.22913057, 0.87722539, 0.74124311,\n",
       "       0.84124127, 0.73730795, 0.78362987, 1.07221808, 0.77065841,\n",
       "       1.03715889, 0.97911367, 0.69030646, 1.07605527, 1.13893714,\n",
       "       1.25580498, 1.26145433, 1.04149751, 0.80799571, 0.52170822,\n",
       "       0.86868803, 1.05725393, 1.23076847, 0.6549552 , 0.95186705,\n",
       "       0.9157295 , 0.54207813, 1.010144  , 1.15553893, 0.90871035,\n",
       "       0.94175889, 0.72167967, 0.66403159, 0.9901111 , 1.04734485,\n",
       "       0.80544305, 0.92902488, 1.25965891, 0.50818046, 0.76901028,\n",
       "       0.64164213, 1.11533311, 1.37187102, 0.70489631, 1.0686808 ,\n",
       "       0.80536007, 0.83197197, 1.21585372, 1.04507227, 1.10823579,\n",
       "       0.90483777, 0.83104933, 0.68320844, 0.99634097, 1.02635728,\n",
       "       1.21657233, 0.66869958, 1.0596204 , 0.95415434, 0.90624235,\n",
       "       1.06931019, 0.98657367, 0.64124863, 0.88512324, 1.40331581,\n",
       "       1.07849259, 1.07534375, 1.20624   , 1.05501612, 1.13502587,\n",
       "       0.87490581, 0.87437056, 1.25773025, 1.07215421, 0.91385526,\n",
       "       0.9237308 , 0.44126428, 0.7644241 , 0.91384807, 0.80961706,\n",
       "       1.31998377, 0.65737   , 0.93229783, 0.39780459, 0.79529986,\n",
       "       0.76036271, 0.98539893, 1.16891563, 0.9647472 , 1.00653651,\n",
       "       0.80035011, 0.81941632, 0.92878603, 0.96587421, 0.95404201,\n",
       "       0.78661403, 0.69122193, 0.85595048, 1.08920629, 0.98059533,\n",
       "       0.72531358, 0.76706126, 1.18588837, 0.87210922, 1.13960748,\n",
       "       1.30555618, 0.84971437, 0.41956666, 1.05406469, 0.92149098,\n",
       "       1.16910844, 0.71387555, 0.77452126, 0.91403222, 0.68049474,\n",
       "       0.85118587, 0.43561523, 1.10107296, 0.6385257 , 0.98044801,\n",
       "       0.78815277, 0.49749386, 0.65018173, 1.03737229, 1.17260658,\n",
       "       0.56233187, 0.80137292, 0.87339265, 1.30933948, 0.89819551,\n",
       "       1.11742488, 0.80115907, 0.91214768, 1.11815902, 1.07921641,\n",
       "       0.77106291, 0.78139687, 0.95518291, 1.22697557, 0.6626332 ,\n",
       "       1.08137153, 1.0599464 , 1.13725015, 1.1708083 , 1.16534992,\n",
       "       1.18246838, 1.31605261, 0.83425725, 1.21476662, 1.24138986,\n",
       "       1.00877312, 1.01783327, 0.85012719, 1.06462626, 0.98404145,\n",
       "       1.09065761, 0.69882249, 1.11001869, 1.05144968, 0.95383788,\n",
       "       0.78638109, 0.63442664, 0.92116491, 0.68983064, 1.07483561,\n",
       "       1.2091274 , 1.11412281, 0.83303667, 0.69125368, 0.38020325,\n",
       "       1.01731532, 0.73033082, 1.04742937, 0.96953666, 0.91315101,\n",
       "       1.07848243, 1.31731074, 0.672595  , 0.95627144, 0.82220242,\n",
       "       0.49036736, 0.49522314, 0.97070397, 0.61299797, 0.53764109,\n",
       "       0.71723412, 0.90762627, 0.92973123, 1.19805742, 0.88541085,\n",
       "       0.64775737, 0.76532175, 1.2379848 , 0.98007   , 0.84820355,\n",
       "       1.17421586, 0.81405572, 1.16319516, 0.66404943, 1.22728111,\n",
       "       1.22650858, 0.84212637, 0.44628989, 0.84682223, 0.72437367,\n",
       "       0.79083624, 0.99650605, 0.89843269, 1.05916949, 1.00267653,\n",
       "       0.81404465, 0.82893339, 1.09858974, 0.94650093, 0.67122942,\n",
       "       0.97556189, 0.68285895, 1.15216172, 0.67335177, 1.02051496,\n",
       "       1.17828562, 0.63504035, 0.94547231, 1.25971856, 0.79900676,\n",
       "       0.80112399, 0.91316997, 1.24161971, 1.10054713, 0.79438271,\n",
       "       0.76582874, 0.73967645, 0.89102771, 1.10531131, 0.69761908,\n",
       "       0.99184324, 0.91438395, 1.00775189, 0.87627313, 1.07361061,\n",
       "       0.82713193, 1.05073199, 1.26273163, 0.97156792, 1.00132747,\n",
       "       0.9425777 , 0.92176707, 0.71324226, 1.03071573, 0.98598051,\n",
       "       0.95753096, 0.81784723, 0.87113706, 0.89295502, 1.0138964 ,\n",
       "       1.05293824, 0.82203069, 0.99059012, 0.85713002, 0.9213689 ,\n",
       "       0.61144969, 0.97126699, 1.17791576, 1.25118654, 0.8356192 ,\n",
       "       0.71470556, 1.30305453, 1.09761101, 0.80920665, 0.33934815,\n",
       "       0.78953583, 1.25391731, 0.91545496, 0.80995654, 0.84037543,\n",
       "       0.76401565, 0.96414065, 0.75470121, 1.03546747, 0.91464021,\n",
       "       0.70420188, 1.34838625, 0.87299145, 0.86823239, 0.89829778,\n",
       "       0.7550192 , 1.26910261, 0.88811401, 0.97526286, 0.83843701,\n",
       "       0.91885757, 1.18578095, 0.71237313, 1.09538086, 0.90886502,\n",
       "       0.78441423, 1.030104  , 0.77531706, 0.69868459, 0.83284882,\n",
       "       0.8090129 , 1.05560371, 1.077508  , 0.64526195, 1.07869931,\n",
       "       0.78414909, 0.76199758, 1.04113963, 1.15657416, 0.98655541,\n",
       "       1.22857394, 1.01829772, 1.14037453, 0.94034869, 1.16749836,\n",
       "       0.65691627, 0.86647806, 0.80671273, 0.69454309, 0.69472292,\n",
       "       0.89830376, 0.89806736, 1.19293083, 1.2314335 , 0.45387402,\n",
       "       0.7859698 , 0.38521195, 1.16348752, 0.94647277, 0.70624731,\n",
       "       1.12157192, 0.59479447, 1.13954583, 0.43892311, 0.90490832,\n",
       "       0.8473782 , 1.00922141, 0.95611038, 0.84728177, 1.3370402 ,\n",
       "       0.89081531, 0.92109085, 0.99820204, 0.6364491 , 1.16349473,\n",
       "       0.96451243, 1.02402785, 1.20676746, 1.0055726 , 0.59478274,\n",
       "       0.61401907, 0.9656993 , 0.65874914, 0.53500353, 0.86489194,\n",
       "       1.30753827, 0.95584126, 1.16664451, 0.90379427, 1.21691124,\n",
       "       0.49715538, 1.04913014, 1.25466076, 0.91290634, 0.78221243,\n",
       "       1.01059877, 0.86391222, 0.83802122, 0.84942783, 0.88091003,\n",
       "       0.90271967, 0.71152363, 1.02435576, 1.12894128, 1.05795359,\n",
       "       0.88536379, 0.71099085, 1.0446619 , 0.55799931, 0.9303631 ,\n",
       "       1.24503765, 0.84589199, 1.05758238, 1.22235226, 0.65815372,\n",
       "       0.9875821 , 0.96299303, 0.92587457, 0.93523832, 0.87359596,\n",
       "       0.68040521, 0.7490943 , 0.56587393, 1.12204297, 0.43357441,\n",
       "       0.76247988, 1.13069123, 1.19892717, 0.82868368, 1.02800348,\n",
       "       0.48505455, 1.22791358, 0.75040626, 0.69540564, 0.62611396,\n",
       "       1.02022094, 0.83413835, 0.94369321, 1.3234138 , 0.66861933,\n",
       "       0.96625057, 0.80801998, 0.9616471 , 1.15303602, 1.02274497,\n",
       "       1.23125706, 1.06341084, 0.93482826, 0.68365568, 0.64256999,\n",
       "       0.82625466, 0.84840905, 1.11441473, 0.93124798, 0.94045652,\n",
       "       1.42475646, 1.00099829, 0.97364928, 1.11993292, 0.69737026,\n",
       "       1.14547053, 0.79058634, 0.80822762, 1.02484812, 0.66408187,\n",
       "       0.72314859, 1.28548018, 0.99712599, 0.78229608, 1.18126591,\n",
       "       0.84472326, 0.70001772, 1.31474023, 0.65776569, 0.96823765,\n",
       "       1.06755385, 1.21788433, 0.65060344, 0.94417906, 0.67694803,\n",
       "       1.08136214, 0.74436539, 0.76211188, 1.45252175, 1.13282239,\n",
       "       1.01006732, 1.00457606, 0.98163097, 1.24893341, 1.14374201,\n",
       "       0.98842752, 0.68141346, 0.8561796 , 1.26649587, 0.66452226,\n",
       "       0.63645289, 0.50064442, 0.9947746 , 0.82345433, 1.18434891,\n",
       "       1.28808074, 0.78985172, 1.15022236, 0.85376737, 0.78203505,\n",
       "       0.98099963, 1.19511356, 0.67977508, 0.77997527, 0.51925319,\n",
       "       0.81513105, 1.04488869, 0.64122207, 0.81313797, 0.9575733 ,\n",
       "       1.09385657, 1.35267874, 0.88904863, 0.94096751, 1.15584012,\n",
       "       0.91237019, 0.75208478, 1.17106779, 1.05500076, 0.86098106,\n",
       "       0.92266933, 0.74234824, 0.5413904 , 0.82856608, 1.00106809,\n",
       "       0.8022381 , 1.33355696, 0.63934545, 1.00705343, 0.95397286,\n",
       "       0.31710798, 1.12908509, 0.87853415, 0.93693806, 1.05262661,\n",
       "       1.05144495, 1.09798831, 0.65593437, 1.27454838, 1.15344413,\n",
       "       1.16694476, 1.01039612, 0.80668767, 1.04015824, 1.08212899,\n",
       "       0.76405323, 1.1409007 , 0.92428066, 0.76676467, 1.27683112,\n",
       "       1.20670965, 1.04741946, 0.95089506, 0.85519682, 1.16427969,\n",
       "       1.08228177, 1.0782891 , 0.93298345, 0.52998354, 0.9603594 ,\n",
       "       1.13499194, 0.9332063 , 1.0625554 , 0.91463784, 0.96116498,\n",
       "       0.54307285, 0.82038664, 1.17967468, 0.81934248, 0.90418101,\n",
       "       0.9664694 , 1.0771648 , 0.77808691, 0.59639883, 1.14456266,\n",
       "       1.04604329, 1.08093489, 0.71534513, 0.91446722, 0.90549224,\n",
       "       0.93112753, 1.20156739, 1.36794178, 0.50287025, 0.72747734,\n",
       "       1.12921814, 0.62004408, 1.2997653 , 1.040365  , 0.40908875,\n",
       "       1.03667572, 0.81925805, 0.93009767, 0.68469538, 0.98455195,\n",
       "       0.75172244, 0.80230885, 1.03556268, 0.73983756, 0.80630011,\n",
       "       0.61902362, 0.9828777 , 0.77204659, 1.16361292, 0.97804458,\n",
       "       0.75829158, 0.37396379, 0.65884132, 0.7650295 , 0.95733211,\n",
       "       0.73499117, 1.02797394, 0.62182282, 0.87413504, 0.76958924,\n",
       "       1.10181581, 0.67187456, 0.66342438, 1.08750055, 0.8460672 ,\n",
       "       1.09126805, 1.01789051, 0.62098875, 1.28781519, 1.21666389,\n",
       "       1.10111895, 1.12754001, 0.99371209, 1.20365368, 0.88323071,\n",
       "       1.17491616, 0.90675813, 1.08767102, 0.9161767 , 1.03622598,\n",
       "       0.89264672, 0.86346083, 1.01088765, 1.08766827, 0.61072736,\n",
       "       0.78945593, 0.97658887, 0.80967552, 0.97251532, 1.38082056,\n",
       "       1.16691698, 0.97073038, 0.58876113, 1.11596512, 1.24812434,\n",
       "       0.67168443, 0.99288549, 0.69354296, 0.65221362, 0.85511042,\n",
       "       0.78156885, 1.05897236, 0.76172296, 1.1337046 , 0.7725371 ,\n",
       "       1.01496511, 0.71894476, 0.97296319, 0.93135745, 0.96737696,\n",
       "       0.86563179, 1.2164521 , 0.82046838, 1.19009854, 1.06572547,\n",
       "       0.85477916, 0.90693449, 1.15573047, 0.72407157, 0.69956861,\n",
       "       0.96524518, 1.3194811 , 0.92925206, 0.99084311, 0.99657745,\n",
       "       1.0320928 , 1.02297067, 1.15793347, 0.8928453 , 1.24049892,\n",
       "       1.08535463, 0.79647007, 0.80666717, 0.87347603, 1.28730945,\n",
       "       0.47305093, 0.60890111, 0.8939214 , 0.98089008, 1.23003941,\n",
       "       1.09607397, 0.52244183, 0.63369226, 0.69966283, 1.09754026,\n",
       "       0.83322648, 1.0991258 , 0.34251878, 0.96169203, 0.99854358,\n",
       "       0.9381388 , 1.11496602, 0.86035827, 0.98692919, 0.65683063,\n",
       "       1.07782267, 0.67049769, 1.07173465, 0.8247074 , 0.43031168,\n",
       "       0.90169672, 1.04686532, 1.18274722, 1.07531808, 0.95564   ,\n",
       "       0.8491182 , 0.96041497, 1.16684179, 1.14676811, 0.39597331,\n",
       "       1.02281526, 0.69844384, 1.10243734, 1.13268312, 1.14771878,\n",
       "       0.80749802, 1.00950271, 0.63280635, 1.29671529, 0.87963969])"
      ]
     },
     "execution_count": 130,
     "metadata": {},
     "output_type": "execute_result"
    }
   ],
   "source": [
    "s"
   ]
  },
  {
   "cell_type": "code",
   "execution_count": 131,
   "metadata": {
    "scrolled": false
   },
   "outputs": [
    {
     "data": {
      "image/png": "[encoded data removed]",
      "text/plain": [
       "<Figure size 432x288 with 1 Axes>"
      ]
     },
     "metadata": {},
     "output_type": "display_data"
    }
   ],
   "source": [
    "# Display the histogram of the samples, along with the probability density function:\n",
    "import matplotlib.pyplot as plt\n",
    "from scipy import special  \n",
    "# Truncate s values at 100 so plot is interesting:\n",
    "count, bins, ignored = plt.hist(s[s<100], 100, density=True)\n",
    "x = np.arange(1., 100.)\n",
    "y = x**(-a) / special.zetac(a)  \n",
    "plt.plot(x, y/max(y), linewidth=2, color='b')  \n",
    "plt.show()\n",
    "\n"
   ]
  },
  {
   "cell_type": "code",
   "execution_count": null,
   "metadata": {
    "scrolled": false
   },
   "outputs": [],
   "source": []
  },
  {
   "cell_type": "code",
   "execution_count": 132,
   "metadata": {
    "scrolled": true
   },
   "outputs": [
    {
     "data": {
      "image/png": "[encoded data removed]",
      "text/plain": [
       "<Figure size 432x288 with 1 Axes>"
      ]
     },
     "metadata": {},
     "output_type": "display_data"
    }
   ],
   "source": [
    "# https://www.javatpoint.com/numpy-random\n",
    "# Display the histogram of the samples, along with the probability density function: \n",
    "import numpy as np  \n",
    "import matplotlib.pyplot as plt  \n",
    "from scipy import special  \n",
    "x=2.0  \n",
    "s=np.random.zipf(x, 1000)  \n",
    "count, bins, ignored = plt.hist(s[s<50], 50, density=True)  \n",
    "a = np.arange(1., 50.)  \n",
    "b= a**(-x) / special.zetac(x)  \n",
    "plt.plot(a, b/max(b), linewidth=2, color='g')  \n",
    "plt.show()  \n"
   ]
  },
  {
   "cell_type": "markdown",
   "metadata": {
    "scrolled": true
   },
   "source": [
    "<cr>"
   ]
  },
  {
   "cell_type": "markdown",
   "metadata": {
    "scrolled": false
   },
   "source": [
    "***"
   ]
  },
  {
   "cell_type": "code",
   "execution_count": null,
   "metadata": {},
   "outputs": [],
   "source": []
  }
 ],
 "metadata": {
  "kernelspec": {
   "display_name": "Python 3",
   "language": "python",
   "name": "python3"
  },
  "language_info": {
   "codemirror_mode": {
    "name": "ipython",
    "version": 3
   },
   "file_extension": ".py",
   "mimetype": "text/x-python",
   "name": "python",
   "nbconvert_exporter": "python",
   "pygments_lexer": "ipython3",
   "version": "3.8.3"
  }
 },
 "nbformat": 4,
 "nbformat_minor": 2
}
