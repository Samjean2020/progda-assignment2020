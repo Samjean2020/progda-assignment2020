{
 "cells": [
  {
   "cell_type": "markdown",
   "metadata": {},
   "source": [
    "#         Practical Assignment\n",
    "##  Programming for Data Analysis\n",
    "### Due: last commit on or before November 22nd \n"
   ]
  },
  {
   "cell_type": "markdown",
   "metadata": {},
   "source": [
    "These are my solutions to the tasks included in this assignment. The author is Jean Bonsenge (G00387887@gmit.ie)\n"
   ]
  },
  {
   "cell_type": "markdown",
   "metadata": {},
   "source": [
    "## Problem statement\n"
   ]
  },
  {
   "cell_type": "markdown",
   "metadata": {},
   "source": [
    "The following assignment concerns the numpy.random package in Python [2]. You are required to create a Jupyter [5] notebook explaining the use of the package, including detailed explanations of at least five of the distributions provided for in the package. There are four distinct tasks to be carried out in your Jupyter notebook.\n",
    "1. Explain the overall purpose of the package.\n",
    "2. Explain the use of the “Simple random data” and “Permutations” functions.\n",
    "3. Explain the use and purpose of at least five “Distributions” functions.\n",
    "4. Explain the use of seeds in generating pseudorandom numbers.\n"
   ]
  },
  {
   "cell_type": "markdown",
   "metadata": {},
   "source": [
    "## Introduction \n",
    "\n",
    "For the purpose of this assignment, I am required to provide a less robotic version of numpy.random package and its functions as specified in the problem statement. "
   ]
  },
  {
   "cell_type": "markdown",
   "metadata": {},
   "source": [
    "## References "
   ]
  },
  {
   "cell_type": "markdown",
   "metadata": {},
   "source": [
    "Hayes A. (2020) “Simple Random Sample”:  https://www.investopedia.com/terms/s/simple-random-sample.asp\n",
    "\n",
    "Javatpoint (2020) “Numpy.random () in Python”: https://www.javatpoint.com/numpy-random\n",
    "\n",
    "Jupyter.org (2020) “The Jupyter Notebook”: https://jupyter.org/\n",
    "\n",
    "Matplotlib.org(2020) ” matplotlib” :\n",
    "https://matplotlib.org/3.1.1/api/_as_gen/matplotlib.pyplot.html\n",
    "\n",
    "McKinney W. (2018) “Python for Data Analysis: Data Wrangling With Pandas, NumPy, And IPython” 2nd Edition (Sebastopol: O’Reilly) \n",
    "\n",
    "Numpy.org (2020) “numpy”: https://numpy.org/\n",
    "\n",
    "NumPy.org (2020) “Random Generator”:  https://numpy.org/doc/stable/reference/random/generator.html\n",
    "\n",
    "O’Neill M.E (2020) “Melissa O'Neill's Homepage”: https://www.cs.hmc.edu/~oneill/\n",
    "\n",
    "\n",
    "O'Neill M.E (2014) “PCG: A Family of Simple Fast Space-Efficient Statistically Good Algorithms for Random Number Generation” https://www.pcg-random.org/pdf/hmc-cs-2014-0905.pdf\n",
    "\n",
    "Pandas (2020) “ pandas”: https://pandas.pydata.org/\n",
    "\n",
    "Pcg-random.org (2020) “PCG, A Family of Better Random Number Generators”:https://www.pcg-random.org/index.html\n",
    "\n",
    "PYnative (2020)\"Python random.seed() function to initialize the pseudo-random number generator\": https://pynative.com/python-random-seed/\n",
    "\n",
    "Sharp Sight (2019) \"NUMPY RANDOM SEED EXPLAINED\": https://www.sharpsightlabs.com/blog/numpy-random-seed/\n",
    "\n",
    "Seaborn (2020) “seaborn: statistical data visualization”: https://seaborn.pydata.org\n",
    "\n",
    "SciPy.org (2020) “ numpy.random.RandomState” : https://docs.scipy.org/doc/numpy-1.15.0/reference/generated/numpy.random.RandomState.html\n",
    "\n",
    "The Scipy Community (2014)”Random sampling (numpy.random)”: https://het.as.utexas.edu/HET/Software/Numpy/reference/routines.random.html\n",
    "\n"
   ]
  },
  {
   "cell_type": "markdown",
   "metadata": {},
   "source": [
    "## Development "
   ]
  },
  {
   "cell_type": "markdown",
   "metadata": {},
   "source": [
    "### 1. Explain the overall purpose of the package. \n",
    "\n",
    "#### A definition of Random sampling (numpy.random):\n",
    "\n",
    "Random sampling (numpy.random) is a package included in the NumPy library in Python. Numpy.random possesses functions capable of generating random numbers (Javatpoint, 2020). The versions of this module, I consulted (Numpyv.1.19, and Numpyv.1.20) are structured in four compartments: simple random data, permutations, distribution and random generator (het.as.utexa, 2014) (numpy.org, 2020). Each numpy.random structure subfunction and indicative example are set as follows:"
   ]
  },
  {
   "cell_type": "markdown",
   "metadata": {},
   "source": [
    "#### \tSimple random data\n",
    "\n",
    "A simple random data can be defined as a subgroup of a statistical entity in which each element of the subgroup has an equal probability of being selected (Hayes, 2020).\n",
    "\n",
    "##### numpy.random.rand(d0, d1, ..., dn)\n",
    "Random values in a given shape. Create an array of the given shape and propagate it with random samples from a uniform distribution over [0, 1]. https://numpy.org/devdocs/reference/random/generated/numpy.random.rand.html\n"
   ]
  },
  {
   "cell_type": "code",
   "execution_count": 25,
   "metadata": {
    "scrolled": false
   },
   "outputs": [
    {
     "data": {
      "text/plain": [
       "array([[0.66646787, 0.70432384],\n",
       "       [0.82845573, 0.13990925],\n",
       "       [0.34769106, 0.93103357]])"
      ]
     },
     "execution_count": 25,
     "metadata": {},
     "output_type": "execute_result"
    }
   ],
   "source": [
    "import numpy as np\n",
    "np.random.rand (3, 2)"
   ]
  },
  {
   "cell_type": "markdown",
   "metadata": {},
   "source": [
    "#### \tPermutations\n",
    "###### numpy.random.shuffle(x)\n",
    "Modify a sequence in-place by shuffling its contents.\n",
    "This function only shuffles the array along the first index of a multi-dimensional array:\n",
    "https://numpy.org/devdocs/reference/random/generated/numpy.random.shuffle.html"
   ]
  },
  {
   "cell_type": "code",
   "execution_count": 29,
   "metadata": {
    "scrolled": false
   },
   "outputs": [],
   "source": [
    "import numpy as np\n",
    "arr = np.arange(10)\n",
    "np.random.shuffle(arr)"
   ]
  },
  {
   "cell_type": "code",
   "execution_count": 47,
   "metadata": {
    "scrolled": false
   },
   "outputs": [
    {
     "data": {
      "text/plain": [
       "array([1, 3, 4, 2, 6, 8, 9, 5, 0, 7])"
      ]
     },
     "execution_count": 47,
     "metadata": {},
     "output_type": "execute_result"
    }
   ],
   "source": [
    "arr\n"
   ]
  },
  {
   "cell_type": "code",
   "execution_count": 46,
   "metadata": {
    "scrolled": false
   },
   "outputs": [
    {
     "data": {
      "text/plain": [
       "array([ 9,  2,  8,  1,  5,  0,  6, 11,  4,  7, 10,  3])"
      ]
     },
     "execution_count": 46,
     "metadata": {},
     "output_type": "execute_result"
    }
   ],
   "source": [
    "# This function is used for modifying a sequence in-place by shuffling its contents.\n",
    "# Available at: https://www.javatpoint.com/numpy-random\n",
    "\n",
    "import numpy as np  \n",
    "a=np.arange(12)  \n",
    "a  \n",
    "np.random.shuffle(a)  \n",
    "a  \n"
   ]
  },
  {
   "cell_type": "markdown",
   "metadata": {},
   "source": [
    "#### \tDistribution\n",
    "###### numpy.random.dirichlet(alpha, size=None)\n",
    "Draw samples from the Dirichlet distribution.\n",
    "Draw size samples of dimension k from a Dirichlet distribution. A Dirichlet-distributed random variable can be seen as a multivariate generalization of a Beta distribution. Dirichlet pdf is the conjugate prior of a multinomial in Bayesian inference.\n",
    "https://numpy.org/devdocs/reference/random/generated/numpy.random.dirichlet.html"
   ]
  },
  {
   "cell_type": "code",
   "execution_count": 2,
   "metadata": {
    "scrolled": false
   },
   "outputs": [
    {
     "data": {
      "image/png": "[encoded data removed]",
      "text/plain": [
       "<Figure size 432x288 with 1 Axes>"
      ]
     },
     "metadata": {
      "needs_background": "light"
     },
     "output_type": "display_data"
    }
   ],
   "source": [
    "import numpy as np\n",
    "s = np.random.dirichlet((10, 5, 3), 20).transpose()\n",
    "\n",
    "plt.barh(range(20), s[0])\n",
    "plt.barh(range(20), s[1], left=s[0], color='g')\n",
    "plt.barh(range(20), s[2], left=s[0]+s[1], color='r')\n",
    "plt.title(\"Lengths of Strings\")\n",
    "plt.style.use(\"ggplot\")\n",
    "plt.show()"
   ]
  },
  {
   "cell_type": "markdown",
   "metadata": {},
   "source": [
    "##### numpy.random.RandomState.pareto \n",
    "##### RandomState.pareto(a, size=None)\n",
    "\n",
    "Draw samples from a Pareto II or Lomax distribution with specified shape.\n",
    "Draw samples from the distribution:\n",
    "https://numpy.org/devdocs/reference/random/generated/numpy.random.RandomState.pareto.html"
   ]
  },
  {
   "cell_type": "code",
   "execution_count": 7,
   "metadata": {
    "scrolled": false
   },
   "outputs": [],
   "source": [
    "import numpy as np\n",
    "a, m = 3., 1. # shape and mode\n",
    "s = np.random.pareto(a, 1000) + m\n"
   ]
  },
  {
   "cell_type": "code",
   "execution_count": 9,
   "metadata": {
    "scrolled": true
   },
   "outputs": [
    {
     "name": "stdout",
     "output_type": "stream",
     "text": [
      "[ 1.82934987  3.23803894  1.2430043   1.11203689  1.02467642  1.84138243\n",
      "  1.16596649  1.16643678  1.17487982  1.01260976  1.57420182  2.89421769\n",
      "  1.04815983  1.07745165  1.05612469  1.39483896  1.08642239  1.37504037\n",
      "  1.02352774  1.41530565  1.08104918  1.58895725  1.12626608  1.74402352\n",
      "  1.0984727   1.67957284  1.14168549  1.82235433  1.01199416  1.16554181\n",
      "  1.30230128  1.90227885  1.01927866  1.13721901  1.25043512  1.10739678\n",
      "  1.06168857  1.06229793  1.46653825  1.17015865  1.38004896  1.19976167\n",
      "  4.26204493  1.10490927  1.00904016  1.12854815  1.0504812   2.24512873\n",
      "  1.06712604  1.41579234  1.41775354  2.40875895  1.13577707  2.46473525\n",
      "  1.09296851  1.49793044  1.37194302  1.00591897  1.55800645  1.14979491\n",
      "  1.2421149   1.94991379  1.12201095  2.04593877  1.08135853  1.0834143\n",
      "  1.03984767  1.97474211  1.19757746  5.91243245  1.25187086  1.02124195\n",
      "  1.12763438  1.13404273  2.35123332  2.50455194  2.05819628  1.23879891\n",
      "  1.29442426  1.0651423   2.766169    1.08654026  1.57867497  1.41332942\n",
      "  1.1140126   1.00246563  1.46720338  7.68670807  1.49587151  1.06158339\n",
      "  1.20101357  1.59776057  1.63170057  1.23452392  1.05441537  1.10920221\n",
      "  1.13142089  1.07103388  2.70164154  1.37002125  1.04355503  1.28865306\n",
      "  1.48823851  1.95187716  1.07259891  1.23326827  1.02122644  1.49994225\n",
      "  1.29259332  1.44469351  1.3353278   1.37913535  1.50390236  1.17520194\n",
      "  1.0149557   1.45958644  1.55203739  1.22268964  1.10873682  1.13077984\n",
      "  1.9968019   1.19816265  1.07823735  1.11852355  1.01145162  1.2713367\n",
      "  1.51668314  1.01312799  2.30272604  1.07252519  1.36416517  1.0261016\n",
      "  1.65802731  1.27921227  1.12783617  1.5026944   1.43194903  2.52720449\n",
      "  1.28090367  1.56309679  1.01326852  1.3439124   1.20130064  1.6170566\n",
      "  2.47353297  1.24923614  1.41536486  1.54715913  2.76541402  1.13221893\n",
      "  1.16753025  1.14685294  1.53858282  4.50012187  1.11231938  1.08917295\n",
      "  1.11430791  1.23735632  1.56216304  1.42815265  1.72330005  1.06748813\n",
      "  1.91639601  1.83211085  1.06515767  1.25587236  1.0131149   1.06819478\n",
      "  1.24828683  1.24439848  1.24523362  2.4605892   1.0885299   1.12629337\n",
      "  3.19805598  1.58063504  1.50247549  1.00091466  1.56924249  2.53045863\n",
      "  1.71229974  1.06052431  2.80597712  1.48024132  1.09140037  1.18647311\n",
      "  1.01053311  1.07716765  1.12265038  1.12128003  1.23204405  1.01733\n",
      "  1.68039205  1.25254926  1.02029803  1.29524512  1.39255741  3.09518738\n",
      "  1.06666025  1.43946048  1.85104908  1.27568508  1.35382917  1.22198001\n",
      "  1.00390441  1.02501712  1.11686959  1.93667717  4.44742559  1.35366961\n",
      "  1.79632136  1.07652654  1.35159481  1.0845988   1.32939627  1.55604644\n",
      "  1.79289488  1.40896565  1.00887564  1.81765666  2.7698699   5.2748774\n",
      "  1.45152087  1.1832488   1.04408038  1.19404829  1.04959632  1.64502045\n",
      "  1.14402707  1.04072282  1.27422076  2.2967149   2.05480871  1.39714891\n",
      "  1.9200123   1.54634336  2.40056473  1.20384366  1.29604178  1.12747379\n",
      "  1.17388749  1.0480322   1.00346831  1.20178794  1.74791082  1.00225766\n",
      "  1.68291648  1.16900609  1.06140194  1.44184187  1.10265694  1.08915237\n",
      "  1.53128214  1.40834795  2.49027163  1.0399076   1.47312659  2.85604653\n",
      "  1.18011232  1.88234106  1.65004045  1.26326474  1.87412744  1.04942299\n",
      "  1.01241027  1.23850677  1.03963357  1.15915739  1.86968947  1.22812823\n",
      "  1.02400498  1.00774204  1.0205004   2.40265122  1.39074579  1.09916939\n",
      "  1.42593218  1.76169641  1.37747363  1.12214269  1.01976151  1.82125818\n",
      "  1.46141344  1.02547158  1.43106037  1.45086025  1.60627385  1.19164768\n",
      "  1.08837504  1.3156134   1.10797129  1.00471477  1.57361832  1.1312276\n",
      "  1.00156063  1.08187449  1.1607193   1.06648177  1.11488759  1.27748196\n",
      "  1.62143273  1.34140082  1.20773586  1.41681764  1.0476057   1.05638362\n",
      "  1.51423954  1.53388065  1.19733295  7.2654811   1.38026562  1.92065243\n",
      "  1.13026157  1.09922996  1.44208816  1.2663953   1.22136344  1.01732387\n",
      "  6.38175539  1.11192345  1.11545673  2.6648509   1.97632729  2.11628042\n",
      "  1.07060875  1.71264092  2.11950252  1.01658982  1.2186206   1.40390449\n",
      "  1.77379945  1.11846307  1.51399201  1.86230019  1.10648691  1.22416555\n",
      "  2.01895244  1.0072411   1.08175599  1.0062283   1.06482769  2.18898338\n",
      "  1.03736161  1.05518092  3.03167305  1.76701412  1.03841875  2.20653673\n",
      "  1.39666091  2.63415945  1.16608321  1.08870405  1.14037491  1.05154525\n",
      "  1.36541649  1.23149125  1.00167287  2.56775571  1.54805962  1.56275914\n",
      "  2.19208875  2.23130935  1.03624892  2.56382979  1.08106246  1.59000417\n",
      "  1.30028369  1.02737745  1.22020867  1.88278479  1.73473131  1.33880764\n",
      "  2.64393385  1.27268489  1.49142165  1.61193693  1.04145405  1.01860261\n",
      "  1.29915747  1.21116388  1.1433161   2.09650969  1.21179332  2.78436926\n",
      "  1.01522306  1.63499755  1.06682905  1.21701084  1.16657573  1.18908545\n",
      "  1.07437523  2.41253992  1.33870959  1.42123208  1.07556795  1.04259249\n",
      "  1.54269204  1.07571208  1.86455572  1.11062509  1.31505016  1.44967915\n",
      "  1.72599257  1.05618636  1.27772818  1.40729062  1.12394576  1.44834371\n",
      "  2.34809696  2.35988198  1.92804731  1.0344484   1.08412981  1.08148058\n",
      "  1.10932587  2.34006154  1.14069062  1.06315146  1.7375784   1.8326053\n",
      "  1.4715893   1.20911084  1.24376768  1.09354467  2.37997992  1.7143437\n",
      "  1.13053385  1.26179965  1.73941453  1.03664596  1.21438454  2.24111788\n",
      "  1.21312082  1.74549863  1.45086859  1.19965844  1.23911101  1.23705232\n",
      "  1.00151786  1.15464401  1.35045998  1.08677042  1.92874396  1.03052287\n",
      "  1.29909989  1.8011147   2.22620913  1.30512828  2.11812753  1.37875074\n",
      "  1.56500022  1.16639778  1.02723178  1.81902248  1.53891815  1.05129436\n",
      "  1.18559446  1.11421262  1.41028891  1.20412307  1.14712048  1.06839448\n",
      "  2.06157715  1.03782744  1.11768028  1.56621734  1.17167701  1.1498683\n",
      "  1.34531474  1.00531153  1.79186133  1.62761229  1.05362077  1.02887088\n",
      "  1.04048582  1.15997418  1.13012063  1.22434797  1.33429044  1.05511952\n",
      "  1.17615555  1.01356525  1.38097977  1.55770615  1.48268839  1.21708647\n",
      "  1.09767247  4.33494589  1.32973214  1.09921081  1.58720042  1.02342717\n",
      "  1.12842181  1.27588289  1.38454273  1.39151945  1.12804299  1.00520311\n",
      "  1.45685583  1.58212608  1.02584579  1.14390241  1.43699993  1.15810643\n",
      "  2.41313868  3.74430662  1.18496028  1.04243177  1.24221874  2.43741908\n",
      "  1.09270344  1.02925698  1.74607139  1.3290464   1.02404291  1.456054\n",
      "  1.17983124  1.01697525  1.10277745  1.18264782  1.13116163  1.03034718\n",
      "  1.33927691  1.34272441  1.02194134  1.37049679  2.11147185  1.04575161\n",
      "  1.07501198  1.85573336  1.09628425  1.55283326  3.04811424  1.08564383\n",
      "  1.16914203  1.30434388  1.30713067  1.01039924  1.48246137  1.05456601\n",
      "  1.2972706   2.18052178  1.0189513   1.42920514  1.19280314  1.05735658\n",
      "  1.2622319   1.28966799  2.61783944  1.53102388  1.26079562  1.07233252\n",
      "  1.07755554  1.14387729  1.96873604  1.03382182  1.35659879  1.53533628\n",
      "  1.15527673  2.06758559  1.24867756  1.6272683   1.38797974  1.92236885\n",
      "  1.0679364   1.16730453  1.01480009  1.02580581  1.14269893  7.70225542\n",
      "  1.1570718   1.30614665  1.50083609  1.77190274  1.56978904  1.09641952\n",
      "  1.51439209  1.01130141  1.49904713  1.31364284  1.03014784  1.00049491\n",
      "  1.02220538  1.08172222  1.01607704  1.37054068  1.92115121  1.5460846\n",
      "  1.77286705  1.0308639   2.62298326  1.21440718  1.97621567  1.08525446\n",
      "  1.16853937  1.14403829  1.49171851  1.17611714  1.34596893  1.89985378\n",
      "  1.25972252  1.00387817  2.01918536  1.00970061  1.09482597  1.76981009\n",
      "  1.236419    1.4379709   1.32375043  1.69455844  1.06008732  1.34572268\n",
      "  2.03743445  1.51470129  1.42162658  1.41207198  2.24414695  1.23473406\n",
      "  1.03788499  1.06356594  1.09503833  1.70197645  1.0493748   1.02689327\n",
      "  1.62088564  1.31935349  1.15872886  3.21399442  1.01570855  1.57180079\n",
      "  1.09762203  1.17468656  1.08940259  1.55788414  3.81197761  1.1772561\n",
      "  1.27566504  1.09798447  1.03111178  1.07622327  1.18647275  1.31360937\n",
      "  1.46730666  2.42900022  1.12688874  1.75680767  1.62579353  1.12188375\n",
      "  1.47504859  1.16225023  1.02288154  1.70420246  1.30505228  2.7652762\n",
      "  1.5266946   1.33761645  1.0633347   1.40071907  1.06962636  1.06129908\n",
      "  2.28520068  1.01315125  1.04287872  1.05529261  1.12425504  1.91259849\n",
      "  1.30696625  1.14839734  1.09132487  1.7831123   1.41578823  1.38969047\n",
      "  1.11299391  1.29493928  1.59987588  1.22884728  2.55222266  2.45427148\n",
      "  1.24151286  1.35028343  1.04764083  1.78530828  1.2218238   1.7340149\n",
      "  1.3582946   1.18770182  1.46106419  1.38086755  1.1914627   1.92258347\n",
      "  1.24296311  1.06195611  1.40586457  1.84227484  1.65065908  2.37113505\n",
      "  1.22881767  3.14107234  1.38721616  1.06514658  1.17343738  1.4176195\n",
      "  1.65058127  1.13358848  1.43398247  1.05448402  1.11123973  1.17488907\n",
      "  1.33469812  1.19867415  1.4137803   1.07413357  1.74584026  1.04145265\n",
      "  1.51844024  1.24484946  2.11525741  2.99350043  2.70250432  1.27252583\n",
      "  1.34660026  1.21899276  1.22085564  1.19208614  2.72552127  1.73139492\n",
      "  1.27123742  1.49667229  1.26465395  1.03801886  1.55370673  1.01117342\n",
      "  3.52073322  1.13663169  1.4836704   1.3556844   1.18095287  1.1651316\n",
      "  1.06733009  1.08613134  1.24273105  2.00503722  1.03893668  1.48188051\n",
      "  1.1489326   1.08242848 10.74027932  1.29385278  1.82049256  1.20531572\n",
      "  1.13988841  1.50613214  1.03500331  1.90508611  2.36179663  2.44520227\n",
      "  1.02712342  1.54896414  1.00052038  2.24330853  1.0339873   1.1527983\n",
      "  1.07847242  1.20892506  1.11476272  1.15162097  2.77941408  1.03109704\n",
      "  1.34476097  1.13165926  1.26910562  1.1016193   1.42333063  1.98038914\n",
      "  1.08235484  1.1683348   1.02575937  1.05030056  1.04995549  1.1631635\n",
      "  1.19008095  1.19142564  1.28002511  1.83450713  5.70549159  2.06479292\n",
      "  1.77892788  2.15408451  1.84595436  1.35949182  1.31449932  1.12671223\n",
      "  2.09771758  1.5832356   1.35397407  1.19951422  1.37757381  1.16335947\n",
      "  1.09881725  1.12360498  1.08463021  2.14964376  1.47049879  1.1116164\n",
      "  1.31069124  2.609061    1.29613599  1.45101672  1.16906977  1.90377361\n",
      "  1.06884981  1.01076769  1.06750166  1.19369123  1.11687316  1.88575226\n",
      "  1.03583523  2.07481905  1.31795337  2.57131356  1.1637627   1.27389021\n",
      "  1.19446916  1.8342195   1.5525333   1.05011771  1.51963991  2.86708817\n",
      "  1.24490097  1.24427448  1.64317479  1.60128062  1.17600837  1.31634605\n",
      "  1.32423707  1.5828447   1.02847986  1.10054283  1.25448583  1.07284796\n",
      "  1.92294471  1.02749706  1.08437908  1.31596928  1.14738591  1.46299835\n",
      "  1.41345466  1.15605881  1.06855576  1.04656191  1.00325771  1.18376415\n",
      "  1.81608232  1.23493744  1.03893361  1.82255967  1.81552719  1.04800508\n",
      "  1.20612264  1.03919836  1.52782014  1.47138703  1.10639652  2.85231464\n",
      "  1.0854395   1.22160027  1.44800735  1.3458214   1.27719216  1.01610585\n",
      "  1.16721227  1.28725199  1.3388769   1.38013033  1.64736411  1.06879917\n",
      "  1.29649775  1.313905    1.75445705  1.86535634  1.01549801  2.29182886\n",
      "  1.24190834  1.00661168  1.49133744  1.00451906  1.02651205  1.10788178\n",
      "  2.17465641  1.12053669  1.11341385  1.00799871  1.01716475  1.12975259\n",
      "  1.55953955  1.01393105  1.30649994  1.07632793  2.61183961  1.1038811\n",
      "  1.31702684  7.14618177  1.00997048  1.73417215  1.01894411  1.44864358\n",
      "  2.18987762  1.18431311  1.68819551  7.89949482  2.17571648  1.15486251\n",
      "  1.31346393  1.39208448  1.25962893  1.22739275  1.1477362   1.90938388\n",
      "  1.51805534  3.44953892  1.12177592  1.03829407  1.02760837  1.02821721\n",
      "  1.06577978  1.05745393  1.04983105  1.76716983  2.96855591  1.05310819\n",
      "  1.18226172  1.18469724  2.0754188   1.24483095  1.37133699  1.3104776\n",
      "  2.15975001  1.10278636  1.62102464  1.47860385  1.06195626  4.94230214\n",
      "  1.74310595  1.5762551   1.42112687  1.1736742   1.26063888  2.36472815\n",
      "  1.10940856  7.30184552  1.22196543  1.42692145  1.16383816  1.23799853\n",
      "  1.03798749  6.20565589  1.07476684  1.41198658  1.09581158  3.24127267\n",
      "  1.26545224  1.1279496   2.0540935   1.01035153  1.04313122  1.032658\n",
      "  1.49636231  1.40943736  1.11895828  1.13873717  1.04376494  2.2964051\n",
      "  1.24127319  1.1085363   1.02756694  1.20695724  1.25483992  1.00662542\n",
      "  1.13006122  1.73927246  1.05114994  1.04457035  1.319568    1.35286538\n",
      "  1.60717805  1.62223734  2.002231    1.26156876  1.74442853  1.73914493\n",
      "  1.91346994  1.17826646  1.08738936  1.00574779  1.76851616  1.15092056\n",
      "  1.01643431  2.3305542   1.55828165  1.17438886]\n"
     ]
    }
   ],
   "source": [
    "print(s)"
   ]
  },
  {
   "cell_type": "code",
   "execution_count": null,
   "metadata": {
    "scrolled": false
   },
   "outputs": [],
   "source": [
    "Display the histogram of the samples, along with the probability density function:"
   ]
  },
  {
   "cell_type": "code",
   "execution_count": 4,
   "metadata": {},
   "outputs": [
    {
     "data": {
      "image/png": "[encoded data removed]",
      "text/plain": [
       "<Figure size 432x288 with 1 Axes>"
      ]
     },
     "metadata": {},
     "output_type": "display_data"
    }
   ],
   "source": [
    "import matplotlib.pyplot as plt\n",
    "import numpy as np\n",
    "a, m = 3., 1. # shape and mode\n",
    "s = np.random.pareto(a, 1000) + m\n",
    "count, bins, ignored = plt.hist(s, 100, density=True, align='left')\n",
    "fit = a*m**a/bins**(a+1)\n",
    "plt.plot(bins, max(count)*fit/max(fit),linewidth=2, color='b')\n",
    "plt.style.use(\"ggplot\")\n",
    "plt.show()\n"
   ]
  },
  {
   "cell_type": "markdown",
   "metadata": {},
   "source": [
    "<cr>"
   ]
  },
  {
   "cell_type": "markdown",
   "metadata": {},
   "source": [
    "### 2. Explain the use of the “Simple random data” and “Permutations” functions. "
   ]
  },
  {
   "cell_type": "markdown",
   "metadata": {},
   "source": [
    "### 2.1 Simple random data functions"
   ]
  },
  {
   "cell_type": "markdown",
   "metadata": {},
   "source": [
    "#### 2.1.1 numpy.random.randint\n",
    "numpy.random.randint(low, high=None, size=None).\n",
    "Return random integers from low (inclusive) to high (exclusive).Return random integers from the “discrete uniform” distribution of the specified dtype in the “half-open” interval [low, high). If high is None (the default), then results are from [0, low).\n",
    "https://numpy.org/devdocs/reference/random/generated/numpy.random.randint.html"
   ]
  },
  {
   "cell_type": "code",
   "execution_count": 7,
   "metadata": {
    "scrolled": false
   },
   "outputs": [
    {
     "data": {
      "text/plain": [
       "array([0, 0, 0, 1, 1, 1, 0, 0, 1, 1])"
      ]
     },
     "execution_count": 7,
     "metadata": {},
     "output_type": "execute_result"
    }
   ],
   "source": [
    "import numpy as np\n",
    "# Generate an array of ten ints betwwen 0 and 2 exclusive......\n",
    "np.random.randint(2, size=10)\n"
   ]
  },
  {
   "cell_type": "code",
   "execution_count": 8,
   "metadata": {
    "scrolled": false
   },
   "outputs": [
    {
     "data": {
      "text/plain": [
       "array([0, 0, 0, 0, 0, 0, 0, 0, 0, 0])"
      ]
     },
     "execution_count": 8,
     "metadata": {},
     "output_type": "execute_result"
    }
   ],
   "source": [
    "# Generate an array of ten ints betwwen 0 and 1 exclusive......\n",
    "np.random.randint(1, size=10)\n"
   ]
  },
  {
   "cell_type": "code",
   "execution_count": null,
   "metadata": {
    "scrolled": false
   },
   "outputs": [],
   "source": [
    "# Generate a 2 x 4 array of ints between 0 and 4, inclusive:\n",
    "np.random.randint(5, size=(2, 4))"
   ]
  },
  {
   "cell_type": "code",
   "execution_count": 7,
   "metadata": {
    "scrolled": false
   },
   "outputs": [
    {
     "name": "stdout",
     "output_type": "stream",
     "text": [
      "4\n"
     ]
    }
   ],
   "source": [
    "import random\n",
    "print(np.random.randint(1, 5 + 1))"
   ]
  },
  {
   "cell_type": "code",
   "execution_count": null,
   "metadata": {
    "scrolled": false
   },
   "outputs": [],
   "source": [
    "# Roll two six sided dice 1000 times and sum the results:"
   ]
  },
  {
   "cell_type": "code",
   "execution_count": 8,
   "metadata": {
    "scrolled": false
   },
   "outputs": [],
   "source": [
    "import numpy as np\n",
    "\n",
    "d1 = np.random.randint(1, 6 + 1)\n",
    "d2 = np.random.randint(1, 6 + 1)"
   ]
  },
  {
   "cell_type": "code",
   "execution_count": 9,
   "metadata": {
    "scrolled": false
   },
   "outputs": [],
   "source": [
    "dsums = d1 + d2\n"
   ]
  },
  {
   "cell_type": "code",
   "execution_count": 10,
   "metadata": {
    "scrolled": false
   },
   "outputs": [
    {
     "data": {
      "text/plain": [
       "10"
      ]
     },
     "execution_count": 10,
     "metadata": {},
     "output_type": "execute_result"
    }
   ],
   "source": [
    "dsums"
   ]
  },
  {
   "cell_type": "code",
   "execution_count": null,
   "metadata": {
    "scrolled": false
   },
   "outputs": [],
   "source": [
    "# Display results as a histogram:"
   ]
  },
  {
   "cell_type": "code",
   "execution_count": 8,
   "metadata": {
    "scrolled": false
   },
   "outputs": [
    {
     "data": {
      "image/png": "[encoded data removed]",
      "text/plain": [
       "<Figure size 432x288 with 1 Axes>"
      ]
     },
     "metadata": {},
     "output_type": "display_data"
    }
   ],
   "source": [
    "import numpy as np\n",
    "import matplotlib.pyplot as plt\n",
    "import seaborn as sns\n",
    "d1 = np.random.randint(1, 6 + 1)\n",
    "d2 = np.random.randint(1, 6 + 1)\n",
    "dsums = d1 + d2\n",
    "count, bins, ignored = plt.hist(dsums, 10)\n",
    "plt.style.use(\"ggplot\")\n",
    "plt.show()\n"
   ]
  },
  {
   "cell_type": "code",
   "execution_count": 6,
   "metadata": {},
   "outputs": [],
   "source": [
    "plt.show()"
   ]
  },
  {
   "cell_type": "markdown",
   "metadata": {
    "scrolled": false
   },
   "source": [
    "<cr>"
   ]
  },
  {
   "cell_type": "markdown",
   "metadata": {},
   "source": [
    "#### 2.1.2 random_sample([size]) \n",
    "#### numpy.random.random_sample(size=None)\n",
    "\n",
    "Return random floats in the half-open interval [0.0, 1.0).\n",
    "\n",
    "Results are from the “continuous uniform” distribution over the stated interval.\n",
    "https://numpy.org/devdocs/reference/random/generated/numpy.random.random_sample.html\n"
   ]
  },
  {
   "cell_type": "code",
   "execution_count": 18,
   "metadata": {
    "scrolled": false
   },
   "outputs": [
    {
     "data": {
      "text/plain": [
       "0.6787705921267129"
      ]
     },
     "execution_count": 18,
     "metadata": {},
     "output_type": "execute_result"
    }
   ],
   "source": [
    "np.random.random_sample()"
   ]
  },
  {
   "cell_type": "code",
   "execution_count": 19,
   "metadata": {
    "scrolled": false
   },
   "outputs": [
    {
     "data": {
      "text/plain": [
       "float"
      ]
     },
     "execution_count": 19,
     "metadata": {},
     "output_type": "execute_result"
    }
   ],
   "source": [
    "type(np.random.random_sample())"
   ]
  },
  {
   "cell_type": "code",
   "execution_count": 20,
   "metadata": {
    "scrolled": false
   },
   "outputs": [
    {
     "data": {
      "text/plain": [
       "array([0.93272249, 0.11381785, 0.51281372, 0.28999551, 0.30264302])"
      ]
     },
     "execution_count": 20,
     "metadata": {},
     "output_type": "execute_result"
    }
   ],
   "source": [
    "np.random.random_sample((5,))"
   ]
  },
  {
   "cell_type": "code",
   "execution_count": 21,
   "metadata": {
    "scrolled": false
   },
   "outputs": [
    {
     "data": {
      "text/plain": [
       "array([[-1.86469836, -3.18070992],\n",
       "       [-1.51473839, -3.67724367],\n",
       "       [-0.99776977, -4.32372381]])"
      ]
     },
     "execution_count": 21,
     "metadata": {},
     "output_type": "execute_result"
    }
   ],
   "source": [
    "# Three-by-two array of random numbers from [-5, 0):\n",
    "5 * np.random.random_sample((3, 2)) - 5"
   ]
  },
  {
   "cell_type": "markdown",
   "metadata": {},
   "source": [
    "<cr>"
   ]
  },
  {
   "cell_type": "markdown",
   "metadata": {},
   "source": [
    "#### 2.1.3 numpy.random.bytes ()\n",
    "#### random.bytes(length)\n",
    "Return random bytes.\n",
    "https://numpy.org/devdocs/reference/random/generated/numpy.random.bytes.html"
   ]
  },
  {
   "cell_type": "code",
   "execution_count": 22,
   "metadata": {
    "scrolled": false
   },
   "outputs": [
    {
     "data": {
      "text/plain": [
       "b'm:%\\xa6\\x89\\x8aE\\xbdl\\xb5'"
      ]
     },
     "execution_count": 22,
     "metadata": {},
     "output_type": "execute_result"
    }
   ],
   "source": [
    "# More examples needed for this function.\n",
    "np.random.bytes(10)"
   ]
  },
  {
   "cell_type": "code",
   "execution_count": null,
   "metadata": {
    "scrolled": false
   },
   "outputs": [],
   "source": []
  },
  {
   "cell_type": "code",
   "execution_count": null,
   "metadata": {
    "scrolled": false
   },
   "outputs": [],
   "source": []
  },
  {
   "cell_type": "markdown",
   "metadata": {},
   "source": [
    "#### 2.1.4 numpy.random.choice ()\n",
    "##### random.choice(a, size=None, replace=True, p=None)\n",
    "Generates a random sample from a given 1-D array\n",
    "https://numpy.org/devdocs/reference/random/generated/numpy.random.choice.html"
   ]
  },
  {
   "cell_type": "code",
   "execution_count": 23,
   "metadata": {
    "scrolled": false
   },
   "outputs": [
    {
     "data": {
      "text/plain": [
       "array([4, 3, 2])"
      ]
     },
     "execution_count": 23,
     "metadata": {},
     "output_type": "execute_result"
    }
   ],
   "source": [
    "# Generate a uniform random sample from np.arange(5) of size 3:\n",
    "np.random.choice(5, 3)"
   ]
  },
  {
   "cell_type": "code",
   "execution_count": 24,
   "metadata": {
    "scrolled": false
   },
   "outputs": [
    {
     "data": {
      "text/plain": [
       "array([3, 3, 3], dtype=int64)"
      ]
     },
     "execution_count": 24,
     "metadata": {},
     "output_type": "execute_result"
    }
   ],
   "source": [
    "#This is equivalent to np.random.randint(0,5,3)\n",
    "# Generate a non-uniform random sample from np.arange(5) of size 3:\n",
    "np.random.choice(5, 3, p=[0.1, 0, 0.3, 0.6, 0])"
   ]
  },
  {
   "cell_type": "code",
   "execution_count": 25,
   "metadata": {
    "scrolled": false
   },
   "outputs": [
    {
     "data": {
      "text/plain": [
       "array([2, 4, 3])"
      ]
     },
     "execution_count": 25,
     "metadata": {},
     "output_type": "execute_result"
    }
   ],
   "source": [
    "# Generate a uniform random sample from np.arange(5) of size 3 without replacement:\n",
    "np.random.choice(5, 3, replace=False)"
   ]
  },
  {
   "cell_type": "code",
   "execution_count": 26,
   "metadata": {
    "scrolled": false
   },
   "outputs": [
    {
     "data": {
      "text/plain": [
       "array([3, 0, 2])"
      ]
     },
     "execution_count": 26,
     "metadata": {},
     "output_type": "execute_result"
    }
   ],
   "source": [
    "# This is equivalent to np.random.permutation(np.arange(5))[:3]\n",
    "# Generate a non-uniform random sample from np.arange(5) of size 3 without replacement:\n",
    "np.random.choice(5, 3, replace=False, p=[0.1, 0, 0.3, 0.6, 0])"
   ]
  },
  {
   "cell_type": "code",
   "execution_count": 27,
   "metadata": {
    "scrolled": false
   },
   "outputs": [
    {
     "data": {
      "text/plain": [
       "array(['pooh', 'pooh', 'Christopher', 'pooh', 'pooh'], dtype='<U11')"
      ]
     },
     "execution_count": 27,
     "metadata": {},
     "output_type": "execute_result"
    }
   ],
   "source": [
    "# Any of the above can be repeated with an arbitrary array-like instead of just integers. For instance:\n",
    "aa_milne_arr = ['pooh', 'rabbit', 'piglet', 'Christopher']\n",
    "np.random.choice(aa_milne_arr, 5, p=[0.5, 0.1, 0.1, 0.3])\n"
   ]
  },
  {
   "cell_type": "markdown",
   "metadata": {
    "scrolled": false
   },
   "source": [
    "<cr>"
   ]
  },
  {
   "cell_type": "markdown",
   "metadata": {},
   "source": [
    "### 2.2 Permutations functions"
   ]
  },
  {
   "cell_type": "markdown",
   "metadata": {},
   "source": [
    "#### 2.2.1numpy.random.shuffle\n",
    "\n",
    "#### numpy.random.shuffle(x)\n",
    "Modify a sequence in-place by shuffling its contents.\n",
    "This function only shuffles the array along the first axis of a multi-dimensional array. The order of sub-arrays is changed but their contents remains the same.\n",
    "https://numpy.org/devdocs/reference/random/generated/numpy.random.shuffle.html"
   ]
  },
  {
   "cell_type": "code",
   "execution_count": 28,
   "metadata": {
    "scrolled": false
   },
   "outputs": [],
   "source": [
    "arr = np.arange(10)\n",
    "np.random.shuffle(arr)\n"
   ]
  },
  {
   "cell_type": "code",
   "execution_count": 29,
   "metadata": {
    "scrolled": false
   },
   "outputs": [
    {
     "data": {
      "text/plain": [
       "array([3, 7, 9, 6, 8, 1, 0, 5, 2, 4])"
      ]
     },
     "execution_count": 29,
     "metadata": {},
     "output_type": "execute_result"
    }
   ],
   "source": [
    "arr"
   ]
  },
  {
   "cell_type": "code",
   "execution_count": 30,
   "metadata": {
    "scrolled": false
   },
   "outputs": [],
   "source": [
    "# Multi-dimensional arrays are only shuffled along the first axis:\n",
    "arr = np.arange(9).reshape((3, 3))\n",
    "np.random.shuffle(arr)\n"
   ]
  },
  {
   "cell_type": "code",
   "execution_count": 31,
   "metadata": {
    "scrolled": false
   },
   "outputs": [
    {
     "data": {
      "text/plain": [
       "array([[6, 7, 8],\n",
       "       [0, 1, 2],\n",
       "       [3, 4, 5]])"
      ]
     },
     "execution_count": 31,
     "metadata": {},
     "output_type": "execute_result"
    }
   ],
   "source": [
    "arr"
   ]
  },
  {
   "cell_type": "markdown",
   "metadata": {},
   "source": [
    "#### 2.2.2 numpy.random.permutation\n",
    "\n",
    "#### numpy.random.permutation(x)\n",
    "\n",
    "Randomly permute a sequence, or return a permuted range.\n",
    "If x is a multi-dimensional array, it is only shuffled along its first index.\n",
    "https://numpy.org/devdocs/reference/random/generated/numpy.random.permutation.html"
   ]
  },
  {
   "cell_type": "code",
   "execution_count": 32,
   "metadata": {
    "scrolled": false
   },
   "outputs": [
    {
     "data": {
      "text/plain": [
       "array([8, 6, 4, 0, 7, 9, 1, 5, 3, 2])"
      ]
     },
     "execution_count": 32,
     "metadata": {},
     "output_type": "execute_result"
    }
   ],
   "source": [
    "np.random.permutation(10)"
   ]
  },
  {
   "cell_type": "code",
   "execution_count": 33,
   "metadata": {
    "scrolled": false
   },
   "outputs": [
    {
     "data": {
      "text/plain": [
       "array([ 4, 15,  9, 12,  1])"
      ]
     },
     "execution_count": 33,
     "metadata": {},
     "output_type": "execute_result"
    }
   ],
   "source": [
    "np.random.permutation([1, 4, 9, 12, 15])"
   ]
  },
  {
   "cell_type": "code",
   "execution_count": 34,
   "metadata": {
    "scrolled": false
   },
   "outputs": [
    {
     "data": {
      "text/plain": [
       "array([[3, 4, 5],\n",
       "       [6, 7, 8],\n",
       "       [0, 1, 2]])"
      ]
     },
     "execution_count": 34,
     "metadata": {},
     "output_type": "execute_result"
    }
   ],
   "source": [
    "arr = np.arange(9).reshape((3, 3))\n",
    "np.random.permutation(arr) "
   ]
  },
  {
   "cell_type": "markdown",
   "metadata": {
    "scrolled": false
   },
   "source": [
    "<cr>"
   ]
  },
  {
   "cell_type": "markdown",
   "metadata": {},
   "source": [
    "### 3. Explain the use and purpose of at least five “Distributions” functions. "
   ]
  },
  {
   "cell_type": "markdown",
   "metadata": {},
   "source": [
    "### 3.1 numpy.random.normal function\n",
    "random.normal(loc=0.0, scale=1.0, size=None)\n",
    "Draw random samples from a normal (Gaussian) distribution.\n",
    "https://numpy.org/devdocs/reference/random/generated/numpy.random.normal.html\n"
   ]
  },
  {
   "cell_type": "code",
   "execution_count": 3,
   "metadata": {},
   "outputs": [],
   "source": [
    "# Draw samples from the distribution:\n",
    "import numpy as np\n",
    "mu, sigma = 0, 0.1 # mean and standard deviation.\n",
    "s = np.random.normal(mu, sigma, 1000)\n"
   ]
  },
  {
   "cell_type": "code",
   "execution_count": 4,
   "metadata": {},
   "outputs": [
    {
     "data": {
      "text/plain": [
       "array([ 7.91643587e-02, -1.77378689e-01, -1.22455971e-01, -2.59460516e-01,\n",
       "        3.84247147e-02,  5.55447377e-02,  1.95670231e-02,  4.38651395e-02,\n",
       "       -1.70117080e-01,  8.44223149e-03, -1.06726305e-01,  2.80466781e-02,\n",
       "       -5.97985572e-02, -1.50594565e-01,  1.55305261e-03, -7.33333008e-02,\n",
       "       -7.93860288e-03, -4.90580767e-02, -6.50484182e-02,  6.10991015e-02,\n",
       "        1.09698938e-01, -1.21782964e-02,  2.97562206e-02, -2.81464800e-02,\n",
       "        7.42498425e-02,  6.16973893e-02,  1.11690889e-01,  4.50911806e-03,\n",
       "        7.07840334e-03,  2.02770036e-02, -5.58031212e-02,  4.21829195e-02,\n",
       "        3.33997535e-02, -1.05580880e-01, -5.58174025e-02, -1.91513806e-01,\n",
       "       -4.91872015e-03, -4.45847558e-02, -3.75509633e-03, -3.97858575e-03,\n",
       "        1.38652533e-02, -1.09989997e-01,  2.21896047e-02,  2.35768976e-01,\n",
       "        2.47445285e-02, -1.02708641e-01,  6.06834146e-02, -2.87461377e-02,\n",
       "       -2.51812621e-02, -2.03077995e-03,  3.57597071e-02,  7.19277521e-02,\n",
       "        4.95205328e-02,  2.04991181e-02, -7.23671115e-02, -4.88939753e-03,\n",
       "       -1.56309428e-02,  4.84182589e-02,  7.95047388e-02,  1.06784824e-01,\n",
       "       -4.63017091e-02, -8.36217175e-02,  4.67213680e-02,  8.55240302e-03,\n",
       "        3.66615828e-02, -5.87342108e-02,  3.05579405e-03, -1.29405479e-01,\n",
       "        3.53101275e-04, -1.31688841e-01, -4.18951484e-04,  1.34493107e-01,\n",
       "        1.19901308e-02, -4.58855713e-02, -3.13772352e-02,  4.64158483e-02,\n",
       "       -1.17208646e-01,  9.06377127e-02,  3.52614172e-02, -3.72295876e-02,\n",
       "       -3.06885607e-02, -1.72729338e-01, -4.51878841e-02,  3.25016905e-03,\n",
       "       -3.66731942e-02,  1.44694588e-01,  1.14025282e-01,  1.33473509e-01,\n",
       "       -8.27474802e-03, -1.80776035e-02, -4.46927542e-02,  1.43161531e-01,\n",
       "        1.63141449e-01,  5.84510615e-03,  6.28974624e-02,  1.02315571e-01,\n",
       "       -2.52291165e-01,  1.20369404e-01, -4.63229713e-02, -1.50315543e-01,\n",
       "        7.87202709e-02, -4.37734582e-02,  5.53709750e-02, -1.61640083e-03,\n",
       "        9.66688376e-02, -1.36331535e-01,  2.21283318e-01,  1.04442551e-01,\n",
       "       -7.30383550e-02, -6.75044575e-02,  4.23285335e-02,  3.32704268e-02,\n",
       "        8.74887470e-02, -7.17723864e-02, -6.34364306e-02,  8.82979936e-02,\n",
       "       -1.18661681e-04,  6.63794132e-02, -2.52986669e-01, -5.57209798e-02,\n",
       "       -2.41236702e-02,  5.65550917e-03, -9.44405379e-02,  5.53550000e-02,\n",
       "       -3.55507993e-02,  1.45972385e-01, -1.47489635e-01,  1.16336639e-01,\n",
       "       -1.22609406e-01, -9.35738368e-02, -2.73443439e-02, -2.33307958e-02,\n",
       "        1.38458688e-01, -4.23580311e-02, -1.72948337e-01,  1.50396699e-02,\n",
       "        1.93230618e-02, -1.30921605e-01,  4.75980361e-02, -5.13479118e-02,\n",
       "        4.94360700e-02,  4.32904732e-02,  6.60384388e-02, -3.59212827e-02,\n",
       "        1.60670746e-01,  7.15225818e-02,  4.71680607e-02, -3.05069226e-02,\n",
       "        1.51637492e-02,  1.21640438e-01, -6.55172699e-02, -4.46784728e-02,\n",
       "        1.15040267e-03, -8.29413754e-02,  7.15293365e-03, -2.69705088e-01,\n",
       "       -2.66113814e-02, -5.77513735e-03,  1.17786916e-02, -1.54450592e-01,\n",
       "       -1.13724807e-01,  6.09274691e-02,  6.82784105e-02, -1.56792478e-03,\n",
       "       -1.26700343e-01, -1.96187224e-01,  4.51518817e-03,  1.04116410e-01,\n",
       "       -4.45262497e-03, -8.38287466e-02,  4.19556929e-02,  7.13898320e-02,\n",
       "        1.43916383e-01,  7.23797583e-02,  1.14842483e-02, -5.11443934e-02,\n",
       "        1.61141616e-01, -1.53936970e-01, -1.16472324e-01,  2.66768092e-02,\n",
       "        4.43054547e-02,  1.49666343e-01,  6.42817413e-02,  4.47294101e-02,\n",
       "       -9.69590037e-02,  1.24928388e-01, -5.09375948e-02,  1.45665355e-02,\n",
       "        6.25059161e-02, -3.30904966e-02,  5.16457365e-02, -1.02078976e-01,\n",
       "       -1.91858625e-01,  1.91091204e-01,  1.82871001e-01,  2.38117586e-02,\n",
       "       -2.92683114e-01, -1.93877980e-01, -1.31318529e-01, -5.70805360e-03,\n",
       "        3.31179219e-02, -2.69594860e-03, -9.87159035e-02, -2.49811614e-01,\n",
       "       -2.36988533e-02,  2.71957542e-02,  6.73442282e-02, -4.36641104e-02,\n",
       "        1.21775857e-01,  7.40832847e-02,  8.39400589e-02,  6.03286264e-02,\n",
       "       -2.36215543e-02,  3.07647964e-02, -9.66509791e-02, -1.03943281e-02,\n",
       "       -1.96240779e-01,  1.21628987e-01, -5.18766577e-02, -1.50946584e-01,\n",
       "       -5.76601849e-02,  1.12074015e-02, -1.91184724e-02,  9.99883818e-02,\n",
       "       -2.10895083e-02, -1.36776592e-01, -8.16357174e-02,  2.47575037e-02,\n",
       "        6.19384447e-03, -7.27781865e-02, -2.94170433e-02,  4.22107829e-03,\n",
       "        1.79810570e-02, -1.77612201e-01, -5.28295640e-02,  5.93267157e-02,\n",
       "        2.16643722e-02,  9.45917677e-02, -6.37800126e-02, -1.10773201e-02,\n",
       "        4.97741409e-02, -3.77746411e-02, -1.01593834e-01, -6.94547045e-02,\n",
       "       -1.94664624e-01,  7.35749049e-02, -2.77366956e-02,  1.84155845e-01,\n",
       "        5.68378832e-02, -1.09872573e-01, -8.33928445e-03, -8.01211892e-02,\n",
       "        1.59472824e-01, -2.25897313e-03,  1.41457263e-01,  2.12944673e-01,\n",
       "       -7.64280563e-02,  1.71492044e-02,  1.44407792e-02, -4.60444972e-02,\n",
       "        1.38219827e-02,  6.71729273e-02, -4.76949447e-02, -1.59025428e-01,\n",
       "       -9.37804827e-02,  6.93500738e-02, -9.71587565e-03,  7.58715849e-02,\n",
       "       -8.55878160e-02,  1.10195481e-01,  8.26307054e-02, -7.58539209e-03,\n",
       "        1.80988725e-01,  1.69578262e-01,  1.23939598e-01,  9.39723454e-03,\n",
       "       -4.05339006e-02,  4.27507481e-02, -9.48338205e-02,  9.40381489e-02,\n",
       "        8.19804406e-02, -1.63883776e-02, -6.66537393e-02, -7.21984380e-02,\n",
       "       -8.94576943e-02, -4.22203921e-02,  7.56176256e-03,  1.16488457e-01,\n",
       "       -4.60470786e-02,  1.36648023e-03, -1.10612570e-02, -4.78638350e-02,\n",
       "        1.74382461e-03, -3.33604796e-02,  2.06420179e-01,  6.60362414e-02,\n",
       "       -4.92974507e-02,  1.78625261e-01, -1.56032996e-01,  1.77314459e-01,\n",
       "       -1.35832897e-01,  2.59380689e-01, -6.67510271e-02,  4.79342670e-02,\n",
       "       -1.77522583e-03,  4.81635303e-02, -3.04892513e-02, -8.09423408e-02,\n",
       "        5.07886827e-03, -2.06729619e-01, -6.94130486e-02,  1.49664540e-03,\n",
       "       -3.32690691e-02, -7.43061474e-02,  3.96302165e-03, -6.08114354e-02,\n",
       "       -1.18929184e-01,  1.29061743e-01,  9.12031932e-02,  1.06280583e-01,\n",
       "       -6.12662901e-02,  8.48310737e-03,  1.89666441e-01,  3.55001179e-02,\n",
       "       -3.00888936e-02,  9.91332463e-02,  2.45657194e-01, -5.01228000e-02,\n",
       "        1.15658001e-01, -1.60148841e-01,  6.76895609e-02, -2.21242356e-02,\n",
       "        1.04868751e-01, -6.68744948e-02,  1.44223958e-01, -1.19054334e-01,\n",
       "        2.90639354e-01, -6.65144318e-02, -1.15443482e-01, -5.20193431e-03,\n",
       "       -3.47217748e-02, -1.11621784e-01, -3.69719513e-02, -5.14035186e-02,\n",
       "        1.58128139e-01,  1.97931657e-01, -6.56649288e-02, -8.38529464e-02,\n",
       "        1.63184759e-01,  2.81052277e-02,  1.77255018e-01,  5.01267907e-02,\n",
       "       -7.63797562e-02, -1.92336843e-02, -4.22635628e-03,  4.75252321e-02,\n",
       "        9.16818005e-02, -2.76022055e-02, -1.46044772e-01,  1.51040688e-01,\n",
       "        9.42548244e-02, -3.39572273e-02, -2.16850069e-02, -2.11999186e-02,\n",
       "       -4.90214233e-02,  3.11608427e-01,  2.11771416e-01,  1.30471914e-01,\n",
       "       -4.47242877e-02, -1.22569129e-01,  7.91297456e-02, -1.14664946e-02,\n",
       "       -1.66561138e-01,  7.02010807e-02, -4.00150043e-02,  5.85603388e-02,\n",
       "        6.72634440e-03,  1.11920455e-02,  9.88809407e-02,  2.29746339e-02,\n",
       "       -1.48828948e-02, -7.30760091e-02,  6.72443830e-02,  1.24874535e-03,\n",
       "        6.63097859e-02,  2.38205586e-02,  1.42615409e-03, -8.09898014e-02,\n",
       "       -1.76653137e-01,  1.05940767e-02,  1.44010889e-01, -7.88868324e-02,\n",
       "       -3.01635548e-02, -1.13122411e-01, -2.62677204e-02, -4.57011938e-02,\n",
       "        2.58399471e-02,  8.15079314e-02,  6.21558342e-02, -4.89491623e-02,\n",
       "       -1.03176552e-01, -1.43091445e-02, -5.09814850e-02, -2.84347267e-02,\n",
       "        7.33076676e-02, -6.65613964e-02, -4.67693524e-02, -5.11397340e-03,\n",
       "        1.68121647e-01, -9.29706245e-03, -3.24714416e-02, -7.37544729e-02,\n",
       "        1.52595370e-02, -1.02540851e-01, -5.18348232e-03,  8.50701249e-02,\n",
       "        2.07920293e-01, -1.81467902e-01, -1.22100726e-01,  1.08737498e-02,\n",
       "       -7.36297990e-02,  2.51563944e-02,  2.78625530e-02, -2.46339543e-02,\n",
       "        1.55764431e-01,  1.12426142e-01, -1.18952948e-01,  1.08198814e-02,\n",
       "        8.34284611e-02, -1.12852904e-01,  7.65568541e-02,  1.23542905e-01,\n",
       "       -1.23703749e-01, -1.47080563e-01,  3.18584023e-02, -3.44570455e-02,\n",
       "       -6.57732933e-03,  1.19814308e-02, -2.68948877e-01,  7.20071812e-02,\n",
       "        4.36154955e-02,  6.74871878e-02, -7.99490944e-03,  2.28126080e-03,\n",
       "       -3.36613028e-02,  3.97238699e-02,  2.47633102e-02,  9.94772045e-03,\n",
       "       -9.01008684e-02, -1.27873709e-01, -3.72117052e-02, -1.89764038e-03,\n",
       "        2.32177436e-01, -5.86679177e-02, -2.00725276e-01, -5.88082901e-02,\n",
       "        8.26344408e-02,  5.36739322e-02,  1.12843168e-01, -4.63773984e-02,\n",
       "       -8.05874345e-02, -2.08562085e-02,  1.24062645e-01,  6.76308399e-02,\n",
       "       -5.19062601e-02,  3.26673688e-06,  4.49449506e-02,  3.84158212e-02,\n",
       "        4.76825522e-02,  1.13716736e-01,  1.83016616e-01,  6.37387439e-02,\n",
       "       -2.61287615e-02, -7.73673389e-02,  5.25522760e-02,  1.10279635e-01,\n",
       "       -7.17795622e-02,  7.21641709e-02, -8.68812433e-02,  6.58189293e-03,\n",
       "        2.31791215e-03,  6.36268123e-02,  4.35938683e-02,  1.26504791e-02,\n",
       "        1.80445655e-01, -5.22139048e-02,  1.24843654e-01,  3.57203388e-02,\n",
       "       -1.77506963e-02, -9.28369149e-02, -8.30113075e-02,  1.84467977e-01,\n",
       "       -6.76328638e-03,  2.39389517e-02, -5.95123021e-02, -5.14122520e-02,\n",
       "       -1.57778822e-01, -1.57173229e-01,  2.82709581e-02, -4.09695625e-02,\n",
       "       -1.15401664e-01, -1.90717383e-01,  8.50132104e-02,  2.04355950e-02,\n",
       "       -2.02508979e-02,  6.27159561e-03,  5.21573642e-02, -1.37956336e-01,\n",
       "       -1.80975228e-02, -5.00321508e-02, -1.48324891e-01, -9.66051197e-02,\n",
       "       -5.77326688e-02, -6.82209091e-02, -8.95827010e-02,  7.77157741e-02,\n",
       "        6.84230185e-02, -4.15620304e-02, -1.28293209e-01, -8.72121598e-02,\n",
       "        7.08144743e-02,  9.17194178e-02,  1.22875488e-01,  8.17229618e-02,\n",
       "       -7.56940281e-03,  6.41763829e-02,  6.24733433e-02,  1.28457945e-01,\n",
       "       -1.25056431e-01,  1.92197014e-01, -1.80602889e-02,  5.53851115e-02,\n",
       "       -1.34188964e-01,  1.30714592e-01,  2.19360291e-01, -1.24102845e-01,\n",
       "       -8.71143023e-02,  7.11992340e-02, -1.36140613e-01, -2.09050381e-01,\n",
       "        4.66342251e-02, -1.27411345e-02, -5.77475157e-03,  1.66838941e-01,\n",
       "        1.06098238e-01,  4.05870736e-02,  2.19463504e-02, -6.65733049e-02,\n",
       "        5.98202485e-02, -5.72186290e-02,  1.55431948e-01, -1.63074720e-01,\n",
       "        7.69845307e-02, -1.39805402e-01,  2.60045720e-02,  4.73772060e-02,\n",
       "        1.50350412e-01, -2.61705722e-02,  2.21920515e-02, -8.69613477e-02,\n",
       "       -1.21439955e-01, -2.61330318e-03, -1.51728872e-01,  1.39636611e-01,\n",
       "        3.54672488e-03, -9.33126811e-02,  6.81386970e-02, -5.91111181e-02,\n",
       "       -2.80098512e-02, -1.19417793e-01,  4.83931169e-02,  9.52700097e-02,\n",
       "        1.16994480e-01,  2.87108995e-03,  8.17071809e-02, -1.17322023e-01,\n",
       "       -4.86473349e-02,  6.74326784e-02, -1.34594970e-01,  2.56252630e-03,\n",
       "        8.14100185e-02,  6.96482245e-02, -5.94221919e-02,  1.28175733e-02,\n",
       "       -7.44875788e-02,  1.03920441e-02, -1.90507900e-02,  6.81113537e-02,\n",
       "       -1.19710654e-01,  3.85672877e-02, -3.27183262e-03, -6.57721568e-02,\n",
       "        4.67886894e-02, -3.35344266e-02,  1.04650509e-01, -1.47171623e-01,\n",
       "       -1.41852121e-02,  9.05375541e-03,  1.37908643e-01,  1.05240233e-01,\n",
       "        1.35657182e-01,  7.17977422e-02,  2.47319143e-02, -3.17580768e-02,\n",
       "        2.28055953e-04,  1.21502469e-01, -7.30381263e-02,  3.47524099e-02,\n",
       "        1.62984923e-01,  1.48904340e-01, -1.00830436e-01,  2.56964593e-02,\n",
       "        5.77457262e-02,  7.18879495e-02, -1.16504288e-01,  6.83294724e-02,\n",
       "       -3.42515061e-02, -4.60381975e-02, -2.13306041e-02,  1.08442781e-01,\n",
       "        8.10012972e-02,  5.13529866e-02, -1.06159702e-01, -4.63563684e-03,\n",
       "       -2.39498785e-02,  1.41800771e-01, -1.52437488e-01,  1.66574615e-01,\n",
       "        1.53627283e-01,  9.61162184e-02, -1.22496906e-03, -4.70996584e-02,\n",
       "       -5.78174056e-02, -1.45865758e-02, -1.54364169e-01, -5.70902120e-02,\n",
       "       -5.07570702e-02, -2.77412648e-02, -1.18108206e-01, -1.70618377e-01,\n",
       "       -3.54285815e-02,  2.02398318e-02, -2.46215689e-02, -5.47759008e-02,\n",
       "       -6.62785758e-02,  1.30787812e-01,  1.24494760e-01,  4.28453464e-02,\n",
       "        5.80430213e-02,  2.88794273e-02, -3.50902693e-02, -5.44016964e-03,\n",
       "       -6.60636667e-02, -2.19120734e-01, -1.05820926e-01,  1.19135238e-01,\n",
       "       -2.12932776e-02, -6.63648552e-02, -5.26800423e-02,  1.33666452e-01,\n",
       "       -7.52275759e-02,  2.07039746e-02, -1.30606991e-01, -1.43870467e-01,\n",
       "        5.10588472e-02,  2.34295006e-01, -9.17270559e-02, -3.74194707e-02,\n",
       "       -7.12472697e-02, -5.94190021e-02,  2.02711415e-02,  5.79419742e-02,\n",
       "        8.03177887e-02, -3.22941781e-02,  8.29314890e-02,  3.31060835e-02,\n",
       "        1.02010231e-02, -3.69332546e-02,  1.68314421e-01, -4.63591971e-02,\n",
       "       -7.19149609e-02, -7.96283214e-02, -3.99371636e-02, -2.06691057e-01,\n",
       "        1.56707312e-02,  1.37004134e-01, -2.00890408e-02, -5.98730471e-02,\n",
       "       -1.70507432e-02, -7.57563721e-02, -2.06714116e-02,  1.77810439e-02,\n",
       "        5.04532336e-02,  1.91231042e-02,  1.21174407e-01, -6.05107162e-02,\n",
       "       -5.02438404e-03,  6.86964437e-02,  1.05508124e-01, -1.00447657e-02,\n",
       "        5.47699340e-02,  3.07120938e-01, -1.21728836e-02, -4.35867856e-02,\n",
       "        2.72315777e-02, -5.97916564e-02,  2.22047266e-01,  3.33267065e-02,\n",
       "       -7.25302208e-03,  7.40281252e-02, -5.72359138e-02,  4.20319047e-02,\n",
       "       -4.48168841e-02, -2.83877975e-02,  4.66658718e-05, -1.02225491e-01,\n",
       "       -6.34635493e-02,  9.07745360e-02, -3.03987651e-04,  2.76585722e-02,\n",
       "        8.90087205e-02, -4.58329789e-02,  1.11787503e-01, -5.06261910e-02,\n",
       "       -8.16469517e-02,  1.28294101e-01,  1.35647094e-01, -1.42683037e-01,\n",
       "        4.89637261e-02,  8.65423821e-03, -1.07097801e-01,  3.20163685e-02,\n",
       "        6.60463628e-02, -6.92062678e-03,  7.58893129e-02,  5.77060236e-02,\n",
       "       -1.59109721e-01, -4.37730932e-02,  2.17598730e-01,  1.09819820e-01,\n",
       "       -1.08383766e-01,  3.56154481e-02, -3.70502414e-02, -7.43350868e-03,\n",
       "       -2.97015332e-02,  9.65725080e-03, -7.33012850e-02,  1.48252466e-02,\n",
       "       -3.60929629e-02, -7.56347691e-02, -7.73491882e-02, -3.90862021e-03,\n",
       "       -2.15513858e-01, -4.32406225e-02, -6.27008877e-02,  2.16381629e-02,\n",
       "       -1.95079005e-02,  5.00358795e-03, -3.36629246e-02, -6.30906123e-02,\n",
       "        8.46329811e-02,  8.22675560e-02,  6.82198626e-02, -7.17604198e-03,\n",
       "        5.59709015e-02,  2.45850829e-01, -1.20412283e-01,  1.46581914e-02,\n",
       "       -4.00689013e-02,  8.55371430e-03,  6.23056656e-02,  5.10790056e-02,\n",
       "        1.32255832e-01,  7.28230917e-02, -7.98528766e-02, -1.80875082e-01,\n",
       "       -3.64329426e-02,  1.61811129e-02, -1.76661036e-01,  1.75482747e-01,\n",
       "        3.65042645e-02, -3.58729878e-03, -1.07760978e-01,  1.23397491e-01,\n",
       "       -9.42049854e-02,  1.93553340e-01,  1.40491513e-01, -9.03308552e-02,\n",
       "       -1.72468039e-01,  1.30894134e-01,  3.52512811e-02, -2.84965086e-02,\n",
       "        7.01119795e-02,  1.66259340e-01, -3.26461455e-02, -1.29942931e-01,\n",
       "        1.14277932e-01,  1.71598169e-01,  1.05258602e-01, -1.89005224e-01,\n",
       "        1.38821568e-02, -7.85508086e-02, -1.37767185e-02,  4.40564877e-02,\n",
       "       -1.02699504e-01,  3.49111339e-02, -1.61314899e-02, -8.63474705e-02,\n",
       "       -8.96785844e-02, -6.03623149e-02, -1.13470027e-02,  2.42563005e-02,\n",
       "        8.32003510e-02,  5.45907280e-02, -3.40396197e-04, -1.39061103e-02,\n",
       "        3.96702541e-02,  1.53834531e-02, -1.12215937e-01,  5.45355716e-02,\n",
       "        1.25811951e-01, -6.02470739e-02,  4.58484901e-02,  9.42179504e-02,\n",
       "        4.14187142e-02,  2.40786265e-01, -1.10591393e-02,  1.49495853e-01,\n",
       "       -3.45605783e-02,  4.40747827e-02,  9.71790975e-03,  7.86965865e-02,\n",
       "       -2.14463502e-01,  1.59619511e-02,  6.15590815e-02,  5.76490846e-02,\n",
       "       -1.15786394e-01, -3.18345487e-02,  4.70611496e-02,  2.48654419e-02,\n",
       "        3.29090522e-02,  9.65009922e-02, -1.81263536e-01, -6.26109563e-02,\n",
       "       -1.32455035e-02, -1.61406630e-02, -2.94442257e-02, -2.03850945e-01,\n",
       "       -1.09884311e-01, -9.58592689e-02,  2.82498473e-02,  8.58071337e-02,\n",
       "       -6.19577835e-02, -1.26930347e-02,  2.63788837e-02,  1.31668737e-01,\n",
       "        1.22674158e-01, -9.71204130e-05, -6.00788522e-02,  1.14933563e-01,\n",
       "        4.65670058e-02, -5.94504007e-02,  1.40490784e-01, -5.97496545e-02,\n",
       "        1.07751892e-03,  1.29101383e-01, -2.52920656e-01,  1.13109767e-01,\n",
       "       -9.06663735e-02,  4.86070446e-02, -7.99603038e-02, -5.30274766e-02,\n",
       "       -5.89168560e-02,  7.64552725e-02, -1.26112226e-01,  9.74316386e-02,\n",
       "        2.19306629e-04, -5.59152761e-02, -4.02259942e-02,  5.03048775e-02,\n",
       "        1.08116881e-01, -1.14211043e-02, -4.42024769e-02,  3.90912365e-02,\n",
       "       -3.03681435e-02,  7.05585761e-03, -1.31309164e-01,  1.06644783e-02,\n",
       "       -1.19790860e-01,  3.78321681e-02, -1.02075652e-01, -1.01250854e-01,\n",
       "        6.33730285e-02, -4.67385954e-02,  5.40692256e-02,  1.16497542e-02,\n",
       "       -1.84535153e-01,  7.49439711e-02,  4.04924657e-03, -1.30129310e-02,\n",
       "       -1.23172907e-01,  6.01600597e-02,  7.59468615e-02, -1.67581519e-01,\n",
       "       -1.08440691e-01, -5.43264921e-02,  8.60927813e-02,  2.25090045e-01,\n",
       "        4.09087968e-02, -1.65234893e-01,  7.16033304e-03,  1.27096273e-01,\n",
       "       -4.22422954e-02,  2.65677194e-02,  4.87874267e-02,  5.62005192e-02,\n",
       "        4.81339288e-02,  8.62918600e-03, -1.42379860e-01, -1.18593709e-04,\n",
       "        1.15239851e-02, -1.19043948e-01, -2.13437246e-02,  5.37938723e-02,\n",
       "       -1.01048785e-01,  1.21376172e-01,  1.78851273e-01, -4.37862340e-02,\n",
       "        4.08230209e-02,  3.74078538e-02,  2.46496792e-02, -9.80228096e-02,\n",
       "        9.09601673e-02,  9.25361700e-02,  9.60169567e-02,  9.54460491e-02,\n",
       "        1.85108255e-02, -1.42041316e-01, -3.56123733e-02, -5.19020741e-02,\n",
       "        6.83096888e-02, -5.02733191e-02, -1.71051292e-01,  8.56760193e-02,\n",
       "        9.62147474e-02,  2.56166128e-02, -5.51820054e-02, -3.54305822e-02,\n",
       "       -1.42757190e-01,  5.15264449e-02, -1.83849244e-01,  7.06034001e-03,\n",
       "        6.44106435e-02, -4.97429045e-02,  1.94887758e-02,  4.94868926e-02,\n",
       "       -1.90171269e-01, -2.33642154e-01,  1.52646606e-01, -5.03106148e-02,\n",
       "        3.03375434e-03, -3.10166491e-02, -7.67092242e-02,  1.38941683e-02,\n",
       "       -8.48539225e-02,  1.00233935e-01,  2.21533915e-01, -2.33696519e-02,\n",
       "       -1.54236064e-01,  6.41441638e-02, -1.91313816e-02, -1.35431735e-01,\n",
       "        9.77102448e-02,  1.21991446e-01, -8.12707139e-02,  1.09661938e-01,\n",
       "       -2.34279728e-02, -1.06306980e-01,  5.42274715e-02,  1.59177611e-01,\n",
       "        4.23492735e-02,  9.84252296e-02, -4.19593195e-03, -1.44029310e-01,\n",
       "       -6.22787422e-02,  2.86658008e-02, -8.27786174e-02, -1.07542674e-01,\n",
       "        1.03863293e-01,  1.61610487e-01,  2.25167511e-01,  3.34122824e-02,\n",
       "        1.52319347e-04, -3.77781528e-02,  5.39380687e-02, -4.30677884e-02,\n",
       "        8.04464888e-02,  8.76562942e-02, -7.78697283e-02,  9.06334675e-03])"
      ]
     },
     "execution_count": 4,
     "metadata": {},
     "output_type": "execute_result"
    }
   ],
   "source": [
    "s"
   ]
  },
  {
   "cell_type": "code",
   "execution_count": 39,
   "metadata": {
    "scrolled": false
   },
   "outputs": [
    {
     "data": {
      "text/plain": [
       "True"
      ]
     },
     "execution_count": 39,
     "metadata": {},
     "output_type": "execute_result"
    }
   ],
   "source": [
    "# Verify the mean and the variance:\n",
    "abs(mu - np.mean(s)) < 0.01"
   ]
  },
  {
   "cell_type": "code",
   "execution_count": 40,
   "metadata": {
    "scrolled": false
   },
   "outputs": [
    {
     "data": {
      "text/plain": [
       "True"
      ]
     },
     "execution_count": 40,
     "metadata": {},
     "output_type": "execute_result"
    }
   ],
   "source": [
    "abs(sigma - np.std(s, ddof=1)) < 0.01"
   ]
  },
  {
   "cell_type": "code",
   "execution_count": 25,
   "metadata": {
    "scrolled": false
   },
   "outputs": [
    {
     "data": {
      "image/png": "[encoded data removed]",
      "text/plain": [
       "<Figure size 432x288 with 1 Axes>"
      ]
     },
     "metadata": {},
     "output_type": "display_data"
    }
   ],
   "source": [
    "# https://www.javatpoint.com/numpy-random\n",
    "\n",
    "# Display the histogram of the samples, along with the probability density function: \n",
    "import numpy as np  \n",
    "import matplotlib.pyplot as plt \n",
    "import seaborn as sns\n",
    "mu, sigma = 0, 0.2 # mean and standard deviation  \n",
    "s1 = np.random.normal(mu, sigma, 1000)  \n",
    "abs(mu - np.mean(s1)) < 0.01  \n",
    "abs(sigma - np.std(s1, ddof=1)) < 0.01  \n",
    "count, bins, ignored = plt.hist(s1, 30, density=True)  \n",
    "plt.plot(bins, 1/(sigma * np.sqrt(2 * np.pi)) *np.exp( - (bins - mu)**2 / (2 * sigma**2) ), linewidth=2, color='g')  \n",
    "plt.style.use(\"ggplot\")\n",
    "plt.show()  \n"
   ]
  },
  {
   "cell_type": "code",
   "execution_count": null,
   "metadata": {
    "scrolled": false
   },
   "outputs": [],
   "source": []
  },
  {
   "cell_type": "markdown",
   "metadata": {},
   "source": [
    "### 3.2 numpy.random.uniform function\n",
    "#### numpy.random.uniform(low=0.0, high=1.0, size=None)\n",
    "Draw samples from the distribution:\n",
    "Samples are uniformly distributed over the half-open interval [low, high) (includes low, but excludes high). In other words, any value within the given interval is equally likely to be drawn by uniform.\n",
    "\n",
    "https://numpy.org/devdocs/reference/random/generated/numpy.random.uniform.html"
   ]
  },
  {
   "cell_type": "code",
   "execution_count": 5,
   "metadata": {
    "scrolled": false
   },
   "outputs": [],
   "source": [
    "s = np.random.uniform(-1,0,1000)\n"
   ]
  },
  {
   "cell_type": "code",
   "execution_count": 6,
   "metadata": {},
   "outputs": [
    {
     "data": {
      "text/plain": [
       "array([-2.11409071e-01, -3.94284556e-01, -5.11756153e-01, -3.26995357e-01,\n",
       "       -1.35835327e-03, -5.83656572e-02, -5.49587256e-01, -9.18542426e-01,\n",
       "       -6.09408824e-01, -3.88032378e-01, -6.92055172e-01, -8.65172080e-01,\n",
       "       -3.69098300e-02, -9.46482086e-01, -3.87455855e-01, -7.82851703e-01,\n",
       "       -7.28067524e-01, -5.11883586e-01, -8.59307135e-01, -1.22116366e-01,\n",
       "       -2.23776278e-01, -3.05953773e-01, -4.80060090e-01, -3.87067972e-01,\n",
       "       -6.46967323e-01, -7.90232989e-01, -7.49056240e-01, -3.43161940e-01,\n",
       "       -6.72952930e-01, -8.96124692e-01, -6.91954801e-01, -8.39786588e-01,\n",
       "       -9.92947170e-01, -6.66782911e-01, -6.40425747e-01, -9.88400616e-01,\n",
       "       -6.31016910e-02, -8.88228136e-01, -5.62159632e-01, -6.85615564e-01,\n",
       "       -1.61641559e-01, -1.47388710e-01, -7.54919715e-01, -7.39866345e-01,\n",
       "       -4.29549802e-02, -3.43546674e-01, -1.65342076e-01, -9.86633653e-01,\n",
       "       -6.59225901e-01, -8.66509487e-01, -7.07656688e-01, -9.83177760e-01,\n",
       "       -6.32578990e-02, -5.35931228e-01, -3.92240336e-01, -5.79393118e-01,\n",
       "       -5.21965242e-01, -9.73935656e-02, -3.57690197e-01, -1.78563806e-01,\n",
       "       -1.63421807e-01, -7.70973747e-01, -5.71389624e-01, -3.78270066e-01,\n",
       "       -8.20537249e-01, -6.08368837e-01, -2.29917099e-01, -7.48269976e-01,\n",
       "       -7.85392394e-01, -3.19187016e-01, -8.39415699e-01, -3.81087298e-01,\n",
       "       -7.13481159e-01, -6.66307243e-01, -7.29458787e-01, -7.79770673e-01,\n",
       "       -8.02555360e-01, -9.63543564e-01, -1.88471765e-03, -3.78984629e-01,\n",
       "       -7.52112390e-01, -8.07669327e-01, -3.99338627e-01, -2.76156500e-01,\n",
       "       -7.10709560e-01, -1.29691808e-01, -2.59228368e-01, -1.04224884e-01,\n",
       "       -1.34912615e-01, -2.74134447e-01, -5.89726898e-01, -3.49468855e-01,\n",
       "       -8.95303128e-01, -6.64935578e-02, -6.47205146e-01, -6.42633674e-01,\n",
       "       -8.36593278e-01, -2.16070066e-01, -7.67348004e-01, -5.15217789e-01,\n",
       "       -9.35582941e-01, -9.09201721e-01, -6.79247922e-01, -9.80155112e-01,\n",
       "       -7.41635233e-01, -1.04667111e-01, -2.12441211e-01, -6.16756457e-02,\n",
       "       -5.77920190e-01, -3.39104072e-01, -5.73560483e-01, -6.08590364e-04,\n",
       "       -5.20750190e-01, -7.01733203e-01, -9.69098443e-01, -7.76274448e-01,\n",
       "       -9.86310936e-01, -8.99732406e-01, -8.73702936e-02, -2.03157821e-02,\n",
       "       -5.00426918e-01, -2.26695548e-01, -3.31832100e-01, -3.96989397e-01,\n",
       "       -3.17678038e-01, -9.10544233e-01, -5.64229997e-01, -7.82557973e-01,\n",
       "       -6.61438845e-01, -4.92282016e-02, -8.11718879e-01, -8.90398912e-01,\n",
       "       -8.20982159e-01, -7.30900320e-01, -7.42928331e-01, -5.77723428e-01,\n",
       "       -8.99510880e-01, -2.05726298e-01, -9.32127884e-01, -2.38347026e-01,\n",
       "       -4.15824562e-01, -3.92699189e-01, -5.99044381e-01, -5.44453328e-01,\n",
       "       -7.12897916e-01, -1.85164457e-01, -6.66606577e-01, -3.85205891e-01,\n",
       "       -3.98343879e-01, -8.10191603e-01, -9.22704997e-01, -2.12186175e-01,\n",
       "       -3.89218289e-01, -4.96131179e-01, -2.51034413e-01, -9.71663742e-01,\n",
       "       -4.43116572e-01, -4.37330008e-01, -4.33493377e-01, -6.09233336e-01,\n",
       "       -2.87334362e-01, -4.01082818e-01, -5.84599393e-01, -2.55420020e-01,\n",
       "       -9.69829945e-01, -5.81695426e-01, -3.83484326e-01, -5.90840565e-01,\n",
       "       -6.46659597e-01, -6.57121095e-01, -5.40051550e-01, -6.46730858e-01,\n",
       "       -5.81229997e-01, -3.07126666e-01, -3.82835228e-01, -1.57547577e-01,\n",
       "       -8.90915874e-01, -5.79738268e-01, -7.85125327e-01, -5.21959002e-01,\n",
       "       -7.76057734e-01, -2.99603508e-01, -4.19825924e-01, -7.30803893e-01,\n",
       "       -6.81821256e-01, -3.82620391e-01, -9.46055517e-01, -2.03972702e-01,\n",
       "       -6.57466505e-01, -1.99614074e-01, -4.86184669e-01, -7.20227820e-01,\n",
       "       -9.45065545e-01, -3.01213894e-01, -6.96286445e-01, -2.50091807e-01,\n",
       "       -8.36623404e-02, -6.14392864e-01, -5.07233074e-01, -7.31704284e-01,\n",
       "       -8.64748957e-01, -4.85525990e-02, -5.15933004e-01, -6.06034463e-01,\n",
       "       -3.54859390e-02, -3.59925938e-01, -2.59049199e-01, -9.48332260e-01,\n",
       "       -2.13421045e-01, -5.16705283e-01, -8.21308619e-01, -6.42450718e-01,\n",
       "       -9.52306344e-01, -1.06627366e-01, -6.87633329e-01, -1.94039019e-01,\n",
       "       -2.73495585e-01, -8.44483290e-01, -3.69932591e-01, -8.20346271e-01,\n",
       "       -2.06334554e-01, -9.38257969e-01, -4.65493741e-01, -6.79558363e-02,\n",
       "       -2.38409860e-02, -5.81943967e-01, -2.39509182e-01, -8.77053760e-01,\n",
       "       -8.79430724e-01, -8.52721221e-01, -3.48476036e-02, -6.22990948e-01,\n",
       "       -4.93848837e-01, -4.79357050e-01, -9.49022430e-01, -5.77114250e-01,\n",
       "       -8.67841395e-01, -9.18421825e-01, -7.91030170e-01, -7.15439239e-01,\n",
       "       -7.68825287e-01, -7.53462606e-01, -9.17812540e-01, -3.28523944e-02,\n",
       "       -8.58928234e-01, -7.44122941e-01, -3.90104844e-01, -6.41644234e-01,\n",
       "       -5.07143419e-01, -5.19959369e-02, -1.42068248e-01, -6.35126567e-01,\n",
       "       -2.50279324e-01, -3.33195540e-01, -7.76495118e-01, -2.63946287e-01,\n",
       "       -5.53157270e-01, -8.54927168e-01, -6.06543647e-01, -6.46762794e-01,\n",
       "       -1.58682539e-01, -6.37969189e-02, -9.33054837e-01, -1.28638830e-01,\n",
       "       -6.25366581e-01, -7.06037564e-01, -2.71595822e-01, -4.47730879e-01,\n",
       "       -5.00199632e-01, -7.03178423e-01, -9.51457748e-01, -8.53452563e-01,\n",
       "       -6.47000184e-02, -4.34180017e-01, -5.35315948e-01, -4.90198375e-01,\n",
       "       -1.35471453e-01, -2.39113361e-02, -7.19348260e-01, -1.11255034e-01,\n",
       "       -7.77586201e-01, -6.92396513e-01, -1.62211639e-01, -7.13153858e-01,\n",
       "       -6.51957562e-01, -3.17174499e-01, -5.09838172e-01, -4.22656466e-01,\n",
       "       -2.21837703e-01, -8.03337315e-01, -8.54012919e-01, -3.63641344e-01,\n",
       "       -3.89027248e-02, -8.51390646e-01, -9.48223178e-01, -3.27967839e-01,\n",
       "       -6.49778073e-01, -8.31033355e-01, -6.56703324e-01, -5.51889284e-01,\n",
       "       -8.08874076e-01, -6.32707129e-01, -4.64638417e-01, -7.65828070e-01,\n",
       "       -8.09375137e-01, -1.77795462e-01, -9.73891041e-01, -3.55615940e-01,\n",
       "       -7.17605232e-01, -7.80418700e-01, -5.39887080e-01, -2.45932374e-01,\n",
       "       -4.47331717e-01, -6.34111057e-01, -6.79715325e-01, -6.48995155e-01,\n",
       "       -2.82780477e-01, -6.15766865e-01, -7.72594318e-01, -3.33397573e-01,\n",
       "       -3.97092588e-01, -4.20880893e-02, -5.42341332e-02, -5.18602594e-01,\n",
       "       -2.50120715e-01, -6.20475937e-01, -5.63542362e-01, -7.63612799e-01,\n",
       "       -3.30133228e-01, -1.14601690e-01, -7.93422184e-01, -8.04885058e-02,\n",
       "       -1.68004042e-01, -6.51231237e-01, -4.10909782e-01, -4.09273164e-01,\n",
       "       -2.54388588e-01, -9.55426978e-01, -5.66195902e-01, -4.50862530e-01,\n",
       "       -3.83342422e-01, -2.77617119e-01, -5.94359371e-01, -8.16672301e-01,\n",
       "       -5.91774926e-02, -2.55954241e-01, -2.74000159e-01, -1.96061937e-01,\n",
       "       -6.97952452e-01, -1.21923918e-01, -2.76577486e-01, -4.20156488e-01,\n",
       "       -4.16828017e-01, -4.03572937e-01, -4.98854003e-01, -1.17012501e-01,\n",
       "       -5.09787335e-01, -8.95543964e-01, -3.50764784e-01, -6.28987171e-01,\n",
       "       -7.47798213e-01, -3.34224557e-01, -2.02905552e-01, -4.72540763e-01,\n",
       "       -9.84964251e-01, -8.64395617e-01, -4.89988243e-01, -3.20016694e-01,\n",
       "       -6.10071569e-01, -7.44745068e-01, -6.52098287e-01, -2.22644653e-02,\n",
       "       -2.51442734e-01, -3.66271127e-01, -6.87007561e-01, -7.66329134e-01,\n",
       "       -1.32934765e-01, -3.78080985e-01, -1.61675045e-01, -7.02539755e-02,\n",
       "       -6.74798476e-01, -1.85792392e-01, -6.03363180e-01, -6.07962624e-01,\n",
       "       -8.18257572e-01, -6.19591091e-01, -8.73446300e-01, -3.66956073e-01,\n",
       "       -1.07588277e-01, -3.30259504e-01, -6.59384654e-01, -2.30195500e-01,\n",
       "       -1.36000856e-01, -8.62031832e-01, -6.93792531e-02, -6.53865531e-01,\n",
       "       -4.17633468e-01, -9.65173452e-01, -2.61975194e-01, -9.04794344e-01,\n",
       "       -2.49683454e-02, -3.12891904e-01, -1.21023292e-02, -1.38882412e-01,\n",
       "       -6.14082286e-01, -1.71452037e-01, -7.65258926e-01, -4.96345596e-01,\n",
       "       -6.68912076e-01, -9.63280512e-01, -8.20155434e-01, -7.19646541e-01,\n",
       "       -2.57172039e-01, -2.69404799e-01, -4.75968963e-01, -4.08802350e-01,\n",
       "       -3.68896877e-01, -6.45589353e-01, -5.27244485e-01, -8.67799068e-01,\n",
       "       -5.36663910e-01, -3.40048519e-01, -8.42337058e-01, -1.60502915e-01,\n",
       "       -7.30618289e-01, -9.59009097e-01, -2.19512389e-01, -5.85954771e-02,\n",
       "       -7.60620015e-01, -7.59983490e-01, -4.15676488e-01, -1.10554590e-01,\n",
       "       -9.43290620e-01, -7.02336494e-01, -8.06093193e-01, -4.64589265e-01,\n",
       "       -4.66383502e-01, -4.08119059e-01, -3.58288736e-01, -2.97546224e-01,\n",
       "       -4.98888070e-01, -1.98783764e-01, -3.56457293e-01, -5.27853072e-01,\n",
       "       -8.11310821e-01, -9.24431575e-01, -3.29476459e-01, -9.15284575e-01,\n",
       "       -3.33244956e-01, -5.79070201e-01, -8.34312200e-03, -4.70924812e-02,\n",
       "       -2.69359647e-01, -4.35406018e-01, -5.98360598e-01, -3.73828317e-01,\n",
       "       -1.72696708e-01, -6.94880816e-01, -8.81956473e-01, -5.82311575e-01,\n",
       "       -5.60173943e-01, -9.75323760e-01, -1.11803758e-02, -9.86796573e-02,\n",
       "       -9.54377316e-01, -2.65330915e-01, -6.37445222e-01, -5.29685572e-01,\n",
       "       -7.07378560e-01, -5.82146911e-01, -5.31858545e-01, -7.23577806e-01,\n",
       "       -8.37092621e-01, -1.41095588e-01, -6.75957432e-01, -9.35148944e-01,\n",
       "       -3.44802465e-01, -7.91641404e-01, -1.57587885e-01, -7.17898107e-01,\n",
       "       -1.19237172e-01, -6.14072562e-01, -7.25331860e-02, -6.49909085e-01,\n",
       "       -9.82910189e-01, -5.22204996e-01, -9.39271317e-01, -6.74321815e-02,\n",
       "       -7.82756638e-01, -7.71767788e-01, -7.51563516e-01, -5.76034214e-01,\n",
       "       -1.35601307e-01, -1.05056316e-01, -9.83700494e-01, -3.50735567e-01,\n",
       "       -5.09208560e-01, -3.04863371e-01, -4.24253465e-01, -1.21411335e-01,\n",
       "       -1.64478466e-01, -7.87641510e-01, -5.81726840e-01, -3.45063731e-01,\n",
       "       -2.91188424e-01, -1.29122059e-03, -1.49427781e-01, -3.99355397e-02,\n",
       "       -8.75891066e-01, -1.86932360e-01, -3.11990569e-01, -9.85568237e-01,\n",
       "       -6.66037139e-01, -3.83584133e-01, -1.67767514e-01, -3.47663174e-01,\n",
       "       -8.33757353e-01, -3.32211601e-01, -9.22811088e-01, -8.90434583e-01,\n",
       "       -7.86277338e-01, -6.22571887e-01, -4.21481130e-01, -2.16207600e-01,\n",
       "       -7.40267108e-02, -2.09669640e-02, -9.27095445e-01, -8.76103564e-01,\n",
       "       -8.65515254e-01, -7.38265313e-01, -4.25831963e-01, -9.93371795e-01,\n",
       "       -3.09590995e-01, -3.14745964e-01, -5.59422405e-01, -1.88859742e-01,\n",
       "       -5.35031455e-01, -8.29813159e-01, -3.84344600e-01, -3.53849976e-01,\n",
       "       -6.97487971e-01, -1.92644127e-01, -8.49930539e-01, -8.55152311e-01,\n",
       "       -3.74318094e-01, -5.69461014e-01, -4.07254848e-01, -1.59076550e-01,\n",
       "       -4.32852453e-02, -4.00537883e-01, -2.59703313e-01, -2.04954091e-01,\n",
       "       -8.36050866e-01, -2.29548110e-01, -9.94047737e-01, -5.46945576e-01,\n",
       "       -9.91930660e-01, -5.50518875e-01, -1.55790790e-01, -5.09316086e-01,\n",
       "       -8.65483608e-01, -1.81905348e-01, -4.80590426e-01, -3.24526608e-01,\n",
       "       -7.36439273e-01, -4.14550100e-01, -4.53218309e-01, -3.56323594e-02,\n",
       "       -1.07180936e-01, -6.20983936e-01, -4.42071079e-01, -3.85752588e-01,\n",
       "       -6.30256545e-01, -6.06241005e-01, -5.07577956e-01, -1.10927033e-01,\n",
       "       -7.18730482e-01, -4.31993694e-01, -4.23189336e-01, -1.09896099e-01,\n",
       "       -3.82504046e-01, -9.68435642e-01, -3.33538060e-01, -6.18688304e-01,\n",
       "       -7.46237815e-01, -7.14871333e-01, -1.16127083e-01, -7.31095690e-01,\n",
       "       -2.22249381e-01, -6.76109490e-01, -9.20045737e-01, -9.98700279e-01,\n",
       "       -3.61271326e-01, -2.36839371e-02, -2.72893298e-01, -5.64992307e-01,\n",
       "       -7.20240157e-01, -2.84356888e-01, -5.51439401e-01, -3.56901768e-01,\n",
       "       -5.23951937e-02, -1.49096853e-01, -9.22398719e-01, -4.17210363e-01,\n",
       "       -9.68259729e-01, -7.28250306e-01, -2.17121644e-02, -8.26884994e-01,\n",
       "       -6.60017242e-01, -7.85823555e-01, -1.26425872e-01, -6.92864102e-02,\n",
       "       -7.39102372e-01, -5.77453400e-01, -4.39257739e-01, -3.48431382e-01,\n",
       "       -6.79618382e-02, -4.89863703e-01, -1.32041453e-01, -3.24364102e-01,\n",
       "       -3.41162764e-01, -4.72487802e-01, -5.83858090e-02, -2.55840630e-01,\n",
       "       -5.53807416e-01, -7.64744784e-01, -6.42580951e-02, -4.79237040e-02,\n",
       "       -5.69899921e-01, -9.88231789e-01, -1.33392432e-01, -2.04447736e-01,\n",
       "       -9.57898693e-01, -6.98848364e-03, -3.58616774e-01, -7.21237749e-01,\n",
       "       -9.38256546e-01, -1.17271085e-01, -8.61371361e-01, -3.06363038e-01,\n",
       "       -5.15308467e-01, -4.49677039e-01, -2.74269986e-02, -9.98901919e-01,\n",
       "       -3.43080748e-01, -6.25473872e-01, -7.47697292e-01, -2.06320090e-01,\n",
       "       -7.74216338e-01, -2.99215896e-01, -3.26519945e-01, -6.44391702e-01,\n",
       "       -8.86847151e-01, -2.31329235e-01, -3.70482601e-01, -7.22293295e-02,\n",
       "       -1.86783612e-01, -1.43498474e-01, -7.54293766e-01, -5.45759215e-02,\n",
       "       -1.06304103e-01, -6.69983220e-01, -6.81010646e-02, -5.66515743e-01,\n",
       "       -7.13606875e-01, -1.49661428e-01, -6.68052924e-01, -7.30064567e-02,\n",
       "       -9.26373763e-01, -4.41292475e-01, -8.00244978e-01, -2.26399233e-01,\n",
       "       -2.20679827e-01, -8.47663272e-01, -9.23607716e-02, -8.60977145e-01,\n",
       "       -3.40925133e-01, -4.33368441e-02, -7.86027497e-01, -5.19636612e-01,\n",
       "       -2.63044067e-01, -5.72493531e-01, -3.94105079e-01, -1.20585512e-01,\n",
       "       -4.45674130e-02, -8.11052752e-01, -3.12851388e-01, -8.56240012e-01,\n",
       "       -3.92758706e-01, -2.84331725e-01, -6.90344868e-01, -7.90412676e-01,\n",
       "       -3.27038948e-01, -2.17120753e-01, -1.63605794e-01, -9.09341387e-01,\n",
       "       -8.85973065e-01, -2.41523262e-03, -3.65764040e-01, -4.72881032e-01,\n",
       "       -5.80386637e-01, -1.33970370e-01, -9.44253767e-01, -4.61030738e-01,\n",
       "       -7.43140519e-01, -4.95407863e-01, -1.78366973e-01, -4.44651819e-01,\n",
       "       -7.82095962e-01, -1.20454493e-01, -6.14987408e-01, -4.55935334e-01,\n",
       "       -7.55637496e-01, -1.45711556e-01, -9.50150335e-01, -3.58898213e-01,\n",
       "       -7.84100513e-01, -8.21182904e-02, -6.15821783e-01, -8.33579353e-01,\n",
       "       -5.40045568e-01, -2.49247154e-01, -7.64729655e-01, -4.18616988e-01,\n",
       "       -9.98104425e-01, -5.69408341e-01, -2.68119643e-01, -2.41097995e-01,\n",
       "       -8.64992251e-01, -9.68369237e-01, -1.26740569e-02, -8.97159383e-01,\n",
       "       -2.94751128e-01, -5.68826504e-01, -4.58415331e-01, -7.59387527e-01,\n",
       "       -6.01416106e-01, -4.33568877e-01, -7.41145334e-01, -5.35727000e-01,\n",
       "       -6.47730492e-01, -5.24249640e-01, -7.66650139e-01, -4.27190836e-01,\n",
       "       -5.93412762e-01, -6.29720044e-01, -6.40074028e-01, -2.99640132e-01,\n",
       "       -8.83216707e-01, -9.90233458e-01, -3.28670426e-01, -4.68826659e-01,\n",
       "       -2.05172060e-01, -4.06388812e-01, -3.26180149e-01, -4.19999507e-01,\n",
       "       -9.81408692e-01, -3.56528014e-02, -7.74543974e-01, -5.31487284e-01,\n",
       "       -9.80994794e-01, -9.65855955e-01, -6.55235448e-01, -3.37892264e-01,\n",
       "       -3.47534902e-01, -4.71693443e-01, -9.02219984e-01, -2.24553809e-01,\n",
       "       -8.08274389e-01, -4.00000983e-01, -7.63493141e-01, -5.09966765e-01,\n",
       "       -5.55819008e-01, -8.80357519e-01, -1.52568542e-01, -3.74758614e-01,\n",
       "       -9.25681517e-01, -8.39943433e-01, -1.30274957e-02, -3.14096690e-01,\n",
       "       -7.73713462e-01, -5.54467572e-01, -6.57657584e-01, -9.25689292e-01,\n",
       "       -6.54261740e-01, -9.24838135e-01, -4.71340285e-01, -2.10673322e-01,\n",
       "       -4.98574374e-01, -7.85346563e-02, -8.18042062e-01, -3.61897268e-01,\n",
       "       -6.20482294e-01, -4.71317641e-01, -2.74487099e-01, -3.28044995e-01,\n",
       "       -9.77817367e-02, -7.27521780e-01, -4.21163433e-01, -2.27069406e-01,\n",
       "       -4.02293613e-01, -5.10783578e-01, -5.30894587e-01, -6.91973204e-01,\n",
       "       -9.22367946e-01, -8.29132797e-01, -9.14238651e-01, -5.99528613e-01,\n",
       "       -1.59965467e-01, -1.20376631e-01, -1.23672343e-01, -2.46125374e-01,\n",
       "       -6.86947778e-01, -3.39917157e-01, -2.23859400e-03, -1.67970152e-01,\n",
       "       -3.28426609e-01, -7.17091114e-01, -3.71952854e-01, -9.30301117e-01,\n",
       "       -6.25171760e-01, -3.49947319e-01, -9.36414480e-01, -3.44691150e-01,\n",
       "       -4.89743386e-01, -8.77106106e-01, -6.69151136e-01, -7.37251237e-01,\n",
       "       -3.69145789e-01, -8.12347427e-02, -3.41291258e-01, -3.76357076e-01,\n",
       "       -2.36156156e-01, -8.68734432e-01, -7.67302048e-01, -2.70178852e-01,\n",
       "       -9.30479149e-01, -1.44515810e-01, -9.98705253e-01, -8.66768767e-01,\n",
       "       -2.17009024e-02, -2.56987746e-01, -7.39374094e-01, -1.60924334e-01,\n",
       "       -8.19200863e-02, -4.47331036e-02, -9.06103260e-01, -4.11465810e-01,\n",
       "       -1.24054417e-01, -7.70745257e-01, -4.26900248e-01, -4.15086611e-02,\n",
       "       -3.17325011e-01, -7.13470714e-01, -5.69396182e-01, -5.32511283e-01,\n",
       "       -2.42645415e-01, -3.88903314e-01, -4.66910224e-02, -6.75252154e-01,\n",
       "       -5.18627929e-01, -6.88144046e-01, -8.35703547e-01, -6.78037583e-01,\n",
       "       -2.45055637e-01, -9.80965119e-01, -7.13105152e-01, -8.03730208e-01,\n",
       "       -9.97760545e-01, -6.16090612e-01, -5.49260352e-01, -4.53228198e-01,\n",
       "       -4.16449731e-01, -8.07137246e-01, -8.69721408e-01, -8.82555297e-01,\n",
       "       -7.82450594e-01, -3.24801657e-01, -5.37972856e-01, -8.39285597e-02,\n",
       "       -4.76104656e-01, -9.16255344e-01, -1.16221152e-01, -1.64004543e-01,\n",
       "       -5.11294655e-01, -3.35755221e-01, -5.25412684e-01, -6.32490741e-01,\n",
       "       -3.86384830e-02, -1.95639795e-01, -6.44115773e-01, -5.87685103e-01,\n",
       "       -3.69665782e-01, -9.27820171e-01, -9.70538321e-01, -9.42466643e-01,\n",
       "       -1.05673263e-01, -8.10701826e-01, -5.98127592e-01, -6.19395997e-01,\n",
       "       -1.84019242e-01, -1.49612644e-01, -1.78096617e-01, -7.37475293e-01,\n",
       "       -4.11610363e-01, -8.29209122e-01, -1.57503614e-01, -4.71749597e-01,\n",
       "       -5.02861708e-01, -9.07806058e-01, -3.06035899e-01, -9.74218354e-01,\n",
       "       -6.29594843e-01, -5.67972357e-01, -6.90793312e-01, -1.97044793e-01,\n",
       "       -4.63102661e-01, -4.00841829e-01, -3.43793549e-01, -9.88970578e-01,\n",
       "       -7.54011133e-01, -5.96751386e-01, -8.35947717e-02, -9.41341602e-01,\n",
       "       -2.65089343e-01, -5.29730024e-02, -2.26981505e-02, -8.98541832e-01,\n",
       "       -1.86924353e-01, -3.70128553e-01, -9.87803982e-01, -3.77003106e-01,\n",
       "       -5.21827289e-01, -1.65025450e-01, -2.53880801e-01, -7.91077588e-02,\n",
       "       -9.97365200e-01, -1.38602338e-01, -9.73260241e-01, -4.78449141e-01,\n",
       "       -2.45239725e-01, -4.46909236e-01, -3.80109420e-01, -3.06964517e-01,\n",
       "       -7.56163438e-01, -4.03873741e-03, -1.65575790e-01, -1.90029283e-01,\n",
       "       -3.38572045e-01, -2.78230385e-01, -7.72146644e-01, -2.05149384e-01,\n",
       "       -9.02316946e-01, -3.25027281e-01, -4.45483598e-02, -9.39069291e-01,\n",
       "       -6.70241287e-01, -1.84619752e-01, -3.89208780e-02, -8.62939859e-01,\n",
       "       -3.51095903e-01, -9.11604408e-01, -3.70866596e-01, -2.72205970e-01,\n",
       "       -6.23756079e-01, -2.37842799e-01, -3.54146857e-02, -3.51437333e-02,\n",
       "       -6.95710708e-02, -9.37090460e-01, -4.41106762e-01, -4.70000474e-01,\n",
       "       -6.10138323e-02, -7.98792778e-01, -6.29603835e-01, -5.80025636e-01,\n",
       "       -6.97832852e-01, -5.82681400e-01, -5.63563274e-01, -5.25825390e-01,\n",
       "       -8.10269153e-02, -6.85159789e-01, -5.78545847e-01, -3.71001322e-01,\n",
       "       -5.06884292e-01, -5.29366625e-01, -8.49208219e-01, -4.06400633e-01,\n",
       "       -9.19448593e-01, -5.72167983e-01, -8.32519374e-01, -4.26565347e-02,\n",
       "       -3.40663121e-01, -7.11314170e-01, -7.45505120e-02, -2.44964118e-01,\n",
       "       -3.71736911e-01, -4.05915119e-02, -2.37405865e-01, -3.20212840e-01])"
      ]
     },
     "execution_count": 6,
     "metadata": {},
     "output_type": "execute_result"
    }
   ],
   "source": [
    "s"
   ]
  },
  {
   "cell_type": "code",
   "execution_count": 43,
   "metadata": {
    "scrolled": false
   },
   "outputs": [
    {
     "data": {
      "text/plain": [
       "True"
      ]
     },
     "execution_count": 43,
     "metadata": {},
     "output_type": "execute_result"
    }
   ],
   "source": [
    "# All values are within the given interval:\n",
    "np.all(s >= -1)\n"
   ]
  },
  {
   "cell_type": "code",
   "execution_count": 44,
   "metadata": {
    "scrolled": false
   },
   "outputs": [
    {
     "data": {
      "text/plain": [
       "True"
      ]
     },
     "execution_count": 44,
     "metadata": {},
     "output_type": "execute_result"
    }
   ],
   "source": [
    "np.all(s < 0)"
   ]
  },
  {
   "cell_type": "code",
   "execution_count": 32,
   "metadata": {
    "scrolled": false
   },
   "outputs": [
    {
     "data": {
      "image/png": "[encoded data removed]",
      "text/plain": [
       "<Figure size 432x288 with 1 Axes>"
      ]
     },
     "metadata": {},
     "output_type": "display_data"
    }
   ],
   "source": [
    "# https://www.javatpoint.com/numpy-random\n",
    "# Display the histogram of the samples, along with the probability density function:\n",
    "import matplotlib.pyplot as plt\n",
    "import seaborn as sns\n",
    "import numpy as np\n",
    "s = np.random.normal(mu, sigma, 1000)  \n",
    "count, bins, ignored = plt.hist(s, 15, density=True)\n",
    "plt.plot(bins, np.ones_like(bins), linewidth=2, color='b')\n",
    "plt.style.use(\"ggplot\")\n",
    "plt.show()\n"
   ]
  },
  {
   "cell_type": "markdown",
   "metadata": {
    "scrolled": false
   },
   "source": [
    "<cr>"
   ]
  },
  {
   "cell_type": "markdown",
   "metadata": {},
   "source": [
    "### 3.3 numpy.random.multivariate_normal"
   ]
  },
  {
   "cell_type": "markdown",
   "metadata": {},
   "source": [
    "numpy.random.multivariate_normal(mean, cov[, size]).\n",
    "random.multivariate_normal(mean, cov, size=None, check_valid='warn', tol=1e-8).\n",
    "Draw random samples from a multivariate normal distribution.The multivariate normal, multinormal or Gaussian distribution is a generalization of the one-dimensional normal distribution to higher dimensions.\n",
    "https://numpy.org/devdocs/reference/random/generated/numpy.random.multivariate_normal.html"
   ]
  },
  {
   "cell_type": "code",
   "execution_count": 9,
   "metadata": {
    "scrolled": false
   },
   "outputs": [
    {
     "data": {
      "image/png": "[encoded data removed]",
      "text/plain": [
       "<Figure size 432x288 with 1 Axes>"
      ]
     },
     "metadata": {},
     "output_type": "display_data"
    }
   ],
   "source": [
    "mean = [0,0]\n",
    "cov = [[1,0],[0,100]] # diagonal covariance, points lie on x or y-axis\n",
    "\n",
    "import matplotlib.pyplot as plt\n",
    "# import numpy to avoid an error (np is not defined)\n",
    "import numpy as np\n",
    "x,y = np.random.multivariate_normal(mean,cov,5000).T\n",
    "plt.style.use(\"ggplot\")\n",
    "plt.plot(x,y,'x'); plt.axis('equal'); plt.show()\n"
   ]
  },
  {
   "cell_type": "code",
   "execution_count": 9,
   "metadata": {
    "scrolled": false
   },
   "outputs": [
    {
     "name": "stderr",
     "output_type": "stream",
     "text": [
      "<ipython-input-9-387f2631f520>:3: RuntimeWarning: covariance is not positive-semidefinite.\n",
      "  x = np.random.multivariate_normal(mean,cov,(3,3))\n"
     ]
    },
    {
     "data": {
      "text/plain": [
       "(3, 3, 2)"
      ]
     },
     "execution_count": 9,
     "metadata": {},
     "output_type": "execute_result"
    }
   ],
   "source": [
    "mean = (1,2)\n",
    "cov = [[1,0],[1,0]]\n",
    "x = np.random.multivariate_normal(mean,cov,(3,3))\n",
    "x.shape\n",
    "(3, 3, 2)"
   ]
  },
  {
   "cell_type": "code",
   "execution_count": 10,
   "metadata": {},
   "outputs": [
    {
     "name": "stdout",
     "output_type": "stream",
     "text": [
      "[ True  True]\n"
     ]
    }
   ],
   "source": [
    "# The following is probably true, given that 0.6 is roughly twice the standard deviation:\n",
    "\n",
    "list = (x[0,0,:] - mean) < 0.6\n",
    "print (list) \n"
   ]
  },
  {
   "cell_type": "markdown",
   "metadata": {},
   "source": [
    "### 3.4 numpy.random.la place function"
   ]
  },
  {
   "cell_type": "markdown",
   "metadata": {},
   "source": [
    "numpy.random.laplace\n",
    "numpy.random.laplace(loc=0.0, scale=1.0, size=None)\n",
    "Draw samples from the Laplace or double exponential distribution with specified location (or mean) and scale (decay).\n",
    "\n",
    "The Laplace distribution is similar to the Gaussian/normal distribution, but is sharper at the peak and has fatter tails. It represents the difference between two independent, identically distributed exponential random variables.\n",
    "https://numpy.org/devdocs/reference/random/generated/numpy.random.laplace.html"
   ]
  },
  {
   "cell_type": "code",
   "execution_count": 2,
   "metadata": {
    "scrolled": false
   },
   "outputs": [],
   "source": [
    "# Draw samples from the distribution\n",
    "import numpy as np\n",
    "loc, scale = 0., 1.\n",
    "s = np.random.laplace(loc, scale, 1000)\n"
   ]
  },
  {
   "cell_type": "code",
   "execution_count": 3,
   "metadata": {
    "scrolled": true
   },
   "outputs": [
    {
     "data": {
      "text/plain": [
       "array([-6.54465773e-02,  9.43622097e-01,  3.68503807e-01,  2.20607172e-01,\n",
       "        2.06530573e-01,  2.20233507e-02,  1.59962289e+00,  1.37906917e+00,\n",
       "       -5.56426972e-01,  7.91838527e-01,  3.77796120e-01,  2.62692562e+00,\n",
       "       -4.28693556e-01, -1.38708248e+00, -3.21071087e-01, -8.76853408e-02,\n",
       "        6.07770284e-01, -9.91400943e-01,  2.03286553e+00,  1.53984731e+00,\n",
       "       -5.81690867e-01, -3.93363059e+00, -4.60193747e-01,  1.32851830e+00,\n",
       "        6.35724515e-01, -8.49690876e-01, -1.33572589e+00,  1.32565907e-02,\n",
       "        9.82226363e-01, -2.69822846e+00, -1.54489759e-01, -5.07158121e-01,\n",
       "        1.23031495e+00,  5.18031285e+00,  4.36873365e-01, -1.16838027e+00,\n",
       "       -1.79460151e+00,  2.71227729e-01,  1.64677838e+00, -3.05773897e-01,\n",
       "        1.16156458e-01, -6.57744302e-01, -7.32120049e-01, -7.20370008e-01,\n",
       "       -6.71976211e+00,  2.49502226e-01, -1.27322625e+00, -2.69890124e+00,\n",
       "       -1.02313141e+00, -1.66376256e+00,  1.48202103e+00, -1.07995942e-01,\n",
       "        8.65432974e-01, -5.79341547e-03,  7.77195320e-01, -4.44828269e-02,\n",
       "       -2.35335847e-01, -3.22822259e-02, -8.01235773e-01,  3.47718209e-01,\n",
       "       -1.47659796e+00,  1.14934934e-01,  1.44081249e+00, -5.37819693e-01,\n",
       "       -2.90555749e+00,  4.76595332e-01, -1.70872592e-01,  4.45703914e-01,\n",
       "        6.79564029e-01, -1.75604617e+00,  9.26601853e-02, -4.76051589e+00,\n",
       "        3.91059516e-01, -7.08281095e-01, -2.60089836e-01, -1.63616227e-01,\n",
       "        2.21712932e+00, -2.48057103e-02,  5.20986155e-02, -4.27569107e-01,\n",
       "        8.26972379e-01,  3.28924340e+00, -3.89172948e-01,  3.15514306e+00,\n",
       "        1.68244234e+00, -1.52260331e-01,  2.46078255e-01, -2.99348522e-01,\n",
       "       -2.88882486e+00,  1.06139158e+00, -1.03514996e+00,  4.01422148e-01,\n",
       "       -1.13840789e+00,  1.73103509e+00,  3.00972235e-01,  4.90744921e-01,\n",
       "       -2.68154606e-02,  7.32935684e-01,  9.40711448e-01, -1.05804512e+00,\n",
       "       -3.45404574e+00, -7.46386423e-01, -2.26758539e+00, -3.11113695e-02,\n",
       "        9.30159420e-01,  6.15455998e-01,  9.23253022e-02, -4.98023238e-01,\n",
       "        6.95460545e-02, -1.81172130e-01,  1.76273206e-01,  1.27213794e+00,\n",
       "        5.89973890e-01,  1.59781566e+00, -4.54331051e-01, -4.36450829e-01,\n",
       "       -1.58452671e-01,  7.37356622e-01, -2.87293699e-01, -1.59075847e-01,\n",
       "        6.07821749e-01,  4.06408964e+00,  4.43547805e-01, -7.27020380e-02,\n",
       "       -3.10903227e-01, -8.27485457e-01,  3.77767309e-01, -1.82030472e+00,\n",
       "        4.21391994e-01,  7.95429592e-01,  2.16889886e-01, -2.01722020e+00,\n",
       "       -6.91542060e-01,  1.10182130e-01, -1.04467369e+00, -1.92703043e+00,\n",
       "       -1.96523051e+00,  2.81340875e+00,  9.06199207e-01,  2.16089163e-01,\n",
       "       -2.31937484e+00,  1.04918739e+00, -7.92297349e-01, -7.05539377e-01,\n",
       "       -1.09356878e+00,  1.12160993e+00,  1.42260663e-01,  6.18531944e-01,\n",
       "       -2.12493042e+00, -1.41077179e+00,  1.13684879e-01,  1.15385106e+00,\n",
       "        4.16777297e+00, -2.50885806e-02, -1.02405880e-01,  2.14249109e-01,\n",
       "        5.06366500e-01,  1.24851977e+00,  5.86373791e-01, -9.70597805e-02,\n",
       "       -3.83091403e-01,  7.37060053e+00,  1.16896602e-01,  8.02148016e-01,\n",
       "        1.10602037e+00, -2.24038486e+00, -1.03678798e+00,  1.15624557e+00,\n",
       "       -6.37888246e-01,  3.39663890e+00, -1.10598090e+00, -6.62886962e-02,\n",
       "       -6.24858946e-01,  1.49414174e-01, -1.40199112e+00,  4.08563345e-01,\n",
       "       -3.16035512e+00, -1.00417999e+00, -2.92799005e-01, -1.91758439e-01,\n",
       "        8.83666596e-02,  6.46206546e-01, -4.70515750e-01,  1.88878742e+00,\n",
       "       -8.12953557e-01, -1.20421292e+00,  1.79279367e+00, -4.63914866e-01,\n",
       "        2.61388257e-01,  1.80566257e-01,  3.54125182e-01,  2.64049665e-01,\n",
       "       -7.24667647e-01, -5.40712317e-01,  2.73636387e+00,  1.40594826e+00,\n",
       "        3.46450684e+00, -5.39976843e-01, -2.89171869e-01, -1.01553406e+00,\n",
       "        9.13382011e-01, -7.76079418e-01,  1.32995653e-01, -3.53919263e-01,\n",
       "        4.52974691e+00,  1.94996132e+00, -1.34856354e+00, -4.40341064e-01,\n",
       "        2.61380890e-01, -2.21798988e+00,  1.25485343e-01,  2.37428024e+00,\n",
       "        2.59041758e-01,  4.09287735e-01,  1.39002874e+00,  9.12191795e-01,\n",
       "       -4.62488425e-01, -3.63615095e+00, -6.27273840e-01,  2.89763355e-02,\n",
       "        1.64366298e+00, -7.38554685e-01, -2.74654602e+00, -2.59340193e+00,\n",
       "       -1.01793979e+00, -3.07652316e-01,  1.14493174e+00, -1.24480273e+00,\n",
       "        2.26583423e+00, -1.59487991e-02,  7.50566063e-01, -2.78138719e-01,\n",
       "       -7.67781032e-01, -3.09236000e-01,  4.24916879e-02,  1.35106829e+00,\n",
       "       -1.46126778e+00, -1.11527627e+00, -1.82958780e+00,  3.54458034e-01,\n",
       "       -1.13628198e+00,  1.80348596e+00,  1.34801893e+00, -1.06101646e-01,\n",
       "       -1.36696773e+00, -1.65258143e-01, -5.52314335e-01,  2.24389480e-01,\n",
       "       -3.01714076e-01, -1.85539192e-01, -7.32653450e-01, -9.74172278e-02,\n",
       "        1.78555210e+00, -1.39112001e+00,  1.64430820e+00,  1.85676805e+00,\n",
       "        9.70647337e-01, -2.35971640e-01,  2.21774443e+00,  9.98559688e-01,\n",
       "       -3.00406821e-01,  3.71471660e+00,  1.60172589e+00, -1.21455813e+00,\n",
       "        2.03333954e+00, -9.15531672e-01, -8.79124796e-01, -7.76768884e-01,\n",
       "        2.21068983e-01, -1.35432748e+00, -1.78439083e+00, -3.31613829e-01,\n",
       "       -5.78660365e-01,  1.50106161e+00, -9.63712674e-02, -9.09121970e-01,\n",
       "       -1.94596608e-01,  8.36452935e-01,  2.92283398e+00,  1.91461085e+00,\n",
       "        1.23367663e+00, -9.12944645e-01, -7.80091673e-03,  4.97081788e-01,\n",
       "       -2.51605929e-01, -1.04097507e+00,  3.83120441e-01,  1.08932251e+00,\n",
       "       -1.29470233e+00, -1.63538190e+00,  1.09767259e+00, -1.69176566e-01,\n",
       "        7.63147737e-01, -1.40620870e+00,  1.06487694e-01,  2.35276909e-01,\n",
       "       -4.04413547e-01, -2.89282097e-01,  7.53775072e-01,  1.23953977e+00,\n",
       "       -2.61278665e-02, -9.58191246e-01,  1.11281916e+00, -1.05502073e+00,\n",
       "        5.76704215e-01, -2.33811116e-01,  1.18095700e+00, -1.00133200e+00,\n",
       "        9.51219481e-01, -2.18307360e+00, -8.24819956e-01,  1.63327836e+00,\n",
       "       -1.37695697e-01, -1.65834601e+00, -2.97436362e-01,  1.29915390e+00,\n",
       "        1.15975258e+00, -2.17842652e+00, -1.13062139e+00,  1.84959774e-01,\n",
       "       -6.91941595e-01,  5.42714472e-01, -1.66473602e-01,  2.09182296e-01,\n",
       "       -1.73359498e-01, -6.47731410e-01, -6.93703438e-01,  1.81164880e-01,\n",
       "       -2.90446932e+00, -1.29377104e+00, -2.65887266e+00,  2.12120814e-01,\n",
       "       -1.98060504e+00, -1.72473045e-01, -7.65704166e-01, -1.48583397e-01,\n",
       "        7.94805220e-01, -5.00042162e-02, -1.02483026e+00, -2.70094075e+00,\n",
       "       -7.21881246e-01,  1.73016098e+00, -1.08527849e+00,  1.91232109e+00,\n",
       "       -4.01948402e-02, -2.37863639e+00,  1.95365898e+00, -5.70539248e-01,\n",
       "        2.25688959e+00,  8.05919477e-01,  1.98821760e-01, -1.75950602e+00,\n",
       "        9.48605880e-01, -4.24375216e-01,  7.27081228e+00, -1.35930844e+00,\n",
       "        1.60051361e-01, -1.25261603e+00,  5.42288769e-01, -3.30755728e-02,\n",
       "       -3.07016146e-01,  6.05927646e-01, -2.05055520e+00,  2.82393617e+00,\n",
       "       -6.17908413e-01,  1.81786912e+00,  4.53808192e-02, -1.41156294e+00,\n",
       "        5.52244396e-01,  1.23559641e+00, -8.56705563e-01,  2.68437536e-01,\n",
       "        5.89361999e-01,  5.96726487e-01,  4.79833148e-01, -9.20248668e-02,\n",
       "        4.72167166e-01,  3.05744200e-01,  7.77069594e-01, -9.16604206e-01,\n",
       "       -1.59100566e+00,  2.18673148e+00,  1.31896727e+00, -8.24429477e-01,\n",
       "       -2.35720653e+00,  1.30498585e-01,  2.09613566e-01,  2.64141267e+00,\n",
       "        3.44936547e-01,  1.23206377e-01,  4.58740374e-01,  7.09211870e-01,\n",
       "        1.94356607e+00,  2.24961616e-01,  6.68069230e-01, -6.56066431e-01,\n",
       "       -1.61284036e+00, -2.16970763e+00,  1.94381609e-01,  3.08103870e-01,\n",
       "        4.75507462e-01, -1.79516364e+00,  2.63851095e+00, -7.76462947e-01,\n",
       "        1.19045710e+00, -3.46596298e-01, -2.67807573e+00, -1.02560152e+00,\n",
       "       -2.49051510e+00,  5.48903626e-03, -7.03871319e-01,  1.77429955e+00,\n",
       "        7.50159301e-01,  3.41423753e+00, -2.14428818e+00, -5.20550573e-01,\n",
       "       -1.58950010e+00,  2.44203648e-01, -2.75954039e+00,  6.39614077e-01,\n",
       "       -6.84366780e-01, -4.83929880e-02, -1.02544722e-01,  2.33243528e+00,\n",
       "       -2.51653889e-01,  2.21569362e+00, -5.69140858e-01,  3.04434903e+00,\n",
       "       -7.98710420e-01,  1.85209692e-01,  1.14316238e+00,  1.49993541e-01,\n",
       "       -7.10454980e-01, -1.10926429e+00, -4.29404133e-01, -2.16772178e+00,\n",
       "        5.62773314e-01, -3.38159921e+00, -5.39942654e-01, -1.12950679e+00,\n",
       "        9.99163478e-01, -1.15698062e+00, -9.61733463e-02,  4.28330012e-01,\n",
       "        6.88549419e-01,  7.01664590e-02, -5.11159858e-02, -3.53353206e-01,\n",
       "        1.77608593e+00,  1.45976039e+00,  5.99009210e-01,  3.41908974e-01,\n",
       "        4.32779045e+00, -3.61354830e-01,  1.20645865e+00, -2.61621939e-01,\n",
       "        6.41387061e-01, -4.25316688e+00, -1.71813196e+00, -8.44188937e-01,\n",
       "       -1.98522995e+00,  1.27696378e+00, -5.44080215e-01, -6.53927975e-01,\n",
       "       -2.27573055e+00,  9.01002579e-01,  8.76322311e-01,  1.66967766e+00,\n",
       "        5.77560894e-01, -4.13906761e-01,  2.44861154e+00, -6.94305926e-01,\n",
       "       -5.77295274e-01,  2.32750112e-01, -2.50826175e-01,  1.24633808e+00,\n",
       "       -2.32115884e+00,  7.70171558e-01, -1.53667742e+00, -9.20276810e-01,\n",
       "        1.10890396e+00,  9.36259448e-01,  7.68536371e-01,  9.99825083e-01,\n",
       "        1.06199332e-01, -1.57703407e-01,  2.51015730e+00,  5.17107682e-01,\n",
       "        1.72278154e-01,  3.83414608e-03, -8.72115339e-01,  1.63481137e+00,\n",
       "       -6.87042532e-01, -1.98267251e+00,  3.42571536e-01,  1.47759595e+00,\n",
       "       -1.78598052e+00,  2.37793897e+00,  1.35926859e+00,  5.21747558e-01,\n",
       "        3.56825844e-02, -1.22011194e+00,  4.66640922e-02, -1.86747432e+00,\n",
       "       -4.99790777e-01,  7.56945704e-01,  1.36843172e-01,  9.56716965e-01,\n",
       "        2.77531406e+00, -1.21536136e-01, -1.09020345e+00,  1.67084135e-01,\n",
       "        1.49254198e+00, -1.75790560e-01,  3.02209580e-01,  1.75285681e+00,\n",
       "        5.89643547e-01, -6.75127771e-02, -2.26065719e+00, -1.86591900e+00,\n",
       "       -1.58309231e+00, -2.57700919e-01, -9.38522544e-01, -1.00078252e-01,\n",
       "       -2.09961717e-01, -8.63869226e-02,  3.58387808e-01,  3.77466108e-01,\n",
       "       -7.12109433e-01,  8.39752214e-01,  1.40346351e+00, -2.66065644e-01,\n",
       "       -1.20434869e+00,  3.08995024e-01,  3.13368508e+00, -4.14994650e-01,\n",
       "        8.91408197e-01, -1.14577369e+00, -3.01728930e-01,  5.33800830e-01,\n",
       "       -1.58819988e+00, -1.47193413e+00,  1.91109057e+00, -1.95092521e-01,\n",
       "       -1.93900509e+00,  4.92454066e-01,  1.00323161e+00, -4.35479929e-03,\n",
       "        1.42073085e-01,  1.20494730e-01, -6.77389406e-01,  1.08049725e-01,\n",
       "        5.67755083e-01,  4.21570599e-01, -1.10783733e+00,  3.51762036e-01,\n",
       "        3.43053384e-01, -1.69857337e+00, -9.03892082e-02,  3.88116995e-01,\n",
       "       -4.89067709e-01,  3.21288272e-01,  1.21712070e-01, -5.01154939e-01,\n",
       "       -1.42885424e+00,  7.98219234e-01,  2.44611748e-01, -7.47218306e-01,\n",
       "       -5.00961266e-01,  4.65958645e-01,  1.94681454e-01, -1.25594369e-01,\n",
       "       -4.20823647e-01,  6.33160330e-01, -3.06905725e-01, -7.29721941e-02,\n",
       "       -1.05761270e+00, -3.32487443e+00,  5.31095401e-01,  2.95350350e-01,\n",
       "        1.57391081e+00,  7.67792995e-01,  8.53170535e-01, -3.02222290e-01,\n",
       "        5.13254121e-01, -3.39050134e-01, -1.79009663e+00,  6.74196258e-01,\n",
       "       -2.07448401e-01,  6.89389745e-01, -8.75263778e-01,  3.75320870e-01,\n",
       "        6.58646241e-02, -1.00849421e-01, -7.05380005e-03, -1.90908820e-01,\n",
       "       -7.19916629e-03, -2.26399634e-01,  5.55733622e-01,  3.61538939e-01,\n",
       "        9.30885412e-01,  6.20615625e-01,  1.84371860e+00, -2.00165718e+00,\n",
       "       -2.84169708e-01, -1.95924640e+00, -2.48491848e-01, -1.20262042e-01,\n",
       "       -4.51148812e-01,  2.85905227e+00,  1.53178657e+00,  1.01621374e+00,\n",
       "       -1.58932171e-01, -2.57448181e+00,  6.14321465e-01,  2.73589498e-01,\n",
       "        1.80482840e+00, -1.95936577e+00, -4.48561550e-01,  5.14072234e-01,\n",
       "       -1.26424993e-01,  7.62847420e-01, -1.25608600e-01,  1.61849458e+00,\n",
       "       -1.49510179e+00,  6.83317798e-01,  1.25230540e-02, -3.80125941e+00,\n",
       "       -1.92644751e-01,  5.76999266e-01,  8.68585681e-01, -3.10545198e-01,\n",
       "       -4.89924454e-01,  3.10130467e-01,  9.59987737e-02,  1.75727979e-01,\n",
       "       -1.95603718e-01,  6.26674371e-01, -3.00309890e-02, -1.82705144e-02,\n",
       "        1.50796311e-01,  7.63486262e-01, -1.78605991e-01, -5.91006669e-01,\n",
       "        2.33037984e-01, -7.19313584e-01, -6.29851941e-03,  2.39384103e-01,\n",
       "        2.23209746e-02, -2.27649662e+00, -1.15292468e+00, -5.07281202e-01,\n",
       "        2.57983446e-01,  2.45350744e+00,  1.33331172e+00,  2.04769646e+00,\n",
       "        1.92765909e+00, -1.92028600e+00, -1.64539251e+00, -9.78867392e-02,\n",
       "        3.44139086e-01, -1.98314033e-01, -1.51364081e-01,  5.95123960e-01,\n",
       "       -4.60699294e-01,  1.37570136e-01,  4.41384837e-01, -1.49184127e+00,\n",
       "        1.99506194e+00,  2.39646326e-01,  1.72592663e+00, -1.03386675e+00,\n",
       "        6.47466424e-01,  3.83813784e-02, -7.06423936e-02, -5.18543676e-01,\n",
       "       -1.35697201e+00, -3.73067810e+00, -1.90250125e-01, -6.38004488e-01,\n",
       "       -1.27451240e+00, -5.50904845e-01, -1.82608079e+00, -4.15271506e-01,\n",
       "        3.02013896e-01, -1.01190616e-01, -2.80421144e+00, -1.58079350e-01,\n",
       "       -1.91144823e+00, -5.03391956e-01, -8.03931220e-01,  2.57982827e-01,\n",
       "        6.38965072e-01,  2.18768521e+00,  2.20641982e+00, -1.52973708e-01,\n",
       "        1.46287874e-01, -1.20440938e-02,  9.47819456e-02, -1.57708195e+00,\n",
       "        4.09660648e-01, -9.10468604e-01,  5.36923036e-01,  6.30431850e-01,\n",
       "        1.58464834e-01,  2.89091942e+00,  1.37170725e-01,  1.55892457e+00,\n",
       "       -7.62134713e-01, -1.60574725e+00,  1.81963186e-01, -2.50855370e-01,\n",
       "        7.74944915e-01,  6.10070470e-01,  1.34326853e-01,  3.65832319e-02,\n",
       "       -4.89559030e-01, -1.39221619e+00, -1.38914116e+00, -6.72760309e-01,\n",
       "        8.73595865e-01, -2.15562422e-01,  9.17824474e-01,  6.90055210e-01,\n",
       "        3.57337183e+00, -2.87409535e-02, -8.79386476e-01,  5.48005831e-02,\n",
       "       -4.22711155e-01,  2.24647547e+00,  4.57020761e-01,  8.13191639e-01,\n",
       "       -1.04859702e+00, -7.02340351e-01, -3.13742286e+00,  1.11513918e+00,\n",
       "        6.93934150e-01, -2.11756348e+00, -4.10952425e-01, -9.09915675e-01,\n",
       "        1.72144421e+00,  1.40917715e-01,  7.51292890e-01,  9.39809785e-01,\n",
       "       -8.27093244e-02, -7.32031670e-01,  3.41022351e-01,  4.67543987e-01,\n",
       "        8.73178590e-01,  4.06210966e-01,  2.89014571e-01, -3.37781580e+00,\n",
       "        4.13401241e-02,  2.98695981e-01,  1.16604576e+00, -8.77970231e-02,\n",
       "       -2.03815968e+00,  1.15984664e+00, -3.08609737e-01, -9.36435430e-01,\n",
       "        5.42792426e-01, -3.49808196e+00, -4.52704936e-02, -1.75214592e-01,\n",
       "        2.19675244e+00,  2.76063239e+00,  1.39832212e-02, -7.94424531e-01,\n",
       "        4.01523794e-01,  2.04180210e-01, -2.40688029e+00, -2.07561122e+00,\n",
       "        1.59559912e+00, -1.91521960e+00, -1.24432502e+00,  3.18419081e-01,\n",
       "        2.81731951e+00,  2.05898286e-01, -3.59400983e-01, -1.70240151e-01,\n",
       "       -4.41285898e-03, -2.10009035e-01,  3.97327067e-01,  8.94850687e-01,\n",
       "       -3.68634274e-01, -2.98059710e-01, -7.96867882e-02,  3.09494979e+00,\n",
       "       -1.71626181e+00, -3.61775145e-02,  1.15905201e-01,  3.74190817e-01,\n",
       "       -1.10384506e-01, -8.46595010e-01,  2.83162760e-01,  8.89200606e-02,\n",
       "        6.90277899e-02, -4.03402357e-01, -5.37452577e-01,  9.50254677e-02,\n",
       "        1.47351414e-01, -3.28068840e+00,  3.53814845e-01,  4.28327965e-01,\n",
       "       -7.76877426e-01, -7.92633603e-02, -9.94576360e-01, -2.33736547e+00,\n",
       "       -5.23138426e-02, -8.79715937e-01, -6.20935408e-01,  9.28971122e-01,\n",
       "        1.43875531e-01,  7.71022447e-01,  1.16257304e+00, -2.96171791e-01,\n",
       "       -5.82850853e-01, -2.73002022e-01,  1.83160520e+00, -1.88041733e+00,\n",
       "        1.85635218e+00,  2.24935902e+00,  2.35096313e+00,  1.09960502e+00,\n",
       "       -3.21376291e-01,  1.28415321e-01,  8.37988941e-02,  2.57828733e+00,\n",
       "        1.48162132e+00,  1.48721099e+00, -6.04307995e-02, -1.50206712e+00,\n",
       "        3.01416522e+00, -7.97614728e-01, -9.86184321e-01,  4.40576211e-01,\n",
       "        3.14338314e-01,  6.52164101e-01, -2.50432091e-01, -1.02637352e+00,\n",
       "       -5.78678127e-02,  2.51894898e-03,  8.14708860e-01,  1.61280016e+00,\n",
       "       -7.30237628e-01,  3.27204065e-02, -9.22932966e-01,  4.24639586e-01,\n",
       "        2.60458711e+00, -1.53009911e+00,  2.14060031e-01, -6.37010138e-01,\n",
       "       -8.39413379e-02,  1.66493783e-02,  1.32817415e+00, -1.45793837e+00,\n",
       "        3.48753403e-01, -4.78578246e-02,  1.20712111e+00, -1.62192442e+00,\n",
       "        1.23496678e+00,  1.75079868e-01, -6.46373973e-01,  1.74763533e+00,\n",
       "       -3.93565970e-01, -1.67103128e+00,  1.91955993e+00,  2.53518765e+00,\n",
       "       -1.33678915e-01,  7.66437538e-01, -2.03300056e+00,  8.16604146e-01,\n",
       "       -1.00184181e+00,  7.00096949e-01, -8.44926731e-01,  3.32524506e-02,\n",
       "       -1.17088929e+00, -3.59599650e+00, -6.97056151e-01,  1.08234498e+00,\n",
       "        1.39589152e+00,  3.16935475e-01, -2.69763091e+00, -1.55604368e+00,\n",
       "       -2.60022154e+00,  1.15263737e-01,  2.10856666e-02, -1.47838989e+00,\n",
       "       -4.85806123e+00,  6.21379049e-01,  1.21614378e+00, -5.73225097e-01,\n",
       "        3.26525377e-01, -1.12263344e+00, -6.68724350e-01,  1.39025748e+00,\n",
       "       -2.21735325e+00,  2.39884718e-01,  1.30356490e+00, -3.01014856e+00,\n",
       "       -7.23100532e-02, -8.19229479e-01,  1.20840837e+00, -1.06443992e+00,\n",
       "       -5.38090787e-01, -3.96728998e-01, -1.00150767e+00, -2.93204758e+00,\n",
       "       -2.04604151e+00, -4.88098187e-01,  4.34148076e-01, -4.07383532e-01,\n",
       "       -3.97533221e-01, -5.90961143e-01, -6.04353817e-03, -3.67927498e-01,\n",
       "        7.83755186e-01, -1.71724953e-01, -4.42257752e-01, -2.40718138e-01,\n",
       "       -1.95254884e+00,  8.53012821e-01, -1.18976118e-01,  1.50628102e+00,\n",
       "        7.65860882e-01,  1.27766920e-01,  3.67787930e+00,  6.58583751e-01,\n",
       "        1.16553651e-01,  2.72974059e+00, -4.49104913e-01,  1.04931732e+00,\n",
       "        8.33766176e-01, -7.94865250e-01,  7.68697601e-01,  1.95620688e+00,\n",
       "       -1.24095510e+00, -7.68356653e-01, -8.26609736e-01,  7.58132135e-01,\n",
       "        1.44849556e+00,  2.46563421e-01, -1.44057989e+00,  2.44362336e+00,\n",
       "        5.23503437e-02,  4.72087158e-01, -2.91429276e+00,  4.63883329e-01,\n",
       "        2.14444864e+00, -8.58233537e-01,  1.02236139e+00, -2.55689651e+00,\n",
       "       -9.76968234e-02,  1.66224189e+00, -1.07588498e+00, -3.95372874e-01,\n",
       "       -9.94462569e-01, -3.22826327e-01, -4.83101652e-01,  9.89954275e-01,\n",
       "        7.53790119e-01,  1.22538601e+00, -2.07702861e+00, -1.58399806e+00,\n",
       "       -1.24299901e-01,  2.50127137e+00,  1.86978432e+00,  7.46539283e-01,\n",
       "       -1.89556402e+00,  1.32760497e+00,  1.51627078e-01,  7.57736279e-01,\n",
       "       -5.00949045e-01, -2.20074088e-01,  1.93960819e-01, -4.35103910e-01,\n",
       "        1.17542468e+00, -9.45055565e-01,  2.13933634e+00,  3.25278262e-01,\n",
       "       -2.16651969e+00,  8.08815248e-01,  1.16027377e+00,  5.60305019e-01,\n",
       "       -2.17087212e+00,  1.37986610e+00,  3.04123894e-01,  1.52828061e+00,\n",
       "       -1.09070870e-01, -6.92503156e-03, -3.34652122e-02, -1.36099062e+00,\n",
       "        6.35571707e-01,  2.93221938e+00,  1.76063279e+00, -6.13314678e-01,\n",
       "        5.73361602e-01,  6.94889689e-02,  1.84075113e+00, -6.55065100e-01])"
      ]
     },
     "execution_count": 3,
     "metadata": {},
     "output_type": "execute_result"
    }
   ],
   "source": [
    "s"
   ]
  },
  {
   "cell_type": "code",
   "execution_count": 11,
   "metadata": {
    "scrolled": false
   },
   "outputs": [
    {
     "data": {
      "image/png": "[encoded data removed]",
      "text/plain": [
       "<Figure size 432x288 with 1 Axes>"
      ]
     },
     "metadata": {},
     "output_type": "display_data"
    }
   ],
   "source": [
    "# Plot Gaussian for comparison:\n",
    "import numpy as np\n",
    "loc, scale = 0., 1.\n",
    "s = np.random.laplace(loc, scale, 1000)\n",
    "g = (1/(scale * np.sqrt(2 * np.pi)) * np.exp(-(x - loc)**2 / (2 * scale**2)))\n",
    "plt.plot(x,g)\n",
    "plt.style.use(\"ggplot\")\n",
    "plt.show()\n"
   ]
  },
  {
   "cell_type": "code",
   "execution_count": null,
   "metadata": {
    "scrolled": false
   },
   "outputs": [],
   "source": []
  },
  {
   "cell_type": "markdown",
   "metadata": {},
   "source": [
    "### 3.5 numpy.random.poisson function"
   ]
  },
  {
   "cell_type": "markdown",
   "metadata": {},
   "source": [
    "numpy.random.poisson\n",
    "numpy.random.poisson(lam=1.0, size=None)\n",
    "Draw samples from a Poisson distribution.\n",
    "\n",
    "The Poisson distribution is the limit of the binomial distribution for large N.\n",
    "https://numpy.org/devdocs/reference/random/generated/numpy.random.poisson.html"
   ]
  },
  {
   "cell_type": "code",
   "execution_count": 8,
   "metadata": {
    "scrolled": false
   },
   "outputs": [],
   "source": [
    "# Draw samples from the distribution:\n",
    "\n",
    "import numpy as np\n",
    "s = np.random.poisson(5, 10000)\n"
   ]
  },
  {
   "cell_type": "code",
   "execution_count": 9,
   "metadata": {
    "scrolled": false
   },
   "outputs": [
    {
     "data": {
      "text/plain": [
       "array([7, 6, 2, ..., 5, 5, 4])"
      ]
     },
     "execution_count": 9,
     "metadata": {},
     "output_type": "execute_result"
    }
   ],
   "source": [
    "s"
   ]
  },
  {
   "cell_type": "code",
   "execution_count": 12,
   "metadata": {
    "scrolled": false
   },
   "outputs": [
    {
     "data": {
      "image/png": "[encoded data removed]",
      "text/plain": [
       "<Figure size 432x288 with 1 Axes>"
      ]
     },
     "metadata": {},
     "output_type": "display_data"
    }
   ],
   "source": [
    "# Display histogram of the sample:\n",
    "\n",
    "import matplotlib.pyplot as plt\n",
    "count, bins, ignored = plt.hist(s, 14, density=True)\n",
    "plt.style.use(\"ggplot\")\n",
    "plt.show()\n"
   ]
  },
  {
   "cell_type": "code",
   "execution_count": 11,
   "metadata": {
    "scrolled": false
   },
   "outputs": [],
   "source": [
    "# Draw each 100 values for lambda 100 and 500:\n",
    "s = np.random.poisson(lam=(100., 500.), size=(100, 2))\n"
   ]
  },
  {
   "cell_type": "code",
   "execution_count": 12,
   "metadata": {
    "scrolled": true
   },
   "outputs": [
    {
     "data": {
      "text/plain": [
       "array([[ 94, 505],\n",
       "       [124, 514],\n",
       "       [104, 492],\n",
       "       [ 92, 525],\n",
       "       [112, 521],\n",
       "       [ 99, 486],\n",
       "       [116, 486],\n",
       "       [ 99, 530],\n",
       "       [104, 489],\n",
       "       [121, 487],\n",
       "       [107, 491],\n",
       "       [112, 505],\n",
       "       [ 97, 480],\n",
       "       [ 88, 491],\n",
       "       [128, 497],\n",
       "       [ 90, 495],\n",
       "       [110, 471],\n",
       "       [115, 467],\n",
       "       [109, 491],\n",
       "       [ 87, 511],\n",
       "       [122, 536],\n",
       "       [119, 515],\n",
       "       [ 99, 474],\n",
       "       [102, 498],\n",
       "       [ 96, 486],\n",
       "       [102, 486],\n",
       "       [107, 478],\n",
       "       [105, 500],\n",
       "       [ 93, 507],\n",
       "       [ 92, 513],\n",
       "       [ 95, 493],\n",
       "       [ 92, 526],\n",
       "       [102, 516],\n",
       "       [ 94, 496],\n",
       "       [ 89, 515],\n",
       "       [115, 468],\n",
       "       [ 98, 499],\n",
       "       [113, 506],\n",
       "       [107, 527],\n",
       "       [102, 518],\n",
       "       [ 89, 483],\n",
       "       [ 97, 500],\n",
       "       [ 77, 497],\n",
       "       [ 96, 470],\n",
       "       [ 77, 489],\n",
       "       [100, 538],\n",
       "       [ 81, 563],\n",
       "       [108, 509],\n",
       "       [105, 502],\n",
       "       [100, 501],\n",
       "       [ 97, 530],\n",
       "       [ 95, 518],\n",
       "       [105, 502],\n",
       "       [ 99, 464],\n",
       "       [110, 529],\n",
       "       [ 98, 456],\n",
       "       [111, 505],\n",
       "       [ 95, 513],\n",
       "       [105, 511],\n",
       "       [103, 499],\n",
       "       [121, 517],\n",
       "       [113, 496],\n",
       "       [110, 513],\n",
       "       [ 96, 464],\n",
       "       [103, 516],\n",
       "       [107, 489],\n",
       "       [ 97, 502],\n",
       "       [ 95, 459],\n",
       "       [ 97, 478],\n",
       "       [ 92, 498],\n",
       "       [ 89, 493],\n",
       "       [ 87, 474],\n",
       "       [ 97, 490],\n",
       "       [ 89, 479],\n",
       "       [102, 502],\n",
       "       [ 96, 471],\n",
       "       [ 71, 489],\n",
       "       [ 98, 515],\n",
       "       [ 92, 510],\n",
       "       [ 90, 506],\n",
       "       [117, 485],\n",
       "       [ 92, 508],\n",
       "       [ 84, 511],\n",
       "       [ 84, 502],\n",
       "       [114, 495],\n",
       "       [116, 485],\n",
       "       [121, 478],\n",
       "       [105, 501],\n",
       "       [114, 521],\n",
       "       [104, 499],\n",
       "       [ 93, 491],\n",
       "       [ 94, 476],\n",
       "       [104, 487],\n",
       "       [106, 525],\n",
       "       [ 86, 551],\n",
       "       [104, 512],\n",
       "       [109, 449],\n",
       "       [100, 503],\n",
       "       [ 94, 511],\n",
       "       [108, 479]])"
      ]
     },
     "execution_count": 12,
     "metadata": {},
     "output_type": "execute_result"
    }
   ],
   "source": [
    "s"
   ]
  },
  {
   "cell_type": "markdown",
   "metadata": {},
   "source": [
    "### 3.6 gamma(shape[, scale, size])\n",
    "\n",
    "This function is used to draw sample from a Gamma distribution.\n",
    "https://www.javatpoint.com/numpy-random\n"
   ]
  },
  {
   "cell_type": "code",
   "execution_count": 18,
   "metadata": {
    "scrolled": false
   },
   "outputs": [
    {
     "data": {
      "image/png": "[encoded data removed]",
      "text/plain": [
       "<Figure size 432x288 with 1 Axes>"
      ]
     },
     "metadata": {},
     "output_type": "display_data"
    }
   ],
   "source": [
    "# https://www.javatpoint.com/numpy-random\n",
    "import numpy as np  \n",
    "shape, scale = 2., 2.  \n",
    "s1 = np.random.gamma(shape, scale, 1000)  \n",
    "import matplotlib.pyplot as plt  \n",
    "import scipy.special as spss  \n",
    "count, bins, ignored = plt.hist(s1, 50, density=True)  \n",
    "a = bins**(shape-1)*(np.exp(-bins/scale) / (spss.gamma(shape)*scale**shape))  \n",
    "plt.plot(bins, a, linewidth=2, color='g')  \n",
    "plt.style.use(\"ggplot\")\n",
    "plt.show()  \n"
   ]
  },
  {
   "cell_type": "code",
   "execution_count": 16,
   "metadata": {
    "scrolled": false
   },
   "outputs": [
    {
     "data": {
      "image/png": "[encoded data removed]",
      "text/plain": [
       "<Figure size 432x288 with 1 Axes>"
      ]
     },
     "metadata": {},
     "output_type": "display_data"
    }
   ],
   "source": [
    "import numpy as np  \n",
    "shape, scale = 5., 5.  \n",
    "s1 = np.random.gamma(shape, scale, 100)  # with size decreased at 100.\n",
    "import matplotlib.pyplot as plt  \n",
    "import scipy.special as spss  \n",
    "count, bins, ignored = plt.hist(s1, 30, density=True) # scale decreased at 30. \n",
    "a = bins**(shape-1)*(np.exp(-bins/scale) / (spss.gamma(shape)*scale**shape))  \n",
    "plt.plot(bins, a, linewidth=2, color='b')  \n",
    "plt.style.use(\"ggplot\")\n",
    "plt.show()  \n"
   ]
  },
  {
   "cell_type": "markdown",
   "metadata": {},
   "source": [
    "### 4. Explain the use of seeds in generating pseudorandom numbers. "
   ]
  },
  {
   "cell_type": "markdown",
   "metadata": {},
   "source": [
    "### 4.1 RandomState and Random Generator  "
   ]
  },
  {
   "cell_type": "markdown",
   "metadata": {},
   "source": [
    "RandomState contains Mersenne Twister pseudo-random number generator and is formulated as class numpy.random.RandomState (seed=None). RandomState provides diverse methods dedicated to generating random numbers sourced from a range of probability distributions (SciPy.org, 2020). Random Generator offers entry to a variety of distributions and is used as a substitute for RandomState (NumPy.org, 2020). The point of demarcation between Generator and RandomState is that the former uses supplementary BitGenerator to deal with state and produce the random bits which are consequently converted into random values from functional distributions; but the latter do not (NumPy.org, 2020).     \n"
   ]
  },
  {
   "cell_type": "markdown",
   "metadata": {},
   "source": [
    "#### 4.1.1 numpy.random.RandomState\n",
    "\n",
    "#### class numpy.random.RandomState\n",
    "Container for the Mersenne Twister pseudo-random number generator.\n",
    "https://het.as.utexas.edu/HET/Software/Numpy/reference/generated/numpy.random.RandomState.html"
   ]
  },
  {
   "cell_type": "markdown",
   "metadata": {},
   "source": [
    "#### numpy.random.seed\n",
    "numpy.random.seed(seed=None)\n",
    "seed : {None, int, array_like}, optional"
   ]
  },
  {
   "cell_type": "code",
   "execution_count": 32,
   "metadata": {
    "scrolled": false
   },
   "outputs": [
    {
     "name": "stdout",
     "output_type": "stream",
     "text": [
      "Random number with seed 30\n",
      "first Number  42\n",
      "Second Number  42\n",
      "Third Number  42\n"
     ]
    }
   ],
   "source": [
    "# https://pynative.com/python-random-seed/\n",
    "\n",
    "import random\n",
    "\n",
    "print (\"Random number with seed 30\")\n",
    "random.seed(30)\n",
    "print (\"first Number \", random.randint(25,50))\n",
    "\n",
    "random.seed(30)\n",
    "print (\"Second Number \", random.randint(25,50))\n",
    "\n",
    "random.seed(30)\n",
    "print (\"Third Number \", random.randint(25,50))"
   ]
  },
  {
   "cell_type": "code",
   "execution_count": 37,
   "metadata": {
    "scrolled": false
   },
   "outputs": [
    {
     "name": "stdout",
     "output_type": "stream",
     "text": [
      "Random number with system time\n",
      "Random Number 47\n"
     ]
    }
   ],
   "source": [
    "# https://pynative.com/python-random-seed/\n",
    "\n",
    "import random\n",
    "from datetime import datetime\n",
    "\n",
    "print(\"Random number with system time\")\n",
    "random.seed(datetime.now())\n",
    "\n",
    "print(\"Random Number\", random.randint(25, 50))"
   ]
  },
  {
   "cell_type": "code",
   "execution_count": 34,
   "metadata": {
    "scrolled": false
   },
   "outputs": [
    {
     "data": {
      "text/plain": [
       "array([6, 9, 6, 1, 1, 2, 8, 7, 3, 5, 6, 3, 5, 3, 5, 8, 8, 2, 8, 1, 7, 8,\n",
       "       7, 2, 1, 2, 9, 9, 4, 9, 8, 4, 7, 6, 2, 4, 5, 9, 2, 5, 1, 4, 3, 1,\n",
       "       5, 3, 8, 8, 9, 7])"
      ]
     },
     "execution_count": 34,
     "metadata": {},
     "output_type": "execute_result"
    }
   ],
   "source": [
    "# https://www.sharpsightlabs.com/blog/numpy-random-seed/\n",
    "# PSEUDO-RANDOM NUMBERS APPEAR TO BE RANDOM\n",
    "\n",
    "import numpy as np\n",
    "\n",
    "np.random.seed(1)\n",
    "np.random.randint(low = 1, high = 10, size = 50)"
   ]
  },
  {
   "cell_type": "code",
   "execution_count": 35,
   "metadata": {
    "scrolled": false
   },
   "outputs": [
    {
     "data": {
      "text/plain": [
       "array([5, 0, 3, 3, 7])"
      ]
     },
     "execution_count": 35,
     "metadata": {},
     "output_type": "execute_result"
    }
   ],
   "source": [
    "# https://www.sharpsightlabs.com/blog/numpy-random-seed/\n",
    "# GENERATE PSEUDO-RANDOM INTEGERS\n",
    "\n",
    "import numpy as np\n",
    "np.random.seed(0)\n",
    "np.random.randint(10, size = 5)"
   ]
  },
  {
   "cell_type": "code",
   "execution_count": null,
   "metadata": {
    "scrolled": false
   },
   "outputs": [],
   "source": [
    "# https://www.sharpsightlabs.com/blog/numpy-random-seed/\n",
    "# GENERATE PSEUDO-RANDOM INTEGERS AGAIN"
   ]
  },
  {
   "cell_type": "code",
   "execution_count": 11,
   "metadata": {
    "scrolled": false
   },
   "outputs": [
    {
     "data": {
      "text/plain": [
       "array([12,  5,  0,  3, 11,  3,  7,  9])"
      ]
     },
     "execution_count": 11,
     "metadata": {},
     "output_type": "execute_result"
    }
   ],
   "source": [
    "import numpy as np\n",
    "np.random.seed(0) # the position we are at.\n",
    "np.random.randint(15, size = 8) # produce randomly eight numbers in a range of 0-15."
   ]
  },
  {
   "cell_type": "markdown",
   "metadata": {},
   "source": [
    "<cr>"
   ]
  },
  {
   "cell_type": "code",
   "execution_count": 8,
   "metadata": {
    "scrolled": false
   },
   "outputs": [],
   "source": [
    "# Random sampling (numpy.random)\n",
    "# Quick Start Generator \n",
    "# https://numpy.org/devdocs/reference/random/index.html\n",
    "\n",
    "# Do this (new version)\n",
    "from numpy.random import default_rng\n",
    "rng = default_rng()\n",
    "vals = rng.standard_normal(10)\n",
    "more_vals = rng.standard_normal(10)\n"
   ]
  },
  {
   "cell_type": "code",
   "execution_count": 11,
   "metadata": {},
   "outputs": [
    {
     "data": {
      "text/plain": [
       "array([-1.46831137, -1.40317375, -0.40528467, -0.65664747,  0.71744763,\n",
       "       -1.24078931, -1.14003556, -0.09993933,  0.15339764,  0.44644542])"
      ]
     },
     "execution_count": 11,
     "metadata": {},
     "output_type": "execute_result"
    }
   ],
   "source": [
    "vals"
   ]
  },
  {
   "cell_type": "code",
   "execution_count": 12,
   "metadata": {},
   "outputs": [
    {
     "data": {
      "text/plain": [
       "array([-0.28182868, -1.43700022, -1.90689736,  0.99841152,  0.12136691,\n",
       "        0.74893746, -0.11312181, -0.37003359,  1.56081161, -1.4952501 ])"
      ]
     },
     "execution_count": 12,
     "metadata": {},
     "output_type": "execute_result"
    }
   ],
   "source": [
    "more_vals"
   ]
  },
  {
   "cell_type": "markdown",
   "metadata": {},
   "source": [
    "### 4.2 Bit Generator and PCG 64 algorithm \n",
    "BitGenerator is the source from which Generator produces the random values. The BitGenerators have no attributes for random numbers production; but deliver methods for seeding, setting the state, jumping the state […] (Numpy.org, 2020).  The Permutated Congruential Generator (PCG) 64   is one of the supported BitGenerators, and it is the default BitGenerator used by Generator, as numpy.random.default_rng () (Numpy.org. 2020). \n",
    "PCG is defined as a new uniform pseudorandom number generation system that is fundamentally useful and statistically excellent. It outperforms usual general-purpose generator because of its features: solid mathematical foundations, good time and space performance, minimal code size, various random streams and enhanced cryptographic (O’Neill, 2014)\n"
   ]
  },
  {
   "cell_type": "markdown",
   "metadata": {},
   "source": [
    "### numpy.random.default_rng()\n",
    "Construct a new Generator with the default BitGenerator (PCG64).\n",
    "https://numpy.org/devdocs/reference/random/generator.html"
   ]
  },
  {
   "cell_type": "code",
   "execution_count": 5,
   "metadata": {
    "scrolled": false
   },
   "outputs": [
    {
     "data": {
      "text/plain": [
       "array([0, 1, 1, 1, 0, 1, 0, 1, 0, 0], dtype=int64)"
      ]
     },
     "execution_count": 5,
     "metadata": {},
     "output_type": "execute_result"
    }
   ],
   "source": [
    "# https://numpy.org/devdocs/reference/random/generator.html\n",
    "import numpy as np\n",
    "np.random.bit_generator = np.random._bit_generator\n",
    "rng = np.random.default_rng()\n",
    "rng.integers(2, size=10)\n"
   ]
  },
  {
   "cell_type": "code",
   "execution_count": 18,
   "metadata": {
    "scrolled": false
   },
   "outputs": [
    {
     "data": {
      "text/plain": [
       "array([[0.77395605, 0.43887844, 0.85859792],\n",
       "       [0.69736803, 0.09417735, 0.97562235],\n",
       "       [0.7611397 , 0.78606431, 0.12811363]])"
      ]
     },
     "execution_count": 18,
     "metadata": {},
     "output_type": "execute_result"
    }
   ],
   "source": [
    "# Random Generator \n",
    "# https://numpy.org/devdocs/reference/random/generator.html\n",
    "\n",
    "import numpy as np\n",
    "rng = np.random.default_rng(seed=42)\n",
    "arr2 = rng.random((3, 3))\n",
    "arr2\n"
   ]
  },
  {
   "cell_type": "code",
   "execution_count": 3,
   "metadata": {
    "scrolled": false
   },
   "outputs": [
    {
     "name": "stdout",
     "output_type": "stream",
     "text": [
      "Generator(PCG64)\n"
     ]
    }
   ],
   "source": [
    "# https://numpy.org/devdocs/reference/random/index.html\n",
    "import numpy as np\n",
    "rng = np.random.default_rng(12345)\n",
    "print(rng)"
   ]
  },
  {
   "cell_type": "code",
   "execution_count": 13,
   "metadata": {},
   "outputs": [
    {
     "name": "stdout",
     "output_type": "stream",
     "text": [
      "SeedSequence(\n",
      "    entropy=1234,\n",
      "    n_children_spawned=10,\n",
      ")\n"
     ]
    }
   ],
   "source": [
    "# https://numpy.org/devdocs/reference/random/bit_generators/pcg64.html\n",
    "import numpy as np\n",
    "np.random.bit_generator = np.random._bit_generator\n",
    "from numpy.random import Generator, PCG64, SeedSequence\n",
    "sg = SeedSequence(1234)\n",
    "rg = [Generator(PCG64(s)) for s in sg.spawn(10)]\n",
    "print(sg)"
   ]
  },
  {
   "cell_type": "code",
   "execution_count": 14,
   "metadata": {},
   "outputs": [
    {
     "name": "stdout",
     "output_type": "stream",
     "text": [
      "[Generator(PCG64) at 0x40CAE68, Generator(PCG64) at 0x40CAF28, Generator(PCG64) at 0x62D4028, Generator(PCG64) at 0x62D40E8, Generator(PCG64) at 0x62D41A8, Generator(PCG64) at 0x62D4268, Generator(PCG64) at 0x62D4328, Generator(PCG64) at 0x62D43E8, Generator(PCG64) at 0x62D44A8, Generator(PCG64) at 0x62D4568]\n"
     ]
    }
   ],
   "source": [
    "print(rg)"
   ]
  },
  {
   "cell_type": "code",
   "execution_count": 45,
   "metadata": {
    "scrolled": false
   },
   "outputs": [],
   "source": [
    "rfloat = rng.random()\n"
   ]
  },
  {
   "cell_type": "code",
   "execution_count": 46,
   "metadata": {
    "scrolled": false
   },
   "outputs": [
    {
     "data": {
      "text/plain": [
       "0.7973654573327341"
      ]
     },
     "execution_count": 46,
     "metadata": {},
     "output_type": "execute_result"
    }
   ],
   "source": [
    "rfloat\n"
   ]
  },
  {
   "cell_type": "code",
   "execution_count": 47,
   "metadata": {
    "scrolled": false
   },
   "outputs": [
    {
     "data": {
      "text/plain": [
       "float"
      ]
     },
     "execution_count": 47,
     "metadata": {},
     "output_type": "execute_result"
    }
   ],
   "source": [
    "type(rfloat) "
   ]
  },
  {
   "cell_type": "code",
   "execution_count": 26,
   "metadata": {
    "scrolled": false
   },
   "outputs": [
    {
     "data": {
      "text/plain": [
       "array([6, 2, 7], dtype=int64)"
      ]
     },
     "execution_count": 26,
     "metadata": {},
     "output_type": "execute_result"
    }
   ],
   "source": [
    "# https://numpy.org/devdocs/reference/random/index.html\n",
    "\n",
    "import numpy as np\n",
    "rng = np.random.default_rng(12345)\n",
    "rints = rng.integers(low=0, high=10, size=3)\n",
    "rints\n"
   ]
  },
  {
   "cell_type": "code",
   "execution_count": 29,
   "metadata": {
    "scrolled": false
   },
   "outputs": [
    {
     "name": "stdout",
     "output_type": "stream",
     "text": [
      "0.22733602246716966\n"
     ]
    }
   ],
   "source": [
    "print(rg.random())"
   ]
  },
  {
   "cell_type": "code",
   "execution_count": 15,
   "metadata": {
    "scrolled": false
   },
   "outputs": [
    {
     "name": "stdout",
     "output_type": "stream",
     "text": [
      "Generator(MT19937)\n"
     ]
    }
   ],
   "source": [
    "# https://numpy.org/devdocs/reference/random/index.html\n",
    "from numpy.random import Generator, MT19937\n",
    "rg = Generator(MT19937(12345))\n",
    "print(rg)"
   ]
  },
  {
   "cell_type": "code",
   "execution_count": 16,
   "metadata": {
    "scrolled": false
   },
   "outputs": [
    {
     "data": {
      "text/plain": [
       "-0.46802075775446994"
      ]
     },
     "execution_count": 16,
     "metadata": {},
     "output_type": "execute_result"
    }
   ],
   "source": [
    "from numpy.random import Generator, PCG64\n",
    "rg = Generator(PCG64())\n",
    "rg.standard_normal()"
   ]
  },
  {
   "cell_type": "markdown",
   "metadata": {},
   "source": [
    "<cr>\n",
    "\n",
    "    "
   ]
  },
  {
   "cell_type": "markdown",
   "metadata": {},
   "source": [
    "### 4.3 How to seed with PCG Algorithm"
   ]
  },
  {
   "cell_type": "markdown",
   "metadata": {},
   "source": [
    "### 4.3.1 Simple random data\n",
    "### https://numpy.org/doc/stable/reference/random/generator.html"
   ]
  },
  {
   "cell_type": "markdown",
   "metadata": {},
   "source": [
    "#####  (a) numpy.random.Generator.integers\n",
    "##### https://numpy.org/doc/stable/reference/random/generated/numpy.random.Generator.integers.html#numpy.random.Generator.integers\n"
   ]
  },
  {
   "cell_type": "markdown",
   "metadata": {},
   "source": [
    "##### Generator.integers(low, high=None, size=None, dtype=np.int64, endpoint=False"
   ]
  },
  {
   "cell_type": "code",
   "execution_count": 48,
   "metadata": {
    "scrolled": false
   },
   "outputs": [
    {
     "data": {
      "text/plain": [
       "array([0, 1, 0, 0, 0, 1, 1, 0, 0, 0, 1, 0, 1, 1, 0, 1, 0, 0, 1, 1],\n",
       "      dtype=int64)"
      ]
     },
     "execution_count": 48,
     "metadata": {},
     "output_type": "execute_result"
    }
   ],
   "source": [
    "rng = np.random.default_rng()\n",
    "rng.integers(2, size=20)"
   ]
  },
  {
   "cell_type": "code",
   "execution_count": 49,
   "metadata": {
    "scrolled": false
   },
   "outputs": [
    {
     "data": {
      "text/plain": [
       "array([[3, 4, 8, 5],\n",
       "       [7, 5, 9, 7]], dtype=int64)"
      ]
     },
     "execution_count": 49,
     "metadata": {},
     "output_type": "execute_result"
    }
   ],
   "source": [
    "# Generate a 2 x 4 array of ints between 0 and 9, inclusive:\n",
    "rng.integers(10, size=(2, 4))\n",
    "\n"
   ]
  },
  {
   "cell_type": "code",
   "execution_count": 51,
   "metadata": {
    "scrolled": false
   },
   "outputs": [
    {
     "data": {
      "text/plain": [
       "array([1, 4, 3], dtype=int64)"
      ]
     },
     "execution_count": 51,
     "metadata": {},
     "output_type": "execute_result"
    }
   ],
   "source": [
    "# Generate a 1 x 3 array with 3 different upper bounds\n",
    "\n",
    "rng.integers(1, [3, 5, 10])"
   ]
  },
  {
   "cell_type": "code",
   "execution_count": 52,
   "metadata": {
    "scrolled": false
   },
   "outputs": [
    {
     "data": {
      "text/plain": [
       "array([7, 8, 9], dtype=int64)"
      ]
     },
     "execution_count": 52,
     "metadata": {},
     "output_type": "execute_result"
    }
   ],
   "source": [
    "# Generate a 1 by 3 array with 3 different lower bounds\n",
    "\n",
    "rng.integers([1, 5, 7], 10)"
   ]
  },
  {
   "cell_type": "code",
   "execution_count": 53,
   "metadata": {
    "scrolled": false
   },
   "outputs": [
    {
     "data": {
      "text/plain": [
       "array([[ 4,  9,  9,  9],\n",
       "       [ 1, 12,  9,  9]], dtype=uint8)"
      ]
     },
     "execution_count": 53,
     "metadata": {},
     "output_type": "execute_result"
    }
   ],
   "source": [
    "# Generate a 2 by 4 array using broadcasting with dtype of uint8\n",
    "rng.integers([1, 3, 5, 7], [[10], [20]], dtype=np.uint8)"
   ]
  },
  {
   "cell_type": "markdown",
   "metadata": {},
   "source": [
    "### (b) numpy.random.Generator.random\n",
    "#### Generator.random(size=None, dtype=np.float64, out=None)\n",
    "##### https://numpy.org/doc/stable/reference/random/generated/numpy.random.Generator.random.html#numpy.random.Generator.random"
   ]
  },
  {
   "cell_type": "code",
   "execution_count": 54,
   "metadata": {
    "scrolled": false
   },
   "outputs": [
    {
     "data": {
      "text/plain": [
       "0.8083577362603988"
      ]
     },
     "execution_count": 54,
     "metadata": {},
     "output_type": "execute_result"
    }
   ],
   "source": [
    "rng = np.random.default_rng()\n",
    "rng.random()"
   ]
  },
  {
   "cell_type": "code",
   "execution_count": 55,
   "metadata": {
    "scrolled": false
   },
   "outputs": [
    {
     "data": {
      "text/plain": [
       "float"
      ]
     },
     "execution_count": 55,
     "metadata": {},
     "output_type": "execute_result"
    }
   ],
   "source": [
    "type(rng.random())"
   ]
  },
  {
   "cell_type": "code",
   "execution_count": 56,
   "metadata": {
    "scrolled": false
   },
   "outputs": [
    {
     "data": {
      "text/plain": [
       "array([0.79953263, 0.33297348, 0.74023957, 0.8494213 , 0.01638282])"
      ]
     },
     "execution_count": 56,
     "metadata": {},
     "output_type": "execute_result"
    }
   ],
   "source": [
    "rng.random((5,))"
   ]
  },
  {
   "cell_type": "code",
   "execution_count": 58,
   "metadata": {
    "scrolled": false
   },
   "outputs": [
    {
     "data": {
      "text/plain": [
       "array([[-2.86945763, -3.14776343],\n",
       "       [-0.72493495, -0.9182465 ],\n",
       "       [-2.48053412, -3.71541659]])"
      ]
     },
     "execution_count": 58,
     "metadata": {},
     "output_type": "execute_result"
    }
   ],
   "source": [
    "# Three-by-two array of random numbers from [-5, 0):\n",
    "5 * rng.random((3, 2)) - 5"
   ]
  },
  {
   "cell_type": "markdown",
   "metadata": {},
   "source": [
    "### (c) numpy.random.Generator.choice\n",
    "#### Generator.choice(a, size=None, replace=True, p=None, axis=0, shuffle=True)\n",
    "#### https://numpy.org/doc/stable/reference/random/generated/numpy.random.Generator.choice.html#numpy.random.Generator.choice"
   ]
  },
  {
   "cell_type": "markdown",
   "metadata": {},
   "source": [
    "Generates a random sample from a given 1-D array"
   ]
  },
  {
   "cell_type": "code",
   "execution_count": 59,
   "metadata": {
    "scrolled": false
   },
   "outputs": [
    {
     "data": {
      "text/plain": [
       "array([0, 1, 2], dtype=int64)"
      ]
     },
     "execution_count": 59,
     "metadata": {},
     "output_type": "execute_result"
    }
   ],
   "source": [
    "# Generate a uniform random sample from np.arange(5) of size 3:\n",
    "rng = np.random.default_rng()\n",
    "rng.choice(5, 3)\n",
    "#This is equivalent to rng.integers(0,5,3)"
   ]
  },
  {
   "cell_type": "code",
   "execution_count": 60,
   "metadata": {
    "scrolled": false
   },
   "outputs": [
    {
     "data": {
      "text/plain": [
       "array([3, 3, 2], dtype=int64)"
      ]
     },
     "execution_count": 60,
     "metadata": {},
     "output_type": "execute_result"
    }
   ],
   "source": [
    "# Generate a non-uniform random sample from np.arange(5) of size 3:\n",
    "rng.choice(5, 3, p=[0.1, 0, 0.3, 0.6, 0])"
   ]
  },
  {
   "cell_type": "code",
   "execution_count": 61,
   "metadata": {
    "scrolled": false
   },
   "outputs": [
    {
     "data": {
      "text/plain": [
       "array([2, 3, 1], dtype=int64)"
      ]
     },
     "execution_count": 61,
     "metadata": {},
     "output_type": "execute_result"
    }
   ],
   "source": [
    "# Generate a uniform random sample from np.arange(5) of size 3 without replacement:\n",
    "rng.choice(5, 3, replace=False)\n",
    "#This is equivalent to rng.permutation(np.arange(5))[:3]"
   ]
  },
  {
   "cell_type": "code",
   "execution_count": 62,
   "metadata": {
    "scrolled": false
   },
   "outputs": [
    {
     "data": {
      "text/plain": [
       "array([2, 0, 3], dtype=int64)"
      ]
     },
     "execution_count": 62,
     "metadata": {},
     "output_type": "execute_result"
    }
   ],
   "source": [
    "# Generate a non-uniform random sample from np.arange(5) of size 3 without replacement:\n",
    "rng.choice(5, 3, replace=False, p=[0.1, 0, 0.3, 0.6, 0])\n"
   ]
  },
  {
   "cell_type": "code",
   "execution_count": 63,
   "metadata": {
    "scrolled": false
   },
   "outputs": [
    {
     "data": {
      "text/plain": [
       "array(['pooh', 'pooh', 'pooh', 'Christopher', 'pooh'], dtype='<U11')"
      ]
     },
     "execution_count": 63,
     "metadata": {},
     "output_type": "execute_result"
    }
   ],
   "source": [
    "# Any of the above can be repeated with an arbitrary array-like instead of just integers. For instance:\n",
    "\n",
    "aa_milne_arr = ['pooh', 'rabbit', 'piglet', 'Christopher']\n",
    "rng.choice(aa_milne_arr, 5, p=[0.5, 0.1, 0.1, 0.3])"
   ]
  },
  {
   "cell_type": "markdown",
   "metadata": {},
   "source": [
    "### (d) numpy.random.Generator.bytes\n",
    "#### Generator.bytes(length)\n",
    "#### https://numpy.org/doc/stable/reference/random/generated/numpy.random.Generator.bytes.html#numpy.random.Generator.bytes"
   ]
  },
  {
   "cell_type": "code",
   "execution_count": null,
   "metadata": {
    "scrolled": false
   },
   "outputs": [],
   "source": [
    "Return random bytes."
   ]
  },
  {
   "cell_type": "code",
   "execution_count": 65,
   "metadata": {
    "scrolled": false
   },
   "outputs": [
    {
     "data": {
      "text/plain": [
       "b'\\xd8\\xe5\\xad\\xc4K\\nq\\x8d^L'"
      ]
     },
     "execution_count": 65,
     "metadata": {},
     "output_type": "execute_result"
    }
   ],
   "source": [
    "np.random.default_rng().bytes(10)"
   ]
  },
  {
   "cell_type": "markdown",
   "metadata": {},
   "source": [
    "<cr>"
   ]
  },
  {
   "cell_type": "markdown",
   "metadata": {},
   "source": [
    "### 4.3.2. Permutations\n",
    "#### https://numpy.org/doc/stable/reference/random/generator.html#permutations\n"
   ]
  },
  {
   "cell_type": "markdown",
   "metadata": {},
   "source": [
    "#### (a) numpy.random.Generator.shuffle \n",
    "#### https://numpy.org/doc/stable/reference/random/generated/numpy.random.Generator.shuffle.html#numpy.random.Generator.shuffle"
   ]
  },
  {
   "cell_type": "markdown",
   "metadata": {},
   "source": [
    "Generator.shuffle(x, axis=0)\n",
    "Modify a sequence in-place by shuffling its contents."
   ]
  },
  {
   "cell_type": "code",
   "execution_count": 66,
   "metadata": {
    "scrolled": false
   },
   "outputs": [
    {
     "data": {
      "text/plain": [
       "array([0, 4, 8, 2, 5, 3, 6, 1, 9, 7])"
      ]
     },
     "execution_count": 66,
     "metadata": {},
     "output_type": "execute_result"
    }
   ],
   "source": [
    "rng = np.random.default_rng()\n",
    "arr = np.arange(10)\n",
    "rng.shuffle(arr)\n",
    "arr\n"
   ]
  },
  {
   "cell_type": "code",
   "execution_count": 67,
   "metadata": {
    "scrolled": false
   },
   "outputs": [
    {
     "data": {
      "text/plain": [
       "array([[3, 4, 5],\n",
       "       [0, 1, 2],\n",
       "       [6, 7, 8]])"
      ]
     },
     "execution_count": 67,
     "metadata": {},
     "output_type": "execute_result"
    }
   ],
   "source": [
    "arr = np.arange(9).reshape((3, 3))\n",
    "rng.shuffle(arr)\n",
    "arr"
   ]
  },
  {
   "cell_type": "code",
   "execution_count": 68,
   "metadata": {
    "scrolled": false
   },
   "outputs": [
    {
     "data": {
      "text/plain": [
       "array([[0, 1, 2],\n",
       "       [3, 4, 5],\n",
       "       [6, 7, 8]])"
      ]
     },
     "execution_count": 68,
     "metadata": {},
     "output_type": "execute_result"
    }
   ],
   "source": [
    "arr = np.arange(9).reshape((3, 3))\n",
    "rng.shuffle(arr, axis=1)\n",
    "arr"
   ]
  },
  {
   "cell_type": "markdown",
   "metadata": {},
   "source": [
    "<cr>"
   ]
  },
  {
   "cell_type": "markdown",
   "metadata": {},
   "source": [
    "#### (b) numpy.random.Generator. permutation \n",
    "https://numpy.org/doc/stable/reference/random/generated/numpy.random.Generator.permutation.html#numpy.random.Generator.permutation"
   ]
  },
  {
   "cell_type": "markdown",
   "metadata": {},
   "source": [
    "Randomly permute a sequence, or return a permuted range."
   ]
  },
  {
   "cell_type": "code",
   "execution_count": 70,
   "metadata": {
    "scrolled": false
   },
   "outputs": [
    {
     "data": {
      "text/plain": [
       "array([8, 9, 7, 5, 0, 1, 6, 3, 2, 4])"
      ]
     },
     "execution_count": 70,
     "metadata": {},
     "output_type": "execute_result"
    }
   ],
   "source": [
    "rng = np.random.default_rng()\n",
    "rng.permutation(10)"
   ]
  },
  {
   "cell_type": "code",
   "execution_count": 71,
   "metadata": {
    "scrolled": false
   },
   "outputs": [
    {
     "data": {
      "text/plain": [
       "array([ 9,  1, 15,  4, 12])"
      ]
     },
     "execution_count": 71,
     "metadata": {},
     "output_type": "execute_result"
    }
   ],
   "source": [
    "rng.permutation([1, 4, 9, 12, 15])"
   ]
  },
  {
   "cell_type": "code",
   "execution_count": 72,
   "metadata": {
    "scrolled": false
   },
   "outputs": [
    {
     "data": {
      "text/plain": [
       "array([[3, 4, 5],\n",
       "       [0, 1, 2],\n",
       "       [6, 7, 8]])"
      ]
     },
     "execution_count": 72,
     "metadata": {},
     "output_type": "execute_result"
    }
   ],
   "source": [
    "arr = np.arange(9).reshape((3, 3))\n",
    "rng.permutation(arr)"
   ]
  },
  {
   "cell_type": "code",
   "execution_count": 73,
   "metadata": {
    "scrolled": false
   },
   "outputs": [
    {
     "data": {
      "text/plain": [
       "array([[0, 2, 1],\n",
       "       [3, 5, 4],\n",
       "       [6, 8, 7]])"
      ]
     },
     "execution_count": 73,
     "metadata": {},
     "output_type": "execute_result"
    }
   ],
   "source": [
    "arr = np.arange(9).reshape((3, 3))\n",
    "rng.permutation(arr, axis=1)"
   ]
  },
  {
   "cell_type": "markdown",
   "metadata": {},
   "source": [
    "<cr>"
   ]
  },
  {
   "cell_type": "markdown",
   "metadata": {},
   "source": [
    "### 4.3.3 Distributions\n",
    "#### https://numpy.org/doc/stable/reference/random/generator.html#distributions"
   ]
  },
  {
   "cell_type": "markdown",
   "metadata": {},
   "source": [
    "### (a) numpy.random.Generator.logseries\n",
    "#### https://numpy.org/doc/stable/reference/random/generated/numpy.random.Generator.logseries.html#numpy-random-generator-logseries\n",
    "#### Generator.logseries(p, size=None)"
   ]
  },
  {
   "cell_type": "markdown",
   "metadata": {},
   "source": [
    "Draw samples from a logarithmic series distribution.\n",
    "Samples are drawn from a log series distribution with specified shape parameter, 0 < p < 1.\n"
   ]
  },
  {
   "cell_type": "code",
   "execution_count": 97,
   "metadata": {
    "scrolled": true
   },
   "outputs": [
    {
     "data": {
      "image/png": "[encoded data removed]",
      "text/plain": [
       "<Figure size 432x288 with 1 Axes>"
      ]
     },
     "metadata": {},
     "output_type": "display_data"
    }
   ],
   "source": [
    "# Draw samples from the distribution:\n",
    "\n",
    "a = .6\n",
    "s = np.random.default_rng().logseries(a, 10000)\n",
    "import matplotlib.pyplot as plt\n",
    "count, bins, ignored = plt.hist(s)\n",
    "plt.show()"
   ]
  },
  {
   "cell_type": "code",
   "execution_count": 98,
   "metadata": {
    "scrolled": true
   },
   "outputs": [
    {
     "data": {
      "image/png": "[encoded data removed]",
      "text/plain": [
       "<Figure size 432x288 with 1 Axes>"
      ]
     },
     "metadata": {},
     "output_type": "display_data"
    }
   ],
   "source": [
    "# plot against distribution\n",
    "\n",
    "def logseries(k, p):\n",
    "    return -p**k/(k*np.log(1-p))\n",
    "plt.plot(bins, logseries(bins, a) * count.max()/\n",
    "         logseries(bins, a).max(), 'r')\n",
    "plt.show()"
   ]
  },
  {
   "cell_type": "code",
   "execution_count": 101,
   "metadata": {
    "scrolled": true
   },
   "outputs": [
    {
     "data": {
      "image/png": "[encoded data removed]",
      "text/plain": [
       "<Figure size 432x288 with 1 Axes>"
      ]
     },
     "metadata": {},
     "output_type": "display_data"
    }
   ],
   "source": [
    "# Draw combination of samples from the distribution and plot against distribution\n",
    "\n",
    "a = .6\n",
    "s = np.random.default_rng().logseries(a, 10000)\n",
    "import matplotlib.pyplot as plt\n",
    "count, bins, ignored = plt.hist(s)\n",
    "\n",
    "# plot against distribution\n",
    "\n",
    "def logseries(k, p):\n",
    "    return -p**k/(k*np.log(1-p))\n",
    "plt.plot(bins, logseries(bins, a) * count.max()/\n",
    "         logseries(bins, a).max(), 'b')\n",
    "plt.show()\n"
   ]
  },
  {
   "cell_type": "markdown",
   "metadata": {},
   "source": [
    "### (b) numpy.random.Generator.laplace\n",
    "#### Generator.laplace(loc=0.0, scale=1.0, size=None\n",
    "#### https://numpy.org/doc/stable/reference/random/generated/numpy.random.Generator.laplace.html#numpy.random.Generator.laplace"
   ]
  },
  {
   "cell_type": "markdown",
   "metadata": {},
   "source": [
    "Draw samples from the Laplace or double exponential distribution with specified location (or mean) and scale (decay).\n",
    "\n",
    "The Laplace distribution is similar to the Gaussian/normal distribution, but is sharper at the peak and has fatter tails. It represents the difference between two independent, identically distributed exponential random variables."
   ]
  },
  {
   "cell_type": "code",
   "execution_count": 92,
   "metadata": {
    "scrolled": true
   },
   "outputs": [],
   "source": [
    "# Draw samples from the distribution\n",
    "\n",
    "loc, scale = 0., 1.\n",
    "s = np.random.default_rng().laplace(loc, scale, 1000)\n"
   ]
  },
  {
   "cell_type": "code",
   "execution_count": 94,
   "metadata": {
    "scrolled": true
   },
   "outputs": [
    {
     "data": {
      "text/plain": [
       "array([ 9.52146357e-01,  9.03987383e-01,  4.64922957e-01,  1.91832430e+00,\n",
       "        1.13284084e+00, -4.20664636e-01, -6.33928696e-01, -3.18340905e-01,\n",
       "       -1.65116120e-01,  6.95817056e-01, -4.64183270e+00,  2.30621834e-02,\n",
       "        1.27687782e+00,  7.21073182e-02,  1.07934393e+00, -4.03896778e-01,\n",
       "       -4.55366726e-01,  6.85569069e-02, -9.59140995e-02,  1.72603136e+00,\n",
       "       -2.56033690e+00, -1.06515854e+00,  1.77664166e+00, -4.77929831e-01,\n",
       "       -9.02978680e-01, -6.20331143e-01,  7.46402191e-01, -1.24251073e+00,\n",
       "       -2.19477472e-01, -2.71212593e-01, -1.02586848e+00, -8.51322126e-01,\n",
       "        2.50677189e+00, -4.32917465e-01, -8.33110205e-01, -2.05418347e+00,\n",
       "        3.37077969e-01, -1.96618325e-01, -1.88944681e+00, -1.55583886e+00,\n",
       "       -1.62254600e-01,  1.99181427e+00, -8.93211245e-02,  2.59700816e-01,\n",
       "        2.43812179e+00,  9.19286176e-01,  6.32870059e-01,  4.61877112e-02,\n",
       "       -3.16173209e-01,  1.36655750e+00,  5.83722730e-01,  1.08960994e+00,\n",
       "        5.88914876e-01, -2.20989571e+00, -1.87124702e+00, -1.86551386e-01,\n",
       "        9.13343569e-01,  1.56048637e-01,  2.29322283e-01, -1.55478131e+00,\n",
       "        1.16263497e-01, -5.84679082e-01, -1.73913918e+00,  3.89436802e-02,\n",
       "       -7.33859082e-02, -2.58509042e-01,  1.00112201e+00,  7.97938021e-01,\n",
       "        4.03954287e-01, -1.67570615e-01,  2.74102805e-01, -9.86085385e-01,\n",
       "        1.16253212e+00,  1.04091927e+00,  1.35198827e+00,  4.76104096e-01,\n",
       "       -2.77559031e-02, -2.76972513e-01,  6.44188628e-01,  1.36057173e+00,\n",
       "       -2.41524807e+00,  1.22634219e+00,  8.56200337e-02,  1.84525153e+00,\n",
       "       -4.00921340e-01,  1.51490953e+00,  1.25436619e+00, -1.42154302e+00,\n",
       "       -2.39625354e+00, -9.10049439e-01, -3.93288244e-01, -1.68746889e-01,\n",
       "       -1.79658781e+00,  5.66327846e-01, -1.46020281e-01, -2.98420485e-01,\n",
       "       -5.22890387e-01,  4.35280908e-01,  5.52015524e-01,  1.33934795e+00,\n",
       "       -1.52331750e-01, -3.08061897e+00,  1.47379858e+00, -1.33831478e+00,\n",
       "        9.82663205e-01, -2.57755125e+00, -9.22570734e-01,  2.41955036e+00,\n",
       "        4.23226461e-01, -3.33657505e-01,  5.09457879e-01, -4.16290086e-01,\n",
       "        1.11309035e-01, -2.03786983e+00, -3.59656256e-01,  5.47997683e-01,\n",
       "       -3.12656603e-01,  2.40974940e+00, -5.43412829e-01,  5.87919004e-01,\n",
       "       -1.67840565e-01, -1.66983442e-01, -2.85121963e-01, -1.77538244e+00,\n",
       "       -1.92785305e+00,  3.73182738e+00,  1.80745433e+00,  5.39170394e-01,\n",
       "        1.10461724e+00,  5.57344415e-01,  1.20133088e-01,  9.21894198e-01,\n",
       "       -2.45210757e-01,  1.17453605e+00, -5.59174229e+00,  1.43348907e+00,\n",
       "       -1.16239975e+00,  3.46061722e-01,  8.08388029e-02, -2.84839437e-01,\n",
       "        4.62229417e-01,  6.97635223e-01,  5.00310157e-01,  5.93597127e-01,\n",
       "        2.63150566e-01,  2.89302415e+00,  7.72702445e-01,  2.51920288e+00,\n",
       "       -2.47301387e+00, -1.24277160e+00, -7.88172939e-01,  1.57147057e+00,\n",
       "       -1.14999330e+00, -8.01104573e-01,  6.58088004e-01,  1.94854112e-01,\n",
       "       -1.25656107e+00,  1.64211702e+00,  2.09848694e-01, -2.08557815e+00,\n",
       "        5.84273701e-01, -9.84543446e-01,  3.39912437e-02, -1.37815784e+00,\n",
       "        6.51629297e-02,  2.19116791e+00, -1.21672262e+00,  1.18886095e+00,\n",
       "       -1.84785476e+00, -3.80140436e-01, -2.13575167e+00, -1.62960154e+00,\n",
       "       -1.61811727e+00,  1.59077034e-01,  8.78207295e-01,  1.86618594e-01,\n",
       "        4.12273961e-01, -2.54956042e+00,  9.75702621e-01, -2.55319707e-01,\n",
       "       -3.30894382e-01,  9.89176463e-01,  1.13556033e+00, -1.09219579e+00,\n",
       "        5.88451887e-01,  8.79532590e-01, -3.78270388e-01,  6.87482729e-01,\n",
       "       -2.36285902e-02, -5.50647255e-01,  6.47285163e-01,  1.79576211e+00,\n",
       "        1.25538323e+00,  2.04850062e-02,  8.71905906e-01,  1.53488980e-01,\n",
       "       -7.81625294e-01, -9.18070322e-01, -1.59808667e+00, -1.12008088e+00,\n",
       "        5.37845690e-01,  3.08610040e-01, -1.21242677e+00, -1.29464356e-01,\n",
       "       -3.37475138e-01,  4.96645697e-01, -5.39432818e-01,  2.81340518e-01,\n",
       "        1.73995164e+00, -3.17520358e+00, -2.10370816e+00,  6.98746446e-02,\n",
       "        1.25250551e+00, -2.71457912e-02, -4.29266805e-01, -8.66153526e-01,\n",
       "       -8.77257590e-01, -8.89581600e-01,  1.06699669e+00,  1.25713169e+00,\n",
       "        1.08155677e-02,  1.69972627e+00,  8.88961600e-01,  2.50597759e+00,\n",
       "        1.58360306e+00, -8.68869394e-01,  1.42747190e+00, -2.11209766e+00,\n",
       "        9.45552278e-01,  5.17125632e-01,  2.28268753e+00,  6.02114019e-03,\n",
       "        1.59160756e-01, -6.79176009e-01,  8.38553135e-02,  2.72534948e+00,\n",
       "        6.55099240e-02,  5.29583969e-01, -8.88905089e-01,  7.13351050e+00,\n",
       "        5.00276110e-01,  5.11020057e-01,  1.11074699e-01,  1.58834620e+00,\n",
       "        1.98772073e+00,  1.17324176e+00,  6.03146393e-01, -1.77669238e+00,\n",
       "        6.14035525e-01,  5.27914735e-01, -5.73684579e-01, -1.12667558e-02,\n",
       "       -1.03124570e+00,  2.10549061e+00, -5.34805853e-01, -4.50075971e-01,\n",
       "       -6.62745557e-01, -6.61924233e-01,  3.09302493e-02,  1.85533527e+00,\n",
       "       -5.63226000e-01, -1.11219899e+00,  2.74269683e-01, -5.01446851e-01,\n",
       "       -1.91665549e-01, -2.03137388e-01,  1.11636163e-01, -1.96152030e+00,\n",
       "        1.07626407e+00, -7.39448420e-01, -9.80742201e-01, -3.55846495e-01,\n",
       "       -8.69180609e-01,  1.21914121e+00, -2.69412056e-01, -5.10663852e-02,\n",
       "       -3.51794248e-02, -4.26731859e-02, -3.32923848e+00, -4.97415855e-01,\n",
       "        1.02694898e+00,  4.01064926e+00, -1.40716834e+00, -4.28205939e-02,\n",
       "        1.40598693e+00,  2.73732808e-01,  3.53925499e-01,  1.03074719e-01,\n",
       "       -2.09573945e+00,  1.98701832e+00, -1.56837568e+00,  3.16841229e-01,\n",
       "        1.39553877e-01, -8.54213654e-01, -3.58192621e-01,  1.74619553e-01,\n",
       "        2.18397656e+00,  1.91651121e-01,  8.36534713e-01,  9.91276287e-01,\n",
       "       -1.77427659e+00, -1.85290735e+00,  6.40857923e-01,  5.02633113e-01,\n",
       "       -7.29775190e-01,  2.28145629e-01, -6.21438532e-01, -2.93078112e+00,\n",
       "        2.10422122e+00, -5.09280958e-01, -7.55394941e-01,  2.24490456e+00,\n",
       "        7.47588967e-01, -1.16273582e+00, -1.44588951e+00, -9.24462355e-01,\n",
       "        3.82232777e+00, -1.11550022e+00, -3.40357317e-01, -8.20072934e-01,\n",
       "       -5.85690374e-02,  1.74374858e+00, -1.12307207e+00, -7.54930889e-01,\n",
       "       -6.49149713e-01,  4.57809810e-01,  1.37142034e+00, -7.34059871e-01,\n",
       "        1.72314614e+00, -1.84702528e+00,  3.98734977e-01,  7.09407853e-02,\n",
       "       -6.56505506e-01,  2.66191252e-01, -3.22227121e+00,  7.45175456e-01,\n",
       "       -1.94174821e+00,  1.86716581e+00, -1.95454540e+00,  3.73923150e-01,\n",
       "        4.75318929e-01,  1.84860479e+00, -3.18976756e-01, -8.49966204e-02,\n",
       "        1.79533079e+00, -7.91169729e-01,  1.33707936e+00,  9.08559369e-03,\n",
       "        1.01783799e+00,  3.95928993e-01,  2.66449179e-01, -1.08359593e+00,\n",
       "        8.25114132e-01,  1.18708970e+00, -6.78699736e-01, -1.06434803e+00,\n",
       "       -4.69057658e-01,  4.71302607e+00, -3.00467666e+00,  6.25316817e-01,\n",
       "        2.79181439e+00,  2.21883033e-01, -2.30483863e-01, -7.51051651e-01,\n",
       "        2.10734192e+00, -1.66332135e+00, -2.37281127e-01, -1.58438764e-01,\n",
       "        2.34174113e-01, -9.64318480e-01,  9.07175330e-01,  6.36779670e-01,\n",
       "        2.66434121e+00, -1.12537006e-01,  2.11826413e+00, -2.39784226e-01,\n",
       "        1.99417781e-01,  3.04200296e-02,  3.91224719e-01, -1.67198891e-01,\n",
       "        6.15610707e-01, -2.19946708e+00,  8.87593306e-01,  1.14215118e+00,\n",
       "        4.27541913e-01, -2.67171360e+00,  3.48990295e-01,  1.43556048e+00,\n",
       "        4.32438890e-01,  7.61691351e-01,  1.54723494e+00,  4.22118160e-01,\n",
       "        1.05846657e+00,  1.47982701e+00, -1.71206041e-02,  1.35065596e+00,\n",
       "        4.27393852e-01, -3.38052730e-03, -4.26064248e-01,  3.73516798e-01,\n",
       "        3.65705937e+00, -4.39470870e-01, -3.35969121e-01,  1.68724316e-01,\n",
       "        4.79572141e+00,  1.70344402e+00, -4.25979854e-01, -1.89045925e-01,\n",
       "       -7.98563096e-02, -8.75792780e-02, -3.13541622e-01, -1.01350999e-02,\n",
       "       -2.70770780e+00,  1.62927827e+00, -2.76643230e-01, -2.77123374e-01,\n",
       "        2.27567771e+00,  3.47618314e+00, -9.88071892e-02,  1.03605652e+00,\n",
       "       -2.91879598e+00, -5.01674682e-02,  6.46064289e-01,  9.96767488e-01,\n",
       "       -4.22379889e-01, -4.02309622e-02, -5.41472436e-01,  7.64933472e-01,\n",
       "        1.76901099e+00, -1.65841695e+00,  2.71717703e-01, -1.16490008e+00,\n",
       "        1.00941056e+00,  2.02828389e+00,  4.51518006e-01,  3.50599200e+00,\n",
       "        2.25315017e-01,  6.50775928e-01,  3.33456287e+00,  1.05099928e+00,\n",
       "       -1.11215830e+00, -3.74641535e-01, -2.75602923e-01, -4.82342329e-01,\n",
       "        2.05235427e+00, -2.45474988e+00, -7.03971544e-01, -5.00829550e-02,\n",
       "       -4.26870785e+00,  1.55651851e+00,  8.53415606e-02,  1.02885244e+00,\n",
       "       -5.13969992e+00,  6.36877874e-01,  8.46107921e-01,  5.85536965e-01,\n",
       "       -4.69474394e+00, -5.39230491e-01,  3.11251004e-01, -3.34024421e+00,\n",
       "       -4.62287039e-01,  3.75497005e-01,  2.58169813e-01,  3.69641771e+00,\n",
       "        1.27807580e+00, -1.65568388e+00,  2.15965123e+00,  1.23249963e-01,\n",
       "        1.47679446e-01, -3.32597960e-01,  4.03699705e-02, -1.39726503e+00,\n",
       "       -2.37145538e+00, -4.63044468e-01,  5.99238629e-01,  9.22669380e-02,\n",
       "       -4.43231437e-02, -5.22045484e-01,  7.99281790e-01, -2.46970263e+00,\n",
       "        3.91590130e+00,  2.59960754e+00, -1.82755967e+00, -5.23592799e-01,\n",
       "       -1.32608110e+00,  6.71270932e-01,  4.57916403e-01, -3.00240608e-01,\n",
       "       -1.56410696e+00, -6.74658844e-01,  3.09107801e+00,  6.64700938e-01,\n",
       "       -7.86791832e-02,  9.55043438e-01, -4.21259176e-02,  1.14158837e+00,\n",
       "        9.34740057e-02,  1.56203973e-01,  1.13541677e-01, -9.18669803e-02,\n",
       "       -6.40048880e-01, -1.38583148e-01,  2.02350404e+00, -2.56832173e-01,\n",
       "        1.11252572e+00, -1.44867012e-01,  3.16918534e-01,  3.57451681e+00,\n",
       "        2.79242071e-01,  4.88835133e-01, -2.65692217e-01,  6.10893873e-01,\n",
       "        4.98280662e-02,  2.61671643e-01,  3.98428692e-01, -6.60098276e-02,\n",
       "        3.98748586e-01,  1.96024873e+00, -1.49437575e+00,  2.19440681e+00,\n",
       "        3.31163714e-01, -2.68695231e+00, -2.89755245e+00, -2.06444096e+00,\n",
       "        4.54168232e-02, -4.02305887e-01, -2.34220579e-01,  2.13097810e+00,\n",
       "        6.63882933e-01, -1.36730889e+00, -3.55970283e-01, -1.16600166e+00,\n",
       "       -6.61857784e-01, -5.72414241e-02,  2.13666147e+00,  2.46208706e+00,\n",
       "       -4.88027997e-01,  8.68598112e-02, -1.05473043e+00, -1.01053058e+00,\n",
       "        7.70728595e-01,  4.39722405e+00,  1.20781437e+00, -7.57359159e-02,\n",
       "        5.71453597e-01,  3.28465252e+00, -1.16428549e+00,  7.71668766e-01,\n",
       "        5.68259916e-02, -6.06476468e-01,  6.25076010e-01,  1.44123505e-01,\n",
       "       -2.20664179e-01, -2.32735481e-01, -2.14945294e-01, -4.88556760e-01,\n",
       "        3.52079385e-02,  3.26358278e-01, -1.26932412e+00,  6.18336922e-01,\n",
       "       -1.34124259e-02,  5.44979647e-01, -8.31661744e-01,  1.78623119e+00,\n",
       "       -1.40270782e+00,  1.11138361e+00,  2.69077707e+00,  7.68441530e-01,\n",
       "        3.97905978e-01,  6.89088178e-01,  2.92481160e+00, -7.87948549e-01,\n",
       "       -1.99240025e+00,  1.56053390e+00,  8.88465784e-01, -2.09763529e+00,\n",
       "       -8.85847238e-01,  2.47344988e-01, -1.94706151e+00,  1.17328809e+00,\n",
       "        4.39380270e-02,  1.49725783e+00,  1.43206960e+00, -2.23937240e-01,\n",
       "       -7.31222782e-01, -1.84736087e-01, -1.25832034e-01,  2.25643764e+00,\n",
       "        1.51261293e+00, -1.36983942e+00,  3.41105556e-01, -4.80248187e-01,\n",
       "       -1.02368135e+00, -8.91344798e-01, -6.71342312e-01, -9.51177497e-01,\n",
       "        2.65784087e+00,  3.20986221e-01, -7.98091995e-01, -3.65169361e-01,\n",
       "       -9.93232644e-01,  4.15429176e-01,  1.03266788e-01,  4.10453880e+00,\n",
       "       -1.33045067e-01,  1.60227238e-01, -3.62570935e+00, -2.96747656e+00,\n",
       "       -3.78264845e-01, -7.40605884e-02,  8.57806508e-01, -7.14550207e+00,\n",
       "        9.26133931e-02, -2.01010393e+00,  2.10822403e-01, -5.80020802e-01,\n",
       "       -6.82776876e-01, -5.52545511e-01,  3.45166039e-01,  9.78658398e-01,\n",
       "        5.47260945e-01,  1.85270157e-01, -2.53344736e-01, -2.26052972e+00,\n",
       "        1.41376378e+00, -1.66729567e+00, -1.27397642e+00, -1.91585567e-02,\n",
       "       -3.68876186e+00, -1.81405212e-02, -2.77401209e-01,  1.31707119e-01,\n",
       "       -1.29626917e-01,  6.44425682e-01,  6.86673042e-01,  9.90829345e-01,\n",
       "        6.42695580e-01,  1.07888145e+00, -1.48263638e-01,  1.39283926e-01,\n",
       "       -1.21025580e+00,  6.37153211e-01,  3.19146546e-01,  7.78873255e-01,\n",
       "        4.35190188e-01, -3.37169939e-02,  8.42463273e-01,  2.46070164e-01,\n",
       "       -2.76818580e+00,  5.98922082e-02, -3.36003331e+00, -1.70016213e-01,\n",
       "       -1.80370549e+00,  1.64200807e-01, -4.99366404e-01, -4.68181286e-02,\n",
       "       -2.61945086e+00, -1.82182421e+00,  6.60339037e-01, -1.26873555e+00,\n",
       "       -1.07351023e+00,  4.70443974e-01,  5.08231793e-01, -6.22521015e-02,\n",
       "       -3.23222414e-01, -1.35979418e+00,  4.81143279e-01, -1.80041994e+00,\n",
       "       -1.26961334e+00,  4.64187828e-01, -2.20184016e-01,  8.85055943e-01,\n",
       "        2.03814880e+00,  3.55450638e-01, -9.40529347e-01, -2.29567173e-01,\n",
       "        4.61233587e-02,  3.30271081e+00, -6.08463910e-01, -1.39723588e-01,\n",
       "        2.52253828e-02,  1.10233442e+00,  6.55659728e-01, -6.04532679e-01,\n",
       "       -1.56708263e-02, -1.86639395e-01,  8.03918123e-01,  5.40716864e-01,\n",
       "       -1.21137595e+00,  1.15998513e+00, -1.09298852e+00, -4.21044296e-01,\n",
       "       -1.49507751e+00, -1.32529977e+00,  8.75396032e-02,  5.63980821e-01,\n",
       "        8.01127203e-01, -2.08822027e-01, -8.42168094e-01, -2.81152464e-01,\n",
       "        1.41325078e+00, -1.18573109e+00, -9.23026245e-01, -2.64672641e-01,\n",
       "       -3.38566160e-01,  1.51237122e+00, -1.97762778e-01, -2.36385032e+00,\n",
       "       -6.32197168e-01, -6.96791260e-01,  2.13564662e+00,  5.21178492e+00,\n",
       "        9.89251625e-01, -2.00156827e+00,  5.88886373e-01, -3.00228282e-01,\n",
       "        3.19422226e-02,  9.63662925e-01, -7.47645884e+00,  3.21001787e+00,\n",
       "       -2.19211599e+00, -1.53728643e+00, -6.88664595e-01, -1.59656628e+00,\n",
       "        2.53386165e-01,  2.40040215e+00,  3.43449171e-01, -2.40464409e-01,\n",
       "        8.23634219e-01,  3.90734951e-01,  6.99826401e-01, -2.06525877e+00,\n",
       "        8.78481251e-01, -8.35708848e-02, -1.03156117e+00,  2.14954350e+00,\n",
       "        2.42940397e-01, -4.07041807e-01,  3.99738295e+00,  8.06579016e-01,\n",
       "       -5.72807528e-01,  1.68866129e-01, -6.30583715e-01, -1.64387020e+00,\n",
       "        1.62951794e+00,  1.64895084e-01,  7.27596086e-02,  2.97311523e-01,\n",
       "        1.21279531e-01, -7.22133355e-01, -1.18762755e+00,  3.53316606e-01,\n",
       "        7.65095231e-01,  5.32397374e-01, -4.59514407e-01,  1.16410732e+00,\n",
       "        2.30959346e+00, -7.18125466e-01,  1.38574321e+00,  2.69973105e-01,\n",
       "        2.99393771e+00, -3.26581297e+00, -3.69089419e-01,  1.45194781e+00,\n",
       "        8.71913452e-01, -2.61066712e+00,  1.43535680e+00,  6.11536014e-01,\n",
       "        3.30431912e-01,  4.34499070e-01, -1.84943753e-01,  2.31985582e+00,\n",
       "        6.50383442e-01, -2.02667644e+00,  7.91778780e-01, -4.65264870e+00,\n",
       "       -2.49951814e-01,  1.84902403e-01,  1.40483531e-01,  1.26998545e-01,\n",
       "        5.61067658e-01, -1.91032176e+00, -7.92786358e-01, -7.90628106e-01,\n",
       "        9.19842964e-03, -6.31231145e-02,  2.22771167e-01,  1.19658194e+00,\n",
       "       -1.59780861e+00, -3.52890966e-01, -1.25395151e-01, -3.86942969e-01,\n",
       "       -3.67440981e-01, -8.17781877e-01, -1.73797820e+00,  1.00664959e-01,\n",
       "       -7.88254188e-01,  1.33318581e+00, -1.71128825e+00,  5.80494664e-01,\n",
       "        2.50094304e+00,  2.33554474e+00,  1.30944087e+00,  1.88159080e+00,\n",
       "       -5.08263520e-01, -1.01416764e+00,  2.54116859e-01,  5.86209284e-01,\n",
       "       -1.28630305e+00, -2.03257681e-01,  4.42269821e-01, -6.82079985e-01,\n",
       "        6.10048764e-01,  9.62347285e-01, -1.54769691e-01, -5.49558568e-01,\n",
       "        5.48737175e-01, -3.07884403e-01,  1.17389463e-01, -1.43594147e-01,\n",
       "        3.66833804e-01,  1.35111597e+00, -2.12593823e-01,  8.28911895e-01,\n",
       "        1.40306890e+00, -6.71542963e-01,  4.32705513e-01, -1.52551256e-01,\n",
       "       -4.99238621e-01, -4.76280545e-01, -6.39606875e-01, -5.83104881e-01,\n",
       "       -1.69617239e+00,  4.55943390e-01, -2.82352842e-01,  1.94009705e+00,\n",
       "       -3.72662310e-01, -9.31471048e-01,  6.86579860e-01,  2.04526536e+00,\n",
       "        1.61721590e+00, -2.31176844e+00,  2.01896198e+00,  1.04486293e+00,\n",
       "       -1.82384227e+00, -3.53409449e+00,  4.13563150e-01, -2.31183902e+00,\n",
       "       -6.86741324e-01,  2.89926372e-01, -4.46782152e+00,  3.75746832e+00,\n",
       "        1.17991639e+00,  4.81882264e-01, -8.04587838e-01, -3.17753916e-01,\n",
       "       -9.32367486e-01, -1.32266904e+00,  2.27395898e+00, -2.11948786e+00,\n",
       "        1.63886932e+00,  3.49688826e-02,  1.17101406e+00,  1.78661386e+00,\n",
       "       -1.21719221e-01, -2.18348565e-01, -2.33574275e-01, -3.99591731e-01,\n",
       "        1.09951580e-01,  1.91861224e+00,  1.82966136e+00, -3.55586938e-01,\n",
       "        2.52599630e+00, -3.11862528e-01, -7.89014843e-01,  9.10615752e-02,\n",
       "        6.26979096e-01, -1.49508229e+00,  3.04080877e-01, -3.56490252e-01,\n",
       "        2.55145393e-01, -8.38646651e-02, -3.08163921e-01, -8.04428659e-01,\n",
       "       -5.68237816e-01, -1.54050266e+00, -7.50708443e-01, -1.85085121e-01,\n",
       "       -2.69690756e+00, -1.30097402e+00, -3.73112420e-01,  7.41622133e-01,\n",
       "        1.69723915e+00, -2.28802829e+00, -1.95116367e+00, -1.33526418e+00,\n",
       "       -1.01360701e+00, -7.91099391e-01, -4.37638045e-01, -7.58546072e-01,\n",
       "       -4.39190420e+00,  1.12932131e+00, -5.55826618e-02,  2.44491323e-01,\n",
       "        9.06667491e-01,  1.80779205e+00,  2.17795863e+00, -7.58664641e-01,\n",
       "       -1.82872294e+00, -3.27294749e-01,  1.45200672e-01,  2.10592671e+00,\n",
       "       -1.14970655e+00,  2.55740895e-01, -1.11103023e+00, -7.07352876e-01,\n",
       "       -4.49948205e-01, -1.09696025e-01,  5.01331825e-01,  6.36533093e-01,\n",
       "       -1.34964424e-01, -5.82494233e-02,  2.79628520e-02, -4.15183455e-01,\n",
       "       -1.09543445e+00,  3.44283702e-01, -5.38052402e-01, -2.55145200e-01,\n",
       "       -1.12111772e+00, -1.77538456e+00, -2.20281155e+00, -7.54672986e-02,\n",
       "       -3.40398491e+00,  8.79458918e-01,  5.45893110e-01, -1.00970076e+00,\n",
       "        1.00439810e-01, -2.18761662e-01, -1.60404722e-01, -3.90116567e-01,\n",
       "       -3.32566301e+00,  1.82466662e+00, -1.43786509e+00,  1.84966464e+00,\n",
       "       -7.69378717e-01, -1.95512708e+00, -3.31416884e-01, -1.20266980e+00,\n",
       "       -4.05167682e-01,  6.79699636e-01, -5.35881105e-01,  2.45777530e-02,\n",
       "        8.03100500e-02,  2.20869772e+00, -1.63311159e+00,  1.47908935e+00,\n",
       "        2.00969886e-01,  3.51246322e-01,  2.25133685e+00,  7.55790419e-01,\n",
       "       -8.97496404e-02, -1.17337143e-01, -6.59865415e-01,  1.96290544e-01,\n",
       "       -8.94604073e-01, -8.03213156e-01, -9.42455199e-01,  1.01418504e+00,\n",
       "       -3.50227448e-02, -1.10802898e-01, -3.49018608e-02, -6.16159152e-01,\n",
       "       -2.24560635e+00,  3.73318033e-01,  2.05567122e-01,  3.92487606e-01,\n",
       "       -8.81969295e-01,  9.46586039e-01, -2.09725000e+00, -1.74834756e+00,\n",
       "       -5.56336784e-01,  2.63991361e+00, -4.93053527e-01, -2.71844451e+00,\n",
       "        1.14417633e+00, -4.74038813e-01, -2.80894956e-01,  7.76798679e-01,\n",
       "       -1.47575707e+00, -4.53253497e-01,  4.47620875e+00, -5.69662674e-01,\n",
       "       -1.47633838e+00, -1.64415180e+00,  1.34081005e-01, -1.08255322e+00,\n",
       "       -4.79056320e-01,  1.33874605e-01, -2.08968913e+00,  6.93427232e-02])"
      ]
     },
     "execution_count": 94,
     "metadata": {},
     "output_type": "execute_result"
    }
   ],
   "source": [
    "s"
   ]
  },
  {
   "cell_type": "code",
   "execution_count": 95,
   "metadata": {
    "scrolled": true
   },
   "outputs": [
    {
     "data": {
      "image/png": "[encoded data removed]",
      "text/plain": [
       "<Figure size 432x288 with 1 Axes>"
      ]
     },
     "metadata": {},
     "output_type": "display_data"
    }
   ],
   "source": [
    "# Plot Gaussian for comparison:\n",
    "g = (1/(scale * np.sqrt(2 * np.pi)) * np.exp(-(x - loc)**2 / (2 * scale**2)))\n",
    "plt.plot(x,g)\n",
    "plt.show()"
   ]
  },
  {
   "cell_type": "code",
   "execution_count": 93,
   "metadata": {
    "scrolled": true
   },
   "outputs": [
    {
     "data": {
      "image/png": "[encoded data removed]",
      "text/plain": [
       "<Figure size 432x288 with 1 Axes>"
      ]
     },
     "metadata": {},
     "output_type": "display_data"
    }
   ],
   "source": [
    "# Display the histogram of the samples, along with the probability density function:\n",
    "\n",
    "import matplotlib.pyplot as plt\n",
    "count, bins, ignored = plt.hist(s, 30, density=True)\n",
    "x = np.arange(-8., 8., .01)\n",
    "pdf = np.exp(-abs(x-loc)/scale)/(2.*scale)\n",
    "plt.plot(x, pdf)\n",
    "plt.show()"
   ]
  },
  {
   "cell_type": "code",
   "execution_count": 96,
   "metadata": {
    "scrolled": true
   },
   "outputs": [
    {
     "data": {
      "image/png": "[encoded data removed]",
      "text/plain": [
       "<Figure size 432x288 with 1 Axes>"
      ]
     },
     "metadata": {},
     "output_type": "display_data"
    }
   ],
   "source": [
    "# A combination of la place(), Plot Gaussian and Histogram of the samples\n",
    "\n",
    "loc, scale = 0., 1.\n",
    "s = np.random.default_rng().laplace(loc, scale, 1000)\n",
    "# Plot Gaussian for comparison:\n",
    "g = (1/(scale * np.sqrt(2 * np.pi)) * np.exp(-(x - loc)**2 / (2 * scale**2)))\n",
    "plt.plot(x,g)\n",
    "# Display the histogram of the samples, along with the probability density function:\n",
    "import matplotlib.pyplot as plt\n",
    "count, bins, ignored = plt.hist(s, 30, density=True)\n",
    "x = np.arange(-8., 8., .01)\n",
    "pdf = np.exp(-abs(x-loc)/scale)/(2.*scale)\n",
    "plt.plot(x, pdf)\n",
    "plt.show()\n"
   ]
  },
  {
   "cell_type": "code",
   "execution_count": null,
   "metadata": {
    "scrolled": true
   },
   "outputs": [],
   "source": []
  },
  {
   "cell_type": "markdown",
   "metadata": {},
   "source": [
    "### (c) np.random.weibull\n",
    "https://numpy.org/devdocs/reference/random/generated/numpy.random.weibull.html"
   ]
  },
  {
   "cell_type": "code",
   "execution_count": 91,
   "metadata": {
    "scrolled": true
   },
   "outputs": [
    {
     "data": {
      "image/png": "[encoded data removed]",
      "text/plain": [
       "<Figure size 432x288 with 1 Axes>"
      ]
     },
     "metadata": {},
     "output_type": "display_data"
    }
   ],
   "source": [
    "import numpy as np  \n",
    "import matplotlib.pyplot as plt  \n",
    "from scipy import special  \n",
    "x=2.0  \n",
    "s=np.random.weibull(x, 1000)  \n",
    "a = np.arange(1, 100.)/50.  \n",
    "def weib(x, n, a):  \n",
    "    return (a/n)*(x/n)**np.exp(-(x/n)**a)  \n",
    "count, bins, ignored = plt.hist(np.random.weibull(5.,1000))  \n",
    "a= np.arange(1,100.)/50.  \n",
    "scale = count.max()/weib(x, 1., 5.).max()  \n",
    "scale = count.max()/weib(a, 1., 5.).max()  \n",
    "plt.plot(x, weib(x, 1., 5.)*scale)  \n",
    "plt.show()  \n"
   ]
  },
  {
   "cell_type": "code",
   "execution_count": 18,
   "metadata": {},
   "outputs": [
    {
     "name": "stdout",
     "output_type": "stream",
     "text": [
      "[1.2901142  0.77031299 1.07468489 0.88322589 0.90318943 1.11372696\n",
      " 1.29357008 0.53338092 1.06224219 1.01012858 0.94973266 0.86522742\n",
      " 0.92856132 0.79525729 1.22005745 0.67840376 0.69818367 1.04267798\n",
      " 0.91061206 1.00146932 0.98947711 1.0485798  0.68769974 1.03959783\n",
      " 0.83276852 1.03322874 0.84537332 1.11765119 1.13375748 1.00140727\n",
      " 0.79145715 0.87879991 0.85252809 0.72545005 0.58549922 0.99435965\n",
      " 0.9028498  0.58662593 0.99880507 0.98190854 0.94218311 0.65083205\n",
      " 0.91123788 0.93222631 0.66190531 0.78010664 1.42579974 1.29691893\n",
      " 1.17590145 0.92418255 1.05654231 0.64562387 0.88948832 1.03628934\n",
      " 0.81939669 1.13110687 1.0963933  0.80178542 0.53815781 0.99686542\n",
      " 0.7677759  1.06753843 0.96190161 1.15034683 0.6000646  0.89876127\n",
      " 1.14236099 1.11600915 1.12390614 0.60528147 0.91784524 0.98040579\n",
      " 0.95042085 0.40955429 1.0798207  1.06279338 0.92619537 0.6944078\n",
      " 0.71600506 0.40000714 0.95609696 1.0393336  1.02144049 0.94402037\n",
      " 0.88573305 1.04034998 0.95642949 0.97629802 0.63026797 1.30687955\n",
      " 0.45873429 1.01467449 1.04522945 0.87604383 1.04427616 1.26420381\n",
      " 1.058589   1.09632357 0.75415836 0.98667754 0.75416547 1.00438143\n",
      " 1.13565787 0.86583104 0.75446763 1.18488446 0.79253704 0.8123263\n",
      " 1.33274569 1.24019937 1.1315139  0.66706943 1.08869103 0.8835066\n",
      " 0.88737107 0.80117826 0.80572072 0.74251917 0.8316316  0.56555902\n",
      " 0.87357701 0.93368006 1.39203664 0.73437767 1.03336247 0.78951608\n",
      " 0.82134146 1.2193751  0.95882534 1.13075071 1.27617085 0.95691375\n",
      " 1.137383   1.2112539  0.88695064 0.651749   0.91964145 0.81154918\n",
      " 1.1475254  1.23873652 0.54289199 0.91016093 0.75309175 0.91879997\n",
      " 0.60722242 0.82903766 0.65053986 0.88016785 0.56245826 1.02467488\n",
      " 1.20083422 1.16682811 0.92913438 0.64481261 1.10998423 0.94956097\n",
      " 0.73237635 1.00522366 1.09731621 0.82208623 1.05360235 0.83511354\n",
      " 1.08109115 0.97115482 1.13565579 0.7866359  1.07636847 0.80656169\n",
      " 0.91603609 1.16024784 1.02869311 1.11992656 0.98798575 0.98965656\n",
      " 1.22192524 0.75849733 1.11963713 0.99419265 1.14956366 1.31670913\n",
      " 0.80175155 1.18389894 0.73906946 0.87075224 1.28341328 0.71542834\n",
      " 0.81793871 1.19108355 0.8639113  0.9427277  0.78798591 0.93013862\n",
      " 0.93931006 1.2778369  0.89506634 1.34574105 0.88635213 0.65289735\n",
      " 0.99455812 0.97119653 1.10279888 0.97084075 1.11649386 0.95863025\n",
      " 1.13063239 0.93470314 0.94253667 0.93908382 1.09338011 0.91033462\n",
      " 0.7345645  1.02446967 1.18143738 0.68278716 0.7789884  0.87415319\n",
      " 0.69188745 1.07693795 1.07047835 0.91289282 1.21502818 1.18388812\n",
      " 1.11262576 1.01613604 1.26042155 1.07693882 1.14387465 0.9222362\n",
      " 1.22841598 1.09313376 0.93185208 1.15432151 0.6864211  0.87713444\n",
      " 0.96374745 1.11498099 1.11916122 0.85697864 0.95897515 0.89716867\n",
      " 0.78783015 0.68372476 0.94805011 1.03368604 1.04522263 1.10233556\n",
      " 1.05912357 0.90203827 0.69454047 0.95012333 0.87634633 0.43177389\n",
      " 1.19600911 0.98914963 1.12728475 0.93114896 0.6548561  0.79975736\n",
      " 1.01772056 1.20737868 0.99491836 1.19434124 1.16916819 0.78968673\n",
      " 0.7245787  1.01971524 1.076269   0.95874854 1.09879742 1.2847801\n",
      " 0.71492372 0.91765442 0.64229947 0.83334477 0.6167886  1.07230608\n",
      " 0.97354457 1.04300479 0.9393967  0.4617957  0.74736766 0.90637445\n",
      " 0.71621681 1.11814943 0.41834254 0.83097328 0.93172725 0.90237219\n",
      " 0.77267713 1.24824999 1.00325977 0.66858722 1.26075456 0.54455848\n",
      " 1.02954596 1.3399603  1.02845809 0.93939962 0.72050249 0.96616768\n",
      " 1.0594969  0.63615893 1.09912526 0.98987405 0.58754836 1.09846996\n",
      " 0.98638882 1.11283625 0.74076352 0.8260989  1.19535168 1.22603102\n",
      " 1.28923752 0.47082181 0.89019526 1.26499391 1.01479263 0.91253681\n",
      " 0.68904772 0.93239578 1.0838577  0.97318674 0.87409315 1.54863931\n",
      " 0.67406682 1.15219532 0.72089304 0.79082032 1.1636298  0.81108194\n",
      " 0.74904516 0.76792833 1.26783463 1.23491466 1.0581276  0.95756281\n",
      " 1.33360168 1.0119749  0.92021884 1.14996665 0.98675792 0.93670504\n",
      " 1.01385924 0.78567027 0.61437368 1.04593937 0.94045111 0.90435766\n",
      " 1.14667858 1.12905873 0.80748785 0.90083558 1.03292169 0.95951827\n",
      " 1.06034009 0.58127272 1.05890831 0.78618547 0.67193825 0.84417945\n",
      " 1.010368   0.95568716 0.4467344  0.85669478 0.70498824 1.00005617\n",
      " 0.7759331  0.77533294 1.00366128 0.85763955 1.0376028  0.89015136\n",
      " 0.88718918 0.85981462 0.94371314 1.29863475 0.86050404 0.55970898\n",
      " 0.71234413 0.86706554 1.14825714 0.87049867 1.11779394 0.79265094\n",
      " 1.05266911 0.71857763 1.13585946 1.00809694 0.93628407 1.3765945\n",
      " 1.01281212 1.32285389 0.99799442 1.2342472  1.03244031 0.95317791\n",
      " 0.85811374 0.87337134 0.89227986 0.7011139  0.94778458 1.43692199\n",
      " 1.01991227 0.52031399 0.78332076 1.13944969 0.97130605 0.64757863\n",
      " 0.93655798 0.75460588 1.23024311 1.02446027 0.93460217 1.05436529\n",
      " 0.93474766 0.8572303  1.01674526 0.80099549 1.01110694 1.10020398\n",
      " 1.09972399 0.76502012 0.9135458  1.20537625 0.68777057 0.72619539\n",
      " 0.69492259 0.46778381 0.8148916  0.89846156 1.28026667 0.79109841\n",
      " 1.17399652 0.92653572 0.7693261  0.85487614 1.04862337 0.85398278\n",
      " 0.89021985 0.88575697 1.00407177 1.18616194 0.3327336  0.9592066\n",
      " 1.1542355  0.67816884 0.51293511 1.26021199 1.09645696 1.07083844\n",
      " 0.5974996  0.96612735 0.96947336 0.75404495 1.13349027 0.98888959\n",
      " 1.05789221 1.25123136 0.98528668 1.07809325 0.76598591 0.72812274\n",
      " 0.67449733 0.94786242 0.68721879 0.76549811 0.97178021 1.07192076\n",
      " 1.25041753 1.15812281 1.08039869 1.01218967 1.02475984 0.97630982\n",
      " 0.25566953 1.08994061 0.8548834  1.09713291 1.34667839 0.83569305\n",
      " 1.21853665 1.08094297 0.79639616 0.82131907 1.13855664 0.68851322\n",
      " 1.10158637 0.76399612 0.79518591 1.03768213 1.17420735 1.07007097\n",
      " 1.18246043 1.18255614 0.94621396 0.98252698 0.81531702 0.89629946\n",
      " 0.688441   0.9917917  1.32852365 0.69703212 1.02734833 0.9834488\n",
      " 1.0130541  1.1224176  1.06271824 0.79829217 0.9024571  0.97154243\n",
      " 0.77701942 0.94349167 0.90525367 1.05890104 0.57033907 0.75176654\n",
      " 0.55707494 0.69575568 1.01531531 0.7899726  0.88535454 1.26177971\n",
      " 0.84903165 0.83237848 1.01551478 0.76589569 1.2622491  0.96979358\n",
      " 1.14983445 1.01723233 0.49263345 1.18261703 0.45980804 1.04196307\n",
      " 0.95133476 0.99320792 1.04683016 0.85928197 0.61972346 1.01118986\n",
      " 1.15009486 1.02225723 0.88899768 0.94286871 0.98945627 0.93902629\n",
      " 0.43196809 0.71473263 0.59984905 0.80644033 0.82595792 0.7708642\n",
      " 1.18340483 1.06530215 0.39911675 0.73742933 1.243027   0.95468744\n",
      " 0.93745684 0.94185503 1.28686486 1.22151336 1.02499829 0.95174541\n",
      " 1.08677616 0.78811826 1.04815357 0.89555966 0.63090511 0.80246418\n",
      " 1.06638125 0.84949242 1.05221924 0.96087386 1.34944204 0.87483295\n",
      " 1.03037054 0.87267498 0.6209491  1.13488527 0.39915502 1.06985722\n",
      " 1.07823271 0.83369718 0.76448157 1.00049976 0.88057691 1.12794669\n",
      " 1.0591022  0.94245869 0.83416864 1.15807374 0.89823609 0.98932345\n",
      " 0.86576647 1.07193597 1.0837725  0.98929435 0.89793034 1.13038449\n",
      " 1.09912262 0.76558786 1.19656436 1.12681185 1.12248801 1.00774977\n",
      " 1.07251586 1.06797491 0.67105184 0.85730852 1.1118811  1.12036366\n",
      " 0.94066332 0.80538314 1.17072548 0.66067171 0.57310843 1.07423407\n",
      " 1.02472626 1.01114122 1.15546348 0.89532288 0.9858364  1.1285006\n",
      " 1.04479644 1.33726531 1.09649428 0.77853682 0.73449075 1.26105685\n",
      " 1.1358146  1.22962909 0.77053566 1.04000209 0.63024815 1.24206753\n",
      " 0.94206303 0.87490015 1.08670778 1.20888642 1.02667719 0.67962614\n",
      " 0.50550314 1.26996536 1.03535748 0.92180225 0.8083069  0.87795082\n",
      " 0.80992812 1.05714347 0.8212598  0.73620931 0.7554192  0.88736369\n",
      " 1.21032286 1.00799624 0.82516377 0.86193059 1.14769382 0.88102389\n",
      " 0.8097369  1.0302179  0.86762277 1.07997905 0.76607854 0.97020948\n",
      " 1.12178417 1.12296811 0.59576151 0.26494069 0.52003842 1.11453485\n",
      " 0.97057418 0.80609044 0.98561198 0.84578976 1.34112698 0.87264615\n",
      " 0.95422481 1.08709549 0.77328529 0.96952445 0.84957537 0.91943931\n",
      " 1.01289675 0.96797858 0.88265475 0.81505992 0.8441526  0.84800459\n",
      " 0.75725046 1.02325026 0.88915503 0.84629011 0.88235482 0.89057183\n",
      " 0.80546006 0.8695625  0.98862121 1.17327652 0.80694165 0.73422026\n",
      " 0.70345806 0.50432758 1.18061502 1.03196508 0.60586378 1.05181897\n",
      " 0.84709845 0.96586358 0.8409502  0.9137158  1.1781362  1.11844054\n",
      " 0.86269798 0.86931307 0.6950876  0.96544839 0.65598246 1.16248272\n",
      " 1.14950648 1.11623719 0.49095096 0.81335239 0.76233542 0.8805135\n",
      " 1.24464927 1.08490342 0.94452661 1.38163596 0.57571354 0.90386869\n",
      " 0.84578056 1.11421951 0.92188763 0.89732498 0.69447865 1.09566463\n",
      " 1.27157039 1.09034284 1.2998459  0.7274838  0.99755429 0.89717677\n",
      " 0.51802488 1.08599989 0.71901665 1.20991704 0.76044619 0.787266\n",
      " 1.28568144 0.81629861 1.13489305 1.06171137 1.14983001 0.59500106\n",
      " 0.9145969  0.86618185 1.01391408 1.19016025 0.98579253 1.12477139\n",
      " 1.16515085 0.91712953 0.8843953  0.91605788 0.8184301  0.72874106\n",
      " 1.06636992 1.23948968 0.93649238 0.83645668 0.65529721 1.00467625\n",
      " 0.72057347 1.09186332 0.89525137 0.83537102 1.00777746 1.15750381\n",
      " 1.11331394 1.2440126  1.02506872 1.16498509 0.87496714 1.05466297\n",
      " 1.15279204 0.54360501 1.06193529 1.09874887 0.84430429 0.82748214\n",
      " 1.32391278 1.00267177 0.8180351  0.73005239 1.04889847 0.63023081\n",
      " 0.66380655 0.99308204 0.94120499 0.53960769 0.9428762  1.22126141\n",
      " 1.00240801 1.10260624 1.18617108 0.91638713 1.05378156 0.97314776\n",
      " 1.16394412 0.98624507 1.10667044 1.04058432 0.76234869 0.89704234\n",
      " 1.14074913 0.89913698 0.85889733 1.23263849 0.94203702 1.11758996\n",
      " 0.8367121  0.76030477 0.87198254 0.68856003 1.05628587 1.01229372\n",
      " 1.02982861 0.66281504 1.43092407 1.09867081 1.32896378 0.67793737\n",
      " 0.789208   1.13817767 0.96535987 0.69981387 1.14116077 1.02444067\n",
      " 1.08981368 0.75598338 0.75065707 1.27637006 0.59052583 0.92025723\n",
      " 0.84573126 1.13832563 0.74859172 0.79664271 0.68676148 0.68808621\n",
      " 0.76609203 0.41449582 0.74681984 0.64558107 0.80925683 0.89968355\n",
      " 1.13834821 1.11021427 1.13669596 0.86337254 0.895189   0.65821713\n",
      " 1.14304841 1.21472977 0.76605145 0.73291576 0.568318   0.75382289\n",
      " 1.26442562 1.1731996  0.72075504 0.86993448 0.72358853 0.73959186\n",
      " 0.92384721 0.55069928 1.10856645 0.77970949 1.14905775 0.76372583\n",
      " 1.0410765  0.93414006 0.89932767 1.00687959 0.94319388 1.36377329\n",
      " 0.95139476 0.91343196 0.93860725 0.69076872 1.15184142 0.63115444\n",
      " 0.53250655 0.88488902 0.89611361 1.32619819 0.78086167 0.66215045\n",
      " 1.09252164 0.79416758 0.96125636 0.88741354 0.62406868 0.66710208\n",
      " 0.7610964  0.79159718 1.06383289 0.74604584 0.75536675 0.73290006\n",
      " 0.99520627 0.83013354 0.82379584 0.72641629 0.58693409 0.54939587\n",
      " 1.27108252 0.57612939 0.77804002 1.11241429 0.64679628 0.90491951\n",
      " 0.80926129 0.86833755 0.90719073 0.88017627 0.60525118 0.89267865\n",
      " 1.09897759 0.92775155 1.14469012 0.56515897 0.72208582 0.53151509\n",
      " 0.64973118 0.83054313 1.00318938 0.51986134 1.35394832 0.8922276\n",
      " 0.77985909 0.84866604 0.56964247 0.73696595 0.95921695 0.58412972\n",
      " 0.93469069 0.90485096 1.04687229 1.15982993 1.20560411 1.05159088\n",
      " 0.88010351 0.97508136 0.87384163 0.59530184 1.01318374 0.8788414\n",
      " 0.54629062 0.63387813 0.97344306 1.17676351 1.16362945 1.2029923\n",
      " 1.0200769  1.10301152 0.91566635 1.10503501 1.34712223 0.92851604\n",
      " 0.66426008 1.00965216 1.15842605 1.00269965 1.05011689 1.01066245\n",
      " 0.45924812 0.63157386 1.17420301 1.43407745 1.11920285 1.02044337\n",
      " 0.84412016 0.74983945 1.30830891 1.09225347 0.82455734 1.16080533\n",
      " 0.92410753 0.94332883 0.87624642 1.08910159 0.90714816 0.99241202\n",
      " 1.00172438 0.96758937 0.39216031 0.90667641]\n"
     ]
    }
   ],
   "source": [
    "# Draw samples from the distribution:\n",
    "\n",
    "a = 5. # shape\n",
    "s = np.random.weibull(a, 1000)\n",
    "print(s)\n"
   ]
  },
  {
   "cell_type": "code",
   "execution_count": 17,
   "metadata": {},
   "outputs": [
    {
     "data": {
      "image/png": "[encoded data removed]",
      "text/plain": [
       "<Figure size 432x288 with 1 Axes>"
      ]
     },
     "metadata": {},
     "output_type": "display_data"
    }
   ],
   "source": [
    "\n",
    "# Display the histogram of the samples, along with the probability density function:\n",
    "\n",
    "import matplotlib.pyplot as plt\n",
    "x = np.arange(1,100.)/50.\n",
    "def weib(x,n,a):\n",
    "    return (a / n) * (x / n)**(a - 1) * np.exp(-(x / n)**a)\n",
    "count, bins, ignored = plt.hist(np.random.weibull(5.,1000))\n",
    "x = np.arange(1,100.)/50.\n",
    "scale = count.max()/weib(x, 1., 5.).max()\n",
    "plt.plot(x, weib(x, 1., 5.)*scale)\n",
    "plt.style.use(\"ggplot\")\n",
    "plt.show()\n"
   ]
  },
  {
   "cell_type": "markdown",
   "metadata": {},
   "source": [
    "### (d)numpy.random.Generator.rayleigh\n",
    "### Generator.rayleigh(scale=1.0, size=None)\n",
    "#### https://numpy.org/doc/stable/reference/random/generated/numpy.random.Generator.rayleigh.html#numpy.random.Generator.rayleigh"
   ]
  },
  {
   "cell_type": "markdown",
   "metadata": {},
   "source": [
    "Draw values from the distribution and plot the histogram"
   ]
  },
  {
   "cell_type": "code",
   "execution_count": 85,
   "metadata": {
    "scrolled": false
   },
   "outputs": [
    {
     "data": {
      "image/png": "[encoded data removed]",
      "text/plain": [
       "<Figure size 432x288 with 1 Axes>"
      ]
     },
     "metadata": {},
     "output_type": "display_data"
    }
   ],
   "source": [
    "from matplotlib.pyplot import hist\n",
    "rng = np.random.default_rng()\n",
    "values = hist(rng.rayleigh(3, 100000), bins=200, density=True)\n",
    "plt.show()"
   ]
  },
  {
   "cell_type": "code",
   "execution_count": 86,
   "metadata": {
    "scrolled": true
   },
   "outputs": [
    {
     "data": {
      "text/plain": [
       "0.0874"
      ]
     },
     "execution_count": 86,
     "metadata": {},
     "output_type": "execute_result"
    }
   ],
   "source": [
    "# Wave heights tend to follow a Rayleigh distribution. \n",
    "# If the mean wave height is 1 meter, what fraction of waves are likely to be larger than 3 meters?\n",
    "meanvalue = 1\n",
    "modevalue = np.sqrt(2 / np.pi) * meanvalue\n",
    "s = rng.rayleigh(modevalue, 1000000)\n",
    "\n",
    "# The percentage of waves larger than 3 meters is:\n",
    "100.*sum(s>3)/1000000."
   ]
  },
  {
   "cell_type": "code",
   "execution_count": 87,
   "metadata": {
    "scrolled": true
   },
   "outputs": [
    {
     "data": {
      "text/plain": [
       "array([0.91168297, 0.45651764, 0.96651547, ..., 1.17121925, 0.31816309,\n",
       "       0.53240679])"
      ]
     },
     "execution_count": 87,
     "metadata": {},
     "output_type": "execute_result"
    }
   ],
   "source": [
    "s"
   ]
  },
  {
   "cell_type": "code",
   "execution_count": 88,
   "metadata": {
    "scrolled": true
   },
   "outputs": [
    {
     "data": {
      "text/plain": [
       "1"
      ]
     },
     "execution_count": 88,
     "metadata": {},
     "output_type": "execute_result"
    }
   ],
   "source": [
    "meanvalue"
   ]
  },
  {
   "cell_type": "code",
   "execution_count": 89,
   "metadata": {
    "scrolled": true
   },
   "outputs": [
    {
     "data": {
      "text/plain": [
       "0.7978845608028654"
      ]
     },
     "execution_count": 89,
     "metadata": {},
     "output_type": "execute_result"
    }
   ],
   "source": [
    "modevalue"
   ]
  },
  {
   "cell_type": "markdown",
   "metadata": {},
   "source": [
    "### (e)numpy.random.Generator.zipf\n",
    "\n",
    "#### https://numpy.org/doc/stable/reference/random/generated/numpy.random.Generator.zipf.html#numpy-random-generator-zipf\n"
   ]
  },
  {
   "cell_type": "markdown",
   "metadata": {},
   "source": [
    "### Generator.zipf(a, size=None)"
   ]
  },
  {
   "cell_type": "markdown",
   "metadata": {},
   "source": [
    "Draw samples from a Zipf distribution."
   ]
  },
  {
   "cell_type": "code",
   "execution_count": 80,
   "metadata": {
    "scrolled": false
   },
   "outputs": [],
   "source": [
    "# Draw samples from the distribution:\n",
    "a = 2. # parameter\n",
    "s = np.random.default_rng().zipf(a, 1000)"
   ]
  },
  {
   "cell_type": "code",
   "execution_count": 81,
   "metadata": {
    "scrolled": true
   },
   "outputs": [
    {
     "data": {
      "text/plain": [
       "array([  3,   1,   1,   1,   1,   1,   2,   2,   1,   2,   1,   2,   2,\n",
       "         2, 339,   1,   1,   3,   2,   1, 926,   8,   1,   1,   1,   1,\n",
       "         1,   1,   3,   3,   4,   2,   4,   2,   1,   1,   1,   1,   4,\n",
       "        15,  23,  14,   1,  16,   2,   1,   1,   1,   1,   1,   1,   1,\n",
       "         8,   1,   1,   2,   8,   1,   3,   4,   1,   2,   1,   1,  59,\n",
       "         1,   1,   1,   1,   1,   1,   4,   1,   1,   3,  31,   1,   1,\n",
       "         1,   1,   1,   1,   2,   1,   1,   1,   1,   1,   3,   1,   1,\n",
       "         1,   1,   2,   1,  10,   3,   5,   1,   1,   2,   1,   1,   2,\n",
       "         1,   1,   2,   1,   1,   1,   2,   3,   2,   3,   2,   2,   1,\n",
       "         1,   5,   1,   1,   1,   2,   1,   1,   1,   1,   1,   1,   1,\n",
       "         1,   1,   2,   2,   1,   1,   1,   1,   1,   1,   1,   5,   3,\n",
       "         2,   1,   1,   1,   3,   7,   2,   1,   1,   4,   1,   1,   1,\n",
       "         1,   1,   1,   1,   1,   2,   1,   2,   1,   1,   2,   1,   2,\n",
       "         1,   1,   1,   2,   3,   1,   1,   2,   1,   3,  59,   1,   1,\n",
       "         1,   1,   1,   1,   7,   1,   1,   3,   1,   3,   1,   2,   3,\n",
       "         4,   2,   1,   1,   1,   3,   1,   1,  14,   1,   2,   4,   2,\n",
       "         2,   1,   1,   1,   1,   1,  14,   2,   1,   1,   1,   1,   1,\n",
       "         1,   4,   9,  46,   1,   1,   1,   1,  11,   1,   1,   1,   1,\n",
       "         1,   9,   2,   1,  45,   1,   1,   1,   1,   1,   3,   2,   1,\n",
       "         3,   1,   1,   3,  12,   1,   4,   4,   2,   1,   1,   1,   1,\n",
       "         1,   2,  10,   1,   1,   1,   1,   1,   1,   1,   1,   1,   1,\n",
       "         5,   5,   1,   1,   2,   1,   1,   1,   1,   1,   1,   9,   4,\n",
       "         1,   4,   1,   1,   1,   1,   1,  56,   1,   1,   1,   3,   3,\n",
       "         1,   1,   4,   1,   1,   1,   2,   2,   3,   4,   1,   1,   2,\n",
       "         6,   1,   1,  11,   1,   1,   1,   4,   1,   1,   1, 331,   1,\n",
       "         1,   1,   5,   1,   1,   1,   2,   1,   1,   1,   1,   4,   4,\n",
       "         2,   1,   1,  12,  36,   1,   6,   8,   6,   1,   1,   2,   1,\n",
       "         1,   1,   4,   1,   2,   1,   2,   1,   1,   1,   1,   1,   1,\n",
       "         1,   1,   1,   8,   7,   1,   3,   1,   1,   1,   1,   1,   1,\n",
       "         1,   1,   1,  12,   1,   1,   1,   1,   3,  11,   1,   2,  36,\n",
       "         1,   1,   1,   2,   2,   1,   1,   1,   1,   1,   1,   5,   1,\n",
       "         1,   2,   1,   1,   1,   1,   2,   1,   2,   3,   1,   3,   3,\n",
       "         1,   3,   8,   2,   3,   1,   1,   4,   4,   1,   1,   3,   1,\n",
       "         3,   7,   1,   2,   7,  17,   2,   1,   1,   1,  13,  11,   2,\n",
       "         3,   1,  10,   3,   5,   2,   9,   1,   1,   3,   5,   2,   1,\n",
       "         1,   1,   2,  18,   1,   1,   3,   2,   1,   1,   1,   1,   2,\n",
       "         2,  54,   3,   3,   1,   2,   1,   1,   2,   1,   6,   1,   2,\n",
       "         1,   1,   1,   1,   1,   2,   1,   1,   3,   4,   2,   5,   1,\n",
       "         1,   2,   3,   1,   1,   1,   9,   1,   1,   1,   1,   1,   1,\n",
       "         3,   3,   5,   2,   1,   4,   1,   1,  30,   1,   1,   1,   6,\n",
       "         1,   1,   1,   1,   1,   1,   1,   1,   1,  46,   1,  12,   1,\n",
       "         2,   2,   2,   1,   1,   1,   3,   1,   1,   2,   1,   1,   1,\n",
       "         1,   1,   1,   2,   2,   1,   1,   1,   1,   1,   1,   1,   8,\n",
       "         1,   1,   1,   1,   4,   1,   1,   2,   1,   1,   1,   1,   3,\n",
       "         2,   1,   1,   1,   1,   1,   1,   1,   1,   1,   1,   2,   3,\n",
       "         3,   1,   1,   1,   5,   5,   2,   1,   1,   1,   4,   1,   1,\n",
       "         2,   2,   1,   1,   7,   1,   2,   3,   2,   1,   2,   1,   1,\n",
       "         1,   1,   1,   2,   2,   3,   6,  14,   1,   1,   1,   1,   1,\n",
       "         2,   1,   1,   5,   3,   1,   1,   1,   1,   1,   2,   2,   2,\n",
       "         3,   1,   1,   1,   1,   6,   1,   1,   1,   2,   1,   1,   1,\n",
       "         1,   6,   1,   2,   1,   1,   2,   1,   1,   1,   1,   1,   3,\n",
       "         3,   1,   2,   1,   2,   1,   2,   1,   1,   3,  43,   1,   2,\n",
       "         1,   1,   1,   5,   2,   1,   1,   3,   1,   1,   1,   2,   1,\n",
       "         2,   2,   2,   1,   1,   2,   1,   1,   1,   4,   1,   1,   1,\n",
       "         1,   1,   4,   5,  10,   1,   2,   1,   1,   5,   2,   2,   1,\n",
       "         1,   1,   1,   4,   1,   3,   1,   5,   2,   1,   2,   1,   4,\n",
       "         1,  11,   3,   1,   1,   1,   2,   3,   1,   2,   1,   1,   1,\n",
       "         5,   1,   1,   1,   1,   1,   1,   2,   1,   1,   1,   2,   1,\n",
       "         1,   2,   3,   4,   1,   1,   2,   1,   1,   1,   2,   2,   1,\n",
       "         1,   1,   1,   1,   2,   4,   2,   1,   2,   6,   1,   1,   2,\n",
       "         1,   1,   4,  18,   5,   3,   1,   1,   1,  48,   6,   7,   2,\n",
       "         1,   1,   1,   1,   1,   1,   1,   1,   1,   1,   1,   5,   1,\n",
       "         1,   1,   4,   1,   2,   1,   1,   1,   1,   1,   1,   1,   2,\n",
       "         2,   1,   2,   1,   1,   1,   2,   2,   7,   3,   1,   1,   2,\n",
       "         3,   6,   3,   2,   1,   1,   1,   1,   1,   1,   1,   1,  24,\n",
       "         1,   1,   1,   1,   3,  19,   2,   2,   6,   1,   2,   1,   1,\n",
       "         1,   1,   1,   4,   1,   3,  52,   1,   1,   1,   1,   3,   1,\n",
       "         1,   1,   1,   1,   1,   1,   3,   1,   2,   1,   1,   1,   1,\n",
       "         1,   5,   1,   1,   4,   3,   1,   1,   1,   1,   4,   1,   3,\n",
       "         1,   1,   1,   1,   6,   1,   4,   1,   1,  19,   1,   2,   1,\n",
       "       176,   2,   1,   1,   2,   1,   2,   1,   1,   9,   1,   3,   2,\n",
       "         2,   1,   2,  54,   1,   3,   3,   1,   3,   2,   1,   1,   1,\n",
       "         2,  16,   1,   2,   1,   6,   1,   2,  17,   1,   2,   2,   1,\n",
       "         2,   1,   1,   1,   1,   2,   1,   1,   5,   1,   1,   1,   2,\n",
       "         2,   5,   5,   1,   3,   2,   1,   1,   1,   1,   1,   1,   1,\n",
       "         2,   1,   1,   2,   1,   1,   3,   8,   8,   1,   2,  37,   4,\n",
       "         1,  27,   1,   1,   1,   4,   1,   1,   1,   2,   1,   1],\n",
       "      dtype=int64)"
      ]
     },
     "execution_count": 81,
     "metadata": {},
     "output_type": "execute_result"
    }
   ],
   "source": [
    "s"
   ]
  },
  {
   "cell_type": "code",
   "execution_count": 84,
   "metadata": {
    "scrolled": false
   },
   "outputs": [
    {
     "data": {
      "image/png": "[encoded data removed]",
      "text/plain": [
       "<Figure size 432x288 with 1 Axes>"
      ]
     },
     "metadata": {},
     "output_type": "display_data"
    }
   ],
   "source": [
    "# Display the histogram of the samples, along with the probability density function:\n",
    "import matplotlib.pyplot as plt\n",
    "from scipy import special  \n",
    "# Truncate s values at 100 so plot is interesting:\n",
    "count, bins, ignored = plt.hist(s[s<100], 100, density=True)\n",
    "x = np.arange(1., 100.)\n",
    "y = x**(-a) / special.zetac(a)  \n",
    "plt.plot(x, y/max(y), linewidth=2, color='b')  \n",
    "plt.show()\n",
    "\n"
   ]
  },
  {
   "cell_type": "code",
   "execution_count": null,
   "metadata": {
    "scrolled": false
   },
   "outputs": [],
   "source": [
    "# https://www.javatpoint.com/numpy-random\n",
    "# Function to draw sample from a zipf distribution."
   ]
  },
  {
   "cell_type": "code",
   "execution_count": 78,
   "metadata": {
    "scrolled": true
   },
   "outputs": [
    {
     "data": {
      "image/png": "[encoded data removed]",
      "text/plain": [
       "<Figure size 432x288 with 1 Axes>"
      ]
     },
     "metadata": {},
     "output_type": "display_data"
    }
   ],
   "source": [
    "import numpy as np  \n",
    "import matplotlib.pyplot as plt  \n",
    "from scipy import special  \n",
    "x=2.0  \n",
    "s=np.random.zipf(x, 1000)  \n",
    "count, bins, ignored = plt.hist(s[s<50], 50, density=True)  \n",
    "a = np.arange(1., 50.)  \n",
    "b= a**(-x) / special.zetac(x)  \n",
    "plt.plot(a, b/max(b), linewidth=2, color='g')  \n",
    "plt.show()  \n"
   ]
  },
  {
   "cell_type": "markdown",
   "metadata": {
    "scrolled": true
   },
   "source": [
    "<cr>"
   ]
  },
  {
   "cell_type": "markdown",
   "metadata": {
    "scrolled": false
   },
   "source": [
    "***"
   ]
  },
  {
   "cell_type": "code",
   "execution_count": null,
   "metadata": {},
   "outputs": [],
   "source": []
  }
 ],
 "metadata": {
  "kernelspec": {
   "display_name": "Python 3",
   "language": "python",
   "name": "python3"
  },
  "language_info": {
   "codemirror_mode": {
    "name": "ipython",
    "version": 3
   },
   "file_extension": ".py",
   "mimetype": "text/x-python",
   "name": "python",
   "nbconvert_exporter": "python",
   "pygments_lexer": "ipython3",
   "version": "3.8.3"
  }
 },
 "nbformat": 4,
 "nbformat_minor": 2
}
