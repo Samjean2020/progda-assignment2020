{
 "cells": [
  {
   "cell_type": "markdown",
   "metadata": {},
   "source": [
    "#         Assignment\n",
    "##  Programming for Data Analysis\n",
    "### Due: last commit on or before November 22nd \n"
   ]
  },
  {
   "cell_type": "markdown",
   "metadata": {},
   "source": [
    "#### These are my solutions to the tasks included in this assignment. The author is Jean Bonsenge (G00387887@gmit.ie)\n"
   ]
  },
  {
   "cell_type": "markdown",
   "metadata": {},
   "source": [
    "## Problem statement\n"
   ]
  },
  {
   "cell_type": "markdown",
   "metadata": {},
   "source": [
    "The following assignment concerns the numpy.random package in Python [2]. You are required to create a Jupyter [5] notebook explaining the use of the package, including detailed explanations of at least five of the distributions provided for in the package. There are four distinct tasks to be carried out in your Jupyter notebook.\n",
    "1. Explain the overall purpose of the package.\n",
    "2. Explain the use of the “Simple random data” and “Permutations” functions.\n",
    "3. Explain the use and purpose of at least five “Distributions” functions.\n",
    "4. Explain the use of seeds in generating pseudorandom numbers.\n"
   ]
  },
  {
   "cell_type": "markdown",
   "metadata": {},
   "source": [
    "## Introduction \n",
    "\n",
    "For the purpose of this assignment I am required to provide a less robotique version of numpy.random package and its functions as specified in the problem statement. "
   ]
  },
  {
   "cell_type": "markdown",
   "metadata": {},
   "source": [
    "## References "
   ]
  },
  {
   "cell_type": "markdown",
   "metadata": {},
   "source": [
    "## Development "
   ]
  },
  {
   "cell_type": "markdown",
   "metadata": {},
   "source": [
    "### 1. Explain the overall purpose of the package. \n",
    "\n",
    "#### A definition of Numpy: \n",
    "\n",
    "NumPy stands for numerical Python. It is the essential package for scientific computing with the Python programming language. It provides a wide-range of mathematical functions including random number generators, linear algebra routine, Fourier transforms and other additional functions (NumPy, 2020). (Available at: www. numpy.org). \n",
    "\n",
    "#### A definition of Random sampling (numpy.random):\n",
    "\n",
    "Random sampling (numpy.random) is a module included in the NumPy library in Python. Numpy.random possesses functions capable of generating random numbers (Javatpoint, 2020). The current version of this module (Numpyv.1.19) is structured in four compartments, including simple random data, permutations, distribution and random generator (het.as.utexa, 2014). ( Available at: https://... I provide an example of each part as follows:\n",
    "\n",
    "\n",
    "\n",
    "\n",
    "\n",
    "\n",
    "\n",
    "\n",
    "\n",
    "\n",
    "\n"
   ]
  },
  {
   "cell_type": "markdown",
   "metadata": {},
   "source": [
    "#### \tSimple random data\n",
    "\n",
    "##### numpy.random.rand(d0, d1, ..., dn)\n",
    "Random values in a given shape. Create an array of the given shape and propagate it with random samples from a uniform distribution over [0, 1].\n",
    "\n"
   ]
  },
  {
   "cell_type": "code",
   "execution_count": 25,
   "metadata": {
    "scrolled": false
   },
   "outputs": [
    {
     "data": {
      "text/plain": [
       "array([[0.66646787, 0.70432384],\n",
       "       [0.82845573, 0.13990925],\n",
       "       [0.34769106, 0.93103357]])"
      ]
     },
     "execution_count": 25,
     "metadata": {},
     "output_type": "execute_result"
    }
   ],
   "source": [
    "import numpy as np\n",
    "np.random.rand (3, 2)"
   ]
  },
  {
   "cell_type": "markdown",
   "metadata": {},
   "source": [
    "#### \tPermutations\n",
    "###### numpy.random.shuffle(x)\n",
    "Modify a sequence in-place by shuffling its contents.\n",
    "This function only shuffles the array along the first index of a multi-dimensional array:\n"
   ]
  },
  {
   "cell_type": "code",
   "execution_count": 29,
   "metadata": {
    "scrolled": false
   },
   "outputs": [],
   "source": [
    "import numpy as np\n",
    "arr = np.arange(10)\n",
    "np.random.shuffle(arr)"
   ]
  },
  {
   "cell_type": "code",
   "execution_count": 47,
   "metadata": {
    "scrolled": false
   },
   "outputs": [
    {
     "data": {
      "text/plain": [
       "array([1, 3, 4, 2, 6, 8, 9, 5, 0, 7])"
      ]
     },
     "execution_count": 47,
     "metadata": {},
     "output_type": "execute_result"
    }
   ],
   "source": [
    "arr\n"
   ]
  },
  {
   "cell_type": "code",
   "execution_count": 46,
   "metadata": {
    "scrolled": false
   },
   "outputs": [
    {
     "data": {
      "text/plain": [
       "array([ 9,  2,  8,  1,  5,  0,  6, 11,  4,  7, 10,  3])"
      ]
     },
     "execution_count": 46,
     "metadata": {},
     "output_type": "execute_result"
    }
   ],
   "source": [
    "# This function is used for modifying a sequence in-place by shuffling its contents.\n",
    "# Available at: https://www.javatpoint.com/numpy-random\n",
    "\n",
    "import numpy as np  \n",
    "a=np.arange(12)  \n",
    "a  \n",
    "np.random.shuffle(a)  \n",
    "a  \n"
   ]
  },
  {
   "cell_type": "markdown",
   "metadata": {},
   "source": [
    "#### \tDistribution\n",
    "###### numpy.random.dirichlet(alpha, size=None)\n",
    "Draw samples from the Dirichlet distribution.\n",
    "Draw size samples of dimension k from a Dirichlet distribution. A Dirichlet-distributed random variable can be seen as a multivariate generalization of a Beta distribution. Dirichlet pdf is the conjugate prior of a multinomial in Bayesian inference.\n"
   ]
  },
  {
   "cell_type": "code",
   "execution_count": 14,
   "metadata": {
    "scrolled": false
   },
   "outputs": [
    {
     "data": {
      "image/png": "[encoded data removed]",
      "text/plain": [
       "<Figure size 432x288 with 1 Axes>"
      ]
     },
     "metadata": {
      "needs_background": "light"
     },
     "output_type": "display_data"
    }
   ],
   "source": [
    "import numpy as np\n",
    "s = np.random.dirichlet((10, 5, 3), 20).transpose()\n",
    "\n",
    "plt.barh(range(20), s[0])\n",
    "plt.barh(range(20), s[1], left=s[0], color='g')\n",
    "plt.barh(range(20), s[2], left=s[0]+s[1], color='r')\n",
    "plt.title(\"Lengths of Strings\")\n",
    "plt.show()"
   ]
  },
  {
   "cell_type": "markdown",
   "metadata": {},
   "source": [
    "##### numpy.random.RandomState.pareto \n",
    "##### RandomState.pareto(a, size=None)\n",
    "\n",
    "Draw samples from a Pareto II or Lomax distribution with specified shape.\n",
    "Draw samples from the distribution:\n"
   ]
  },
  {
   "cell_type": "code",
   "execution_count": 7,
   "metadata": {
    "scrolled": false
   },
   "outputs": [],
   "source": [
    "import numpy as np\n",
    "a, m = 3., 1. # shape and mode\n",
    "s = np.random.pareto(a, 1000) + m\n"
   ]
  },
  {
   "cell_type": "code",
   "execution_count": 9,
   "metadata": {
    "scrolled": true
   },
   "outputs": [
    {
     "name": "stdout",
     "output_type": "stream",
     "text": [
      "[ 1.82934987  3.23803894  1.2430043   1.11203689  1.02467642  1.84138243\n",
      "  1.16596649  1.16643678  1.17487982  1.01260976  1.57420182  2.89421769\n",
      "  1.04815983  1.07745165  1.05612469  1.39483896  1.08642239  1.37504037\n",
      "  1.02352774  1.41530565  1.08104918  1.58895725  1.12626608  1.74402352\n",
      "  1.0984727   1.67957284  1.14168549  1.82235433  1.01199416  1.16554181\n",
      "  1.30230128  1.90227885  1.01927866  1.13721901  1.25043512  1.10739678\n",
      "  1.06168857  1.06229793  1.46653825  1.17015865  1.38004896  1.19976167\n",
      "  4.26204493  1.10490927  1.00904016  1.12854815  1.0504812   2.24512873\n",
      "  1.06712604  1.41579234  1.41775354  2.40875895  1.13577707  2.46473525\n",
      "  1.09296851  1.49793044  1.37194302  1.00591897  1.55800645  1.14979491\n",
      "  1.2421149   1.94991379  1.12201095  2.04593877  1.08135853  1.0834143\n",
      "  1.03984767  1.97474211  1.19757746  5.91243245  1.25187086  1.02124195\n",
      "  1.12763438  1.13404273  2.35123332  2.50455194  2.05819628  1.23879891\n",
      "  1.29442426  1.0651423   2.766169    1.08654026  1.57867497  1.41332942\n",
      "  1.1140126   1.00246563  1.46720338  7.68670807  1.49587151  1.06158339\n",
      "  1.20101357  1.59776057  1.63170057  1.23452392  1.05441537  1.10920221\n",
      "  1.13142089  1.07103388  2.70164154  1.37002125  1.04355503  1.28865306\n",
      "  1.48823851  1.95187716  1.07259891  1.23326827  1.02122644  1.49994225\n",
      "  1.29259332  1.44469351  1.3353278   1.37913535  1.50390236  1.17520194\n",
      "  1.0149557   1.45958644  1.55203739  1.22268964  1.10873682  1.13077984\n",
      "  1.9968019   1.19816265  1.07823735  1.11852355  1.01145162  1.2713367\n",
      "  1.51668314  1.01312799  2.30272604  1.07252519  1.36416517  1.0261016\n",
      "  1.65802731  1.27921227  1.12783617  1.5026944   1.43194903  2.52720449\n",
      "  1.28090367  1.56309679  1.01326852  1.3439124   1.20130064  1.6170566\n",
      "  2.47353297  1.24923614  1.41536486  1.54715913  2.76541402  1.13221893\n",
      "  1.16753025  1.14685294  1.53858282  4.50012187  1.11231938  1.08917295\n",
      "  1.11430791  1.23735632  1.56216304  1.42815265  1.72330005  1.06748813\n",
      "  1.91639601  1.83211085  1.06515767  1.25587236  1.0131149   1.06819478\n",
      "  1.24828683  1.24439848  1.24523362  2.4605892   1.0885299   1.12629337\n",
      "  3.19805598  1.58063504  1.50247549  1.00091466  1.56924249  2.53045863\n",
      "  1.71229974  1.06052431  2.80597712  1.48024132  1.09140037  1.18647311\n",
      "  1.01053311  1.07716765  1.12265038  1.12128003  1.23204405  1.01733\n",
      "  1.68039205  1.25254926  1.02029803  1.29524512  1.39255741  3.09518738\n",
      "  1.06666025  1.43946048  1.85104908  1.27568508  1.35382917  1.22198001\n",
      "  1.00390441  1.02501712  1.11686959  1.93667717  4.44742559  1.35366961\n",
      "  1.79632136  1.07652654  1.35159481  1.0845988   1.32939627  1.55604644\n",
      "  1.79289488  1.40896565  1.00887564  1.81765666  2.7698699   5.2748774\n",
      "  1.45152087  1.1832488   1.04408038  1.19404829  1.04959632  1.64502045\n",
      "  1.14402707  1.04072282  1.27422076  2.2967149   2.05480871  1.39714891\n",
      "  1.9200123   1.54634336  2.40056473  1.20384366  1.29604178  1.12747379\n",
      "  1.17388749  1.0480322   1.00346831  1.20178794  1.74791082  1.00225766\n",
      "  1.68291648  1.16900609  1.06140194  1.44184187  1.10265694  1.08915237\n",
      "  1.53128214  1.40834795  2.49027163  1.0399076   1.47312659  2.85604653\n",
      "  1.18011232  1.88234106  1.65004045  1.26326474  1.87412744  1.04942299\n",
      "  1.01241027  1.23850677  1.03963357  1.15915739  1.86968947  1.22812823\n",
      "  1.02400498  1.00774204  1.0205004   2.40265122  1.39074579  1.09916939\n",
      "  1.42593218  1.76169641  1.37747363  1.12214269  1.01976151  1.82125818\n",
      "  1.46141344  1.02547158  1.43106037  1.45086025  1.60627385  1.19164768\n",
      "  1.08837504  1.3156134   1.10797129  1.00471477  1.57361832  1.1312276\n",
      "  1.00156063  1.08187449  1.1607193   1.06648177  1.11488759  1.27748196\n",
      "  1.62143273  1.34140082  1.20773586  1.41681764  1.0476057   1.05638362\n",
      "  1.51423954  1.53388065  1.19733295  7.2654811   1.38026562  1.92065243\n",
      "  1.13026157  1.09922996  1.44208816  1.2663953   1.22136344  1.01732387\n",
      "  6.38175539  1.11192345  1.11545673  2.6648509   1.97632729  2.11628042\n",
      "  1.07060875  1.71264092  2.11950252  1.01658982  1.2186206   1.40390449\n",
      "  1.77379945  1.11846307  1.51399201  1.86230019  1.10648691  1.22416555\n",
      "  2.01895244  1.0072411   1.08175599  1.0062283   1.06482769  2.18898338\n",
      "  1.03736161  1.05518092  3.03167305  1.76701412  1.03841875  2.20653673\n",
      "  1.39666091  2.63415945  1.16608321  1.08870405  1.14037491  1.05154525\n",
      "  1.36541649  1.23149125  1.00167287  2.56775571  1.54805962  1.56275914\n",
      "  2.19208875  2.23130935  1.03624892  2.56382979  1.08106246  1.59000417\n",
      "  1.30028369  1.02737745  1.22020867  1.88278479  1.73473131  1.33880764\n",
      "  2.64393385  1.27268489  1.49142165  1.61193693  1.04145405  1.01860261\n",
      "  1.29915747  1.21116388  1.1433161   2.09650969  1.21179332  2.78436926\n",
      "  1.01522306  1.63499755  1.06682905  1.21701084  1.16657573  1.18908545\n",
      "  1.07437523  2.41253992  1.33870959  1.42123208  1.07556795  1.04259249\n",
      "  1.54269204  1.07571208  1.86455572  1.11062509  1.31505016  1.44967915\n",
      "  1.72599257  1.05618636  1.27772818  1.40729062  1.12394576  1.44834371\n",
      "  2.34809696  2.35988198  1.92804731  1.0344484   1.08412981  1.08148058\n",
      "  1.10932587  2.34006154  1.14069062  1.06315146  1.7375784   1.8326053\n",
      "  1.4715893   1.20911084  1.24376768  1.09354467  2.37997992  1.7143437\n",
      "  1.13053385  1.26179965  1.73941453  1.03664596  1.21438454  2.24111788\n",
      "  1.21312082  1.74549863  1.45086859  1.19965844  1.23911101  1.23705232\n",
      "  1.00151786  1.15464401  1.35045998  1.08677042  1.92874396  1.03052287\n",
      "  1.29909989  1.8011147   2.22620913  1.30512828  2.11812753  1.37875074\n",
      "  1.56500022  1.16639778  1.02723178  1.81902248  1.53891815  1.05129436\n",
      "  1.18559446  1.11421262  1.41028891  1.20412307  1.14712048  1.06839448\n",
      "  2.06157715  1.03782744  1.11768028  1.56621734  1.17167701  1.1498683\n",
      "  1.34531474  1.00531153  1.79186133  1.62761229  1.05362077  1.02887088\n",
      "  1.04048582  1.15997418  1.13012063  1.22434797  1.33429044  1.05511952\n",
      "  1.17615555  1.01356525  1.38097977  1.55770615  1.48268839  1.21708647\n",
      "  1.09767247  4.33494589  1.32973214  1.09921081  1.58720042  1.02342717\n",
      "  1.12842181  1.27588289  1.38454273  1.39151945  1.12804299  1.00520311\n",
      "  1.45685583  1.58212608  1.02584579  1.14390241  1.43699993  1.15810643\n",
      "  2.41313868  3.74430662  1.18496028  1.04243177  1.24221874  2.43741908\n",
      "  1.09270344  1.02925698  1.74607139  1.3290464   1.02404291  1.456054\n",
      "  1.17983124  1.01697525  1.10277745  1.18264782  1.13116163  1.03034718\n",
      "  1.33927691  1.34272441  1.02194134  1.37049679  2.11147185  1.04575161\n",
      "  1.07501198  1.85573336  1.09628425  1.55283326  3.04811424  1.08564383\n",
      "  1.16914203  1.30434388  1.30713067  1.01039924  1.48246137  1.05456601\n",
      "  1.2972706   2.18052178  1.0189513   1.42920514  1.19280314  1.05735658\n",
      "  1.2622319   1.28966799  2.61783944  1.53102388  1.26079562  1.07233252\n",
      "  1.07755554  1.14387729  1.96873604  1.03382182  1.35659879  1.53533628\n",
      "  1.15527673  2.06758559  1.24867756  1.6272683   1.38797974  1.92236885\n",
      "  1.0679364   1.16730453  1.01480009  1.02580581  1.14269893  7.70225542\n",
      "  1.1570718   1.30614665  1.50083609  1.77190274  1.56978904  1.09641952\n",
      "  1.51439209  1.01130141  1.49904713  1.31364284  1.03014784  1.00049491\n",
      "  1.02220538  1.08172222  1.01607704  1.37054068  1.92115121  1.5460846\n",
      "  1.77286705  1.0308639   2.62298326  1.21440718  1.97621567  1.08525446\n",
      "  1.16853937  1.14403829  1.49171851  1.17611714  1.34596893  1.89985378\n",
      "  1.25972252  1.00387817  2.01918536  1.00970061  1.09482597  1.76981009\n",
      "  1.236419    1.4379709   1.32375043  1.69455844  1.06008732  1.34572268\n",
      "  2.03743445  1.51470129  1.42162658  1.41207198  2.24414695  1.23473406\n",
      "  1.03788499  1.06356594  1.09503833  1.70197645  1.0493748   1.02689327\n",
      "  1.62088564  1.31935349  1.15872886  3.21399442  1.01570855  1.57180079\n",
      "  1.09762203  1.17468656  1.08940259  1.55788414  3.81197761  1.1772561\n",
      "  1.27566504  1.09798447  1.03111178  1.07622327  1.18647275  1.31360937\n",
      "  1.46730666  2.42900022  1.12688874  1.75680767  1.62579353  1.12188375\n",
      "  1.47504859  1.16225023  1.02288154  1.70420246  1.30505228  2.7652762\n",
      "  1.5266946   1.33761645  1.0633347   1.40071907  1.06962636  1.06129908\n",
      "  2.28520068  1.01315125  1.04287872  1.05529261  1.12425504  1.91259849\n",
      "  1.30696625  1.14839734  1.09132487  1.7831123   1.41578823  1.38969047\n",
      "  1.11299391  1.29493928  1.59987588  1.22884728  2.55222266  2.45427148\n",
      "  1.24151286  1.35028343  1.04764083  1.78530828  1.2218238   1.7340149\n",
      "  1.3582946   1.18770182  1.46106419  1.38086755  1.1914627   1.92258347\n",
      "  1.24296311  1.06195611  1.40586457  1.84227484  1.65065908  2.37113505\n",
      "  1.22881767  3.14107234  1.38721616  1.06514658  1.17343738  1.4176195\n",
      "  1.65058127  1.13358848  1.43398247  1.05448402  1.11123973  1.17488907\n",
      "  1.33469812  1.19867415  1.4137803   1.07413357  1.74584026  1.04145265\n",
      "  1.51844024  1.24484946  2.11525741  2.99350043  2.70250432  1.27252583\n",
      "  1.34660026  1.21899276  1.22085564  1.19208614  2.72552127  1.73139492\n",
      "  1.27123742  1.49667229  1.26465395  1.03801886  1.55370673  1.01117342\n",
      "  3.52073322  1.13663169  1.4836704   1.3556844   1.18095287  1.1651316\n",
      "  1.06733009  1.08613134  1.24273105  2.00503722  1.03893668  1.48188051\n",
      "  1.1489326   1.08242848 10.74027932  1.29385278  1.82049256  1.20531572\n",
      "  1.13988841  1.50613214  1.03500331  1.90508611  2.36179663  2.44520227\n",
      "  1.02712342  1.54896414  1.00052038  2.24330853  1.0339873   1.1527983\n",
      "  1.07847242  1.20892506  1.11476272  1.15162097  2.77941408  1.03109704\n",
      "  1.34476097  1.13165926  1.26910562  1.1016193   1.42333063  1.98038914\n",
      "  1.08235484  1.1683348   1.02575937  1.05030056  1.04995549  1.1631635\n",
      "  1.19008095  1.19142564  1.28002511  1.83450713  5.70549159  2.06479292\n",
      "  1.77892788  2.15408451  1.84595436  1.35949182  1.31449932  1.12671223\n",
      "  2.09771758  1.5832356   1.35397407  1.19951422  1.37757381  1.16335947\n",
      "  1.09881725  1.12360498  1.08463021  2.14964376  1.47049879  1.1116164\n",
      "  1.31069124  2.609061    1.29613599  1.45101672  1.16906977  1.90377361\n",
      "  1.06884981  1.01076769  1.06750166  1.19369123  1.11687316  1.88575226\n",
      "  1.03583523  2.07481905  1.31795337  2.57131356  1.1637627   1.27389021\n",
      "  1.19446916  1.8342195   1.5525333   1.05011771  1.51963991  2.86708817\n",
      "  1.24490097  1.24427448  1.64317479  1.60128062  1.17600837  1.31634605\n",
      "  1.32423707  1.5828447   1.02847986  1.10054283  1.25448583  1.07284796\n",
      "  1.92294471  1.02749706  1.08437908  1.31596928  1.14738591  1.46299835\n",
      "  1.41345466  1.15605881  1.06855576  1.04656191  1.00325771  1.18376415\n",
      "  1.81608232  1.23493744  1.03893361  1.82255967  1.81552719  1.04800508\n",
      "  1.20612264  1.03919836  1.52782014  1.47138703  1.10639652  2.85231464\n",
      "  1.0854395   1.22160027  1.44800735  1.3458214   1.27719216  1.01610585\n",
      "  1.16721227  1.28725199  1.3388769   1.38013033  1.64736411  1.06879917\n",
      "  1.29649775  1.313905    1.75445705  1.86535634  1.01549801  2.29182886\n",
      "  1.24190834  1.00661168  1.49133744  1.00451906  1.02651205  1.10788178\n",
      "  2.17465641  1.12053669  1.11341385  1.00799871  1.01716475  1.12975259\n",
      "  1.55953955  1.01393105  1.30649994  1.07632793  2.61183961  1.1038811\n",
      "  1.31702684  7.14618177  1.00997048  1.73417215  1.01894411  1.44864358\n",
      "  2.18987762  1.18431311  1.68819551  7.89949482  2.17571648  1.15486251\n",
      "  1.31346393  1.39208448  1.25962893  1.22739275  1.1477362   1.90938388\n",
      "  1.51805534  3.44953892  1.12177592  1.03829407  1.02760837  1.02821721\n",
      "  1.06577978  1.05745393  1.04983105  1.76716983  2.96855591  1.05310819\n",
      "  1.18226172  1.18469724  2.0754188   1.24483095  1.37133699  1.3104776\n",
      "  2.15975001  1.10278636  1.62102464  1.47860385  1.06195626  4.94230214\n",
      "  1.74310595  1.5762551   1.42112687  1.1736742   1.26063888  2.36472815\n",
      "  1.10940856  7.30184552  1.22196543  1.42692145  1.16383816  1.23799853\n",
      "  1.03798749  6.20565589  1.07476684  1.41198658  1.09581158  3.24127267\n",
      "  1.26545224  1.1279496   2.0540935   1.01035153  1.04313122  1.032658\n",
      "  1.49636231  1.40943736  1.11895828  1.13873717  1.04376494  2.2964051\n",
      "  1.24127319  1.1085363   1.02756694  1.20695724  1.25483992  1.00662542\n",
      "  1.13006122  1.73927246  1.05114994  1.04457035  1.319568    1.35286538\n",
      "  1.60717805  1.62223734  2.002231    1.26156876  1.74442853  1.73914493\n",
      "  1.91346994  1.17826646  1.08738936  1.00574779  1.76851616  1.15092056\n",
      "  1.01643431  2.3305542   1.55828165  1.17438886]\n"
     ]
    }
   ],
   "source": [
    "print(s)"
   ]
  },
  {
   "cell_type": "code",
   "execution_count": null,
   "metadata": {
    "scrolled": false
   },
   "outputs": [],
   "source": [
    "Display the histogram of the samples, along with the probability density function:"
   ]
  },
  {
   "cell_type": "code",
   "execution_count": 11,
   "metadata": {
    "scrolled": false
   },
   "outputs": [
    {
     "name": "stderr",
     "output_type": "stream",
     "text": [
      "C:\\Users\\Neringa\\Anaconda3\\lib\\site-packages\\ipykernel_launcher.py:2: MatplotlibDeprecationWarning: \n",
      "The 'normed' kwarg was deprecated in Matplotlib 2.1 and will be removed in 3.1. Use 'density' instead.\n",
      "  \n"
     ]
    },
    {
     "data": {
      "image/png": "[encoded data removed]",
      "text/plain": [
       "<Figure size 432x288 with 1 Axes>"
      ]
     },
     "metadata": {
      "needs_background": "light"
     },
     "output_type": "display_data"
    }
   ],
   "source": [
    "import matplotlib.pyplot as plt\n",
    "count, bins, ignored = plt.hist(s, 100, normed=True, align='left')\n",
    "fit = a*m**a/bins**(a+1)\n",
    "plt.plot(bins, max(count)*fit/max(fit),linewidth=2, color='r')\n",
    "plt.show()\n"
   ]
  },
  {
   "cell_type": "markdown",
   "metadata": {},
   "source": [
    "### 2. Explain the use of the “Simple random data” and “Permutations” functions. "
   ]
  },
  {
   "cell_type": "markdown",
   "metadata": {},
   "source": [
    "### 2.1 Simple random data functions"
   ]
  },
  {
   "cell_type": "markdown",
   "metadata": {},
   "source": [
    "numpy.random.randint\n",
    "numpy.random.randint(low, high=None, size=None)"
   ]
  },
  {
   "cell_type": "code",
   "execution_count": 7,
   "metadata": {
    "scrolled": false
   },
   "outputs": [
    {
     "data": {
      "text/plain": [
       "array([0, 0, 0, 1, 1, 1, 0, 0, 1, 1])"
      ]
     },
     "execution_count": 7,
     "metadata": {},
     "output_type": "execute_result"
    }
   ],
   "source": [
    "import numpy as np\n",
    "# Generate an array of ten ints betwwen 0 and 2 exclusive......\n",
    "np.random.randint(2, size=10)\n"
   ]
  },
  {
   "cell_type": "code",
   "execution_count": 8,
   "metadata": {
    "scrolled": false
   },
   "outputs": [
    {
     "data": {
      "text/plain": [
       "array([0, 0, 0, 0, 0, 0, 0, 0, 0, 0])"
      ]
     },
     "execution_count": 8,
     "metadata": {},
     "output_type": "execute_result"
    }
   ],
   "source": [
    "# Generate an array of ten ints betwwen 0 and 1 exclusive......\n",
    "np.random.randint(1, size=10)\n"
   ]
  },
  {
   "cell_type": "code",
   "execution_count": null,
   "metadata": {
    "scrolled": false
   },
   "outputs": [],
   "source": [
    "# Generate a 2 x 4 array of ints between 0 and 4, inclusive:\n",
    "np.random.randint(5, size=(2, 4))"
   ]
  },
  {
   "cell_type": "markdown",
   "metadata": {},
   "source": [
    "#### numpy.random.random_integers(low, high=None, size=None)\n",
    "\n",
    "#### numpy.random.random_integers"
   ]
  },
  {
   "cell_type": "code",
   "execution_count": 1,
   "metadata": {
    "scrolled": false
   },
   "outputs": [
    {
     "name": "stderr",
     "output_type": "stream",
     "text": [
      "<ipython-input-1-458fce867dfc>:4: DeprecationWarning: This function is deprecated. Please call randint(1, 5 + 1) instead\n",
      "  np.random.random_integers(5)\n"
     ]
    },
    {
     "data": {
      "text/plain": [
       "4"
      ]
     },
     "execution_count": 1,
     "metadata": {},
     "output_type": "execute_result"
    }
   ],
   "source": [
    "import numpy as np\n",
    "\n",
    "#\"DeprecationWarning: This function is deprecated\", means this function will be removed in a subsequent version.\n",
    "np.random.random_integers(5)"
   ]
  },
  {
   "cell_type": "code",
   "execution_count": 7,
   "metadata": {
    "scrolled": false
   },
   "outputs": [
    {
     "name": "stdout",
     "output_type": "stream",
     "text": [
      "4\n"
     ]
    }
   ],
   "source": [
    "import random\n",
    "print(np.random.randint(1, 5 + 1))"
   ]
  },
  {
   "cell_type": "code",
   "execution_count": 3,
   "metadata": {
    "scrolled": false
   },
   "outputs": [
    {
     "name": "stderr",
     "output_type": "stream",
     "text": [
      "<ipython-input-3-c0a5b60d12f0>:1: DeprecationWarning: This function is deprecated. Please call randint(1, 5 + 1) instead\n",
      "  type(np.random.random_integers(5))\n"
     ]
    },
    {
     "data": {
      "text/plain": [
       "numpy.int32"
      ]
     },
     "execution_count": 3,
     "metadata": {},
     "output_type": "execute_result"
    }
   ],
   "source": [
    "type(np.random.random_integers(5))"
   ]
  },
  {
   "cell_type": "code",
   "execution_count": 13,
   "metadata": {
    "scrolled": false
   },
   "outputs": [
    {
     "name": "stderr",
     "output_type": "stream",
     "text": [
      "C:\\Users\\Neringa\\Anaconda3\\lib\\site-packages\\ipykernel_launcher.py:1: DeprecationWarning: This function is deprecated. Please call randint(1, 5 + 1) instead\n",
      "  \"\"\"Entry point for launching an IPython kernel.\n"
     ]
    },
    {
     "data": {
      "text/plain": [
       "array([[2, 2],\n",
       "       [1, 5],\n",
       "       [3, 2]])"
      ]
     },
     "execution_count": 13,
     "metadata": {},
     "output_type": "execute_result"
    }
   ],
   "source": [
    "np.random.random_integers(5, size=(3, 2))"
   ]
  },
  {
   "cell_type": "code",
   "execution_count": null,
   "metadata": {
    "scrolled": false
   },
   "outputs": [],
   "source": [
    "# Choose five random numbers from the set of five evenly-spaced numbers between 0 and 2.5, inclusive "
   ]
  },
  {
   "cell_type": "code",
   "execution_count": 14,
   "metadata": {
    "scrolled": false
   },
   "outputs": [
    {
     "name": "stderr",
     "output_type": "stream",
     "text": [
      "C:\\Users\\Neringa\\Anaconda3\\lib\\site-packages\\ipykernel_launcher.py:1: DeprecationWarning: This function is deprecated. Please call randint(1, 5 + 1) instead\n",
      "  \"\"\"Entry point for launching an IPython kernel.\n"
     ]
    },
    {
     "data": {
      "text/plain": [
       "array([0.   , 1.25 , 1.25 , 1.875, 0.625])"
      ]
     },
     "execution_count": 14,
     "metadata": {},
     "output_type": "execute_result"
    }
   ],
   "source": [
    "2.5 * (np.random.random_integers(5, size=(5,)) - 1) / 4."
   ]
  },
  {
   "cell_type": "code",
   "execution_count": null,
   "metadata": {
    "scrolled": false
   },
   "outputs": [],
   "source": [
    "# Roll two six sided dice 1000 times and sum the results:"
   ]
  },
  {
   "cell_type": "code",
   "execution_count": 8,
   "metadata": {
    "scrolled": false
   },
   "outputs": [],
   "source": [
    "import numpy as np\n",
    "\n",
    "d1 = np.random.randint(1, 6 + 1)\n",
    "d2 = np.random.randint(1, 6 + 1)"
   ]
  },
  {
   "cell_type": "code",
   "execution_count": 9,
   "metadata": {
    "scrolled": false
   },
   "outputs": [],
   "source": [
    "dsums = d1 + d2\n"
   ]
  },
  {
   "cell_type": "code",
   "execution_count": 10,
   "metadata": {
    "scrolled": false
   },
   "outputs": [
    {
     "data": {
      "text/plain": [
       "10"
      ]
     },
     "execution_count": 10,
     "metadata": {},
     "output_type": "execute_result"
    }
   ],
   "source": [
    "dsums"
   ]
  },
  {
   "cell_type": "code",
   "execution_count": null,
   "metadata": {
    "scrolled": false
   },
   "outputs": [],
   "source": [
    "# Display results as a histogram:"
   ]
  },
  {
   "cell_type": "code",
   "execution_count": 16,
   "metadata": {
    "scrolled": false
   },
   "outputs": [
    {
     "data": {
      "image/png": "[encoded data removed]",
      "text/plain": [
       "<Figure size 432x288 with 1 Axes>"
      ]
     },
     "metadata": {
      "needs_background": "light"
     },
     "output_type": "display_data"
    }
   ],
   "source": [
    "import numpy as np\n",
    "import matplotlib.pyplot as plt\n",
    "import seaborn as sns\n",
    "dsums = d1 + d2\n",
    "count, bins, ignored = plt.hist(dsums, 10)\n",
    "plt.style.use(\"ggplot\")\n",
    "plt.show()\n"
   ]
  },
  {
   "cell_type": "code",
   "execution_count": 13,
   "metadata": {
    "scrolled": false
   },
   "outputs": [],
   "source": [
    "plt.show()"
   ]
  },
  {
   "cell_type": "markdown",
   "metadata": {},
   "source": [
    "random_sample([size]) \n",
    "numpy.random.random_sample(size=None)"
   ]
  },
  {
   "cell_type": "code",
   "execution_count": 18,
   "metadata": {
    "scrolled": false
   },
   "outputs": [
    {
     "data": {
      "text/plain": [
       "0.6787705921267129"
      ]
     },
     "execution_count": 18,
     "metadata": {},
     "output_type": "execute_result"
    }
   ],
   "source": [
    "np.random.random_sample()"
   ]
  },
  {
   "cell_type": "code",
   "execution_count": 19,
   "metadata": {
    "scrolled": false
   },
   "outputs": [
    {
     "data": {
      "text/plain": [
       "float"
      ]
     },
     "execution_count": 19,
     "metadata": {},
     "output_type": "execute_result"
    }
   ],
   "source": [
    "type(np.random.random_sample())"
   ]
  },
  {
   "cell_type": "code",
   "execution_count": 20,
   "metadata": {
    "scrolled": false
   },
   "outputs": [
    {
     "data": {
      "text/plain": [
       "array([0.93272249, 0.11381785, 0.51281372, 0.28999551, 0.30264302])"
      ]
     },
     "execution_count": 20,
     "metadata": {},
     "output_type": "execute_result"
    }
   ],
   "source": [
    "np.random.random_sample((5,))"
   ]
  },
  {
   "cell_type": "code",
   "execution_count": 21,
   "metadata": {
    "scrolled": false
   },
   "outputs": [
    {
     "data": {
      "text/plain": [
       "array([[-1.86469836, -3.18070992],\n",
       "       [-1.51473839, -3.67724367],\n",
       "       [-0.99776977, -4.32372381]])"
      ]
     },
     "execution_count": 21,
     "metadata": {},
     "output_type": "execute_result"
    }
   ],
   "source": [
    "# Three-by-two array of random numbers from [-5, 0):\n",
    "5 * np.random.random_sample((3, 2)) - 5"
   ]
  },
  {
   "cell_type": "code",
   "execution_count": null,
   "metadata": {
    "scrolled": false
   },
   "outputs": [],
   "source": []
  },
  {
   "cell_type": "markdown",
   "metadata": {},
   "source": [
    "numpy.random.bytes ()"
   ]
  },
  {
   "cell_type": "code",
   "execution_count": 22,
   "metadata": {
    "scrolled": false
   },
   "outputs": [
    {
     "data": {
      "text/plain": [
       "b'm:%\\xa6\\x89\\x8aE\\xbdl\\xb5'"
      ]
     },
     "execution_count": 22,
     "metadata": {},
     "output_type": "execute_result"
    }
   ],
   "source": [
    "# More examples needed for this function.\n",
    "np.random.bytes(10)"
   ]
  },
  {
   "cell_type": "code",
   "execution_count": null,
   "metadata": {
    "scrolled": false
   },
   "outputs": [],
   "source": []
  },
  {
   "cell_type": "code",
   "execution_count": null,
   "metadata": {
    "scrolled": false
   },
   "outputs": [],
   "source": []
  },
  {
   "cell_type": "markdown",
   "metadata": {},
   "source": [
    "numpy.random.choice ()\n"
   ]
  },
  {
   "cell_type": "code",
   "execution_count": 23,
   "metadata": {
    "scrolled": false
   },
   "outputs": [
    {
     "data": {
      "text/plain": [
       "array([4, 3, 2])"
      ]
     },
     "execution_count": 23,
     "metadata": {},
     "output_type": "execute_result"
    }
   ],
   "source": [
    "# Generate a uniform random sample from np.arange(5) of size 3:\n",
    "np.random.choice(5, 3)"
   ]
  },
  {
   "cell_type": "code",
   "execution_count": 24,
   "metadata": {
    "scrolled": false
   },
   "outputs": [
    {
     "data": {
      "text/plain": [
       "array([3, 3, 3], dtype=int64)"
      ]
     },
     "execution_count": 24,
     "metadata": {},
     "output_type": "execute_result"
    }
   ],
   "source": [
    "#This is equivalent to np.random.randint(0,5,3)\n",
    "# Generate a non-uniform random sample from np.arange(5) of size 3:\n",
    "np.random.choice(5, 3, p=[0.1, 0, 0.3, 0.6, 0])"
   ]
  },
  {
   "cell_type": "code",
   "execution_count": 25,
   "metadata": {
    "scrolled": false
   },
   "outputs": [
    {
     "data": {
      "text/plain": [
       "array([2, 4, 3])"
      ]
     },
     "execution_count": 25,
     "metadata": {},
     "output_type": "execute_result"
    }
   ],
   "source": [
    "# Generate a uniform random sample from np.arange(5) of size 3 without replacement:\n",
    "np.random.choice(5, 3, replace=False)"
   ]
  },
  {
   "cell_type": "code",
   "execution_count": 26,
   "metadata": {
    "scrolled": false
   },
   "outputs": [
    {
     "data": {
      "text/plain": [
       "array([3, 0, 2])"
      ]
     },
     "execution_count": 26,
     "metadata": {},
     "output_type": "execute_result"
    }
   ],
   "source": [
    "# This is equivalent to np.random.permutation(np.arange(5))[:3]\n",
    "# Generate a non-uniform random sample from np.arange(5) of size 3 without replacement:\n",
    "np.random.choice(5, 3, replace=False, p=[0.1, 0, 0.3, 0.6, 0])"
   ]
  },
  {
   "cell_type": "code",
   "execution_count": 27,
   "metadata": {
    "scrolled": false
   },
   "outputs": [
    {
     "data": {
      "text/plain": [
       "array(['pooh', 'pooh', 'Christopher', 'pooh', 'pooh'], dtype='<U11')"
      ]
     },
     "execution_count": 27,
     "metadata": {},
     "output_type": "execute_result"
    }
   ],
   "source": [
    "# Any of the above can be repeated with an arbitrary array-like instead of just integers. For instance:\n",
    "aa_milne_arr = ['pooh', 'rabbit', 'piglet', 'Christopher']\n",
    "np.random.choice(aa_milne_arr, 5, p=[0.5, 0.1, 0.1, 0.3])\n"
   ]
  },
  {
   "cell_type": "code",
   "execution_count": null,
   "metadata": {
    "scrolled": false
   },
   "outputs": [],
   "source": []
  },
  {
   "cell_type": "markdown",
   "metadata": {},
   "source": [
    "### 2.2 Permutations functions"
   ]
  },
  {
   "cell_type": "markdown",
   "metadata": {},
   "source": [
    "numpy.random.normal function\n",
    "\n",
    "numpy.random.shuffle\n",
    "\n",
    "numpy.random.shuffle(x)\n"
   ]
  },
  {
   "cell_type": "code",
   "execution_count": 28,
   "metadata": {
    "scrolled": false
   },
   "outputs": [],
   "source": [
    "arr = np.arange(10)\n",
    "np.random.shuffle(arr)\n"
   ]
  },
  {
   "cell_type": "code",
   "execution_count": 29,
   "metadata": {
    "scrolled": false
   },
   "outputs": [
    {
     "data": {
      "text/plain": [
       "array([3, 7, 9, 6, 8, 1, 0, 5, 2, 4])"
      ]
     },
     "execution_count": 29,
     "metadata": {},
     "output_type": "execute_result"
    }
   ],
   "source": [
    "arr"
   ]
  },
  {
   "cell_type": "code",
   "execution_count": 30,
   "metadata": {
    "scrolled": false
   },
   "outputs": [],
   "source": [
    "# This function only shuffles the array along the first index of a multi-dimensional array:\n",
    "\n",
    "arr = np.arange(9).reshape((3, 3))\n",
    "np.random.shuffle(arr)\n"
   ]
  },
  {
   "cell_type": "code",
   "execution_count": 31,
   "metadata": {
    "scrolled": false
   },
   "outputs": [
    {
     "data": {
      "text/plain": [
       "array([[6, 7, 8],\n",
       "       [0, 1, 2],\n",
       "       [3, 4, 5]])"
      ]
     },
     "execution_count": 31,
     "metadata": {},
     "output_type": "execute_result"
    }
   ],
   "source": [
    "arr"
   ]
  },
  {
   "cell_type": "markdown",
   "metadata": {},
   "source": [
    "numpy.random.permutation\n",
    "\n",
    "numpy.random.permutation(x)"
   ]
  },
  {
   "cell_type": "code",
   "execution_count": 32,
   "metadata": {
    "scrolled": false
   },
   "outputs": [
    {
     "data": {
      "text/plain": [
       "array([8, 6, 4, 0, 7, 9, 1, 5, 3, 2])"
      ]
     },
     "execution_count": 32,
     "metadata": {},
     "output_type": "execute_result"
    }
   ],
   "source": [
    "np.random.permutation(10)"
   ]
  },
  {
   "cell_type": "code",
   "execution_count": 33,
   "metadata": {
    "scrolled": false
   },
   "outputs": [
    {
     "data": {
      "text/plain": [
       "array([ 4, 15,  9, 12,  1])"
      ]
     },
     "execution_count": 33,
     "metadata": {},
     "output_type": "execute_result"
    }
   ],
   "source": [
    "np.random.permutation([1, 4, 9, 12, 15])"
   ]
  },
  {
   "cell_type": "code",
   "execution_count": 34,
   "metadata": {
    "scrolled": false
   },
   "outputs": [
    {
     "data": {
      "text/plain": [
       "array([[3, 4, 5],\n",
       "       [6, 7, 8],\n",
       "       [0, 1, 2]])"
      ]
     },
     "execution_count": 34,
     "metadata": {},
     "output_type": "execute_result"
    }
   ],
   "source": [
    "arr = np.arange(9).reshape((3, 3))\n",
    "np.random.permutation(arr) # Put this f() in the next cell if no outputs."
   ]
  },
  {
   "cell_type": "code",
   "execution_count": 35,
   "metadata": {
    "scrolled": false
   },
   "outputs": [
    {
     "data": {
      "text/plain": [
       "array([[6, 7, 8],\n",
       "       [0, 1, 2],\n",
       "       [3, 4, 5]])"
      ]
     },
     "execution_count": 35,
     "metadata": {},
     "output_type": "execute_result"
    }
   ],
   "source": [
    "np.random.permutation(arr)# Execute this function if no output in the above cell."
   ]
  },
  {
   "cell_type": "code",
   "execution_count": null,
   "metadata": {
    "scrolled": false
   },
   "outputs": [],
   "source": []
  },
  {
   "cell_type": "markdown",
   "metadata": {},
   "source": [
    "### 3. Explain the use and purpose of at least five “Distributions” functions. "
   ]
  },
  {
   "cell_type": "markdown",
   "metadata": {},
   "source": [
    "### 3.1 numpy.random.normal function"
   ]
  },
  {
   "cell_type": "code",
   "execution_count": null,
   "metadata": {
    "scrolled": false
   },
   "outputs": [],
   "source": [
    "# Draw samples from the distribution:\n",
    "mu, sigma = 0, 0.1 # mean and standard deviation.\n",
    "s = np.random.normal(mu, sigma, 1000)\n"
   ]
  },
  {
   "cell_type": "code",
   "execution_count": 39,
   "metadata": {
    "scrolled": false
   },
   "outputs": [
    {
     "data": {
      "text/plain": [
       "True"
      ]
     },
     "execution_count": 39,
     "metadata": {},
     "output_type": "execute_result"
    }
   ],
   "source": [
    "# Verify the mean and the variance:\n",
    "abs(mu - np.mean(s)) < 0.01"
   ]
  },
  {
   "cell_type": "code",
   "execution_count": 40,
   "metadata": {
    "scrolled": false
   },
   "outputs": [
    {
     "data": {
      "text/plain": [
       "True"
      ]
     },
     "execution_count": 40,
     "metadata": {},
     "output_type": "execute_result"
    }
   ],
   "source": [
    "abs(sigma - np.std(s, ddof=1)) < 0.01"
   ]
  },
  {
   "cell_type": "code",
   "execution_count": 25,
   "metadata": {
    "scrolled": false
   },
   "outputs": [
    {
     "data": {
      "image/png": "[encoded data removed]",
      "text/plain": [
       "<Figure size 432x288 with 1 Axes>"
      ]
     },
     "metadata": {},
     "output_type": "display_data"
    }
   ],
   "source": [
    "# https://www.javatpoint.com/numpy-random\n",
    "\n",
    "# Display the histogram of the samples, along with the probability density function: \n",
    "import numpy as np  \n",
    "import matplotlib.pyplot as plt \n",
    "import seaborn as sns\n",
    "mu, sigma = 0, 0.2 # mean and standard deviation  \n",
    "s1 = np.random.normal(mu, sigma, 1000)  \n",
    "abs(mu - np.mean(s1)) < 0.01  \n",
    "abs(sigma - np.std(s1, ddof=1)) < 0.01  \n",
    "count, bins, ignored = plt.hist(s1, 30, density=True)  \n",
    "plt.plot(bins, 1/(sigma * np.sqrt(2 * np.pi)) *np.exp( - (bins - mu)**2 / (2 * sigma**2) ), linewidth=2, color='g')  \n",
    "plt.style.use(\"ggplot\")\n",
    "plt.show()  \n"
   ]
  },
  {
   "cell_type": "code",
   "execution_count": null,
   "metadata": {
    "scrolled": false
   },
   "outputs": [],
   "source": []
  },
  {
   "cell_type": "markdown",
   "metadata": {},
   "source": [
    "### 3.2 numpy.random.uniform function"
   ]
  },
  {
   "cell_type": "code",
   "execution_count": 42,
   "metadata": {
    "scrolled": false
   },
   "outputs": [],
   "source": [
    "# numpy.random.uniform(low=0.0, high=1.0, size=None)\n",
    "# Draw samples from the distribution:\n",
    "\n",
    "s = np.random.uniform(-1,0,1000)\n"
   ]
  },
  {
   "cell_type": "code",
   "execution_count": 43,
   "metadata": {
    "scrolled": false
   },
   "outputs": [
    {
     "data": {
      "text/plain": [
       "True"
      ]
     },
     "execution_count": 43,
     "metadata": {},
     "output_type": "execute_result"
    }
   ],
   "source": [
    "# All values are within the given interval:\n",
    "np.all(s >= -1)\n"
   ]
  },
  {
   "cell_type": "code",
   "execution_count": 44,
   "metadata": {
    "scrolled": false
   },
   "outputs": [
    {
     "data": {
      "text/plain": [
       "True"
      ]
     },
     "execution_count": 44,
     "metadata": {},
     "output_type": "execute_result"
    }
   ],
   "source": [
    "np.all(s < 0)"
   ]
  },
  {
   "cell_type": "code",
   "execution_count": 32,
   "metadata": {
    "scrolled": false
   },
   "outputs": [
    {
     "data": {
      "image/png": "[encoded data removed]",
      "text/plain": [
       "<Figure size 432x288 with 1 Axes>"
      ]
     },
     "metadata": {},
     "output_type": "display_data"
    }
   ],
   "source": [
    "# https://www.javatpoint.com/numpy-random\n",
    "# Display the histogram of the samples, along with the probability density function:\n",
    "import matplotlib.pyplot as plt\n",
    "import seaborn as sns\n",
    "import numpy as np\n",
    "s = np.random.normal(mu, sigma, 1000)  \n",
    "count, bins, ignored = plt.hist(s, 15, density=True)\n",
    "plt.plot(bins, np.ones_like(bins), linewidth=2, color='b')\n",
    "plt.style.use(\"ggplot\")\n",
    "plt.show()\n"
   ]
  },
  {
   "cell_type": "code",
   "execution_count": null,
   "metadata": {
    "scrolled": false
   },
   "outputs": [],
   "source": []
  },
  {
   "cell_type": "markdown",
   "metadata": {},
   "source": [
    "### 3.3 numpy.random.multivariate_normal"
   ]
  },
  {
   "cell_type": "markdown",
   "metadata": {},
   "source": [
    "numpy.random.multivariate_normal\n",
    "numpy.random.multivariate_normal(mean, cov[, size])\n"
   ]
  },
  {
   "cell_type": "code",
   "execution_count": 2,
   "metadata": {
    "scrolled": false
   },
   "outputs": [
    {
     "data": {
      "image/png": "[encoded data removed]",
      "text/plain": [
       "<Figure size 432x288 with 1 Axes>"
      ]
     },
     "metadata": {
      "needs_background": "light"
     },
     "output_type": "display_data"
    }
   ],
   "source": [
    "mean = [0,0]\n",
    "cov = [[1,0],[0,100]] # diagonal covariance, points lie on x or y-axis\n",
    "\n",
    "import matplotlib.pyplot as plt\n",
    "# import numpy to avoid an error (np is not defined)\n",
    "import numpy as np\n",
    "x,y = np.random.multivariate_normal(mean,cov,5000).T\n",
    "plt.plot(x,y,'x'); plt.axis('equal'); plt.show()\n"
   ]
  },
  {
   "cell_type": "code",
   "execution_count": null,
   "metadata": {
    "scrolled": false
   },
   "outputs": [],
   "source": []
  },
  {
   "cell_type": "code",
   "execution_count": 3,
   "metadata": {
    "scrolled": false
   },
   "outputs": [
    {
     "name": "stderr",
     "output_type": "stream",
     "text": [
      "C:\\Users\\Neringa\\Anaconda3\\lib\\site-packages\\ipykernel_launcher.py:3: RuntimeWarning: covariance is not symmetric positive-semidefinite.\n",
      "  This is separate from the ipykernel package so we can avoid doing imports until\n"
     ]
    },
    {
     "data": {
      "text/plain": [
       "(3, 3, 2)"
      ]
     },
     "execution_count": 3,
     "metadata": {},
     "output_type": "execute_result"
    }
   ],
   "source": [
    "mean = (1,2)\n",
    "cov = [[1,0],[1,0]]\n",
    "x = np.random.multivariate_normal(mean,cov,(3,3))\n",
    "x.shape\n",
    "(3, 3, 2)\n",
    "\n",
    "\n"
   ]
  },
  {
   "cell_type": "code",
   "execution_count": 7,
   "metadata": {
    "scrolled": false
   },
   "outputs": [
    {
     "name": "stdout",
     "output_type": "stream",
     "text": [
      "[ True  True]\n"
     ]
    }
   ],
   "source": [
    "# The following is probably true, given that 0.6 is roughly twice the standard deviation:\n",
    "\n",
    "list = (x[0,0,:] - mean) < 0.6\n",
    "print (list) \n"
   ]
  },
  {
   "cell_type": "markdown",
   "metadata": {},
   "source": [
    "### 3.4 numpy.random.la place function"
   ]
  },
  {
   "cell_type": "markdown",
   "metadata": {},
   "source": [
    "numpy.random.laplace\n",
    "numpy.random.laplace(loc=0.0, scale=1.0, size=None)\n",
    "\n"
   ]
  },
  {
   "cell_type": "code",
   "execution_count": 2,
   "metadata": {
    "scrolled": false
   },
   "outputs": [],
   "source": [
    "# Draw samples from the distribution\n",
    "import numpy as np\n",
    "loc, scale = 0., 1.\n",
    "s = np.random.laplace(loc, scale, 1000)\n"
   ]
  },
  {
   "cell_type": "code",
   "execution_count": 3,
   "metadata": {
    "scrolled": true
   },
   "outputs": [
    {
     "data": {
      "text/plain": [
       "array([-6.54465773e-02,  9.43622097e-01,  3.68503807e-01,  2.20607172e-01,\n",
       "        2.06530573e-01,  2.20233507e-02,  1.59962289e+00,  1.37906917e+00,\n",
       "       -5.56426972e-01,  7.91838527e-01,  3.77796120e-01,  2.62692562e+00,\n",
       "       -4.28693556e-01, -1.38708248e+00, -3.21071087e-01, -8.76853408e-02,\n",
       "        6.07770284e-01, -9.91400943e-01,  2.03286553e+00,  1.53984731e+00,\n",
       "       -5.81690867e-01, -3.93363059e+00, -4.60193747e-01,  1.32851830e+00,\n",
       "        6.35724515e-01, -8.49690876e-01, -1.33572589e+00,  1.32565907e-02,\n",
       "        9.82226363e-01, -2.69822846e+00, -1.54489759e-01, -5.07158121e-01,\n",
       "        1.23031495e+00,  5.18031285e+00,  4.36873365e-01, -1.16838027e+00,\n",
       "       -1.79460151e+00,  2.71227729e-01,  1.64677838e+00, -3.05773897e-01,\n",
       "        1.16156458e-01, -6.57744302e-01, -7.32120049e-01, -7.20370008e-01,\n",
       "       -6.71976211e+00,  2.49502226e-01, -1.27322625e+00, -2.69890124e+00,\n",
       "       -1.02313141e+00, -1.66376256e+00,  1.48202103e+00, -1.07995942e-01,\n",
       "        8.65432974e-01, -5.79341547e-03,  7.77195320e-01, -4.44828269e-02,\n",
       "       -2.35335847e-01, -3.22822259e-02, -8.01235773e-01,  3.47718209e-01,\n",
       "       -1.47659796e+00,  1.14934934e-01,  1.44081249e+00, -5.37819693e-01,\n",
       "       -2.90555749e+00,  4.76595332e-01, -1.70872592e-01,  4.45703914e-01,\n",
       "        6.79564029e-01, -1.75604617e+00,  9.26601853e-02, -4.76051589e+00,\n",
       "        3.91059516e-01, -7.08281095e-01, -2.60089836e-01, -1.63616227e-01,\n",
       "        2.21712932e+00, -2.48057103e-02,  5.20986155e-02, -4.27569107e-01,\n",
       "        8.26972379e-01,  3.28924340e+00, -3.89172948e-01,  3.15514306e+00,\n",
       "        1.68244234e+00, -1.52260331e-01,  2.46078255e-01, -2.99348522e-01,\n",
       "       -2.88882486e+00,  1.06139158e+00, -1.03514996e+00,  4.01422148e-01,\n",
       "       -1.13840789e+00,  1.73103509e+00,  3.00972235e-01,  4.90744921e-01,\n",
       "       -2.68154606e-02,  7.32935684e-01,  9.40711448e-01, -1.05804512e+00,\n",
       "       -3.45404574e+00, -7.46386423e-01, -2.26758539e+00, -3.11113695e-02,\n",
       "        9.30159420e-01,  6.15455998e-01,  9.23253022e-02, -4.98023238e-01,\n",
       "        6.95460545e-02, -1.81172130e-01,  1.76273206e-01,  1.27213794e+00,\n",
       "        5.89973890e-01,  1.59781566e+00, -4.54331051e-01, -4.36450829e-01,\n",
       "       -1.58452671e-01,  7.37356622e-01, -2.87293699e-01, -1.59075847e-01,\n",
       "        6.07821749e-01,  4.06408964e+00,  4.43547805e-01, -7.27020380e-02,\n",
       "       -3.10903227e-01, -8.27485457e-01,  3.77767309e-01, -1.82030472e+00,\n",
       "        4.21391994e-01,  7.95429592e-01,  2.16889886e-01, -2.01722020e+00,\n",
       "       -6.91542060e-01,  1.10182130e-01, -1.04467369e+00, -1.92703043e+00,\n",
       "       -1.96523051e+00,  2.81340875e+00,  9.06199207e-01,  2.16089163e-01,\n",
       "       -2.31937484e+00,  1.04918739e+00, -7.92297349e-01, -7.05539377e-01,\n",
       "       -1.09356878e+00,  1.12160993e+00,  1.42260663e-01,  6.18531944e-01,\n",
       "       -2.12493042e+00, -1.41077179e+00,  1.13684879e-01,  1.15385106e+00,\n",
       "        4.16777297e+00, -2.50885806e-02, -1.02405880e-01,  2.14249109e-01,\n",
       "        5.06366500e-01,  1.24851977e+00,  5.86373791e-01, -9.70597805e-02,\n",
       "       -3.83091403e-01,  7.37060053e+00,  1.16896602e-01,  8.02148016e-01,\n",
       "        1.10602037e+00, -2.24038486e+00, -1.03678798e+00,  1.15624557e+00,\n",
       "       -6.37888246e-01,  3.39663890e+00, -1.10598090e+00, -6.62886962e-02,\n",
       "       -6.24858946e-01,  1.49414174e-01, -1.40199112e+00,  4.08563345e-01,\n",
       "       -3.16035512e+00, -1.00417999e+00, -2.92799005e-01, -1.91758439e-01,\n",
       "        8.83666596e-02,  6.46206546e-01, -4.70515750e-01,  1.88878742e+00,\n",
       "       -8.12953557e-01, -1.20421292e+00,  1.79279367e+00, -4.63914866e-01,\n",
       "        2.61388257e-01,  1.80566257e-01,  3.54125182e-01,  2.64049665e-01,\n",
       "       -7.24667647e-01, -5.40712317e-01,  2.73636387e+00,  1.40594826e+00,\n",
       "        3.46450684e+00, -5.39976843e-01, -2.89171869e-01, -1.01553406e+00,\n",
       "        9.13382011e-01, -7.76079418e-01,  1.32995653e-01, -3.53919263e-01,\n",
       "        4.52974691e+00,  1.94996132e+00, -1.34856354e+00, -4.40341064e-01,\n",
       "        2.61380890e-01, -2.21798988e+00,  1.25485343e-01,  2.37428024e+00,\n",
       "        2.59041758e-01,  4.09287735e-01,  1.39002874e+00,  9.12191795e-01,\n",
       "       -4.62488425e-01, -3.63615095e+00, -6.27273840e-01,  2.89763355e-02,\n",
       "        1.64366298e+00, -7.38554685e-01, -2.74654602e+00, -2.59340193e+00,\n",
       "       -1.01793979e+00, -3.07652316e-01,  1.14493174e+00, -1.24480273e+00,\n",
       "        2.26583423e+00, -1.59487991e-02,  7.50566063e-01, -2.78138719e-01,\n",
       "       -7.67781032e-01, -3.09236000e-01,  4.24916879e-02,  1.35106829e+00,\n",
       "       -1.46126778e+00, -1.11527627e+00, -1.82958780e+00,  3.54458034e-01,\n",
       "       -1.13628198e+00,  1.80348596e+00,  1.34801893e+00, -1.06101646e-01,\n",
       "       -1.36696773e+00, -1.65258143e-01, -5.52314335e-01,  2.24389480e-01,\n",
       "       -3.01714076e-01, -1.85539192e-01, -7.32653450e-01, -9.74172278e-02,\n",
       "        1.78555210e+00, -1.39112001e+00,  1.64430820e+00,  1.85676805e+00,\n",
       "        9.70647337e-01, -2.35971640e-01,  2.21774443e+00,  9.98559688e-01,\n",
       "       -3.00406821e-01,  3.71471660e+00,  1.60172589e+00, -1.21455813e+00,\n",
       "        2.03333954e+00, -9.15531672e-01, -8.79124796e-01, -7.76768884e-01,\n",
       "        2.21068983e-01, -1.35432748e+00, -1.78439083e+00, -3.31613829e-01,\n",
       "       -5.78660365e-01,  1.50106161e+00, -9.63712674e-02, -9.09121970e-01,\n",
       "       -1.94596608e-01,  8.36452935e-01,  2.92283398e+00,  1.91461085e+00,\n",
       "        1.23367663e+00, -9.12944645e-01, -7.80091673e-03,  4.97081788e-01,\n",
       "       -2.51605929e-01, -1.04097507e+00,  3.83120441e-01,  1.08932251e+00,\n",
       "       -1.29470233e+00, -1.63538190e+00,  1.09767259e+00, -1.69176566e-01,\n",
       "        7.63147737e-01, -1.40620870e+00,  1.06487694e-01,  2.35276909e-01,\n",
       "       -4.04413547e-01, -2.89282097e-01,  7.53775072e-01,  1.23953977e+00,\n",
       "       -2.61278665e-02, -9.58191246e-01,  1.11281916e+00, -1.05502073e+00,\n",
       "        5.76704215e-01, -2.33811116e-01,  1.18095700e+00, -1.00133200e+00,\n",
       "        9.51219481e-01, -2.18307360e+00, -8.24819956e-01,  1.63327836e+00,\n",
       "       -1.37695697e-01, -1.65834601e+00, -2.97436362e-01,  1.29915390e+00,\n",
       "        1.15975258e+00, -2.17842652e+00, -1.13062139e+00,  1.84959774e-01,\n",
       "       -6.91941595e-01,  5.42714472e-01, -1.66473602e-01,  2.09182296e-01,\n",
       "       -1.73359498e-01, -6.47731410e-01, -6.93703438e-01,  1.81164880e-01,\n",
       "       -2.90446932e+00, -1.29377104e+00, -2.65887266e+00,  2.12120814e-01,\n",
       "       -1.98060504e+00, -1.72473045e-01, -7.65704166e-01, -1.48583397e-01,\n",
       "        7.94805220e-01, -5.00042162e-02, -1.02483026e+00, -2.70094075e+00,\n",
       "       -7.21881246e-01,  1.73016098e+00, -1.08527849e+00,  1.91232109e+00,\n",
       "       -4.01948402e-02, -2.37863639e+00,  1.95365898e+00, -5.70539248e-01,\n",
       "        2.25688959e+00,  8.05919477e-01,  1.98821760e-01, -1.75950602e+00,\n",
       "        9.48605880e-01, -4.24375216e-01,  7.27081228e+00, -1.35930844e+00,\n",
       "        1.60051361e-01, -1.25261603e+00,  5.42288769e-01, -3.30755728e-02,\n",
       "       -3.07016146e-01,  6.05927646e-01, -2.05055520e+00,  2.82393617e+00,\n",
       "       -6.17908413e-01,  1.81786912e+00,  4.53808192e-02, -1.41156294e+00,\n",
       "        5.52244396e-01,  1.23559641e+00, -8.56705563e-01,  2.68437536e-01,\n",
       "        5.89361999e-01,  5.96726487e-01,  4.79833148e-01, -9.20248668e-02,\n",
       "        4.72167166e-01,  3.05744200e-01,  7.77069594e-01, -9.16604206e-01,\n",
       "       -1.59100566e+00,  2.18673148e+00,  1.31896727e+00, -8.24429477e-01,\n",
       "       -2.35720653e+00,  1.30498585e-01,  2.09613566e-01,  2.64141267e+00,\n",
       "        3.44936547e-01,  1.23206377e-01,  4.58740374e-01,  7.09211870e-01,\n",
       "        1.94356607e+00,  2.24961616e-01,  6.68069230e-01, -6.56066431e-01,\n",
       "       -1.61284036e+00, -2.16970763e+00,  1.94381609e-01,  3.08103870e-01,\n",
       "        4.75507462e-01, -1.79516364e+00,  2.63851095e+00, -7.76462947e-01,\n",
       "        1.19045710e+00, -3.46596298e-01, -2.67807573e+00, -1.02560152e+00,\n",
       "       -2.49051510e+00,  5.48903626e-03, -7.03871319e-01,  1.77429955e+00,\n",
       "        7.50159301e-01,  3.41423753e+00, -2.14428818e+00, -5.20550573e-01,\n",
       "       -1.58950010e+00,  2.44203648e-01, -2.75954039e+00,  6.39614077e-01,\n",
       "       -6.84366780e-01, -4.83929880e-02, -1.02544722e-01,  2.33243528e+00,\n",
       "       -2.51653889e-01,  2.21569362e+00, -5.69140858e-01,  3.04434903e+00,\n",
       "       -7.98710420e-01,  1.85209692e-01,  1.14316238e+00,  1.49993541e-01,\n",
       "       -7.10454980e-01, -1.10926429e+00, -4.29404133e-01, -2.16772178e+00,\n",
       "        5.62773314e-01, -3.38159921e+00, -5.39942654e-01, -1.12950679e+00,\n",
       "        9.99163478e-01, -1.15698062e+00, -9.61733463e-02,  4.28330012e-01,\n",
       "        6.88549419e-01,  7.01664590e-02, -5.11159858e-02, -3.53353206e-01,\n",
       "        1.77608593e+00,  1.45976039e+00,  5.99009210e-01,  3.41908974e-01,\n",
       "        4.32779045e+00, -3.61354830e-01,  1.20645865e+00, -2.61621939e-01,\n",
       "        6.41387061e-01, -4.25316688e+00, -1.71813196e+00, -8.44188937e-01,\n",
       "       -1.98522995e+00,  1.27696378e+00, -5.44080215e-01, -6.53927975e-01,\n",
       "       -2.27573055e+00,  9.01002579e-01,  8.76322311e-01,  1.66967766e+00,\n",
       "        5.77560894e-01, -4.13906761e-01,  2.44861154e+00, -6.94305926e-01,\n",
       "       -5.77295274e-01,  2.32750112e-01, -2.50826175e-01,  1.24633808e+00,\n",
       "       -2.32115884e+00,  7.70171558e-01, -1.53667742e+00, -9.20276810e-01,\n",
       "        1.10890396e+00,  9.36259448e-01,  7.68536371e-01,  9.99825083e-01,\n",
       "        1.06199332e-01, -1.57703407e-01,  2.51015730e+00,  5.17107682e-01,\n",
       "        1.72278154e-01,  3.83414608e-03, -8.72115339e-01,  1.63481137e+00,\n",
       "       -6.87042532e-01, -1.98267251e+00,  3.42571536e-01,  1.47759595e+00,\n",
       "       -1.78598052e+00,  2.37793897e+00,  1.35926859e+00,  5.21747558e-01,\n",
       "        3.56825844e-02, -1.22011194e+00,  4.66640922e-02, -1.86747432e+00,\n",
       "       -4.99790777e-01,  7.56945704e-01,  1.36843172e-01,  9.56716965e-01,\n",
       "        2.77531406e+00, -1.21536136e-01, -1.09020345e+00,  1.67084135e-01,\n",
       "        1.49254198e+00, -1.75790560e-01,  3.02209580e-01,  1.75285681e+00,\n",
       "        5.89643547e-01, -6.75127771e-02, -2.26065719e+00, -1.86591900e+00,\n",
       "       -1.58309231e+00, -2.57700919e-01, -9.38522544e-01, -1.00078252e-01,\n",
       "       -2.09961717e-01, -8.63869226e-02,  3.58387808e-01,  3.77466108e-01,\n",
       "       -7.12109433e-01,  8.39752214e-01,  1.40346351e+00, -2.66065644e-01,\n",
       "       -1.20434869e+00,  3.08995024e-01,  3.13368508e+00, -4.14994650e-01,\n",
       "        8.91408197e-01, -1.14577369e+00, -3.01728930e-01,  5.33800830e-01,\n",
       "       -1.58819988e+00, -1.47193413e+00,  1.91109057e+00, -1.95092521e-01,\n",
       "       -1.93900509e+00,  4.92454066e-01,  1.00323161e+00, -4.35479929e-03,\n",
       "        1.42073085e-01,  1.20494730e-01, -6.77389406e-01,  1.08049725e-01,\n",
       "        5.67755083e-01,  4.21570599e-01, -1.10783733e+00,  3.51762036e-01,\n",
       "        3.43053384e-01, -1.69857337e+00, -9.03892082e-02,  3.88116995e-01,\n",
       "       -4.89067709e-01,  3.21288272e-01,  1.21712070e-01, -5.01154939e-01,\n",
       "       -1.42885424e+00,  7.98219234e-01,  2.44611748e-01, -7.47218306e-01,\n",
       "       -5.00961266e-01,  4.65958645e-01,  1.94681454e-01, -1.25594369e-01,\n",
       "       -4.20823647e-01,  6.33160330e-01, -3.06905725e-01, -7.29721941e-02,\n",
       "       -1.05761270e+00, -3.32487443e+00,  5.31095401e-01,  2.95350350e-01,\n",
       "        1.57391081e+00,  7.67792995e-01,  8.53170535e-01, -3.02222290e-01,\n",
       "        5.13254121e-01, -3.39050134e-01, -1.79009663e+00,  6.74196258e-01,\n",
       "       -2.07448401e-01,  6.89389745e-01, -8.75263778e-01,  3.75320870e-01,\n",
       "        6.58646241e-02, -1.00849421e-01, -7.05380005e-03, -1.90908820e-01,\n",
       "       -7.19916629e-03, -2.26399634e-01,  5.55733622e-01,  3.61538939e-01,\n",
       "        9.30885412e-01,  6.20615625e-01,  1.84371860e+00, -2.00165718e+00,\n",
       "       -2.84169708e-01, -1.95924640e+00, -2.48491848e-01, -1.20262042e-01,\n",
       "       -4.51148812e-01,  2.85905227e+00,  1.53178657e+00,  1.01621374e+00,\n",
       "       -1.58932171e-01, -2.57448181e+00,  6.14321465e-01,  2.73589498e-01,\n",
       "        1.80482840e+00, -1.95936577e+00, -4.48561550e-01,  5.14072234e-01,\n",
       "       -1.26424993e-01,  7.62847420e-01, -1.25608600e-01,  1.61849458e+00,\n",
       "       -1.49510179e+00,  6.83317798e-01,  1.25230540e-02, -3.80125941e+00,\n",
       "       -1.92644751e-01,  5.76999266e-01,  8.68585681e-01, -3.10545198e-01,\n",
       "       -4.89924454e-01,  3.10130467e-01,  9.59987737e-02,  1.75727979e-01,\n",
       "       -1.95603718e-01,  6.26674371e-01, -3.00309890e-02, -1.82705144e-02,\n",
       "        1.50796311e-01,  7.63486262e-01, -1.78605991e-01, -5.91006669e-01,\n",
       "        2.33037984e-01, -7.19313584e-01, -6.29851941e-03,  2.39384103e-01,\n",
       "        2.23209746e-02, -2.27649662e+00, -1.15292468e+00, -5.07281202e-01,\n",
       "        2.57983446e-01,  2.45350744e+00,  1.33331172e+00,  2.04769646e+00,\n",
       "        1.92765909e+00, -1.92028600e+00, -1.64539251e+00, -9.78867392e-02,\n",
       "        3.44139086e-01, -1.98314033e-01, -1.51364081e-01,  5.95123960e-01,\n",
       "       -4.60699294e-01,  1.37570136e-01,  4.41384837e-01, -1.49184127e+00,\n",
       "        1.99506194e+00,  2.39646326e-01,  1.72592663e+00, -1.03386675e+00,\n",
       "        6.47466424e-01,  3.83813784e-02, -7.06423936e-02, -5.18543676e-01,\n",
       "       -1.35697201e+00, -3.73067810e+00, -1.90250125e-01, -6.38004488e-01,\n",
       "       -1.27451240e+00, -5.50904845e-01, -1.82608079e+00, -4.15271506e-01,\n",
       "        3.02013896e-01, -1.01190616e-01, -2.80421144e+00, -1.58079350e-01,\n",
       "       -1.91144823e+00, -5.03391956e-01, -8.03931220e-01,  2.57982827e-01,\n",
       "        6.38965072e-01,  2.18768521e+00,  2.20641982e+00, -1.52973708e-01,\n",
       "        1.46287874e-01, -1.20440938e-02,  9.47819456e-02, -1.57708195e+00,\n",
       "        4.09660648e-01, -9.10468604e-01,  5.36923036e-01,  6.30431850e-01,\n",
       "        1.58464834e-01,  2.89091942e+00,  1.37170725e-01,  1.55892457e+00,\n",
       "       -7.62134713e-01, -1.60574725e+00,  1.81963186e-01, -2.50855370e-01,\n",
       "        7.74944915e-01,  6.10070470e-01,  1.34326853e-01,  3.65832319e-02,\n",
       "       -4.89559030e-01, -1.39221619e+00, -1.38914116e+00, -6.72760309e-01,\n",
       "        8.73595865e-01, -2.15562422e-01,  9.17824474e-01,  6.90055210e-01,\n",
       "        3.57337183e+00, -2.87409535e-02, -8.79386476e-01,  5.48005831e-02,\n",
       "       -4.22711155e-01,  2.24647547e+00,  4.57020761e-01,  8.13191639e-01,\n",
       "       -1.04859702e+00, -7.02340351e-01, -3.13742286e+00,  1.11513918e+00,\n",
       "        6.93934150e-01, -2.11756348e+00, -4.10952425e-01, -9.09915675e-01,\n",
       "        1.72144421e+00,  1.40917715e-01,  7.51292890e-01,  9.39809785e-01,\n",
       "       -8.27093244e-02, -7.32031670e-01,  3.41022351e-01,  4.67543987e-01,\n",
       "        8.73178590e-01,  4.06210966e-01,  2.89014571e-01, -3.37781580e+00,\n",
       "        4.13401241e-02,  2.98695981e-01,  1.16604576e+00, -8.77970231e-02,\n",
       "       -2.03815968e+00,  1.15984664e+00, -3.08609737e-01, -9.36435430e-01,\n",
       "        5.42792426e-01, -3.49808196e+00, -4.52704936e-02, -1.75214592e-01,\n",
       "        2.19675244e+00,  2.76063239e+00,  1.39832212e-02, -7.94424531e-01,\n",
       "        4.01523794e-01,  2.04180210e-01, -2.40688029e+00, -2.07561122e+00,\n",
       "        1.59559912e+00, -1.91521960e+00, -1.24432502e+00,  3.18419081e-01,\n",
       "        2.81731951e+00,  2.05898286e-01, -3.59400983e-01, -1.70240151e-01,\n",
       "       -4.41285898e-03, -2.10009035e-01,  3.97327067e-01,  8.94850687e-01,\n",
       "       -3.68634274e-01, -2.98059710e-01, -7.96867882e-02,  3.09494979e+00,\n",
       "       -1.71626181e+00, -3.61775145e-02,  1.15905201e-01,  3.74190817e-01,\n",
       "       -1.10384506e-01, -8.46595010e-01,  2.83162760e-01,  8.89200606e-02,\n",
       "        6.90277899e-02, -4.03402357e-01, -5.37452577e-01,  9.50254677e-02,\n",
       "        1.47351414e-01, -3.28068840e+00,  3.53814845e-01,  4.28327965e-01,\n",
       "       -7.76877426e-01, -7.92633603e-02, -9.94576360e-01, -2.33736547e+00,\n",
       "       -5.23138426e-02, -8.79715937e-01, -6.20935408e-01,  9.28971122e-01,\n",
       "        1.43875531e-01,  7.71022447e-01,  1.16257304e+00, -2.96171791e-01,\n",
       "       -5.82850853e-01, -2.73002022e-01,  1.83160520e+00, -1.88041733e+00,\n",
       "        1.85635218e+00,  2.24935902e+00,  2.35096313e+00,  1.09960502e+00,\n",
       "       -3.21376291e-01,  1.28415321e-01,  8.37988941e-02,  2.57828733e+00,\n",
       "        1.48162132e+00,  1.48721099e+00, -6.04307995e-02, -1.50206712e+00,\n",
       "        3.01416522e+00, -7.97614728e-01, -9.86184321e-01,  4.40576211e-01,\n",
       "        3.14338314e-01,  6.52164101e-01, -2.50432091e-01, -1.02637352e+00,\n",
       "       -5.78678127e-02,  2.51894898e-03,  8.14708860e-01,  1.61280016e+00,\n",
       "       -7.30237628e-01,  3.27204065e-02, -9.22932966e-01,  4.24639586e-01,\n",
       "        2.60458711e+00, -1.53009911e+00,  2.14060031e-01, -6.37010138e-01,\n",
       "       -8.39413379e-02,  1.66493783e-02,  1.32817415e+00, -1.45793837e+00,\n",
       "        3.48753403e-01, -4.78578246e-02,  1.20712111e+00, -1.62192442e+00,\n",
       "        1.23496678e+00,  1.75079868e-01, -6.46373973e-01,  1.74763533e+00,\n",
       "       -3.93565970e-01, -1.67103128e+00,  1.91955993e+00,  2.53518765e+00,\n",
       "       -1.33678915e-01,  7.66437538e-01, -2.03300056e+00,  8.16604146e-01,\n",
       "       -1.00184181e+00,  7.00096949e-01, -8.44926731e-01,  3.32524506e-02,\n",
       "       -1.17088929e+00, -3.59599650e+00, -6.97056151e-01,  1.08234498e+00,\n",
       "        1.39589152e+00,  3.16935475e-01, -2.69763091e+00, -1.55604368e+00,\n",
       "       -2.60022154e+00,  1.15263737e-01,  2.10856666e-02, -1.47838989e+00,\n",
       "       -4.85806123e+00,  6.21379049e-01,  1.21614378e+00, -5.73225097e-01,\n",
       "        3.26525377e-01, -1.12263344e+00, -6.68724350e-01,  1.39025748e+00,\n",
       "       -2.21735325e+00,  2.39884718e-01,  1.30356490e+00, -3.01014856e+00,\n",
       "       -7.23100532e-02, -8.19229479e-01,  1.20840837e+00, -1.06443992e+00,\n",
       "       -5.38090787e-01, -3.96728998e-01, -1.00150767e+00, -2.93204758e+00,\n",
       "       -2.04604151e+00, -4.88098187e-01,  4.34148076e-01, -4.07383532e-01,\n",
       "       -3.97533221e-01, -5.90961143e-01, -6.04353817e-03, -3.67927498e-01,\n",
       "        7.83755186e-01, -1.71724953e-01, -4.42257752e-01, -2.40718138e-01,\n",
       "       -1.95254884e+00,  8.53012821e-01, -1.18976118e-01,  1.50628102e+00,\n",
       "        7.65860882e-01,  1.27766920e-01,  3.67787930e+00,  6.58583751e-01,\n",
       "        1.16553651e-01,  2.72974059e+00, -4.49104913e-01,  1.04931732e+00,\n",
       "        8.33766176e-01, -7.94865250e-01,  7.68697601e-01,  1.95620688e+00,\n",
       "       -1.24095510e+00, -7.68356653e-01, -8.26609736e-01,  7.58132135e-01,\n",
       "        1.44849556e+00,  2.46563421e-01, -1.44057989e+00,  2.44362336e+00,\n",
       "        5.23503437e-02,  4.72087158e-01, -2.91429276e+00,  4.63883329e-01,\n",
       "        2.14444864e+00, -8.58233537e-01,  1.02236139e+00, -2.55689651e+00,\n",
       "       -9.76968234e-02,  1.66224189e+00, -1.07588498e+00, -3.95372874e-01,\n",
       "       -9.94462569e-01, -3.22826327e-01, -4.83101652e-01,  9.89954275e-01,\n",
       "        7.53790119e-01,  1.22538601e+00, -2.07702861e+00, -1.58399806e+00,\n",
       "       -1.24299901e-01,  2.50127137e+00,  1.86978432e+00,  7.46539283e-01,\n",
       "       -1.89556402e+00,  1.32760497e+00,  1.51627078e-01,  7.57736279e-01,\n",
       "       -5.00949045e-01, -2.20074088e-01,  1.93960819e-01, -4.35103910e-01,\n",
       "        1.17542468e+00, -9.45055565e-01,  2.13933634e+00,  3.25278262e-01,\n",
       "       -2.16651969e+00,  8.08815248e-01,  1.16027377e+00,  5.60305019e-01,\n",
       "       -2.17087212e+00,  1.37986610e+00,  3.04123894e-01,  1.52828061e+00,\n",
       "       -1.09070870e-01, -6.92503156e-03, -3.34652122e-02, -1.36099062e+00,\n",
       "        6.35571707e-01,  2.93221938e+00,  1.76063279e+00, -6.13314678e-01,\n",
       "        5.73361602e-01,  6.94889689e-02,  1.84075113e+00, -6.55065100e-01])"
      ]
     },
     "execution_count": 3,
     "metadata": {},
     "output_type": "execute_result"
    }
   ],
   "source": [
    "s"
   ]
  },
  {
   "cell_type": "code",
   "execution_count": 8,
   "metadata": {
    "scrolled": false
   },
   "outputs": [
    {
     "data": {
      "image/png": "[encoded data removed]",
      "text/plain": [
       "<Figure size 432x288 with 1 Axes>"
      ]
     },
     "metadata": {
      "needs_background": "light"
     },
     "output_type": "display_data"
    }
   ],
   "source": [
    "# Plot Gaussian for comparison:\n",
    "g = (1/(scale * np.sqrt(2 * np.pi)) * np.exp(-(x - loc)**2 / (2 * scale**2)))\n",
    "plt.plot(x,g)\n",
    "plt.show()\n"
   ]
  },
  {
   "cell_type": "code",
   "execution_count": null,
   "metadata": {
    "scrolled": false
   },
   "outputs": [],
   "source": []
  },
  {
   "cell_type": "markdown",
   "metadata": {},
   "source": [
    "### 3.5 numpy.random.poisson function"
   ]
  },
  {
   "cell_type": "markdown",
   "metadata": {},
   "source": [
    "numpy.random.poisson\n",
    "numpy.random.poisson(lam=1.0, size=None)\n"
   ]
  },
  {
   "cell_type": "code",
   "execution_count": 8,
   "metadata": {
    "scrolled": false
   },
   "outputs": [],
   "source": [
    "# Draw samples from the distribution:\n",
    "\n",
    "import numpy as np\n",
    "s = np.random.poisson(5, 10000)\n"
   ]
  },
  {
   "cell_type": "code",
   "execution_count": 9,
   "metadata": {
    "scrolled": false
   },
   "outputs": [
    {
     "data": {
      "text/plain": [
       "array([7, 6, 2, ..., 5, 5, 4])"
      ]
     },
     "execution_count": 9,
     "metadata": {},
     "output_type": "execute_result"
    }
   ],
   "source": [
    "s"
   ]
  },
  {
   "cell_type": "code",
   "execution_count": 10,
   "metadata": {
    "scrolled": false
   },
   "outputs": [
    {
     "name": "stderr",
     "output_type": "stream",
     "text": [
      "C:\\Users\\Neringa\\Anaconda3\\lib\\site-packages\\ipykernel_launcher.py:4: MatplotlibDeprecationWarning: \n",
      "The 'normed' kwarg was deprecated in Matplotlib 2.1 and will be removed in 3.1. Use 'density' instead.\n",
      "  after removing the cwd from sys.path.\n"
     ]
    },
    {
     "data": {
      "image/png": "[encoded data removed]",
      "text/plain": [
       "<Figure size 432x288 with 1 Axes>"
      ]
     },
     "metadata": {
      "needs_background": "light"
     },
     "output_type": "display_data"
    }
   ],
   "source": [
    "# Display histogram of the sample:\n",
    "\n",
    "import matplotlib.pyplot as plt\n",
    "count, bins, ignored = plt.hist(s, 14, normed=True)\n",
    "plt.show()\n"
   ]
  },
  {
   "cell_type": "code",
   "execution_count": 11,
   "metadata": {
    "scrolled": false
   },
   "outputs": [],
   "source": [
    "# Draw each 100 values for lambda 100 and 500:\n",
    "s = np.random.poisson(lam=(100., 500.), size=(100, 2))\n"
   ]
  },
  {
   "cell_type": "code",
   "execution_count": 12,
   "metadata": {
    "scrolled": true
   },
   "outputs": [
    {
     "data": {
      "text/plain": [
       "array([[ 94, 505],\n",
       "       [124, 514],\n",
       "       [104, 492],\n",
       "       [ 92, 525],\n",
       "       [112, 521],\n",
       "       [ 99, 486],\n",
       "       [116, 486],\n",
       "       [ 99, 530],\n",
       "       [104, 489],\n",
       "       [121, 487],\n",
       "       [107, 491],\n",
       "       [112, 505],\n",
       "       [ 97, 480],\n",
       "       [ 88, 491],\n",
       "       [128, 497],\n",
       "       [ 90, 495],\n",
       "       [110, 471],\n",
       "       [115, 467],\n",
       "       [109, 491],\n",
       "       [ 87, 511],\n",
       "       [122, 536],\n",
       "       [119, 515],\n",
       "       [ 99, 474],\n",
       "       [102, 498],\n",
       "       [ 96, 486],\n",
       "       [102, 486],\n",
       "       [107, 478],\n",
       "       [105, 500],\n",
       "       [ 93, 507],\n",
       "       [ 92, 513],\n",
       "       [ 95, 493],\n",
       "       [ 92, 526],\n",
       "       [102, 516],\n",
       "       [ 94, 496],\n",
       "       [ 89, 515],\n",
       "       [115, 468],\n",
       "       [ 98, 499],\n",
       "       [113, 506],\n",
       "       [107, 527],\n",
       "       [102, 518],\n",
       "       [ 89, 483],\n",
       "       [ 97, 500],\n",
       "       [ 77, 497],\n",
       "       [ 96, 470],\n",
       "       [ 77, 489],\n",
       "       [100, 538],\n",
       "       [ 81, 563],\n",
       "       [108, 509],\n",
       "       [105, 502],\n",
       "       [100, 501],\n",
       "       [ 97, 530],\n",
       "       [ 95, 518],\n",
       "       [105, 502],\n",
       "       [ 99, 464],\n",
       "       [110, 529],\n",
       "       [ 98, 456],\n",
       "       [111, 505],\n",
       "       [ 95, 513],\n",
       "       [105, 511],\n",
       "       [103, 499],\n",
       "       [121, 517],\n",
       "       [113, 496],\n",
       "       [110, 513],\n",
       "       [ 96, 464],\n",
       "       [103, 516],\n",
       "       [107, 489],\n",
       "       [ 97, 502],\n",
       "       [ 95, 459],\n",
       "       [ 97, 478],\n",
       "       [ 92, 498],\n",
       "       [ 89, 493],\n",
       "       [ 87, 474],\n",
       "       [ 97, 490],\n",
       "       [ 89, 479],\n",
       "       [102, 502],\n",
       "       [ 96, 471],\n",
       "       [ 71, 489],\n",
       "       [ 98, 515],\n",
       "       [ 92, 510],\n",
       "       [ 90, 506],\n",
       "       [117, 485],\n",
       "       [ 92, 508],\n",
       "       [ 84, 511],\n",
       "       [ 84, 502],\n",
       "       [114, 495],\n",
       "       [116, 485],\n",
       "       [121, 478],\n",
       "       [105, 501],\n",
       "       [114, 521],\n",
       "       [104, 499],\n",
       "       [ 93, 491],\n",
       "       [ 94, 476],\n",
       "       [104, 487],\n",
       "       [106, 525],\n",
       "       [ 86, 551],\n",
       "       [104, 512],\n",
       "       [109, 449],\n",
       "       [100, 503],\n",
       "       [ 94, 511],\n",
       "       [108, 479]])"
      ]
     },
     "execution_count": 12,
     "metadata": {},
     "output_type": "execute_result"
    }
   ],
   "source": [
    "s"
   ]
  },
  {
   "cell_type": "markdown",
   "metadata": {},
   "source": [
    "#### gamma(shape[, scale, size])\n",
    "\n",
    "This function is used to draw sample from a Gamma distribution.\n",
    "\n"
   ]
  },
  {
   "cell_type": "code",
   "execution_count": 53,
   "metadata": {
    "scrolled": false
   },
   "outputs": [
    {
     "data": {
      "image/png": "[encoded data removed]",
      "text/plain": [
       "<Figure size 432x288 with 1 Axes>"
      ]
     },
     "metadata": {
      "needs_background": "light"
     },
     "output_type": "display_data"
    }
   ],
   "source": [
    "\n",
    "import numpy as np  \n",
    "shape, scale = 2., 2.  \n",
    "s1 = np.random.gamma(shape, scale, 1000)  \n",
    "import matplotlib.pyplot as plt  \n",
    "import scipy.special as spss  \n",
    "count, bins, ignored = plt.hist(s1, 50, density=True)  \n",
    "a = bins**(shape-1)*(np.exp(-bins/scale) / (spss.gamma(shape)*scale**shape))  \n",
    "plt.plot(bins, a, linewidth=2, color='r')  \n",
    "plt.show()  \n"
   ]
  },
  {
   "cell_type": "code",
   "execution_count": 54,
   "metadata": {
    "scrolled": false
   },
   "outputs": [
    {
     "data": {
      "image/png": "[encoded data removed]",
      "text/plain": [
       "<Figure size 432x288 with 1 Axes>"
      ]
     },
     "metadata": {
      "needs_background": "light"
     },
     "output_type": "display_data"
    }
   ],
   "source": [
    "import numpy as np  \n",
    "shape, scale = 5., 5.  \n",
    "s1 = np.random.gamma(shape, scale, 100)  \n",
    "import matplotlib.pyplot as plt  \n",
    "import scipy.special as spss  \n",
    "count, bins, ignored = plt.hist(s1, 30, density=True)  \n",
    "a = bins**(shape-1)*(np.exp(-bins/scale) / (spss.gamma(shape)*scale**shape))  \n",
    "plt.plot(bins, a, linewidth=2, color='r')  \n",
    "plt.show()  \n"
   ]
  },
  {
   "cell_type": "markdown",
   "metadata": {},
   "source": [
    "### 4. Explain the use of seeds in generating pseudorandom numbers. "
   ]
  },
  {
   "cell_type": "markdown",
   "metadata": {},
   "source": [
    "#### class numpy.random.RandomState\n"
   ]
  },
  {
   "cell_type": "markdown",
   "metadata": {},
   "source": [
    "numpy.random.seed\n",
    "numpy.random.seed(seed=None)\n",
    "seed : {None, int, array_like}, optional"
   ]
  },
  {
   "cell_type": "code",
   "execution_count": 32,
   "metadata": {
    "scrolled": false
   },
   "outputs": [
    {
     "name": "stdout",
     "output_type": "stream",
     "text": [
      "Random number with seed 30\n",
      "first Number  42\n",
      "Second Number  42\n",
      "Third Number  42\n"
     ]
    }
   ],
   "source": [
    "# Ref: https://pynative.com/python-random-seed/\n",
    "\n",
    "import random\n",
    "\n",
    "print (\"Random number with seed 30\")\n",
    "random.seed(30)\n",
    "print (\"first Number \", random.randint(25,50))\n",
    "\n",
    "random.seed(30)\n",
    "print (\"Second Number \", random.randint(25,50))\n",
    "\n",
    "random.seed(30)\n",
    "print (\"Third Number \", random.randint(25,50))"
   ]
  },
  {
   "cell_type": "code",
   "execution_count": 37,
   "metadata": {
    "scrolled": false
   },
   "outputs": [
    {
     "name": "stdout",
     "output_type": "stream",
     "text": [
      "Random number with system time\n",
      "Random Number 47\n"
     ]
    }
   ],
   "source": [
    "# Ref: https://pynative.com/python-random-seed/\n",
    "\n",
    "import random\n",
    "from datetime import datetime\n",
    "\n",
    "print(\"Random number with system time\")\n",
    "random.seed(datetime.now())\n",
    "\n",
    "print(\"Random Number\", random.randint(25, 50))"
   ]
  },
  {
   "cell_type": "code",
   "execution_count": 34,
   "metadata": {
    "scrolled": false
   },
   "outputs": [
    {
     "data": {
      "text/plain": [
       "array([6, 9, 6, 1, 1, 2, 8, 7, 3, 5, 6, 3, 5, 3, 5, 8, 8, 2, 8, 1, 7, 8,\n",
       "       7, 2, 1, 2, 9, 9, 4, 9, 8, 4, 7, 6, 2, 4, 5, 9, 2, 5, 1, 4, 3, 1,\n",
       "       5, 3, 8, 8, 9, 7])"
      ]
     },
     "execution_count": 34,
     "metadata": {},
     "output_type": "execute_result"
    }
   ],
   "source": [
    "# Ref: https://www.sharpsightlabs.com/blog/numpy-random-seed/\n",
    "# PSEUDO-RANDOM NUMBERS APPEAR TO BE RANDOM\n",
    "\n",
    "import numpy as np\n",
    "\n",
    "np.random.seed(1)\n",
    "np.random.randint(low = 1, high = 10, size = 50)"
   ]
  },
  {
   "cell_type": "code",
   "execution_count": 35,
   "metadata": {
    "scrolled": false
   },
   "outputs": [
    {
     "data": {
      "text/plain": [
       "array([5, 0, 3, 3, 7])"
      ]
     },
     "execution_count": 35,
     "metadata": {},
     "output_type": "execute_result"
    }
   ],
   "source": [
    "# https://www.sharpsightlabs.com/blog/numpy-random-seed/\n",
    "# GENERATE PSEUDO-RANDOM INTEGERS\n",
    "\n",
    "import numpy as np\n",
    "np.random.seed(0)\n",
    "np.random.randint(10, size = 5)"
   ]
  },
  {
   "cell_type": "code",
   "execution_count": null,
   "metadata": {
    "scrolled": false
   },
   "outputs": [],
   "source": [
    "# https://www.sharpsightlabs.com/blog/numpy-random-seed/\n",
    "# GENERATE PSEUDO-RANDOM INTEGERS AGAIN"
   ]
  },
  {
   "cell_type": "code",
   "execution_count": 36,
   "metadata": {
    "scrolled": false
   },
   "outputs": [
    {
     "data": {
      "text/plain": [
       "array([5, 0, 3, 3, 7])"
      ]
     },
     "execution_count": 36,
     "metadata": {},
     "output_type": "execute_result"
    }
   ],
   "source": [
    "import numpy as np\n",
    "np.random.seed(0)\n",
    "np.random.randint(10, size = 5)"
   ]
  },
  {
   "cell_type": "code",
   "execution_count": 2,
   "metadata": {
    "scrolled": false
   },
   "outputs": [
    {
     "data": {
      "text/plain": [
       "array([5, 0, 3, 3, 7])"
      ]
     },
     "execution_count": 2,
     "metadata": {},
     "output_type": "execute_result"
    }
   ],
   "source": [
    "import numpy as np\n",
    "np.random.seed(0)\n",
    "np.random.randint(10, size = 5)"
   ]
  },
  {
   "cell_type": "code",
   "execution_count": 8,
   "metadata": {
    "scrolled": false
   },
   "outputs": [],
   "source": [
    "# Random sampling (numpy.random)\n",
    "# Quick Start Generator \n",
    "# https://numpy.org/devdocs/reference/random/index.html\n",
    "\n",
    "# Do this (new version)\n",
    "from numpy.random import default_rng\n",
    "rng = default_rng()\n",
    "vals = rng.standard_normal(10)\n",
    "more_vals = rng.standard_normal(10)\n"
   ]
  },
  {
   "cell_type": "code",
   "execution_count": 11,
   "metadata": {},
   "outputs": [
    {
     "data": {
      "text/plain": [
       "array([-1.46831137, -1.40317375, -0.40528467, -0.65664747,  0.71744763,\n",
       "       -1.24078931, -1.14003556, -0.09993933,  0.15339764,  0.44644542])"
      ]
     },
     "execution_count": 11,
     "metadata": {},
     "output_type": "execute_result"
    }
   ],
   "source": [
    "vals"
   ]
  },
  {
   "cell_type": "code",
   "execution_count": 12,
   "metadata": {},
   "outputs": [
    {
     "data": {
      "text/plain": [
       "array([-0.28182868, -1.43700022, -1.90689736,  0.99841152,  0.12136691,\n",
       "        0.74893746, -0.11312181, -0.37003359,  1.56081161, -1.4952501 ])"
      ]
     },
     "execution_count": 12,
     "metadata": {},
     "output_type": "execute_result"
    }
   ],
   "source": [
    "more_vals"
   ]
  },
  {
   "cell_type": "markdown",
   "metadata": {},
   "source": [
    "### 4.1 PCG 64 () or algorithm"
   ]
  },
  {
   "cell_type": "code",
   "execution_count": 5,
   "metadata": {
    "scrolled": false
   },
   "outputs": [
    {
     "data": {
      "text/plain": [
       "array([0, 1, 1, 1, 0, 1, 0, 1, 0, 0], dtype=int64)"
      ]
     },
     "execution_count": 5,
     "metadata": {},
     "output_type": "execute_result"
    }
   ],
   "source": [
    "# https://numpy.org/devdocs/reference/random/generator.html\n",
    "import numpy as np\n",
    "np.random.bit_generator = np.random._bit_generator\n",
    "rng = np.random.default_rng()\n",
    "rng.integers(2, size=10)\n"
   ]
  },
  {
   "cell_type": "markdown",
   "metadata": {},
   "source": [
    "### 4.2 How to seed the PCG 64 algorithm"
   ]
  },
  {
   "cell_type": "code",
   "execution_count": 18,
   "metadata": {
    "scrolled": false
   },
   "outputs": [
    {
     "data": {
      "text/plain": [
       "array([[0.77395605, 0.43887844, 0.85859792],\n",
       "       [0.69736803, 0.09417735, 0.97562235],\n",
       "       [0.7611397 , 0.78606431, 0.12811363]])"
      ]
     },
     "execution_count": 18,
     "metadata": {},
     "output_type": "execute_result"
    }
   ],
   "source": [
    "# Random Generator \n",
    "# https://numpy.org/devdocs/reference/random/generator.html\n",
    "\n",
    "import numpy as np\n",
    "rng = np.random.default_rng(seed=42)\n",
    "arr2 = rng.random((3, 3))\n",
    "arr2\n"
   ]
  },
  {
   "cell_type": "code",
   "execution_count": 3,
   "metadata": {
    "scrolled": false
   },
   "outputs": [
    {
     "name": "stdout",
     "output_type": "stream",
     "text": [
      "Generator(PCG64)\n"
     ]
    }
   ],
   "source": [
    "# https://numpy.org/devdocs/reference/random/index.html\n",
    "import numpy as np\n",
    "rng = np.random.default_rng(12345)\n",
    "print(rng)"
   ]
  },
  {
   "cell_type": "code",
   "execution_count": 4,
   "metadata": {},
   "outputs": [
    {
     "name": "stdout",
     "output_type": "stream",
     "text": [
      "[Generator(PCG64) at 0x54693E8, Generator(PCG64) at 0x54694A8, Generator(PCG64) at 0x5469568, Generator(PCG64) at 0x5469628, Generator(PCG64) at 0x54696E8, Generator(PCG64) at 0x54697A8, Generator(PCG64) at 0x5469868, Generator(PCG64) at 0x5469928, Generator(PCG64) at 0x54699E8, Generator(PCG64) at 0x5469AA8]\n"
     ]
    }
   ],
   "source": [
    "# https://numpy.org/devdocs/reference/random/bit_generators/pcg64.html\n",
    "import numpy as np\n",
    "np.random.bit_generator = np.random._bit_generator\n",
    "from numpy.random import Generator, PCG64, SeedSequence\n",
    "sg = SeedSequence(1234)\n",
    "rg = [Generator(PCG64(s)) for s in sg.spawn(10)]\n",
    "print(rg)"
   ]
  },
  {
   "cell_type": "code",
   "execution_count": 45,
   "metadata": {
    "scrolled": false
   },
   "outputs": [],
   "source": [
    "rfloat = rng.random()\n"
   ]
  },
  {
   "cell_type": "code",
   "execution_count": 46,
   "metadata": {
    "scrolled": false
   },
   "outputs": [
    {
     "data": {
      "text/plain": [
       "0.7973654573327341"
      ]
     },
     "execution_count": 46,
     "metadata": {},
     "output_type": "execute_result"
    }
   ],
   "source": [
    "rfloat\n"
   ]
  },
  {
   "cell_type": "code",
   "execution_count": 47,
   "metadata": {
    "scrolled": false
   },
   "outputs": [
    {
     "data": {
      "text/plain": [
       "float"
      ]
     },
     "execution_count": 47,
     "metadata": {},
     "output_type": "execute_result"
    }
   ],
   "source": [
    "type(rfloat) "
   ]
  },
  {
   "cell_type": "code",
   "execution_count": 26,
   "metadata": {
    "scrolled": false
   },
   "outputs": [
    {
     "data": {
      "text/plain": [
       "array([6, 2, 7], dtype=int64)"
      ]
     },
     "execution_count": 26,
     "metadata": {},
     "output_type": "execute_result"
    }
   ],
   "source": [
    "# https://numpy.org/devdocs/reference/random/index.html\n",
    "\n",
    "import numpy as np\n",
    "rng = np.random.default_rng(12345)\n",
    "rints = rng.integers(low=0, high=10, size=3)\n",
    "rints\n"
   ]
  },
  {
   "cell_type": "code",
   "execution_count": 28,
   "metadata": {
    "scrolled": false
   },
   "outputs": [
    {
     "name": "stdout",
     "output_type": "stream",
     "text": [
      "Generator(PCG64)\n"
     ]
    }
   ],
   "source": [
    "# https://numpy.org/devdocs/reference/random/index.html\n",
    "\n",
    "from numpy.random import default_rng\n",
    "rg = default_rng(12345)\n",
    "print(rg)\n",
    "\n"
   ]
  },
  {
   "cell_type": "code",
   "execution_count": 29,
   "metadata": {
    "scrolled": false
   },
   "outputs": [
    {
     "name": "stdout",
     "output_type": "stream",
     "text": [
      "0.22733602246716966\n"
     ]
    }
   ],
   "source": [
    "print(rg.random())"
   ]
  },
  {
   "cell_type": "code",
   "execution_count": null,
   "metadata": {
    "scrolled": false
   },
   "outputs": [],
   "source": []
  },
  {
   "cell_type": "code",
   "execution_count": null,
   "metadata": {
    "scrolled": false
   },
   "outputs": [],
   "source": [
    "# https://numpy.org/devdocs/reference/random/index.html\n",
    "\n",
    "from numpy.random import Generator, PCG64\n",
    "rg = Generator(PCG64(12345))\n",
    "\n"
   ]
  },
  {
   "cell_type": "code",
   "execution_count": 32,
   "metadata": {
    "scrolled": false
   },
   "outputs": [
    {
     "name": "stdout",
     "output_type": "stream",
     "text": [
      "Generator(PCG64)\n"
     ]
    }
   ],
   "source": [
    "print(rg)"
   ]
  },
  {
   "cell_type": "code",
   "execution_count": null,
   "metadata": {
    "scrolled": false
   },
   "outputs": [],
   "source": [
    "# https://numpy.org/devdocs/reference/random/index.html\n",
    "from numpy.random import Generator, MT19937\n",
    "rg = Generator(MT19937(12345))\n"
   ]
  },
  {
   "cell_type": "code",
   "execution_count": 31,
   "metadata": {
    "scrolled": false
   },
   "outputs": [
    {
     "name": "stdout",
     "output_type": "stream",
     "text": [
      "Generator(PCG64)\n"
     ]
    }
   ],
   "source": [
    "print(rg)"
   ]
  },
  {
   "cell_type": "code",
   "execution_count": 45,
   "metadata": {
    "scrolled": false
   },
   "outputs": [
    {
     "data": {
      "text/plain": [
       "0.5664433950552524"
      ]
     },
     "execution_count": 45,
     "metadata": {},
     "output_type": "execute_result"
    }
   ],
   "source": [
    "from numpy.random import Generator, PCG64\n",
    "rg = Generator(PCG64())\n",
    "rg.standard_normal()"
   ]
  },
  {
   "cell_type": "markdown",
   "metadata": {},
   "source": [
    "<cr>\n",
    "\n",
    "    "
   ]
  },
  {
   "cell_type": "markdown",
   "metadata": {},
   "source": [
    "# Simple random data\n",
    "## https://numpy.org/doc/stable/reference/random/generator.html"
   ]
  },
  {
   "cell_type": "markdown",
   "metadata": {},
   "source": [
    "##### numpy.random.Generator.integers\n",
    "##### https://numpy.org/doc/stable/reference/random/generated/numpy.random.Generator.integers.html#numpy.random.Generator.integers\n"
   ]
  },
  {
   "cell_type": "markdown",
   "metadata": {},
   "source": [
    "##### Generator.integers(low, high=None, size=None, dtype=np.int64, endpoint=False"
   ]
  },
  {
   "cell_type": "code",
   "execution_count": 48,
   "metadata": {
    "scrolled": false
   },
   "outputs": [
    {
     "data": {
      "text/plain": [
       "array([0, 1, 0, 0, 0, 1, 1, 0, 0, 0, 1, 0, 1, 1, 0, 1, 0, 0, 1, 1],\n",
       "      dtype=int64)"
      ]
     },
     "execution_count": 48,
     "metadata": {},
     "output_type": "execute_result"
    }
   ],
   "source": [
    "rng = np.random.default_rng()\n",
    "rng.integers(2, size=20)"
   ]
  },
  {
   "cell_type": "code",
   "execution_count": 49,
   "metadata": {
    "scrolled": false
   },
   "outputs": [
    {
     "data": {
      "text/plain": [
       "array([[3, 4, 8, 5],\n",
       "       [7, 5, 9, 7]], dtype=int64)"
      ]
     },
     "execution_count": 49,
     "metadata": {},
     "output_type": "execute_result"
    }
   ],
   "source": [
    "# Generate a 2 x 4 array of ints between 0 and 9, inclusive:\n",
    "rng.integers(10, size=(2, 4))\n",
    "\n"
   ]
  },
  {
   "cell_type": "code",
   "execution_count": 51,
   "metadata": {
    "scrolled": false
   },
   "outputs": [
    {
     "data": {
      "text/plain": [
       "array([1, 4, 3], dtype=int64)"
      ]
     },
     "execution_count": 51,
     "metadata": {},
     "output_type": "execute_result"
    }
   ],
   "source": [
    "# Generate a 1 x 3 array with 3 different upper bounds\n",
    "\n",
    "rng.integers(1, [3, 5, 10])"
   ]
  },
  {
   "cell_type": "code",
   "execution_count": 52,
   "metadata": {
    "scrolled": false
   },
   "outputs": [
    {
     "data": {
      "text/plain": [
       "array([7, 8, 9], dtype=int64)"
      ]
     },
     "execution_count": 52,
     "metadata": {},
     "output_type": "execute_result"
    }
   ],
   "source": [
    "# Generate a 1 by 3 array with 3 different lower bounds\n",
    "\n",
    "rng.integers([1, 5, 7], 10)"
   ]
  },
  {
   "cell_type": "code",
   "execution_count": 53,
   "metadata": {
    "scrolled": false
   },
   "outputs": [
    {
     "data": {
      "text/plain": [
       "array([[ 4,  9,  9,  9],\n",
       "       [ 1, 12,  9,  9]], dtype=uint8)"
      ]
     },
     "execution_count": 53,
     "metadata": {},
     "output_type": "execute_result"
    }
   ],
   "source": [
    "# Generate a 2 by 4 array using broadcasting with dtype of uint8\n",
    "rng.integers([1, 3, 5, 7], [[10], [20]], dtype=np.uint8)"
   ]
  },
  {
   "cell_type": "markdown",
   "metadata": {},
   "source": [
    "### numpy.random.Generator.random\n",
    "#### Generator.random(size=None, dtype=np.float64, out=None)\n",
    "##### https://numpy.org/doc/stable/reference/random/generated/numpy.random.Generator.random.html#numpy.random.Generator.random"
   ]
  },
  {
   "cell_type": "code",
   "execution_count": 54,
   "metadata": {
    "scrolled": false
   },
   "outputs": [
    {
     "data": {
      "text/plain": [
       "0.8083577362603988"
      ]
     },
     "execution_count": 54,
     "metadata": {},
     "output_type": "execute_result"
    }
   ],
   "source": [
    "rng = np.random.default_rng()\n",
    "rng.random()"
   ]
  },
  {
   "cell_type": "code",
   "execution_count": 55,
   "metadata": {
    "scrolled": false
   },
   "outputs": [
    {
     "data": {
      "text/plain": [
       "float"
      ]
     },
     "execution_count": 55,
     "metadata": {},
     "output_type": "execute_result"
    }
   ],
   "source": [
    "type(rng.random())"
   ]
  },
  {
   "cell_type": "code",
   "execution_count": 56,
   "metadata": {
    "scrolled": false
   },
   "outputs": [
    {
     "data": {
      "text/plain": [
       "array([0.79953263, 0.33297348, 0.74023957, 0.8494213 , 0.01638282])"
      ]
     },
     "execution_count": 56,
     "metadata": {},
     "output_type": "execute_result"
    }
   ],
   "source": [
    "rng.random((5,))"
   ]
  },
  {
   "cell_type": "code",
   "execution_count": 58,
   "metadata": {
    "scrolled": false
   },
   "outputs": [
    {
     "data": {
      "text/plain": [
       "array([[-2.86945763, -3.14776343],\n",
       "       [-0.72493495, -0.9182465 ],\n",
       "       [-2.48053412, -3.71541659]])"
      ]
     },
     "execution_count": 58,
     "metadata": {},
     "output_type": "execute_result"
    }
   ],
   "source": [
    "# Three-by-two array of random numbers from [-5, 0):\n",
    "5 * rng.random((3, 2)) - 5"
   ]
  },
  {
   "cell_type": "markdown",
   "metadata": {},
   "source": [
    "### numpy.random.Generator.choice\n",
    "#### Generator.choice(a, size=None, replace=True, p=None, axis=0, shuffle=True)\n",
    "#### https://numpy.org/doc/stable/reference/random/generated/numpy.random.Generator.choice.html#numpy.random.Generator.choice"
   ]
  },
  {
   "cell_type": "markdown",
   "metadata": {},
   "source": [
    "Generates a random sample from a given 1-D array"
   ]
  },
  {
   "cell_type": "code",
   "execution_count": 59,
   "metadata": {
    "scrolled": false
   },
   "outputs": [
    {
     "data": {
      "text/plain": [
       "array([0, 1, 2], dtype=int64)"
      ]
     },
     "execution_count": 59,
     "metadata": {},
     "output_type": "execute_result"
    }
   ],
   "source": [
    "# Generate a uniform random sample from np.arange(5) of size 3:\n",
    "rng = np.random.default_rng()\n",
    "rng.choice(5, 3)\n",
    "#This is equivalent to rng.integers(0,5,3)"
   ]
  },
  {
   "cell_type": "code",
   "execution_count": 60,
   "metadata": {
    "scrolled": false
   },
   "outputs": [
    {
     "data": {
      "text/plain": [
       "array([3, 3, 2], dtype=int64)"
      ]
     },
     "execution_count": 60,
     "metadata": {},
     "output_type": "execute_result"
    }
   ],
   "source": [
    "# Generate a non-uniform random sample from np.arange(5) of size 3:\n",
    "rng.choice(5, 3, p=[0.1, 0, 0.3, 0.6, 0])"
   ]
  },
  {
   "cell_type": "code",
   "execution_count": 61,
   "metadata": {
    "scrolled": false
   },
   "outputs": [
    {
     "data": {
      "text/plain": [
       "array([2, 3, 1], dtype=int64)"
      ]
     },
     "execution_count": 61,
     "metadata": {},
     "output_type": "execute_result"
    }
   ],
   "source": [
    "# Generate a uniform random sample from np.arange(5) of size 3 without replacement:\n",
    "rng.choice(5, 3, replace=False)\n",
    "#This is equivalent to rng.permutation(np.arange(5))[:3]"
   ]
  },
  {
   "cell_type": "code",
   "execution_count": 62,
   "metadata": {
    "scrolled": false
   },
   "outputs": [
    {
     "data": {
      "text/plain": [
       "array([2, 0, 3], dtype=int64)"
      ]
     },
     "execution_count": 62,
     "metadata": {},
     "output_type": "execute_result"
    }
   ],
   "source": [
    "# Generate a non-uniform random sample from np.arange(5) of size 3 without replacement:\n",
    "rng.choice(5, 3, replace=False, p=[0.1, 0, 0.3, 0.6, 0])\n"
   ]
  },
  {
   "cell_type": "code",
   "execution_count": 63,
   "metadata": {
    "scrolled": false
   },
   "outputs": [
    {
     "data": {
      "text/plain": [
       "array(['pooh', 'pooh', 'pooh', 'Christopher', 'pooh'], dtype='<U11')"
      ]
     },
     "execution_count": 63,
     "metadata": {},
     "output_type": "execute_result"
    }
   ],
   "source": [
    "# Any of the above can be repeated with an arbitrary array-like instead of just integers. For instance:\n",
    "\n",
    "aa_milne_arr = ['pooh', 'rabbit', 'piglet', 'Christopher']\n",
    "rng.choice(aa_milne_arr, 5, p=[0.5, 0.1, 0.1, 0.3])"
   ]
  },
  {
   "cell_type": "code",
   "execution_count": null,
   "metadata": {
    "scrolled": false
   },
   "outputs": [],
   "source": []
  },
  {
   "cell_type": "markdown",
   "metadata": {},
   "source": [
    "### numpy.random.Generator.bytes\n",
    "#### Generator.bytes(length)\n",
    "#### https://numpy.org/doc/stable/reference/random/generated/numpy.random.Generator.bytes.html#numpy.random.Generator.bytes"
   ]
  },
  {
   "cell_type": "code",
   "execution_count": null,
   "metadata": {
    "scrolled": false
   },
   "outputs": [],
   "source": [
    "Return random bytes."
   ]
  },
  {
   "cell_type": "code",
   "execution_count": 65,
   "metadata": {
    "scrolled": false
   },
   "outputs": [
    {
     "data": {
      "text/plain": [
       "b'\\xd8\\xe5\\xad\\xc4K\\nq\\x8d^L'"
      ]
     },
     "execution_count": 65,
     "metadata": {},
     "output_type": "execute_result"
    }
   ],
   "source": [
    "np.random.default_rng().bytes(10)"
   ]
  },
  {
   "cell_type": "markdown",
   "metadata": {},
   "source": [
    "<cr>"
   ]
  },
  {
   "cell_type": "markdown",
   "metadata": {},
   "source": [
    "# Permutations\n",
    "### https://numpy.org/doc/stable/reference/random/generator.html#permutations\n"
   ]
  },
  {
   "cell_type": "markdown",
   "metadata": {},
   "source": [
    "#### numpy.random.Generator.shuffle \n",
    "#### https://numpy.org/doc/stable/reference/random/generated/numpy.random.Generator.shuffle.html#numpy.random.Generator.shuffle"
   ]
  },
  {
   "cell_type": "markdown",
   "metadata": {},
   "source": [
    "Generator.shuffle(x, axis=0)\n",
    "Modify a sequence in-place by shuffling its contents."
   ]
  },
  {
   "cell_type": "code",
   "execution_count": 66,
   "metadata": {
    "scrolled": false
   },
   "outputs": [
    {
     "data": {
      "text/plain": [
       "array([0, 4, 8, 2, 5, 3, 6, 1, 9, 7])"
      ]
     },
     "execution_count": 66,
     "metadata": {},
     "output_type": "execute_result"
    }
   ],
   "source": [
    "rng = np.random.default_rng()\n",
    "arr = np.arange(10)\n",
    "rng.shuffle(arr)\n",
    "arr\n"
   ]
  },
  {
   "cell_type": "code",
   "execution_count": 67,
   "metadata": {
    "scrolled": false
   },
   "outputs": [
    {
     "data": {
      "text/plain": [
       "array([[3, 4, 5],\n",
       "       [0, 1, 2],\n",
       "       [6, 7, 8]])"
      ]
     },
     "execution_count": 67,
     "metadata": {},
     "output_type": "execute_result"
    }
   ],
   "source": [
    "arr = np.arange(9).reshape((3, 3))\n",
    "rng.shuffle(arr)\n",
    "arr"
   ]
  },
  {
   "cell_type": "code",
   "execution_count": 68,
   "metadata": {
    "scrolled": false
   },
   "outputs": [
    {
     "data": {
      "text/plain": [
       "array([[0, 1, 2],\n",
       "       [3, 4, 5],\n",
       "       [6, 7, 8]])"
      ]
     },
     "execution_count": 68,
     "metadata": {},
     "output_type": "execute_result"
    }
   ],
   "source": [
    "arr = np.arange(9).reshape((3, 3))\n",
    "rng.shuffle(arr, axis=1)\n",
    "arr"
   ]
  },
  {
   "cell_type": "markdown",
   "metadata": {},
   "source": [
    "<cr>"
   ]
  },
  {
   "cell_type": "markdown",
   "metadata": {},
   "source": [
    "### numpy.random.Generator.permutation\n",
    "#### https://numpy.org/doc/stable/reference/random/generated/numpy.random.Generator.permutation.html#numpy.random.Generator.permutation"
   ]
  },
  {
   "cell_type": "markdown",
   "metadata": {},
   "source": [
    "Randomly permute a sequence, or return a permuted range."
   ]
  },
  {
   "cell_type": "code",
   "execution_count": 70,
   "metadata": {
    "scrolled": false
   },
   "outputs": [
    {
     "data": {
      "text/plain": [
       "array([8, 9, 7, 5, 0, 1, 6, 3, 2, 4])"
      ]
     },
     "execution_count": 70,
     "metadata": {},
     "output_type": "execute_result"
    }
   ],
   "source": [
    "rng = np.random.default_rng()\n",
    "rng.permutation(10)"
   ]
  },
  {
   "cell_type": "code",
   "execution_count": 71,
   "metadata": {
    "scrolled": false
   },
   "outputs": [
    {
     "data": {
      "text/plain": [
       "array([ 9,  1, 15,  4, 12])"
      ]
     },
     "execution_count": 71,
     "metadata": {},
     "output_type": "execute_result"
    }
   ],
   "source": [
    "rng.permutation([1, 4, 9, 12, 15])"
   ]
  },
  {
   "cell_type": "code",
   "execution_count": 72,
   "metadata": {
    "scrolled": false
   },
   "outputs": [
    {
     "data": {
      "text/plain": [
       "array([[3, 4, 5],\n",
       "       [0, 1, 2],\n",
       "       [6, 7, 8]])"
      ]
     },
     "execution_count": 72,
     "metadata": {},
     "output_type": "execute_result"
    }
   ],
   "source": [
    "arr = np.arange(9).reshape((3, 3))\n",
    "rng.permutation(arr)"
   ]
  },
  {
   "cell_type": "code",
   "execution_count": 73,
   "metadata": {
    "scrolled": false
   },
   "outputs": [
    {
     "data": {
      "text/plain": [
       "array([[0, 2, 1],\n",
       "       [3, 5, 4],\n",
       "       [6, 8, 7]])"
      ]
     },
     "execution_count": 73,
     "metadata": {},
     "output_type": "execute_result"
    }
   ],
   "source": [
    "arr = np.arange(9).reshape((3, 3))\n",
    "rng.permutation(arr, axis=1)"
   ]
  },
  {
   "cell_type": "markdown",
   "metadata": {},
   "source": [
    "<cr>"
   ]
  },
  {
   "cell_type": "markdown",
   "metadata": {},
   "source": [
    "## Distributions\n",
    "#### https://numpy.org/doc/stable/reference/random/generator.html#distributions"
   ]
  },
  {
   "cell_type": "code",
   "execution_count": null,
   "metadata": {
    "scrolled": true
   },
   "outputs": [],
   "source": []
  },
  {
   "cell_type": "markdown",
   "metadata": {},
   "source": [
    "### numpy.random.Generator.logseries\n",
    "#### https://numpy.org/doc/stable/reference/random/generated/numpy.random.Generator.logseries.html#numpy-random-generator-logseries\n",
    "#### Generator.logseries(p, size=None)"
   ]
  },
  {
   "cell_type": "markdown",
   "metadata": {},
   "source": [
    "Draw samples from a logarithmic series distribution.\n",
    "Samples are drawn from a log series distribution with specified shape parameter, 0 < p < 1.\n"
   ]
  },
  {
   "cell_type": "code",
   "execution_count": 97,
   "metadata": {
    "scrolled": true
   },
   "outputs": [
    {
     "data": {
      "image/png": "[encoded data removed]",
      "text/plain": [
       "<Figure size 432x288 with 1 Axes>"
      ]
     },
     "metadata": {},
     "output_type": "display_data"
    }
   ],
   "source": [
    "# Draw samples from the distribution:\n",
    "\n",
    "a = .6\n",
    "s = np.random.default_rng().logseries(a, 10000)\n",
    "import matplotlib.pyplot as plt\n",
    "count, bins, ignored = plt.hist(s)\n",
    "plt.show()"
   ]
  },
  {
   "cell_type": "code",
   "execution_count": 98,
   "metadata": {
    "scrolled": true
   },
   "outputs": [
    {
     "data": {
      "image/png": "[encoded data removed]",
      "text/plain": [
       "<Figure size 432x288 with 1 Axes>"
      ]
     },
     "metadata": {},
     "output_type": "display_data"
    }
   ],
   "source": [
    "# plot against distribution\n",
    "\n",
    "def logseries(k, p):\n",
    "    return -p**k/(k*np.log(1-p))\n",
    "plt.plot(bins, logseries(bins, a) * count.max()/\n",
    "         logseries(bins, a).max(), 'r')\n",
    "plt.show()"
   ]
  },
  {
   "cell_type": "code",
   "execution_count": 101,
   "metadata": {
    "scrolled": true
   },
   "outputs": [
    {
     "data": {
      "image/png": "[encoded data removed]",
      "text/plain": [
       "<Figure size 432x288 with 1 Axes>"
      ]
     },
     "metadata": {},
     "output_type": "display_data"
    }
   ],
   "source": [
    "# Draw combination of samples from the distribution and plot against distribution\n",
    "\n",
    "a = .6\n",
    "s = np.random.default_rng().logseries(a, 10000)\n",
    "import matplotlib.pyplot as plt\n",
    "count, bins, ignored = plt.hist(s)\n",
    "\n",
    "# plot against distribution\n",
    "\n",
    "def logseries(k, p):\n",
    "    return -p**k/(k*np.log(1-p))\n",
    "plt.plot(bins, logseries(bins, a) * count.max()/\n",
    "         logseries(bins, a).max(), 'b')\n",
    "plt.show()\n"
   ]
  },
  {
   "cell_type": "markdown",
   "metadata": {},
   "source": [
    "## numpy.random.Generator.laplace\n",
    "### Generator.laplace(loc=0.0, scale=1.0, size=None\n",
    "#### https://numpy.org/doc/stable/reference/random/generated/numpy.random.Generator.laplace.html#numpy.random.Generator.laplace"
   ]
  },
  {
   "cell_type": "markdown",
   "metadata": {},
   "source": [
    "Draw samples from the Laplace or double exponential distribution with specified location (or mean) and scale (decay).\n",
    "\n",
    "The Laplace distribution is similar to the Gaussian/normal distribution, but is sharper at the peak and has fatter tails. It represents the difference between two independent, identically distributed exponential random variables."
   ]
  },
  {
   "cell_type": "code",
   "execution_count": 92,
   "metadata": {
    "scrolled": true
   },
   "outputs": [],
   "source": [
    "# Draw samples from the distribution\n",
    "\n",
    "loc, scale = 0., 1.\n",
    "s = np.random.default_rng().laplace(loc, scale, 1000)\n"
   ]
  },
  {
   "cell_type": "code",
   "execution_count": 94,
   "metadata": {
    "scrolled": true
   },
   "outputs": [
    {
     "data": {
      "text/plain": [
       "array([ 9.52146357e-01,  9.03987383e-01,  4.64922957e-01,  1.91832430e+00,\n",
       "        1.13284084e+00, -4.20664636e-01, -6.33928696e-01, -3.18340905e-01,\n",
       "       -1.65116120e-01,  6.95817056e-01, -4.64183270e+00,  2.30621834e-02,\n",
       "        1.27687782e+00,  7.21073182e-02,  1.07934393e+00, -4.03896778e-01,\n",
       "       -4.55366726e-01,  6.85569069e-02, -9.59140995e-02,  1.72603136e+00,\n",
       "       -2.56033690e+00, -1.06515854e+00,  1.77664166e+00, -4.77929831e-01,\n",
       "       -9.02978680e-01, -6.20331143e-01,  7.46402191e-01, -1.24251073e+00,\n",
       "       -2.19477472e-01, -2.71212593e-01, -1.02586848e+00, -8.51322126e-01,\n",
       "        2.50677189e+00, -4.32917465e-01, -8.33110205e-01, -2.05418347e+00,\n",
       "        3.37077969e-01, -1.96618325e-01, -1.88944681e+00, -1.55583886e+00,\n",
       "       -1.62254600e-01,  1.99181427e+00, -8.93211245e-02,  2.59700816e-01,\n",
       "        2.43812179e+00,  9.19286176e-01,  6.32870059e-01,  4.61877112e-02,\n",
       "       -3.16173209e-01,  1.36655750e+00,  5.83722730e-01,  1.08960994e+00,\n",
       "        5.88914876e-01, -2.20989571e+00, -1.87124702e+00, -1.86551386e-01,\n",
       "        9.13343569e-01,  1.56048637e-01,  2.29322283e-01, -1.55478131e+00,\n",
       "        1.16263497e-01, -5.84679082e-01, -1.73913918e+00,  3.89436802e-02,\n",
       "       -7.33859082e-02, -2.58509042e-01,  1.00112201e+00,  7.97938021e-01,\n",
       "        4.03954287e-01, -1.67570615e-01,  2.74102805e-01, -9.86085385e-01,\n",
       "        1.16253212e+00,  1.04091927e+00,  1.35198827e+00,  4.76104096e-01,\n",
       "       -2.77559031e-02, -2.76972513e-01,  6.44188628e-01,  1.36057173e+00,\n",
       "       -2.41524807e+00,  1.22634219e+00,  8.56200337e-02,  1.84525153e+00,\n",
       "       -4.00921340e-01,  1.51490953e+00,  1.25436619e+00, -1.42154302e+00,\n",
       "       -2.39625354e+00, -9.10049439e-01, -3.93288244e-01, -1.68746889e-01,\n",
       "       -1.79658781e+00,  5.66327846e-01, -1.46020281e-01, -2.98420485e-01,\n",
       "       -5.22890387e-01,  4.35280908e-01,  5.52015524e-01,  1.33934795e+00,\n",
       "       -1.52331750e-01, -3.08061897e+00,  1.47379858e+00, -1.33831478e+00,\n",
       "        9.82663205e-01, -2.57755125e+00, -9.22570734e-01,  2.41955036e+00,\n",
       "        4.23226461e-01, -3.33657505e-01,  5.09457879e-01, -4.16290086e-01,\n",
       "        1.11309035e-01, -2.03786983e+00, -3.59656256e-01,  5.47997683e-01,\n",
       "       -3.12656603e-01,  2.40974940e+00, -5.43412829e-01,  5.87919004e-01,\n",
       "       -1.67840565e-01, -1.66983442e-01, -2.85121963e-01, -1.77538244e+00,\n",
       "       -1.92785305e+00,  3.73182738e+00,  1.80745433e+00,  5.39170394e-01,\n",
       "        1.10461724e+00,  5.57344415e-01,  1.20133088e-01,  9.21894198e-01,\n",
       "       -2.45210757e-01,  1.17453605e+00, -5.59174229e+00,  1.43348907e+00,\n",
       "       -1.16239975e+00,  3.46061722e-01,  8.08388029e-02, -2.84839437e-01,\n",
       "        4.62229417e-01,  6.97635223e-01,  5.00310157e-01,  5.93597127e-01,\n",
       "        2.63150566e-01,  2.89302415e+00,  7.72702445e-01,  2.51920288e+00,\n",
       "       -2.47301387e+00, -1.24277160e+00, -7.88172939e-01,  1.57147057e+00,\n",
       "       -1.14999330e+00, -8.01104573e-01,  6.58088004e-01,  1.94854112e-01,\n",
       "       -1.25656107e+00,  1.64211702e+00,  2.09848694e-01, -2.08557815e+00,\n",
       "        5.84273701e-01, -9.84543446e-01,  3.39912437e-02, -1.37815784e+00,\n",
       "        6.51629297e-02,  2.19116791e+00, -1.21672262e+00,  1.18886095e+00,\n",
       "       -1.84785476e+00, -3.80140436e-01, -2.13575167e+00, -1.62960154e+00,\n",
       "       -1.61811727e+00,  1.59077034e-01,  8.78207295e-01,  1.86618594e-01,\n",
       "        4.12273961e-01, -2.54956042e+00,  9.75702621e-01, -2.55319707e-01,\n",
       "       -3.30894382e-01,  9.89176463e-01,  1.13556033e+00, -1.09219579e+00,\n",
       "        5.88451887e-01,  8.79532590e-01, -3.78270388e-01,  6.87482729e-01,\n",
       "       -2.36285902e-02, -5.50647255e-01,  6.47285163e-01,  1.79576211e+00,\n",
       "        1.25538323e+00,  2.04850062e-02,  8.71905906e-01,  1.53488980e-01,\n",
       "       -7.81625294e-01, -9.18070322e-01, -1.59808667e+00, -1.12008088e+00,\n",
       "        5.37845690e-01,  3.08610040e-01, -1.21242677e+00, -1.29464356e-01,\n",
       "       -3.37475138e-01,  4.96645697e-01, -5.39432818e-01,  2.81340518e-01,\n",
       "        1.73995164e+00, -3.17520358e+00, -2.10370816e+00,  6.98746446e-02,\n",
       "        1.25250551e+00, -2.71457912e-02, -4.29266805e-01, -8.66153526e-01,\n",
       "       -8.77257590e-01, -8.89581600e-01,  1.06699669e+00,  1.25713169e+00,\n",
       "        1.08155677e-02,  1.69972627e+00,  8.88961600e-01,  2.50597759e+00,\n",
       "        1.58360306e+00, -8.68869394e-01,  1.42747190e+00, -2.11209766e+00,\n",
       "        9.45552278e-01,  5.17125632e-01,  2.28268753e+00,  6.02114019e-03,\n",
       "        1.59160756e-01, -6.79176009e-01,  8.38553135e-02,  2.72534948e+00,\n",
       "        6.55099240e-02,  5.29583969e-01, -8.88905089e-01,  7.13351050e+00,\n",
       "        5.00276110e-01,  5.11020057e-01,  1.11074699e-01,  1.58834620e+00,\n",
       "        1.98772073e+00,  1.17324176e+00,  6.03146393e-01, -1.77669238e+00,\n",
       "        6.14035525e-01,  5.27914735e-01, -5.73684579e-01, -1.12667558e-02,\n",
       "       -1.03124570e+00,  2.10549061e+00, -5.34805853e-01, -4.50075971e-01,\n",
       "       -6.62745557e-01, -6.61924233e-01,  3.09302493e-02,  1.85533527e+00,\n",
       "       -5.63226000e-01, -1.11219899e+00,  2.74269683e-01, -5.01446851e-01,\n",
       "       -1.91665549e-01, -2.03137388e-01,  1.11636163e-01, -1.96152030e+00,\n",
       "        1.07626407e+00, -7.39448420e-01, -9.80742201e-01, -3.55846495e-01,\n",
       "       -8.69180609e-01,  1.21914121e+00, -2.69412056e-01, -5.10663852e-02,\n",
       "       -3.51794248e-02, -4.26731859e-02, -3.32923848e+00, -4.97415855e-01,\n",
       "        1.02694898e+00,  4.01064926e+00, -1.40716834e+00, -4.28205939e-02,\n",
       "        1.40598693e+00,  2.73732808e-01,  3.53925499e-01,  1.03074719e-01,\n",
       "       -2.09573945e+00,  1.98701832e+00, -1.56837568e+00,  3.16841229e-01,\n",
       "        1.39553877e-01, -8.54213654e-01, -3.58192621e-01,  1.74619553e-01,\n",
       "        2.18397656e+00,  1.91651121e-01,  8.36534713e-01,  9.91276287e-01,\n",
       "       -1.77427659e+00, -1.85290735e+00,  6.40857923e-01,  5.02633113e-01,\n",
       "       -7.29775190e-01,  2.28145629e-01, -6.21438532e-01, -2.93078112e+00,\n",
       "        2.10422122e+00, -5.09280958e-01, -7.55394941e-01,  2.24490456e+00,\n",
       "        7.47588967e-01, -1.16273582e+00, -1.44588951e+00, -9.24462355e-01,\n",
       "        3.82232777e+00, -1.11550022e+00, -3.40357317e-01, -8.20072934e-01,\n",
       "       -5.85690374e-02,  1.74374858e+00, -1.12307207e+00, -7.54930889e-01,\n",
       "       -6.49149713e-01,  4.57809810e-01,  1.37142034e+00, -7.34059871e-01,\n",
       "        1.72314614e+00, -1.84702528e+00,  3.98734977e-01,  7.09407853e-02,\n",
       "       -6.56505506e-01,  2.66191252e-01, -3.22227121e+00,  7.45175456e-01,\n",
       "       -1.94174821e+00,  1.86716581e+00, -1.95454540e+00,  3.73923150e-01,\n",
       "        4.75318929e-01,  1.84860479e+00, -3.18976756e-01, -8.49966204e-02,\n",
       "        1.79533079e+00, -7.91169729e-01,  1.33707936e+00,  9.08559369e-03,\n",
       "        1.01783799e+00,  3.95928993e-01,  2.66449179e-01, -1.08359593e+00,\n",
       "        8.25114132e-01,  1.18708970e+00, -6.78699736e-01, -1.06434803e+00,\n",
       "       -4.69057658e-01,  4.71302607e+00, -3.00467666e+00,  6.25316817e-01,\n",
       "        2.79181439e+00,  2.21883033e-01, -2.30483863e-01, -7.51051651e-01,\n",
       "        2.10734192e+00, -1.66332135e+00, -2.37281127e-01, -1.58438764e-01,\n",
       "        2.34174113e-01, -9.64318480e-01,  9.07175330e-01,  6.36779670e-01,\n",
       "        2.66434121e+00, -1.12537006e-01,  2.11826413e+00, -2.39784226e-01,\n",
       "        1.99417781e-01,  3.04200296e-02,  3.91224719e-01, -1.67198891e-01,\n",
       "        6.15610707e-01, -2.19946708e+00,  8.87593306e-01,  1.14215118e+00,\n",
       "        4.27541913e-01, -2.67171360e+00,  3.48990295e-01,  1.43556048e+00,\n",
       "        4.32438890e-01,  7.61691351e-01,  1.54723494e+00,  4.22118160e-01,\n",
       "        1.05846657e+00,  1.47982701e+00, -1.71206041e-02,  1.35065596e+00,\n",
       "        4.27393852e-01, -3.38052730e-03, -4.26064248e-01,  3.73516798e-01,\n",
       "        3.65705937e+00, -4.39470870e-01, -3.35969121e-01,  1.68724316e-01,\n",
       "        4.79572141e+00,  1.70344402e+00, -4.25979854e-01, -1.89045925e-01,\n",
       "       -7.98563096e-02, -8.75792780e-02, -3.13541622e-01, -1.01350999e-02,\n",
       "       -2.70770780e+00,  1.62927827e+00, -2.76643230e-01, -2.77123374e-01,\n",
       "        2.27567771e+00,  3.47618314e+00, -9.88071892e-02,  1.03605652e+00,\n",
       "       -2.91879598e+00, -5.01674682e-02,  6.46064289e-01,  9.96767488e-01,\n",
       "       -4.22379889e-01, -4.02309622e-02, -5.41472436e-01,  7.64933472e-01,\n",
       "        1.76901099e+00, -1.65841695e+00,  2.71717703e-01, -1.16490008e+00,\n",
       "        1.00941056e+00,  2.02828389e+00,  4.51518006e-01,  3.50599200e+00,\n",
       "        2.25315017e-01,  6.50775928e-01,  3.33456287e+00,  1.05099928e+00,\n",
       "       -1.11215830e+00, -3.74641535e-01, -2.75602923e-01, -4.82342329e-01,\n",
       "        2.05235427e+00, -2.45474988e+00, -7.03971544e-01, -5.00829550e-02,\n",
       "       -4.26870785e+00,  1.55651851e+00,  8.53415606e-02,  1.02885244e+00,\n",
       "       -5.13969992e+00,  6.36877874e-01,  8.46107921e-01,  5.85536965e-01,\n",
       "       -4.69474394e+00, -5.39230491e-01,  3.11251004e-01, -3.34024421e+00,\n",
       "       -4.62287039e-01,  3.75497005e-01,  2.58169813e-01,  3.69641771e+00,\n",
       "        1.27807580e+00, -1.65568388e+00,  2.15965123e+00,  1.23249963e-01,\n",
       "        1.47679446e-01, -3.32597960e-01,  4.03699705e-02, -1.39726503e+00,\n",
       "       -2.37145538e+00, -4.63044468e-01,  5.99238629e-01,  9.22669380e-02,\n",
       "       -4.43231437e-02, -5.22045484e-01,  7.99281790e-01, -2.46970263e+00,\n",
       "        3.91590130e+00,  2.59960754e+00, -1.82755967e+00, -5.23592799e-01,\n",
       "       -1.32608110e+00,  6.71270932e-01,  4.57916403e-01, -3.00240608e-01,\n",
       "       -1.56410696e+00, -6.74658844e-01,  3.09107801e+00,  6.64700938e-01,\n",
       "       -7.86791832e-02,  9.55043438e-01, -4.21259176e-02,  1.14158837e+00,\n",
       "        9.34740057e-02,  1.56203973e-01,  1.13541677e-01, -9.18669803e-02,\n",
       "       -6.40048880e-01, -1.38583148e-01,  2.02350404e+00, -2.56832173e-01,\n",
       "        1.11252572e+00, -1.44867012e-01,  3.16918534e-01,  3.57451681e+00,\n",
       "        2.79242071e-01,  4.88835133e-01, -2.65692217e-01,  6.10893873e-01,\n",
       "        4.98280662e-02,  2.61671643e-01,  3.98428692e-01, -6.60098276e-02,\n",
       "        3.98748586e-01,  1.96024873e+00, -1.49437575e+00,  2.19440681e+00,\n",
       "        3.31163714e-01, -2.68695231e+00, -2.89755245e+00, -2.06444096e+00,\n",
       "        4.54168232e-02, -4.02305887e-01, -2.34220579e-01,  2.13097810e+00,\n",
       "        6.63882933e-01, -1.36730889e+00, -3.55970283e-01, -1.16600166e+00,\n",
       "       -6.61857784e-01, -5.72414241e-02,  2.13666147e+00,  2.46208706e+00,\n",
       "       -4.88027997e-01,  8.68598112e-02, -1.05473043e+00, -1.01053058e+00,\n",
       "        7.70728595e-01,  4.39722405e+00,  1.20781437e+00, -7.57359159e-02,\n",
       "        5.71453597e-01,  3.28465252e+00, -1.16428549e+00,  7.71668766e-01,\n",
       "        5.68259916e-02, -6.06476468e-01,  6.25076010e-01,  1.44123505e-01,\n",
       "       -2.20664179e-01, -2.32735481e-01, -2.14945294e-01, -4.88556760e-01,\n",
       "        3.52079385e-02,  3.26358278e-01, -1.26932412e+00,  6.18336922e-01,\n",
       "       -1.34124259e-02,  5.44979647e-01, -8.31661744e-01,  1.78623119e+00,\n",
       "       -1.40270782e+00,  1.11138361e+00,  2.69077707e+00,  7.68441530e-01,\n",
       "        3.97905978e-01,  6.89088178e-01,  2.92481160e+00, -7.87948549e-01,\n",
       "       -1.99240025e+00,  1.56053390e+00,  8.88465784e-01, -2.09763529e+00,\n",
       "       -8.85847238e-01,  2.47344988e-01, -1.94706151e+00,  1.17328809e+00,\n",
       "        4.39380270e-02,  1.49725783e+00,  1.43206960e+00, -2.23937240e-01,\n",
       "       -7.31222782e-01, -1.84736087e-01, -1.25832034e-01,  2.25643764e+00,\n",
       "        1.51261293e+00, -1.36983942e+00,  3.41105556e-01, -4.80248187e-01,\n",
       "       -1.02368135e+00, -8.91344798e-01, -6.71342312e-01, -9.51177497e-01,\n",
       "        2.65784087e+00,  3.20986221e-01, -7.98091995e-01, -3.65169361e-01,\n",
       "       -9.93232644e-01,  4.15429176e-01,  1.03266788e-01,  4.10453880e+00,\n",
       "       -1.33045067e-01,  1.60227238e-01, -3.62570935e+00, -2.96747656e+00,\n",
       "       -3.78264845e-01, -7.40605884e-02,  8.57806508e-01, -7.14550207e+00,\n",
       "        9.26133931e-02, -2.01010393e+00,  2.10822403e-01, -5.80020802e-01,\n",
       "       -6.82776876e-01, -5.52545511e-01,  3.45166039e-01,  9.78658398e-01,\n",
       "        5.47260945e-01,  1.85270157e-01, -2.53344736e-01, -2.26052972e+00,\n",
       "        1.41376378e+00, -1.66729567e+00, -1.27397642e+00, -1.91585567e-02,\n",
       "       -3.68876186e+00, -1.81405212e-02, -2.77401209e-01,  1.31707119e-01,\n",
       "       -1.29626917e-01,  6.44425682e-01,  6.86673042e-01,  9.90829345e-01,\n",
       "        6.42695580e-01,  1.07888145e+00, -1.48263638e-01,  1.39283926e-01,\n",
       "       -1.21025580e+00,  6.37153211e-01,  3.19146546e-01,  7.78873255e-01,\n",
       "        4.35190188e-01, -3.37169939e-02,  8.42463273e-01,  2.46070164e-01,\n",
       "       -2.76818580e+00,  5.98922082e-02, -3.36003331e+00, -1.70016213e-01,\n",
       "       -1.80370549e+00,  1.64200807e-01, -4.99366404e-01, -4.68181286e-02,\n",
       "       -2.61945086e+00, -1.82182421e+00,  6.60339037e-01, -1.26873555e+00,\n",
       "       -1.07351023e+00,  4.70443974e-01,  5.08231793e-01, -6.22521015e-02,\n",
       "       -3.23222414e-01, -1.35979418e+00,  4.81143279e-01, -1.80041994e+00,\n",
       "       -1.26961334e+00,  4.64187828e-01, -2.20184016e-01,  8.85055943e-01,\n",
       "        2.03814880e+00,  3.55450638e-01, -9.40529347e-01, -2.29567173e-01,\n",
       "        4.61233587e-02,  3.30271081e+00, -6.08463910e-01, -1.39723588e-01,\n",
       "        2.52253828e-02,  1.10233442e+00,  6.55659728e-01, -6.04532679e-01,\n",
       "       -1.56708263e-02, -1.86639395e-01,  8.03918123e-01,  5.40716864e-01,\n",
       "       -1.21137595e+00,  1.15998513e+00, -1.09298852e+00, -4.21044296e-01,\n",
       "       -1.49507751e+00, -1.32529977e+00,  8.75396032e-02,  5.63980821e-01,\n",
       "        8.01127203e-01, -2.08822027e-01, -8.42168094e-01, -2.81152464e-01,\n",
       "        1.41325078e+00, -1.18573109e+00, -9.23026245e-01, -2.64672641e-01,\n",
       "       -3.38566160e-01,  1.51237122e+00, -1.97762778e-01, -2.36385032e+00,\n",
       "       -6.32197168e-01, -6.96791260e-01,  2.13564662e+00,  5.21178492e+00,\n",
       "        9.89251625e-01, -2.00156827e+00,  5.88886373e-01, -3.00228282e-01,\n",
       "        3.19422226e-02,  9.63662925e-01, -7.47645884e+00,  3.21001787e+00,\n",
       "       -2.19211599e+00, -1.53728643e+00, -6.88664595e-01, -1.59656628e+00,\n",
       "        2.53386165e-01,  2.40040215e+00,  3.43449171e-01, -2.40464409e-01,\n",
       "        8.23634219e-01,  3.90734951e-01,  6.99826401e-01, -2.06525877e+00,\n",
       "        8.78481251e-01, -8.35708848e-02, -1.03156117e+00,  2.14954350e+00,\n",
       "        2.42940397e-01, -4.07041807e-01,  3.99738295e+00,  8.06579016e-01,\n",
       "       -5.72807528e-01,  1.68866129e-01, -6.30583715e-01, -1.64387020e+00,\n",
       "        1.62951794e+00,  1.64895084e-01,  7.27596086e-02,  2.97311523e-01,\n",
       "        1.21279531e-01, -7.22133355e-01, -1.18762755e+00,  3.53316606e-01,\n",
       "        7.65095231e-01,  5.32397374e-01, -4.59514407e-01,  1.16410732e+00,\n",
       "        2.30959346e+00, -7.18125466e-01,  1.38574321e+00,  2.69973105e-01,\n",
       "        2.99393771e+00, -3.26581297e+00, -3.69089419e-01,  1.45194781e+00,\n",
       "        8.71913452e-01, -2.61066712e+00,  1.43535680e+00,  6.11536014e-01,\n",
       "        3.30431912e-01,  4.34499070e-01, -1.84943753e-01,  2.31985582e+00,\n",
       "        6.50383442e-01, -2.02667644e+00,  7.91778780e-01, -4.65264870e+00,\n",
       "       -2.49951814e-01,  1.84902403e-01,  1.40483531e-01,  1.26998545e-01,\n",
       "        5.61067658e-01, -1.91032176e+00, -7.92786358e-01, -7.90628106e-01,\n",
       "        9.19842964e-03, -6.31231145e-02,  2.22771167e-01,  1.19658194e+00,\n",
       "       -1.59780861e+00, -3.52890966e-01, -1.25395151e-01, -3.86942969e-01,\n",
       "       -3.67440981e-01, -8.17781877e-01, -1.73797820e+00,  1.00664959e-01,\n",
       "       -7.88254188e-01,  1.33318581e+00, -1.71128825e+00,  5.80494664e-01,\n",
       "        2.50094304e+00,  2.33554474e+00,  1.30944087e+00,  1.88159080e+00,\n",
       "       -5.08263520e-01, -1.01416764e+00,  2.54116859e-01,  5.86209284e-01,\n",
       "       -1.28630305e+00, -2.03257681e-01,  4.42269821e-01, -6.82079985e-01,\n",
       "        6.10048764e-01,  9.62347285e-01, -1.54769691e-01, -5.49558568e-01,\n",
       "        5.48737175e-01, -3.07884403e-01,  1.17389463e-01, -1.43594147e-01,\n",
       "        3.66833804e-01,  1.35111597e+00, -2.12593823e-01,  8.28911895e-01,\n",
       "        1.40306890e+00, -6.71542963e-01,  4.32705513e-01, -1.52551256e-01,\n",
       "       -4.99238621e-01, -4.76280545e-01, -6.39606875e-01, -5.83104881e-01,\n",
       "       -1.69617239e+00,  4.55943390e-01, -2.82352842e-01,  1.94009705e+00,\n",
       "       -3.72662310e-01, -9.31471048e-01,  6.86579860e-01,  2.04526536e+00,\n",
       "        1.61721590e+00, -2.31176844e+00,  2.01896198e+00,  1.04486293e+00,\n",
       "       -1.82384227e+00, -3.53409449e+00,  4.13563150e-01, -2.31183902e+00,\n",
       "       -6.86741324e-01,  2.89926372e-01, -4.46782152e+00,  3.75746832e+00,\n",
       "        1.17991639e+00,  4.81882264e-01, -8.04587838e-01, -3.17753916e-01,\n",
       "       -9.32367486e-01, -1.32266904e+00,  2.27395898e+00, -2.11948786e+00,\n",
       "        1.63886932e+00,  3.49688826e-02,  1.17101406e+00,  1.78661386e+00,\n",
       "       -1.21719221e-01, -2.18348565e-01, -2.33574275e-01, -3.99591731e-01,\n",
       "        1.09951580e-01,  1.91861224e+00,  1.82966136e+00, -3.55586938e-01,\n",
       "        2.52599630e+00, -3.11862528e-01, -7.89014843e-01,  9.10615752e-02,\n",
       "        6.26979096e-01, -1.49508229e+00,  3.04080877e-01, -3.56490252e-01,\n",
       "        2.55145393e-01, -8.38646651e-02, -3.08163921e-01, -8.04428659e-01,\n",
       "       -5.68237816e-01, -1.54050266e+00, -7.50708443e-01, -1.85085121e-01,\n",
       "       -2.69690756e+00, -1.30097402e+00, -3.73112420e-01,  7.41622133e-01,\n",
       "        1.69723915e+00, -2.28802829e+00, -1.95116367e+00, -1.33526418e+00,\n",
       "       -1.01360701e+00, -7.91099391e-01, -4.37638045e-01, -7.58546072e-01,\n",
       "       -4.39190420e+00,  1.12932131e+00, -5.55826618e-02,  2.44491323e-01,\n",
       "        9.06667491e-01,  1.80779205e+00,  2.17795863e+00, -7.58664641e-01,\n",
       "       -1.82872294e+00, -3.27294749e-01,  1.45200672e-01,  2.10592671e+00,\n",
       "       -1.14970655e+00,  2.55740895e-01, -1.11103023e+00, -7.07352876e-01,\n",
       "       -4.49948205e-01, -1.09696025e-01,  5.01331825e-01,  6.36533093e-01,\n",
       "       -1.34964424e-01, -5.82494233e-02,  2.79628520e-02, -4.15183455e-01,\n",
       "       -1.09543445e+00,  3.44283702e-01, -5.38052402e-01, -2.55145200e-01,\n",
       "       -1.12111772e+00, -1.77538456e+00, -2.20281155e+00, -7.54672986e-02,\n",
       "       -3.40398491e+00,  8.79458918e-01,  5.45893110e-01, -1.00970076e+00,\n",
       "        1.00439810e-01, -2.18761662e-01, -1.60404722e-01, -3.90116567e-01,\n",
       "       -3.32566301e+00,  1.82466662e+00, -1.43786509e+00,  1.84966464e+00,\n",
       "       -7.69378717e-01, -1.95512708e+00, -3.31416884e-01, -1.20266980e+00,\n",
       "       -4.05167682e-01,  6.79699636e-01, -5.35881105e-01,  2.45777530e-02,\n",
       "        8.03100500e-02,  2.20869772e+00, -1.63311159e+00,  1.47908935e+00,\n",
       "        2.00969886e-01,  3.51246322e-01,  2.25133685e+00,  7.55790419e-01,\n",
       "       -8.97496404e-02, -1.17337143e-01, -6.59865415e-01,  1.96290544e-01,\n",
       "       -8.94604073e-01, -8.03213156e-01, -9.42455199e-01,  1.01418504e+00,\n",
       "       -3.50227448e-02, -1.10802898e-01, -3.49018608e-02, -6.16159152e-01,\n",
       "       -2.24560635e+00,  3.73318033e-01,  2.05567122e-01,  3.92487606e-01,\n",
       "       -8.81969295e-01,  9.46586039e-01, -2.09725000e+00, -1.74834756e+00,\n",
       "       -5.56336784e-01,  2.63991361e+00, -4.93053527e-01, -2.71844451e+00,\n",
       "        1.14417633e+00, -4.74038813e-01, -2.80894956e-01,  7.76798679e-01,\n",
       "       -1.47575707e+00, -4.53253497e-01,  4.47620875e+00, -5.69662674e-01,\n",
       "       -1.47633838e+00, -1.64415180e+00,  1.34081005e-01, -1.08255322e+00,\n",
       "       -4.79056320e-01,  1.33874605e-01, -2.08968913e+00,  6.93427232e-02])"
      ]
     },
     "execution_count": 94,
     "metadata": {},
     "output_type": "execute_result"
    }
   ],
   "source": [
    "s"
   ]
  },
  {
   "cell_type": "code",
   "execution_count": 95,
   "metadata": {
    "scrolled": true
   },
   "outputs": [
    {
     "data": {
      "image/png": "[encoded data removed]",
      "text/plain": [
       "<Figure size 432x288 with 1 Axes>"
      ]
     },
     "metadata": {},
     "output_type": "display_data"
    }
   ],
   "source": [
    "# Plot Gaussian for comparison:\n",
    "g = (1/(scale * np.sqrt(2 * np.pi)) * np.exp(-(x - loc)**2 / (2 * scale**2)))\n",
    "plt.plot(x,g)\n",
    "plt.show()"
   ]
  },
  {
   "cell_type": "code",
   "execution_count": 93,
   "metadata": {
    "scrolled": true
   },
   "outputs": [
    {
     "data": {
      "image/png": "[encoded data removed]",
      "text/plain": [
       "<Figure size 432x288 with 1 Axes>"
      ]
     },
     "metadata": {},
     "output_type": "display_data"
    }
   ],
   "source": [
    "# Display the histogram of the samples, along with the probability density function:\n",
    "\n",
    "import matplotlib.pyplot as plt\n",
    "count, bins, ignored = plt.hist(s, 30, density=True)\n",
    "x = np.arange(-8., 8., .01)\n",
    "pdf = np.exp(-abs(x-loc)/scale)/(2.*scale)\n",
    "plt.plot(x, pdf)\n",
    "plt.show()"
   ]
  },
  {
   "cell_type": "code",
   "execution_count": 96,
   "metadata": {
    "scrolled": true
   },
   "outputs": [
    {
     "data": {
      "image/png": "[encoded data removed]",
      "text/plain": [
       "<Figure size 432x288 with 1 Axes>"
      ]
     },
     "metadata": {},
     "output_type": "display_data"
    }
   ],
   "source": [
    "# A combination of la place(), Plot Gaussian and Histogram of the samples\n",
    "\n",
    "loc, scale = 0., 1.\n",
    "s = np.random.default_rng().laplace(loc, scale, 1000)\n",
    "# Plot Gaussian for comparison:\n",
    "g = (1/(scale * np.sqrt(2 * np.pi)) * np.exp(-(x - loc)**2 / (2 * scale**2)))\n",
    "plt.plot(x,g)\n",
    "# Display the histogram of the samples, along with the probability density function:\n",
    "import matplotlib.pyplot as plt\n",
    "count, bins, ignored = plt.hist(s, 30, density=True)\n",
    "x = np.arange(-8., 8., .01)\n",
    "pdf = np.exp(-abs(x-loc)/scale)/(2.*scale)\n",
    "plt.plot(x, pdf)\n",
    "plt.show()\n"
   ]
  },
  {
   "cell_type": "code",
   "execution_count": null,
   "metadata": {
    "scrolled": true
   },
   "outputs": [],
   "source": []
  },
  {
   "cell_type": "markdown",
   "metadata": {},
   "source": [
    "## np.random.weibull"
   ]
  },
  {
   "cell_type": "code",
   "execution_count": 91,
   "metadata": {
    "scrolled": true
   },
   "outputs": [
    {
     "data": {
      "image/png": "[encoded data removed]",
      "text/plain": [
       "<Figure size 432x288 with 1 Axes>"
      ]
     },
     "metadata": {},
     "output_type": "display_data"
    }
   ],
   "source": [
    "import numpy as np  \n",
    "import matplotlib.pyplot as plt  \n",
    "from scipy import special  \n",
    "x=2.0  \n",
    "s=np.random.weibull(x, 1000)  \n",
    "a = np.arange(1, 100.)/50.  \n",
    "def weib(x, n, a):  \n",
    "    return (a/n)*(x/n)**np.exp(-(x/n)**a)  \n",
    "count, bins, ignored = plt.hist(np.random.weibull(5.,1000))  \n",
    "a= np.arange(1,100.)/50.  \n",
    "scale = count.max()/weib(x, 1., 5.).max()  \n",
    "scale = count.max()/weib(a, 1., 5.).max()  \n",
    "plt.plot(x, weib(x, 1., 5.)*scale)  \n",
    "plt.show()  \n"
   ]
  },
  {
   "cell_type": "markdown",
   "metadata": {},
   "source": [
    "## numpy.random.Generator.rayleigh\n",
    "\n",
    "#### Generator.rayleigh(scale=1.0, size=None)\n",
    "#### https://numpy.org/doc/stable/reference/random/generated/numpy.random.Generator.rayleigh.html#numpy.random.Generator.rayleigh"
   ]
  },
  {
   "cell_type": "markdown",
   "metadata": {},
   "source": [
    "Draw values from the distribution and plot the histogram"
   ]
  },
  {
   "cell_type": "code",
   "execution_count": 85,
   "metadata": {
    "scrolled": false
   },
   "outputs": [
    {
     "data": {
      "image/png": "[encoded data removed]",
      "text/plain": [
       "<Figure size 432x288 with 1 Axes>"
      ]
     },
     "metadata": {},
     "output_type": "display_data"
    }
   ],
   "source": [
    "from matplotlib.pyplot import hist\n",
    "rng = np.random.default_rng()\n",
    "values = hist(rng.rayleigh(3, 100000), bins=200, density=True)\n",
    "plt.show()"
   ]
  },
  {
   "cell_type": "code",
   "execution_count": 86,
   "metadata": {
    "scrolled": true
   },
   "outputs": [
    {
     "data": {
      "text/plain": [
       "0.0874"
      ]
     },
     "execution_count": 86,
     "metadata": {},
     "output_type": "execute_result"
    }
   ],
   "source": [
    "# Wave heights tend to follow a Rayleigh distribution. \n",
    "# If the mean wave height is 1 meter, what fraction of waves are likely to be larger than 3 meters?\n",
    "meanvalue = 1\n",
    "modevalue = np.sqrt(2 / np.pi) * meanvalue\n",
    "s = rng.rayleigh(modevalue, 1000000)\n",
    "\n",
    "# The percentage of waves larger than 3 meters is:\n",
    "100.*sum(s>3)/1000000."
   ]
  },
  {
   "cell_type": "code",
   "execution_count": 87,
   "metadata": {
    "scrolled": true
   },
   "outputs": [
    {
     "data": {
      "text/plain": [
       "array([0.91168297, 0.45651764, 0.96651547, ..., 1.17121925, 0.31816309,\n",
       "       0.53240679])"
      ]
     },
     "execution_count": 87,
     "metadata": {},
     "output_type": "execute_result"
    }
   ],
   "source": [
    "s"
   ]
  },
  {
   "cell_type": "code",
   "execution_count": 88,
   "metadata": {
    "scrolled": true
   },
   "outputs": [
    {
     "data": {
      "text/plain": [
       "1"
      ]
     },
     "execution_count": 88,
     "metadata": {},
     "output_type": "execute_result"
    }
   ],
   "source": [
    "meanvalue"
   ]
  },
  {
   "cell_type": "code",
   "execution_count": 89,
   "metadata": {
    "scrolled": true
   },
   "outputs": [
    {
     "data": {
      "text/plain": [
       "0.7978845608028654"
      ]
     },
     "execution_count": 89,
     "metadata": {},
     "output_type": "execute_result"
    }
   ],
   "source": [
    "modevalue"
   ]
  },
  {
   "cell_type": "markdown",
   "metadata": {},
   "source": [
    "### numpy.random.Generator.zipf\n",
    "\n",
    "#### https://numpy.org/doc/stable/reference/random/generated/numpy.random.Generator.zipf.html#numpy-random-generator-zipf\n"
   ]
  },
  {
   "cell_type": "markdown",
   "metadata": {},
   "source": [
    "Generator.zipf(a, size=None)"
   ]
  },
  {
   "cell_type": "markdown",
   "metadata": {},
   "source": [
    "Draw samples from a Zipf distribution."
   ]
  },
  {
   "cell_type": "code",
   "execution_count": 80,
   "metadata": {
    "scrolled": false
   },
   "outputs": [],
   "source": [
    "# Draw samples from the distribution:\n",
    "a = 2. # parameter\n",
    "s = np.random.default_rng().zipf(a, 1000)"
   ]
  },
  {
   "cell_type": "code",
   "execution_count": 81,
   "metadata": {
    "scrolled": true
   },
   "outputs": [
    {
     "data": {
      "text/plain": [
       "array([  3,   1,   1,   1,   1,   1,   2,   2,   1,   2,   1,   2,   2,\n",
       "         2, 339,   1,   1,   3,   2,   1, 926,   8,   1,   1,   1,   1,\n",
       "         1,   1,   3,   3,   4,   2,   4,   2,   1,   1,   1,   1,   4,\n",
       "        15,  23,  14,   1,  16,   2,   1,   1,   1,   1,   1,   1,   1,\n",
       "         8,   1,   1,   2,   8,   1,   3,   4,   1,   2,   1,   1,  59,\n",
       "         1,   1,   1,   1,   1,   1,   4,   1,   1,   3,  31,   1,   1,\n",
       "         1,   1,   1,   1,   2,   1,   1,   1,   1,   1,   3,   1,   1,\n",
       "         1,   1,   2,   1,  10,   3,   5,   1,   1,   2,   1,   1,   2,\n",
       "         1,   1,   2,   1,   1,   1,   2,   3,   2,   3,   2,   2,   1,\n",
       "         1,   5,   1,   1,   1,   2,   1,   1,   1,   1,   1,   1,   1,\n",
       "         1,   1,   2,   2,   1,   1,   1,   1,   1,   1,   1,   5,   3,\n",
       "         2,   1,   1,   1,   3,   7,   2,   1,   1,   4,   1,   1,   1,\n",
       "         1,   1,   1,   1,   1,   2,   1,   2,   1,   1,   2,   1,   2,\n",
       "         1,   1,   1,   2,   3,   1,   1,   2,   1,   3,  59,   1,   1,\n",
       "         1,   1,   1,   1,   7,   1,   1,   3,   1,   3,   1,   2,   3,\n",
       "         4,   2,   1,   1,   1,   3,   1,   1,  14,   1,   2,   4,   2,\n",
       "         2,   1,   1,   1,   1,   1,  14,   2,   1,   1,   1,   1,   1,\n",
       "         1,   4,   9,  46,   1,   1,   1,   1,  11,   1,   1,   1,   1,\n",
       "         1,   9,   2,   1,  45,   1,   1,   1,   1,   1,   3,   2,   1,\n",
       "         3,   1,   1,   3,  12,   1,   4,   4,   2,   1,   1,   1,   1,\n",
       "         1,   2,  10,   1,   1,   1,   1,   1,   1,   1,   1,   1,   1,\n",
       "         5,   5,   1,   1,   2,   1,   1,   1,   1,   1,   1,   9,   4,\n",
       "         1,   4,   1,   1,   1,   1,   1,  56,   1,   1,   1,   3,   3,\n",
       "         1,   1,   4,   1,   1,   1,   2,   2,   3,   4,   1,   1,   2,\n",
       "         6,   1,   1,  11,   1,   1,   1,   4,   1,   1,   1, 331,   1,\n",
       "         1,   1,   5,   1,   1,   1,   2,   1,   1,   1,   1,   4,   4,\n",
       "         2,   1,   1,  12,  36,   1,   6,   8,   6,   1,   1,   2,   1,\n",
       "         1,   1,   4,   1,   2,   1,   2,   1,   1,   1,   1,   1,   1,\n",
       "         1,   1,   1,   8,   7,   1,   3,   1,   1,   1,   1,   1,   1,\n",
       "         1,   1,   1,  12,   1,   1,   1,   1,   3,  11,   1,   2,  36,\n",
       "         1,   1,   1,   2,   2,   1,   1,   1,   1,   1,   1,   5,   1,\n",
       "         1,   2,   1,   1,   1,   1,   2,   1,   2,   3,   1,   3,   3,\n",
       "         1,   3,   8,   2,   3,   1,   1,   4,   4,   1,   1,   3,   1,\n",
       "         3,   7,   1,   2,   7,  17,   2,   1,   1,   1,  13,  11,   2,\n",
       "         3,   1,  10,   3,   5,   2,   9,   1,   1,   3,   5,   2,   1,\n",
       "         1,   1,   2,  18,   1,   1,   3,   2,   1,   1,   1,   1,   2,\n",
       "         2,  54,   3,   3,   1,   2,   1,   1,   2,   1,   6,   1,   2,\n",
       "         1,   1,   1,   1,   1,   2,   1,   1,   3,   4,   2,   5,   1,\n",
       "         1,   2,   3,   1,   1,   1,   9,   1,   1,   1,   1,   1,   1,\n",
       "         3,   3,   5,   2,   1,   4,   1,   1,  30,   1,   1,   1,   6,\n",
       "         1,   1,   1,   1,   1,   1,   1,   1,   1,  46,   1,  12,   1,\n",
       "         2,   2,   2,   1,   1,   1,   3,   1,   1,   2,   1,   1,   1,\n",
       "         1,   1,   1,   2,   2,   1,   1,   1,   1,   1,   1,   1,   8,\n",
       "         1,   1,   1,   1,   4,   1,   1,   2,   1,   1,   1,   1,   3,\n",
       "         2,   1,   1,   1,   1,   1,   1,   1,   1,   1,   1,   2,   3,\n",
       "         3,   1,   1,   1,   5,   5,   2,   1,   1,   1,   4,   1,   1,\n",
       "         2,   2,   1,   1,   7,   1,   2,   3,   2,   1,   2,   1,   1,\n",
       "         1,   1,   1,   2,   2,   3,   6,  14,   1,   1,   1,   1,   1,\n",
       "         2,   1,   1,   5,   3,   1,   1,   1,   1,   1,   2,   2,   2,\n",
       "         3,   1,   1,   1,   1,   6,   1,   1,   1,   2,   1,   1,   1,\n",
       "         1,   6,   1,   2,   1,   1,   2,   1,   1,   1,   1,   1,   3,\n",
       "         3,   1,   2,   1,   2,   1,   2,   1,   1,   3,  43,   1,   2,\n",
       "         1,   1,   1,   5,   2,   1,   1,   3,   1,   1,   1,   2,   1,\n",
       "         2,   2,   2,   1,   1,   2,   1,   1,   1,   4,   1,   1,   1,\n",
       "         1,   1,   4,   5,  10,   1,   2,   1,   1,   5,   2,   2,   1,\n",
       "         1,   1,   1,   4,   1,   3,   1,   5,   2,   1,   2,   1,   4,\n",
       "         1,  11,   3,   1,   1,   1,   2,   3,   1,   2,   1,   1,   1,\n",
       "         5,   1,   1,   1,   1,   1,   1,   2,   1,   1,   1,   2,   1,\n",
       "         1,   2,   3,   4,   1,   1,   2,   1,   1,   1,   2,   2,   1,\n",
       "         1,   1,   1,   1,   2,   4,   2,   1,   2,   6,   1,   1,   2,\n",
       "         1,   1,   4,  18,   5,   3,   1,   1,   1,  48,   6,   7,   2,\n",
       "         1,   1,   1,   1,   1,   1,   1,   1,   1,   1,   1,   5,   1,\n",
       "         1,   1,   4,   1,   2,   1,   1,   1,   1,   1,   1,   1,   2,\n",
       "         2,   1,   2,   1,   1,   1,   2,   2,   7,   3,   1,   1,   2,\n",
       "         3,   6,   3,   2,   1,   1,   1,   1,   1,   1,   1,   1,  24,\n",
       "         1,   1,   1,   1,   3,  19,   2,   2,   6,   1,   2,   1,   1,\n",
       "         1,   1,   1,   4,   1,   3,  52,   1,   1,   1,   1,   3,   1,\n",
       "         1,   1,   1,   1,   1,   1,   3,   1,   2,   1,   1,   1,   1,\n",
       "         1,   5,   1,   1,   4,   3,   1,   1,   1,   1,   4,   1,   3,\n",
       "         1,   1,   1,   1,   6,   1,   4,   1,   1,  19,   1,   2,   1,\n",
       "       176,   2,   1,   1,   2,   1,   2,   1,   1,   9,   1,   3,   2,\n",
       "         2,   1,   2,  54,   1,   3,   3,   1,   3,   2,   1,   1,   1,\n",
       "         2,  16,   1,   2,   1,   6,   1,   2,  17,   1,   2,   2,   1,\n",
       "         2,   1,   1,   1,   1,   2,   1,   1,   5,   1,   1,   1,   2,\n",
       "         2,   5,   5,   1,   3,   2,   1,   1,   1,   1,   1,   1,   1,\n",
       "         2,   1,   1,   2,   1,   1,   3,   8,   8,   1,   2,  37,   4,\n",
       "         1,  27,   1,   1,   1,   4,   1,   1,   1,   2,   1,   1],\n",
       "      dtype=int64)"
      ]
     },
     "execution_count": 81,
     "metadata": {},
     "output_type": "execute_result"
    }
   ],
   "source": [
    "s"
   ]
  },
  {
   "cell_type": "code",
   "execution_count": 84,
   "metadata": {
    "scrolled": false
   },
   "outputs": [
    {
     "data": {
      "image/png": "[encoded data removed]",
      "text/plain": [
       "<Figure size 432x288 with 1 Axes>"
      ]
     },
     "metadata": {},
     "output_type": "display_data"
    }
   ],
   "source": [
    "# Display the histogram of the samples, along with the probability density function:\n",
    "import matplotlib.pyplot as plt\n",
    "from scipy import special  \n",
    "# Truncate s values at 100 so plot is interesting:\n",
    "count, bins, ignored = plt.hist(s[s<100], 100, density=True)\n",
    "x = np.arange(1., 100.)\n",
    "y = x**(-a) / special.zetac(a)  \n",
    "plt.plot(x, y/max(y), linewidth=2, color='b')  \n",
    "plt.show()\n",
    "\n"
   ]
  },
  {
   "cell_type": "code",
   "execution_count": null,
   "metadata": {
    "scrolled": false
   },
   "outputs": [],
   "source": [
    "# https://www.javatpoint.com/numpy-random\n",
    "# Function to draw sample from a zipf distribution."
   ]
  },
  {
   "cell_type": "code",
   "execution_count": 78,
   "metadata": {
    "scrolled": true
   },
   "outputs": [
    {
     "data": {
      "image/png": "[encoded data removed]",
      "text/plain": [
       "<Figure size 432x288 with 1 Axes>"
      ]
     },
     "metadata": {},
     "output_type": "display_data"
    }
   ],
   "source": [
    "import numpy as np  \n",
    "import matplotlib.pyplot as plt  \n",
    "from scipy import special  \n",
    "x=2.0  \n",
    "s=np.random.zipf(x, 1000)  \n",
    "count, bins, ignored = plt.hist(s[s<50], 50, density=True)  \n",
    "a = np.arange(1., 50.)  \n",
    "b= a**(-x) / special.zetac(x)  \n",
    "plt.plot(a, b/max(b), linewidth=2, color='g')  \n",
    "plt.show()  \n"
   ]
  },
  {
   "cell_type": "markdown",
   "metadata": {
    "scrolled": true
   },
   "source": [
    "<cr>"
   ]
  },
  {
   "cell_type": "code",
   "execution_count": null,
   "metadata": {
    "scrolled": false
   },
   "outputs": [],
   "source": []
  }
 ],
 "metadata": {
  "kernelspec": {
   "display_name": "Python 3",
   "language": "python",
   "name": "python3"
  },
  "language_info": {
   "codemirror_mode": {
    "name": "ipython",
    "version": 3
   },
   "file_extension": ".py",
   "mimetype": "text/x-python",
   "name": "python",
   "nbconvert_exporter": "python",
   "pygments_lexer": "ipython3",
   "version": "3.8.3"
  }
 },
 "nbformat": 4,
 "nbformat_minor": 2
}
