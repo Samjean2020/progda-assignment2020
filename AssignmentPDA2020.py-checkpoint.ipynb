{
 "cells": [
  {
   "cell_type": "markdown",
   "metadata": {},
   "source": [
    "#         Practical Assignment\n",
    "##  Programming for Data Analysis\n",
    "### Due: last commit on or before November 22nd \n"
   ]
  },
  {
   "cell_type": "markdown",
   "metadata": {},
   "source": [
    "These are my solutions to the tasks included in this assignment. The author is Jean Bonsenge (G00387887@gmit.ie)\n"
   ]
  },
  {
   "cell_type": "markdown",
   "metadata": {},
   "source": [
    "## Problem statement\n"
   ]
  },
  {
   "cell_type": "markdown",
   "metadata": {},
   "source": [
    "The following assignment concerns the numpy.random package in Python [2]. You are required to create a Jupyter [5] notebook explaining the use of the package, including detailed explanations of at least five of the distributions provided for in the package. There are four distinct tasks to be carried out in your Jupyter notebook.\n",
    "1. Explain the overall purpose of the package.\n",
    "2. Explain the use of the “Simple random data” and “Permutations” functions.\n",
    "3. Explain the use and purpose of at least five “Distributions” functions.\n",
    "4. Explain the use of seeds in generating pseudorandom numbers.\n"
   ]
  },
  {
   "cell_type": "markdown",
   "metadata": {},
   "source": [
    "## Introduction \n",
    "\n",
    "For the purpose of this assignment, I am required to provide a less robotic version of numpy.random package and its functions as specified in the problem statement. "
   ]
  },
  {
   "cell_type": "markdown",
   "metadata": {},
   "source": [
    "## References "
   ]
  },
  {
   "cell_type": "markdown",
   "metadata": {},
   "source": [
    "Hayes A. (2020) “Simple Random Sample”:  https://www.investopedia.com/terms/s/simple-random-sample.asp\n",
    "\n",
    "Javatpoint (2020) “Numpy.random () in Python”: https://www.javatpoint.com/numpy-random\n",
    "\n",
    "Jupyter.org (2020) “The Jupyter Notebook”: https://jupyter.org/\n",
    "\n",
    "Matplotlib.org(2020) ” matplotlib” :\n",
    "https://matplotlib.org/3.1.1/api/_as_gen/matplotlib.pyplot.html\n",
    "\n",
    "McKinney W. (2018) “Python for Data Analysis: Data Wrangling With Pandas, NumPy, And IPython” 2nd Edition (Sebastopol: O’Reilly) \n",
    "\n",
    "Numpy.org (2020) “numpy”: https://numpy.org/\n",
    "\n",
    "NumPy.org (2020) “Random Generator”:  https://numpy.org/doc/stable/reference/random/generator.html\n",
    "\n",
    "O’Neill M.E (2020) “Melissa O'Neill's Homepage”: https://www.cs.hmc.edu/~oneill/\n",
    "\n",
    "\n",
    "O'Neill M.E (2014) “PCG: A Family of Simple Fast Space-Efficient Statistically Good Algorithms for Random Number Generation” https://www.pcg-random.org/pdf/hmc-cs-2014-0905.pdf\n",
    "\n",
    "Pandas (2020) “ pandas”: https://pandas.pydata.org/\n",
    "\n",
    "Pcg-random.org (2020) “PCG, A Family of Better Random Number Generators”:https://www.pcg-random.org/index.html\n",
    "\n",
    "PYnative (2020)\"Python random.seed() function to initialize the pseudo-random number generator\": https://pynative.com/python-random-seed/\n",
    "\n",
    "Sharp Sight (2019) \"NUMPY RANDOM SEED EXPLAINED\": https://www.sharpsightlabs.com/blog/numpy-random-seed/\n",
    "\n",
    "Seaborn (2020) “seaborn: statistical data visualization”: https://seaborn.pydata.org\n",
    "\n",
    "SciPy.org (2020) “ numpy.random.RandomState” : https://docs.scipy.org/doc/numpy-1.15.0/reference/generated/numpy.random.RandomState.html\n",
    "\n",
    "The Scipy Community (2014)”Random sampling (numpy.random)”: https://het.as.utexas.edu/HET/Software/Numpy/reference/routines.random.html\n",
    "\n"
   ]
  },
  {
   "cell_type": "markdown",
   "metadata": {},
   "source": [
    "## Development "
   ]
  },
  {
   "cell_type": "markdown",
   "metadata": {},
   "source": [
    "### 1. Explain the overall purpose of the package. \n",
    "\n",
    "#### A definition of Random sampling (numpy.random):\n",
    "\n",
    "Random sampling (numpy.random) is a package included in the NumPy library in Python. Numpy.random possesses functions capable of generating random numbers (Javatpoint, 2020). The versions of this module, I consulted (Numpyv.1.19, and Numpyv.1.20) are structured in four compartments: simple random data, permutations, distribution and random generator (het.as.utexa, 2014) (numpy.org, 2020). Each numpy.random structure subfunction and indicative example are set as follows:"
   ]
  },
  {
   "cell_type": "markdown",
   "metadata": {},
   "source": [
    "#### \tSimple random data\n",
    "\n",
    "A simple random data can be defined as a subgroup of a statistical entity in which each element of the subgroup has an equal probability of being selected (Hayes, 2020).\n",
    "\n",
    "##### numpy.random.rand(d0, d1, ..., dn)\n",
    "Random values in a given shape. Create an array of the given shape and propagate it with random samples from a uniform distribution over [0, 1]. https://numpy.org/devdocs/reference/random/generated/numpy.random.rand.html\n"
   ]
  },
  {
   "cell_type": "code",
   "execution_count": 1,
   "metadata": {
    "scrolled": false
   },
   "outputs": [
    {
     "data": {
      "text/plain": [
       "array([[0.88696584, 0.42288513],\n",
       "       [0.38038529, 0.44575811],\n",
       "       [0.72049407, 0.45188104]])"
      ]
     },
     "execution_count": 1,
     "metadata": {},
     "output_type": "execute_result"
    }
   ],
   "source": [
    "import numpy as np\n",
    "np.random.rand (3, 2)"
   ]
  },
  {
   "cell_type": "markdown",
   "metadata": {},
   "source": [
    "#### \tPermutations\n",
    "###### numpy.random.shuffle(x)\n",
    "Modify a sequence in-place by shuffling its contents.\n",
    "This function only shuffles the array along the first index of a multi-dimensional array:\n",
    "https://numpy.org/devdocs/reference/random/generated/numpy.random.shuffle.html"
   ]
  },
  {
   "cell_type": "code",
   "execution_count": 2,
   "metadata": {
    "scrolled": false
   },
   "outputs": [],
   "source": [
    "import numpy as np\n",
    "arr = np.arange(10) # random 10 integers between 0 and 10.\n",
    "np.random.shuffle(arr)"
   ]
  },
  {
   "cell_type": "code",
   "execution_count": 3,
   "metadata": {
    "scrolled": false
   },
   "outputs": [
    {
     "data": {
      "text/plain": [
       "array([8, 3, 7, 9, 5, 1, 0, 4, 6, 2])"
      ]
     },
     "execution_count": 3,
     "metadata": {},
     "output_type": "execute_result"
    }
   ],
   "source": [
    "arr\n"
   ]
  },
  {
   "cell_type": "code",
   "execution_count": 4,
   "metadata": {
    "scrolled": false
   },
   "outputs": [
    {
     "data": {
      "text/plain": [
       "array([ 3,  7,  2,  6, 11,  0,  8, 10,  9,  1,  5,  4])"
      ]
     },
     "execution_count": 4,
     "metadata": {},
     "output_type": "execute_result"
    }
   ],
   "source": [
    "# This function is used for modifying a sequence in-place by shuffling its contents.\n",
    "# Available at: https://www.javatpoint.com/numpy-random\n",
    "\n",
    "import numpy as np  \n",
    "a=np.arange(12)  # random 12 integers between 0 and 12.\n",
    "a  \n",
    "np.random.shuffle(a)  \n",
    "a  \n"
   ]
  },
  {
   "cell_type": "markdown",
   "metadata": {},
   "source": [
    "#### \tDistribution\n",
    "###### numpy.random.dirichlet(alpha, size=None)\n",
    "Draw samples from the Dirichlet distribution.\n",
    "Draw size samples of dimension k from a Dirichlet distribution. A Dirichlet-distributed random variable can be seen as a multivariate generalization of a Beta distribution. Dirichlet pdf is the conjugate prior of a multinomial in Bayesian inference.\n",
    "https://numpy.org/devdocs/reference/random/generated/numpy.random.dirichlet.html"
   ]
  },
  {
   "cell_type": "code",
   "execution_count": 7,
   "metadata": {
    "scrolled": false
   },
   "outputs": [
    {
     "data": {
      "image/png": "[encoded data removed]",
      "text/plain": [
       "<Figure size 432x288 with 1 Axes>"
      ]
     },
     "metadata": {
      "needs_background": "light"
     },
     "output_type": "display_data"
    }
   ],
   "source": [
    "import numpy as np\n",
    "import matplotlib.pyplot as plt\n",
    "s = np.random.dirichlet((10, 5, 3), 20).transpose()\n",
    "\n",
    "plt.barh(range(20), s[0])\n",
    "plt.barh(range(20), s[1], left=s[0], color='g')\n",
    "plt.barh(range(20), s[2], left=s[0]+s[1], color='r')\n",
    "plt.title(\"Lengths of Strings\")\n",
    "plt.style.use(\"ggplot\")\n",
    "plt.show()"
   ]
  },
  {
   "cell_type": "markdown",
   "metadata": {},
   "source": [
    "##### numpy.random.RandomState.pareto \n",
    "##### RandomState.pareto(a, size=None)\n",
    "\n",
    "Draw samples from a Pareto II or Lomax distribution with specified shape.\n",
    "Draw samples from the distribution:\n",
    "https://numpy.org/devdocs/reference/random/generated/numpy.random.RandomState.pareto.html"
   ]
  },
  {
   "cell_type": "code",
   "execution_count": 1,
   "metadata": {
    "scrolled": true
   },
   "outputs": [
    {
     "name": "stdout",
     "output_type": "stream",
     "text": [
      "[1.4618255  3.06083256 1.32011021 1.35984718 1.36560445 2.60652306\n",
      " 1.12878163 1.08077978 1.32197836 1.23604915 1.00613709 1.00742326\n",
      " 1.33292859 5.03734294 1.25781629 1.06516837 2.20437581 1.19905619\n",
      " 1.25744978 1.47922983 2.97814952 1.35317273 1.32272067 1.31281813\n",
      " 1.12245527 1.6221136  1.22778918 8.88456229 1.11653976 1.01210397\n",
      " 1.04865178 1.08156267 1.17350123 1.09440087 1.46009462 1.11818054\n",
      " 1.53358615 1.20161516 1.41656498 1.62360842 1.09572471 3.14145588\n",
      " 1.22097075 1.175068   1.16057712 1.10208224 1.01507706 2.08331996\n",
      " 1.09653327 1.72149901 1.22464134 1.2970098  1.18044942 5.90344956\n",
      " 1.46857076 2.80207749 1.47374006 1.87863863 1.18099041 1.13264098\n",
      " 1.19735291 1.15742475 1.3204653  1.02919149 1.04064701 1.15331006\n",
      " 1.5739754  1.06157603 1.24292512 1.43874641 1.7245782  1.26911365\n",
      " 1.40556357 2.52133878 1.0245682  2.06410295 1.01645162 1.49540501\n",
      " 1.59966526 1.42633991 2.1116795  1.21005791 1.19020151 1.11540596\n",
      " 1.09298244 1.21628991 1.10435871 2.61581229 1.85507579 1.25288382\n",
      " 1.32340405 1.24475837 1.06060532 1.23105884 2.07827644 1.11838973\n",
      " 2.17376374 1.07684176 1.62484985 1.00125978]\n"
     ]
    }
   ],
   "source": [
    "import numpy as np\n",
    "a, m = 3., 1. # shape and mode\n",
    "s = np.random.pareto(a, 100) + m\n",
    "print(s)"
   ]
  },
  {
   "cell_type": "code",
   "execution_count": null,
   "metadata": {
    "scrolled": false
   },
   "outputs": [],
   "source": [
    "# Display the histogram of the samples, along with the probability density function:"
   ]
  },
  {
   "cell_type": "code",
   "execution_count": 3,
   "metadata": {},
   "outputs": [
    {
     "data": {
      "image/png": "[encoded data removed]",
      "text/plain": [
       "<Figure size 432x288 with 1 Axes>"
      ]
     },
     "metadata": {},
     "output_type": "display_data"
    }
   ],
   "source": [
    "import matplotlib.pyplot as plt\n",
    "import numpy as np\n",
    "a, m = 3., 1. # shape and mode\n",
    "s = np.random.pareto(a, 100) + m\n",
    "count, bins, ignored = plt.hist(s, 100, density=True, align='left')\n",
    "fit = a*m**a/bins**(a+1)\n",
    "plt.plot(bins, max(count)*fit/max(fit),linewidth=2, color='b')\n",
    "plt.style.use(\"ggplot\")\n",
    "plt.show()\n"
   ]
  },
  {
   "cell_type": "markdown",
   "metadata": {},
   "source": [
    "<cr>"
   ]
  },
  {
   "cell_type": "markdown",
   "metadata": {},
   "source": [
    "### 2. Explain the use of the “Simple random data” and “Permutations” functions. "
   ]
  },
  {
   "cell_type": "markdown",
   "metadata": {},
   "source": [
    "### 2.1 Simple random data functions"
   ]
  },
  {
   "cell_type": "markdown",
   "metadata": {},
   "source": [
    "#### 2.1.1 numpy.random.randint\n",
    "numpy.random.randint(low, high=None, size=None).\n",
    "Return random integers from low (inclusive) to high (exclusive).Return random integers from the “discrete uniform” distribution of the specified dtype in the “half-open” interval [low, high). If high is None (the default), then results are from [0, low).\n",
    "https://numpy.org/devdocs/reference/random/generated/numpy.random.randint.html"
   ]
  },
  {
   "cell_type": "code",
   "execution_count": 11,
   "metadata": {
    "scrolled": false
   },
   "outputs": [
    {
     "data": {
      "text/plain": [
       "array([1, 1, 0, 0, 0, 0, 1, 1, 1, 1])"
      ]
     },
     "execution_count": 11,
     "metadata": {},
     "output_type": "execute_result"
    }
   ],
   "source": [
    "import numpy as np\n",
    "# Generate an array of ten ints betwwen 0 and 2 exclusive:\n",
    "np.random.randint(2, size=10)\n"
   ]
  },
  {
   "cell_type": "code",
   "execution_count": 12,
   "metadata": {
    "scrolled": false
   },
   "outputs": [
    {
     "data": {
      "text/plain": [
       "array([0, 0, 0, 0, 0, 0, 0, 0, 0, 0])"
      ]
     },
     "execution_count": 12,
     "metadata": {},
     "output_type": "execute_result"
    }
   ],
   "source": [
    "# Generate an array of ten ints betwwen 0 and 1 exclusive:\n",
    "np.random.randint(1, size=10)\n"
   ]
  },
  {
   "cell_type": "code",
   "execution_count": 13,
   "metadata": {
    "scrolled": false
   },
   "outputs": [
    {
     "data": {
      "text/plain": [
       "array([[3, 2, 3, 1],\n",
       "       [1, 4, 3, 3]])"
      ]
     },
     "execution_count": 13,
     "metadata": {},
     "output_type": "execute_result"
    }
   ],
   "source": [
    "# Generate a 2 x 4 array of ints between 0 and 4, inclusive:\n",
    "np.random.randint(5, size=(2, 4))"
   ]
  },
  {
   "cell_type": "code",
   "execution_count": 14,
   "metadata": {
    "scrolled": false
   },
   "outputs": [
    {
     "name": "stdout",
     "output_type": "stream",
     "text": [
      "3\n"
     ]
    }
   ],
   "source": [
    "import random\n",
    "print(np.random.randint(1, 5 + 1))"
   ]
  },
  {
   "cell_type": "code",
   "execution_count": null,
   "metadata": {
    "scrolled": false
   },
   "outputs": [],
   "source": [
    "# Roll two six sided dice 1000 times and sum the results:"
   ]
  },
  {
   "cell_type": "code",
   "execution_count": 17,
   "metadata": {
    "scrolled": false
   },
   "outputs": [
    {
     "data": {
      "text/plain": [
       "10"
      ]
     },
     "execution_count": 17,
     "metadata": {},
     "output_type": "execute_result"
    }
   ],
   "source": [
    "import numpy as np\n",
    "\n",
    "d1 = np.random.randint(1, 6 + 1)\n",
    "d2 = np.random.randint(1, 6 + 1)\n",
    "dsums = d1 + d2\n",
    "dsums"
   ]
  },
  {
   "cell_type": "code",
   "execution_count": null,
   "metadata": {
    "scrolled": false
   },
   "outputs": [],
   "source": [
    "# Display results as a histogram:"
   ]
  },
  {
   "cell_type": "code",
   "execution_count": 19,
   "metadata": {
    "scrolled": false
   },
   "outputs": [
    {
     "data": {
      "image/png": "[encoded data removed]",
      "text/plain": [
       "<Figure size 432x288 with 1 Axes>"
      ]
     },
     "metadata": {},
     "output_type": "display_data"
    }
   ],
   "source": [
    "import numpy as np\n",
    "import matplotlib.pyplot as plt\n",
    "import seaborn as sns\n",
    "d1 = np.random.randint(1, 6 + 1)\n",
    "d2 = np.random.randint(1, 6 + 1)\n",
    "dsums = d1 + d2\n",
    "count, bins, ignored = plt.hist(dsums, 10)\n",
    "plt.style.use(\"ggplot\")\n",
    "plt.show()\n"
   ]
  },
  {
   "cell_type": "markdown",
   "metadata": {},
   "source": [
    "#### 2.1.2 random_sample([size]) \n",
    "#### numpy.random.random_sample(size=None)\n",
    "\n",
    "Return random floats in the half-open interval [0.0, 1.0).\n",
    "\n",
    "Results are from the “continuous uniform” distribution over the stated interval.\n",
    "https://numpy.org/devdocs/reference/random/generated/numpy.random.random_sample.html\n"
   ]
  },
  {
   "cell_type": "code",
   "execution_count": 20,
   "metadata": {
    "scrolled": false
   },
   "outputs": [
    {
     "data": {
      "text/plain": [
       "0.6266389714394976"
      ]
     },
     "execution_count": 20,
     "metadata": {},
     "output_type": "execute_result"
    }
   ],
   "source": [
    "np.random.random_sample()"
   ]
  },
  {
   "cell_type": "code",
   "execution_count": 21,
   "metadata": {
    "scrolled": false
   },
   "outputs": [
    {
     "data": {
      "text/plain": [
       "float"
      ]
     },
     "execution_count": 21,
     "metadata": {},
     "output_type": "execute_result"
    }
   ],
   "source": [
    "type(np.random.random_sample())"
   ]
  },
  {
   "cell_type": "code",
   "execution_count": 22,
   "metadata": {
    "scrolled": false
   },
   "outputs": [
    {
     "data": {
      "text/plain": [
       "array([0.6359828 , 0.78129738, 0.01298564, 0.22961619, 0.9019677 ])"
      ]
     },
     "execution_count": 22,
     "metadata": {},
     "output_type": "execute_result"
    }
   ],
   "source": [
    "np.random.random_sample((5,))"
   ]
  },
  {
   "cell_type": "code",
   "execution_count": 23,
   "metadata": {
    "scrolled": false
   },
   "outputs": [
    {
     "data": {
      "text/plain": [
       "array([[-0.31072246, -2.06474255],\n",
       "       [-0.36686453, -0.39096592],\n",
       "       [-0.56300306, -4.13257144]])"
      ]
     },
     "execution_count": 23,
     "metadata": {},
     "output_type": "execute_result"
    }
   ],
   "source": [
    "# Three-by-two array of random numbers from [-5, 0):\n",
    "5 * np.random.random_sample((3, 2)) - 5"
   ]
  },
  {
   "cell_type": "markdown",
   "metadata": {},
   "source": [
    "<cr>"
   ]
  },
  {
   "cell_type": "markdown",
   "metadata": {},
   "source": [
    "#### 2.1.3 numpy.random.bytes ()\n",
    "#### random.bytes(length)\n",
    "Return random bytes.\n",
    "https://numpy.org/devdocs/reference/random/generated/numpy.random.bytes.html"
   ]
  },
  {
   "cell_type": "code",
   "execution_count": 24,
   "metadata": {
    "scrolled": false
   },
   "outputs": [
    {
     "data": {
      "text/plain": [
       "b'\\xe7\\x8f/\\xe0\\xbbp\\xbdW!\\x8b'"
      ]
     },
     "execution_count": 24,
     "metadata": {},
     "output_type": "execute_result"
    }
   ],
   "source": [
    "# return random bytes 10 in length.\n",
    "import numpy as np\n",
    "np.random.bytes(10)"
   ]
  },
  {
   "cell_type": "code",
   "execution_count": 25,
   "metadata": {
    "scrolled": false
   },
   "outputs": [
    {
     "data": {
      "text/plain": [
       "b'\\xc1\\xc5\\xd5v\\x1e\\x02\\xe6\\x04\\xdd\\x18\\xad\\xbdVf\\x94\\xfbs\\xae\\xb0\\x1d'"
      ]
     },
     "execution_count": 25,
     "metadata": {},
     "output_type": "execute_result"
    }
   ],
   "source": [
    "# return random bytes 20 in length.\n",
    "import numpy as np\n",
    "np.random.bytes(20)"
   ]
  },
  {
   "cell_type": "code",
   "execution_count": 26,
   "metadata": {
    "scrolled": false
   },
   "outputs": [
    {
     "data": {
      "text/plain": [
       "b'\\xbe\\xfa;\\xfdwc\\xdf\\xcfH\\xc0\\x1f|\\xed\\xf8\\t'"
      ]
     },
     "execution_count": 26,
     "metadata": {},
     "output_type": "execute_result"
    }
   ],
   "source": [
    "# return random bytes  15 in length.\n",
    "import numpy as np\n",
    "np.random.bytes(15)"
   ]
  },
  {
   "cell_type": "markdown",
   "metadata": {},
   "source": [
    "#### 2.1.4 numpy.random.choice ()\n",
    "##### random.choice(a, size=None, replace=True, p=None)\n",
    "Generates a random sample from a given 1-D array\n",
    "https://numpy.org/devdocs/reference/random/generated/numpy.random.choice.html"
   ]
  },
  {
   "cell_type": "code",
   "execution_count": 27,
   "metadata": {
    "scrolled": false
   },
   "outputs": [
    {
     "data": {
      "text/plain": [
       "array([3, 0, 1])"
      ]
     },
     "execution_count": 27,
     "metadata": {},
     "output_type": "execute_result"
    }
   ],
   "source": [
    "# Generate a uniform random sample from np.arange(5) of size 3:\n",
    "np.random.choice(5, 3)"
   ]
  },
  {
   "cell_type": "code",
   "execution_count": 28,
   "metadata": {
    "scrolled": false
   },
   "outputs": [
    {
     "data": {
      "text/plain": [
       "array([3, 3, 3])"
      ]
     },
     "execution_count": 28,
     "metadata": {},
     "output_type": "execute_result"
    }
   ],
   "source": [
    "#This is equivalent to np.random.randint(0,5,3)\n",
    "# Generate a non-uniform random sample from np.arange(5) of size 3:\n",
    "np.random.choice(5, 3, p=[0.1, 0, 0.3, 0.6, 0])"
   ]
  },
  {
   "cell_type": "code",
   "execution_count": 29,
   "metadata": {
    "scrolled": false
   },
   "outputs": [
    {
     "data": {
      "text/plain": [
       "array([2, 4, 1])"
      ]
     },
     "execution_count": 29,
     "metadata": {},
     "output_type": "execute_result"
    }
   ],
   "source": [
    "# Generate a uniform random sample from np.arange(5) of size 3 without replacement:\n",
    "np.random.choice(5, 3, replace=False)"
   ]
  },
  {
   "cell_type": "code",
   "execution_count": 30,
   "metadata": {
    "scrolled": false
   },
   "outputs": [
    {
     "data": {
      "text/plain": [
       "array([3, 2, 0])"
      ]
     },
     "execution_count": 30,
     "metadata": {},
     "output_type": "execute_result"
    }
   ],
   "source": [
    "# This is equivalent to np.random.permutation(np.arange(5))[:3]\n",
    "# Generate a non-uniform random sample from np.arange(5) of size 3 without replacement:\n",
    "np.random.choice(5, 3, replace=False, p=[0.1, 0, 0.3, 0.6, 0])"
   ]
  },
  {
   "cell_type": "code",
   "execution_count": 33,
   "metadata": {
    "scrolled": false
   },
   "outputs": [
    {
     "data": {
      "text/plain": [
       "array(['Christopher', 'rabbit', 'pooh', 'rabbit', 'rabbit'], dtype='<U11')"
      ]
     },
     "execution_count": 33,
     "metadata": {},
     "output_type": "execute_result"
    }
   ],
   "source": [
    "# Any of the above can be repeated with an arbitrary array-like instead of just integers. For instance:\n",
    "aa_milne_arr = ['pooh', 'rabbit', 'piglet', 'Christopher']\n",
    "np.random.choice(aa_milne_arr, 5, p=[0.5, 0.1, 0.1, 0.3])\n"
   ]
  },
  {
   "cell_type": "markdown",
   "metadata": {
    "scrolled": false
   },
   "source": [
    "<cr>"
   ]
  },
  {
   "cell_type": "code",
   "execution_count": 34,
   "metadata": {},
   "outputs": [
    {
     "data": {
      "text/plain": [
       "array(['lion', 'John', 'lion', 'John', 'lion'], dtype='<U7')"
      ]
     },
     "execution_count": 34,
     "metadata": {},
     "output_type": "execute_result"
    }
   ],
   "source": [
    "# Any of the above can be repeated with an arbitrary array-like instead of just integers. For instance:\n",
    "aa_milne_arr = ['lion', 'leopard', 'parrot', 'John']\n",
    "np.random.choice(aa_milne_arr, 5, p=[0.5, 0.1, 0.1, 0.3])"
   ]
  },
  {
   "cell_type": "markdown",
   "metadata": {},
   "source": [
    "### 2.2 Permutations functions"
   ]
  },
  {
   "cell_type": "markdown",
   "metadata": {},
   "source": [
    "#### 2.2.1numpy.random.shuffle\n",
    "\n",
    "#### numpy.random.shuffle(x)\n",
    "Modify a sequence in-place by shuffling its contents.\n",
    "This function only shuffles the array along the first axis of a multi-dimensional array. The order of sub-arrays is changed but their contents remains the same.\n",
    "https://numpy.org/devdocs/reference/random/generated/numpy.random.shuffle.html"
   ]
  },
  {
   "cell_type": "code",
   "execution_count": null,
   "metadata": {
    "scrolled": false
   },
   "outputs": [],
   "source": [
    "arr = np.arange(10)\n",
    "np.random.shuffle(arr)\n"
   ]
  },
  {
   "cell_type": "code",
   "execution_count": 35,
   "metadata": {
    "scrolled": false
   },
   "outputs": [
    {
     "data": {
      "text/plain": [
       "array([8, 3, 7, 9, 5, 1, 0, 4, 6, 2])"
      ]
     },
     "execution_count": 35,
     "metadata": {},
     "output_type": "execute_result"
    }
   ],
   "source": [
    "arr"
   ]
  },
  {
   "cell_type": "code",
   "execution_count": null,
   "metadata": {
    "scrolled": false
   },
   "outputs": [],
   "source": [
    "# Multi-dimensional arrays are only shuffled along the first axis:\n",
    "arr = np.arange(9).reshape((3, 3))\n",
    "np.random.shuffle(arr)\n"
   ]
  },
  {
   "cell_type": "code",
   "execution_count": 36,
   "metadata": {
    "scrolled": false
   },
   "outputs": [
    {
     "data": {
      "text/plain": [
       "array([8, 3, 7, 9, 5, 1, 0, 4, 6, 2])"
      ]
     },
     "execution_count": 36,
     "metadata": {},
     "output_type": "execute_result"
    }
   ],
   "source": [
    "arr"
   ]
  },
  {
   "cell_type": "markdown",
   "metadata": {},
   "source": [
    "#### 2.2.2 numpy.random.permutation\n",
    "\n",
    "#### numpy.random.permutation(x)\n",
    "\n",
    "Randomly permute a sequence, or return a permuted range.\n",
    "If x is a multi-dimensional array, it is only shuffled along its first index.\n",
    "https://numpy.org/devdocs/reference/random/generated/numpy.random.permutation.html"
   ]
  },
  {
   "cell_type": "code",
   "execution_count": 37,
   "metadata": {
    "scrolled": false
   },
   "outputs": [
    {
     "data": {
      "text/plain": [
       "array([3, 2, 0, 7, 8, 9, 1, 5, 6, 4])"
      ]
     },
     "execution_count": 37,
     "metadata": {},
     "output_type": "execute_result"
    }
   ],
   "source": [
    "np.random.permutation(10)"
   ]
  },
  {
   "cell_type": "code",
   "execution_count": 38,
   "metadata": {
    "scrolled": false
   },
   "outputs": [
    {
     "data": {
      "text/plain": [
       "array([ 9,  1,  4, 15, 12])"
      ]
     },
     "execution_count": 38,
     "metadata": {},
     "output_type": "execute_result"
    }
   ],
   "source": [
    "np.random.permutation([1, 4, 9, 12, 15])"
   ]
  },
  {
   "cell_type": "code",
   "execution_count": 39,
   "metadata": {
    "scrolled": false
   },
   "outputs": [
    {
     "data": {
      "text/plain": [
       "array([[0, 1, 2],\n",
       "       [6, 7, 8],\n",
       "       [3, 4, 5]])"
      ]
     },
     "execution_count": 39,
     "metadata": {},
     "output_type": "execute_result"
    }
   ],
   "source": [
    "arr = np.arange(9).reshape((3, 3))\n",
    "np.random.permutation(arr) "
   ]
  },
  {
   "cell_type": "markdown",
   "metadata": {
    "scrolled": false
   },
   "source": [
    "<cr>"
   ]
  },
  {
   "cell_type": "markdown",
   "metadata": {},
   "source": [
    "### 3. Explain the use and purpose of at least five “Distributions” functions. "
   ]
  },
  {
   "cell_type": "markdown",
   "metadata": {},
   "source": [
    "### 3.1 numpy.random.normal function\n",
    "random.normal(loc=0.0, scale=1.0, size=None)\n",
    "Draw random samples from a normal (Gaussian) distribution.\n",
    "https://numpy.org/devdocs/reference/random/generated/numpy.random.normal.html\n"
   ]
  },
  {
   "cell_type": "code",
   "execution_count": 4,
   "metadata": {},
   "outputs": [],
   "source": [
    "# Draw samples from the distribution:\n",
    "import numpy as np\n",
    "mu, sigma = 0, 0.1 # mean and standard deviation.\n",
    "s = np.random.normal(mu, sigma, 100)\n"
   ]
  },
  {
   "cell_type": "code",
   "execution_count": 5,
   "metadata": {},
   "outputs": [
    {
     "data": {
      "text/plain": [
       "array([-0.12668762, -0.10126674, -0.02223273, -0.08746052, -0.02767522,\n",
       "        0.07668678,  0.15219249,  0.06604922, -0.24074203,  0.00507456,\n",
       "       -0.11225041, -0.0339518 ,  0.16114592,  0.20578035,  0.01552772,\n",
       "        0.07130084, -0.23725911, -0.15183621,  0.18444787,  0.02801406,\n",
       "       -0.04718875,  0.18644191,  0.0407806 , -0.14052025, -0.21453686,\n",
       "        0.12093518,  0.2065921 , -0.14329933,  0.11585766, -0.16638381,\n",
       "       -0.15933162,  0.07119784, -0.12480568, -0.05673727,  0.05964653,\n",
       "        0.02643215, -0.24115895,  0.090616  ,  0.1947481 ,  0.09986322,\n",
       "        0.04812952,  0.03977982,  0.1395185 , -0.06465902,  0.07342842,\n",
       "        0.1731344 ,  0.2265118 , -0.04900371, -0.00936925,  0.00057912,\n",
       "        0.00654691,  0.01807584, -0.14824248, -0.06656621,  0.18106447,\n",
       "       -0.00340639, -0.07231402,  0.06692253, -0.07761691,  0.01871398,\n",
       "       -0.17902966, -0.19092481,  0.03722567, -0.01173   , -0.12802998,\n",
       "       -0.0413776 , -0.10165141,  0.22691075, -0.07536438,  0.14097975,\n",
       "        0.19110528, -0.04043301,  0.0054594 ,  0.03815136,  0.08760311,\n",
       "        0.19213481,  0.21865744, -0.03211807, -0.06745682, -0.06530032,\n",
       "       -0.10038714,  0.15307077, -0.04390984, -0.03632185, -0.00818584,\n",
       "       -0.11473982, -0.11628946, -0.01647546, -0.03694494,  0.06541432,\n",
       "       -0.2105975 , -0.02441504, -0.07521315,  0.05870712, -0.06025861,\n",
       "       -0.12218741, -0.20188541,  0.3120143 ,  0.14631546, -0.15811713])"
      ]
     },
     "execution_count": 5,
     "metadata": {},
     "output_type": "execute_result"
    }
   ],
   "source": [
    "s"
   ]
  },
  {
   "cell_type": "code",
   "execution_count": 7,
   "metadata": {
    "scrolled": false
   },
   "outputs": [
    {
     "data": {
      "text/plain": [
       "True"
      ]
     },
     "execution_count": 7,
     "metadata": {},
     "output_type": "execute_result"
    }
   ],
   "source": [
    "# Verify the mean and the variance:\n",
    "import numpy as np\n",
    "mu, sigma = 0, 0.1 # mean and standard deviation.\n",
    "s = np.random.normal(mu, sigma, 100)\n",
    "abs(mu - np.mean(s)) < 0.01"
   ]
  },
  {
   "cell_type": "code",
   "execution_count": 8,
   "metadata": {
    "scrolled": false
   },
   "outputs": [
    {
     "data": {
      "text/plain": [
       "True"
      ]
     },
     "execution_count": 8,
     "metadata": {},
     "output_type": "execute_result"
    }
   ],
   "source": [
    "abs(sigma - np.std(s, ddof=1)) < 0.01"
   ]
  },
  {
   "cell_type": "code",
   "execution_count": 9,
   "metadata": {
    "scrolled": false
   },
   "outputs": [
    {
     "data": {
      "image/png": "[encoded data removed]",
      "text/plain": [
       "<Figure size 432x288 with 1 Axes>"
      ]
     },
     "metadata": {},
     "output_type": "display_data"
    }
   ],
   "source": [
    "# https://www.javatpoint.com/numpy-random\n",
    "\n",
    "# Display the histogram of the samples, along with the probability density function: \n",
    "import numpy as np  \n",
    "import matplotlib.pyplot as plt \n",
    "import seaborn as sns\n",
    "mu, sigma = 0, 0.2 # mean and standard deviation  \n",
    "s1 = np.random.normal(mu, sigma, 100)  \n",
    "abs(mu - np.mean(s1)) < 0.01  \n",
    "abs(sigma - np.std(s1, ddof=1)) < 0.01  \n",
    "count, bins, ignored = plt.hist(s1, 30, density=True)  \n",
    "plt.plot(bins, 1/(sigma * np.sqrt(2 * np.pi)) *np.exp( - (bins - mu)**2 / (2 * sigma**2) ), linewidth=2, color='g')  \n",
    "plt.style.use(\"ggplot\")\n",
    "plt.show()  \n"
   ]
  },
  {
   "cell_type": "markdown",
   "metadata": {},
   "source": [
    "### 3.2 numpy.random.uniform function\n",
    "#### numpy.random.uniform(low=0.0, high=1.0, size=None)\n",
    "Draw samples from the distribution:\n",
    "Samples are uniformly distributed over the half-open interval [low, high) (includes low, but excludes high). In other words, any value within the given interval is equally likely to be drawn by uniform.\n",
    "\n",
    "https://numpy.org/devdocs/reference/random/generated/numpy.random.uniform.html"
   ]
  },
  {
   "cell_type": "code",
   "execution_count": 11,
   "metadata": {
    "scrolled": false
   },
   "outputs": [],
   "source": [
    "s = np.random.uniform(-1,0,100) # randomly generate 100 numbers between -1 to 0.\n"
   ]
  },
  {
   "cell_type": "code",
   "execution_count": 12,
   "metadata": {},
   "outputs": [
    {
     "data": {
      "text/plain": [
       "array([-0.4875129 , -0.89999848, -0.26469577, -0.86264311, -0.15719121,\n",
       "       -0.33818915, -0.53043923, -0.93206499, -0.40851864, -0.9676956 ,\n",
       "       -0.81547959, -0.39789178, -0.9499801 , -0.88176355, -0.61407985,\n",
       "       -0.67170785, -0.69396947, -0.45224334, -0.32953251, -0.82820341,\n",
       "       -0.51451141, -0.25577101, -0.5612241 , -0.97134815, -0.22795076,\n",
       "       -0.78261225, -0.37143564, -0.65898984, -0.59235836, -0.9799501 ,\n",
       "       -0.14497193, -0.37708075, -0.7021343 , -0.51964541, -0.56619759,\n",
       "       -0.7992446 , -0.72107922, -0.79699809, -0.64647014, -0.5864829 ,\n",
       "       -0.94840714, -0.90064804, -0.20429762, -0.7655925 , -0.99295624,\n",
       "       -0.40681949, -0.91445936, -0.72338689, -0.36602432, -0.39589644,\n",
       "       -0.27013112, -0.07459297, -0.44395824, -0.8934169 , -0.12300177,\n",
       "       -0.0573666 , -0.22334445, -0.1200969 , -0.59711772, -0.30679256,\n",
       "       -0.34847161, -0.24037108, -0.10627846, -0.13867048, -0.44581292,\n",
       "       -0.61119348, -0.86011563, -0.78747428, -0.4105022 , -0.43072314,\n",
       "       -0.44478923, -0.93038702, -0.20656379, -0.5807318 , -0.65803186,\n",
       "       -0.15079073, -0.30770582, -0.2802684 , -0.03449381, -0.05213889,\n",
       "       -0.06110304, -0.83443514, -0.40199155, -0.41906199, -0.27048025,\n",
       "       -0.04060764, -0.4093068 , -0.05115875, -0.13759225, -0.45042876,\n",
       "       -0.85098001, -0.47728814, -0.97088577, -0.92261545, -0.277181  ,\n",
       "       -0.36348277, -0.40873905, -0.31770382, -0.46322131, -0.31561977])"
      ]
     },
     "execution_count": 12,
     "metadata": {},
     "output_type": "execute_result"
    }
   ],
   "source": [
    "s"
   ]
  },
  {
   "cell_type": "code",
   "execution_count": 13,
   "metadata": {
    "scrolled": false
   },
   "outputs": [
    {
     "data": {
      "text/plain": [
       "True"
      ]
     },
     "execution_count": 13,
     "metadata": {},
     "output_type": "execute_result"
    }
   ],
   "source": [
    "# All values are within the given interval:\n",
    "np.all(s >= -1)\n"
   ]
  },
  {
   "cell_type": "code",
   "execution_count": 14,
   "metadata": {
    "scrolled": false
   },
   "outputs": [
    {
     "data": {
      "text/plain": [
       "True"
      ]
     },
     "execution_count": 14,
     "metadata": {},
     "output_type": "execute_result"
    }
   ],
   "source": [
    "np.all(s < 0)"
   ]
  },
  {
   "cell_type": "code",
   "execution_count": 15,
   "metadata": {
    "scrolled": false
   },
   "outputs": [
    {
     "data": {
      "image/png": "[encoded data removed]",
      "text/plain": [
       "<Figure size 432x288 with 1 Axes>"
      ]
     },
     "metadata": {},
     "output_type": "display_data"
    }
   ],
   "source": [
    "# https://www.javatpoint.com/numpy-random\n",
    "# Display the histogram of the samples, along with the probability density function:\n",
    "import matplotlib.pyplot as plt\n",
    "import seaborn as sns\n",
    "import numpy as np\n",
    "s = np.random.normal(mu, sigma, 100)  \n",
    "count, bins, ignored = plt.hist(s, 15, density=True)\n",
    "plt.plot(bins, np.ones_like(bins), linewidth=2, color='b')\n",
    "plt.style.use(\"ggplot\")\n",
    "plt.show()\n"
   ]
  },
  {
   "cell_type": "markdown",
   "metadata": {
    "scrolled": false
   },
   "source": [
    "<cr>"
   ]
  },
  {
   "cell_type": "markdown",
   "metadata": {},
   "source": [
    "### 3.3 numpy.random.multivariate_normal"
   ]
  },
  {
   "cell_type": "markdown",
   "metadata": {},
   "source": [
    "numpy.random.multivariate_normal(mean, cov[, size]).\n",
    "random.multivariate_normal(mean, cov, size=None, check_valid='warn', tol=1e-8).\n",
    "Draw random samples from a multivariate normal distribution.The multivariate normal, multinormal or Gaussian distribution is a generalization of the one-dimensional normal distribution to higher dimensions.\n",
    "https://numpy.org/devdocs/reference/random/generated/numpy.random.multivariate_normal.html"
   ]
  },
  {
   "cell_type": "code",
   "execution_count": 16,
   "metadata": {
    "scrolled": false
   },
   "outputs": [
    {
     "data": {
      "image/png": "[encoded data removed]",
      "text/plain": [
       "<Figure size 432x288 with 1 Axes>"
      ]
     },
     "metadata": {},
     "output_type": "display_data"
    }
   ],
   "source": [
    "mean = [0,0]\n",
    "cov = [[1,0],[0,100]] # diagonal covariance, points lie on x or y-axis\n",
    "\n",
    "import matplotlib.pyplot as plt\n",
    "# import numpy to avoid an error (np is not defined)\n",
    "import numpy as np\n",
    "x,y = np.random.multivariate_normal(mean,cov,1000).T\n",
    "plt.style.use(\"ggplot\")\n",
    "plt.plot(x,y,'x'); plt.axis('equal'); plt.show()\n"
   ]
  },
  {
   "cell_type": "code",
   "execution_count": 51,
   "metadata": {
    "scrolled": false
   },
   "outputs": [
    {
     "name": "stderr",
     "output_type": "stream",
     "text": [
      "<ipython-input-51-387f2631f520>:3: RuntimeWarning: covariance is not positive-semidefinite.\n",
      "  x = np.random.multivariate_normal(mean,cov,(3,3))\n"
     ]
    },
    {
     "data": {
      "text/plain": [
       "(3, 3, 2)"
      ]
     },
     "execution_count": 51,
     "metadata": {},
     "output_type": "execute_result"
    }
   ],
   "source": [
    "mean = (1,2)\n",
    "cov = [[1,0],[1,0]]\n",
    "x = np.random.multivariate_normal(mean,cov,(3,3))\n",
    "x.shape\n",
    "(3, 3, 2)"
   ]
  },
  {
   "cell_type": "code",
   "execution_count": 52,
   "metadata": {},
   "outputs": [
    {
     "name": "stdout",
     "output_type": "stream",
     "text": [
      "[ True  True]\n"
     ]
    }
   ],
   "source": [
    "# The following is probably true, given that 0.6 is roughly twice the standard deviation:\n",
    "\n",
    "list = (x[0,0,:] - mean) < 0.6\n",
    "print (list) \n"
   ]
  },
  {
   "cell_type": "markdown",
   "metadata": {},
   "source": [
    "### 3.4 numpy.random.la place function"
   ]
  },
  {
   "cell_type": "markdown",
   "metadata": {},
   "source": [
    "numpy.random.laplace\n",
    "numpy.random.laplace(loc=0.0, scale=1.0, size=None)\n",
    "Draw samples from the Laplace or double exponential distribution with specified location (or mean) and scale (decay).\n",
    "\n",
    "The Laplace distribution is similar to the Gaussian/normal distribution, but is sharper at the peak and has fatter tails. It represents the difference between two independent, identically distributed exponential random variables.\n",
    "https://numpy.org/devdocs/reference/random/generated/numpy.random.laplace.html"
   ]
  },
  {
   "cell_type": "code",
   "execution_count": null,
   "metadata": {
    "scrolled": false
   },
   "outputs": [],
   "source": [
    "# Draw samples from the distribution\n",
    "import numpy as np\n",
    "loc, scale = 0., 1.\n",
    "s = np.random.laplace(loc, scale, 100)\n"
   ]
  },
  {
   "cell_type": "code",
   "execution_count": 17,
   "metadata": {
    "scrolled": true
   },
   "outputs": [
    {
     "data": {
      "text/plain": [
       "array([-5.04338501e-02, -9.24895190e-02, -1.61628176e-02, -2.50791216e-01,\n",
       "        1.35753914e-01,  8.82449207e-02,  1.63022364e-01,  1.32594458e-01,\n",
       "        1.46145914e-01,  6.08134431e-02, -1.34768096e-02, -3.18179911e-01,\n",
       "        2.23209313e-01,  1.58706779e-01, -1.27159068e-01,  1.02009950e-01,\n",
       "       -1.46575571e-01,  6.09623447e-01, -3.21233881e-01, -5.04529088e-02,\n",
       "        1.56938953e-01, -1.18215007e-01, -1.38589165e-01, -5.94181910e-02,\n",
       "       -1.29259772e-01, -7.33406720e-02,  1.58344018e-01,  1.02355593e-02,\n",
       "       -8.49890351e-02, -2.52256966e-01, -5.21940748e-02,  3.80154275e-01,\n",
       "       -9.96369298e-02, -1.95388890e-01,  1.26240972e-01,  2.26552353e-01,\n",
       "        1.81823901e-01, -1.09906660e-01, -1.94163693e-01,  6.11900100e-02,\n",
       "        3.22045466e-02,  1.53214448e-01,  2.63301829e-01,  2.59494026e-01,\n",
       "        1.97236080e-01, -6.60311486e-02,  9.53800265e-02, -1.01044506e-01,\n",
       "        2.00479229e-01, -5.06447612e-02,  2.27741776e-03, -3.29145294e-01,\n",
       "        5.22629888e-02,  2.92289628e-02, -7.49411681e-03,  1.62860270e-02,\n",
       "       -7.41805360e-01,  2.48536834e-01,  1.71550171e-05, -1.64234521e-01,\n",
       "       -2.09971348e-01,  9.34440147e-02, -1.44549393e-02,  2.66056014e-01,\n",
       "        5.61494001e-02, -1.35200019e-01,  3.08549041e-01,  1.73785119e-01,\n",
       "       -5.04962000e-02,  1.28412618e-01,  7.56389672e-02, -3.09464567e-01,\n",
       "        7.92267050e-02,  1.57118121e-01, -2.34155469e-01,  2.51207842e-01,\n",
       "       -1.82920804e-01, -5.55549401e-01, -9.08050199e-02,  5.61479785e-01,\n",
       "        4.85933983e-02, -1.68921067e-01,  1.75382719e-01,  1.31791956e-02,\n",
       "        2.58278814e-01,  3.23837293e-02, -8.56007666e-03, -1.38301285e-01,\n",
       "       -1.84942910e-01,  3.41003560e-02, -2.91989291e-01, -1.13683141e-01,\n",
       "       -1.31153384e-01,  8.69933221e-02, -4.08685707e-01,  1.34557356e-01,\n",
       "        3.35387303e-03,  2.22656742e-01, -1.12831414e-01,  2.61839693e-01])"
      ]
     },
     "execution_count": 17,
     "metadata": {},
     "output_type": "execute_result"
    }
   ],
   "source": [
    "s"
   ]
  },
  {
   "cell_type": "code",
   "execution_count": 19,
   "metadata": {},
   "outputs": [
    {
     "data": {
      "image/png": "[encoded data removed]",
      "text/plain": [
       "<Figure size 432x288 with 1 Axes>"
      ]
     },
     "metadata": {},
     "output_type": "display_data"
    }
   ],
   "source": [
    "# Display the histogram of the samples, along with the probability density function:\n",
    "import numpy as np\n",
    "import matplotlib.pyplot as plt\n",
    "count, bins, ignored = plt.hist(s, 30, density=True)\n",
    "x = np.arange(-8., 8., .01)\n",
    "loc, scale = 0., 1.\n",
    "pdf = np.exp(-abs(x-loc)/scale)/(2.*scale)\n",
    "plt.plot(x, pdf)\n",
    "plt.style.use(\"ggplot\")\n",
    "plt.show()"
   ]
  },
  {
   "cell_type": "code",
   "execution_count": 20,
   "metadata": {
    "scrolled": false
   },
   "outputs": [
    {
     "data": {
      "image/png": "[encoded data removed]",
      "text/plain": [
       "<Figure size 432x288 with 1 Axes>"
      ]
     },
     "metadata": {},
     "output_type": "display_data"
    }
   ],
   "source": [
    "# Plot Gaussian for comparison:\n",
    "import numpy as np\n",
    "import matplotlib.pyplot as plt\n",
    "count, bins, ignored = plt.hist(s, 30, density=True)\n",
    "x = np.arange(-8., 8., .01)\n",
    "pdf = np.exp(-abs(x-loc)/scale)/(2.*scale)\n",
    "plt.plot(x, pdf)\n",
    "plt.style.use(\"ggplot\")\n",
    "g = (1/(scale * np.sqrt(2 * np.pi)) * np.exp(-(x - loc)**2 / (2 * scale**2)))\n",
    "plt.plot(x,g)\n",
    "plt.show()"
   ]
  },
  {
   "cell_type": "code",
   "execution_count": 21,
   "metadata": {},
   "outputs": [
    {
     "data": {
      "image/png": "[encoded data removed]",
      "text/plain": [
       "<Figure size 432x288 with 1 Axes>"
      ]
     },
     "metadata": {},
     "output_type": "display_data"
    }
   ],
   "source": [
    "g = (1/(scale * np.sqrt(2 * np.pi)) * np.exp(-(x - loc)**2 / (2 * scale**2)))\n",
    "plt.plot(x,g)\n",
    "plt.show()"
   ]
  },
  {
   "cell_type": "markdown",
   "metadata": {},
   "source": [
    "### 3.5 numpy.random.poisson function"
   ]
  },
  {
   "cell_type": "markdown",
   "metadata": {},
   "source": [
    "numpy.random.poisson\n",
    "numpy.random.poisson(lam=1.0, size=None)\n",
    "Draw samples from a Poisson distribution.\n",
    "\n",
    "The Poisson distribution is the limit of the binomial distribution for large N.\n",
    "https://numpy.org/devdocs/reference/random/generated/numpy.random.poisson.html"
   ]
  },
  {
   "cell_type": "code",
   "execution_count": 22,
   "metadata": {
    "scrolled": false
   },
   "outputs": [],
   "source": [
    "# Draw samples from the distribution:\n",
    "\n",
    "import numpy as np\n",
    "s = np.random.poisson(5, 1000)\n"
   ]
  },
  {
   "cell_type": "code",
   "execution_count": 23,
   "metadata": {
    "scrolled": true
   },
   "outputs": [
    {
     "data": {
      "text/plain": [
       "array([ 2,  4,  4,  2,  4,  7,  4,  7,  7,  3,  5,  6,  9,  5,  6,  3,  9,\n",
       "        6,  5,  3,  6,  5,  6,  4,  4, 10,  2,  8,  3,  4,  3,  4,  2,  5,\n",
       "        3,  6,  5,  3,  4,  5,  4,  5,  6,  5,  3,  5,  4,  7,  2, 12,  5,\n",
       "        3,  6,  6,  7,  3,  4,  2,  6,  6,  4,  5,  4,  7,  3,  5,  5,  4,\n",
       "        7,  2,  6,  8,  6,  8,  4,  4,  3,  7,  9,  5, 10,  3,  7,  7,  2,\n",
       "        2,  4,  5,  6,  9,  6,  6,  4,  5,  5,  5,  5,  2,  4,  8,  7,  7,\n",
       "        9,  4,  5,  6,  3, 12,  3,  4,  5,  2,  4,  8,  2,  7,  3,  7,  5,\n",
       "        3,  5,  2,  9,  4,  7,  3,  8,  3,  9,  5,  8,  7,  4,  4,  1,  1,\n",
       "        6,  5,  7,  8, 11,  5,  7,  6,  2,  1,  2,  5,  6,  4,  8,  6,  6,\n",
       "        5,  7,  4,  6,  2,  2,  2,  4,  2,  4,  8,  3,  5,  2,  3,  5,  7,\n",
       "        1,  4,  6,  6,  2,  1,  3,  5,  6,  5,  3,  7,  5,  6,  5,  0,  7,\n",
       "        6,  6,  5,  4,  2,  4,  1,  5,  6,  9,  8, 11,  3,  4,  5,  4,  2,\n",
       "        8,  2,  4,  4,  6,  6,  5,  8,  4,  4,  8, 11,  3,  3,  3,  4,  4,\n",
       "        4,  1,  5,  2,  3,  7,  4,  5,  6,  4,  6,  3,  2,  2,  3,  2,  2,\n",
       "        6,  5,  4,  6,  4,  4,  9,  4,  2,  3,  2, 12, 10,  2,  5,  4,  4,\n",
       "        3,  4,  5,  7,  5,  6,  7,  3,  3,  5,  3,  5, 11,  7,  4,  1,  4,\n",
       "        3,  3,  1,  7,  1,  1,  5,  3,  3,  7,  2,  5,  7,  8,  2,  4, 11,\n",
       "        9,  4,  2,  1,  9,  7,  2,  6,  6,  9,  3,  6,  2,  9,  6,  4,  6,\n",
       "        4,  7,  1,  2,  8,  5,  3,  3,  2,  4, 10,  4,  6,  6,  4,  2, 11,\n",
       "        5,  6,  2,  4,  5,  2,  5,  9,  8,  3,  1,  8,  4,  9,  3,  3,  3,\n",
       "        3,  3,  4,  6,  1,  4,  2,  7,  2,  4,  5,  5,  2,  3,  5,  8,  5,\n",
       "        2,  8,  4,  7,  4,  6,  3,  4, 10,  5,  6,  4,  5,  1,  4,  3,  5,\n",
       "        4,  9,  3,  1,  2,  5,  2,  6,  3,  0,  5,  8,  4,  8,  6,  3,  8,\n",
       "        5,  4,  3,  6,  5,  8,  6,  9,  6,  8,  3,  4, 11,  6,  7,  8,  5,\n",
       "        2,  4,  8,  9,  4,  4,  4,  3,  7,  7,  2,  3,  8,  5,  2,  2,  8,\n",
       "        3,  7,  4,  6,  1,  2,  3,  8, 10,  3,  7,  3,  4,  4,  2,  4,  8,\n",
       "        2,  8,  8,  6,  5,  7,  4,  4,  1,  4,  6,  4,  6,  3,  4,  6,  4,\n",
       "        5,  9,  9,  5,  4,  4,  3,  6,  7,  4,  7,  7,  3,  1,  3,  4,  8,\n",
       "        2,  7,  4,  8,  0,  3,  5,  7,  4,  2,  6,  2, 11,  3,  4,  9, 10,\n",
       "        4,  2,  5,  5,  4,  2,  2,  3,  5,  4, 12,  5,  6,  6,  8,  3,  5,\n",
       "        4,  3,  2,  4,  6,  4,  5,  7,  3,  4,  8,  3,  3,  5,  7,  3,  5,\n",
       "        7,  7,  3,  6,  4,  7,  7,  3,  3,  2,  4,  6,  9,  5,  6,  8,  4,\n",
       "        5,  3,  7,  4,  8,  4,  5,  7,  7,  7,  7,  7, 10,  3,  7,  6,  9,\n",
       "        7,  5,  3,  9,  5,  4,  4,  9,  7,  4,  5,  2,  4,  7,  2,  3,  4,\n",
       "        2,  5,  3,  6,  7,  3,  3,  4,  2,  4,  8,  3,  4,  5,  3,  9,  8,\n",
       "        6,  5,  5,  1,  2,  2,  3,  3,  4,  8,  4,  2,  2,  3,  4,  6,  2,\n",
       "        6,  7,  6,  5,  3,  4,  5,  2,  6,  3,  6,  9,  1,  4,  8,  5,  2,\n",
       "        3,  7,  6,  4,  4,  8,  3,  5, 11,  4,  3,  4,  4,  3,  4,  6,  4,\n",
       "        3,  5,  3,  8,  4,  1,  0,  3,  3,  0,  3,  6,  4,  3,  6,  8,  6,\n",
       "        7,  5, 10,  3,  2,  4,  5, 12,  5,  5,  3,  5,  4,  5, 10,  3,  3,\n",
       "        3,  4,  5,  5,  2,  4,  3,  6,  4,  9,  6,  6,  5,  4,  6,  3,  5,\n",
       "        4,  9,  5,  4,  6,  2,  2,  8,  2,  4,  4,  4, 12,  4,  4,  3,  8,\n",
       "        7,  2,  4,  4,  4,  4,  4,  9,  5,  8,  5,  3,  7,  8,  3,  3,  1,\n",
       "        6,  6,  4,  5,  8,  8,  3,  3,  6,  5,  7,  4,  5,  8,  3,  5,  5,\n",
       "        3,  5,  3,  5,  6,  7,  7,  4,  1,  3,  6,  9,  8,  6,  8,  2,  3,\n",
       "        3,  2,  5,  6,  7,  4,  5,  3,  6,  5,  6,  6,  6,  3,  2, 10,  7,\n",
       "        7,  3,  5,  6,  4,  9,  6,  2,  6,  6,  6,  4,  4, 11,  3,  4,  5,\n",
       "        7,  4,  4,  8,  4,  8,  5,  3,  5,  7,  1,  7,  0,  1,  6,  2,  3,\n",
       "       10,  5,  4,  5,  6,  7,  4,  7,  5,  7,  7,  5,  1,  6,  8,  3,  5,\n",
       "        1,  8,  4, 11,  5,  5,  4,  1,  4,  2,  2,  4,  6,  6,  4,  4,  6,\n",
       "        8,  3,  4,  5,  1,  6,  6,  8,  4,  5,  4,  6,  5,  7,  4,  4,  8,\n",
       "        9,  3,  8,  2,  6,  2,  4,  8,  9,  4,  8,  3,  3,  7,  5,  4,  2,\n",
       "        5,  7,  4,  9,  8,  5,  3,  6,  4,  4,  4,  7,  3,  5,  2,  4,  5,\n",
       "        7,  6,  4,  3, 10,  3,  8,  8,  6,  5,  6,  3,  4, 10,  4,  3,  6,\n",
       "        6,  6,  3,  2,  4,  3,  7,  3,  1,  4,  7,  2,  5,  4,  2,  8,  8,\n",
       "        5,  7,  2,  3,  3,  5,  5,  9,  4,  5,  4,  6,  3,  4,  5,  7, 11,\n",
       "        1,  4,  4,  7,  5,  1,  6,  5, 10,  6,  5,  8,  4, 11,  7,  5,  5,\n",
       "        4,  4,  7,  9,  4,  7,  3,  7,  3,  8,  5,  3,  6,  5,  3,  2,  8,\n",
       "        8,  3,  8,  6,  6,  6,  5,  7,  6,  1,  4,  2,  9,  5])"
      ]
     },
     "execution_count": 23,
     "metadata": {},
     "output_type": "execute_result"
    }
   ],
   "source": [
    "s"
   ]
  },
  {
   "cell_type": "code",
   "execution_count": 24,
   "metadata": {
    "scrolled": false
   },
   "outputs": [
    {
     "data": {
      "image/png": "[encoded data removed]",
      "text/plain": [
       "<Figure size 432x288 with 1 Axes>"
      ]
     },
     "metadata": {},
     "output_type": "display_data"
    }
   ],
   "source": [
    "# Display histogram of the sample:\n",
    "import matplotlib.pyplot as plt\n",
    "count, bins, ignored = plt.hist(s, 14, density=True)\n",
    "plt.style.use(\"ggplot\")\n",
    "plt.show()\n"
   ]
  },
  {
   "cell_type": "code",
   "execution_count": null,
   "metadata": {
    "scrolled": false
   },
   "outputs": [],
   "source": [
    "# Draw each 100 values for lambda 100 and 500:\n",
    "s = np.random.poisson(lam=(100., 500.), size=(100, 2))\n"
   ]
  },
  {
   "cell_type": "code",
   "execution_count": 71,
   "metadata": {
    "scrolled": true
   },
   "outputs": [
    {
     "data": {
      "text/plain": [
       "array([-1.24830172e+00,  1.09500880e-01,  1.38764297e-01, -2.36557532e-01,\n",
       "       -1.12219754e-01,  1.09484619e-01,  2.53293666e-01,  7.42860325e-03,\n",
       "       -1.36392239e+00, -5.96500893e-01,  3.80219223e-01,  3.56619041e+00,\n",
       "        1.92104693e-02,  4.81222686e-01,  4.03498607e-01,  1.09680332e+00,\n",
       "        1.56357598e+00,  1.25738268e+00,  2.86898107e-01,  7.78597420e-02,\n",
       "        5.37595207e-01,  4.43280714e-01, -4.70325122e-01, -5.92835471e-01,\n",
       "        7.41069707e-01, -1.26478647e+00, -1.13485723e+00,  2.34014933e-01,\n",
       "       -5.43998885e-02, -7.65093344e-01,  2.31037603e-01, -1.05688034e-01,\n",
       "        1.58283140e+00,  1.02944285e-01, -1.73731440e+00, -5.24895045e-01,\n",
       "        1.32734236e-01,  7.90347235e-01, -3.49258893e-01, -4.08949573e-01,\n",
       "        3.49038551e-01,  3.10249747e-01, -1.48419982e+00, -2.64644806e-01,\n",
       "       -2.17787287e+00, -6.28510473e+00,  1.14000313e-01, -3.82595576e-01,\n",
       "       -6.65482766e-01, -8.54212330e-02, -7.55523711e-01, -5.56211626e-01,\n",
       "        9.93238967e-01,  2.98043912e-01, -3.23637795e+00,  1.21820241e+00,\n",
       "       -1.74381559e+00, -1.58629383e-01, -8.25281371e-01, -2.57273574e-02,\n",
       "       -1.39280575e+00,  2.07503849e+00, -1.00579457e+00, -2.47878716e-01,\n",
       "        4.66620953e-01,  3.27717589e-01,  1.45032118e+00, -2.55210734e+00,\n",
       "       -8.44848193e-02, -2.21881535e-01,  1.90419032e+00,  1.95131531e+00,\n",
       "       -5.93897778e-01, -3.40232087e+00,  2.29839873e-01,  1.44821606e-01,\n",
       "       -1.30937140e-01,  2.85959612e-01,  2.76043270e-01,  1.50577693e-01,\n",
       "        7.05498935e-01,  3.69534259e+00, -1.23955051e+00,  1.26521253e-01,\n",
       "        8.18960973e-01, -1.08244804e+00, -2.51264235e+00,  6.30089713e-02,\n",
       "        1.29925492e+00, -1.49715170e+00,  3.46323240e+00, -5.96334263e-03,\n",
       "       -5.27504729e-01, -1.02635320e-01,  4.21011821e+00,  1.93749382e+00,\n",
       "        1.36582698e+00, -2.55113646e-01,  1.12492154e+00,  2.63577069e+00,\n",
       "       -4.40923606e-01, -1.53489653e+00, -3.23129874e-01,  1.76665548e-01,\n",
       "        1.53688143e-01, -7.95171959e-01, -5.53288594e-02,  1.37065700e+00,\n",
       "        4.34547751e-01, -8.16004884e-01, -2.82557185e-01, -6.55201499e-01,\n",
       "        9.04916566e-01, -2.64640597e+00,  2.45477722e+00,  9.26438505e-01,\n",
       "        2.38915336e-01, -5.53668247e-02, -1.23029401e+00,  1.22474080e-01,\n",
       "        3.84419729e+00,  3.11593373e+00, -1.12500768e+00,  4.91608369e-01,\n",
       "        3.63389573e+00, -5.90376371e-01, -3.04209665e-02, -3.67561005e-01,\n",
       "        3.60564576e-01, -1.26276389e+00,  5.13081799e-02,  1.02507519e+00,\n",
       "        1.13535785e+00,  1.83436701e+00,  1.20717409e+00,  9.66420033e-03,\n",
       "       -1.24540182e-01, -2.75035158e-01, -1.64843774e+00, -4.88646901e-01,\n",
       "       -4.15498557e-01,  8.57606810e-01,  6.02832157e-01,  9.28844289e-01,\n",
       "        3.23596910e-01, -3.10419345e-01,  4.38256919e-01, -1.52862291e-01,\n",
       "        4.61404057e-01, -5.54158781e-01,  1.32192264e-01, -7.23447424e-01,\n",
       "       -3.19914242e-01, -6.60013848e-01,  8.74501874e-01, -8.32375846e-02,\n",
       "        3.26542439e+00,  2.72551474e+00, -3.79675950e-01,  9.96556376e-01,\n",
       "       -1.14735203e+00, -2.87141207e-01, -9.19861397e-01, -3.61154987e-01,\n",
       "       -7.80954543e-01,  1.19169467e+00,  4.43234030e-01,  9.70875529e-02,\n",
       "        1.06631647e+00,  5.27691934e-01, -6.31712845e-02,  3.88878914e-01,\n",
       "        2.29307783e-01, -5.98643034e-01, -2.23506240e+00,  1.79591098e+00,\n",
       "       -1.62685419e+00,  4.37258785e+00,  3.61275424e-01,  1.32582715e+00,\n",
       "       -2.49678987e-01, -7.17944465e-01,  2.86799338e-02,  9.41172980e-01,\n",
       "       -1.85465643e+00, -1.10040224e+00,  3.99632528e-01, -3.79228217e+00,\n",
       "       -5.09119940e-01, -2.47174523e+00,  5.61256161e-01, -2.74161710e+00,\n",
       "        3.52065693e-01,  2.81899321e-01,  2.10776737e-01, -2.24020714e-01,\n",
       "       -1.58363778e+00, -9.39264475e-01,  2.92376532e+00, -8.93851176e-02,\n",
       "       -1.00097483e-02,  1.28514866e+00,  1.26957918e+00,  1.42960849e+00,\n",
       "        2.01099911e-02, -8.52461746e-01,  1.02252386e-01, -7.60856765e-01,\n",
       "        1.87688550e+00, -1.72528556e-01,  1.93063485e-01, -6.86417099e-01,\n",
       "        2.38544601e+00, -9.10416080e-02,  1.80995956e+00,  1.20942651e+00,\n",
       "        4.78333550e+00,  9.98718630e-01,  1.37083151e+00,  5.93239974e-01,\n",
       "        1.76577899e+00,  7.91821773e-01,  1.38034685e-01,  1.16095279e+00,\n",
       "       -9.60713932e-02,  5.46806444e-01, -4.97578093e-02, -1.79070477e-01,\n",
       "        3.71130219e-01, -1.51423941e-01, -1.61457834e-01,  5.72978734e-01,\n",
       "        6.99592363e-01,  9.29188311e-01, -8.46452534e-01, -7.04144690e-01,\n",
       "        5.64241654e-01,  1.82753147e+00,  5.89663983e-01,  1.59561531e+00,\n",
       "       -5.83506299e-01, -4.24131599e-01, -2.45885148e+00, -6.53529512e-01,\n",
       "       -2.50842702e-01, -2.13635302e-01, -1.26346913e+00,  7.15775137e-01,\n",
       "        7.31463033e-01, -4.50342627e-01,  1.25826899e+00,  9.56315086e-01,\n",
       "        2.68226695e-01,  4.40306112e-01,  2.53690200e-01,  8.20615754e-01,\n",
       "       -6.17799451e-01,  1.95878341e-01, -1.41322332e+00,  2.85367808e+00,\n",
       "       -4.72965721e-01, -1.63949639e-01, -1.80906629e-01,  8.84914710e-01,\n",
       "       -9.05441637e-02, -5.60837867e-01,  5.87966179e-01,  1.32482656e-01,\n",
       "       -2.08274296e+00, -7.20859295e-01, -1.57191814e+00,  2.22954605e-01,\n",
       "       -3.08980721e+00,  2.48901589e+00,  1.25508052e+00, -3.85572940e+00,\n",
       "       -1.53553177e+00,  3.26101820e-01, -9.27330945e-01,  1.69330832e-01,\n",
       "        1.49219053e+00, -2.17337028e+00,  5.29569395e-01, -6.31850152e-01,\n",
       "        6.47183425e-01,  9.54321350e-03,  1.88307759e-01, -1.27448986e+00,\n",
       "       -3.99812326e-01,  3.30086789e-01,  1.12576750e-01,  4.46915438e-02,\n",
       "       -4.27017443e-02,  2.96668075e-01, -2.10002170e-01, -2.48513430e+00,\n",
       "       -7.92792824e-02, -9.74485661e-01, -4.35844000e-01, -1.43890796e+00,\n",
       "        1.22284129e+00,  2.78786456e-01, -4.99906052e-01, -1.07533369e+00,\n",
       "       -7.57158104e-01,  1.92397573e-01,  5.00083667e-01,  1.59182182e-01,\n",
       "       -3.88328309e+00,  1.99839614e-02, -2.73425133e+00,  4.11972710e+00,\n",
       "       -1.78989538e+00, -6.29962715e-01, -1.13954034e-01,  1.60362997e+00,\n",
       "        1.14037381e+00,  1.39066646e+00,  3.14235929e+00,  1.65924379e-01,\n",
       "       -1.28902877e+00,  8.87965202e-01,  3.10019815e-01,  1.05742854e+00,\n",
       "       -1.65616655e+00, -3.58590393e-01,  5.19298734e-01, -2.52738802e+00,\n",
       "        1.38718148e+00,  7.74971642e-01, -1.36718752e+00, -1.92030507e+00,\n",
       "       -5.02342023e+00, -4.56778704e-02, -1.76429475e+00, -1.18400513e+00,\n",
       "       -5.47579962e-01,  6.80358780e-02, -2.72472536e-01, -3.11632052e-01,\n",
       "       -1.41621167e+00, -4.89383268e-01, -7.57640647e-02, -6.00378406e-01,\n",
       "       -8.30897391e-01,  5.83155317e-03,  3.58267557e-01, -2.07144900e+00,\n",
       "        3.86783624e-01,  6.90278798e-01, -1.19149572e-01, -1.97817667e-01,\n",
       "       -7.09010524e-02, -3.05709072e-01, -3.18826082e-01,  3.13673667e-01,\n",
       "       -8.26378880e-01, -1.97489516e-01, -6.40162050e-01,  3.10094112e-01,\n",
       "        8.51742409e-01,  1.58519763e+00, -9.76902963e-01, -2.30680487e-01,\n",
       "        6.07316502e-01, -1.17526857e+00, -6.95234581e-01, -2.88563324e+00,\n",
       "       -5.21542302e-01,  1.24683781e+00, -4.93350705e-01,  1.18415634e+00,\n",
       "       -1.21989343e+00, -3.02225761e-01, -8.56452809e-02, -6.92246459e-01,\n",
       "       -3.18052251e-01, -4.13163385e-01, -2.68319584e+00,  5.48890359e-01,\n",
       "       -5.74963379e-01, -1.12042734e+00,  1.90550194e+00,  1.22905883e+00,\n",
       "        1.31905188e+00,  1.62329273e-01,  5.80472187e-01, -7.47559202e-01,\n",
       "        1.44389001e+00,  4.17829972e-01, -2.63992389e+00, -2.11158581e+00,\n",
       "       -1.72430402e+00,  7.30709135e-01,  1.40449880e-01,  1.19145816e+00,\n",
       "       -7.84524027e-02,  2.11937250e+00,  5.37614747e-01,  4.01746356e-01,\n",
       "        1.50809752e+00,  2.82342608e+00,  6.93558023e-01, -2.28545944e+00,\n",
       "        2.23750301e+00, -1.26235521e+00,  6.61856338e-01,  3.91611354e+00,\n",
       "        7.30577090e-02, -1.04831751e+00, -1.34838450e+00, -8.98039160e-01,\n",
       "       -4.60204607e-01, -1.84317892e+00,  4.72787528e-02, -6.69193465e-01,\n",
       "       -1.14883328e+00, -3.11922734e-02,  5.46802623e-01,  2.11805403e+00,\n",
       "       -4.06856427e-01,  4.95036560e-01,  1.13716924e-01,  1.25731219e+00,\n",
       "       -1.22804512e+00,  2.88660738e+00,  9.28639101e-01, -3.94442949e+00,\n",
       "       -4.50740015e-02,  5.16179676e-01, -4.30213188e-01,  8.74971200e-01,\n",
       "       -1.57330960e+00, -9.07410746e-01,  4.26538360e-01,  8.09860899e-01,\n",
       "       -1.75238709e+00, -5.82862426e-01, -8.11577007e-01,  1.94917672e-01,\n",
       "       -5.53849599e-01, -3.19733824e-01, -1.20032071e+00,  2.18429485e+00,\n",
       "       -8.92881448e-01,  2.88773468e+00,  2.09873348e-01,  9.39772980e-02,\n",
       "       -2.17788041e+00, -5.70805770e+00, -9.90093967e-01,  5.27391743e-01,\n",
       "        8.27568808e-02,  6.29432322e-01, -5.88416545e-01,  2.31665242e-02,\n",
       "        1.95130316e+00,  3.52943803e-01,  1.96954871e+00,  2.87473573e-01,\n",
       "       -5.03442775e+00, -6.20058675e-01,  3.23114240e+00,  3.74385849e-01,\n",
       "        5.63331002e-01, -1.16448653e+00, -8.65247030e-01,  8.97578602e-02,\n",
       "        6.70759292e-01, -8.30851204e-01,  2.02552679e+00, -7.71538683e-01,\n",
       "        5.07781420e-01,  1.06187298e-01, -2.19531250e+00,  4.89172100e-01,\n",
       "       -2.24602694e+00, -5.05266246e-01, -4.71313281e-01,  3.68201804e-01,\n",
       "        9.48326129e-01, -8.32416488e-01, -4.23886189e+00, -8.56483243e-01,\n",
       "        1.25526527e-01,  1.26882601e+00, -5.04515131e+00,  2.36598664e+00,\n",
       "        4.72999411e-01, -1.18254351e-01,  8.06526946e-01, -1.01658924e-01,\n",
       "       -1.44953850e+00,  8.60159001e-01, -3.53591490e-02, -3.20614775e-01,\n",
       "        2.64854537e-01, -2.04744898e+00, -1.94097322e-01, -6.71366191e-01,\n",
       "       -5.86029837e-01,  4.57621350e-01,  1.22081893e-01,  3.40364473e-01,\n",
       "       -7.10482683e-01,  3.18235245e+00,  4.07293208e-03, -4.85467247e-02,\n",
       "       -5.24753008e-01,  4.74203057e-02, -2.73430539e-01, -3.67600000e-01,\n",
       "       -1.27020592e+00,  5.89963416e-02,  6.80697103e-01, -1.96720144e+00,\n",
       "       -1.30943012e-01, -4.25871826e-01, -1.56653992e+00,  3.20829122e+00,\n",
       "        5.18547484e-01,  2.94757989e+00,  1.15713452e+00, -1.46768320e+00,\n",
       "        6.14144797e-01,  1.43060990e+00,  1.07704856e+00,  2.04299087e+00,\n",
       "        1.54464392e-02, -1.37029524e+00,  1.17347618e+00,  6.42141383e-01,\n",
       "        8.72047647e-01, -4.27081783e+00,  3.96103296e+00,  8.55727956e-01,\n",
       "        9.78989813e-01, -3.11606884e+00, -1.64585695e+00,  3.68572086e-01,\n",
       "        5.41639414e-01,  2.09737116e+00,  3.14739653e-01,  5.22257697e-02,\n",
       "        1.51541915e+00, -4.94035075e-01, -2.60048865e-01,  5.14235144e-01,\n",
       "       -6.38898474e-02, -1.40826930e-01,  2.47980589e-01, -1.42340877e-01,\n",
       "       -1.35563305e+00,  1.31535054e+00, -1.95963621e+00,  2.47661601e-01,\n",
       "        1.82889057e+00, -1.08737437e+00,  1.98980518e+00,  3.34772374e-01,\n",
       "        6.71335565e-01,  1.49077224e+00,  6.88482912e-01,  7.47056898e-01,\n",
       "        6.81876014e-01,  1.39376116e-01,  6.05185027e-01,  1.77028275e-01,\n",
       "       -1.05366042e+00, -2.21617383e+00, -4.39161168e-01,  1.95066361e-01,\n",
       "        8.39721457e-01, -3.32452580e-01, -4.86452510e-01, -5.92966807e-01,\n",
       "        1.69610054e+00,  2.76921096e+00,  5.51136221e-01, -6.60259060e-01,\n",
       "       -2.37024164e+00, -1.51261071e-02, -1.04679824e+00, -6.25965090e-02,\n",
       "        1.02060276e+00, -1.96883353e-01, -5.59957952e-01, -1.09405311e+00,\n",
       "       -1.13904392e+00,  3.61545869e-01, -6.38997113e-01,  1.11915835e+00,\n",
       "        1.69279821e+00,  1.93411296e+00, -3.18387625e+00,  4.30380929e-01,\n",
       "        9.03104220e-01,  8.86547644e-01, -1.18611351e+00, -3.48364477e+00,\n",
       "        1.00995569e+00, -9.27325729e-02, -4.48021987e-01, -1.11684813e+00,\n",
       "        6.23020830e-01,  1.21950438e-01,  5.73352892e-01,  3.54037399e-01,\n",
       "        3.68125328e-01,  1.57182733e-02,  2.59768785e+00, -1.40650587e+00,\n",
       "       -1.61936052e+00, -3.68975056e+00,  9.91460462e-01, -1.50547857e+00,\n",
       "       -2.47047040e-01, -2.97212049e+00, -2.46258358e+00,  1.24414290e+00,\n",
       "       -3.04424827e+00,  1.87264170e+00,  1.50281327e-01,  3.03849128e-01,\n",
       "        2.23105297e+00, -1.60813745e+00, -1.21480995e+00, -1.16718793e+00,\n",
       "        1.80052795e-01,  6.92744598e-01, -4.58253550e-01,  1.91778381e+00,\n",
       "        1.73006534e-01, -3.24236879e-01,  9.75047849e-02, -2.20017224e-01,\n",
       "       -1.12002420e+00, -1.63055299e+00,  3.03845970e-01, -6.65190774e-01,\n",
       "        8.52446545e-02,  1.48668974e-01,  1.29250533e+00,  1.69861620e-01,\n",
       "        7.93176832e-01,  1.66763977e-01,  2.69515402e+00, -1.60536523e-01,\n",
       "        3.93323675e-01,  8.14119352e-01,  3.80322527e-01, -8.01522721e-02,\n",
       "        3.73227278e+00, -2.09279886e+00,  1.29717793e-01,  7.50941286e-01,\n",
       "        3.74567486e-01,  1.34815832e+00, -5.42233199e-01,  2.39638031e+00,\n",
       "       -2.85381293e+00,  1.03416058e-01,  1.86687708e-01,  1.81661217e+00,\n",
       "        2.29702184e+00, -1.37012359e+00, -8.65383728e-01,  6.03251280e-01,\n",
       "        4.01991761e-01, -2.09896519e-02,  1.15096459e-01, -2.77005665e-01,\n",
       "       -2.06078405e-01, -2.53463542e-01, -9.15235624e-01, -2.86766264e-02,\n",
       "        1.62771502e-01,  7.99409771e-01, -5.38778456e-01,  1.30482194e+00,\n",
       "        1.57970158e+00, -2.82143707e-01, -8.40470327e-01,  5.05080318e-01,\n",
       "        1.24083055e+00, -1.63056212e+00, -6.24271085e-01,  1.23087361e+00,\n",
       "        5.99427268e-01,  4.79318043e-02,  1.31150602e+00, -2.47173388e+00,\n",
       "       -1.76491240e+00,  1.52709377e+00,  4.80908670e-01, -2.86876058e-01,\n",
       "        9.52085434e-02, -2.84927627e-01, -1.96666648e-02, -1.96652016e+00,\n",
       "       -1.36418381e+00, -1.65377628e+00,  3.54215102e-01,  7.17930599e-01,\n",
       "        2.86557176e-01, -2.92383574e+00, -1.15741040e+00,  1.67577730e-01,\n",
       "        2.09239301e+00,  9.70598851e-01,  8.14700703e-01,  1.89164519e+00,\n",
       "        3.40899614e+00, -4.95144299e+00, -7.83571248e-01,  4.94718997e-01,\n",
       "       -1.46909125e+00,  9.07084581e-01,  3.43325095e-01, -2.19911120e-01,\n",
       "        1.98851256e-01,  9.20501094e-01,  6.37317532e-01,  1.59528226e-01,\n",
       "        2.90521740e+00, -3.51649732e-01, -8.31576183e-02, -1.61471655e-01,\n",
       "       -6.13700258e-01,  2.72136044e+00, -2.40021744e+00,  1.86093569e+00,\n",
       "        2.27673991e+00, -1.76721252e+00, -3.10779085e-01, -6.35370643e-01,\n",
       "       -1.07746114e+00, -9.52670072e-02, -7.52533122e-01,  6.01200119e-02,\n",
       "       -7.14884530e-02, -1.24266093e+00, -1.52124206e+00,  1.58298876e+00,\n",
       "       -1.93397420e+00, -8.65907543e-01,  1.47656910e-01,  6.53226073e-01,\n",
       "       -9.28131373e-01, -4.68954218e-01, -8.64839379e-02,  1.20814862e+00,\n",
       "       -1.54567013e-01, -4.01715990e-02, -4.09762935e-01,  3.05461062e-01,\n",
       "       -6.56427893e-02,  1.03680375e+00,  9.33055788e-01,  9.88567739e-02,\n",
       "       -5.93113740e-01,  2.87270697e+00,  1.76047345e+00, -4.30599592e-01,\n",
       "       -1.60795708e-01,  1.91789459e+00, -1.83244724e+00, -2.73377580e-02,\n",
       "       -5.06817377e-01,  5.06985271e-01, -8.24359113e-01,  3.88059666e-01,\n",
       "        5.41969300e-01, -9.20513934e-01,  2.87816315e-01,  1.00923647e-02,\n",
       "       -9.04369569e-01,  1.12060150e+00, -3.51617763e+00, -1.11578918e+00,\n",
       "       -7.06572800e-02, -2.73416977e-01,  1.43712240e-01,  8.77288075e-01,\n",
       "       -4.60170569e-01, -2.30045975e-01, -1.99573513e-01,  9.55677826e-01,\n",
       "       -8.72322868e-01,  1.15927473e+00,  2.02133319e+00, -8.52034584e-01,\n",
       "       -6.56906089e-01, -1.48463378e+00, -6.19430925e-02,  2.74051681e+00,\n",
       "        1.26616496e-01,  8.39701301e-01,  4.73106199e-01, -1.16531377e+00,\n",
       "        3.55196872e-01, -9.05622478e-01, -6.30950352e-01,  1.57029356e+00,\n",
       "        6.08227172e-01,  6.31532455e-02,  7.09051190e-01,  1.30112513e-01,\n",
       "       -8.70680582e-01,  5.45186904e-01,  3.58631107e-04, -1.23243813e+00,\n",
       "        1.74136797e+00, -1.28407762e+00,  6.05042604e-01, -1.24900254e-01,\n",
       "       -3.49005498e-01, -2.39229236e+00,  7.62212762e-01,  4.19485935e-02,\n",
       "       -1.00347782e+00, -6.92087006e-01, -1.32468982e+00, -7.10162408e-01,\n",
       "        3.02545455e+00,  9.63143552e-02, -7.69634276e-01,  9.62091046e-02,\n",
       "        6.64721039e-01,  2.13935629e+00, -1.32456975e-02, -4.73929867e-01,\n",
       "        7.02305280e-01,  7.33712305e-02, -4.33960381e+00, -5.87728115e-01,\n",
       "        1.91401218e-01, -1.53370192e+00, -7.37381812e-01, -8.99545573e-01,\n",
       "        1.44380533e-01, -2.15402521e+00, -4.42755695e-04, -2.25112725e+00,\n",
       "        6.08145487e-01, -3.93897949e-01,  8.55455633e-01,  2.52667202e-01,\n",
       "       -2.16539277e-01, -1.76523025e+00, -1.26914806e+00, -3.27902798e+00,\n",
       "        5.33057875e-01, -1.54756104e+00,  2.09578647e+00, -5.69540727e-01,\n",
       "        2.18506710e-01,  3.56359638e+00,  2.70072942e-01, -4.09496909e-03,\n",
       "       -4.46101888e-01, -3.83986740e+00, -8.96989139e-02,  3.16404396e-01,\n",
       "        1.15157449e+00, -2.00419788e-02,  1.81594192e+00, -1.50103405e+00,\n",
       "       -1.64139027e-02,  1.29494000e-01, -1.04445786e+00,  5.09322489e-02,\n",
       "       -1.55779613e+00, -1.89450429e-01,  1.59249441e+00,  7.25737981e-01,\n",
       "        2.36982881e-01,  2.79737378e-01,  3.98393240e+00, -1.21151899e+00,\n",
       "        2.14106275e-01, -3.34209249e+00, -3.50950860e-01,  1.45078640e+00,\n",
       "        8.03306940e-01,  1.28617651e-01,  6.70490173e-01,  2.16872022e+00,\n",
       "        1.67660729e-01, -2.96684332e-01,  2.38657184e-02, -4.67817871e-01,\n",
       "       -4.99974559e-01,  6.52001869e-01,  8.27851019e-01, -3.17097418e-01,\n",
       "       -8.57054735e-01,  1.03091404e+00,  3.56062880e+00,  2.15747536e+00,\n",
       "        1.91789934e+00,  2.82722496e+00, -6.96434398e-01,  1.19408671e+00,\n",
       "        9.89659747e-02, -1.01522451e-01,  2.38494292e+00,  4.96526084e-01,\n",
       "        4.07066895e-04,  2.05092251e+00, -7.97192718e-01,  5.77775266e-02,\n",
       "        7.30244943e-01,  5.90253560e-02, -7.19290588e-01, -7.73560458e-01,\n",
       "        3.30866539e-01,  1.13860942e+00, -1.66004601e-01,  8.42644852e-01,\n",
       "       -1.64538106e-01, -1.73382897e+00, -1.68707711e+00,  4.37563991e-01,\n",
       "        6.61821669e-01,  1.61627266e+00, -2.10946641e+00, -4.72074385e-01,\n",
       "        3.84200258e-01,  3.38204772e-01,  6.32969958e-01,  1.57001011e+00,\n",
       "        2.17785815e-02,  3.05284526e-01,  1.55393533e-01,  1.60717805e+00,\n",
       "       -2.96227798e-01,  1.56197985e+00,  2.60984824e-01,  4.45687695e-01,\n",
       "        1.44243964e+00, -1.88922909e+00,  2.16259271e-01, -1.58373865e+00,\n",
       "        5.02118518e-01,  6.95583566e-01, -2.95192778e-01, -3.80949199e-01,\n",
       "        8.46249048e-02, -3.10763181e+00, -3.64534977e+00,  8.08355081e-01,\n",
       "        1.05645927e+00, -3.46438651e-01, -3.71467496e-01,  2.27264809e+00,\n",
       "       -1.24762260e+00, -1.57699059e+00,  2.20259843e+00, -1.15868955e+00,\n",
       "       -1.54206612e+00,  5.65825697e-02,  5.34845347e-01,  6.99653160e-01,\n",
       "       -2.54424660e+00, -5.65712142e-01,  1.34926908e+00,  3.37923006e-01,\n",
       "        2.62331611e-01, -3.11337725e-01, -2.02734049e+00, -1.97925754e-01,\n",
       "        1.84769959e+00,  8.09233862e-01, -1.01181238e-01, -1.04283403e+00,\n",
       "       -5.06653839e-02,  1.26500240e+00,  7.43538514e-01,  6.56284013e-01,\n",
       "       -2.90173381e-01, -3.32696673e-01, -8.55328580e-01, -3.44783105e-01,\n",
       "       -7.48116845e-01,  1.67727699e+00,  2.37816149e+00,  1.21105095e-01,\n",
       "       -1.07769454e+00,  1.05594471e+00, -1.55448673e+00, -1.97558967e+00,\n",
       "       -7.48656223e-02,  1.19308296e+00, -7.73834869e-01, -1.71767644e+00,\n",
       "       -1.32791852e+00,  1.16436197e-01,  1.49120105e-01,  2.74451873e-01])"
      ]
     },
     "execution_count": 71,
     "metadata": {},
     "output_type": "execute_result"
    }
   ],
   "source": [
    "s"
   ]
  },
  {
   "cell_type": "markdown",
   "metadata": {},
   "source": [
    "### 3.6 gamma(shape[, scale, size])\n",
    "\n",
    "This function is used to draw sample from a Gamma distribution.\n",
    "https://www.javatpoint.com/numpy-random\n"
   ]
  },
  {
   "cell_type": "code",
   "execution_count": 26,
   "metadata": {
    "scrolled": false
   },
   "outputs": [
    {
     "data": {
      "image/png": "[encoded data removed]",
      "text/plain": [
       "<Figure size 432x288 with 1 Axes>"
      ]
     },
     "metadata": {},
     "output_type": "display_data"
    }
   ],
   "source": [
    "# https://www.javatpoint.com/numpy-random\n",
    "import numpy as np  \n",
    "shape, scale = 2., 2.  \n",
    "s1 = np.random.gamma(shape, scale, 1000)  \n",
    "import matplotlib.pyplot as plt  \n",
    "import scipy.special as spss  \n",
    "count, bins, ignored = plt.hist(s1, 50, density=True)  \n",
    "a = bins**(shape-1)*(np.exp(-bins/scale) / (spss.gamma(shape)*scale**shape))  \n",
    "plt.plot(bins, a, linewidth=2, color='g')  \n",
    "plt.style.use(\"ggplot\")\n",
    "plt.show()  \n"
   ]
  },
  {
   "cell_type": "code",
   "execution_count": 73,
   "metadata": {
    "scrolled": false
   },
   "outputs": [
    {
     "data": {
      "image/png": "[encoded data removed]",
      "text/plain": [
       "<Figure size 432x288 with 1 Axes>"
      ]
     },
     "metadata": {},
     "output_type": "display_data"
    }
   ],
   "source": [
    "import numpy as np  \n",
    "shape, scale = 5., 5.  \n",
    "s1 = np.random.gamma(shape, scale, 100)  # with size decreased at 100.\n",
    "import matplotlib.pyplot as plt  \n",
    "import scipy.special as spss  \n",
    "count, bins, ignored = plt.hist(s1, 30, density=True) # scale decreased at 30. \n",
    "a = bins**(shape-1)*(np.exp(-bins/scale) / (spss.gamma(shape)*scale**shape))  \n",
    "plt.plot(bins, a, linewidth=2, color='b')  \n",
    "plt.style.use(\"ggplot\")\n",
    "plt.show()  \n"
   ]
  },
  {
   "cell_type": "markdown",
   "metadata": {},
   "source": [
    "### 4. Explain the use of seeds in generating pseudorandom numbers. "
   ]
  },
  {
   "cell_type": "markdown",
   "metadata": {},
   "source": [
    "### 4.1 RandomState and Random Generator  "
   ]
  },
  {
   "cell_type": "markdown",
   "metadata": {},
   "source": [
    "RandomState contains Mersenne Twister pseudo-random number generator and is formulated as class numpy.random.RandomState (seed=None). RandomState provides diverse methods dedicated to generating random numbers sourced from a range of probability distributions (SciPy.org, 2020). Random Generator offers entry to a variety of distributions and is used as a substitute for RandomState (NumPy.org, 2020). The point of demarcation between Generator and RandomState is that the former uses supplementary BitGenerator to deal with state and produce the random bits which are consequently converted into random values from functional distributions; but the latter do not (NumPy.org, 2020).     \n"
   ]
  },
  {
   "cell_type": "markdown",
   "metadata": {},
   "source": [
    "#### 4.1.1 numpy.random.RandomState\n",
    "\n",
    "#### class numpy.random.RandomState\n",
    "Container for the Mersenne Twister pseudo-random number generator.\n",
    "https://het.as.utexas.edu/HET/Software/Numpy/reference/generated/numpy.random.RandomState.html"
   ]
  },
  {
   "cell_type": "markdown",
   "metadata": {},
   "source": [
    "#### numpy.random.seed\n",
    "numpy.random.seed(seed=None)\n",
    "seed : {None, int, array_like}, optional"
   ]
  },
  {
   "cell_type": "code",
   "execution_count": 74,
   "metadata": {
    "scrolled": false
   },
   "outputs": [
    {
     "name": "stdout",
     "output_type": "stream",
     "text": [
      "Random number with seed 30\n",
      "first Number  42\n",
      "Second Number  42\n",
      "Third Number  42\n"
     ]
    }
   ],
   "source": [
    "# https://pynative.com/python-random-seed/\n",
    "\n",
    "import random\n",
    "\n",
    "print (\"Random number with seed 30\")\n",
    "random.seed(30)\n",
    "print (\"first Number \", random.randint(25,50))\n",
    "\n",
    "random.seed(30)\n",
    "print (\"Second Number \", random.randint(25,50))\n",
    "\n",
    "random.seed(30)\n",
    "print (\"Third Number \", random.randint(25,50))"
   ]
  },
  {
   "cell_type": "code",
   "execution_count": 75,
   "metadata": {
    "scrolled": false
   },
   "outputs": [
    {
     "name": "stdout",
     "output_type": "stream",
     "text": [
      "Random number with system time\n",
      "Random Number 44\n"
     ]
    }
   ],
   "source": [
    "# https://pynative.com/python-random-seed/\n",
    "\n",
    "import random\n",
    "from datetime import datetime\n",
    "\n",
    "print(\"Random number with system time\")\n",
    "random.seed(datetime.now())\n",
    "\n",
    "print(\"Random Number\", random.randint(25, 50))"
   ]
  },
  {
   "cell_type": "code",
   "execution_count": 76,
   "metadata": {
    "scrolled": false
   },
   "outputs": [
    {
     "data": {
      "text/plain": [
       "array([6, 9, 6, 1, 1, 2, 8, 7, 3, 5, 6, 3, 5, 3, 5, 8, 8, 2, 8, 1, 7, 8,\n",
       "       7, 2, 1, 2, 9, 9, 4, 9, 8, 4, 7, 6, 2, 4, 5, 9, 2, 5, 1, 4, 3, 1,\n",
       "       5, 3, 8, 8, 9, 7])"
      ]
     },
     "execution_count": 76,
     "metadata": {},
     "output_type": "execute_result"
    }
   ],
   "source": [
    "# https://www.sharpsightlabs.com/blog/numpy-random-seed/\n",
    "# generate pseudo-random numbers with seed at 1.\n",
    "# low(inclusive):1 and high(exclusive):10.\n",
    "# generate 50 integers.\n",
    "import numpy as np\n",
    "np.random.seed(1)\n",
    "np.random.randint(low = 1, high = 10, size = 50)"
   ]
  },
  {
   "cell_type": "code",
   "execution_count": 77,
   "metadata": {
    "scrolled": false
   },
   "outputs": [
    {
     "data": {
      "text/plain": [
       "array([5, 0, 3, 3, 7])"
      ]
     },
     "execution_count": 77,
     "metadata": {},
     "output_type": "execute_result"
    }
   ],
   "source": [
    "# https://www.sharpsightlabs.com/blog/numpy-random-seed/\n",
    "# generate pseudo-random numbers with seed at 0\n",
    "# generate 5 integers between 0 to 10.\n",
    "\n",
    "import numpy as np\n",
    "np.random.seed(0)\n",
    "np.random.randint(10, size = 5)"
   ]
  },
  {
   "cell_type": "code",
   "execution_count": 78,
   "metadata": {
    "scrolled": false
   },
   "outputs": [
    {
     "data": {
      "text/plain": [
       "array([12,  5,  0,  3, 11,  3,  7,  9])"
      ]
     },
     "execution_count": 78,
     "metadata": {},
     "output_type": "execute_result"
    }
   ],
   "source": [
    "# https://www.sharpsightlabs.com/blog/numpy-random-seed/\n",
    "import numpy as np\n",
    "np.random.seed(0) # the value 0 of the seed is the position we are at.\n",
    "np.random.randint(15, size = 8) # produce randomly 8 numbers in a range of 0-15."
   ]
  },
  {
   "cell_type": "markdown",
   "metadata": {},
   "source": [
    "<cr>"
   ]
  },
  {
   "cell_type": "code",
   "execution_count": 79,
   "metadata": {
    "scrolled": false
   },
   "outputs": [],
   "source": [
    "# https://numpy.org/devdocs/reference/random/index.html\n",
    "# new algorithm used by generator to produce random values.\n",
    "from numpy.random import default_rng\n",
    "rng = default_rng()\n",
    "vals = rng.standard_normal(10)\n",
    "more_vals = rng.standard_normal(10)\n"
   ]
  },
  {
   "cell_type": "code",
   "execution_count": 80,
   "metadata": {},
   "outputs": [
    {
     "data": {
      "text/plain": [
       "array([ 1.10613554,  0.61711479,  0.90304595, -0.94245115,  0.7411134 ,\n",
       "        0.32370721, -1.51309295,  1.76750271, -0.29621995,  0.72097726])"
      ]
     },
     "execution_count": 80,
     "metadata": {},
     "output_type": "execute_result"
    }
   ],
   "source": [
    "vals"
   ]
  },
  {
   "cell_type": "code",
   "execution_count": 81,
   "metadata": {},
   "outputs": [
    {
     "data": {
      "text/plain": [
       "array([ 0.53812159,  0.05206459,  1.73789602, -0.24161522, -0.04517609,\n",
       "        1.73808449, -0.36493577,  1.19723512,  1.04091425, -0.38821271])"
      ]
     },
     "execution_count": 81,
     "metadata": {},
     "output_type": "execute_result"
    }
   ],
   "source": [
    "more_vals"
   ]
  },
  {
   "cell_type": "markdown",
   "metadata": {},
   "source": [
    "### 4.2 Bit Generator and PCG 64 algorithm \n",
    "BitGenerator is the source from which Generator produces the random values. The BitGenerators have no attributes for random numbers production; but deliver methods for seeding, setting the state, jumping the state […] (Numpy.org, 2020).  The Permutated Congruential Generator (PCG) 64   is one of the supported BitGenerators, and it is the default BitGenerator used by Generator, as numpy.random.default_rng () (Numpy.org. 2020). \n",
    "PCG is defined as a new uniform pseudorandom number generation system that is fundamentally useful and statistically excellent. It outperforms usual general-purpose generator because of its features: solid mathematical foundations, good time and space performance, minimal code size, various random streams and enhanced cryptographic (O’Neill, 2014)\n"
   ]
  },
  {
   "cell_type": "markdown",
   "metadata": {},
   "source": [
    "### numpy.random.default_rng()\n",
    "Construct a new Generator with the default BitGenerator (PCG64).\n",
    "https://numpy.org/devdocs/reference/random/generator.html"
   ]
  },
  {
   "cell_type": "code",
   "execution_count": 82,
   "metadata": {
    "scrolled": false
   },
   "outputs": [
    {
     "data": {
      "text/plain": [
       "array([1, 1, 1, 0, 0, 0, 0, 1, 0, 0], dtype=int64)"
      ]
     },
     "execution_count": 82,
     "metadata": {},
     "output_type": "execute_result"
    }
   ],
   "source": [
    "# https://numpy.org/devdocs/reference/random/generator.html\n",
    "import numpy as np\n",
    "np.random.bit_generator = np.random._bit_generator\n",
    "rng = np.random.default_rng()\n",
    "rng.integers(2, size=10) # randomly generate 10 integers between 0 to 2.\n"
   ]
  },
  {
   "cell_type": "code",
   "execution_count": 83,
   "metadata": {
    "scrolled": false
   },
   "outputs": [
    {
     "data": {
      "text/plain": [
       "array([[0.77395605, 0.43887844, 0.85859792],\n",
       "       [0.69736803, 0.09417735, 0.97562235],\n",
       "       [0.7611397 , 0.78606431, 0.12811363]])"
      ]
     },
     "execution_count": 83,
     "metadata": {},
     "output_type": "execute_result"
    }
   ],
   "source": [
    "# Random Generator \n",
    "# https://numpy.org/devdocs/reference/random/generator.html\n",
    "import numpy as np\n",
    "rng = np.random.default_rng(seed=42)\n",
    "arr2 = rng.random((3, 3))\n",
    "arr2\n"
   ]
  },
  {
   "cell_type": "code",
   "execution_count": 84,
   "metadata": {
    "scrolled": false
   },
   "outputs": [
    {
     "name": "stdout",
     "output_type": "stream",
     "text": [
      "Generator(PCG64)\n"
     ]
    }
   ],
   "source": [
    "# https://numpy.org/devdocs/reference/random/index.html\n",
    "import numpy as np\n",
    "rng = np.random.default_rng(12345)\n",
    "print(rng)"
   ]
  },
  {
   "cell_type": "code",
   "execution_count": 85,
   "metadata": {},
   "outputs": [
    {
     "name": "stdout",
     "output_type": "stream",
     "text": [
      "SeedSequence(\n",
      "    entropy=1234,\n",
      "    n_children_spawned=10,\n",
      ")\n"
     ]
    }
   ],
   "source": [
    "# https://numpy.org/devdocs/reference/random/bit_generators/pcg64.html\n",
    "import numpy as np\n",
    "np.random.bit_generator = np.random._bit_generator\n",
    "from numpy.random import Generator, PCG64, SeedSequence\n",
    "sg = SeedSequence(1234)\n",
    "rg = [Generator(PCG64(s)) for s in sg.spawn(10)]\n",
    "print(sg)"
   ]
  },
  {
   "cell_type": "code",
   "execution_count": 86,
   "metadata": {},
   "outputs": [
    {
     "name": "stdout",
     "output_type": "stream",
     "text": [
      "[Generator(PCG64) at 0x5164628, Generator(PCG64) at 0x5164268, Generator(PCG64) at 0x51646E8, Generator(PCG64) at 0x51647A8, Generator(PCG64) at 0x5164868, Generator(PCG64) at 0x5164928, Generator(PCG64) at 0x51649E8, Generator(PCG64) at 0x5164AA8, Generator(PCG64) at 0x5164B68, Generator(PCG64) at 0x5164C28]\n"
     ]
    }
   ],
   "source": [
    "print(rg)"
   ]
  },
  {
   "cell_type": "code",
   "execution_count": 136,
   "metadata": {
    "scrolled": false
   },
   "outputs": [],
   "source": [
    "rfloat = rng.random()\n"
   ]
  },
  {
   "cell_type": "code",
   "execution_count": 88,
   "metadata": {
    "scrolled": false
   },
   "outputs": [
    {
     "data": {
      "text/plain": [
       "0.22733602246716966"
      ]
     },
     "execution_count": 88,
     "metadata": {},
     "output_type": "execute_result"
    }
   ],
   "source": [
    "rfloat\n"
   ]
  },
  {
   "cell_type": "code",
   "execution_count": 135,
   "metadata": {
    "scrolled": false
   },
   "outputs": [
    {
     "data": {
      "text/plain": [
       "float"
      ]
     },
     "execution_count": 135,
     "metadata": {},
     "output_type": "execute_result"
    }
   ],
   "source": [
    "type(rfloat) "
   ]
  },
  {
   "cell_type": "code",
   "execution_count": 89,
   "metadata": {
    "scrolled": false
   },
   "outputs": [
    {
     "data": {
      "text/plain": [
       "array([6, 2, 7], dtype=int64)"
      ]
     },
     "execution_count": 89,
     "metadata": {},
     "output_type": "execute_result"
    }
   ],
   "source": [
    "# https://numpy.org/devdocs/reference/random/index.html\n",
    "\n",
    "import numpy as np\n",
    "rng = np.random.default_rng(12345)\n",
    "rints = rng.integers(low=0, high=10, size=3)\n",
    "rints\n"
   ]
  },
  {
   "cell_type": "code",
   "execution_count": 91,
   "metadata": {
    "scrolled": false
   },
   "outputs": [
    {
     "name": "stdout",
     "output_type": "stream",
     "text": [
      "0.7973654573327341\n"
     ]
    }
   ],
   "source": [
    "print(rng.random())"
   ]
  },
  {
   "cell_type": "code",
   "execution_count": 92,
   "metadata": {
    "scrolled": false
   },
   "outputs": [
    {
     "name": "stdout",
     "output_type": "stream",
     "text": [
      "Generator(MT19937)\n"
     ]
    }
   ],
   "source": [
    "# https://numpy.org/devdocs/reference/random/index.html\n",
    "from numpy.random import Generator, MT19937\n",
    "rg = Generator(MT19937(12345))\n",
    "print(rg)"
   ]
  },
  {
   "cell_type": "code",
   "execution_count": 93,
   "metadata": {
    "scrolled": false
   },
   "outputs": [
    {
     "data": {
      "text/plain": [
       "0.4858241291915429"
      ]
     },
     "execution_count": 93,
     "metadata": {},
     "output_type": "execute_result"
    }
   ],
   "source": [
    "from numpy.random import Generator, PCG64\n",
    "rg = Generator(PCG64())\n",
    "rg.standard_normal()"
   ]
  },
  {
   "cell_type": "markdown",
   "metadata": {},
   "source": [
    "<cr>\n",
    "\n",
    "    "
   ]
  },
  {
   "cell_type": "markdown",
   "metadata": {},
   "source": [
    "### 4.3 How to seed with PCG Algorithm"
   ]
  },
  {
   "cell_type": "markdown",
   "metadata": {},
   "source": [
    "### 4.3.1 Simple random data\n",
    "### https://numpy.org/doc/stable/reference/random/generator.html"
   ]
  },
  {
   "cell_type": "markdown",
   "metadata": {},
   "source": [
    "#####  (a) numpy.random.Generator.integers\n",
    "##### https://numpy.org/doc/stable/reference/random/generated/numpy.random.Generator.integers.html#numpy.random.Generator.integers\n"
   ]
  },
  {
   "cell_type": "markdown",
   "metadata": {},
   "source": [
    "##### Generator.integers(low, high=None, size=None, dtype=np.int64, endpoint=False"
   ]
  },
  {
   "cell_type": "code",
   "execution_count": 94,
   "metadata": {
    "scrolled": false
   },
   "outputs": [
    {
     "data": {
      "text/plain": [
       "array([0, 0, 1, 0, 1, 0, 0, 0, 0, 0, 0, 1, 1, 0, 1, 1, 1, 0, 1, 1],\n",
       "      dtype=int64)"
      ]
     },
     "execution_count": 94,
     "metadata": {},
     "output_type": "execute_result"
    }
   ],
   "source": [
    "rng = np.random.default_rng()\n",
    "rng.integers(2, size=20)"
   ]
  },
  {
   "cell_type": "code",
   "execution_count": 95,
   "metadata": {
    "scrolled": false
   },
   "outputs": [
    {
     "data": {
      "text/plain": [
       "array([[6, 6, 6, 6],\n",
       "       [4, 9, 1, 4]], dtype=int64)"
      ]
     },
     "execution_count": 95,
     "metadata": {},
     "output_type": "execute_result"
    }
   ],
   "source": [
    "# Generate a 2 x 4 array of ints between 0 and 9, inclusive.\n",
    "rng.integers(10, size=(2, 4))\n",
    "\n"
   ]
  },
  {
   "cell_type": "code",
   "execution_count": 96,
   "metadata": {
    "scrolled": false
   },
   "outputs": [
    {
     "data": {
      "text/plain": [
       "array([1, 4, 7], dtype=int64)"
      ]
     },
     "execution_count": 96,
     "metadata": {},
     "output_type": "execute_result"
    }
   ],
   "source": [
    "# Generate a 1 x 3 array with 3 different upper bounds\n",
    "\n",
    "rng.integers(1, [3, 5, 10])"
   ]
  },
  {
   "cell_type": "code",
   "execution_count": 97,
   "metadata": {
    "scrolled": false
   },
   "outputs": [
    {
     "data": {
      "text/plain": [
       "array([2, 6, 9], dtype=int64)"
      ]
     },
     "execution_count": 97,
     "metadata": {},
     "output_type": "execute_result"
    }
   ],
   "source": [
    "# Generate a 1 by 3 array with 3 different lower bounds\n",
    "\n",
    "rng.integers([1, 5, 7], 10)"
   ]
  },
  {
   "cell_type": "code",
   "execution_count": 134,
   "metadata": {
    "scrolled": false
   },
   "outputs": [
    {
     "data": {
      "text/plain": [
       "array([[ 8,  3,  6,  8],\n",
       "       [10, 14, 17, 16]], dtype=uint8)"
      ]
     },
     "execution_count": 134,
     "metadata": {},
     "output_type": "execute_result"
    }
   ],
   "source": [
    "# Generate a 2 by 4 array using broadcasting with dtype of uint8\n",
    "rng.integers([1, 3, 5, 7], [[10], [20]], dtype=np.uint8)"
   ]
  },
  {
   "cell_type": "markdown",
   "metadata": {},
   "source": [
    "### (b) numpy.random.Generator.random\n",
    "#### Generator.random(size=None, dtype=np.float64, out=None)\n",
    "##### https://numpy.org/doc/stable/reference/random/generated/numpy.random.Generator.random.html#numpy.random.Generator.random"
   ]
  },
  {
   "cell_type": "code",
   "execution_count": 98,
   "metadata": {
    "scrolled": false
   },
   "outputs": [
    {
     "data": {
      "text/plain": [
       "0.09197209745708967"
      ]
     },
     "execution_count": 98,
     "metadata": {},
     "output_type": "execute_result"
    }
   ],
   "source": [
    "rng = np.random.default_rng()\n",
    "rng.random()"
   ]
  },
  {
   "cell_type": "code",
   "execution_count": 99,
   "metadata": {
    "scrolled": false
   },
   "outputs": [
    {
     "data": {
      "text/plain": [
       "float"
      ]
     },
     "execution_count": 99,
     "metadata": {},
     "output_type": "execute_result"
    }
   ],
   "source": [
    "type(rng.random())"
   ]
  },
  {
   "cell_type": "code",
   "execution_count": 100,
   "metadata": {
    "scrolled": false
   },
   "outputs": [
    {
     "data": {
      "text/plain": [
       "array([0.02141175, 0.32640835, 0.35968399, 0.30432687, 0.1258346 ])"
      ]
     },
     "execution_count": 100,
     "metadata": {},
     "output_type": "execute_result"
    }
   ],
   "source": [
    "rng.random((5,))"
   ]
  },
  {
   "cell_type": "code",
   "execution_count": 101,
   "metadata": {
    "scrolled": false
   },
   "outputs": [
    {
     "data": {
      "text/plain": [
       "array([[-3.91293734, -1.70862227],\n",
       "       [-1.01990168, -0.88597811],\n",
       "       [-4.01492223, -1.63365667]])"
      ]
     },
     "execution_count": 101,
     "metadata": {},
     "output_type": "execute_result"
    }
   ],
   "source": [
    "# Three-by-two array of random numbers from [-5, 0):\n",
    "5 * rng.random((3, 2)) - 5"
   ]
  },
  {
   "cell_type": "markdown",
   "metadata": {},
   "source": [
    "### (c) numpy.random.Generator.choice\n",
    "#### Generator.choice(a, size=None, replace=True, p=None, axis=0, shuffle=True)\n",
    "#### https://numpy.org/doc/stable/reference/random/generated/numpy.random.Generator.choice.html#numpy.random.Generator.choice"
   ]
  },
  {
   "cell_type": "markdown",
   "metadata": {},
   "source": [
    "Generates a random sample from a given 1-D array"
   ]
  },
  {
   "cell_type": "code",
   "execution_count": 102,
   "metadata": {
    "scrolled": false
   },
   "outputs": [
    {
     "data": {
      "text/plain": [
       "array([3, 4, 1], dtype=int64)"
      ]
     },
     "execution_count": 102,
     "metadata": {},
     "output_type": "execute_result"
    }
   ],
   "source": [
    "# Generate a uniform random sample from np.arange(5) of size 3:\n",
    "rng = np.random.default_rng()\n",
    "rng.choice(5, 3)\n",
    "#This is equivalent to rng.integers(0,5,3)"
   ]
  },
  {
   "cell_type": "code",
   "execution_count": 103,
   "metadata": {
    "scrolled": false
   },
   "outputs": [
    {
     "data": {
      "text/plain": [
       "array([3, 2, 3], dtype=int64)"
      ]
     },
     "execution_count": 103,
     "metadata": {},
     "output_type": "execute_result"
    }
   ],
   "source": [
    "# Generate a non-uniform random sample from np.arange(5) of size 3:\n",
    "rng.choice(5, 3, p=[0.1, 0, 0.3, 0.6, 0])"
   ]
  },
  {
   "cell_type": "code",
   "execution_count": 104,
   "metadata": {
    "scrolled": false
   },
   "outputs": [
    {
     "data": {
      "text/plain": [
       "array([4, 2, 1], dtype=int64)"
      ]
     },
     "execution_count": 104,
     "metadata": {},
     "output_type": "execute_result"
    }
   ],
   "source": [
    "# Generate a uniform random sample from np.arange(5) of size 3 without replacement:\n",
    "rng.choice(5, 3, replace=False)\n",
    "#This is equivalent to rng.permutation(np.arange(5))[:3]"
   ]
  },
  {
   "cell_type": "code",
   "execution_count": 133,
   "metadata": {
    "scrolled": false
   },
   "outputs": [
    {
     "data": {
      "text/plain": [
       "array([0, 3, 2], dtype=int64)"
      ]
     },
     "execution_count": 133,
     "metadata": {},
     "output_type": "execute_result"
    }
   ],
   "source": [
    "# Generate a non-uniform random sample from np.arange(5) of size 3 without replacement:\n",
    "rng.choice(5, 3, replace=False, p=[0.1, 0, 0.3, 0.6, 0])\n"
   ]
  },
  {
   "cell_type": "code",
   "execution_count": 105,
   "metadata": {
    "scrolled": false
   },
   "outputs": [
    {
     "data": {
      "text/plain": [
       "array(['pooh', 'Christopher', 'rabbit', 'pooh', 'pooh'], dtype='<U11')"
      ]
     },
     "execution_count": 105,
     "metadata": {},
     "output_type": "execute_result"
    }
   ],
   "source": [
    "# Any of the above can be repeated with an arbitrary array-like instead of just integers. For instance:\n",
    "\n",
    "aa_milne_arr = ['pooh', 'rabbit', 'piglet', 'Christopher']\n",
    "rng.choice(aa_milne_arr, 5, p=[0.5, 0.1, 0.1, 0.3])"
   ]
  },
  {
   "cell_type": "markdown",
   "metadata": {},
   "source": [
    "### (d) numpy.random.Generator.bytes\n",
    "#### Generator.bytes(length)\n",
    "#### https://numpy.org/doc/stable/reference/random/generated/numpy.random.Generator.bytes.html#numpy.random.Generator.bytes"
   ]
  },
  {
   "cell_type": "markdown",
   "metadata": {
    "scrolled": false
   },
   "source": [
    "Return random bytes."
   ]
  },
  {
   "cell_type": "code",
   "execution_count": 106,
   "metadata": {
    "scrolled": false
   },
   "outputs": [
    {
     "data": {
      "text/plain": [
       "b'\\xd9\\x07\\xde\\x04\\x84\\xdcoa8\\xcf'"
      ]
     },
     "execution_count": 106,
     "metadata": {},
     "output_type": "execute_result"
    }
   ],
   "source": [
    "np.random.default_rng().bytes(10)"
   ]
  },
  {
   "cell_type": "markdown",
   "metadata": {},
   "source": [
    "<cr>"
   ]
  },
  {
   "cell_type": "markdown",
   "metadata": {},
   "source": [
    "### 4.3.2. Permutations\n",
    "#### https://numpy.org/doc/stable/reference/random/generator.html#permutations\n"
   ]
  },
  {
   "cell_type": "markdown",
   "metadata": {},
   "source": [
    "#### (a) numpy.random.Generator.shuffle \n",
    "#### https://numpy.org/doc/stable/reference/random/generated/numpy.random.Generator.shuffle.html#numpy.random.Generator.shuffle"
   ]
  },
  {
   "cell_type": "markdown",
   "metadata": {},
   "source": [
    "Generator.shuffle(x, axis=0)\n",
    "Modify a sequence in-place by shuffling its contents."
   ]
  },
  {
   "cell_type": "code",
   "execution_count": 107,
   "metadata": {
    "scrolled": false
   },
   "outputs": [
    {
     "data": {
      "text/plain": [
       "array([9, 5, 2, 6, 1, 0, 8, 3, 4, 7])"
      ]
     },
     "execution_count": 107,
     "metadata": {},
     "output_type": "execute_result"
    }
   ],
   "source": [
    "rng = np.random.default_rng()\n",
    "arr = np.arange(10)\n",
    "rng.shuffle(arr)\n",
    "arr\n"
   ]
  },
  {
   "cell_type": "code",
   "execution_count": 108,
   "metadata": {
    "scrolled": false
   },
   "outputs": [
    {
     "data": {
      "text/plain": [
       "array([[6, 7, 8],\n",
       "       [3, 4, 5],\n",
       "       [0, 1, 2]])"
      ]
     },
     "execution_count": 108,
     "metadata": {},
     "output_type": "execute_result"
    }
   ],
   "source": [
    "arr = np.arange(9).reshape((3, 3))\n",
    "rng.shuffle(arr)\n",
    "arr"
   ]
  },
  {
   "cell_type": "code",
   "execution_count": 109,
   "metadata": {
    "scrolled": false
   },
   "outputs": [
    {
     "data": {
      "text/plain": [
       "array([[2, 0, 1],\n",
       "       [5, 3, 4],\n",
       "       [8, 6, 7]])"
      ]
     },
     "execution_count": 109,
     "metadata": {},
     "output_type": "execute_result"
    }
   ],
   "source": [
    "arr = np.arange(9).reshape((3, 3))\n",
    "rng.shuffle(arr, axis=1)\n",
    "arr"
   ]
  },
  {
   "cell_type": "markdown",
   "metadata": {},
   "source": [
    "<cr>"
   ]
  },
  {
   "cell_type": "markdown",
   "metadata": {},
   "source": [
    "#### (b) numpy.random.Generator. permutation \n",
    "https://numpy.org/doc/stable/reference/random/generated/numpy.random.Generator.permutation.html#numpy.random.Generator.permutation"
   ]
  },
  {
   "cell_type": "markdown",
   "metadata": {},
   "source": [
    "Randomly permute a sequence, or return a permuted range."
   ]
  },
  {
   "cell_type": "code",
   "execution_count": 110,
   "metadata": {
    "scrolled": false
   },
   "outputs": [
    {
     "data": {
      "text/plain": [
       "array([8, 7, 0, 4, 5, 6, 3, 9, 1, 2])"
      ]
     },
     "execution_count": 110,
     "metadata": {},
     "output_type": "execute_result"
    }
   ],
   "source": [
    "rng = np.random.default_rng()\n",
    "rng.permutation(10)"
   ]
  },
  {
   "cell_type": "code",
   "execution_count": 111,
   "metadata": {
    "scrolled": false
   },
   "outputs": [
    {
     "data": {
      "text/plain": [
       "array([ 9,  4, 12,  1, 15])"
      ]
     },
     "execution_count": 111,
     "metadata": {},
     "output_type": "execute_result"
    }
   ],
   "source": [
    "rng.permutation([1, 4, 9, 12, 15])"
   ]
  },
  {
   "cell_type": "code",
   "execution_count": 112,
   "metadata": {
    "scrolled": false
   },
   "outputs": [
    {
     "data": {
      "text/plain": [
       "array([[6, 7, 8],\n",
       "       [0, 1, 2],\n",
       "       [3, 4, 5]])"
      ]
     },
     "execution_count": 112,
     "metadata": {},
     "output_type": "execute_result"
    }
   ],
   "source": [
    "arr = np.arange(9).reshape((3, 3))\n",
    "rng.permutation(arr)"
   ]
  },
  {
   "cell_type": "code",
   "execution_count": 113,
   "metadata": {
    "scrolled": false
   },
   "outputs": [
    {
     "data": {
      "text/plain": [
       "array([[1, 2, 0],\n",
       "       [4, 5, 3],\n",
       "       [7, 8, 6]])"
      ]
     },
     "execution_count": 113,
     "metadata": {},
     "output_type": "execute_result"
    }
   ],
   "source": [
    "arr = np.arange(9).reshape((3, 3))\n",
    "rng.permutation(arr, axis=1)"
   ]
  },
  {
   "cell_type": "markdown",
   "metadata": {},
   "source": [
    "<cr>"
   ]
  },
  {
   "cell_type": "markdown",
   "metadata": {},
   "source": [
    "### 4.3.3 Distributions\n",
    "#### https://numpy.org/doc/stable/reference/random/generator.html#distributions"
   ]
  },
  {
   "cell_type": "markdown",
   "metadata": {},
   "source": [
    "### (a) numpy.random.Generator.logseries\n",
    "#### https://numpy.org/doc/stable/reference/random/generated/numpy.random.Generator.logseries.html#numpy-random-generator-logseries\n",
    "#### Generator.logseries(p, size=None)"
   ]
  },
  {
   "cell_type": "markdown",
   "metadata": {},
   "source": [
    "Draw samples from a logarithmic series distribution.\n",
    "Samples are drawn from a log series distribution with specified shape parameter, 0 < p < 1.\n"
   ]
  },
  {
   "cell_type": "code",
   "execution_count": 114,
   "metadata": {
    "scrolled": true
   },
   "outputs": [
    {
     "data": {
      "image/png": "[encoded data removed]",
      "text/plain": [
       "<Figure size 432x288 with 1 Axes>"
      ]
     },
     "metadata": {},
     "output_type": "display_data"
    }
   ],
   "source": [
    "# Draw samples from the distribution:\n",
    "import matplotlib.pyplot as plt\n",
    "a = .6\n",
    "s = np.random.default_rng().logseries(a, 10000)\n",
    "count, bins, ignored = plt.hist(s)\n",
    "plt.show()"
   ]
  },
  {
   "cell_type": "code",
   "execution_count": 115,
   "metadata": {
    "scrolled": true
   },
   "outputs": [
    {
     "data": {
      "image/png": "[encoded data removed]",
      "text/plain": [
       "<Figure size 432x288 with 1 Axes>"
      ]
     },
     "metadata": {},
     "output_type": "display_data"
    }
   ],
   "source": [
    "# plot against distribution\n",
    "\n",
    "def logseries(k, p):\n",
    "    return -p**k/(k*np.log(1-p))\n",
    "plt.plot(bins, logseries(bins, a) * count.max()/ logseries(bins, a).max(), 'r')\n",
    "plt.show()"
   ]
  },
  {
   "cell_type": "code",
   "execution_count": 116,
   "metadata": {
    "scrolled": true
   },
   "outputs": [
    {
     "data": {
      "image/png": "[encoded data removed]",
      "text/plain": [
       "<Figure size 432x288 with 1 Axes>"
      ]
     },
     "metadata": {},
     "output_type": "display_data"
    }
   ],
   "source": [
    "# Draw combination of samples from the distribution and plot against distribution\n",
    "\n",
    "a = .6\n",
    "s = np.random.default_rng().logseries(a, 10000)\n",
    "import matplotlib.pyplot as plt\n",
    "count, bins, ignored = plt.hist(s)\n",
    "\n",
    "# plot against distribution\n",
    "\n",
    "def logseries(k, p):\n",
    "    return -p**k/(k*np.log(1-p))\n",
    "plt.plot(bins, logseries(bins, a) * count.max()/logseries(bins, a).max(), 'b')\n",
    "plt.show()\n"
   ]
  },
  {
   "cell_type": "markdown",
   "metadata": {},
   "source": [
    "### (b) numpy.random.Generator.laplace\n",
    "#### Generator.laplace(loc=0.0, scale=1.0, size=None\n",
    "#### https://numpy.org/doc/stable/reference/random/generated/numpy.random.Generator.laplace.html#numpy.random.Generator.laplace"
   ]
  },
  {
   "cell_type": "markdown",
   "metadata": {},
   "source": [
    "Draw samples from the Laplace or double exponential distribution with specified location (or mean) and scale (decay).\n",
    "\n",
    "The Laplace distribution is similar to the Gaussian/normal distribution, but is sharper at the peak and has fatter tails. It represents the difference between two independent, identically distributed exponential random variables."
   ]
  },
  {
   "cell_type": "code",
   "execution_count": null,
   "metadata": {
    "scrolled": true
   },
   "outputs": [],
   "source": [
    "# Draw samples from the distribution\n",
    "\n",
    "loc, scale = 0., 1.\n",
    "s = np.random.default_rng().laplace(loc, scale, 1000)\n"
   ]
  },
  {
   "cell_type": "code",
   "execution_count": 117,
   "metadata": {
    "scrolled": true
   },
   "outputs": [
    {
     "data": {
      "text/plain": [
       "array([2, 1, 1, ..., 2, 1, 1], dtype=int64)"
      ]
     },
     "execution_count": 117,
     "metadata": {},
     "output_type": "execute_result"
    }
   ],
   "source": [
    "s"
   ]
  },
  {
   "cell_type": "code",
   "execution_count": 121,
   "metadata": {
    "scrolled": true
   },
   "outputs": [
    {
     "data": {
      "image/png": "[encoded data removed]",
      "text/plain": [
       "<Figure size 432x288 with 1 Axes>"
      ]
     },
     "metadata": {},
     "output_type": "display_data"
    }
   ],
   "source": [
    "# Plot Gaussian for comparison:\n",
    "\n",
    "import matplotlib.pyplot as plt\n",
    "loc, scale = 0., 1.\n",
    "s = np.random.default_rng().laplace(loc, scale, 1000)\n",
    "g = (1/(scale * np.sqrt(2 * np.pi)) * np.exp(-(x - loc)**2 / (2 * scale**2)))\n",
    "plt.plot(x,g)\n",
    "plt.show()"
   ]
  },
  {
   "cell_type": "code",
   "execution_count": 119,
   "metadata": {
    "scrolled": true
   },
   "outputs": [
    {
     "data": {
      "image/png": "[encoded data removed]",
      "text/plain": [
       "<Figure size 432x288 with 1 Axes>"
      ]
     },
     "metadata": {},
     "output_type": "display_data"
    }
   ],
   "source": [
    "# Display the histogram of the samples, along with the probability density function:\n",
    "\n",
    "import matplotlib.pyplot as plt\n",
    "count, bins, ignored = plt.hist(s, 30, density=True)\n",
    "x = np.arange(-8., 8., .01)\n",
    "pdf = np.exp(-abs(x-loc)/scale)/(2.*scale)\n",
    "plt.plot(x, pdf)\n",
    "plt.show()"
   ]
  },
  {
   "cell_type": "code",
   "execution_count": 120,
   "metadata": {
    "scrolled": true
   },
   "outputs": [
    {
     "data": {
      "image/png": "[encoded data removed]",
      "text/plain": [
       "<Figure size 432x288 with 1 Axes>"
      ]
     },
     "metadata": {},
     "output_type": "display_data"
    }
   ],
   "source": [
    "# A combination of la place(), Plot Gaussian and Histogram of the samples\n",
    "\n",
    "loc, scale = 0., 1.\n",
    "s = np.random.default_rng().laplace(loc, scale, 1000)\n",
    "# Plot Gaussian for comparison:\n",
    "g = (1/(scale * np.sqrt(2 * np.pi)) * np.exp(-(x - loc)**2 / (2 * scale**2)))\n",
    "plt.plot(x,g)\n",
    "# Display the histogram of the samples, along with the probability density function:\n",
    "import matplotlib.pyplot as plt\n",
    "count, bins, ignored = plt.hist(s, 30, density=True)\n",
    "x = np.arange(-8., 8., .01)\n",
    "pdf = np.exp(-abs(x-loc)/scale)/(2.*scale)\n",
    "plt.plot(x, pdf)\n",
    "plt.show()\n"
   ]
  },
  {
   "cell_type": "code",
   "execution_count": null,
   "metadata": {
    "scrolled": true
   },
   "outputs": [],
   "source": []
  },
  {
   "cell_type": "markdown",
   "metadata": {},
   "source": [
    "### (c) np.random.weibull\n",
    "https://numpy.org/devdocs/reference/random/generated/numpy.random.weibull.html"
   ]
  },
  {
   "cell_type": "code",
   "execution_count": 122,
   "metadata": {
    "scrolled": true
   },
   "outputs": [
    {
     "data": {
      "image/png": "[encoded data removed]",
      "text/plain": [
       "<Figure size 432x288 with 1 Axes>"
      ]
     },
     "metadata": {},
     "output_type": "display_data"
    }
   ],
   "source": [
    "# Display the histogram of the sample\n",
    "import numpy as np  \n",
    "import matplotlib.pyplot as plt  \n",
    "from scipy import special  \n",
    "x=2.0  \n",
    "s=np.random.weibull(x, 1000)  \n",
    "a = np.arange(1, 100.)/50.  \n",
    "def weib(x, n, a):  \n",
    "    return (a/n)*(x/n)**np.exp(-(x/n)**a)  \n",
    "count, bins, ignored = plt.hist(np.random.weibull(5.,1000))  \n",
    "a= np.arange(1,100.)/50.  \n",
    "scale = count.max()/weib(x, 1., 5.).max()  \n",
    "scale = count.max()/weib(a, 1., 5.).max()  \n",
    "plt.plot(x, weib(x, 1., 5.)*scale)  \n",
    "plt.show()  \n"
   ]
  },
  {
   "cell_type": "code",
   "execution_count": 27,
   "metadata": {},
   "outputs": [
    {
     "name": "stdout",
     "output_type": "stream",
     "text": [
      "[0.84131694 0.67015347 0.93879012 1.01983907 0.8570584  0.85689815\n",
      " 0.9047723  0.89588319 1.02633428 0.42149299 1.14822984 1.2623604\n",
      " 1.00794127 0.86794568 0.86119633 0.84733844 0.89603912 0.81208783\n",
      " 0.9711114  0.48951793 0.62297314 0.91143019 1.15505777 0.89679308\n",
      " 1.03040955 1.2720212  0.99390822 0.97259883 0.83162168 0.96460869\n",
      " 0.59172419 1.06061585 0.89492546 1.00690504 0.91854152 0.74467285\n",
      " 1.00698579 0.52379557 1.0173785  0.84084131 0.92016177 0.64105745\n",
      " 0.98723395 1.2319827  0.64241297 0.69832636 1.12524925 0.59615127\n",
      " 1.10493207 1.21875231 0.52561915 1.14406992 0.53398704 0.72539686\n",
      " 0.7829313  0.71367692 0.90336039 0.6372035  0.67153602 0.58570273\n",
      " 1.13150779 0.94727592 1.10949991 1.39803117 1.17545207 0.90454804\n",
      " 0.66871699 0.50349657 0.64200872 0.93735684 0.90110451 0.81052857\n",
      " 0.77247562 0.99625383 0.93496381 0.81608441 0.70312948 1.06022765\n",
      " 1.14150728 0.97339933 0.73195724 1.12531076 0.89522905 0.94933356\n",
      " 0.75653235 1.11152678 0.53072026 1.17468637 0.59826556 1.15521797\n",
      " 0.82567258 0.73142989 0.9249217  1.07369269 0.8469691  0.85604197\n",
      " 0.74003405 1.01204826 0.78203686 0.99382331]\n"
     ]
    }
   ],
   "source": [
    "# Draw samples from the distribution:\n",
    "\n",
    "a = 5. # shape\n",
    "s = np.random.weibull(a, 100)\n",
    "print(s)\n"
   ]
  },
  {
   "cell_type": "code",
   "execution_count": 124,
   "metadata": {},
   "outputs": [
    {
     "data": {
      "image/png": "[encoded data removed]",
      "text/plain": [
       "<Figure size 432x288 with 1 Axes>"
      ]
     },
     "metadata": {},
     "output_type": "display_data"
    }
   ],
   "source": [
    "\n",
    "# Display the histogram of the samples, along with the probability density function:\n",
    "\n",
    "import matplotlib.pyplot as plt\n",
    "x = np.arange(1,100.)/50.\n",
    "def weib(x,n,a):\n",
    "    return (a / n) * (x / n)**(a - 1) * np.exp(-(x / n)**a)\n",
    "count, bins, ignored = plt.hist(np.random.weibull(5.,1000))\n",
    "x = np.arange(1,100.)/50.\n",
    "scale = count.max()/weib(x, 1., 5.).max()\n",
    "plt.plot(x, weib(x, 1., 5.)*scale)\n",
    "plt.style.use(\"ggplot\")\n",
    "plt.show()\n"
   ]
  },
  {
   "cell_type": "markdown",
   "metadata": {},
   "source": [
    "### (d)numpy.random.Generator.rayleigh\n",
    "### Generator.rayleigh(scale=1.0, size=None)\n",
    "#### https://numpy.org/doc/stable/reference/random/generated/numpy.random.Generator.rayleigh.html#numpy.random.Generator.rayleigh"
   ]
  },
  {
   "cell_type": "markdown",
   "metadata": {},
   "source": [
    "Draw values from the distribution and plot the histogram"
   ]
  },
  {
   "cell_type": "code",
   "execution_count": 31,
   "metadata": {
    "scrolled": false
   },
   "outputs": [
    {
     "data": {
      "image/png": "[encoded data removed]",
      "text/plain": [
       "<Figure size 432x288 with 1 Axes>"
      ]
     },
     "metadata": {},
     "output_type": "display_data"
    }
   ],
   "source": [
    "from matplotlib.pyplot import hist\n",
    "rng = np.random.default_rng()\n",
    "values = hist(rng.rayleigh(3, 1000), bins=200, density=True)\n",
    "plt.show()"
   ]
  },
  {
   "cell_type": "code",
   "execution_count": null,
   "metadata": {
    "scrolled": true
   },
   "outputs": [],
   "source": [
    "# Wave heights tend to follow a Rayleigh distribution. \n",
    "# If the mean wave height is 1 meter, what fraction of waves are likely to be larger than 3 meters?\n",
    "meanvalue = 1\n",
    "modevalue = np.sqrt(2 / np.pi) * meanvalue\n",
    "s = rng.rayleigh(modevalue, 1000)\n",
    "\n",
    "# The percentage of waves larger than 3 meters is:\n",
    "100.*sum(s>3)/1000."
   ]
  },
  {
   "cell_type": "code",
   "execution_count": 32,
   "metadata": {
    "scrolled": true
   },
   "outputs": [
    {
     "data": {
      "text/plain": [
       "array([0.69192259, 0.36801395, 1.20756068, 0.82276097, 1.68627714,\n",
       "       1.05998314, 1.24817819, 2.05011592, 1.6185929 , 0.75179053,\n",
       "       0.82677943, 0.17706084, 0.2471708 , 1.72888533, 0.60361893,\n",
       "       0.46859527, 0.48116805, 0.95260916, 1.19029267, 0.47186623,\n",
       "       1.47467061, 1.45882276, 0.84615839, 1.84359861, 1.13224823,\n",
       "       0.7918423 , 1.33956623, 0.6675031 , 0.05753328, 0.92593088,\n",
       "       1.58211339, 2.97764588, 1.64362843, 0.36915097, 2.09644136,\n",
       "       0.68308381, 1.25919217, 0.68863399, 2.72014804, 0.59369185,\n",
       "       0.57010345, 1.23611695, 0.9266182 , 1.78087671, 0.45812258,\n",
       "       0.36402956, 1.24649115, 1.96681146, 0.78622368, 0.61911314,\n",
       "       0.7573272 , 0.73283759, 0.87467167, 1.43782615, 1.59210163,\n",
       "       2.43847435, 1.22969487, 0.58706123, 0.66222039, 1.04291873,\n",
       "       0.89428529, 0.68110927, 0.85712456, 1.54694394, 1.86362131,\n",
       "       1.41554157, 0.46541185, 0.55898015, 0.31434138, 1.74349947,\n",
       "       1.53516119, 0.16464192, 0.25068247, 1.44562322, 1.06565121,\n",
       "       0.53855061, 1.2683468 , 0.84978525, 0.6250932 , 0.97102489,\n",
       "       1.21221315, 0.50268018, 0.48852785, 1.15083357, 1.74902204,\n",
       "       0.43174411, 1.54992858, 0.82248952, 1.19426204, 0.24546365,\n",
       "       0.26659773, 0.84489506, 0.27808101, 0.41347617, 0.81803307,\n",
       "       0.33296978, 1.30799031, 1.57548022, 0.36149983, 0.84837307,\n",
       "       0.22985251, 1.49402571, 1.14495644, 1.1180444 , 0.99446764,\n",
       "       1.59349479, 1.11621551, 0.58520747, 2.46747828, 1.36041402,\n",
       "       0.38107731, 1.07816004, 1.77240882, 0.87709947, 0.9467429 ,\n",
       "       0.84887334, 0.66763759, 0.18129312, 0.26259532, 1.3317643 ,\n",
       "       1.08227704, 1.40531139, 0.62773331, 1.21148731, 0.7941331 ,\n",
       "       0.68781565, 0.65093598, 1.32974841, 1.40997195, 1.31687915,\n",
       "       0.41321586, 2.16515885, 1.17071003, 2.05930053, 1.12263659,\n",
       "       1.55787534, 1.60028444, 0.11193798, 2.74023462, 0.29588928,\n",
       "       1.81830141, 0.39456681, 0.79201245, 0.6382971 , 0.81251402,\n",
       "       1.86154334, 0.12154132, 2.34891385, 0.57221107, 0.2136811 ,\n",
       "       1.72860065, 0.41246119, 1.69114253, 1.35118233, 0.52065133,\n",
       "       0.98851526, 1.1079047 , 0.54812165, 0.59067992, 0.15966442,\n",
       "       1.62472505, 0.12862499, 1.35443698, 0.86764091, 1.32424164,\n",
       "       1.06808275, 0.55700114, 1.03411401, 1.03825647, 0.78882596,\n",
       "       1.07784686, 1.02705963, 1.08194544, 1.36359428, 0.99239954,\n",
       "       0.61365135, 1.93032684, 1.62634495, 1.95553814, 1.38829885,\n",
       "       0.93124613, 1.16496206, 0.68571905, 0.05896082, 0.7462858 ,\n",
       "       0.98682422, 0.66365609, 2.68190742, 1.00358487, 0.36922231,\n",
       "       1.19579545, 0.97236292, 1.4055888 , 1.32717358, 1.54312143,\n",
       "       1.54258512, 0.86140899, 0.38142569, 0.54493158, 0.78962773,\n",
       "       0.3481651 , 1.08084688, 0.12667733, 1.63472367, 1.06039361,\n",
       "       1.48741498, 0.7362426 , 0.44471559, 0.67880734, 0.89790335,\n",
       "       1.30878639, 2.37862116, 1.37194883, 1.00736108, 1.29016125,\n",
       "       1.9925007 , 0.44380066, 1.6863034 , 1.03230456, 0.48492167,\n",
       "       1.29769319, 2.1951885 , 0.69077212, 1.05557968, 0.77562905,\n",
       "       0.71505766, 1.05984195, 0.6864775 , 1.0488773 , 1.97919669,\n",
       "       0.58102956, 1.15838101, 0.6120379 , 0.43866131, 0.60510194,\n",
       "       0.44530459, 0.71783358, 1.06949304, 0.69623762, 0.62134166,\n",
       "       1.10057818, 0.3510383 , 1.94145457, 2.05366582, 0.5648726 ,\n",
       "       1.30564914, 0.61024426, 0.89715909, 0.47909952, 1.97898048,\n",
       "       1.01282304, 1.17462112, 0.4551726 , 1.81681247, 0.88995569,\n",
       "       1.27184171, 0.32934829, 0.86624139, 0.60876389, 0.93822381,\n",
       "       1.16178509, 0.84779686, 0.53122858, 0.93213587, 0.70302055,\n",
       "       0.4898262 , 0.30793218, 0.50868804, 0.48449512, 1.10245236,\n",
       "       1.48403137, 1.00165703, 2.07976702, 0.43583869, 1.22694804,\n",
       "       1.51938401, 1.70853822, 0.93499938, 1.10427308, 1.04078123,\n",
       "       0.61169002, 1.01946623, 1.02686735, 1.07035435, 1.45653519,\n",
       "       0.38567735, 1.25359854, 0.92710283, 0.20879701, 1.31016447,\n",
       "       1.8510447 , 0.92447123, 1.13393875, 0.66821494, 1.04034614,\n",
       "       0.58716653, 1.26403196, 1.26532536, 0.2500823 , 0.89381792,\n",
       "       0.76405803, 1.44030877, 1.32538139, 1.13035853, 0.7590364 ,\n",
       "       0.54137503, 1.33860212, 1.23954325, 2.07479193, 1.13502056,\n",
       "       0.37543892, 0.35417034, 0.23000832, 1.04457282, 0.40496524,\n",
       "       0.94588366, 0.80949787, 1.105214  , 1.05423429, 0.94233023,\n",
       "       0.97962267, 0.87524342, 1.36752202, 2.07461308, 1.29785861,\n",
       "       1.77948032, 1.47758184, 0.8753061 , 0.34071457, 1.20072353,\n",
       "       0.25309163, 0.80510461, 0.58241212, 0.87106223, 1.71297219,\n",
       "       1.64194518, 0.55170047, 0.9532001 , 0.3976275 , 1.31845154,\n",
       "       0.74334833, 0.62805549, 0.22991917, 0.30619296, 1.25106511,\n",
       "       1.1216159 , 1.45419172, 0.92179456, 0.84348319, 1.57192123,\n",
       "       0.28604723, 0.70711752, 1.48040704, 1.59138409, 1.57036503,\n",
       "       0.5308276 , 0.85132799, 0.2014485 , 1.00028101, 1.46582379,\n",
       "       1.23973185, 1.54846967, 0.94362835, 0.46395104, 0.27002047,\n",
       "       0.88184836, 1.97378929, 0.80747658, 0.67970406, 0.56414915,\n",
       "       0.55822045, 2.18582668, 0.79211389, 0.32164808, 1.01943802,\n",
       "       1.33845705, 0.80801405, 0.35647372, 0.3758928 , 1.44705821,\n",
       "       1.64389211, 1.18591236, 1.07659081, 1.02049405, 2.10540217,\n",
       "       1.37817485, 0.84631568, 0.50555799, 0.95962542, 0.82711731,\n",
       "       0.52535397, 0.77269176, 0.96603875, 0.71126856, 0.91764423,\n",
       "       1.15140677, 0.45258109, 0.54634268, 0.88863404, 0.84151123,\n",
       "       0.44379917, 1.33760803, 0.7283285 , 0.57425243, 0.75191301,\n",
       "       1.71700615, 1.32276898, 1.11642018, 0.18439364, 0.71716286,\n",
       "       0.88940461, 0.60385178, 1.58692011, 1.53273506, 1.01049918,\n",
       "       0.26425382, 1.51365369, 1.57277911, 0.55567801, 0.30354401,\n",
       "       0.67793612, 0.77194553, 1.07778656, 2.14680178, 1.01352966,\n",
       "       0.30834637, 1.44190343, 1.37907815, 1.70373474, 0.98662009,\n",
       "       1.37768269, 0.60142832, 1.02324282, 0.72465466, 1.89210933,\n",
       "       0.51134162, 0.36632615, 0.50066194, 1.26855188, 2.26191935,\n",
       "       0.37143541, 1.51983019, 1.93023546, 1.19207654, 1.01503652,\n",
       "       1.76169457, 0.72583316, 2.96278409, 0.57525431, 0.64867993,\n",
       "       1.28017922, 1.93783783, 0.97381462, 1.87384461, 0.05267487,\n",
       "       0.12425567, 0.65603469, 0.69243923, 1.03235089, 1.13143046,\n",
       "       0.58189245, 1.35567268, 0.9477096 , 0.40054095, 1.30042792,\n",
       "       0.67262329, 0.54728588, 1.40943325, 0.27285221, 1.16088413,\n",
       "       0.1971536 , 0.43924015, 0.65895232, 1.33841485, 1.29533488,\n",
       "       0.52311025, 1.3833833 , 1.19144745, 1.32234621, 0.51816289,\n",
       "       1.24965699, 1.06511299, 1.74375526, 1.27402106, 1.11330468,\n",
       "       0.73025151, 0.54678113, 0.55525903, 0.55331802, 1.04610091,\n",
       "       0.98569542, 0.72570802, 0.84188415, 1.11427432, 0.90629065,\n",
       "       0.31655544, 2.0905515 , 1.56160295, 0.76457441, 1.40487106,\n",
       "       0.79696136, 0.36233471, 1.25835785, 0.38182552, 0.38053445,\n",
       "       0.95161847, 0.8822025 , 1.55243704, 0.42945968, 1.37411458,\n",
       "       1.3677899 , 0.303768  , 0.3729955 , 1.18550428, 0.79737663,\n",
       "       0.86731538, 1.36554849, 1.12956596, 1.16857861, 0.80797342,\n",
       "       1.5441817 , 1.39947375, 0.83340762, 0.66362103, 0.5514553 ,\n",
       "       0.89529155, 0.96309239, 0.6477916 , 1.09982675, 1.13352811,\n",
       "       0.29837342, 0.55599104, 0.92357987, 1.31131783, 0.62684072,\n",
       "       0.06232407, 1.18018848, 0.49021169, 2.01280114, 0.55645663,\n",
       "       0.93378665, 0.94599724, 1.02240676, 0.6053409 , 0.74003234,\n",
       "       2.0830106 , 1.47971431, 0.92078181, 0.58725648, 0.16330255,\n",
       "       0.569433  , 1.1899018 , 0.98564401, 1.2802333 , 0.37972263,\n",
       "       1.31450478, 1.39740693, 0.76363063, 1.0290978 , 0.11166534,\n",
       "       1.00329913, 0.38349244, 1.53185246, 1.40618598, 0.55098432,\n",
       "       0.87531868, 0.98297764, 1.81350536, 0.41782603, 1.50932951,\n",
       "       0.65802099, 0.44347565, 0.81470654, 0.5597785 , 1.3073626 ,\n",
       "       2.60004451, 1.53081776, 0.97792464, 1.33301987, 0.95098477,\n",
       "       0.74943064, 1.13285069, 1.30712947, 0.53792272, 1.79679925,\n",
       "       1.1776787 , 1.8228127 , 0.93352357, 0.20748097, 0.3879397 ,\n",
       "       1.61535642, 0.68030668, 0.60267596, 1.06592996, 1.02420336,\n",
       "       0.22652692, 0.84412975, 0.12362389, 0.86715051, 0.78775589,\n",
       "       1.57326216, 0.83685631, 0.3747975 , 0.44347675, 2.07081239,\n",
       "       0.55964246, 0.18733004, 0.74910796, 0.64628454, 1.55521536,\n",
       "       1.34318973, 1.269905  , 0.95737606, 0.75237156, 0.91621974,\n",
       "       1.85891374, 0.88985961, 0.11992242, 1.34867502, 0.80030352,\n",
       "       0.91275802, 0.54318544, 0.36209528, 1.95993987, 1.03786654,\n",
       "       0.92913994, 0.67445441, 1.35266409, 0.80706853, 1.24155755,\n",
       "       0.33443115, 0.48881597, 0.98049639, 0.79268541, 1.19340066,\n",
       "       1.05261987, 1.26154152, 0.12158742, 1.19804975, 0.79183712,\n",
       "       0.61608715, 1.00602486, 1.03882998, 0.74668087, 1.56504952,\n",
       "       0.34212831, 1.74639905, 1.28805143, 0.56233999, 0.99526002,\n",
       "       1.31674212, 1.80279866, 1.19409218, 0.72989913, 1.0268209 ,\n",
       "       0.57405972, 1.01382536, 0.40432744, 0.78094837, 0.77148159,\n",
       "       1.3289766 , 0.60996716, 0.66716841, 1.7868108 , 0.37413329,\n",
       "       1.2163602 , 1.33234409, 0.90613921, 1.44926434, 1.08506299,\n",
       "       1.77165577, 0.79452398, 1.36200141, 0.85141233, 1.03038595,\n",
       "       0.36533417, 0.79596783, 0.60725472, 1.23480635, 0.79724082,\n",
       "       0.40126636, 1.43283888, 0.89806545, 1.88686697, 0.97292109,\n",
       "       0.9325922 , 1.81506384, 1.92560234, 2.2469887 , 0.65167756,\n",
       "       1.14083342, 1.26777438, 0.08497376, 0.91199603, 1.79394544,\n",
       "       1.03859998, 0.56227982, 1.22105518, 1.05475446, 1.30789529,\n",
       "       1.68469013, 1.1261544 , 0.73100758, 1.10880651, 0.83111248,\n",
       "       0.41335115, 0.2572013 , 0.43562993, 0.82410242, 1.61494953,\n",
       "       1.47032335, 0.52865414, 0.41631883, 0.76175673, 2.35872034,\n",
       "       0.43497447, 0.9616586 , 1.85205696, 1.73011056, 1.74048267,\n",
       "       0.93094429, 1.94670252, 0.80851941, 0.67029558, 0.23705649,\n",
       "       2.39157   , 1.04609807, 0.28150915, 1.42400661, 0.65739502,\n",
       "       0.12238742, 0.55979847, 0.77378519, 0.96713649, 1.16603392,\n",
       "       1.69281062, 0.9439612 , 2.10152445, 0.27741599, 0.37449886,\n",
       "       0.72447544, 0.93868629, 1.04648427, 0.87134175, 0.80146345,\n",
       "       1.32716464, 0.56294497, 0.17868804, 0.78817587, 0.89242096,\n",
       "       1.14256849, 1.77990848, 0.95747149, 0.72387623, 1.80678471,\n",
       "       0.60089643, 1.13257419, 1.11483516, 1.7629238 , 0.90055622,\n",
       "       0.86460045, 0.82869866, 0.64732662, 1.29231903, 1.96289542,\n",
       "       0.20741003, 1.03548939, 1.38161027, 1.35673887, 0.39390963,\n",
       "       1.18598951, 0.37980958, 0.94660302, 1.1169379 , 0.99468471,\n",
       "       0.99800897, 1.24608217, 1.66129499, 1.21446369, 1.24944547,\n",
       "       1.28259492, 0.37006249, 1.05507621, 0.31927636, 1.23747811,\n",
       "       0.23909178, 0.26467507, 1.02666711, 0.3404689 , 1.03854384,\n",
       "       1.74341415, 1.14867588, 2.66020738, 1.46501243, 1.14406996,\n",
       "       1.03789258, 0.68757678, 0.35436644, 0.75266645, 0.92706243,\n",
       "       0.95911139, 1.10790451, 1.18087687, 2.0391884 , 0.42297708,\n",
       "       1.55538482, 0.53343203, 0.71521674, 1.87823356, 1.37292867,\n",
       "       1.61714439, 1.76578905, 1.72091677, 1.16123255, 1.49102018,\n",
       "       1.35553337, 0.7378603 , 0.91518014, 2.61759137, 0.80192467,\n",
       "       0.30755327, 1.30782953, 1.05164383, 0.71264208, 1.26925124,\n",
       "       1.26219042, 1.5182112 , 1.98789274, 2.04497426, 1.2456405 ,\n",
       "       1.34315928, 0.38320967, 0.84497904, 0.36859767, 0.22942141,\n",
       "       1.14976158, 0.71744447, 0.78629258, 0.54665134, 2.6385455 ,\n",
       "       0.73226886, 1.15321439, 0.62660989, 0.51993058, 0.6803367 ,\n",
       "       0.9939616 , 0.70108502, 0.38431088, 1.29604999, 1.22949554,\n",
       "       0.9722153 , 0.97599814, 0.80827425, 1.34061264, 1.40619402,\n",
       "       0.57946843, 0.50945022, 0.73130644, 1.35524405, 2.94272961,\n",
       "       0.43258729, 0.16974202, 0.84998311, 1.35711841, 0.66996027,\n",
       "       2.32395266, 0.34263349, 1.00999375, 0.44025032, 0.47003343,\n",
       "       1.35361205, 1.85630187, 1.37704194, 1.01953312, 1.32137775,\n",
       "       1.85668661, 1.81060861, 0.25417284, 0.96402974, 0.95112555,\n",
       "       0.40867055, 0.51706566, 0.42442479, 0.34458635, 2.16895649,\n",
       "       0.78388478, 1.32709429, 0.24976172, 1.19171959, 1.54844229,\n",
       "       0.43497725, 0.65858211, 1.68489701, 2.20727381, 0.84548991,\n",
       "       1.71776142, 0.9794157 , 0.98535698, 0.9886156 , 1.35989553,\n",
       "       1.11681424, 0.94279877, 1.30580962, 1.09084828, 1.42681078,\n",
       "       1.25095954, 0.94280811, 1.4780087 , 0.38940119, 0.44618938,\n",
       "       1.15036091, 1.04566269, 1.1311491 , 1.09803383, 0.93387279,\n",
       "       1.36968836, 0.57650239, 0.93560023, 0.77260555, 0.25112754,\n",
       "       0.17246713, 0.45587176, 0.91775188, 1.15493224, 2.01790471,\n",
       "       0.51426223, 0.68112563, 0.42024045, 0.50727539, 0.4143301 ,\n",
       "       0.74745168, 0.49528031, 2.58873145, 0.79006903, 1.07115381,\n",
       "       1.3006693 , 0.64155218, 1.77433043, 0.29652184, 1.26925094,\n",
       "       0.16937573, 1.12823799, 1.2633765 , 1.13618204, 1.46524984,\n",
       "       0.35068555, 2.03812881, 1.6549057 , 1.13393225, 0.77012427,\n",
       "       0.71264606, 0.32378957, 0.11085647, 1.31303997, 1.42222911,\n",
       "       0.55876007, 0.38912468, 0.7323151 , 0.63431449, 1.81764326,\n",
       "       1.21603909, 0.33030817, 1.3974427 , 0.39633055, 1.47496114,\n",
       "       0.82920044, 1.37657857, 1.02139311, 0.67421218, 0.22344055,\n",
       "       1.12362415, 1.3280408 , 0.75767195, 1.79471017, 1.18235814,\n",
       "       0.63225804, 0.17451948, 1.30095572, 1.63532708, 0.90121896,\n",
       "       0.42121615, 1.92551638, 1.67032233, 0.23561297, 0.89020095,\n",
       "       0.74751256, 0.28715512, 1.3472369 , 0.67146656, 0.27216287,\n",
       "       2.94052315, 0.44167337, 1.10857994, 1.70033857, 1.68039719,\n",
       "       1.29372397, 0.87291588, 0.54218658, 0.93519994, 0.90071717])"
      ]
     },
     "execution_count": 32,
     "metadata": {},
     "output_type": "execute_result"
    }
   ],
   "source": [
    "s"
   ]
  },
  {
   "cell_type": "code",
   "execution_count": 33,
   "metadata": {
    "scrolled": true
   },
   "outputs": [
    {
     "data": {
      "text/plain": [
       "1"
      ]
     },
     "execution_count": 33,
     "metadata": {},
     "output_type": "execute_result"
    }
   ],
   "source": [
    "meanvalue = 1\n",
    "meanvalue"
   ]
  },
  {
   "cell_type": "code",
   "execution_count": 34,
   "metadata": {
    "scrolled": true
   },
   "outputs": [
    {
     "data": {
      "text/plain": [
       "0.7978845608028654"
      ]
     },
     "execution_count": 34,
     "metadata": {},
     "output_type": "execute_result"
    }
   ],
   "source": [
    "modevalue = np.sqrt(2 / np.pi) * meanvalue\n",
    "modevalue"
   ]
  },
  {
   "cell_type": "markdown",
   "metadata": {},
   "source": [
    "### (e)numpy.random.Generator.zipf\n",
    "\n",
    "#### https://numpy.org/doc/stable/reference/random/generated/numpy.random.Generator.zipf.html#numpy-random-generator-zipf\n"
   ]
  },
  {
   "cell_type": "markdown",
   "metadata": {},
   "source": [
    "### Generator.zipf(a, size=None)"
   ]
  },
  {
   "cell_type": "markdown",
   "metadata": {},
   "source": [
    "Draw samples from a Zipf distribution."
   ]
  },
  {
   "cell_type": "code",
   "execution_count": 40,
   "metadata": {
    "scrolled": false
   },
   "outputs": [],
   "source": [
    "# Draw samples from the distribution:\n",
    "a = 2. # parameter\n",
    "s = np.random.default_rng().zipf(a, 1000)"
   ]
  },
  {
   "cell_type": "code",
   "execution_count": 41,
   "metadata": {
    "scrolled": true
   },
   "outputs": [
    {
     "data": {
      "text/plain": [
       "array([386,   2,   1,   1,   1,   1,   3,   1,   1,   1,   1,   1,   1,\n",
       "        33,   1,   1,   3,   1,   1,   3,   2,   1,   3,   5,   1,   1,\n",
       "         1,   1,   1,   6,   5,   2,   1,   1,  11,   1,   1,   1,   1,\n",
       "         2,   2,  11,  93,   2,   3,   1,   3,   1,   1,   2,   1,   1,\n",
       "         2,   2,   1,   1,   1,  32,   1,   1,   1,   1,   4,   3,   3,\n",
       "        63,   3,   2,   6,   1,  49,   1,   2,   1,   1,   8,   1,   1,\n",
       "         1,   4,   7,   7,   2,   6,   1,   1,   1,   1,   1,   1,   5,\n",
       "         1,   1,   2,   1,   4,   2,   4,   2,   1,   4,   1,   1,   1,\n",
       "         1,   2,   3,   1,   2,   2,   2,   1,   1,   4,   2,   1,   1,\n",
       "         1,   2,   1,   2,   1,   5,   1,   1,   2,   2,   1,   1,  73,\n",
       "         1,   1,  12,   4,   1,  14,   1,   1,   1,   3,   2,   1,   3,\n",
       "         1,   2,   1,   1,   3,   6,   2,   1,   4,   9, 121,   3,   1,\n",
       "        26,   1,   1,   2,   4,   8,   1,   1,   1,   1,   2,   1,   6,\n",
       "         1,   1,   2,   1,   1,   1,   1,   1,   3,   1,   1,   3,   1,\n",
       "         1,   1,   1,   1,   5,   1,   3,   1,   2,   2,   1,   5,   1,\n",
       "         1,   3,   1,   4,   1,   2,   1,   2,   2,   2,   1,   1,   2,\n",
       "         1,   2,   1,   1,   1,   2,  12,   2,   1,   1,   1,   1,   1,\n",
       "         1,   3,   1,   2,   1,   1,   2,   1,   3,   1,   1,   1,   1,\n",
       "         7,   1,   1,   2,   2,   1,   1,  14,   2,   1,   1,   2,   1,\n",
       "         2,   4,   1,   2,   5,   1,   1,  12,   1,   3,   1,   3,   1,\n",
       "         1,   1,   1,   1,   1,   2,   1,   1,   1,  22,   4,   1,   1,\n",
       "         1,   6,   1,   1,   3,   2,   1,   1,   1,   1,   8,   3,   1,\n",
       "        12,   4,   1,   1,   2,   2,  10,   4,   2,   1,   3,   1,   4,\n",
       "         1,  11,   2,   1,   1,   1,   1,   1,   5,   6,   2,  28,   3,\n",
       "         1,   1,  10,   4,   1,   1,   1,   4,   1,   1,   4,   2,  16,\n",
       "         1,   1,   1,   1,   1,   1,  10,   1,  10,  21,   8,   5,  38,\n",
       "         1,   1,   1,   1,   1,   1,   1,   2,   1,   1,   3,  10,   4,\n",
       "         1,   1,   2,   2,   1,   1,   1,   1,   1,  12,   1,   1,   6,\n",
       "         1,  75,   2,  11,   1,   1,   1,   1,   1,  19,   4,   1,   1,\n",
       "         1,   5,   1,   1,   2,   1,   1,   6,   2,   1,   2,   3,   1,\n",
       "         1,   3,   1,   6,   3,   1,   1,   1,   1,   1,   3,   1,   1,\n",
       "         1,   1,   1,   8,   2,   2,   2,   1, 216,   1,   1,   1,   1,\n",
       "         1,   2,   1,   2,   1,   1,   2,   7,   1,   3,   3,   1,   1,\n",
       "         3,   1,   1,   1,   1,  56,   2,   1,   5,   7,   1,   1,   3,\n",
       "         1,   2,   7, 569,   1,   1,   1,   1,   1,   5,   2,   1,   1,\n",
       "         1,   1,   2,   3,   1,  25,  26,   1,   1,   1,   1,   9,   1,\n",
       "         1,   1,   1,   2,   3,   1,   1,   1,   6,   1,   1,   1,   1,\n",
       "         1,   1,   1,   1,   1,   1,   1,   1,   1,   1,   1,   1,   1,\n",
       "         3,   1,   1,   1,   1,   2,   1,   1,   1,   1,   3,   2,   1,\n",
       "         2,   2,   2,   7,   4,   1,   2,   2,   2,   6,   1,   2,  15,\n",
       "         3,   1,   1,   1,   1,   3,   1,  11,   1,   2,   1,   3,  14,\n",
       "         1,   3,   3,   1,   5,   4,   1,   1,   2,   1,   1,   1,   3,\n",
       "         1,   1,   2,   1,   1,   1,   1,   2,   1,   1,   2,   2,   2,\n",
       "         2,   1,   3,   1,   1,   1,   2,   1,   1,   1,   1,   8,   2,\n",
       "        61,   1,   8,   1,   1,   2,   1,  12,   4,   2,   1,   1,   1,\n",
       "         5,   1,   1,   1,   1,   2,   6,   1,   1,   1,  18,   1,   1,\n",
       "         1,   1,   1,   2,   1,   1,   1,   3,   1,   4,   1,   1,   2,\n",
       "         5,   3,   2,   2,   1,   2,   3,   3,   1,  13,   1,   2,   1,\n",
       "         3,   2,   1,   1,   1,   1,   1,   1,   1,   1,   2,   1,   1,\n",
       "         1,   1,   1,   1,   1,   1,   1,   1,   7,   1,   1,   4,   2,\n",
       "         2,   1,   1,   1,   6,   1,  98,  49,   1,   1,   1,   1,   2,\n",
       "         1,   4,   1,   1,   1,   2,   1,   1,   1,   2,   1,   1,   1,\n",
       "         1,   1,   1,   1,   3,   4,   1,   1,   1,   1,   1,   1,  11,\n",
       "         1,   4,   1,   1,   2,   3,   1,   1,   7,   1,   1,   1,   1,\n",
       "         1,   4,   3,   1,  18,   1,   2,   2,   1,   1,   1,   8,   1,\n",
       "         2,   2,   1,   1,   1,   1,   1,   4,   1,   2,   1,   1,   1,\n",
       "         1,   1,   1,   3,   1,   2,   1,   2,   2,   2,   1,   2,   4,\n",
       "         1,   1,   1,   2,   1,   1,   1,   2,   3,   2,  14,   2,  44,\n",
       "         1,   1,   1,   1,   2,  15,  16,   1,   1,   2,   2,   2,   2,\n",
       "         2,   2,   3,   1,   1,   1,   1,   2,   2,   1,   1,   6,   1,\n",
       "         1,   5,   3,   2,   1,   1,  13,   2,   2,   1,   5,   3,   1,\n",
       "         1,   3,   4,   4,   1,   1,   1,   1,   1,   1,  22,   1,   3,\n",
       "         1,   1,   1,   1,   3,   3,   1,   1,   1,   1,   3,   2,   1,\n",
       "         1,   1,   1,   1,   1,   5,   2,   4,   1,   1,   1,   1,   1,\n",
       "         1,   4,   1,   1,   1,   1,   1,   3,   1,   1,   9,   1,   1,\n",
       "         2,   2,   2,   1,   4,   2,   2,   2,   2,   1,   1,   1,   3,\n",
       "         1,   4,   1,   6,   2,   1,   1,   5,  13,   1,   5,   5,   1,\n",
       "         1,   1,   2,   1,   3,   1,   1,   1,   1,   3,   1,   1,   1,\n",
       "         1,   9,   1,   3,  20,   1,   1,   3,   2,  33,   1,   1,   1,\n",
       "         2,   1,   1,   1,   1,   1,   1,  62,   3,   9,   7,   1,   2,\n",
       "         2,   3,   1,   1,   1,   1,   1,   3,   2,   1,   1,   3,   1,\n",
       "         1,   1,   1,   1,   1,   2,   1,   3,   2,   1,   1,   2,   2,\n",
       "         3,   1,   4,   1,   6,   1,   1,  17,   4,   4,   1,   1,   1,\n",
       "         1,   1,   1,   1,   2,   1,   3,   1,   1,   1,   1,   1,   1,\n",
       "         1,   1,   1,   1,   1,   1,   1,   1,   1,   1,   1,   3,   1,\n",
       "         1,  11,   1,   1,   1,   7,   1,   1,   1,   2,   3,   2,   1,\n",
       "         1,   1,   1,   1,   1,   3,   5,   1,  17,   1,  22,   1],\n",
       "      dtype=int64)"
      ]
     },
     "execution_count": 41,
     "metadata": {},
     "output_type": "execute_result"
    }
   ],
   "source": [
    "s"
   ]
  },
  {
   "cell_type": "code",
   "execution_count": 42,
   "metadata": {
    "scrolled": false
   },
   "outputs": [
    {
     "data": {
      "image/png": "[encoded data removed]",
      "text/plain": [
       "<Figure size 432x288 with 1 Axes>"
      ]
     },
     "metadata": {},
     "output_type": "display_data"
    }
   ],
   "source": [
    "# Display the histogram of the samples, along with the probability density function:\n",
    "import matplotlib.pyplot as plt\n",
    "from scipy import special  \n",
    "# Truncate s values at 100 so plot is interesting:\n",
    "count, bins, ignored = plt.hist(s[s<100], 100, density=True)\n",
    "x = np.arange(1., 100.)\n",
    "y = x**(-a) / special.zetac(a)  \n",
    "plt.plot(x, y/max(y), linewidth=2, color='b')  \n",
    "plt.show()\n",
    "\n"
   ]
  },
  {
   "cell_type": "code",
   "execution_count": null,
   "metadata": {
    "scrolled": false
   },
   "outputs": [],
   "source": []
  },
  {
   "cell_type": "code",
   "execution_count": 43,
   "metadata": {
    "scrolled": true
   },
   "outputs": [
    {
     "data": {
      "image/png": "[encoded data removed]",
      "text/plain": [
       "<Figure size 432x288 with 1 Axes>"
      ]
     },
     "metadata": {},
     "output_type": "display_data"
    }
   ],
   "source": [
    "# https://www.javatpoint.com/numpy-random\n",
    "# Display the histogram of the samples, along with the probability density function: \n",
    "import numpy as np  \n",
    "import matplotlib.pyplot as plt  \n",
    "from scipy import special  \n",
    "x=2.0  \n",
    "s=np.random.zipf(x, 1000)  \n",
    "count, bins, ignored = plt.hist(s[s<50], 50, density=True)  \n",
    "a = np.arange(1., 50.)  \n",
    "b= a**(-x) / special.zetac(x)  \n",
    "plt.plot(a, b/max(b), linewidth=2, color='g')  \n",
    "plt.show()  \n"
   ]
  },
  {
   "cell_type": "markdown",
   "metadata": {
    "scrolled": true
   },
   "source": [
    "<cr>"
   ]
  },
  {
   "cell_type": "markdown",
   "metadata": {
    "scrolled": false
   },
   "source": [
    "***"
   ]
  },
  {
   "cell_type": "code",
   "execution_count": null,
   "metadata": {},
   "outputs": [],
   "source": []
  }
 ],
 "metadata": {
  "kernelspec": {
   "display_name": "Python 3",
   "language": "python",
   "name": "python3"
  },
  "language_info": {
   "codemirror_mode": {
    "name": "ipython",
    "version": 3
   },
   "file_extension": ".py",
   "mimetype": "text/x-python",
   "name": "python",
   "nbconvert_exporter": "python",
   "pygments_lexer": "ipython3",
   "version": "3.8.3"
  }
 },
 "nbformat": 4,
 "nbformat_minor": 2
}
